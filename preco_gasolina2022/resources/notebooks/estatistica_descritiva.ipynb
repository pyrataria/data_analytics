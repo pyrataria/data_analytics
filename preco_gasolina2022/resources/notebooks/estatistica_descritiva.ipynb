{
  "nbformat": 4,
  "nbformat_minor": 0,
  "metadata": {
    "colab": {
      "provenance": []
    },
    "kernelspec": {
      "name": "python3",
      "display_name": "Python 3"
    },
    "language_info": {
      "name": "python"
    }
  },
  "cells": [
    {
      "cell_type": "markdown",
      "source": [
        "Projeto de análise descritiva, sobre o preço da gasolina comum no ano de 2022, nos postos Automoto - Automóveis do Amapá, com base em 12 conjuntos de dados, disponível na \"[Série Histórica de Preços de Combustíveis](https://dados.gov.br/dados/conjuntos-dados/serie-historica-de-precos-de-combustiveis-por-revenda)\", do Portal de Dados Abertos do governo."
      ],
      "metadata": {
        "id": "lkswDE1oNnXS"
      }
    },
    {
      "cell_type": "markdown",
      "source": [
        "# IDENTIFICAÇÃO DA POPULAÇÃO DO ESTUDO E DAS VARIÁVEIS DE INTERESSE\n",
        "A população de estudo será dada com base nos dados dos postos Automoto no estado do Amapá."
      ],
      "metadata": {
        "id": "i6Hht0TAPwGO"
      }
    },
    {
      "cell_type": "markdown",
      "source": [
        "## Manipulação de Dados\n",
        "A biblioteca para manipulação de dados a ser utilizada neste projeto será o pandas."
      ],
      "metadata": {
        "id": "yaacFh-nQVsE"
      }
    },
    {
      "cell_type": "markdown",
      "source": [
        "### Importação do Pandas e leitura dos dataframes"
      ],
      "metadata": {
        "id": "aEH0oGbCSfeC"
      }
    },
    {
      "cell_type": "code",
      "execution_count": null,
      "metadata": {
        "id": "01jRP4m_dUVs"
      },
      "outputs": [],
      "source": [
        "import pandas as pd"
      ]
    },
    {
      "cell_type": "markdown",
      "source": [
        "Serão utilizados 12 conjuntos de dados para o estudo, que serão concatenados em um único dataframe posteriormente."
      ],
      "metadata": {
        "id": "dfTqEAuLS--p"
      }
    },
    {
      "cell_type": "code",
      "source": [
        "df_jan = pd.read_csv(\"/content/drive/MyDrive/estudo_etanol_gasolina_comum2022/precos-gasolina-etanol-01.csv\",\n",
        "                 sep=';')\n",
        "df_jan.head()"
      ],
      "metadata": {
        "id": "fb_tG1SLdgOB",
        "colab": {
          "base_uri": "https://localhost:8080/",
          "height": 545
        },
        "outputId": "ce3bfb8c-edb9-4fba-9aa7-5dea9a9d14e9"
      },
      "execution_count": null,
      "outputs": [
        {
          "output_type": "execute_result",
          "data": {
            "text/plain": [
              "  Regiao - Sigla Estado - Sigla   Municipio                    Revenda  \\\n",
              "0              N             AC  RIO BRANCO  AUTO POSTO AMAPA - EIRELI   \n",
              "1              N             AC  RIO BRANCO  AUTO POSTO AMAPA - EIRELI   \n",
              "2              N             AC  RIO BRANCO  AUTO POSTO AMAPA - EIRELI   \n",
              "3              N             AC  RIO BRANCO     AUTO POSTO ACAUAN LTDA   \n",
              "4              N             AC  RIO BRANCO     AUTO POSTO ACAUAN LTDA   \n",
              "\n",
              "       CNPJ da Revenda       Nome da Rua Numero Rua Complemento     Bairro  \\\n",
              "0   00.529.581/0001-53  VIA CHICO MENDES       3570         NaN      AREAL   \n",
              "1   00.529.581/0001-53  VIA CHICO MENDES       3570         NaN      AREAL   \n",
              "2   00.529.581/0001-53  VIA CHICO MENDES       3570         NaN      AREAL   \n",
              "3   00.524.999/0001-78     RODOVIA AC 40       1800         NaN  VILA ACRE   \n",
              "4   00.524.999/0001-78     RODOVIA AC 40       1800         NaN  VILA ACRE   \n",
              "\n",
              "         Cep             Produto Data da Coleta Valor de Venda  \\\n",
              "0  69906-119            GASOLINA     03/01/2022           6,99   \n",
              "1  69906-119              ETANOL     03/01/2022           5,99   \n",
              "2  69906-119  GASOLINA ADITIVADA     03/01/2022           7,05   \n",
              "3  69902-450            GASOLINA     03/01/2022           6,99   \n",
              "4  69902-450              ETANOL     03/01/2022           6,12   \n",
              "\n",
              "   Valor de Compra Unidade de Medida       Bandeira  \n",
              "0              NaN        R$ / litro  VIBRA ENERGIA  \n",
              "1              NaN        R$ / litro  VIBRA ENERGIA  \n",
              "2              NaN        R$ / litro  VIBRA ENERGIA  \n",
              "3              NaN        R$ / litro  VIBRA ENERGIA  \n",
              "4              NaN        R$ / litro  VIBRA ENERGIA  "
            ],
            "text/html": [
              "\n",
              "  <div id=\"df-2cf1ba5e-be86-4dd5-b17e-fb413a317afc\">\n",
              "    <div class=\"colab-df-container\">\n",
              "      <div>\n",
              "<style scoped>\n",
              "    .dataframe tbody tr th:only-of-type {\n",
              "        vertical-align: middle;\n",
              "    }\n",
              "\n",
              "    .dataframe tbody tr th {\n",
              "        vertical-align: top;\n",
              "    }\n",
              "\n",
              "    .dataframe thead th {\n",
              "        text-align: right;\n",
              "    }\n",
              "</style>\n",
              "<table border=\"1\" class=\"dataframe\">\n",
              "  <thead>\n",
              "    <tr style=\"text-align: right;\">\n",
              "      <th></th>\n",
              "      <th>Regiao - Sigla</th>\n",
              "      <th>Estado - Sigla</th>\n",
              "      <th>Municipio</th>\n",
              "      <th>Revenda</th>\n",
              "      <th>CNPJ da Revenda</th>\n",
              "      <th>Nome da Rua</th>\n",
              "      <th>Numero Rua</th>\n",
              "      <th>Complemento</th>\n",
              "      <th>Bairro</th>\n",
              "      <th>Cep</th>\n",
              "      <th>Produto</th>\n",
              "      <th>Data da Coleta</th>\n",
              "      <th>Valor de Venda</th>\n",
              "      <th>Valor de Compra</th>\n",
              "      <th>Unidade de Medida</th>\n",
              "      <th>Bandeira</th>\n",
              "    </tr>\n",
              "  </thead>\n",
              "  <tbody>\n",
              "    <tr>\n",
              "      <th>0</th>\n",
              "      <td>N</td>\n",
              "      <td>AC</td>\n",
              "      <td>RIO BRANCO</td>\n",
              "      <td>AUTO POSTO AMAPA - EIRELI</td>\n",
              "      <td>00.529.581/0001-53</td>\n",
              "      <td>VIA CHICO MENDES</td>\n",
              "      <td>3570</td>\n",
              "      <td>NaN</td>\n",
              "      <td>AREAL</td>\n",
              "      <td>69906-119</td>\n",
              "      <td>GASOLINA</td>\n",
              "      <td>03/01/2022</td>\n",
              "      <td>6,99</td>\n",
              "      <td>NaN</td>\n",
              "      <td>R$ / litro</td>\n",
              "      <td>VIBRA ENERGIA</td>\n",
              "    </tr>\n",
              "    <tr>\n",
              "      <th>1</th>\n",
              "      <td>N</td>\n",
              "      <td>AC</td>\n",
              "      <td>RIO BRANCO</td>\n",
              "      <td>AUTO POSTO AMAPA - EIRELI</td>\n",
              "      <td>00.529.581/0001-53</td>\n",
              "      <td>VIA CHICO MENDES</td>\n",
              "      <td>3570</td>\n",
              "      <td>NaN</td>\n",
              "      <td>AREAL</td>\n",
              "      <td>69906-119</td>\n",
              "      <td>ETANOL</td>\n",
              "      <td>03/01/2022</td>\n",
              "      <td>5,99</td>\n",
              "      <td>NaN</td>\n",
              "      <td>R$ / litro</td>\n",
              "      <td>VIBRA ENERGIA</td>\n",
              "    </tr>\n",
              "    <tr>\n",
              "      <th>2</th>\n",
              "      <td>N</td>\n",
              "      <td>AC</td>\n",
              "      <td>RIO BRANCO</td>\n",
              "      <td>AUTO POSTO AMAPA - EIRELI</td>\n",
              "      <td>00.529.581/0001-53</td>\n",
              "      <td>VIA CHICO MENDES</td>\n",
              "      <td>3570</td>\n",
              "      <td>NaN</td>\n",
              "      <td>AREAL</td>\n",
              "      <td>69906-119</td>\n",
              "      <td>GASOLINA ADITIVADA</td>\n",
              "      <td>03/01/2022</td>\n",
              "      <td>7,05</td>\n",
              "      <td>NaN</td>\n",
              "      <td>R$ / litro</td>\n",
              "      <td>VIBRA ENERGIA</td>\n",
              "    </tr>\n",
              "    <tr>\n",
              "      <th>3</th>\n",
              "      <td>N</td>\n",
              "      <td>AC</td>\n",
              "      <td>RIO BRANCO</td>\n",
              "      <td>AUTO POSTO ACAUAN LTDA</td>\n",
              "      <td>00.524.999/0001-78</td>\n",
              "      <td>RODOVIA AC 40</td>\n",
              "      <td>1800</td>\n",
              "      <td>NaN</td>\n",
              "      <td>VILA ACRE</td>\n",
              "      <td>69902-450</td>\n",
              "      <td>GASOLINA</td>\n",
              "      <td>03/01/2022</td>\n",
              "      <td>6,99</td>\n",
              "      <td>NaN</td>\n",
              "      <td>R$ / litro</td>\n",
              "      <td>VIBRA ENERGIA</td>\n",
              "    </tr>\n",
              "    <tr>\n",
              "      <th>4</th>\n",
              "      <td>N</td>\n",
              "      <td>AC</td>\n",
              "      <td>RIO BRANCO</td>\n",
              "      <td>AUTO POSTO ACAUAN LTDA</td>\n",
              "      <td>00.524.999/0001-78</td>\n",
              "      <td>RODOVIA AC 40</td>\n",
              "      <td>1800</td>\n",
              "      <td>NaN</td>\n",
              "      <td>VILA ACRE</td>\n",
              "      <td>69902-450</td>\n",
              "      <td>ETANOL</td>\n",
              "      <td>03/01/2022</td>\n",
              "      <td>6,12</td>\n",
              "      <td>NaN</td>\n",
              "      <td>R$ / litro</td>\n",
              "      <td>VIBRA ENERGIA</td>\n",
              "    </tr>\n",
              "  </tbody>\n",
              "</table>\n",
              "</div>\n",
              "      <button class=\"colab-df-convert\" onclick=\"convertToInteractive('df-2cf1ba5e-be86-4dd5-b17e-fb413a317afc')\"\n",
              "              title=\"Convert this dataframe to an interactive table.\"\n",
              "              style=\"display:none;\">\n",
              "        \n",
              "  <svg xmlns=\"http://www.w3.org/2000/svg\" height=\"24px\"viewBox=\"0 0 24 24\"\n",
              "       width=\"24px\">\n",
              "    <path d=\"M0 0h24v24H0V0z\" fill=\"none\"/>\n",
              "    <path d=\"M18.56 5.44l.94 2.06.94-2.06 2.06-.94-2.06-.94-.94-2.06-.94 2.06-2.06.94zm-11 1L8.5 8.5l.94-2.06 2.06-.94-2.06-.94L8.5 2.5l-.94 2.06-2.06.94zm10 10l.94 2.06.94-2.06 2.06-.94-2.06-.94-.94-2.06-.94 2.06-2.06.94z\"/><path d=\"M17.41 7.96l-1.37-1.37c-.4-.4-.92-.59-1.43-.59-.52 0-1.04.2-1.43.59L10.3 9.45l-7.72 7.72c-.78.78-.78 2.05 0 2.83L4 21.41c.39.39.9.59 1.41.59.51 0 1.02-.2 1.41-.59l7.78-7.78 2.81-2.81c.8-.78.8-2.07 0-2.86zM5.41 20L4 18.59l7.72-7.72 1.47 1.35L5.41 20z\"/>\n",
              "  </svg>\n",
              "      </button>\n",
              "      \n",
              "  <style>\n",
              "    .colab-df-container {\n",
              "      display:flex;\n",
              "      flex-wrap:wrap;\n",
              "      gap: 12px;\n",
              "    }\n",
              "\n",
              "    .colab-df-convert {\n",
              "      background-color: #E8F0FE;\n",
              "      border: none;\n",
              "      border-radius: 50%;\n",
              "      cursor: pointer;\n",
              "      display: none;\n",
              "      fill: #1967D2;\n",
              "      height: 32px;\n",
              "      padding: 0 0 0 0;\n",
              "      width: 32px;\n",
              "    }\n",
              "\n",
              "    .colab-df-convert:hover {\n",
              "      background-color: #E2EBFA;\n",
              "      box-shadow: 0px 1px 2px rgba(60, 64, 67, 0.3), 0px 1px 3px 1px rgba(60, 64, 67, 0.15);\n",
              "      fill: #174EA6;\n",
              "    }\n",
              "\n",
              "    [theme=dark] .colab-df-convert {\n",
              "      background-color: #3B4455;\n",
              "      fill: #D2E3FC;\n",
              "    }\n",
              "\n",
              "    [theme=dark] .colab-df-convert:hover {\n",
              "      background-color: #434B5C;\n",
              "      box-shadow: 0px 1px 3px 1px rgba(0, 0, 0, 0.15);\n",
              "      filter: drop-shadow(0px 1px 2px rgba(0, 0, 0, 0.3));\n",
              "      fill: #FFFFFF;\n",
              "    }\n",
              "  </style>\n",
              "\n",
              "      <script>\n",
              "        const buttonEl =\n",
              "          document.querySelector('#df-2cf1ba5e-be86-4dd5-b17e-fb413a317afc button.colab-df-convert');\n",
              "        buttonEl.style.display =\n",
              "          google.colab.kernel.accessAllowed ? 'block' : 'none';\n",
              "\n",
              "        async function convertToInteractive(key) {\n",
              "          const element = document.querySelector('#df-2cf1ba5e-be86-4dd5-b17e-fb413a317afc');\n",
              "          const dataTable =\n",
              "            await google.colab.kernel.invokeFunction('convertToInteractive',\n",
              "                                                     [key], {});\n",
              "          if (!dataTable) return;\n",
              "\n",
              "          const docLinkHtml = 'Like what you see? Visit the ' +\n",
              "            '<a target=\"_blank\" href=https://colab.research.google.com/notebooks/data_table.ipynb>data table notebook</a>'\n",
              "            + ' to learn more about interactive tables.';\n",
              "          element.innerHTML = '';\n",
              "          dataTable['output_type'] = 'display_data';\n",
              "          await google.colab.output.renderOutput(dataTable, element);\n",
              "          const docLink = document.createElement('div');\n",
              "          docLink.innerHTML = docLinkHtml;\n",
              "          element.appendChild(docLink);\n",
              "        }\n",
              "      </script>\n",
              "    </div>\n",
              "  </div>\n",
              "  "
            ]
          },
          "metadata": {},
          "execution_count": 2
        }
      ]
    },
    {
      "cell_type": "code",
      "source": [
        "df_fev = pd.read_csv(\"/content/drive/MyDrive/estudo_etanol_gasolina_comum2022/precos-gasolina-etanol-02.csv\",\n",
        "                 sep=';')\n",
        "df_mar = pd.read_csv(\"/content/drive/MyDrive/estudo_etanol_gasolina_comum2022/precos-gasolina-etanol-03.csv\",\n",
        "                 sep=';')\n",
        "df_abr = pd.read_csv(\"/content/drive/MyDrive/estudo_etanol_gasolina_comum2022/precos-gasolina-etanol-04.csv\",\n",
        "                 sep=';')\n",
        "df_mai = pd.read_csv(\"/content/drive/MyDrive/estudo_etanol_gasolina_comum2022/precos-gasolina-etanol-05.csv\",\n",
        "                 sep=';')\n",
        "df_jun = pd.read_csv(\"/content/drive/MyDrive/estudo_etanol_gasolina_comum2022/precos-gasolina-etanol-06.csv\",\n",
        "                 sep=';')\n",
        "df_jul = pd.read_csv(\"/content/drive/MyDrive/estudo_etanol_gasolina_comum2022/precos-gasolina-etanol-07.csv\",\n",
        "                 sep=';')\n",
        "df_ago = pd.read_csv(\"/content/drive/MyDrive/estudo_etanol_gasolina_comum2022/precos-gasolina-etanol-08.csv\",\n",
        "                 sep=';')\n",
        "df_set = pd.read_csv(\"/content/drive/MyDrive/estudo_etanol_gasolina_comum2022/precos-gasolina-etanol-09.csv\",\n",
        "                 encoding=\"iso-8859-1\", sep=';')\n",
        "df_out = pd.read_csv(\"/content/drive/MyDrive/estudo_etanol_gasolina_comum2022/precos-gasolina-etanol-10.csv\",\n",
        "                 sep=';')\n",
        "df_nov = pd.read_csv(\"/content/drive/MyDrive/estudo_etanol_gasolina_comum2022/precos-gasolina-etanol-11.csv\",\n",
        "                 encoding=\"iso-8859-1\", sep=';')\n",
        "df_dez = pd.read_csv(\"/content/drive/MyDrive/estudo_etanol_gasolina_comum2022/precos-gasolina-etanol-12.csv\",\n",
        "                 sep=';')"
      ],
      "metadata": {
        "id": "mHkka5Z4TWJt"
      },
      "execution_count": null,
      "outputs": []
    },
    {
      "cell_type": "markdown",
      "source": [
        "### Organização dos dados\n",
        "Os quadros de dados serão ordenados pela variável `Data da Coleta`, que contém a data em que o registro foi feito."
      ],
      "metadata": {
        "id": "exsWuQa3TZt-"
      }
    },
    {
      "cell_type": "code",
      "source": [
        "frames = [df_jan, df_fev, df_mar, df_abr, df_mai, df_jun, df_jul, df_ago,\n",
        "          df_set, df_out, df_nov, df_dez]"
      ],
      "metadata": {
        "id": "VRN3ojI4fS9q"
      },
      "execution_count": null,
      "outputs": []
    },
    {
      "cell_type": "code",
      "source": [
        "frames_ord = [frame.sort_values(by=\"Data da Coleta\") for frame in frames]"
      ],
      "metadata": {
        "id": "jO-HKTPVYi0n"
      },
      "execution_count": null,
      "outputs": []
    },
    {
      "cell_type": "code",
      "source": [
        "df = pd.concat(frames_ord)\n",
        "df"
      ],
      "metadata": {
        "id": "4iOSriGXY-ht",
        "colab": {
          "base_uri": "https://localhost:8080/",
          "height": 1000
        },
        "outputId": "d8a4a09c-0305-4ba6-8bf1-f7708d556cf0"
      },
      "execution_count": null,
      "outputs": [
        {
          "output_type": "execute_result",
          "data": {
            "text/plain": [
              "      Regiao - Sigla Estado - Sigla    Municipio  \\\n",
              "0                  N             AC   RIO BRANCO   \n",
              "1890              SE             MG     MANHUACU   \n",
              "1891              SE             SP  SANTO ANDRE   \n",
              "1892              SE             SP  SANTO ANDRE   \n",
              "1893              SE             SP  SANTO ANDRE   \n",
              "...              ...            ...          ...   \n",
              "34797              S             SC     BLUMENAU   \n",
              "34798              S             SC     BLUMENAU   \n",
              "28962              S             SC     BLUMENAU   \n",
              "28964              S             SC     BLUMENAU   \n",
              "35379              S             SC     BLUMENAU   \n",
              "\n",
              "                                  Revenda      CNPJ da Revenda  \\\n",
              "0               AUTO POSTO AMAPA - EIRELI   00.529.581/0001-53   \n",
              "1890               AUTO POSTO ITAUNA LTDA   13.005.663/0001-40   \n",
              "1891   POSTO DE GASOLINA MONTE CARLO LTDA   13.007.891/0001-50   \n",
              "1892   POSTO DE GASOLINA MONTE CARLO LTDA   13.007.891/0001-50   \n",
              "1893   POSTO DE GASOLINA MONTE CARLO LTDA   13.007.891/0001-50   \n",
              "...                                   ...                  ...   \n",
              "34797                AUTO POSTO M.L. LTDA   21.375.918/0001-95   \n",
              "34798                AUTO POSTO M.L. LTDA   21.375.918/0001-95   \n",
              "28962          AUTO POSTO BELA JOIA LTDA.   07.825.040/0001-11   \n",
              "28964             AUTO POSTO BLU LIMITADA   07.134.578/0001-80   \n",
              "35379              REDE DE POSTOS R4 LTDA   03.283.593/0006-43   \n",
              "\n",
              "                Nome da Rua Numero Rua Complemento                   Bairro  \\\n",
              "0          VIA CHICO MENDES       3570         NaN                    AREAL   \n",
              "1890     RUA LUIZ CERQUEIRA         55         NaN                   CENTRO   \n",
              "1891      RUA JORGE BERETTA        960      TERREO  PARQUE ERASMO ASSSUNCAO   \n",
              "1892      RUA JORGE BERETTA        960      TERREO  PARQUE ERASMO ASSSUNCAO   \n",
              "1893      RUA JORGE BERETTA        960      TERREO  PARQUE ERASMO ASSSUNCAO   \n",
              "...                     ...        ...         ...                      ...   \n",
              "34797         RUA SAO PAULO       3149         NaN            ITOUPAVA SECA   \n",
              "34798         RUA SAO PAULO       3149         NaN            ITOUPAVA SECA   \n",
              "28962  RUA ANTONIO DA VEIGA        740      FRENTE            VICTOR KONDER   \n",
              "28964  RUA SETE DE SETEMBRO       2093      FRENTE                   CENTRO   \n",
              "35379       RUA DAS MISSOES       2426         NaN           NOVA ESPERANCA   \n",
              "\n",
              "             Cep             Produto Data da Coleta Valor de Venda  \\\n",
              "0      69906-119            GASOLINA     03/01/2022           6,99   \n",
              "1890   36900-085  GASOLINA ADITIVADA     03/01/2022          7,489   \n",
              "1891   09271-400            GASOLINA     03/01/2022          6,397   \n",
              "1892   09271-400              ETANOL     03/01/2022          4,997   \n",
              "1893   09271-400  GASOLINA ADITIVADA     03/01/2022          6,597   \n",
              "...          ...                 ...            ...            ...   \n",
              "34797  89010-000  GASOLINA ADITIVADA     30/12/2022           5,32   \n",
              "34798  89010-000            GASOLINA     30/12/2022           5,12   \n",
              "28962  89012-500              ETANOL     30/12/2022           4,59   \n",
              "28964  89012-401            GASOLINA     30/12/2022           4,49   \n",
              "35379  89051-305  GASOLINA ADITIVADA     30/12/2022           5,31   \n",
              "\n",
              "       Valor de Compra Unidade de Medida       Bandeira  \n",
              "0                  NaN        R$ / litro  VIBRA ENERGIA  \n",
              "1890               NaN        R$ / litro  VIBRA ENERGIA  \n",
              "1891               NaN        R$ / litro       IPIRANGA  \n",
              "1892               NaN        R$ / litro       IPIRANGA  \n",
              "1893               NaN        R$ / litro       IPIRANGA  \n",
              "...                ...               ...            ...  \n",
              "34797              NaN        R$ / litro    RAIZEN MIME  \n",
              "34798              NaN        R$ / litro    RAIZEN MIME  \n",
              "28962              NaN        R$ / litro    RAIZEN MIME  \n",
              "28964              NaN        R$ / litro       IPIRANGA  \n",
              "35379              NaN        R$ / litro  VIBRA ENERGIA  \n",
              "\n",
              "[603015 rows x 16 columns]"
            ],
            "text/html": [
              "\n",
              "  <div id=\"df-23fba1e2-fd66-4410-8b2c-669381bb1a0b\">\n",
              "    <div class=\"colab-df-container\">\n",
              "      <div>\n",
              "<style scoped>\n",
              "    .dataframe tbody tr th:only-of-type {\n",
              "        vertical-align: middle;\n",
              "    }\n",
              "\n",
              "    .dataframe tbody tr th {\n",
              "        vertical-align: top;\n",
              "    }\n",
              "\n",
              "    .dataframe thead th {\n",
              "        text-align: right;\n",
              "    }\n",
              "</style>\n",
              "<table border=\"1\" class=\"dataframe\">\n",
              "  <thead>\n",
              "    <tr style=\"text-align: right;\">\n",
              "      <th></th>\n",
              "      <th>Regiao - Sigla</th>\n",
              "      <th>Estado - Sigla</th>\n",
              "      <th>Municipio</th>\n",
              "      <th>Revenda</th>\n",
              "      <th>CNPJ da Revenda</th>\n",
              "      <th>Nome da Rua</th>\n",
              "      <th>Numero Rua</th>\n",
              "      <th>Complemento</th>\n",
              "      <th>Bairro</th>\n",
              "      <th>Cep</th>\n",
              "      <th>Produto</th>\n",
              "      <th>Data da Coleta</th>\n",
              "      <th>Valor de Venda</th>\n",
              "      <th>Valor de Compra</th>\n",
              "      <th>Unidade de Medida</th>\n",
              "      <th>Bandeira</th>\n",
              "    </tr>\n",
              "  </thead>\n",
              "  <tbody>\n",
              "    <tr>\n",
              "      <th>0</th>\n",
              "      <td>N</td>\n",
              "      <td>AC</td>\n",
              "      <td>RIO BRANCO</td>\n",
              "      <td>AUTO POSTO AMAPA - EIRELI</td>\n",
              "      <td>00.529.581/0001-53</td>\n",
              "      <td>VIA CHICO MENDES</td>\n",
              "      <td>3570</td>\n",
              "      <td>NaN</td>\n",
              "      <td>AREAL</td>\n",
              "      <td>69906-119</td>\n",
              "      <td>GASOLINA</td>\n",
              "      <td>03/01/2022</td>\n",
              "      <td>6,99</td>\n",
              "      <td>NaN</td>\n",
              "      <td>R$ / litro</td>\n",
              "      <td>VIBRA ENERGIA</td>\n",
              "    </tr>\n",
              "    <tr>\n",
              "      <th>1890</th>\n",
              "      <td>SE</td>\n",
              "      <td>MG</td>\n",
              "      <td>MANHUACU</td>\n",
              "      <td>AUTO POSTO ITAUNA LTDA</td>\n",
              "      <td>13.005.663/0001-40</td>\n",
              "      <td>RUA LUIZ CERQUEIRA</td>\n",
              "      <td>55</td>\n",
              "      <td>NaN</td>\n",
              "      <td>CENTRO</td>\n",
              "      <td>36900-085</td>\n",
              "      <td>GASOLINA ADITIVADA</td>\n",
              "      <td>03/01/2022</td>\n",
              "      <td>7,489</td>\n",
              "      <td>NaN</td>\n",
              "      <td>R$ / litro</td>\n",
              "      <td>VIBRA ENERGIA</td>\n",
              "    </tr>\n",
              "    <tr>\n",
              "      <th>1891</th>\n",
              "      <td>SE</td>\n",
              "      <td>SP</td>\n",
              "      <td>SANTO ANDRE</td>\n",
              "      <td>POSTO DE GASOLINA MONTE CARLO LTDA</td>\n",
              "      <td>13.007.891/0001-50</td>\n",
              "      <td>RUA JORGE BERETTA</td>\n",
              "      <td>960</td>\n",
              "      <td>TERREO</td>\n",
              "      <td>PARQUE ERASMO ASSSUNCAO</td>\n",
              "      <td>09271-400</td>\n",
              "      <td>GASOLINA</td>\n",
              "      <td>03/01/2022</td>\n",
              "      <td>6,397</td>\n",
              "      <td>NaN</td>\n",
              "      <td>R$ / litro</td>\n",
              "      <td>IPIRANGA</td>\n",
              "    </tr>\n",
              "    <tr>\n",
              "      <th>1892</th>\n",
              "      <td>SE</td>\n",
              "      <td>SP</td>\n",
              "      <td>SANTO ANDRE</td>\n",
              "      <td>POSTO DE GASOLINA MONTE CARLO LTDA</td>\n",
              "      <td>13.007.891/0001-50</td>\n",
              "      <td>RUA JORGE BERETTA</td>\n",
              "      <td>960</td>\n",
              "      <td>TERREO</td>\n",
              "      <td>PARQUE ERASMO ASSSUNCAO</td>\n",
              "      <td>09271-400</td>\n",
              "      <td>ETANOL</td>\n",
              "      <td>03/01/2022</td>\n",
              "      <td>4,997</td>\n",
              "      <td>NaN</td>\n",
              "      <td>R$ / litro</td>\n",
              "      <td>IPIRANGA</td>\n",
              "    </tr>\n",
              "    <tr>\n",
              "      <th>1893</th>\n",
              "      <td>SE</td>\n",
              "      <td>SP</td>\n",
              "      <td>SANTO ANDRE</td>\n",
              "      <td>POSTO DE GASOLINA MONTE CARLO LTDA</td>\n",
              "      <td>13.007.891/0001-50</td>\n",
              "      <td>RUA JORGE BERETTA</td>\n",
              "      <td>960</td>\n",
              "      <td>TERREO</td>\n",
              "      <td>PARQUE ERASMO ASSSUNCAO</td>\n",
              "      <td>09271-400</td>\n",
              "      <td>GASOLINA ADITIVADA</td>\n",
              "      <td>03/01/2022</td>\n",
              "      <td>6,597</td>\n",
              "      <td>NaN</td>\n",
              "      <td>R$ / litro</td>\n",
              "      <td>IPIRANGA</td>\n",
              "    </tr>\n",
              "    <tr>\n",
              "      <th>...</th>\n",
              "      <td>...</td>\n",
              "      <td>...</td>\n",
              "      <td>...</td>\n",
              "      <td>...</td>\n",
              "      <td>...</td>\n",
              "      <td>...</td>\n",
              "      <td>...</td>\n",
              "      <td>...</td>\n",
              "      <td>...</td>\n",
              "      <td>...</td>\n",
              "      <td>...</td>\n",
              "      <td>...</td>\n",
              "      <td>...</td>\n",
              "      <td>...</td>\n",
              "      <td>...</td>\n",
              "      <td>...</td>\n",
              "    </tr>\n",
              "    <tr>\n",
              "      <th>34797</th>\n",
              "      <td>S</td>\n",
              "      <td>SC</td>\n",
              "      <td>BLUMENAU</td>\n",
              "      <td>AUTO POSTO M.L. LTDA</td>\n",
              "      <td>21.375.918/0001-95</td>\n",
              "      <td>RUA SAO PAULO</td>\n",
              "      <td>3149</td>\n",
              "      <td>NaN</td>\n",
              "      <td>ITOUPAVA SECA</td>\n",
              "      <td>89010-000</td>\n",
              "      <td>GASOLINA ADITIVADA</td>\n",
              "      <td>30/12/2022</td>\n",
              "      <td>5,32</td>\n",
              "      <td>NaN</td>\n",
              "      <td>R$ / litro</td>\n",
              "      <td>RAIZEN MIME</td>\n",
              "    </tr>\n",
              "    <tr>\n",
              "      <th>34798</th>\n",
              "      <td>S</td>\n",
              "      <td>SC</td>\n",
              "      <td>BLUMENAU</td>\n",
              "      <td>AUTO POSTO M.L. LTDA</td>\n",
              "      <td>21.375.918/0001-95</td>\n",
              "      <td>RUA SAO PAULO</td>\n",
              "      <td>3149</td>\n",
              "      <td>NaN</td>\n",
              "      <td>ITOUPAVA SECA</td>\n",
              "      <td>89010-000</td>\n",
              "      <td>GASOLINA</td>\n",
              "      <td>30/12/2022</td>\n",
              "      <td>5,12</td>\n",
              "      <td>NaN</td>\n",
              "      <td>R$ / litro</td>\n",
              "      <td>RAIZEN MIME</td>\n",
              "    </tr>\n",
              "    <tr>\n",
              "      <th>28962</th>\n",
              "      <td>S</td>\n",
              "      <td>SC</td>\n",
              "      <td>BLUMENAU</td>\n",
              "      <td>AUTO POSTO BELA JOIA LTDA.</td>\n",
              "      <td>07.825.040/0001-11</td>\n",
              "      <td>RUA ANTONIO DA VEIGA</td>\n",
              "      <td>740</td>\n",
              "      <td>FRENTE</td>\n",
              "      <td>VICTOR KONDER</td>\n",
              "      <td>89012-500</td>\n",
              "      <td>ETANOL</td>\n",
              "      <td>30/12/2022</td>\n",
              "      <td>4,59</td>\n",
              "      <td>NaN</td>\n",
              "      <td>R$ / litro</td>\n",
              "      <td>RAIZEN MIME</td>\n",
              "    </tr>\n",
              "    <tr>\n",
              "      <th>28964</th>\n",
              "      <td>S</td>\n",
              "      <td>SC</td>\n",
              "      <td>BLUMENAU</td>\n",
              "      <td>AUTO POSTO BLU LIMITADA</td>\n",
              "      <td>07.134.578/0001-80</td>\n",
              "      <td>RUA SETE DE SETEMBRO</td>\n",
              "      <td>2093</td>\n",
              "      <td>FRENTE</td>\n",
              "      <td>CENTRO</td>\n",
              "      <td>89012-401</td>\n",
              "      <td>GASOLINA</td>\n",
              "      <td>30/12/2022</td>\n",
              "      <td>4,49</td>\n",
              "      <td>NaN</td>\n",
              "      <td>R$ / litro</td>\n",
              "      <td>IPIRANGA</td>\n",
              "    </tr>\n",
              "    <tr>\n",
              "      <th>35379</th>\n",
              "      <td>S</td>\n",
              "      <td>SC</td>\n",
              "      <td>BLUMENAU</td>\n",
              "      <td>REDE DE POSTOS R4 LTDA</td>\n",
              "      <td>03.283.593/0006-43</td>\n",
              "      <td>RUA DAS MISSOES</td>\n",
              "      <td>2426</td>\n",
              "      <td>NaN</td>\n",
              "      <td>NOVA ESPERANCA</td>\n",
              "      <td>89051-305</td>\n",
              "      <td>GASOLINA ADITIVADA</td>\n",
              "      <td>30/12/2022</td>\n",
              "      <td>5,31</td>\n",
              "      <td>NaN</td>\n",
              "      <td>R$ / litro</td>\n",
              "      <td>VIBRA ENERGIA</td>\n",
              "    </tr>\n",
              "  </tbody>\n",
              "</table>\n",
              "<p>603015 rows × 16 columns</p>\n",
              "</div>\n",
              "      <button class=\"colab-df-convert\" onclick=\"convertToInteractive('df-23fba1e2-fd66-4410-8b2c-669381bb1a0b')\"\n",
              "              title=\"Convert this dataframe to an interactive table.\"\n",
              "              style=\"display:none;\">\n",
              "        \n",
              "  <svg xmlns=\"http://www.w3.org/2000/svg\" height=\"24px\"viewBox=\"0 0 24 24\"\n",
              "       width=\"24px\">\n",
              "    <path d=\"M0 0h24v24H0V0z\" fill=\"none\"/>\n",
              "    <path d=\"M18.56 5.44l.94 2.06.94-2.06 2.06-.94-2.06-.94-.94-2.06-.94 2.06-2.06.94zm-11 1L8.5 8.5l.94-2.06 2.06-.94-2.06-.94L8.5 2.5l-.94 2.06-2.06.94zm10 10l.94 2.06.94-2.06 2.06-.94-2.06-.94-.94-2.06-.94 2.06-2.06.94z\"/><path d=\"M17.41 7.96l-1.37-1.37c-.4-.4-.92-.59-1.43-.59-.52 0-1.04.2-1.43.59L10.3 9.45l-7.72 7.72c-.78.78-.78 2.05 0 2.83L4 21.41c.39.39.9.59 1.41.59.51 0 1.02-.2 1.41-.59l7.78-7.78 2.81-2.81c.8-.78.8-2.07 0-2.86zM5.41 20L4 18.59l7.72-7.72 1.47 1.35L5.41 20z\"/>\n",
              "  </svg>\n",
              "      </button>\n",
              "      \n",
              "  <style>\n",
              "    .colab-df-container {\n",
              "      display:flex;\n",
              "      flex-wrap:wrap;\n",
              "      gap: 12px;\n",
              "    }\n",
              "\n",
              "    .colab-df-convert {\n",
              "      background-color: #E8F0FE;\n",
              "      border: none;\n",
              "      border-radius: 50%;\n",
              "      cursor: pointer;\n",
              "      display: none;\n",
              "      fill: #1967D2;\n",
              "      height: 32px;\n",
              "      padding: 0 0 0 0;\n",
              "      width: 32px;\n",
              "    }\n",
              "\n",
              "    .colab-df-convert:hover {\n",
              "      background-color: #E2EBFA;\n",
              "      box-shadow: 0px 1px 2px rgba(60, 64, 67, 0.3), 0px 1px 3px 1px rgba(60, 64, 67, 0.15);\n",
              "      fill: #174EA6;\n",
              "    }\n",
              "\n",
              "    [theme=dark] .colab-df-convert {\n",
              "      background-color: #3B4455;\n",
              "      fill: #D2E3FC;\n",
              "    }\n",
              "\n",
              "    [theme=dark] .colab-df-convert:hover {\n",
              "      background-color: #434B5C;\n",
              "      box-shadow: 0px 1px 3px 1px rgba(0, 0, 0, 0.15);\n",
              "      filter: drop-shadow(0px 1px 2px rgba(0, 0, 0, 0.3));\n",
              "      fill: #FFFFFF;\n",
              "    }\n",
              "  </style>\n",
              "\n",
              "      <script>\n",
              "        const buttonEl =\n",
              "          document.querySelector('#df-23fba1e2-fd66-4410-8b2c-669381bb1a0b button.colab-df-convert');\n",
              "        buttonEl.style.display =\n",
              "          google.colab.kernel.accessAllowed ? 'block' : 'none';\n",
              "\n",
              "        async function convertToInteractive(key) {\n",
              "          const element = document.querySelector('#df-23fba1e2-fd66-4410-8b2c-669381bb1a0b');\n",
              "          const dataTable =\n",
              "            await google.colab.kernel.invokeFunction('convertToInteractive',\n",
              "                                                     [key], {});\n",
              "          if (!dataTable) return;\n",
              "\n",
              "          const docLinkHtml = 'Like what you see? Visit the ' +\n",
              "            '<a target=\"_blank\" href=https://colab.research.google.com/notebooks/data_table.ipynb>data table notebook</a>'\n",
              "            + ' to learn more about interactive tables.';\n",
              "          element.innerHTML = '';\n",
              "          dataTable['output_type'] = 'display_data';\n",
              "          await google.colab.output.renderOutput(dataTable, element);\n",
              "          const docLink = document.createElement('div');\n",
              "          docLink.innerHTML = docLinkHtml;\n",
              "          element.appendChild(docLink);\n",
              "        }\n",
              "      </script>\n",
              "    </div>\n",
              "  </div>\n",
              "  "
            ]
          },
          "metadata": {},
          "execution_count": 6
        }
      ]
    },
    {
      "cell_type": "code",
      "source": [
        "df.shape"
      ],
      "metadata": {
        "id": "VAgooE46Dm1C",
        "colab": {
          "base_uri": "https://localhost:8080/"
        },
        "outputId": "d42e1551-c002-43a4-f65b-3ecfcd95c6f9"
      },
      "execution_count": null,
      "outputs": [
        {
          "output_type": "execute_result",
          "data": {
            "text/plain": [
              "(603015, 16)"
            ]
          },
          "metadata": {},
          "execution_count": 7
        }
      ]
    },
    {
      "cell_type": "markdown",
      "source": [
        "O dataframe `df` contém os dados de todo o Brasil, com um ottal de 603015 registros (linhas) e 16 variáveis (colunas)."
      ],
      "metadata": {
        "id": "EzwLUpvSUDkQ"
      }
    },
    {
      "cell_type": "markdown",
      "source": [
        "### Populaçao de estudo\n",
        "Será feita uma amostragem, contendo apenas os dados do estado do Amapá."
      ],
      "metadata": {
        "id": "8RqZCa_0W6_H"
      }
    },
    {
      "cell_type": "code",
      "source": [
        "df_ap = df.copy().rename(columns={\"Estado - Sigla\": \"SIGLA_ESTADO\"}).query(\"SIGLA_ESTADO == 'AP'\")\n",
        "df_ap.head()"
      ],
      "metadata": {
        "id": "F1FtMpVNf56T",
        "colab": {
          "base_uri": "https://localhost:8080/",
          "height": 548
        },
        "outputId": "c0ec46d9-147c-4018-f6bb-4c4aed6d8c56"
      },
      "execution_count": null,
      "outputs": [
        {
          "output_type": "execute_result",
          "data": {
            "text/plain": [
              "     Regiao - Sigla SIGLA_ESTADO Municipio  \\\n",
              "6664              N           AP    MACAPA   \n",
              "6665              N           AP    MACAPA   \n",
              "2882              N           AP    MACAPA   \n",
              "2883              N           AP    MACAPA   \n",
              "6741              N           AP    MACAPA   \n",
              "\n",
              "                                  Revenda      CNPJ da Revenda  \\\n",
              "6664  AUTOMOTO - AUTOMOVEIS DO AMAPA LTDA   03.659.452/0013-01   \n",
              "6665  AUTOMOTO - AUTOMOVEIS DO AMAPA LTDA   03.659.452/0015-73   \n",
              "2882                     POSTO ICCAR LTDA   02.280.133/0034-52   \n",
              "2883  AUTOMOTO COMBUSTIVEIS DO AMAPA LTDA   05.983.192/0003-89   \n",
              "6741  AUTOMOTO - AUTOMOVEIS DO AMAPA LTDA   03.659.452/0006-82   \n",
              "\n",
              "                      Nome da Rua Numero Rua            Complemento  \\\n",
              "6664   AVENIDA CARLOS LINS CORTES       1844                    NaN   \n",
              "6665     AVENIDA HENRIQUE GALUCIO        161                LETRA A   \n",
              "2882        AVENIDA RIO VILA NOVA         62  ESQ. C/ RUA BEIRA RIO   \n",
              "2883           RUA CANDIDO MENDES        167                    NaN   \n",
              "6741  RUA CICERO MARQUES DE SOUZA       3134                    NaN   \n",
              "\n",
              "              Bairro        Cep   Produto Data da Coleta Valor de Venda  \\\n",
              "6664        INFRAERO  68908-074  GASOLINA     04/01/2022           5,86   \n",
              "6665         CENTRAL  68900-115  GASOLINA     04/01/2022           5,86   \n",
              "2882            TREM  68905-160  GASOLINA     04/01/2022           5,83   \n",
              "2883         CENTRAL  68900-100  GASOLINA     04/01/2022           5,86   \n",
              "6741  NOVO HORIZONTE  68909-803  GASOLINA     05/01/2022           5,86   \n",
              "\n",
              "      Valor de Compra Unidade de Medida       Bandeira  \n",
              "6664              NaN        R$ / litro         BRANCA  \n",
              "6665              NaN        R$ / litro         BRANCA  \n",
              "2882              NaN        R$ / litro         BRANCA  \n",
              "2883              NaN        R$ / litro         BRANCA  \n",
              "6741              NaN        R$ / litro  VIBRA ENERGIA  "
            ],
            "text/html": [
              "\n",
              "  <div id=\"df-f22fa2be-7e75-4171-a6ad-927630d50171\">\n",
              "    <div class=\"colab-df-container\">\n",
              "      <div>\n",
              "<style scoped>\n",
              "    .dataframe tbody tr th:only-of-type {\n",
              "        vertical-align: middle;\n",
              "    }\n",
              "\n",
              "    .dataframe tbody tr th {\n",
              "        vertical-align: top;\n",
              "    }\n",
              "\n",
              "    .dataframe thead th {\n",
              "        text-align: right;\n",
              "    }\n",
              "</style>\n",
              "<table border=\"1\" class=\"dataframe\">\n",
              "  <thead>\n",
              "    <tr style=\"text-align: right;\">\n",
              "      <th></th>\n",
              "      <th>Regiao - Sigla</th>\n",
              "      <th>SIGLA_ESTADO</th>\n",
              "      <th>Municipio</th>\n",
              "      <th>Revenda</th>\n",
              "      <th>CNPJ da Revenda</th>\n",
              "      <th>Nome da Rua</th>\n",
              "      <th>Numero Rua</th>\n",
              "      <th>Complemento</th>\n",
              "      <th>Bairro</th>\n",
              "      <th>Cep</th>\n",
              "      <th>Produto</th>\n",
              "      <th>Data da Coleta</th>\n",
              "      <th>Valor de Venda</th>\n",
              "      <th>Valor de Compra</th>\n",
              "      <th>Unidade de Medida</th>\n",
              "      <th>Bandeira</th>\n",
              "    </tr>\n",
              "  </thead>\n",
              "  <tbody>\n",
              "    <tr>\n",
              "      <th>6664</th>\n",
              "      <td>N</td>\n",
              "      <td>AP</td>\n",
              "      <td>MACAPA</td>\n",
              "      <td>AUTOMOTO - AUTOMOVEIS DO AMAPA LTDA</td>\n",
              "      <td>03.659.452/0013-01</td>\n",
              "      <td>AVENIDA CARLOS LINS CORTES</td>\n",
              "      <td>1844</td>\n",
              "      <td>NaN</td>\n",
              "      <td>INFRAERO</td>\n",
              "      <td>68908-074</td>\n",
              "      <td>GASOLINA</td>\n",
              "      <td>04/01/2022</td>\n",
              "      <td>5,86</td>\n",
              "      <td>NaN</td>\n",
              "      <td>R$ / litro</td>\n",
              "      <td>BRANCA</td>\n",
              "    </tr>\n",
              "    <tr>\n",
              "      <th>6665</th>\n",
              "      <td>N</td>\n",
              "      <td>AP</td>\n",
              "      <td>MACAPA</td>\n",
              "      <td>AUTOMOTO - AUTOMOVEIS DO AMAPA LTDA</td>\n",
              "      <td>03.659.452/0015-73</td>\n",
              "      <td>AVENIDA HENRIQUE GALUCIO</td>\n",
              "      <td>161</td>\n",
              "      <td>LETRA A</td>\n",
              "      <td>CENTRAL</td>\n",
              "      <td>68900-115</td>\n",
              "      <td>GASOLINA</td>\n",
              "      <td>04/01/2022</td>\n",
              "      <td>5,86</td>\n",
              "      <td>NaN</td>\n",
              "      <td>R$ / litro</td>\n",
              "      <td>BRANCA</td>\n",
              "    </tr>\n",
              "    <tr>\n",
              "      <th>2882</th>\n",
              "      <td>N</td>\n",
              "      <td>AP</td>\n",
              "      <td>MACAPA</td>\n",
              "      <td>POSTO ICCAR LTDA</td>\n",
              "      <td>02.280.133/0034-52</td>\n",
              "      <td>AVENIDA RIO VILA NOVA</td>\n",
              "      <td>62</td>\n",
              "      <td>ESQ. C/ RUA BEIRA RIO</td>\n",
              "      <td>TREM</td>\n",
              "      <td>68905-160</td>\n",
              "      <td>GASOLINA</td>\n",
              "      <td>04/01/2022</td>\n",
              "      <td>5,83</td>\n",
              "      <td>NaN</td>\n",
              "      <td>R$ / litro</td>\n",
              "      <td>BRANCA</td>\n",
              "    </tr>\n",
              "    <tr>\n",
              "      <th>2883</th>\n",
              "      <td>N</td>\n",
              "      <td>AP</td>\n",
              "      <td>MACAPA</td>\n",
              "      <td>AUTOMOTO COMBUSTIVEIS DO AMAPA LTDA</td>\n",
              "      <td>05.983.192/0003-89</td>\n",
              "      <td>RUA CANDIDO MENDES</td>\n",
              "      <td>167</td>\n",
              "      <td>NaN</td>\n",
              "      <td>CENTRAL</td>\n",
              "      <td>68900-100</td>\n",
              "      <td>GASOLINA</td>\n",
              "      <td>04/01/2022</td>\n",
              "      <td>5,86</td>\n",
              "      <td>NaN</td>\n",
              "      <td>R$ / litro</td>\n",
              "      <td>BRANCA</td>\n",
              "    </tr>\n",
              "    <tr>\n",
              "      <th>6741</th>\n",
              "      <td>N</td>\n",
              "      <td>AP</td>\n",
              "      <td>MACAPA</td>\n",
              "      <td>AUTOMOTO - AUTOMOVEIS DO AMAPA LTDA</td>\n",
              "      <td>03.659.452/0006-82</td>\n",
              "      <td>RUA CICERO MARQUES DE SOUZA</td>\n",
              "      <td>3134</td>\n",
              "      <td>NaN</td>\n",
              "      <td>NOVO HORIZONTE</td>\n",
              "      <td>68909-803</td>\n",
              "      <td>GASOLINA</td>\n",
              "      <td>05/01/2022</td>\n",
              "      <td>5,86</td>\n",
              "      <td>NaN</td>\n",
              "      <td>R$ / litro</td>\n",
              "      <td>VIBRA ENERGIA</td>\n",
              "    </tr>\n",
              "  </tbody>\n",
              "</table>\n",
              "</div>\n",
              "      <button class=\"colab-df-convert\" onclick=\"convertToInteractive('df-f22fa2be-7e75-4171-a6ad-927630d50171')\"\n",
              "              title=\"Convert this dataframe to an interactive table.\"\n",
              "              style=\"display:none;\">\n",
              "        \n",
              "  <svg xmlns=\"http://www.w3.org/2000/svg\" height=\"24px\"viewBox=\"0 0 24 24\"\n",
              "       width=\"24px\">\n",
              "    <path d=\"M0 0h24v24H0V0z\" fill=\"none\"/>\n",
              "    <path d=\"M18.56 5.44l.94 2.06.94-2.06 2.06-.94-2.06-.94-.94-2.06-.94 2.06-2.06.94zm-11 1L8.5 8.5l.94-2.06 2.06-.94-2.06-.94L8.5 2.5l-.94 2.06-2.06.94zm10 10l.94 2.06.94-2.06 2.06-.94-2.06-.94-.94-2.06-.94 2.06-2.06.94z\"/><path d=\"M17.41 7.96l-1.37-1.37c-.4-.4-.92-.59-1.43-.59-.52 0-1.04.2-1.43.59L10.3 9.45l-7.72 7.72c-.78.78-.78 2.05 0 2.83L4 21.41c.39.39.9.59 1.41.59.51 0 1.02-.2 1.41-.59l7.78-7.78 2.81-2.81c.8-.78.8-2.07 0-2.86zM5.41 20L4 18.59l7.72-7.72 1.47 1.35L5.41 20z\"/>\n",
              "  </svg>\n",
              "      </button>\n",
              "      \n",
              "  <style>\n",
              "    .colab-df-container {\n",
              "      display:flex;\n",
              "      flex-wrap:wrap;\n",
              "      gap: 12px;\n",
              "    }\n",
              "\n",
              "    .colab-df-convert {\n",
              "      background-color: #E8F0FE;\n",
              "      border: none;\n",
              "      border-radius: 50%;\n",
              "      cursor: pointer;\n",
              "      display: none;\n",
              "      fill: #1967D2;\n",
              "      height: 32px;\n",
              "      padding: 0 0 0 0;\n",
              "      width: 32px;\n",
              "    }\n",
              "\n",
              "    .colab-df-convert:hover {\n",
              "      background-color: #E2EBFA;\n",
              "      box-shadow: 0px 1px 2px rgba(60, 64, 67, 0.3), 0px 1px 3px 1px rgba(60, 64, 67, 0.15);\n",
              "      fill: #174EA6;\n",
              "    }\n",
              "\n",
              "    [theme=dark] .colab-df-convert {\n",
              "      background-color: #3B4455;\n",
              "      fill: #D2E3FC;\n",
              "    }\n",
              "\n",
              "    [theme=dark] .colab-df-convert:hover {\n",
              "      background-color: #434B5C;\n",
              "      box-shadow: 0px 1px 3px 1px rgba(0, 0, 0, 0.15);\n",
              "      filter: drop-shadow(0px 1px 2px rgba(0, 0, 0, 0.3));\n",
              "      fill: #FFFFFF;\n",
              "    }\n",
              "  </style>\n",
              "\n",
              "      <script>\n",
              "        const buttonEl =\n",
              "          document.querySelector('#df-f22fa2be-7e75-4171-a6ad-927630d50171 button.colab-df-convert');\n",
              "        buttonEl.style.display =\n",
              "          google.colab.kernel.accessAllowed ? 'block' : 'none';\n",
              "\n",
              "        async function convertToInteractive(key) {\n",
              "          const element = document.querySelector('#df-f22fa2be-7e75-4171-a6ad-927630d50171');\n",
              "          const dataTable =\n",
              "            await google.colab.kernel.invokeFunction('convertToInteractive',\n",
              "                                                     [key], {});\n",
              "          if (!dataTable) return;\n",
              "\n",
              "          const docLinkHtml = 'Like what you see? Visit the ' +\n",
              "            '<a target=\"_blank\" href=https://colab.research.google.com/notebooks/data_table.ipynb>data table notebook</a>'\n",
              "            + ' to learn more about interactive tables.';\n",
              "          element.innerHTML = '';\n",
              "          dataTable['output_type'] = 'display_data';\n",
              "          await google.colab.output.renderOutput(dataTable, element);\n",
              "          const docLink = document.createElement('div');\n",
              "          docLink.innerHTML = docLinkHtml;\n",
              "          element.appendChild(docLink);\n",
              "        }\n",
              "      </script>\n",
              "    </div>\n",
              "  </div>\n",
              "  "
            ]
          },
          "metadata": {},
          "execution_count": 8
        }
      ]
    },
    {
      "cell_type": "code",
      "source": [
        "df_ap.shape"
      ],
      "metadata": {
        "colab": {
          "base_uri": "https://localhost:8080/"
        },
        "id": "uqbmDzMuf1Cz",
        "outputId": "7b3bb97d-f985-4c43-8eff-f4a279210fc5"
      },
      "execution_count": null,
      "outputs": [
        {
          "output_type": "execute_result",
          "data": {
            "text/plain": [
              "(1391, 16)"
            ]
          },
          "metadata": {},
          "execution_count": 9
        }
      ]
    },
    {
      "cell_type": "markdown",
      "source": [
        "O estado do Amapá possui um total de 1391 registros."
      ],
      "metadata": {
        "id": "8_akEbg_hwPp"
      }
    },
    {
      "cell_type": "markdown",
      "source": [
        "#### Renomeando variáveis\n",
        "As variáveis serão colocadas em caixa-alta e separadas por underline."
      ],
      "metadata": {
        "id": "6GvwugzbgJzb"
      }
    },
    {
      "cell_type": "code",
      "source": [
        "df_ap.rename(columns={\"Regiao - Sigla\": \"SIGLA_REGIAO\"},\n",
        "             inplace=True)"
      ],
      "metadata": {
        "id": "D8tynvBEdqvW"
      },
      "execution_count": null,
      "outputs": []
    },
    {
      "cell_type": "code",
      "source": [
        "ajuste_variavel = {i:i.upper().replace(\" \", \"_\") for i in df_ap.columns}"
      ],
      "metadata": {
        "id": "MxgoEPiSEAtt"
      },
      "execution_count": null,
      "outputs": []
    },
    {
      "cell_type": "code",
      "source": [
        "df_ap.rename(columns=ajuste_variavel, inplace=True)"
      ],
      "metadata": {
        "id": "tRZh6kqUFAzS"
      },
      "execution_count": null,
      "outputs": []
    },
    {
      "cell_type": "code",
      "source": [
        "df_ap.columns"
      ],
      "metadata": {
        "id": "l62iFGglLlDD",
        "colab": {
          "base_uri": "https://localhost:8080/"
        },
        "outputId": "09af37a8-d610-4a3b-9a47-a1e70a6442d9"
      },
      "execution_count": null,
      "outputs": [
        {
          "output_type": "execute_result",
          "data": {
            "text/plain": [
              "Index(['SIGLA_REGIAO', 'SIGLA_ESTADO', 'MUNICIPIO', 'REVENDA',\n",
              "       'CNPJ_DA_REVENDA', 'NOME_DA_RUA', 'NUMERO_RUA', 'COMPLEMENTO', 'BAIRRO',\n",
              "       'CEP', 'PRODUTO', 'DATA_DA_COLETA', 'VALOR_DE_VENDA', 'VALOR_DE_COMPRA',\n",
              "       'UNIDADE_DE_MEDIDA', 'BANDEIRA'],\n",
              "      dtype='object')"
            ]
          },
          "metadata": {},
          "execution_count": 13
        }
      ]
    },
    {
      "cell_type": "markdown",
      "source": [
        "#### Renomeando registros\n",
        "Os registros do tipo object (texto) serão renomeados, para facilitar a visualização na tabela."
      ],
      "metadata": {
        "id": "L1OflcmNX-FY"
      }
    },
    {
      "cell_type": "code",
      "source": [
        "registro_antigo = [[j for j in df_ap[i]] for i in df_ap.columns]"
      ],
      "metadata": {
        "id": "RD8tl-zPeLKR"
      },
      "execution_count": null,
      "outputs": []
    },
    {
      "cell_type": "code",
      "source": [
        "ajuste_registro = [[j.title() if isinstance(j, str) else j\n",
        "                    for j in df_ap[i]] for i in df_ap.columns]"
      ],
      "metadata": {
        "id": "nFd36rxEeecO"
      },
      "execution_count": null,
      "outputs": []
    },
    {
      "cell_type": "code",
      "source": [
        "for var, i in zip(df_ap.columns, list(range(len(df_ap.columns)))):\n",
        "    df_ap.replace(registro_antigo[i], ajuste_registro[i], inplace=True)"
      ],
      "metadata": {
        "id": "0H_f9jJSvlWF"
      },
      "execution_count": null,
      "outputs": []
    },
    {
      "cell_type": "code",
      "source": [
        "df_ap.head()"
      ],
      "metadata": {
        "colab": {
          "base_uri": "https://localhost:8080/",
          "height": 496
        },
        "id": "kAfkbOJGcBhw",
        "outputId": "12a7d6d2-25fa-4041-8a83-547e9b28401b"
      },
      "execution_count": null,
      "outputs": [
        {
          "output_type": "execute_result",
          "data": {
            "text/plain": [
              "     SIGLA_REGIAO SIGLA_ESTADO MUNICIPIO                              REVENDA  \\\n",
              "6664            N           Ap    Macapa  Automoto - Automoveis Do Amapa Ltda   \n",
              "6665            N           Ap    Macapa  Automoto - Automoveis Do Amapa Ltda   \n",
              "2882            N           Ap    Macapa                     Posto Iccar Ltda   \n",
              "2883            N           Ap    Macapa  Automoto Combustiveis Do Amapa Ltda   \n",
              "6741            N           Ap    Macapa  Automoto - Automoveis Do Amapa Ltda   \n",
              "\n",
              "          CNPJ_DA_REVENDA                  NOME_DA_RUA NUMERO_RUA  \\\n",
              "6664   03.659.452/0013-01   Avenida Carlos Lins Cortes       1844   \n",
              "6665   03.659.452/0015-73     Avenida Henrique Galucio        161   \n",
              "2882   02.280.133/0034-52        Avenida Rio Vila Nova         62   \n",
              "2883   05.983.192/0003-89           Rua Candido Mendes        167   \n",
              "6741   03.659.452/0006-82  Rua Cicero Marques De Souza       3134   \n",
              "\n",
              "                COMPLEMENTO          BAIRRO        CEP   PRODUTO  \\\n",
              "6664                    NaN        Infraero  68908-074  Gasolina   \n",
              "6665                Letra A         Central  68900-115  Gasolina   \n",
              "2882  Esq. C/ Rua Beira Rio            Trem  68905-160  Gasolina   \n",
              "2883                    NaN         Central  68900-100  Gasolina   \n",
              "6741                    NaN  Novo Horizonte  68909-803  Gasolina   \n",
              "\n",
              "     DATA_DA_COLETA VALOR_DE_VENDA  VALOR_DE_COMPRA UNIDADE_DE_MEDIDA  \\\n",
              "6664     04/01/2022           5,86              NaN        R$ / Litro   \n",
              "6665     04/01/2022           5,86              NaN        R$ / Litro   \n",
              "2882     04/01/2022           5,83              NaN        R$ / Litro   \n",
              "2883     04/01/2022           5,86              NaN        R$ / Litro   \n",
              "6741     05/01/2022           5,86              NaN        R$ / Litro   \n",
              "\n",
              "           BANDEIRA  \n",
              "6664         Branca  \n",
              "6665         Branca  \n",
              "2882         Branca  \n",
              "2883         Branca  \n",
              "6741  Vibra Energia  "
            ],
            "text/html": [
              "\n",
              "  <div id=\"df-8494f1c1-8659-44ef-b1cb-0ab12dc3c29d\">\n",
              "    <div class=\"colab-df-container\">\n",
              "      <div>\n",
              "<style scoped>\n",
              "    .dataframe tbody tr th:only-of-type {\n",
              "        vertical-align: middle;\n",
              "    }\n",
              "\n",
              "    .dataframe tbody tr th {\n",
              "        vertical-align: top;\n",
              "    }\n",
              "\n",
              "    .dataframe thead th {\n",
              "        text-align: right;\n",
              "    }\n",
              "</style>\n",
              "<table border=\"1\" class=\"dataframe\">\n",
              "  <thead>\n",
              "    <tr style=\"text-align: right;\">\n",
              "      <th></th>\n",
              "      <th>SIGLA_REGIAO</th>\n",
              "      <th>SIGLA_ESTADO</th>\n",
              "      <th>MUNICIPIO</th>\n",
              "      <th>REVENDA</th>\n",
              "      <th>CNPJ_DA_REVENDA</th>\n",
              "      <th>NOME_DA_RUA</th>\n",
              "      <th>NUMERO_RUA</th>\n",
              "      <th>COMPLEMENTO</th>\n",
              "      <th>BAIRRO</th>\n",
              "      <th>CEP</th>\n",
              "      <th>PRODUTO</th>\n",
              "      <th>DATA_DA_COLETA</th>\n",
              "      <th>VALOR_DE_VENDA</th>\n",
              "      <th>VALOR_DE_COMPRA</th>\n",
              "      <th>UNIDADE_DE_MEDIDA</th>\n",
              "      <th>BANDEIRA</th>\n",
              "    </tr>\n",
              "  </thead>\n",
              "  <tbody>\n",
              "    <tr>\n",
              "      <th>6664</th>\n",
              "      <td>N</td>\n",
              "      <td>Ap</td>\n",
              "      <td>Macapa</td>\n",
              "      <td>Automoto - Automoveis Do Amapa Ltda</td>\n",
              "      <td>03.659.452/0013-01</td>\n",
              "      <td>Avenida Carlos Lins Cortes</td>\n",
              "      <td>1844</td>\n",
              "      <td>NaN</td>\n",
              "      <td>Infraero</td>\n",
              "      <td>68908-074</td>\n",
              "      <td>Gasolina</td>\n",
              "      <td>04/01/2022</td>\n",
              "      <td>5,86</td>\n",
              "      <td>NaN</td>\n",
              "      <td>R$ / Litro</td>\n",
              "      <td>Branca</td>\n",
              "    </tr>\n",
              "    <tr>\n",
              "      <th>6665</th>\n",
              "      <td>N</td>\n",
              "      <td>Ap</td>\n",
              "      <td>Macapa</td>\n",
              "      <td>Automoto - Automoveis Do Amapa Ltda</td>\n",
              "      <td>03.659.452/0015-73</td>\n",
              "      <td>Avenida Henrique Galucio</td>\n",
              "      <td>161</td>\n",
              "      <td>Letra A</td>\n",
              "      <td>Central</td>\n",
              "      <td>68900-115</td>\n",
              "      <td>Gasolina</td>\n",
              "      <td>04/01/2022</td>\n",
              "      <td>5,86</td>\n",
              "      <td>NaN</td>\n",
              "      <td>R$ / Litro</td>\n",
              "      <td>Branca</td>\n",
              "    </tr>\n",
              "    <tr>\n",
              "      <th>2882</th>\n",
              "      <td>N</td>\n",
              "      <td>Ap</td>\n",
              "      <td>Macapa</td>\n",
              "      <td>Posto Iccar Ltda</td>\n",
              "      <td>02.280.133/0034-52</td>\n",
              "      <td>Avenida Rio Vila Nova</td>\n",
              "      <td>62</td>\n",
              "      <td>Esq. C/ Rua Beira Rio</td>\n",
              "      <td>Trem</td>\n",
              "      <td>68905-160</td>\n",
              "      <td>Gasolina</td>\n",
              "      <td>04/01/2022</td>\n",
              "      <td>5,83</td>\n",
              "      <td>NaN</td>\n",
              "      <td>R$ / Litro</td>\n",
              "      <td>Branca</td>\n",
              "    </tr>\n",
              "    <tr>\n",
              "      <th>2883</th>\n",
              "      <td>N</td>\n",
              "      <td>Ap</td>\n",
              "      <td>Macapa</td>\n",
              "      <td>Automoto Combustiveis Do Amapa Ltda</td>\n",
              "      <td>05.983.192/0003-89</td>\n",
              "      <td>Rua Candido Mendes</td>\n",
              "      <td>167</td>\n",
              "      <td>NaN</td>\n",
              "      <td>Central</td>\n",
              "      <td>68900-100</td>\n",
              "      <td>Gasolina</td>\n",
              "      <td>04/01/2022</td>\n",
              "      <td>5,86</td>\n",
              "      <td>NaN</td>\n",
              "      <td>R$ / Litro</td>\n",
              "      <td>Branca</td>\n",
              "    </tr>\n",
              "    <tr>\n",
              "      <th>6741</th>\n",
              "      <td>N</td>\n",
              "      <td>Ap</td>\n",
              "      <td>Macapa</td>\n",
              "      <td>Automoto - Automoveis Do Amapa Ltda</td>\n",
              "      <td>03.659.452/0006-82</td>\n",
              "      <td>Rua Cicero Marques De Souza</td>\n",
              "      <td>3134</td>\n",
              "      <td>NaN</td>\n",
              "      <td>Novo Horizonte</td>\n",
              "      <td>68909-803</td>\n",
              "      <td>Gasolina</td>\n",
              "      <td>05/01/2022</td>\n",
              "      <td>5,86</td>\n",
              "      <td>NaN</td>\n",
              "      <td>R$ / Litro</td>\n",
              "      <td>Vibra Energia</td>\n",
              "    </tr>\n",
              "  </tbody>\n",
              "</table>\n",
              "</div>\n",
              "      <button class=\"colab-df-convert\" onclick=\"convertToInteractive('df-8494f1c1-8659-44ef-b1cb-0ab12dc3c29d')\"\n",
              "              title=\"Convert this dataframe to an interactive table.\"\n",
              "              style=\"display:none;\">\n",
              "        \n",
              "  <svg xmlns=\"http://www.w3.org/2000/svg\" height=\"24px\"viewBox=\"0 0 24 24\"\n",
              "       width=\"24px\">\n",
              "    <path d=\"M0 0h24v24H0V0z\" fill=\"none\"/>\n",
              "    <path d=\"M18.56 5.44l.94 2.06.94-2.06 2.06-.94-2.06-.94-.94-2.06-.94 2.06-2.06.94zm-11 1L8.5 8.5l.94-2.06 2.06-.94-2.06-.94L8.5 2.5l-.94 2.06-2.06.94zm10 10l.94 2.06.94-2.06 2.06-.94-2.06-.94-.94-2.06-.94 2.06-2.06.94z\"/><path d=\"M17.41 7.96l-1.37-1.37c-.4-.4-.92-.59-1.43-.59-.52 0-1.04.2-1.43.59L10.3 9.45l-7.72 7.72c-.78.78-.78 2.05 0 2.83L4 21.41c.39.39.9.59 1.41.59.51 0 1.02-.2 1.41-.59l7.78-7.78 2.81-2.81c.8-.78.8-2.07 0-2.86zM5.41 20L4 18.59l7.72-7.72 1.47 1.35L5.41 20z\"/>\n",
              "  </svg>\n",
              "      </button>\n",
              "      \n",
              "  <style>\n",
              "    .colab-df-container {\n",
              "      display:flex;\n",
              "      flex-wrap:wrap;\n",
              "      gap: 12px;\n",
              "    }\n",
              "\n",
              "    .colab-df-convert {\n",
              "      background-color: #E8F0FE;\n",
              "      border: none;\n",
              "      border-radius: 50%;\n",
              "      cursor: pointer;\n",
              "      display: none;\n",
              "      fill: #1967D2;\n",
              "      height: 32px;\n",
              "      padding: 0 0 0 0;\n",
              "      width: 32px;\n",
              "    }\n",
              "\n",
              "    .colab-df-convert:hover {\n",
              "      background-color: #E2EBFA;\n",
              "      box-shadow: 0px 1px 2px rgba(60, 64, 67, 0.3), 0px 1px 3px 1px rgba(60, 64, 67, 0.15);\n",
              "      fill: #174EA6;\n",
              "    }\n",
              "\n",
              "    [theme=dark] .colab-df-convert {\n",
              "      background-color: #3B4455;\n",
              "      fill: #D2E3FC;\n",
              "    }\n",
              "\n",
              "    [theme=dark] .colab-df-convert:hover {\n",
              "      background-color: #434B5C;\n",
              "      box-shadow: 0px 1px 3px 1px rgba(0, 0, 0, 0.15);\n",
              "      filter: drop-shadow(0px 1px 2px rgba(0, 0, 0, 0.3));\n",
              "      fill: #FFFFFF;\n",
              "    }\n",
              "  </style>\n",
              "\n",
              "      <script>\n",
              "        const buttonEl =\n",
              "          document.querySelector('#df-8494f1c1-8659-44ef-b1cb-0ab12dc3c29d button.colab-df-convert');\n",
              "        buttonEl.style.display =\n",
              "          google.colab.kernel.accessAllowed ? 'block' : 'none';\n",
              "\n",
              "        async function convertToInteractive(key) {\n",
              "          const element = document.querySelector('#df-8494f1c1-8659-44ef-b1cb-0ab12dc3c29d');\n",
              "          const dataTable =\n",
              "            await google.colab.kernel.invokeFunction('convertToInteractive',\n",
              "                                                     [key], {});\n",
              "          if (!dataTable) return;\n",
              "\n",
              "          const docLinkHtml = 'Like what you see? Visit the ' +\n",
              "            '<a target=\"_blank\" href=https://colab.research.google.com/notebooks/data_table.ipynb>data table notebook</a>'\n",
              "            + ' to learn more about interactive tables.';\n",
              "          element.innerHTML = '';\n",
              "          dataTable['output_type'] = 'display_data';\n",
              "          await google.colab.output.renderOutput(dataTable, element);\n",
              "          const docLink = document.createElement('div');\n",
              "          docLink.innerHTML = docLinkHtml;\n",
              "          element.appendChild(docLink);\n",
              "        }\n",
              "      </script>\n",
              "    </div>\n",
              "  </div>\n",
              "  "
            ]
          },
          "metadata": {},
          "execution_count": 17
        }
      ]
    },
    {
      "cell_type": "code",
      "source": [
        "df_ap.dtypes"
      ],
      "metadata": {
        "id": "bwrLaoQ4xV1c",
        "colab": {
          "base_uri": "https://localhost:8080/"
        },
        "outputId": "f45758e5-10f5-454b-c6cf-0fa6b8a35961"
      },
      "execution_count": null,
      "outputs": [
        {
          "output_type": "execute_result",
          "data": {
            "text/plain": [
              "SIGLA_REGIAO          object\n",
              "SIGLA_ESTADO          object\n",
              "MUNICIPIO             object\n",
              "REVENDA               object\n",
              "CNPJ_DA_REVENDA       object\n",
              "NOME_DA_RUA           object\n",
              "NUMERO_RUA            object\n",
              "COMPLEMENTO           object\n",
              "BAIRRO                object\n",
              "CEP                   object\n",
              "PRODUTO               object\n",
              "DATA_DA_COLETA        object\n",
              "VALOR_DE_VENDA        object\n",
              "VALOR_DE_COMPRA      float64\n",
              "UNIDADE_DE_MEDIDA     object\n",
              "BANDEIRA              object\n",
              "dtype: object"
            ]
          },
          "metadata": {},
          "execution_count": 18
        }
      ]
    },
    {
      "cell_type": "markdown",
      "source": [
        "#### Estratificação da população\n",
        "A população será estratificada com base na gasolina do tipo comum e na revenda com maior ocorrência de dados."
      ],
      "metadata": {
        "id": "FqoJh7pBjJFn"
      }
    },
    {
      "cell_type": "code",
      "source": [
        "df_ap.PRODUTO.value_counts()"
      ],
      "metadata": {
        "colab": {
          "base_uri": "https://localhost:8080/"
        },
        "id": "a-i1t0Sxhpl9",
        "outputId": "aaa64db7-99c0-42b6-8b82-ad9dee7dd51b"
      },
      "execution_count": null,
      "outputs": [
        {
          "output_type": "execute_result",
          "data": {
            "text/plain": [
              "Gasolina              1163\n",
              "Gasolina Aditivada     183\n",
              "Etanol                  45\n",
              "Name: PRODUTO, dtype: int64"
            ]
          },
          "metadata": {},
          "execution_count": 19
        }
      ]
    },
    {
      "cell_type": "code",
      "source": [
        "df_ap.REVENDA.value_counts()"
      ],
      "metadata": {
        "colab": {
          "base_uri": "https://localhost:8080/"
        },
        "id": "799pZliLr3m5",
        "outputId": "fbdf351e-d5f2-4286-b8c3-e485a15550b6"
      },
      "execution_count": null,
      "outputs": [
        {
          "output_type": "execute_result",
          "data": {
            "text/plain": [
              "Automoto - Automoveis Do Amapa Ltda          331\n",
              "Automoto Combustiveis Do Amapa Ltda          193\n",
              "Sepe Tiaraju Empreendimentos Eireli          115\n",
              "Comercial Grao De Ouro Ltda                  106\n",
              "Posto De Combustiveis Jardins Eireli         102\n",
              "Claudionor Costa Dos Santos                   83\n",
              "Posto Iccar Ltda                              70\n",
              "Grampos Oiapoc Ltda                           64\n",
              "Real Petróleo Ltda                            63\n",
              "J C Da S Farias Eireli                        62\n",
              "Auto Posto Machado Ltda                       62\n",
              "Auto Posto Terceiro Milênio Ltda              38\n",
              "Souza & Cavalcante Comercio Ltda              24\n",
              "Monte & Filhos Ltda                           21\n",
              "Aeroposto Combustiveis Automotivos Ltda       18\n",
              "J. C. S. Guimaraes Ltda                       14\n",
              "Posto Catarinao Eireli                        10\n",
              "Auto Posto Playcenter Ltda                     4\n",
              "Machado & Andrade Ltda                         3\n",
              "Auto Posto Amazonas Stn Ltda                   2\n",
              "R E R Empreendimentos Eireli                   2\n",
              "C G Andrade Nonato                             1\n",
              "Posto Colonial Norte Ltda                      1\n",
              "Postos Gabriel Ii Ltda                         1\n",
              "Concessionaria Rocha Empreendimentos Ltda      1\n",
              "Name: REVENDA, dtype: int64"
            ]
          },
          "metadata": {},
          "execution_count": 20
        }
      ]
    },
    {
      "cell_type": "markdown",
      "source": [
        "A revenda com maior ocorrência de dados é a Automoto - Automoveis Do Amapa Ltda."
      ],
      "metadata": {
        "id": "cIGVsytajo9B"
      }
    },
    {
      "cell_type": "code",
      "source": [
        "automoto_atmv = df_ap.copy().query(\"PRODUTO == 'Gasolina'\\\n",
        "and REVENDA == 'Automoto - Automoveis Do Amapa Ltda'\")\n",
        "automoto_atmv.head()"
      ],
      "metadata": {
        "id": "-HavcTDXi_al",
        "colab": {
          "base_uri": "https://localhost:8080/",
          "height": 531
        },
        "outputId": "5be3bab8-f560-44b8-f9ba-0e48e8145a1e"
      },
      "execution_count": null,
      "outputs": [
        {
          "output_type": "execute_result",
          "data": {
            "text/plain": [
              "      SIGLA_REGIAO SIGLA_ESTADO MUNICIPIO  \\\n",
              "6664             N           Ap    Macapa   \n",
              "6665             N           Ap    Macapa   \n",
              "6741             N           Ap    Macapa   \n",
              "6743             N           Ap    Macapa   \n",
              "12180            N           Ap    Macapa   \n",
              "\n",
              "                                   REVENDA      CNPJ_DA_REVENDA  \\\n",
              "6664   Automoto - Automoveis Do Amapa Ltda   03.659.452/0013-01   \n",
              "6665   Automoto - Automoveis Do Amapa Ltda   03.659.452/0015-73   \n",
              "6741   Automoto - Automoveis Do Amapa Ltda   03.659.452/0006-82   \n",
              "6743   Automoto - Automoveis Do Amapa Ltda   03.659.452/0002-59   \n",
              "12180  Automoto - Automoveis Do Amapa Ltda   03.659.452/0014-92   \n",
              "\n",
              "                       NOME_DA_RUA NUMERO_RUA COMPLEMENTO          BAIRRO  \\\n",
              "6664    Avenida Carlos Lins Cortes       1844         NaN        Infraero   \n",
              "6665      Avenida Henrique Galucio        161     Letra A         Central   \n",
              "6741   Rua Cicero Marques De Souza       3134         NaN  Novo Horizonte   \n",
              "6743             Rua Hildemar Maia        900           A      Santa Rita   \n",
              "12180             Rua Eliezer Levy       1047     Letra A         Central   \n",
              "\n",
              "             CEP   PRODUTO DATA_DA_COLETA VALOR_DE_VENDA  VALOR_DE_COMPRA  \\\n",
              "6664   68908-074  Gasolina     04/01/2022           5,86              NaN   \n",
              "6665   68900-115  Gasolina     04/01/2022           5,86              NaN   \n",
              "6741   68909-803  Gasolina     05/01/2022           5,86              NaN   \n",
              "6743   68901-310  Gasolina     05/01/2022           5,86              NaN   \n",
              "12180  68900-083  Gasolina     06/01/2022           5,86              NaN   \n",
              "\n",
              "      UNIDADE_DE_MEDIDA       BANDEIRA  \n",
              "6664         R$ / Litro         Branca  \n",
              "6665         R$ / Litro         Branca  \n",
              "6741         R$ / Litro  Vibra Energia  \n",
              "6743         R$ / Litro         Branca  \n",
              "12180        R$ / Litro         Branca  "
            ],
            "text/html": [
              "\n",
              "  <div id=\"df-44286942-2977-4f6d-ba48-cec5c8c73ccd\">\n",
              "    <div class=\"colab-df-container\">\n",
              "      <div>\n",
              "<style scoped>\n",
              "    .dataframe tbody tr th:only-of-type {\n",
              "        vertical-align: middle;\n",
              "    }\n",
              "\n",
              "    .dataframe tbody tr th {\n",
              "        vertical-align: top;\n",
              "    }\n",
              "\n",
              "    .dataframe thead th {\n",
              "        text-align: right;\n",
              "    }\n",
              "</style>\n",
              "<table border=\"1\" class=\"dataframe\">\n",
              "  <thead>\n",
              "    <tr style=\"text-align: right;\">\n",
              "      <th></th>\n",
              "      <th>SIGLA_REGIAO</th>\n",
              "      <th>SIGLA_ESTADO</th>\n",
              "      <th>MUNICIPIO</th>\n",
              "      <th>REVENDA</th>\n",
              "      <th>CNPJ_DA_REVENDA</th>\n",
              "      <th>NOME_DA_RUA</th>\n",
              "      <th>NUMERO_RUA</th>\n",
              "      <th>COMPLEMENTO</th>\n",
              "      <th>BAIRRO</th>\n",
              "      <th>CEP</th>\n",
              "      <th>PRODUTO</th>\n",
              "      <th>DATA_DA_COLETA</th>\n",
              "      <th>VALOR_DE_VENDA</th>\n",
              "      <th>VALOR_DE_COMPRA</th>\n",
              "      <th>UNIDADE_DE_MEDIDA</th>\n",
              "      <th>BANDEIRA</th>\n",
              "    </tr>\n",
              "  </thead>\n",
              "  <tbody>\n",
              "    <tr>\n",
              "      <th>6664</th>\n",
              "      <td>N</td>\n",
              "      <td>Ap</td>\n",
              "      <td>Macapa</td>\n",
              "      <td>Automoto - Automoveis Do Amapa Ltda</td>\n",
              "      <td>03.659.452/0013-01</td>\n",
              "      <td>Avenida Carlos Lins Cortes</td>\n",
              "      <td>1844</td>\n",
              "      <td>NaN</td>\n",
              "      <td>Infraero</td>\n",
              "      <td>68908-074</td>\n",
              "      <td>Gasolina</td>\n",
              "      <td>04/01/2022</td>\n",
              "      <td>5,86</td>\n",
              "      <td>NaN</td>\n",
              "      <td>R$ / Litro</td>\n",
              "      <td>Branca</td>\n",
              "    </tr>\n",
              "    <tr>\n",
              "      <th>6665</th>\n",
              "      <td>N</td>\n",
              "      <td>Ap</td>\n",
              "      <td>Macapa</td>\n",
              "      <td>Automoto - Automoveis Do Amapa Ltda</td>\n",
              "      <td>03.659.452/0015-73</td>\n",
              "      <td>Avenida Henrique Galucio</td>\n",
              "      <td>161</td>\n",
              "      <td>Letra A</td>\n",
              "      <td>Central</td>\n",
              "      <td>68900-115</td>\n",
              "      <td>Gasolina</td>\n",
              "      <td>04/01/2022</td>\n",
              "      <td>5,86</td>\n",
              "      <td>NaN</td>\n",
              "      <td>R$ / Litro</td>\n",
              "      <td>Branca</td>\n",
              "    </tr>\n",
              "    <tr>\n",
              "      <th>6741</th>\n",
              "      <td>N</td>\n",
              "      <td>Ap</td>\n",
              "      <td>Macapa</td>\n",
              "      <td>Automoto - Automoveis Do Amapa Ltda</td>\n",
              "      <td>03.659.452/0006-82</td>\n",
              "      <td>Rua Cicero Marques De Souza</td>\n",
              "      <td>3134</td>\n",
              "      <td>NaN</td>\n",
              "      <td>Novo Horizonte</td>\n",
              "      <td>68909-803</td>\n",
              "      <td>Gasolina</td>\n",
              "      <td>05/01/2022</td>\n",
              "      <td>5,86</td>\n",
              "      <td>NaN</td>\n",
              "      <td>R$ / Litro</td>\n",
              "      <td>Vibra Energia</td>\n",
              "    </tr>\n",
              "    <tr>\n",
              "      <th>6743</th>\n",
              "      <td>N</td>\n",
              "      <td>Ap</td>\n",
              "      <td>Macapa</td>\n",
              "      <td>Automoto - Automoveis Do Amapa Ltda</td>\n",
              "      <td>03.659.452/0002-59</td>\n",
              "      <td>Rua Hildemar Maia</td>\n",
              "      <td>900</td>\n",
              "      <td>A</td>\n",
              "      <td>Santa Rita</td>\n",
              "      <td>68901-310</td>\n",
              "      <td>Gasolina</td>\n",
              "      <td>05/01/2022</td>\n",
              "      <td>5,86</td>\n",
              "      <td>NaN</td>\n",
              "      <td>R$ / Litro</td>\n",
              "      <td>Branca</td>\n",
              "    </tr>\n",
              "    <tr>\n",
              "      <th>12180</th>\n",
              "      <td>N</td>\n",
              "      <td>Ap</td>\n",
              "      <td>Macapa</td>\n",
              "      <td>Automoto - Automoveis Do Amapa Ltda</td>\n",
              "      <td>03.659.452/0014-92</td>\n",
              "      <td>Rua Eliezer Levy</td>\n",
              "      <td>1047</td>\n",
              "      <td>Letra A</td>\n",
              "      <td>Central</td>\n",
              "      <td>68900-083</td>\n",
              "      <td>Gasolina</td>\n",
              "      <td>06/01/2022</td>\n",
              "      <td>5,86</td>\n",
              "      <td>NaN</td>\n",
              "      <td>R$ / Litro</td>\n",
              "      <td>Branca</td>\n",
              "    </tr>\n",
              "  </tbody>\n",
              "</table>\n",
              "</div>\n",
              "      <button class=\"colab-df-convert\" onclick=\"convertToInteractive('df-44286942-2977-4f6d-ba48-cec5c8c73ccd')\"\n",
              "              title=\"Convert this dataframe to an interactive table.\"\n",
              "              style=\"display:none;\">\n",
              "        \n",
              "  <svg xmlns=\"http://www.w3.org/2000/svg\" height=\"24px\"viewBox=\"0 0 24 24\"\n",
              "       width=\"24px\">\n",
              "    <path d=\"M0 0h24v24H0V0z\" fill=\"none\"/>\n",
              "    <path d=\"M18.56 5.44l.94 2.06.94-2.06 2.06-.94-2.06-.94-.94-2.06-.94 2.06-2.06.94zm-11 1L8.5 8.5l.94-2.06 2.06-.94-2.06-.94L8.5 2.5l-.94 2.06-2.06.94zm10 10l.94 2.06.94-2.06 2.06-.94-2.06-.94-.94-2.06-.94 2.06-2.06.94z\"/><path d=\"M17.41 7.96l-1.37-1.37c-.4-.4-.92-.59-1.43-.59-.52 0-1.04.2-1.43.59L10.3 9.45l-7.72 7.72c-.78.78-.78 2.05 0 2.83L4 21.41c.39.39.9.59 1.41.59.51 0 1.02-.2 1.41-.59l7.78-7.78 2.81-2.81c.8-.78.8-2.07 0-2.86zM5.41 20L4 18.59l7.72-7.72 1.47 1.35L5.41 20z\"/>\n",
              "  </svg>\n",
              "      </button>\n",
              "      \n",
              "  <style>\n",
              "    .colab-df-container {\n",
              "      display:flex;\n",
              "      flex-wrap:wrap;\n",
              "      gap: 12px;\n",
              "    }\n",
              "\n",
              "    .colab-df-convert {\n",
              "      background-color: #E8F0FE;\n",
              "      border: none;\n",
              "      border-radius: 50%;\n",
              "      cursor: pointer;\n",
              "      display: none;\n",
              "      fill: #1967D2;\n",
              "      height: 32px;\n",
              "      padding: 0 0 0 0;\n",
              "      width: 32px;\n",
              "    }\n",
              "\n",
              "    .colab-df-convert:hover {\n",
              "      background-color: #E2EBFA;\n",
              "      box-shadow: 0px 1px 2px rgba(60, 64, 67, 0.3), 0px 1px 3px 1px rgba(60, 64, 67, 0.15);\n",
              "      fill: #174EA6;\n",
              "    }\n",
              "\n",
              "    [theme=dark] .colab-df-convert {\n",
              "      background-color: #3B4455;\n",
              "      fill: #D2E3FC;\n",
              "    }\n",
              "\n",
              "    [theme=dark] .colab-df-convert:hover {\n",
              "      background-color: #434B5C;\n",
              "      box-shadow: 0px 1px 3px 1px rgba(0, 0, 0, 0.15);\n",
              "      filter: drop-shadow(0px 1px 2px rgba(0, 0, 0, 0.3));\n",
              "      fill: #FFFFFF;\n",
              "    }\n",
              "  </style>\n",
              "\n",
              "      <script>\n",
              "        const buttonEl =\n",
              "          document.querySelector('#df-44286942-2977-4f6d-ba48-cec5c8c73ccd button.colab-df-convert');\n",
              "        buttonEl.style.display =\n",
              "          google.colab.kernel.accessAllowed ? 'block' : 'none';\n",
              "\n",
              "        async function convertToInteractive(key) {\n",
              "          const element = document.querySelector('#df-44286942-2977-4f6d-ba48-cec5c8c73ccd');\n",
              "          const dataTable =\n",
              "            await google.colab.kernel.invokeFunction('convertToInteractive',\n",
              "                                                     [key], {});\n",
              "          if (!dataTable) return;\n",
              "\n",
              "          const docLinkHtml = 'Like what you see? Visit the ' +\n",
              "            '<a target=\"_blank\" href=https://colab.research.google.com/notebooks/data_table.ipynb>data table notebook</a>'\n",
              "            + ' to learn more about interactive tables.';\n",
              "          element.innerHTML = '';\n",
              "          dataTable['output_type'] = 'display_data';\n",
              "          await google.colab.output.renderOutput(dataTable, element);\n",
              "          const docLink = document.createElement('div');\n",
              "          docLink.innerHTML = docLinkHtml;\n",
              "          element.appendChild(docLink);\n",
              "        }\n",
              "      </script>\n",
              "    </div>\n",
              "  </div>\n",
              "  "
            ]
          },
          "metadata": {},
          "execution_count": 21
        }
      ]
    },
    {
      "cell_type": "markdown",
      "source": [
        "Verificando se há registros vazios na variável VALOR_DE_VENDA."
      ],
      "metadata": {
        "id": "R7kk5CQdSo6g"
      }
    },
    {
      "cell_type": "code",
      "source": [
        "automoto_atmv.VALOR_DE_VENDA.isnull().value_counts()"
      ],
      "metadata": {
        "colab": {
          "base_uri": "https://localhost:8080/"
        },
        "id": "642jEb8FSeRS",
        "outputId": "945934c6-17cd-45d7-bb6c-ff1b9280d696"
      },
      "execution_count": null,
      "outputs": [
        {
          "output_type": "execute_result",
          "data": {
            "text/plain": [
              "False    330\n",
              "Name: VALOR_DE_VENDA, dtype: int64"
            ]
          },
          "metadata": {},
          "execution_count": 22
        }
      ]
    },
    {
      "cell_type": "markdown",
      "source": [
        "Serão removidas variáveis que não serão utilizadas nos estudos."
      ],
      "metadata": {
        "id": "xkbuT2hNkaxq"
      }
    },
    {
      "cell_type": "code",
      "source": [
        "automoto_atmv.SIGLA_REGIAO.value_counts()"
      ],
      "metadata": {
        "colab": {
          "base_uri": "https://localhost:8080/"
        },
        "id": "M8rgUnKx5YWF",
        "outputId": "cca73268-bc9e-4b4f-89fa-16243a919a40"
      },
      "execution_count": null,
      "outputs": [
        {
          "output_type": "execute_result",
          "data": {
            "text/plain": [
              "N    330\n",
              "Name: SIGLA_REGIAO, dtype: int64"
            ]
          },
          "metadata": {},
          "execution_count": 23
        }
      ]
    },
    {
      "cell_type": "code",
      "source": [
        "automoto_atmv.SIGLA_ESTADO.value_counts()"
      ],
      "metadata": {
        "colab": {
          "base_uri": "https://localhost:8080/"
        },
        "id": "Dfc0-1tK5wuH",
        "outputId": "59518ea6-f5f1-432d-b2af-d345b5f4b573"
      },
      "execution_count": null,
      "outputs": [
        {
          "output_type": "execute_result",
          "data": {
            "text/plain": [
              "Ap    330\n",
              "Name: SIGLA_ESTADO, dtype: int64"
            ]
          },
          "metadata": {},
          "execution_count": 24
        }
      ]
    },
    {
      "cell_type": "code",
      "source": [
        "automoto_atmv.VALOR_DE_COMPRA.isnull().value_counts()"
      ],
      "metadata": {
        "colab": {
          "base_uri": "https://localhost:8080/"
        },
        "id": "hGZ3JfuQ6MC8",
        "outputId": "3bd57ece-6aa7-433f-848c-25670cc34bc4"
      },
      "execution_count": null,
      "outputs": [
        {
          "output_type": "execute_result",
          "data": {
            "text/plain": [
              "True    330\n",
              "Name: VALOR_DE_COMPRA, dtype: int64"
            ]
          },
          "metadata": {},
          "execution_count": 25
        }
      ]
    },
    {
      "cell_type": "code",
      "source": [
        "automoto_atmv.drop(columns=[\"PRODUTO\", \"REVENDA\", \"SIGLA_ESTADO\",\n",
        "                            \"SIGLA_REGIAO\", \"VALOR_DE_COMPRA\"], inplace=True)"
      ],
      "metadata": {
        "id": "mrP_Q9vJWdIK"
      },
      "execution_count": null,
      "outputs": []
    },
    {
      "cell_type": "code",
      "source": [
        "automoto_atmv.shape"
      ],
      "metadata": {
        "colab": {
          "base_uri": "https://localhost:8080/"
        },
        "id": "7dtK52xcq8sR",
        "outputId": "fe8eb011-3c8e-4d58-fa89-880b3be264a2"
      },
      "execution_count": null,
      "outputs": [
        {
          "output_type": "execute_result",
          "data": {
            "text/plain": [
              "(330, 11)"
            ]
          },
          "metadata": {},
          "execution_count": 27
        }
      ]
    },
    {
      "cell_type": "markdown",
      "source": [
        "Será necessário fazer uma mudança do tipo da variável `VALOR_DE_VENDA`, suprindo a necessidade de operações numéricas do estudo."
      ],
      "metadata": {
        "id": "PMEhuQuEY20r"
      }
    },
    {
      "cell_type": "code",
      "source": [
        "vv_novo = [i.replace(\",\", \".\") for i in automoto_atmv.VALOR_DE_VENDA]"
      ],
      "metadata": {
        "id": "EcbaCWFMeOBf"
      },
      "execution_count": null,
      "outputs": []
    },
    {
      "cell_type": "code",
      "source": [
        "automoto_atmv.VALOR_DE_VENDA.replace(automoto_atmv.VALOR_DE_VENDA.values,\n",
        "                                     vv_novo, inplace=True)"
      ],
      "metadata": {
        "id": "riEGpr6id778"
      },
      "execution_count": null,
      "outputs": []
    },
    {
      "cell_type": "code",
      "source": [
        "automoto_atmv[\"VALOR_DE_VENDA\"] = automoto_atmv.VALOR_DE_VENDA.astype(float)"
      ],
      "metadata": {
        "id": "p9iKMDENfveA"
      },
      "execution_count": null,
      "outputs": []
    },
    {
      "cell_type": "markdown",
      "source": [
        "A população a ser utilizada no estudo contemplará os 4 bairros com maior quantidade de dados."
      ],
      "metadata": {
        "id": "BBMzrkO4ly11"
      }
    },
    {
      "cell_type": "code",
      "source": [
        "automoto_atmv.BAIRRO.value_counts()"
      ],
      "metadata": {
        "colab": {
          "base_uri": "https://localhost:8080/"
        },
        "id": "XCkN5jbgtvpg",
        "outputId": "6ddabc0c-8c8b-4b6f-b94d-354b27d5db73"
      },
      "execution_count": null,
      "outputs": [
        {
          "output_type": "execute_result",
          "data": {
            "text/plain": [
              "Central           103\n",
              "Pacoval            47\n",
              "Santa Rita         40\n",
              "Buritizal          39\n",
              "Trem               28\n",
              "Novo Horizonte     22\n",
              "Infraero           21\n",
              "Congos             12\n",
              "Novo Buritizal     11\n",
              "Sao Jose            7\n",
              "Name: BAIRRO, dtype: int64"
            ]
          },
          "metadata": {},
          "execution_count": 31
        }
      ]
    },
    {
      "cell_type": "code",
      "source": [
        "bairros = list(automoto_atmv.BAIRRO.value_counts().index)[:4]"
      ],
      "metadata": {
        "id": "Y0KUOGdw34_8"
      },
      "execution_count": null,
      "outputs": []
    },
    {
      "cell_type": "code",
      "source": [
        "automoto_atmv2 = automoto_atmv.copy()[automoto_atmv[\"BAIRRO\"].isin(bairros)]\n",
        "automoto_atmv2.head()"
      ],
      "metadata": {
        "colab": {
          "base_uri": "https://localhost:8080/",
          "height": 337
        },
        "id": "GZme48RV2i5C",
        "outputId": "94051b74-ee20-47d1-f960-b4c6ddd92081"
      },
      "execution_count": null,
      "outputs": [
        {
          "output_type": "execute_result",
          "data": {
            "text/plain": [
              "      MUNICIPIO      CNPJ_DA_REVENDA               NOME_DA_RUA NUMERO_RUA  \\\n",
              "6665     Macapa   03.659.452/0015-73  Avenida Henrique Galucio        161   \n",
              "6743     Macapa   03.659.452/0002-59         Rua Hildemar Maia        900   \n",
              "12180    Macapa   03.659.452/0014-92          Rua Eliezer Levy       1047   \n",
              "11802    Macapa   03.659.452/0007-63         Rua Hildemar Maia       2699   \n",
              "11100    Macapa   03.659.452/0001-78             Rua Guanabara        503   \n",
              "\n",
              "      COMPLEMENTO      BAIRRO        CEP DATA_DA_COLETA  VALOR_DE_VENDA  \\\n",
              "6665      Letra A     Central  68900-115     04/01/2022            5.86   \n",
              "6743            A  Santa Rita  68901-310     05/01/2022            5.86   \n",
              "12180     Letra A     Central  68900-083     06/01/2022            5.86   \n",
              "11802         NaN   Buritizal  68902-870     06/01/2022            5.86   \n",
              "11100         NaN     Pacoval  68908-360     06/01/2022            5.86   \n",
              "\n",
              "      UNIDADE_DE_MEDIDA BANDEIRA  \n",
              "6665         R$ / Litro   Branca  \n",
              "6743         R$ / Litro   Branca  \n",
              "12180        R$ / Litro   Branca  \n",
              "11802        R$ / Litro   Branca  \n",
              "11100        R$ / Litro   Branca  "
            ],
            "text/html": [
              "\n",
              "  <div id=\"df-942ea1d9-1100-4f87-828e-67452f58c256\">\n",
              "    <div class=\"colab-df-container\">\n",
              "      <div>\n",
              "<style scoped>\n",
              "    .dataframe tbody tr th:only-of-type {\n",
              "        vertical-align: middle;\n",
              "    }\n",
              "\n",
              "    .dataframe tbody tr th {\n",
              "        vertical-align: top;\n",
              "    }\n",
              "\n",
              "    .dataframe thead th {\n",
              "        text-align: right;\n",
              "    }\n",
              "</style>\n",
              "<table border=\"1\" class=\"dataframe\">\n",
              "  <thead>\n",
              "    <tr style=\"text-align: right;\">\n",
              "      <th></th>\n",
              "      <th>MUNICIPIO</th>\n",
              "      <th>CNPJ_DA_REVENDA</th>\n",
              "      <th>NOME_DA_RUA</th>\n",
              "      <th>NUMERO_RUA</th>\n",
              "      <th>COMPLEMENTO</th>\n",
              "      <th>BAIRRO</th>\n",
              "      <th>CEP</th>\n",
              "      <th>DATA_DA_COLETA</th>\n",
              "      <th>VALOR_DE_VENDA</th>\n",
              "      <th>UNIDADE_DE_MEDIDA</th>\n",
              "      <th>BANDEIRA</th>\n",
              "    </tr>\n",
              "  </thead>\n",
              "  <tbody>\n",
              "    <tr>\n",
              "      <th>6665</th>\n",
              "      <td>Macapa</td>\n",
              "      <td>03.659.452/0015-73</td>\n",
              "      <td>Avenida Henrique Galucio</td>\n",
              "      <td>161</td>\n",
              "      <td>Letra A</td>\n",
              "      <td>Central</td>\n",
              "      <td>68900-115</td>\n",
              "      <td>04/01/2022</td>\n",
              "      <td>5.86</td>\n",
              "      <td>R$ / Litro</td>\n",
              "      <td>Branca</td>\n",
              "    </tr>\n",
              "    <tr>\n",
              "      <th>6743</th>\n",
              "      <td>Macapa</td>\n",
              "      <td>03.659.452/0002-59</td>\n",
              "      <td>Rua Hildemar Maia</td>\n",
              "      <td>900</td>\n",
              "      <td>A</td>\n",
              "      <td>Santa Rita</td>\n",
              "      <td>68901-310</td>\n",
              "      <td>05/01/2022</td>\n",
              "      <td>5.86</td>\n",
              "      <td>R$ / Litro</td>\n",
              "      <td>Branca</td>\n",
              "    </tr>\n",
              "    <tr>\n",
              "      <th>12180</th>\n",
              "      <td>Macapa</td>\n",
              "      <td>03.659.452/0014-92</td>\n",
              "      <td>Rua Eliezer Levy</td>\n",
              "      <td>1047</td>\n",
              "      <td>Letra A</td>\n",
              "      <td>Central</td>\n",
              "      <td>68900-083</td>\n",
              "      <td>06/01/2022</td>\n",
              "      <td>5.86</td>\n",
              "      <td>R$ / Litro</td>\n",
              "      <td>Branca</td>\n",
              "    </tr>\n",
              "    <tr>\n",
              "      <th>11802</th>\n",
              "      <td>Macapa</td>\n",
              "      <td>03.659.452/0007-63</td>\n",
              "      <td>Rua Hildemar Maia</td>\n",
              "      <td>2699</td>\n",
              "      <td>NaN</td>\n",
              "      <td>Buritizal</td>\n",
              "      <td>68902-870</td>\n",
              "      <td>06/01/2022</td>\n",
              "      <td>5.86</td>\n",
              "      <td>R$ / Litro</td>\n",
              "      <td>Branca</td>\n",
              "    </tr>\n",
              "    <tr>\n",
              "      <th>11100</th>\n",
              "      <td>Macapa</td>\n",
              "      <td>03.659.452/0001-78</td>\n",
              "      <td>Rua Guanabara</td>\n",
              "      <td>503</td>\n",
              "      <td>NaN</td>\n",
              "      <td>Pacoval</td>\n",
              "      <td>68908-360</td>\n",
              "      <td>06/01/2022</td>\n",
              "      <td>5.86</td>\n",
              "      <td>R$ / Litro</td>\n",
              "      <td>Branca</td>\n",
              "    </tr>\n",
              "  </tbody>\n",
              "</table>\n",
              "</div>\n",
              "      <button class=\"colab-df-convert\" onclick=\"convertToInteractive('df-942ea1d9-1100-4f87-828e-67452f58c256')\"\n",
              "              title=\"Convert this dataframe to an interactive table.\"\n",
              "              style=\"display:none;\">\n",
              "        \n",
              "  <svg xmlns=\"http://www.w3.org/2000/svg\" height=\"24px\"viewBox=\"0 0 24 24\"\n",
              "       width=\"24px\">\n",
              "    <path d=\"M0 0h24v24H0V0z\" fill=\"none\"/>\n",
              "    <path d=\"M18.56 5.44l.94 2.06.94-2.06 2.06-.94-2.06-.94-.94-2.06-.94 2.06-2.06.94zm-11 1L8.5 8.5l.94-2.06 2.06-.94-2.06-.94L8.5 2.5l-.94 2.06-2.06.94zm10 10l.94 2.06.94-2.06 2.06-.94-2.06-.94-.94-2.06-.94 2.06-2.06.94z\"/><path d=\"M17.41 7.96l-1.37-1.37c-.4-.4-.92-.59-1.43-.59-.52 0-1.04.2-1.43.59L10.3 9.45l-7.72 7.72c-.78.78-.78 2.05 0 2.83L4 21.41c.39.39.9.59 1.41.59.51 0 1.02-.2 1.41-.59l7.78-7.78 2.81-2.81c.8-.78.8-2.07 0-2.86zM5.41 20L4 18.59l7.72-7.72 1.47 1.35L5.41 20z\"/>\n",
              "  </svg>\n",
              "      </button>\n",
              "      \n",
              "  <style>\n",
              "    .colab-df-container {\n",
              "      display:flex;\n",
              "      flex-wrap:wrap;\n",
              "      gap: 12px;\n",
              "    }\n",
              "\n",
              "    .colab-df-convert {\n",
              "      background-color: #E8F0FE;\n",
              "      border: none;\n",
              "      border-radius: 50%;\n",
              "      cursor: pointer;\n",
              "      display: none;\n",
              "      fill: #1967D2;\n",
              "      height: 32px;\n",
              "      padding: 0 0 0 0;\n",
              "      width: 32px;\n",
              "    }\n",
              "\n",
              "    .colab-df-convert:hover {\n",
              "      background-color: #E2EBFA;\n",
              "      box-shadow: 0px 1px 2px rgba(60, 64, 67, 0.3), 0px 1px 3px 1px rgba(60, 64, 67, 0.15);\n",
              "      fill: #174EA6;\n",
              "    }\n",
              "\n",
              "    [theme=dark] .colab-df-convert {\n",
              "      background-color: #3B4455;\n",
              "      fill: #D2E3FC;\n",
              "    }\n",
              "\n",
              "    [theme=dark] .colab-df-convert:hover {\n",
              "      background-color: #434B5C;\n",
              "      box-shadow: 0px 1px 3px 1px rgba(0, 0, 0, 0.15);\n",
              "      filter: drop-shadow(0px 1px 2px rgba(0, 0, 0, 0.3));\n",
              "      fill: #FFFFFF;\n",
              "    }\n",
              "  </style>\n",
              "\n",
              "      <script>\n",
              "        const buttonEl =\n",
              "          document.querySelector('#df-942ea1d9-1100-4f87-828e-67452f58c256 button.colab-df-convert');\n",
              "        buttonEl.style.display =\n",
              "          google.colab.kernel.accessAllowed ? 'block' : 'none';\n",
              "\n",
              "        async function convertToInteractive(key) {\n",
              "          const element = document.querySelector('#df-942ea1d9-1100-4f87-828e-67452f58c256');\n",
              "          const dataTable =\n",
              "            await google.colab.kernel.invokeFunction('convertToInteractive',\n",
              "                                                     [key], {});\n",
              "          if (!dataTable) return;\n",
              "\n",
              "          const docLinkHtml = 'Like what you see? Visit the ' +\n",
              "            '<a target=\"_blank\" href=https://colab.research.google.com/notebooks/data_table.ipynb>data table notebook</a>'\n",
              "            + ' to learn more about interactive tables.';\n",
              "          element.innerHTML = '';\n",
              "          dataTable['output_type'] = 'display_data';\n",
              "          await google.colab.output.renderOutput(dataTable, element);\n",
              "          const docLink = document.createElement('div');\n",
              "          docLink.innerHTML = docLinkHtml;\n",
              "          element.appendChild(docLink);\n",
              "        }\n",
              "      </script>\n",
              "    </div>\n",
              "  </div>\n",
              "  "
            ]
          },
          "metadata": {},
          "execution_count": 33
        }
      ]
    },
    {
      "cell_type": "markdown",
      "source": [
        "# DESCRIÇÃO DOS DADOS"
      ],
      "metadata": {
        "id": "QiYHogobzp4F"
      }
    },
    {
      "cell_type": "markdown",
      "source": [
        "## Medidas de Tendência Central\n",
        "Com as Medidas de Tendência Central, o conjunto de dados pode ser representado como um todo, com suas características sendo identificadas."
      ],
      "metadata": {
        "id": "5XruI1utz3kn"
      }
    },
    {
      "cell_type": "markdown",
      "source": [
        "Tendo em vista que o conjunto de dados é datado ao ano de 2022, será feito um ajuste na data, para facilitar a visualização dos dados."
      ],
      "metadata": {
        "id": "O1D55yVd0do0"
      }
    },
    {
      "cell_type": "code",
      "source": [
        "ajuste_data = [i.replace(\"/2022\", '') for i in automoto_atmv2.DATA_DA_COLETA]"
      ],
      "metadata": {
        "id": "nU6B8ndbsM0A"
      },
      "execution_count": null,
      "outputs": []
    },
    {
      "cell_type": "code",
      "source": [
        "automoto_atmv2.DATA_DA_COLETA.replace(automoto_atmv2.DATA_DA_COLETA.values,\n",
        "                                      ajuste_data, inplace=True)"
      ],
      "metadata": {
        "id": "4UwW8hHEuz4l"
      },
      "execution_count": null,
      "outputs": []
    },
    {
      "cell_type": "markdown",
      "source": [
        "Serão criado 4 subdataframes, para as medidas de tendência central e uso posterior."
      ],
      "metadata": {
        "id": "H0bp2xy15dPS"
      }
    },
    {
      "cell_type": "code",
      "source": [
        "atmv_bairro1 = automoto_atmv2[automoto_atmv2.BAIRRO == bairros[0]]\n",
        "atmv_bairro2 = automoto_atmv2[automoto_atmv2.BAIRRO == bairros[1]]\n",
        "atmv_bairro3 = automoto_atmv2[automoto_atmv2.BAIRRO == bairros[2]]\n",
        "atmv_bairro4 = automoto_atmv2[automoto_atmv2.BAIRRO == bairros[3]]"
      ],
      "metadata": {
        "id": "Wc5pdZRLo1PC"
      },
      "execution_count": null,
      "outputs": []
    },
    {
      "cell_type": "markdown",
      "source": [
        "**Média:**  \n",
        "Com a média, têm-se a concentração dos dados."
      ],
      "metadata": {
        "id": "RP5eakDv0v97"
      }
    },
    {
      "cell_type": "code",
      "source": [
        "md_b1 = round(atmv_bairro1.VALOR_DE_VENDA.mean(), 3)\n",
        "md_b2 = round(atmv_bairro2.VALOR_DE_VENDA.mean(), 3)\n",
        "md_b3 = round(atmv_bairro3.VALOR_DE_VENDA.mean(), 3)\n",
        "md_b4 = round(atmv_bairro4.VALOR_DE_VENDA.mean(), 3)"
      ],
      "metadata": {
        "id": "pNsD-fcpOIpp"
      },
      "execution_count": null,
      "outputs": []
    },
    {
      "cell_type": "markdown",
      "source": [
        "**Moda:**  \n",
        "A moda mostra o valor, ou valores que mais se repetem nos dados."
      ],
      "metadata": {
        "id": "O8jv75gO1nTB"
      }
    },
    {
      "cell_type": "code",
      "source": [
        "mod_b1 = list(atmv_bairro1.VALOR_DE_VENDA.mode())\n",
        "mod_b2 = list(atmv_bairro2.VALOR_DE_VENDA.mode())\n",
        "mod_b3 = list(atmv_bairro3.VALOR_DE_VENDA.mode())\n",
        "mod_b4 = list(atmv_bairro4.VALOR_DE_VENDA.mode())"
      ],
      "metadata": {
        "id": "gaVz9-ZtrS3I"
      },
      "execution_count": null,
      "outputs": []
    },
    {
      "cell_type": "markdown",
      "source": [
        "**Mediana:**  \n",
        "Com a mediana obtemos o valor central no dataset."
      ],
      "metadata": {
        "id": "kDmrlFat2ELL"
      }
    },
    {
      "cell_type": "code",
      "source": [
        "mdn_b1 = round(atmv_bairro1.VALOR_DE_VENDA.median(), 3)\n",
        "mdn_b2 = round(atmv_bairro2.VALOR_DE_VENDA.median(), 3)\n",
        "mdn_b3 = round(atmv_bairro3.VALOR_DE_VENDA.median(), 3)\n",
        "mdn_b4 = round(atmv_bairro4.VALOR_DE_VENDA.median(), 3)"
      ],
      "metadata": {
        "id": "G2U-cix7qmN3"
      },
      "execution_count": null,
      "outputs": []
    },
    {
      "cell_type": "code",
      "source": [
        "dados_mtc = {\"MEDIA\": [md_b1, md_b2, md_b3, md_b4],\n",
        "             \"MODA\": [mod_b1, mod_b2, mod_b3, mod_b4],\n",
        "             \"MEDIANA\": [mdn_b1, mdn_b2, mdn_b3, mdn_b4]}"
      ],
      "metadata": {
        "id": "zUZIs61ssFuE"
      },
      "execution_count": null,
      "outputs": []
    },
    {
      "cell_type": "code",
      "source": [
        "df_mtc = pd.DataFrame(dados_mtc, index=bairros)\n",
        "df_mtc"
      ],
      "metadata": {
        "colab": {
          "base_uri": "https://localhost:8080/",
          "height": 175
        },
        "id": "lO4nVGyNtxdF",
        "outputId": "8dc51321-8457-4da4-d03a-3e5d2ecc202d"
      },
      "execution_count": null,
      "outputs": [
        {
          "output_type": "execute_result",
          "data": {
            "text/plain": [
              "            MEDIA          MODA  MEDIANA\n",
              "Central     5.486        [6.44]    5.790\n",
              "Pacoval     5.504  [6.25, 6.44]    5.790\n",
              "Santa Rita  5.463        [6.44]    5.775\n",
              "Buritizal   5.549  [6.25, 6.44]    5.820"
            ],
            "text/html": [
              "\n",
              "  <div id=\"df-08caa252-acdd-48f1-bfad-efea26b6a17b\">\n",
              "    <div class=\"colab-df-container\">\n",
              "      <div>\n",
              "<style scoped>\n",
              "    .dataframe tbody tr th:only-of-type {\n",
              "        vertical-align: middle;\n",
              "    }\n",
              "\n",
              "    .dataframe tbody tr th {\n",
              "        vertical-align: top;\n",
              "    }\n",
              "\n",
              "    .dataframe thead th {\n",
              "        text-align: right;\n",
              "    }\n",
              "</style>\n",
              "<table border=\"1\" class=\"dataframe\">\n",
              "  <thead>\n",
              "    <tr style=\"text-align: right;\">\n",
              "      <th></th>\n",
              "      <th>MEDIA</th>\n",
              "      <th>MODA</th>\n",
              "      <th>MEDIANA</th>\n",
              "    </tr>\n",
              "  </thead>\n",
              "  <tbody>\n",
              "    <tr>\n",
              "      <th>Central</th>\n",
              "      <td>5.486</td>\n",
              "      <td>[6.44]</td>\n",
              "      <td>5.790</td>\n",
              "    </tr>\n",
              "    <tr>\n",
              "      <th>Pacoval</th>\n",
              "      <td>5.504</td>\n",
              "      <td>[6.25, 6.44]</td>\n",
              "      <td>5.790</td>\n",
              "    </tr>\n",
              "    <tr>\n",
              "      <th>Santa Rita</th>\n",
              "      <td>5.463</td>\n",
              "      <td>[6.44]</td>\n",
              "      <td>5.775</td>\n",
              "    </tr>\n",
              "    <tr>\n",
              "      <th>Buritizal</th>\n",
              "      <td>5.549</td>\n",
              "      <td>[6.25, 6.44]</td>\n",
              "      <td>5.820</td>\n",
              "    </tr>\n",
              "  </tbody>\n",
              "</table>\n",
              "</div>\n",
              "      <button class=\"colab-df-convert\" onclick=\"convertToInteractive('df-08caa252-acdd-48f1-bfad-efea26b6a17b')\"\n",
              "              title=\"Convert this dataframe to an interactive table.\"\n",
              "              style=\"display:none;\">\n",
              "        \n",
              "  <svg xmlns=\"http://www.w3.org/2000/svg\" height=\"24px\"viewBox=\"0 0 24 24\"\n",
              "       width=\"24px\">\n",
              "    <path d=\"M0 0h24v24H0V0z\" fill=\"none\"/>\n",
              "    <path d=\"M18.56 5.44l.94 2.06.94-2.06 2.06-.94-2.06-.94-.94-2.06-.94 2.06-2.06.94zm-11 1L8.5 8.5l.94-2.06 2.06-.94-2.06-.94L8.5 2.5l-.94 2.06-2.06.94zm10 10l.94 2.06.94-2.06 2.06-.94-2.06-.94-.94-2.06-.94 2.06-2.06.94z\"/><path d=\"M17.41 7.96l-1.37-1.37c-.4-.4-.92-.59-1.43-.59-.52 0-1.04.2-1.43.59L10.3 9.45l-7.72 7.72c-.78.78-.78 2.05 0 2.83L4 21.41c.39.39.9.59 1.41.59.51 0 1.02-.2 1.41-.59l7.78-7.78 2.81-2.81c.8-.78.8-2.07 0-2.86zM5.41 20L4 18.59l7.72-7.72 1.47 1.35L5.41 20z\"/>\n",
              "  </svg>\n",
              "      </button>\n",
              "      \n",
              "  <style>\n",
              "    .colab-df-container {\n",
              "      display:flex;\n",
              "      flex-wrap:wrap;\n",
              "      gap: 12px;\n",
              "    }\n",
              "\n",
              "    .colab-df-convert {\n",
              "      background-color: #E8F0FE;\n",
              "      border: none;\n",
              "      border-radius: 50%;\n",
              "      cursor: pointer;\n",
              "      display: none;\n",
              "      fill: #1967D2;\n",
              "      height: 32px;\n",
              "      padding: 0 0 0 0;\n",
              "      width: 32px;\n",
              "    }\n",
              "\n",
              "    .colab-df-convert:hover {\n",
              "      background-color: #E2EBFA;\n",
              "      box-shadow: 0px 1px 2px rgba(60, 64, 67, 0.3), 0px 1px 3px 1px rgba(60, 64, 67, 0.15);\n",
              "      fill: #174EA6;\n",
              "    }\n",
              "\n",
              "    [theme=dark] .colab-df-convert {\n",
              "      background-color: #3B4455;\n",
              "      fill: #D2E3FC;\n",
              "    }\n",
              "\n",
              "    [theme=dark] .colab-df-convert:hover {\n",
              "      background-color: #434B5C;\n",
              "      box-shadow: 0px 1px 3px 1px rgba(0, 0, 0, 0.15);\n",
              "      filter: drop-shadow(0px 1px 2px rgba(0, 0, 0, 0.3));\n",
              "      fill: #FFFFFF;\n",
              "    }\n",
              "  </style>\n",
              "\n",
              "      <script>\n",
              "        const buttonEl =\n",
              "          document.querySelector('#df-08caa252-acdd-48f1-bfad-efea26b6a17b button.colab-df-convert');\n",
              "        buttonEl.style.display =\n",
              "          google.colab.kernel.accessAllowed ? 'block' : 'none';\n",
              "\n",
              "        async function convertToInteractive(key) {\n",
              "          const element = document.querySelector('#df-08caa252-acdd-48f1-bfad-efea26b6a17b');\n",
              "          const dataTable =\n",
              "            await google.colab.kernel.invokeFunction('convertToInteractive',\n",
              "                                                     [key], {});\n",
              "          if (!dataTable) return;\n",
              "\n",
              "          const docLinkHtml = 'Like what you see? Visit the ' +\n",
              "            '<a target=\"_blank\" href=https://colab.research.google.com/notebooks/data_table.ipynb>data table notebook</a>'\n",
              "            + ' to learn more about interactive tables.';\n",
              "          element.innerHTML = '';\n",
              "          dataTable['output_type'] = 'display_data';\n",
              "          await google.colab.output.renderOutput(dataTable, element);\n",
              "          const docLink = document.createElement('div');\n",
              "          docLink.innerHTML = docLinkHtml;\n",
              "          element.appendChild(docLink);\n",
              "        }\n",
              "      </script>\n",
              "    </div>\n",
              "  </div>\n",
              "  "
            ]
          },
          "metadata": {},
          "execution_count": 41
        }
      ]
    },
    {
      "cell_type": "markdown",
      "source": [
        "Apesar de se tratar de 4 postos de vendas diferentes, as medidas de tendência central encontram-se em coesão, pois tratam-se da mesma revenda."
      ],
      "metadata": {
        "id": "y5847ZceQFyM"
      }
    },
    {
      "cell_type": "markdown",
      "source": [
        "## Visualização dos Dados"
      ],
      "metadata": {
        "id": "GE1XKAGn3RPd"
      }
    },
    {
      "cell_type": "markdown",
      "source": [
        "### Boxplot\n",
        "O boxplot representa a distribuição dos dados no conjunto. O mesmo contém os 4 postos com maior quantidade de dados."
      ],
      "metadata": {
        "id": "OkbB3NvSRp4j"
      }
    },
    {
      "cell_type": "code",
      "source": [
        "import plotly.express as px"
      ],
      "metadata": {
        "id": "DyZGLrNnPDZt"
      },
      "execution_count": null,
      "outputs": []
    },
    {
      "cell_type": "code",
      "source": [
        "tema = px.colors.qualitative.Light24"
      ],
      "metadata": {
        "id": "eVAtaSQmckAy"
      },
      "execution_count": null,
      "outputs": []
    },
    {
      "cell_type": "code",
      "source": [
        "boxplot_precos = px.box(automoto_atmv2, y=\"VALOR_DE_VENDA\", color=\"BAIRRO\",\n",
        "                   points=\"all\", notched=True,\n",
        "                   color_discrete_sequence=tema)\n",
        "\n",
        "boxplot_precos.update_layout(width=1000, plot_bgcolor=\"#F9F9F9\",\n",
        "                        title=dict(text=\"Automoto - Automoveis Do Amapá\\\n",
        " Ltda.<br>Preço da Gasolina 2022<br>\", x=0.5, y=0.96, font_size=22),\n",
        "                        legend=dict(title=\"Bairro\", bgcolor=\"#F9F9F9\",\n",
        "                                    bordercolor=\"#D0D1D3\", borderwidth=1,\n",
        "                                    font=dict(size=14)))\n",
        "\n",
        "boxplot_precos.update_xaxes(showline=True, linewidth=1, linecolor=\"lightgrey\")\n",
        "\n",
        "boxplot_precos.update_yaxes(title=\"Valor de Venda\", showline=True, linewidth=1,\n",
        "                            linecolor=\"lightgrey\", tickprefix=\"R$\")"
      ],
      "metadata": {
        "colab": {
          "base_uri": "https://localhost:8080/",
          "height": 542
        },
        "id": "NS_s7MybzN5Y",
        "outputId": "b95b631a-adb2-4feb-ba57-26e2857989af"
      },
      "execution_count": null,
      "outputs": [
        {
          "output_type": "display_data",
          "data": {
            "text/html": [
              "<html>\n",
              "<head><meta charset=\"utf-8\" /></head>\n",
              "<body>\n",
              "    <div>            <script src=\"https://cdnjs.cloudflare.com/ajax/libs/mathjax/2.7.5/MathJax.js?config=TeX-AMS-MML_SVG\"></script><script type=\"text/javascript\">if (window.MathJax) {MathJax.Hub.Config({SVG: {font: \"STIX-Web\"}});}</script>                <script type=\"text/javascript\">window.PlotlyConfig = {MathJaxConfig: 'local'};</script>\n",
              "        <script src=\"https://cdn.plot.ly/plotly-2.8.3.min.js\"></script>                <div id=\"eab9a4c9-a0b0-4e75-b133-d45d20e0da1e\" class=\"plotly-graph-div\" style=\"height:525px; width:1000px;\"></div>            <script type=\"text/javascript\">                                    window.PLOTLYENV=window.PLOTLYENV || {};                                    if (document.getElementById(\"eab9a4c9-a0b0-4e75-b133-d45d20e0da1e\")) {                    Plotly.newPlot(                        \"eab9a4c9-a0b0-4e75-b133-d45d20e0da1e\",                        [{\"alignmentgroup\":\"True\",\"boxpoints\":\"all\",\"hovertemplate\":\"BAIRRO=Central<br>VALOR_DE_VENDA=%{y}<extra></extra>\",\"legendgroup\":\"Central\",\"marker\":{\"color\":\"#FD3216\"},\"name\":\"Central\",\"notched\":true,\"offsetgroup\":\"Central\",\"orientation\":\"v\",\"showlegend\":true,\"x0\":\" \",\"xaxis\":\"x\",\"y\":[5.86,5.86,5.79,5.79,5.84,5.84,5.84,5.84,5.84,5.84,5.84,5.82,5.82,5.79,5.79,5.79,5.79,5.82,5.82,6.25,6.25,6.25,6.25,6.25,6.25,6.25,6.25,6.25,6.25,6.39,6.39,6.39,6.39,6.44,6.44,6.44,6.44,6.44,6.44,6.44,6.44,6.44,6.44,6.44,6.44,6.44,6.44,6.39,6.39,6.39,6.44,6.44,6.44,6.05,5.76,5.22,5.18,5.18,5.18,5.18,5.12,5.05,5.05,4.93,4.93,4.93,4.93,4.93,4.93,4.93,4.78,4.78,4.78,4.78,4.78,4.78,4.78,4.59,4.59,4.59,4.42,4.42,4.42,4.42,4.42,4.42,4.49,4.49,4.49,4.59,4.59,4.59,4.59,4.59,4.59,4.49,4.49,4.43,4.43,4.43,4.43,4.39,4.39],\"y0\":\" \",\"yaxis\":\"y\",\"type\":\"box\"},{\"alignmentgroup\":\"True\",\"boxpoints\":\"all\",\"hovertemplate\":\"BAIRRO=Santa Rita<br>VALOR_DE_VENDA=%{y}<extra></extra>\",\"legendgroup\":\"Santa Rita\",\"marker\":{\"color\":\"#00FE35\"},\"name\":\"Santa Rita\",\"notched\":true,\"offsetgroup\":\"Santa Rita\",\"orientation\":\"v\",\"showlegend\":true,\"x0\":\" \",\"xaxis\":\"x\",\"y\":[5.86,5.84,5.84,5.84,5.84,5.82,5.79,5.79,5.82,6.25,6.25,6.25,6.39,6.44,6.44,6.44,6.44,6.44,6.39,6.44,5.76,5.41,5.18,5.12,5.05,4.93,4.93,4.93,4.78,4.78,4.59,4.42,4.42,4.49,4.49,4.59,4.59,4.59,4.43,4.43],\"y0\":\" \",\"yaxis\":\"y\",\"type\":\"box\"},{\"alignmentgroup\":\"True\",\"boxpoints\":\"all\",\"hovertemplate\":\"BAIRRO=Buritizal<br>VALOR_DE_VENDA=%{y}<extra></extra>\",\"legendgroup\":\"Buritizal\",\"marker\":{\"color\":\"#6A76FC\"},\"name\":\"Buritizal\",\"notched\":true,\"offsetgroup\":\"Buritizal\",\"orientation\":\"v\",\"showlegend\":true,\"x0\":\" \",\"xaxis\":\"x\",\"y\":[5.86,5.79,5.84,5.84,5.84,5.82,5.79,5.79,5.82,6.25,6.25,6.25,6.25,6.25,6.39,6.39,6.44,6.44,6.44,6.44,6.39,6.44,6.05,5.18,5.18,5.05,4.93,4.93,4.78,4.78,4.59,4.42,4.49,4.49,4.59,4.59,4.49,4.43,4.43],\"y0\":\" \",\"yaxis\":\"y\",\"type\":\"box\"},{\"alignmentgroup\":\"True\",\"boxpoints\":\"all\",\"hovertemplate\":\"BAIRRO=Pacoval<br>VALOR_DE_VENDA=%{y}<extra></extra>\",\"legendgroup\":\"Pacoval\",\"marker\":{\"color\":\"#FED4C4\"},\"name\":\"Pacoval\",\"notched\":true,\"offsetgroup\":\"Pacoval\",\"orientation\":\"v\",\"showlegend\":true,\"x0\":\" \",\"xaxis\":\"x\",\"y\":[5.86,5.79,5.84,5.84,5.84,5.84,5.82,5.79,5.79,5.82,6.25,6.25,6.25,6.25,6.25,6.25,6.39,6.39,6.44,6.44,6.44,6.44,6.44,6.39,6.44,5.76,5.49,5.18,5.18,5.05,4.93,4.93,4.93,4.78,4.78,4.59,4.42,4.42,4.49,4.49,4.59,4.59,4.59,4.59,4.49,4.43,4.43],\"y0\":\" \",\"yaxis\":\"y\",\"type\":\"box\"}],                        {\"template\":{\"data\":{\"bar\":[{\"error_x\":{\"color\":\"#2a3f5f\"},\"error_y\":{\"color\":\"#2a3f5f\"},\"marker\":{\"line\":{\"color\":\"#E5ECF6\",\"width\":0.5},\"pattern\":{\"fillmode\":\"overlay\",\"size\":10,\"solidity\":0.2}},\"type\":\"bar\"}],\"barpolar\":[{\"marker\":{\"line\":{\"color\":\"#E5ECF6\",\"width\":0.5},\"pattern\":{\"fillmode\":\"overlay\",\"size\":10,\"solidity\":0.2}},\"type\":\"barpolar\"}],\"carpet\":[{\"aaxis\":{\"endlinecolor\":\"#2a3f5f\",\"gridcolor\":\"white\",\"linecolor\":\"white\",\"minorgridcolor\":\"white\",\"startlinecolor\":\"#2a3f5f\"},\"baxis\":{\"endlinecolor\":\"#2a3f5f\",\"gridcolor\":\"white\",\"linecolor\":\"white\",\"minorgridcolor\":\"white\",\"startlinecolor\":\"#2a3f5f\"},\"type\":\"carpet\"}],\"choropleth\":[{\"colorbar\":{\"outlinewidth\":0,\"ticks\":\"\"},\"type\":\"choropleth\"}],\"contour\":[{\"colorbar\":{\"outlinewidth\":0,\"ticks\":\"\"},\"colorscale\":[[0.0,\"#0d0887\"],[0.1111111111111111,\"#46039f\"],[0.2222222222222222,\"#7201a8\"],[0.3333333333333333,\"#9c179e\"],[0.4444444444444444,\"#bd3786\"],[0.5555555555555556,\"#d8576b\"],[0.6666666666666666,\"#ed7953\"],[0.7777777777777778,\"#fb9f3a\"],[0.8888888888888888,\"#fdca26\"],[1.0,\"#f0f921\"]],\"type\":\"contour\"}],\"contourcarpet\":[{\"colorbar\":{\"outlinewidth\":0,\"ticks\":\"\"},\"type\":\"contourcarpet\"}],\"heatmap\":[{\"colorbar\":{\"outlinewidth\":0,\"ticks\":\"\"},\"colorscale\":[[0.0,\"#0d0887\"],[0.1111111111111111,\"#46039f\"],[0.2222222222222222,\"#7201a8\"],[0.3333333333333333,\"#9c179e\"],[0.4444444444444444,\"#bd3786\"],[0.5555555555555556,\"#d8576b\"],[0.6666666666666666,\"#ed7953\"],[0.7777777777777778,\"#fb9f3a\"],[0.8888888888888888,\"#fdca26\"],[1.0,\"#f0f921\"]],\"type\":\"heatmap\"}],\"heatmapgl\":[{\"colorbar\":{\"outlinewidth\":0,\"ticks\":\"\"},\"colorscale\":[[0.0,\"#0d0887\"],[0.1111111111111111,\"#46039f\"],[0.2222222222222222,\"#7201a8\"],[0.3333333333333333,\"#9c179e\"],[0.4444444444444444,\"#bd3786\"],[0.5555555555555556,\"#d8576b\"],[0.6666666666666666,\"#ed7953\"],[0.7777777777777778,\"#fb9f3a\"],[0.8888888888888888,\"#fdca26\"],[1.0,\"#f0f921\"]],\"type\":\"heatmapgl\"}],\"histogram\":[{\"marker\":{\"pattern\":{\"fillmode\":\"overlay\",\"size\":10,\"solidity\":0.2}},\"type\":\"histogram\"}],\"histogram2d\":[{\"colorbar\":{\"outlinewidth\":0,\"ticks\":\"\"},\"colorscale\":[[0.0,\"#0d0887\"],[0.1111111111111111,\"#46039f\"],[0.2222222222222222,\"#7201a8\"],[0.3333333333333333,\"#9c179e\"],[0.4444444444444444,\"#bd3786\"],[0.5555555555555556,\"#d8576b\"],[0.6666666666666666,\"#ed7953\"],[0.7777777777777778,\"#fb9f3a\"],[0.8888888888888888,\"#fdca26\"],[1.0,\"#f0f921\"]],\"type\":\"histogram2d\"}],\"histogram2dcontour\":[{\"colorbar\":{\"outlinewidth\":0,\"ticks\":\"\"},\"colorscale\":[[0.0,\"#0d0887\"],[0.1111111111111111,\"#46039f\"],[0.2222222222222222,\"#7201a8\"],[0.3333333333333333,\"#9c179e\"],[0.4444444444444444,\"#bd3786\"],[0.5555555555555556,\"#d8576b\"],[0.6666666666666666,\"#ed7953\"],[0.7777777777777778,\"#fb9f3a\"],[0.8888888888888888,\"#fdca26\"],[1.0,\"#f0f921\"]],\"type\":\"histogram2dcontour\"}],\"mesh3d\":[{\"colorbar\":{\"outlinewidth\":0,\"ticks\":\"\"},\"type\":\"mesh3d\"}],\"parcoords\":[{\"line\":{\"colorbar\":{\"outlinewidth\":0,\"ticks\":\"\"}},\"type\":\"parcoords\"}],\"pie\":[{\"automargin\":true,\"type\":\"pie\"}],\"scatter\":[{\"marker\":{\"colorbar\":{\"outlinewidth\":0,\"ticks\":\"\"}},\"type\":\"scatter\"}],\"scatter3d\":[{\"line\":{\"colorbar\":{\"outlinewidth\":0,\"ticks\":\"\"}},\"marker\":{\"colorbar\":{\"outlinewidth\":0,\"ticks\":\"\"}},\"type\":\"scatter3d\"}],\"scattercarpet\":[{\"marker\":{\"colorbar\":{\"outlinewidth\":0,\"ticks\":\"\"}},\"type\":\"scattercarpet\"}],\"scattergeo\":[{\"marker\":{\"colorbar\":{\"outlinewidth\":0,\"ticks\":\"\"}},\"type\":\"scattergeo\"}],\"scattergl\":[{\"marker\":{\"colorbar\":{\"outlinewidth\":0,\"ticks\":\"\"}},\"type\":\"scattergl\"}],\"scattermapbox\":[{\"marker\":{\"colorbar\":{\"outlinewidth\":0,\"ticks\":\"\"}},\"type\":\"scattermapbox\"}],\"scatterpolar\":[{\"marker\":{\"colorbar\":{\"outlinewidth\":0,\"ticks\":\"\"}},\"type\":\"scatterpolar\"}],\"scatterpolargl\":[{\"marker\":{\"colorbar\":{\"outlinewidth\":0,\"ticks\":\"\"}},\"type\":\"scatterpolargl\"}],\"scatterternary\":[{\"marker\":{\"colorbar\":{\"outlinewidth\":0,\"ticks\":\"\"}},\"type\":\"scatterternary\"}],\"surface\":[{\"colorbar\":{\"outlinewidth\":0,\"ticks\":\"\"},\"colorscale\":[[0.0,\"#0d0887\"],[0.1111111111111111,\"#46039f\"],[0.2222222222222222,\"#7201a8\"],[0.3333333333333333,\"#9c179e\"],[0.4444444444444444,\"#bd3786\"],[0.5555555555555556,\"#d8576b\"],[0.6666666666666666,\"#ed7953\"],[0.7777777777777778,\"#fb9f3a\"],[0.8888888888888888,\"#fdca26\"],[1.0,\"#f0f921\"]],\"type\":\"surface\"}],\"table\":[{\"cells\":{\"fill\":{\"color\":\"#EBF0F8\"},\"line\":{\"color\":\"white\"}},\"header\":{\"fill\":{\"color\":\"#C8D4E3\"},\"line\":{\"color\":\"white\"}},\"type\":\"table\"}]},\"layout\":{\"annotationdefaults\":{\"arrowcolor\":\"#2a3f5f\",\"arrowhead\":0,\"arrowwidth\":1},\"autotypenumbers\":\"strict\",\"coloraxis\":{\"colorbar\":{\"outlinewidth\":0,\"ticks\":\"\"}},\"colorscale\":{\"diverging\":[[0,\"#8e0152\"],[0.1,\"#c51b7d\"],[0.2,\"#de77ae\"],[0.3,\"#f1b6da\"],[0.4,\"#fde0ef\"],[0.5,\"#f7f7f7\"],[0.6,\"#e6f5d0\"],[0.7,\"#b8e186\"],[0.8,\"#7fbc41\"],[0.9,\"#4d9221\"],[1,\"#276419\"]],\"sequential\":[[0.0,\"#0d0887\"],[0.1111111111111111,\"#46039f\"],[0.2222222222222222,\"#7201a8\"],[0.3333333333333333,\"#9c179e\"],[0.4444444444444444,\"#bd3786\"],[0.5555555555555556,\"#d8576b\"],[0.6666666666666666,\"#ed7953\"],[0.7777777777777778,\"#fb9f3a\"],[0.8888888888888888,\"#fdca26\"],[1.0,\"#f0f921\"]],\"sequentialminus\":[[0.0,\"#0d0887\"],[0.1111111111111111,\"#46039f\"],[0.2222222222222222,\"#7201a8\"],[0.3333333333333333,\"#9c179e\"],[0.4444444444444444,\"#bd3786\"],[0.5555555555555556,\"#d8576b\"],[0.6666666666666666,\"#ed7953\"],[0.7777777777777778,\"#fb9f3a\"],[0.8888888888888888,\"#fdca26\"],[1.0,\"#f0f921\"]]},\"colorway\":[\"#636efa\",\"#EF553B\",\"#00cc96\",\"#ab63fa\",\"#FFA15A\",\"#19d3f3\",\"#FF6692\",\"#B6E880\",\"#FF97FF\",\"#FECB52\"],\"font\":{\"color\":\"#2a3f5f\"},\"geo\":{\"bgcolor\":\"white\",\"lakecolor\":\"white\",\"landcolor\":\"#E5ECF6\",\"showlakes\":true,\"showland\":true,\"subunitcolor\":\"white\"},\"hoverlabel\":{\"align\":\"left\"},\"hovermode\":\"closest\",\"mapbox\":{\"style\":\"light\"},\"paper_bgcolor\":\"white\",\"plot_bgcolor\":\"#E5ECF6\",\"polar\":{\"angularaxis\":{\"gridcolor\":\"white\",\"linecolor\":\"white\",\"ticks\":\"\"},\"bgcolor\":\"#E5ECF6\",\"radialaxis\":{\"gridcolor\":\"white\",\"linecolor\":\"white\",\"ticks\":\"\"}},\"scene\":{\"xaxis\":{\"backgroundcolor\":\"#E5ECF6\",\"gridcolor\":\"white\",\"gridwidth\":2,\"linecolor\":\"white\",\"showbackground\":true,\"ticks\":\"\",\"zerolinecolor\":\"white\"},\"yaxis\":{\"backgroundcolor\":\"#E5ECF6\",\"gridcolor\":\"white\",\"gridwidth\":2,\"linecolor\":\"white\",\"showbackground\":true,\"ticks\":\"\",\"zerolinecolor\":\"white\"},\"zaxis\":{\"backgroundcolor\":\"#E5ECF6\",\"gridcolor\":\"white\",\"gridwidth\":2,\"linecolor\":\"white\",\"showbackground\":true,\"ticks\":\"\",\"zerolinecolor\":\"white\"}},\"shapedefaults\":{\"line\":{\"color\":\"#2a3f5f\"}},\"ternary\":{\"aaxis\":{\"gridcolor\":\"white\",\"linecolor\":\"white\",\"ticks\":\"\"},\"baxis\":{\"gridcolor\":\"white\",\"linecolor\":\"white\",\"ticks\":\"\"},\"bgcolor\":\"#E5ECF6\",\"caxis\":{\"gridcolor\":\"white\",\"linecolor\":\"white\",\"ticks\":\"\"}},\"title\":{\"x\":0.05},\"xaxis\":{\"automargin\":true,\"gridcolor\":\"white\",\"linecolor\":\"white\",\"ticks\":\"\",\"title\":{\"standoff\":15},\"zerolinecolor\":\"white\",\"zerolinewidth\":2},\"yaxis\":{\"automargin\":true,\"gridcolor\":\"white\",\"linecolor\":\"white\",\"ticks\":\"\",\"title\":{\"standoff\":15},\"zerolinecolor\":\"white\",\"zerolinewidth\":2}}},\"xaxis\":{\"anchor\":\"y\",\"domain\":[0.0,1.0],\"showline\":true,\"linewidth\":1,\"linecolor\":\"lightgrey\"},\"yaxis\":{\"anchor\":\"x\",\"domain\":[0.0,1.0],\"title\":{\"text\":\"Valor de Venda\"},\"showline\":true,\"linewidth\":1,\"linecolor\":\"lightgrey\",\"tickprefix\":\"R$\"},\"legend\":{\"title\":{\"text\":\"Bairro\"},\"tracegroupgap\":0,\"font\":{\"size\":14},\"bgcolor\":\"#F9F9F9\",\"bordercolor\":\"#D0D1D3\",\"borderwidth\":1},\"margin\":{\"t\":60},\"boxmode\":\"group\",\"title\":{\"font\":{\"size\":22},\"text\":\"Automoto - Automoveis Do Amap\\u00e1 Ltda.<br>Pre\\u00e7o da Gasolina 2022<br>\",\"x\":0.5,\"y\":0.96},\"width\":1000,\"plot_bgcolor\":\"#F9F9F9\"},                        {\"responsive\": true}                    ).then(function(){\n",
              "                            \n",
              "var gd = document.getElementById('eab9a4c9-a0b0-4e75-b133-d45d20e0da1e');\n",
              "var x = new MutationObserver(function (mutations, observer) {{\n",
              "        var display = window.getComputedStyle(gd).display;\n",
              "        if (!display || display === 'none') {{\n",
              "            console.log([gd, 'removed!']);\n",
              "            Plotly.purge(gd);\n",
              "            observer.disconnect();\n",
              "        }}\n",
              "}});\n",
              "\n",
              "// Listen for the removal of the full notebook cells\n",
              "var notebookContainer = gd.closest('#notebook-container');\n",
              "if (notebookContainer) {{\n",
              "    x.observe(notebookContainer, {childList: true});\n",
              "}}\n",
              "\n",
              "// Listen for the clearing of the current output cell\n",
              "var outputEl = gd.closest('.output');\n",
              "if (outputEl) {{\n",
              "    x.observe(outputEl, {childList: true});\n",
              "}}\n",
              "\n",
              "                        })                };                            </script>        </div>\n",
              "</body>\n",
              "</html>"
            ]
          },
          "metadata": {}
        }
      ]
    },
    {
      "cell_type": "markdown",
      "source": [
        "Com este resultado, é possível perceber que a amplitude escalar do preço da gasolina entre os 4 postos encontra semelhança entre si, bem como a centralidade dos dados nos conjuntos. É possível notar ainda que, entre a mediana e o limite inferior dos dados, há uma dispersão maior no conjunto de dados, enquanto que entre a mediana e o limite superior, os dados estão mais concentrados."
      ],
      "metadata": {
        "id": "p9aN_AkY6biZ"
      }
    },
    {
      "cell_type": "markdown",
      "source": [
        "### Escala de preços\n",
        "A escala de preços em relação a data revela a variação do preço da gasolina comum em determinada data."
      ],
      "metadata": {
        "id": "7c7ru3LLXKh4"
      }
    },
    {
      "cell_type": "code",
      "source": [
        "from plotly.subplots import make_subplots\n",
        "import plotly.graph_objects as go"
      ],
      "metadata": {
        "id": "9opCnMPo4TKq"
      },
      "execution_count": null,
      "outputs": []
    },
    {
      "cell_type": "code",
      "source": [
        "dados_precos = go.Scatter(x=automoto_atmv2.DATA_DA_COLETA,\n",
        "                          y=automoto_atmv2.VALOR_DE_VENDA, mode=\"lines\",\n",
        "                          line=dict(color=tema[0]))\n",
        "\n",
        "layout_precos = go.Layout(title=dict(text=\"Escala de Preços 2022 - \\\n",
        "Postos Automoto\", x=0.5, font_size=22),\n",
        "                          xaxis=dict(title=\"Data\"),\n",
        "                          yaxis=dict(title=\"Preço\"), height=600)\n",
        "\n",
        "indice_precos = go.Figure(data=dados_precos, layout=layout_precos)\n",
        "\n",
        "indice_precos.update_layout(xaxis_range=[15, 50], plot_bgcolor=\"#F9F9F9\")\n",
        "\n",
        "indice_precos.update_yaxes(showline=True, linewidth=1, linecolor=\"lightgrey\",\n",
        "                           tickprefix=\"R$\")\n",
        "indice_precos.update_xaxes(showline=True, linewidth=1, linecolor=\"lightgrey\",\n",
        "                           rangeslider_visible=True)"
      ],
      "metadata": {
        "colab": {
          "base_uri": "https://localhost:8080/",
          "height": 617
        },
        "id": "fffoMU2AOnPU",
        "outputId": "63e2f5a0-4b60-44d3-b7dd-8fa941dcc642"
      },
      "execution_count": null,
      "outputs": [
        {
          "output_type": "display_data",
          "data": {
            "text/html": [
              "<html>\n",
              "<head><meta charset=\"utf-8\" /></head>\n",
              "<body>\n",
              "    <div>            <script src=\"https://cdnjs.cloudflare.com/ajax/libs/mathjax/2.7.5/MathJax.js?config=TeX-AMS-MML_SVG\"></script><script type=\"text/javascript\">if (window.MathJax) {MathJax.Hub.Config({SVG: {font: \"STIX-Web\"}});}</script>                <script type=\"text/javascript\">window.PlotlyConfig = {MathJaxConfig: 'local'};</script>\n",
              "        <script src=\"https://cdn.plot.ly/plotly-2.8.3.min.js\"></script>                <div id=\"d7e7bce7-2afb-4f06-aee9-45daa20a6110\" class=\"plotly-graph-div\" style=\"height:600px; width:100%;\"></div>            <script type=\"text/javascript\">                                    window.PLOTLYENV=window.PLOTLYENV || {};                                    if (document.getElementById(\"d7e7bce7-2afb-4f06-aee9-45daa20a6110\")) {                    Plotly.newPlot(                        \"d7e7bce7-2afb-4f06-aee9-45daa20a6110\",                        [{\"line\":{\"color\":\"#FD3216\"},\"mode\":\"lines\",\"x\":[\"04/01\",\"05/01\",\"06/01\",\"06/01\",\"06/01\",\"12/01\",\"12/01\",\"12/01\",\"12/01\",\"19/01\",\"19/01\",\"19/01\",\"19/01\",\"25/01\",\"25/01\",\"25/01\",\"26/01\",\"02/02\",\"02/02\",\"02/02\",\"03/02\",\"03/02\",\"07/02\",\"08/02\",\"09/02\",\"09/02\",\"09/02\",\"16/02\",\"16/02\",\"16/02\",\"16/02\",\"16/02\",\"22/02\",\"23/02\",\"23/02\",\"23/02\",\"23/02\",\"01/03\",\"01/03\",\"01/03\",\"01/03\",\"01/03\",\"08/03\",\"08/03\",\"08/03\",\"09/03\",\"09/03\",\"16/03\",\"16/03\",\"16/03\",\"16/03\",\"23/03\",\"23/03\",\"23/03\",\"23/03\",\"29/03\",\"30/03\",\"30/03\",\"30/03\",\"06/04\",\"06/04\",\"06/04\",\"12/04\",\"12/04\",\"12/04\",\"12/04\",\"19/04\",\"19/04\",\"19/04\",\"19/04\",\"20/04\",\"25/04\",\"25/04\",\"25/04\",\"26/04\",\"02/05\",\"03/05\",\"03/05\",\"03/05\",\"03/05\",\"10/05\",\"11/05\",\"11/05\",\"11/05\",\"11/05\",\"12/05\",\"16/05\",\"17/05\",\"17/05\",\"17/05\",\"17/05\",\"17/05\",\"23/05\",\"23/05\",\"23/05\",\"23/05\",\"23/05\",\"24/05\",\"31/05\",\"31/05\",\"31/05\",\"31/05\",\"02/06\",\"06/06\",\"06/06\",\"06/06\",\"06/06\",\"07/06\",\"13/06\",\"13/06\",\"13/06\",\"15/06\",\"15/06\",\"15/06\",\"21/06\",\"22/06\",\"22/06\",\"22/06\",\"22/06\",\"22/06\",\"29/06\",\"29/06\",\"29/06\",\"29/06\",\"04/07\",\"05/07\",\"06/07\",\"07/07\",\"12/07\",\"12/07\",\"12/07\",\"12/07\",\"12/07\",\"19/07\",\"20/07\",\"20/07\",\"20/07\",\"20/07\",\"20/07\",\"25/07\",\"26/07\",\"26/07\",\"26/07\",\"26/07\",\"01/08\",\"02/08\",\"02/08\",\"03/08\",\"09/08\",\"09/08\",\"09/08\",\"09/08\",\"09/08\",\"10/08\",\"16/08\",\"16/08\",\"16/08\",\"16/08\",\"16/08\",\"17/08\",\"23/08\",\"23/08\",\"23/08\",\"23/08\",\"23/08\",\"24/08\",\"30/08\",\"30/08\",\"30/08\",\"30/08\",\"30/08\",\"31/08\",\"05/09\",\"05/09\",\"05/09\",\"05/09\",\"05/09\",\"06/09\",\"28/09\",\"28/09\",\"28/09\",\"28/09\",\"28/09\",\"06/10\",\"06/10\",\"13/10\",\"13/10\",\"13/10\",\"13/10\",\"18/10\",\"18/10\",\"18/10\",\"18/10\",\"18/10\",\"27/10\",\"27/10\",\"27/10\",\"27/10\",\"09/11\",\"09/11\",\"09/11\",\"15/11\",\"15/11\",\"15/11\",\"15/11\",\"24/11\",\"24/11\",\"24/11\",\"24/11\",\"24/11\",\"30/11\",\"30/11\",\"30/11\",\"07/12\",\"07/12\",\"07/12\",\"07/12\",\"14/12\",\"14/12\",\"14/12\",\"14/12\",\"14/12\",\"20/12\",\"20/12\",\"20/12\",\"20/12\",\"20/12\",\"28/12\",\"28/12\"],\"y\":[5.86,5.86,5.86,5.86,5.86,5.79,5.79,5.79,5.79,5.84,5.84,5.84,5.84,5.84,5.84,5.84,5.84,5.84,5.84,5.84,5.84,5.84,5.84,5.84,5.84,5.84,5.84,5.82,5.82,5.82,5.82,5.82,5.79,5.79,5.79,5.79,5.79,5.79,5.79,5.79,5.79,5.79,5.82,5.82,5.82,5.82,5.82,6.25,6.25,6.25,6.25,6.25,6.25,6.25,6.25,6.25,6.25,6.25,6.25,6.25,6.25,6.25,6.25,6.25,6.25,6.25,6.25,6.25,6.25,6.25,6.25,6.39,6.39,6.39,6.39,6.39,6.39,6.39,6.39,6.39,6.44,6.44,6.44,6.44,6.44,6.44,6.44,6.44,6.44,6.44,6.44,6.44,6.44,6.44,6.44,6.44,6.44,6.44,6.44,6.44,6.44,6.44,6.44,6.44,6.44,6.44,6.44,6.44,6.39,6.39,6.39,6.39,6.39,6.39,6.44,6.44,6.44,6.44,6.44,6.44,6.05,5.76,6.05,5.76,5.76,5.49,5.41,5.22,5.18,5.18,5.18,5.18,5.18,5.18,5.18,5.18,5.18,5.12,5.12,5.05,5.05,5.05,5.05,5.05,4.93,4.93,4.93,4.93,4.93,4.93,4.93,4.93,4.93,4.93,4.93,4.93,4.93,4.93,4.93,4.78,4.78,4.78,4.78,4.78,4.78,4.78,4.78,4.78,4.78,4.78,4.78,4.78,4.59,4.59,4.59,4.59,4.59,4.59,4.42,4.42,4.42,4.42,4.42,4.42,4.42,4.42,4.42,4.42,4.42,4.49,4.49,4.49,4.49,4.49,4.49,4.49,4.49,4.49,4.59,4.59,4.59,4.59,4.59,4.59,4.59,4.59,4.59,4.59,4.59,4.59,4.59,4.59,4.59,4.49,4.49,4.49,4.49,4.43,4.43,4.43,4.43,4.43,4.43,4.43,4.43,4.43,4.43,4.39,4.39],\"type\":\"scatter\"}],                        {\"height\":600,\"title\":{\"font\":{\"size\":22},\"text\":\"Escala de Pre\\u00e7os 2022 - Postos Automoto\",\"x\":0.5},\"xaxis\":{\"title\":{\"text\":\"Data\"},\"range\":[15,50],\"rangeslider\":{\"visible\":true},\"showline\":true,\"linewidth\":1,\"linecolor\":\"lightgrey\"},\"yaxis\":{\"title\":{\"text\":\"Pre\\u00e7o\"},\"showline\":true,\"linewidth\":1,\"linecolor\":\"lightgrey\",\"tickprefix\":\"R$\"},\"template\":{\"data\":{\"bar\":[{\"error_x\":{\"color\":\"#2a3f5f\"},\"error_y\":{\"color\":\"#2a3f5f\"},\"marker\":{\"line\":{\"color\":\"#E5ECF6\",\"width\":0.5},\"pattern\":{\"fillmode\":\"overlay\",\"size\":10,\"solidity\":0.2}},\"type\":\"bar\"}],\"barpolar\":[{\"marker\":{\"line\":{\"color\":\"#E5ECF6\",\"width\":0.5},\"pattern\":{\"fillmode\":\"overlay\",\"size\":10,\"solidity\":0.2}},\"type\":\"barpolar\"}],\"carpet\":[{\"aaxis\":{\"endlinecolor\":\"#2a3f5f\",\"gridcolor\":\"white\",\"linecolor\":\"white\",\"minorgridcolor\":\"white\",\"startlinecolor\":\"#2a3f5f\"},\"baxis\":{\"endlinecolor\":\"#2a3f5f\",\"gridcolor\":\"white\",\"linecolor\":\"white\",\"minorgridcolor\":\"white\",\"startlinecolor\":\"#2a3f5f\"},\"type\":\"carpet\"}],\"choropleth\":[{\"colorbar\":{\"outlinewidth\":0,\"ticks\":\"\"},\"type\":\"choropleth\"}],\"contour\":[{\"colorbar\":{\"outlinewidth\":0,\"ticks\":\"\"},\"colorscale\":[[0.0,\"#0d0887\"],[0.1111111111111111,\"#46039f\"],[0.2222222222222222,\"#7201a8\"],[0.3333333333333333,\"#9c179e\"],[0.4444444444444444,\"#bd3786\"],[0.5555555555555556,\"#d8576b\"],[0.6666666666666666,\"#ed7953\"],[0.7777777777777778,\"#fb9f3a\"],[0.8888888888888888,\"#fdca26\"],[1.0,\"#f0f921\"]],\"type\":\"contour\"}],\"contourcarpet\":[{\"colorbar\":{\"outlinewidth\":0,\"ticks\":\"\"},\"type\":\"contourcarpet\"}],\"heatmap\":[{\"colorbar\":{\"outlinewidth\":0,\"ticks\":\"\"},\"colorscale\":[[0.0,\"#0d0887\"],[0.1111111111111111,\"#46039f\"],[0.2222222222222222,\"#7201a8\"],[0.3333333333333333,\"#9c179e\"],[0.4444444444444444,\"#bd3786\"],[0.5555555555555556,\"#d8576b\"],[0.6666666666666666,\"#ed7953\"],[0.7777777777777778,\"#fb9f3a\"],[0.8888888888888888,\"#fdca26\"],[1.0,\"#f0f921\"]],\"type\":\"heatmap\"}],\"heatmapgl\":[{\"colorbar\":{\"outlinewidth\":0,\"ticks\":\"\"},\"colorscale\":[[0.0,\"#0d0887\"],[0.1111111111111111,\"#46039f\"],[0.2222222222222222,\"#7201a8\"],[0.3333333333333333,\"#9c179e\"],[0.4444444444444444,\"#bd3786\"],[0.5555555555555556,\"#d8576b\"],[0.6666666666666666,\"#ed7953\"],[0.7777777777777778,\"#fb9f3a\"],[0.8888888888888888,\"#fdca26\"],[1.0,\"#f0f921\"]],\"type\":\"heatmapgl\"}],\"histogram\":[{\"marker\":{\"pattern\":{\"fillmode\":\"overlay\",\"size\":10,\"solidity\":0.2}},\"type\":\"histogram\"}],\"histogram2d\":[{\"colorbar\":{\"outlinewidth\":0,\"ticks\":\"\"},\"colorscale\":[[0.0,\"#0d0887\"],[0.1111111111111111,\"#46039f\"],[0.2222222222222222,\"#7201a8\"],[0.3333333333333333,\"#9c179e\"],[0.4444444444444444,\"#bd3786\"],[0.5555555555555556,\"#d8576b\"],[0.6666666666666666,\"#ed7953\"],[0.7777777777777778,\"#fb9f3a\"],[0.8888888888888888,\"#fdca26\"],[1.0,\"#f0f921\"]],\"type\":\"histogram2d\"}],\"histogram2dcontour\":[{\"colorbar\":{\"outlinewidth\":0,\"ticks\":\"\"},\"colorscale\":[[0.0,\"#0d0887\"],[0.1111111111111111,\"#46039f\"],[0.2222222222222222,\"#7201a8\"],[0.3333333333333333,\"#9c179e\"],[0.4444444444444444,\"#bd3786\"],[0.5555555555555556,\"#d8576b\"],[0.6666666666666666,\"#ed7953\"],[0.7777777777777778,\"#fb9f3a\"],[0.8888888888888888,\"#fdca26\"],[1.0,\"#f0f921\"]],\"type\":\"histogram2dcontour\"}],\"mesh3d\":[{\"colorbar\":{\"outlinewidth\":0,\"ticks\":\"\"},\"type\":\"mesh3d\"}],\"parcoords\":[{\"line\":{\"colorbar\":{\"outlinewidth\":0,\"ticks\":\"\"}},\"type\":\"parcoords\"}],\"pie\":[{\"automargin\":true,\"type\":\"pie\"}],\"scatter\":[{\"marker\":{\"colorbar\":{\"outlinewidth\":0,\"ticks\":\"\"}},\"type\":\"scatter\"}],\"scatter3d\":[{\"line\":{\"colorbar\":{\"outlinewidth\":0,\"ticks\":\"\"}},\"marker\":{\"colorbar\":{\"outlinewidth\":0,\"ticks\":\"\"}},\"type\":\"scatter3d\"}],\"scattercarpet\":[{\"marker\":{\"colorbar\":{\"outlinewidth\":0,\"ticks\":\"\"}},\"type\":\"scattercarpet\"}],\"scattergeo\":[{\"marker\":{\"colorbar\":{\"outlinewidth\":0,\"ticks\":\"\"}},\"type\":\"scattergeo\"}],\"scattergl\":[{\"marker\":{\"colorbar\":{\"outlinewidth\":0,\"ticks\":\"\"}},\"type\":\"scattergl\"}],\"scattermapbox\":[{\"marker\":{\"colorbar\":{\"outlinewidth\":0,\"ticks\":\"\"}},\"type\":\"scattermapbox\"}],\"scatterpolar\":[{\"marker\":{\"colorbar\":{\"outlinewidth\":0,\"ticks\":\"\"}},\"type\":\"scatterpolar\"}],\"scatterpolargl\":[{\"marker\":{\"colorbar\":{\"outlinewidth\":0,\"ticks\":\"\"}},\"type\":\"scatterpolargl\"}],\"scatterternary\":[{\"marker\":{\"colorbar\":{\"outlinewidth\":0,\"ticks\":\"\"}},\"type\":\"scatterternary\"}],\"surface\":[{\"colorbar\":{\"outlinewidth\":0,\"ticks\":\"\"},\"colorscale\":[[0.0,\"#0d0887\"],[0.1111111111111111,\"#46039f\"],[0.2222222222222222,\"#7201a8\"],[0.3333333333333333,\"#9c179e\"],[0.4444444444444444,\"#bd3786\"],[0.5555555555555556,\"#d8576b\"],[0.6666666666666666,\"#ed7953\"],[0.7777777777777778,\"#fb9f3a\"],[0.8888888888888888,\"#fdca26\"],[1.0,\"#f0f921\"]],\"type\":\"surface\"}],\"table\":[{\"cells\":{\"fill\":{\"color\":\"#EBF0F8\"},\"line\":{\"color\":\"white\"}},\"header\":{\"fill\":{\"color\":\"#C8D4E3\"},\"line\":{\"color\":\"white\"}},\"type\":\"table\"}]},\"layout\":{\"annotationdefaults\":{\"arrowcolor\":\"#2a3f5f\",\"arrowhead\":0,\"arrowwidth\":1},\"autotypenumbers\":\"strict\",\"coloraxis\":{\"colorbar\":{\"outlinewidth\":0,\"ticks\":\"\"}},\"colorscale\":{\"diverging\":[[0,\"#8e0152\"],[0.1,\"#c51b7d\"],[0.2,\"#de77ae\"],[0.3,\"#f1b6da\"],[0.4,\"#fde0ef\"],[0.5,\"#f7f7f7\"],[0.6,\"#e6f5d0\"],[0.7,\"#b8e186\"],[0.8,\"#7fbc41\"],[0.9,\"#4d9221\"],[1,\"#276419\"]],\"sequential\":[[0.0,\"#0d0887\"],[0.1111111111111111,\"#46039f\"],[0.2222222222222222,\"#7201a8\"],[0.3333333333333333,\"#9c179e\"],[0.4444444444444444,\"#bd3786\"],[0.5555555555555556,\"#d8576b\"],[0.6666666666666666,\"#ed7953\"],[0.7777777777777778,\"#fb9f3a\"],[0.8888888888888888,\"#fdca26\"],[1.0,\"#f0f921\"]],\"sequentialminus\":[[0.0,\"#0d0887\"],[0.1111111111111111,\"#46039f\"],[0.2222222222222222,\"#7201a8\"],[0.3333333333333333,\"#9c179e\"],[0.4444444444444444,\"#bd3786\"],[0.5555555555555556,\"#d8576b\"],[0.6666666666666666,\"#ed7953\"],[0.7777777777777778,\"#fb9f3a\"],[0.8888888888888888,\"#fdca26\"],[1.0,\"#f0f921\"]]},\"colorway\":[\"#636efa\",\"#EF553B\",\"#00cc96\",\"#ab63fa\",\"#FFA15A\",\"#19d3f3\",\"#FF6692\",\"#B6E880\",\"#FF97FF\",\"#FECB52\"],\"font\":{\"color\":\"#2a3f5f\"},\"geo\":{\"bgcolor\":\"white\",\"lakecolor\":\"white\",\"landcolor\":\"#E5ECF6\",\"showlakes\":true,\"showland\":true,\"subunitcolor\":\"white\"},\"hoverlabel\":{\"align\":\"left\"},\"hovermode\":\"closest\",\"mapbox\":{\"style\":\"light\"},\"paper_bgcolor\":\"white\",\"plot_bgcolor\":\"#E5ECF6\",\"polar\":{\"angularaxis\":{\"gridcolor\":\"white\",\"linecolor\":\"white\",\"ticks\":\"\"},\"bgcolor\":\"#E5ECF6\",\"radialaxis\":{\"gridcolor\":\"white\",\"linecolor\":\"white\",\"ticks\":\"\"}},\"scene\":{\"xaxis\":{\"backgroundcolor\":\"#E5ECF6\",\"gridcolor\":\"white\",\"gridwidth\":2,\"linecolor\":\"white\",\"showbackground\":true,\"ticks\":\"\",\"zerolinecolor\":\"white\"},\"yaxis\":{\"backgroundcolor\":\"#E5ECF6\",\"gridcolor\":\"white\",\"gridwidth\":2,\"linecolor\":\"white\",\"showbackground\":true,\"ticks\":\"\",\"zerolinecolor\":\"white\"},\"zaxis\":{\"backgroundcolor\":\"#E5ECF6\",\"gridcolor\":\"white\",\"gridwidth\":2,\"linecolor\":\"white\",\"showbackground\":true,\"ticks\":\"\",\"zerolinecolor\":\"white\"}},\"shapedefaults\":{\"line\":{\"color\":\"#2a3f5f\"}},\"ternary\":{\"aaxis\":{\"gridcolor\":\"white\",\"linecolor\":\"white\",\"ticks\":\"\"},\"baxis\":{\"gridcolor\":\"white\",\"linecolor\":\"white\",\"ticks\":\"\"},\"bgcolor\":\"#E5ECF6\",\"caxis\":{\"gridcolor\":\"white\",\"linecolor\":\"white\",\"ticks\":\"\"}},\"title\":{\"x\":0.05},\"xaxis\":{\"automargin\":true,\"gridcolor\":\"white\",\"linecolor\":\"white\",\"ticks\":\"\",\"title\":{\"standoff\":15},\"zerolinecolor\":\"white\",\"zerolinewidth\":2},\"yaxis\":{\"automargin\":true,\"gridcolor\":\"white\",\"linecolor\":\"white\",\"ticks\":\"\",\"title\":{\"standoff\":15},\"zerolinecolor\":\"white\",\"zerolinewidth\":2}}},\"plot_bgcolor\":\"#F9F9F9\"},                        {\"responsive\": true}                    ).then(function(){\n",
              "                            \n",
              "var gd = document.getElementById('d7e7bce7-2afb-4f06-aee9-45daa20a6110');\n",
              "var x = new MutationObserver(function (mutations, observer) {{\n",
              "        var display = window.getComputedStyle(gd).display;\n",
              "        if (!display || display === 'none') {{\n",
              "            console.log([gd, 'removed!']);\n",
              "            Plotly.purge(gd);\n",
              "            observer.disconnect();\n",
              "        }}\n",
              "}});\n",
              "\n",
              "// Listen for the removal of the full notebook cells\n",
              "var notebookContainer = gd.closest('#notebook-container');\n",
              "if (notebookContainer) {{\n",
              "    x.observe(notebookContainer, {childList: true});\n",
              "}}\n",
              "\n",
              "// Listen for the clearing of the current output cell\n",
              "var outputEl = gd.closest('.output');\n",
              "if (outputEl) {{\n",
              "    x.observe(outputEl, {childList: true});\n",
              "}}\n",
              "\n",
              "                        })                };                            </script>        </div>\n",
              "</body>\n",
              "</html>"
            ]
          },
          "metadata": {}
        }
      ]
    },
    {
      "cell_type": "markdown",
      "source": [
        "Com base na representação gráfica, é possível notar que entre o período de 25/04 a 22/06, houve uma consistência no preço da gasolina. Após este período,houve uma decrescente até o dia 28/09.  \n",
        "Vejamos esta relação, tendo em vista os 4 postos analisados anteriormente, de forma separada."
      ],
      "metadata": {
        "id": "ZFVAqZ12Xrl2"
      }
    },
    {
      "cell_type": "code",
      "source": [
        "quadro_precos = make_subplots(rows=2, cols=2, subplot_titles=bairros)\n",
        "\n",
        "quadro_precos.add_trace(go.Scatter(x=atmv_bairro1.DATA_DA_COLETA,\n",
        "                         y=atmv_bairro1.VALOR_DE_VENDA,\n",
        "                         line=dict(color=tema[0]),\n",
        "                         name=bairros[0]), row=1, col=1)\n",
        "\n",
        "quadro_precos.add_trace(go.Scatter(x=atmv_bairro2.DATA_DA_COLETA,\n",
        "                         y=atmv_bairro2.VALOR_DE_VENDA,\n",
        "                         line=dict(color=tema[1]),\n",
        "                         name=bairros[1]), row=1, col=2)\n",
        "\n",
        "quadro_precos.add_trace(go.Scatter(x=atmv_bairro3.DATA_DA_COLETA,\n",
        "                         y=atmv_bairro3.VALOR_DE_VENDA,\n",
        "                         line=dict(color=tema[2]),\n",
        "                         name=bairros[2]), row=2, col=1)\n",
        "\n",
        "quadro_precos.add_trace(go.Scatter(x=atmv_bairro4.DATA_DA_COLETA,\n",
        "                         y=atmv_bairro4.VALOR_DE_VENDA,\n",
        "                         line=dict(color=tema[3]),\n",
        "                         name=bairros[3]), row=2, col=2)\n",
        "\n",
        "quadro_precos.update_traces(mode=\"lines\")\n",
        "\n",
        "quadro_precos.update_layout(height=700, plot_bgcolor=\"white\",\n",
        "                  title=dict(text=\"Automoto - Automoveis Do Amapá Ltda.<br>\\\n",
        "Preço da Gasolina 2022<br>\", x=0.5, y=0.95, font_size=22),\n",
        "                  legend=dict(title=\"Bairros\", bgcolor=\"#F9F9F9\",\n",
        "                              bordercolor=\"#D0D1D3\", borderwidth=1,\n",
        "                              font=dict(size=14)))\n",
        "\n",
        "quadro_precos.update_xaxes(showline=True, linewidth=1, linecolor=\"lightgrey\",\n",
        "                 tickangle=45)\n",
        "quadro_precos.update_yaxes(showline=True, linewidth=1, linecolor=\"lightgrey\",\n",
        "                 tickprefix=\"R$\")"
      ],
      "metadata": {
        "id": "yu3-165j9sW7",
        "colab": {
          "base_uri": "https://localhost:8080/",
          "height": 717
        },
        "outputId": "1094e5f6-0295-4eb6-c70b-acc35954858f"
      },
      "execution_count": null,
      "outputs": [
        {
          "output_type": "display_data",
          "data": {
            "text/html": [
              "<html>\n",
              "<head><meta charset=\"utf-8\" /></head>\n",
              "<body>\n",
              "    <div>            <script src=\"https://cdnjs.cloudflare.com/ajax/libs/mathjax/2.7.5/MathJax.js?config=TeX-AMS-MML_SVG\"></script><script type=\"text/javascript\">if (window.MathJax) {MathJax.Hub.Config({SVG: {font: \"STIX-Web\"}});}</script>                <script type=\"text/javascript\">window.PlotlyConfig = {MathJaxConfig: 'local'};</script>\n",
              "        <script src=\"https://cdn.plot.ly/plotly-2.8.3.min.js\"></script>                <div id=\"12103a95-26f6-491a-a53e-8776c7faa155\" class=\"plotly-graph-div\" style=\"height:700px; width:100%;\"></div>            <script type=\"text/javascript\">                                    window.PLOTLYENV=window.PLOTLYENV || {};                                    if (document.getElementById(\"12103a95-26f6-491a-a53e-8776c7faa155\")) {                    Plotly.newPlot(                        \"12103a95-26f6-491a-a53e-8776c7faa155\",                        [{\"line\":{\"color\":\"#FD3216\"},\"name\":\"Central\",\"x\":[\"04/01\",\"06/01\",\"12/01\",\"12/01\",\"19/01\",\"25/01\",\"26/01\",\"02/02\",\"02/02\",\"07/02\",\"08/02\",\"16/02\",\"16/02\",\"23/02\",\"23/02\",\"01/03\",\"01/03\",\"08/03\",\"09/03\",\"16/03\",\"23/03\",\"23/03\",\"30/03\",\"30/03\",\"06/04\",\"12/04\",\"12/04\",\"19/04\",\"20/04\",\"25/04\",\"25/04\",\"03/05\",\"03/05\",\"10/05\",\"11/05\",\"12/05\",\"16/05\",\"17/05\",\"17/05\",\"23/05\",\"23/05\",\"24/05\",\"31/05\",\"31/05\",\"02/06\",\"06/06\",\"07/06\",\"13/06\",\"15/06\",\"15/06\",\"21/06\",\"22/06\",\"22/06\",\"29/06\",\"04/07\",\"07/07\",\"12/07\",\"12/07\",\"20/07\",\"20/07\",\"20/07\",\"26/07\",\"26/07\",\"01/08\",\"03/08\",\"09/08\",\"09/08\",\"10/08\",\"16/08\",\"16/08\",\"17/08\",\"23/08\",\"23/08\",\"24/08\",\"30/08\",\"30/08\",\"31/08\",\"05/09\",\"05/09\",\"06/09\",\"28/09\",\"28/09\",\"06/10\",\"06/10\",\"13/10\",\"13/10\",\"18/10\",\"18/10\",\"27/10\",\"15/11\",\"15/11\",\"24/11\",\"24/11\",\"30/11\",\"30/11\",\"07/12\",\"07/12\",\"14/12\",\"14/12\",\"20/12\",\"20/12\",\"28/12\",\"28/12\"],\"y\":[5.86,5.86,5.79,5.79,5.84,5.84,5.84,5.84,5.84,5.84,5.84,5.82,5.82,5.79,5.79,5.79,5.79,5.82,5.82,6.25,6.25,6.25,6.25,6.25,6.25,6.25,6.25,6.25,6.25,6.39,6.39,6.39,6.39,6.44,6.44,6.44,6.44,6.44,6.44,6.44,6.44,6.44,6.44,6.44,6.44,6.44,6.44,6.39,6.39,6.39,6.44,6.44,6.44,6.05,5.76,5.22,5.18,5.18,5.18,5.18,5.12,5.05,5.05,4.93,4.93,4.93,4.93,4.93,4.93,4.93,4.78,4.78,4.78,4.78,4.78,4.78,4.78,4.59,4.59,4.59,4.42,4.42,4.42,4.42,4.42,4.42,4.49,4.49,4.49,4.59,4.59,4.59,4.59,4.59,4.59,4.49,4.49,4.43,4.43,4.43,4.43,4.39,4.39],\"type\":\"scatter\",\"xaxis\":\"x\",\"yaxis\":\"y\",\"mode\":\"lines\"},{\"line\":{\"color\":\"#00FE35\"},\"name\":\"Pacoval\",\"x\":[\"06/01\",\"12/01\",\"19/01\",\"25/01\",\"03/02\",\"09/02\",\"16/02\",\"23/02\",\"01/03\",\"09/03\",\"16/03\",\"23/03\",\"29/03\",\"06/04\",\"12/04\",\"19/04\",\"26/04\",\"02/05\",\"11/05\",\"17/05\",\"23/05\",\"31/05\",\"06/06\",\"15/06\",\"22/06\",\"29/06\",\"05/07\",\"12/07\",\"19/07\",\"25/07\",\"02/08\",\"09/08\",\"16/08\",\"23/08\",\"30/08\",\"05/09\",\"28/09\",\"13/10\",\"18/10\",\"27/10\",\"09/11\",\"15/11\",\"24/11\",\"30/11\",\"07/12\",\"14/12\",\"20/12\"],\"y\":[5.86,5.79,5.84,5.84,5.84,5.84,5.82,5.79,5.79,5.82,6.25,6.25,6.25,6.25,6.25,6.25,6.39,6.39,6.44,6.44,6.44,6.44,6.44,6.39,6.44,5.76,5.49,5.18,5.18,5.05,4.93,4.93,4.93,4.78,4.78,4.59,4.42,4.42,4.49,4.49,4.59,4.59,4.59,4.59,4.49,4.43,4.43],\"type\":\"scatter\",\"xaxis\":\"x2\",\"yaxis\":\"y2\",\"mode\":\"lines\"},{\"line\":{\"color\":\"#6A76FC\"},\"name\":\"Santa Rita\",\"x\":[\"05/01\",\"19/01\",\"25/01\",\"02/02\",\"09/02\",\"16/02\",\"22/02\",\"01/03\",\"08/03\",\"16/03\",\"12/04\",\"19/04\",\"03/05\",\"11/05\",\"17/05\",\"23/05\",\"31/05\",\"06/06\",\"13/06\",\"22/06\",\"29/06\",\"06/07\",\"12/07\",\"20/07\",\"26/07\",\"02/08\",\"09/08\",\"16/08\",\"23/08\",\"30/08\",\"05/09\",\"28/09\",\"13/10\",\"18/10\",\"27/10\",\"09/11\",\"15/11\",\"24/11\",\"14/12\",\"20/12\"],\"y\":[5.86,5.84,5.84,5.84,5.84,5.82,5.79,5.79,5.82,6.25,6.25,6.25,6.39,6.44,6.44,6.44,6.44,6.44,6.39,6.44,5.76,5.41,5.18,5.12,5.05,4.93,4.93,4.93,4.78,4.78,4.59,4.42,4.42,4.49,4.49,4.59,4.59,4.59,4.43,4.43],\"type\":\"scatter\",\"xaxis\":\"x3\",\"yaxis\":\"y3\",\"mode\":\"lines\"},{\"line\":{\"color\":\"#FED4C4\"},\"name\":\"Buritizal\",\"x\":[\"06/01\",\"12/01\",\"19/01\",\"03/02\",\"09/02\",\"16/02\",\"23/02\",\"01/03\",\"08/03\",\"16/03\",\"23/03\",\"30/03\",\"06/04\",\"19/04\",\"25/04\",\"03/05\",\"11/05\",\"17/05\",\"23/05\",\"06/06\",\"13/06\",\"22/06\",\"29/06\",\"12/07\",\"20/07\",\"26/07\",\"09/08\",\"16/08\",\"23/08\",\"30/08\",\"05/09\",\"28/09\",\"18/10\",\"27/10\",\"09/11\",\"24/11\",\"07/12\",\"14/12\",\"20/12\"],\"y\":[5.86,5.79,5.84,5.84,5.84,5.82,5.79,5.79,5.82,6.25,6.25,6.25,6.25,6.25,6.39,6.39,6.44,6.44,6.44,6.44,6.39,6.44,6.05,5.18,5.18,5.05,4.93,4.93,4.78,4.78,4.59,4.42,4.49,4.49,4.59,4.59,4.49,4.43,4.43],\"type\":\"scatter\",\"xaxis\":\"x4\",\"yaxis\":\"y4\",\"mode\":\"lines\"}],                        {\"template\":{\"data\":{\"bar\":[{\"error_x\":{\"color\":\"#2a3f5f\"},\"error_y\":{\"color\":\"#2a3f5f\"},\"marker\":{\"line\":{\"color\":\"#E5ECF6\",\"width\":0.5},\"pattern\":{\"fillmode\":\"overlay\",\"size\":10,\"solidity\":0.2}},\"type\":\"bar\"}],\"barpolar\":[{\"marker\":{\"line\":{\"color\":\"#E5ECF6\",\"width\":0.5},\"pattern\":{\"fillmode\":\"overlay\",\"size\":10,\"solidity\":0.2}},\"type\":\"barpolar\"}],\"carpet\":[{\"aaxis\":{\"endlinecolor\":\"#2a3f5f\",\"gridcolor\":\"white\",\"linecolor\":\"white\",\"minorgridcolor\":\"white\",\"startlinecolor\":\"#2a3f5f\"},\"baxis\":{\"endlinecolor\":\"#2a3f5f\",\"gridcolor\":\"white\",\"linecolor\":\"white\",\"minorgridcolor\":\"white\",\"startlinecolor\":\"#2a3f5f\"},\"type\":\"carpet\"}],\"choropleth\":[{\"colorbar\":{\"outlinewidth\":0,\"ticks\":\"\"},\"type\":\"choropleth\"}],\"contour\":[{\"colorbar\":{\"outlinewidth\":0,\"ticks\":\"\"},\"colorscale\":[[0.0,\"#0d0887\"],[0.1111111111111111,\"#46039f\"],[0.2222222222222222,\"#7201a8\"],[0.3333333333333333,\"#9c179e\"],[0.4444444444444444,\"#bd3786\"],[0.5555555555555556,\"#d8576b\"],[0.6666666666666666,\"#ed7953\"],[0.7777777777777778,\"#fb9f3a\"],[0.8888888888888888,\"#fdca26\"],[1.0,\"#f0f921\"]],\"type\":\"contour\"}],\"contourcarpet\":[{\"colorbar\":{\"outlinewidth\":0,\"ticks\":\"\"},\"type\":\"contourcarpet\"}],\"heatmap\":[{\"colorbar\":{\"outlinewidth\":0,\"ticks\":\"\"},\"colorscale\":[[0.0,\"#0d0887\"],[0.1111111111111111,\"#46039f\"],[0.2222222222222222,\"#7201a8\"],[0.3333333333333333,\"#9c179e\"],[0.4444444444444444,\"#bd3786\"],[0.5555555555555556,\"#d8576b\"],[0.6666666666666666,\"#ed7953\"],[0.7777777777777778,\"#fb9f3a\"],[0.8888888888888888,\"#fdca26\"],[1.0,\"#f0f921\"]],\"type\":\"heatmap\"}],\"heatmapgl\":[{\"colorbar\":{\"outlinewidth\":0,\"ticks\":\"\"},\"colorscale\":[[0.0,\"#0d0887\"],[0.1111111111111111,\"#46039f\"],[0.2222222222222222,\"#7201a8\"],[0.3333333333333333,\"#9c179e\"],[0.4444444444444444,\"#bd3786\"],[0.5555555555555556,\"#d8576b\"],[0.6666666666666666,\"#ed7953\"],[0.7777777777777778,\"#fb9f3a\"],[0.8888888888888888,\"#fdca26\"],[1.0,\"#f0f921\"]],\"type\":\"heatmapgl\"}],\"histogram\":[{\"marker\":{\"pattern\":{\"fillmode\":\"overlay\",\"size\":10,\"solidity\":0.2}},\"type\":\"histogram\"}],\"histogram2d\":[{\"colorbar\":{\"outlinewidth\":0,\"ticks\":\"\"},\"colorscale\":[[0.0,\"#0d0887\"],[0.1111111111111111,\"#46039f\"],[0.2222222222222222,\"#7201a8\"],[0.3333333333333333,\"#9c179e\"],[0.4444444444444444,\"#bd3786\"],[0.5555555555555556,\"#d8576b\"],[0.6666666666666666,\"#ed7953\"],[0.7777777777777778,\"#fb9f3a\"],[0.8888888888888888,\"#fdca26\"],[1.0,\"#f0f921\"]],\"type\":\"histogram2d\"}],\"histogram2dcontour\":[{\"colorbar\":{\"outlinewidth\":0,\"ticks\":\"\"},\"colorscale\":[[0.0,\"#0d0887\"],[0.1111111111111111,\"#46039f\"],[0.2222222222222222,\"#7201a8\"],[0.3333333333333333,\"#9c179e\"],[0.4444444444444444,\"#bd3786\"],[0.5555555555555556,\"#d8576b\"],[0.6666666666666666,\"#ed7953\"],[0.7777777777777778,\"#fb9f3a\"],[0.8888888888888888,\"#fdca26\"],[1.0,\"#f0f921\"]],\"type\":\"histogram2dcontour\"}],\"mesh3d\":[{\"colorbar\":{\"outlinewidth\":0,\"ticks\":\"\"},\"type\":\"mesh3d\"}],\"parcoords\":[{\"line\":{\"colorbar\":{\"outlinewidth\":0,\"ticks\":\"\"}},\"type\":\"parcoords\"}],\"pie\":[{\"automargin\":true,\"type\":\"pie\"}],\"scatter\":[{\"marker\":{\"colorbar\":{\"outlinewidth\":0,\"ticks\":\"\"}},\"type\":\"scatter\"}],\"scatter3d\":[{\"line\":{\"colorbar\":{\"outlinewidth\":0,\"ticks\":\"\"}},\"marker\":{\"colorbar\":{\"outlinewidth\":0,\"ticks\":\"\"}},\"type\":\"scatter3d\"}],\"scattercarpet\":[{\"marker\":{\"colorbar\":{\"outlinewidth\":0,\"ticks\":\"\"}},\"type\":\"scattercarpet\"}],\"scattergeo\":[{\"marker\":{\"colorbar\":{\"outlinewidth\":0,\"ticks\":\"\"}},\"type\":\"scattergeo\"}],\"scattergl\":[{\"marker\":{\"colorbar\":{\"outlinewidth\":0,\"ticks\":\"\"}},\"type\":\"scattergl\"}],\"scattermapbox\":[{\"marker\":{\"colorbar\":{\"outlinewidth\":0,\"ticks\":\"\"}},\"type\":\"scattermapbox\"}],\"scatterpolar\":[{\"marker\":{\"colorbar\":{\"outlinewidth\":0,\"ticks\":\"\"}},\"type\":\"scatterpolar\"}],\"scatterpolargl\":[{\"marker\":{\"colorbar\":{\"outlinewidth\":0,\"ticks\":\"\"}},\"type\":\"scatterpolargl\"}],\"scatterternary\":[{\"marker\":{\"colorbar\":{\"outlinewidth\":0,\"ticks\":\"\"}},\"type\":\"scatterternary\"}],\"surface\":[{\"colorbar\":{\"outlinewidth\":0,\"ticks\":\"\"},\"colorscale\":[[0.0,\"#0d0887\"],[0.1111111111111111,\"#46039f\"],[0.2222222222222222,\"#7201a8\"],[0.3333333333333333,\"#9c179e\"],[0.4444444444444444,\"#bd3786\"],[0.5555555555555556,\"#d8576b\"],[0.6666666666666666,\"#ed7953\"],[0.7777777777777778,\"#fb9f3a\"],[0.8888888888888888,\"#fdca26\"],[1.0,\"#f0f921\"]],\"type\":\"surface\"}],\"table\":[{\"cells\":{\"fill\":{\"color\":\"#EBF0F8\"},\"line\":{\"color\":\"white\"}},\"header\":{\"fill\":{\"color\":\"#C8D4E3\"},\"line\":{\"color\":\"white\"}},\"type\":\"table\"}]},\"layout\":{\"annotationdefaults\":{\"arrowcolor\":\"#2a3f5f\",\"arrowhead\":0,\"arrowwidth\":1},\"autotypenumbers\":\"strict\",\"coloraxis\":{\"colorbar\":{\"outlinewidth\":0,\"ticks\":\"\"}},\"colorscale\":{\"diverging\":[[0,\"#8e0152\"],[0.1,\"#c51b7d\"],[0.2,\"#de77ae\"],[0.3,\"#f1b6da\"],[0.4,\"#fde0ef\"],[0.5,\"#f7f7f7\"],[0.6,\"#e6f5d0\"],[0.7,\"#b8e186\"],[0.8,\"#7fbc41\"],[0.9,\"#4d9221\"],[1,\"#276419\"]],\"sequential\":[[0.0,\"#0d0887\"],[0.1111111111111111,\"#46039f\"],[0.2222222222222222,\"#7201a8\"],[0.3333333333333333,\"#9c179e\"],[0.4444444444444444,\"#bd3786\"],[0.5555555555555556,\"#d8576b\"],[0.6666666666666666,\"#ed7953\"],[0.7777777777777778,\"#fb9f3a\"],[0.8888888888888888,\"#fdca26\"],[1.0,\"#f0f921\"]],\"sequentialminus\":[[0.0,\"#0d0887\"],[0.1111111111111111,\"#46039f\"],[0.2222222222222222,\"#7201a8\"],[0.3333333333333333,\"#9c179e\"],[0.4444444444444444,\"#bd3786\"],[0.5555555555555556,\"#d8576b\"],[0.6666666666666666,\"#ed7953\"],[0.7777777777777778,\"#fb9f3a\"],[0.8888888888888888,\"#fdca26\"],[1.0,\"#f0f921\"]]},\"colorway\":[\"#636efa\",\"#EF553B\",\"#00cc96\",\"#ab63fa\",\"#FFA15A\",\"#19d3f3\",\"#FF6692\",\"#B6E880\",\"#FF97FF\",\"#FECB52\"],\"font\":{\"color\":\"#2a3f5f\"},\"geo\":{\"bgcolor\":\"white\",\"lakecolor\":\"white\",\"landcolor\":\"#E5ECF6\",\"showlakes\":true,\"showland\":true,\"subunitcolor\":\"white\"},\"hoverlabel\":{\"align\":\"left\"},\"hovermode\":\"closest\",\"mapbox\":{\"style\":\"light\"},\"paper_bgcolor\":\"white\",\"plot_bgcolor\":\"#E5ECF6\",\"polar\":{\"angularaxis\":{\"gridcolor\":\"white\",\"linecolor\":\"white\",\"ticks\":\"\"},\"bgcolor\":\"#E5ECF6\",\"radialaxis\":{\"gridcolor\":\"white\",\"linecolor\":\"white\",\"ticks\":\"\"}},\"scene\":{\"xaxis\":{\"backgroundcolor\":\"#E5ECF6\",\"gridcolor\":\"white\",\"gridwidth\":2,\"linecolor\":\"white\",\"showbackground\":true,\"ticks\":\"\",\"zerolinecolor\":\"white\"},\"yaxis\":{\"backgroundcolor\":\"#E5ECF6\",\"gridcolor\":\"white\",\"gridwidth\":2,\"linecolor\":\"white\",\"showbackground\":true,\"ticks\":\"\",\"zerolinecolor\":\"white\"},\"zaxis\":{\"backgroundcolor\":\"#E5ECF6\",\"gridcolor\":\"white\",\"gridwidth\":2,\"linecolor\":\"white\",\"showbackground\":true,\"ticks\":\"\",\"zerolinecolor\":\"white\"}},\"shapedefaults\":{\"line\":{\"color\":\"#2a3f5f\"}},\"ternary\":{\"aaxis\":{\"gridcolor\":\"white\",\"linecolor\":\"white\",\"ticks\":\"\"},\"baxis\":{\"gridcolor\":\"white\",\"linecolor\":\"white\",\"ticks\":\"\"},\"bgcolor\":\"#E5ECF6\",\"caxis\":{\"gridcolor\":\"white\",\"linecolor\":\"white\",\"ticks\":\"\"}},\"title\":{\"x\":0.05},\"xaxis\":{\"automargin\":true,\"gridcolor\":\"white\",\"linecolor\":\"white\",\"ticks\":\"\",\"title\":{\"standoff\":15},\"zerolinecolor\":\"white\",\"zerolinewidth\":2},\"yaxis\":{\"automargin\":true,\"gridcolor\":\"white\",\"linecolor\":\"white\",\"ticks\":\"\",\"title\":{\"standoff\":15},\"zerolinecolor\":\"white\",\"zerolinewidth\":2}}},\"xaxis\":{\"anchor\":\"y\",\"domain\":[0.0,0.45],\"showline\":true,\"linewidth\":1,\"linecolor\":\"lightgrey\",\"tickangle\":45},\"yaxis\":{\"anchor\":\"x\",\"domain\":[0.625,1.0],\"showline\":true,\"linewidth\":1,\"linecolor\":\"lightgrey\",\"tickprefix\":\"R$\"},\"xaxis2\":{\"anchor\":\"y2\",\"domain\":[0.55,1.0],\"showline\":true,\"linewidth\":1,\"linecolor\":\"lightgrey\",\"tickangle\":45},\"yaxis2\":{\"anchor\":\"x2\",\"domain\":[0.625,1.0],\"showline\":true,\"linewidth\":1,\"linecolor\":\"lightgrey\",\"tickprefix\":\"R$\"},\"xaxis3\":{\"anchor\":\"y3\",\"domain\":[0.0,0.45],\"showline\":true,\"linewidth\":1,\"linecolor\":\"lightgrey\",\"tickangle\":45},\"yaxis3\":{\"anchor\":\"x3\",\"domain\":[0.0,0.375],\"showline\":true,\"linewidth\":1,\"linecolor\":\"lightgrey\",\"tickprefix\":\"R$\"},\"xaxis4\":{\"anchor\":\"y4\",\"domain\":[0.55,1.0],\"showline\":true,\"linewidth\":1,\"linecolor\":\"lightgrey\",\"tickangle\":45},\"yaxis4\":{\"anchor\":\"x4\",\"domain\":[0.0,0.375],\"showline\":true,\"linewidth\":1,\"linecolor\":\"lightgrey\",\"tickprefix\":\"R$\"},\"annotations\":[{\"font\":{\"size\":16},\"showarrow\":false,\"text\":\"Central\",\"x\":0.225,\"xanchor\":\"center\",\"xref\":\"paper\",\"y\":1.0,\"yanchor\":\"bottom\",\"yref\":\"paper\"},{\"font\":{\"size\":16},\"showarrow\":false,\"text\":\"Pacoval\",\"x\":0.775,\"xanchor\":\"center\",\"xref\":\"paper\",\"y\":1.0,\"yanchor\":\"bottom\",\"yref\":\"paper\"},{\"font\":{\"size\":16},\"showarrow\":false,\"text\":\"Santa Rita\",\"x\":0.225,\"xanchor\":\"center\",\"xref\":\"paper\",\"y\":0.375,\"yanchor\":\"bottom\",\"yref\":\"paper\"},{\"font\":{\"size\":16},\"showarrow\":false,\"text\":\"Buritizal\",\"x\":0.775,\"xanchor\":\"center\",\"xref\":\"paper\",\"y\":0.375,\"yanchor\":\"bottom\",\"yref\":\"paper\"}],\"title\":{\"font\":{\"size\":22},\"text\":\"Automoto - Automoveis Do Amap\\u00e1 Ltda.<br>Pre\\u00e7o da Gasolina 2022<br>\",\"x\":0.5,\"y\":0.95},\"legend\":{\"font\":{\"size\":14},\"title\":{\"text\":\"Bairros\"},\"bgcolor\":\"#F9F9F9\",\"bordercolor\":\"#D0D1D3\",\"borderwidth\":1},\"height\":700,\"plot_bgcolor\":\"white\"},                        {\"responsive\": true}                    ).then(function(){\n",
              "                            \n",
              "var gd = document.getElementById('12103a95-26f6-491a-a53e-8776c7faa155');\n",
              "var x = new MutationObserver(function (mutations, observer) {{\n",
              "        var display = window.getComputedStyle(gd).display;\n",
              "        if (!display || display === 'none') {{\n",
              "            console.log([gd, 'removed!']);\n",
              "            Plotly.purge(gd);\n",
              "            observer.disconnect();\n",
              "        }}\n",
              "}});\n",
              "\n",
              "// Listen for the removal of the full notebook cells\n",
              "var notebookContainer = gd.closest('#notebook-container');\n",
              "if (notebookContainer) {{\n",
              "    x.observe(notebookContainer, {childList: true});\n",
              "}}\n",
              "\n",
              "// Listen for the clearing of the current output cell\n",
              "var outputEl = gd.closest('.output');\n",
              "if (outputEl) {{\n",
              "    x.observe(outputEl, {childList: true});\n",
              "}}\n",
              "\n",
              "                        })                };                            </script>        </div>\n",
              "</body>\n",
              "</html>"
            ]
          },
          "metadata": {}
        }
      ]
    },
    {
      "cell_type": "markdown",
      "source": [
        "Há similaridade quanto a visualização gráfica em relação ao preço da gasolina comum entre os 4 postos."
      ],
      "metadata": {
        "id": "K-DtNYHiaf0y"
      }
    },
    {
      "cell_type": "markdown",
      "source": [
        "# SALVANDO O CONJUNTO DE DADOS\n",
        "É possível salvar o conjunto de dados tratado contendo todos os postos de vendas dos postos Automoto Automóveis do Amapá Ltda. em um arquivo csv."
      ],
      "metadata": {
        "id": "oUoTjuida6OE"
      }
    },
    {
      "cell_type": "code",
      "source": [
        "automoto_atmv.to_csv(\"gasolina_2022_automoto_atmv.csv\", index=False)"
      ],
      "metadata": {
        "id": "O3HeP8OzDHOa"
      },
      "execution_count": null,
      "outputs": []
    }
  ]
}