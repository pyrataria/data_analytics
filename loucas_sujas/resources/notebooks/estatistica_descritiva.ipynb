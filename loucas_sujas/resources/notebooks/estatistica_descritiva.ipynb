{
  "nbformat": 4,
  "nbformat_minor": 0,
  "metadata": {
    "colab": {
      "provenance": []
    },
    "kernelspec": {
      "name": "python3",
      "display_name": "Python 3"
    },
    "language_info": {
      "name": "python"
    }
  },
  "cells": [
    {
      "cell_type": "markdown",
      "source": [
        "Este estudo trata-se da relação da quantidade de louças lavadas em determinados dias dos mês de abril e busca averiguar se existe correlação entre as mesmas, quantidade de louças lavadas por categoria no referido mês, entre outros objetivos.  \n",
        "A principal motivação do estudo, é relatar de forma visual e categórica os dados obtidos."
      ],
      "metadata": {
        "id": "v8StiLON6ObS"
      }
    },
    {
      "cell_type": "markdown",
      "source": [
        "# COLETA DE DADOS\n",
        "A coleta de dados foi feita de forma dinâmica, por mim mesmo (autor do estudo), por meio da lavagem da louças durante o mês de abril."
      ],
      "metadata": {
        "id": "H328fCqt9Jo2"
      }
    },
    {
      "cell_type": "markdown",
      "source": [
        "# ORGANIZAÇÃO E ANÁLISE DOS DADOS\n",
        "Para a manipulação e análise exploratória dos dados, neste estudo, será utilizada a biblioteca *pandas*."
      ],
      "metadata": {
        "id": "PZ89vFuJ18Mx"
      }
    },
    {
      "cell_type": "code",
      "source": [
        "import pandas as pd"
      ],
      "metadata": {
        "id": "aacOlYXpdQl5"
      },
      "execution_count": null,
      "outputs": []
    },
    {
      "cell_type": "code",
      "source": [
        "df = pd.read_csv(\"https://drive.google.com/uc?id=1uNPUMANzPrH4FSCo0odg5M-CgIgdyg24&export=download\")\n",
        "df.head()"
      ],
      "metadata": {
        "id": "KYHDLkGidVLm"
      },
      "execution_count": null,
      "outputs": []
    },
    {
      "cell_type": "code",
      "source": [
        "df.shape"
      ],
      "metadata": {
        "id": "VvQGwiL9eoZK"
      },
      "execution_count": null,
      "outputs": []
    },
    {
      "cell_type": "markdown",
      "source": [
        "O conjunto de dados é composto por 17 registros e 11 variáveis. Os registros representam a quantidade de dias em que foram obtidos os dados, que no caso, são a quantidade absoluta de louças por variável."
      ],
      "metadata": {
        "id": "49Q16vHi_GYO"
      }
    },
    {
      "cell_type": "markdown",
      "source": [
        "## Organizando Variáveis e Registros\n",
        "Para se modificar o dataframe em uma série temporal, a variável (coluna) *DATA* será transformada em índice."
      ],
      "metadata": {
        "id": "dotbXccF2c2p"
      }
    },
    {
      "cell_type": "code",
      "source": [
        "df.set_index(\"DATA\", inplace=True)"
      ],
      "metadata": {
        "id": "xki6DyUZhbrv"
      },
      "execution_count": null,
      "outputs": []
    },
    {
      "cell_type": "code",
      "source": [
        "df.index.names = [None] # remove o nome da variável transposta em índice\n",
        "df.head()"
      ],
      "metadata": {
        "id": "OvN6jn6Myu-Q"
      },
      "execution_count": null,
      "outputs": []
    },
    {
      "cell_type": "markdown",
      "source": [
        "## Análise dos Dados\n",
        "**Valores Nulos**  \n",
        "Primeiramento, será verificado se existem valores ausentes no dataframe."
      ],
      "metadata": {
        "id": "SeWpWZES_3cY"
      }
    },
    {
      "cell_type": "code",
      "source": [
        "df.isnull().sum()"
      ],
      "metadata": {
        "id": "gr08MRgEgWNb"
      },
      "execution_count": null,
      "outputs": []
    },
    {
      "cell_type": "markdown",
      "source": [
        "Com isso, percebe-se que não existem valores faltantes.  \n",
        "\n",
        "**Tipos dos Dados**  \n",
        "É necessário também verificar o tipo dos dados, pois serão feitos cálculos com dados do tipo numérico."
      ],
      "metadata": {
        "id": "mKNsvia3AKRW"
      }
    },
    {
      "cell_type": "code",
      "source": [
        "df.dtypes"
      ],
      "metadata": {
        "id": "isHzW3jfglKp"
      },
      "execution_count": null,
      "outputs": []
    },
    {
      "cell_type": "markdown",
      "source": [
        "Olhando para o conjunto de dados, vê-se que as variáveis numéricas são do tipo inteiro, portanto não se faz necessário nenhum tipo de mudança no tipo dos dados.  \n",
        "\n",
        "# ESTATÍTISCA DESCRITIVA\n",
        "Com a estatística descritiva, serão sintetizados valores de mesma natureza, permitindo dessa forma que se tenha uma visão geral da variação desses valores, organização e descrição dos dados."
      ],
      "metadata": {
        "id": "sOYaNC3sAbzW"
      }
    },
    {
      "cell_type": "markdown",
      "source": [
        "## Distribuição de Frequências\n",
        "A distribuição de frequências se da por um conjunto, no qual os dados estão dispostos em grupos de classes ou categorias, dando assim uma noção da quantidade de ocorrência de determinado valor em sua respectiva classe."
      ],
      "metadata": {
        "id": "fydNQ1OCBTb4"
      }
    },
    {
      "cell_type": "markdown",
      "source": [
        "### Frequência absoluta, relativa e percentual relativa\n",
        "**Frequência Absoluta**  \n",
        "A frequência absoluta demonstra a quantidade total de vezes que determinada variável ocorreu."
      ],
      "metadata": {
        "id": "b0rTpFN_-lh4"
      }
    },
    {
      "cell_type": "code",
      "source": [
        "df2 = pd.DataFrame(df.drop(columns=[\"DIA_SEM\"]).sum(), columns=[\"FREQ_ABS\"])"
      ],
      "metadata": {
        "id": "kmOLCteDN2aG"
      },
      "execution_count": null,
      "outputs": []
    },
    {
      "cell_type": "code",
      "source": [
        "df2.loc[\"TOTAL\"] = df2.sum()[0]"
      ],
      "metadata": {
        "id": "qbmVysrsPqdl"
      },
      "execution_count": null,
      "outputs": []
    },
    {
      "cell_type": "markdown",
      "source": [
        "Asism, temos o número total de ocorrências para cada variável do estudo, com acréscimo da quantidade total de louças lavadas, representado pela variável *TOTAL*.  \n",
        "\n",
        "**Frequência Relativa**  \n",
        "Mostra a taxa percentual de vezes que uma resposta aparece em relação ao todo."
      ],
      "metadata": {
        "id": "6zhQyUTBeite"
      }
    },
    {
      "cell_type": "code",
      "source": [
        "df2[\"FREQ_REL\"] = round(df2.FREQ_ABS/df2.FREQ_ABS[\"TOTAL\"], 3)"
      ],
      "metadata": {
        "id": "Sqz7SJf15jxo"
      },
      "execution_count": null,
      "outputs": []
    },
    {
      "cell_type": "markdown",
      "source": [
        "**Frequência Percentual Relativa**  \n",
        "Demonstra a porcentagem de vezes que determinado aparece em relação ao todo."
      ],
      "metadata": {
        "id": "3GrrJ3XfenwA"
      }
    },
    {
      "cell_type": "code",
      "source": [
        "df2[\"FREQ_PERC_REL\"] = round((df2.FREQ_ABS/df2.FREQ_ABS[\"TOTAL\"])*100, 2)\n",
        "df2"
      ],
      "metadata": {
        "id": "smIfKcfL7TjH"
      },
      "execution_count": null,
      "outputs": []
    },
    {
      "cell_type": "markdown",
      "source": [
        "Com esta operação, vê-se que 34,63% dos itens estão acumulados na variável *TALHER*, com um total de 293 ocorrências, sendo estes a maioria.  \n",
        "Além disso, ao analisar o registro *TOTAL*, percebe-se que foram lavadas **846** louças durante o mês de abril.  \n",
        "\n",
        "### Visualização de frequências\n",
        "**Distribuição por Categoria**  \n",
        "É possível utilizar o gráfico de setores para visualizar a distribuição de frequências de louças lavadas durante o mês de abril."
      ],
      "metadata": {
        "id": "jT_J2kjOe6PD"
      }
    },
    {
      "cell_type": "code",
      "source": [
        "import plotly.express as px\n",
        "import plotly.graph_objs as go"
      ],
      "metadata": {
        "id": "s2Fdorcdh378"
      },
      "execution_count": null,
      "outputs": []
    },
    {
      "cell_type": "code",
      "source": [
        "tema = px.colors.qualitative.Light24"
      ],
      "metadata": {
        "id": "clt9rvA9h258"
      },
      "execution_count": null,
      "outputs": []
    },
    {
      "cell_type": "code",
      "source": [
        "labels = df2[\"FREQ_ABS\"][:-1].index # nome dos setores\n",
        "values = df2[\"FREQ_ABS\"][:-1].values # valor dos setores"
      ],
      "metadata": {
        "id": "HZJ8ZG_rsKcb"
      },
      "execution_count": null,
      "outputs": []
    },
    {
      "cell_type": "code",
      "source": [
        "# valores que se destacarão no gráfico\n",
        "index_max = values.max()\n",
        "index_min = values.min()"
      ],
      "metadata": {
        "id": "Tepo52BjhuUV"
      },
      "execution_count": null,
      "outputs": []
    },
    {
      "cell_type": "code",
      "source": [
        "dist_perc_loucas = go.Figure(go.Pie(labels=labels, values=values,\n",
        "                                    texttemplate=\"%{label}<br>%{percent}\",\n",
        "                                    hoverinfo=\"label+value+percent\", hole=0.25,\n",
        "                                    pull=[0.2 if i in (index_min, index_max)\n",
        "                                    else 0 for i in values],\n",
        "                                    marker=dict(colors=tema)))\n",
        "\n",
        "dist_perc_loucas.update_layout(height=600, width=700, font_size=12, showlegend=False,\n",
        "                               title=dict(text=\"DISTRIBUIÇÃO PERCENTUAL DE LOUÇAS LAVADAS\",\n",
        "                                          x=0.5, font_size=22),\n",
        "                               annotations=[dict(text=f\"<b>TOTAL<br>{max(df2['FREQ_ABS'])}</b>\",\n",
        "                                                 x=0.5, y=0.5, font_size=14,\n",
        "                                                 showarrow=False)])"
      ],
      "metadata": {
        "id": "0qHVRrtOiNNA"
      },
      "execution_count": null,
      "outputs": []
    },
    {
      "cell_type": "markdown",
      "source": [
        "A categoria TALHER se destaca com o maior percentual de louças lavadas, alcançando 34.6%. Já a categoria *COPO*, é a com menor ocorrência de dados.  \n",
        "Utilizando o gráfico de barras, é possível ter percepção acerca da quantidade absoluta de louças lavadas."
      ],
      "metadata": {
        "id": "VZ9gQ_ry9ror"
      }
    },
    {
      "cell_type": "code",
      "source": [
        "dist_abs_loucas = px.bar(df2[:-1], y=\"FREQ_ABS\", width=900, orientation='v',\n",
        "                         text_auto=True, color=df2[:-1].T.columns,\n",
        "                         color_discrete_sequence=tema,\n",
        "                         custom_data=[\"FREQ_ABS\", \"FREQ_PERC_REL\"])\n",
        "\n",
        "dist_abs_loucas.update_traces(hovertemplate=[\"TOTAL: %{customdata[0]}<br>\\\n",
        "PORCENTAGEM: %{customdata[1]}%\"])\n",
        "\n",
        "dist_abs_loucas.update_layout(font_size=12, xaxis=dict(title=None),\n",
        "                              yaxis=dict(title=\"Quantidade\"),\n",
        "                              title=dict(text=\"TOTAL DE LOUÇAS LAVADAS\", x=0.5,\n",
        "                                         font_size=22),\n",
        "                              plot_bgcolor=\"rgb(245, 245, 245)\",\n",
        "                              showlegend=False)\n",
        "\n",
        "dist_abs_loucas.update_xaxes(showline=True, linewidth=1, linecolor=\"lightgrey\",\n",
        "                             categoryorder=\"total descending\")\n",
        "\n",
        "dist_abs_loucas.update_yaxes(showline=True, linewidth=1, linecolor=\"lightgrey\")"
      ],
      "metadata": {
        "id": "2F998Av_inym"
      },
      "execution_count": null,
      "outputs": []
    },
    {
      "cell_type": "markdown",
      "source": [
        "Ao se observar o gráfico de barras, fica claro o quanto a categoria *TALHER* se destaca das demais em quantidade de itens. Após ela, a categoria *TIGELA* aparece em maior quantidade, porém, esta não alcança 50% dos itens de TALHER.  \n",
        "\n",
        "**Distribuição por Dia da Semana**  \n",
        "Além disso, é possível verificar visualmente a quantidade de louças lavadas por dia da semana, concluindo asism se há um dia com maior \"pico\" de louça suja."
      ],
      "metadata": {
        "id": "05t0cDt6qvVh"
      }
    },
    {
      "cell_type": "code",
      "source": [
        "df3 = df.groupby([\"DIA_SEM\"]).sum() # dataframe agrupado pelo dia da semana"
      ],
      "metadata": {
        "id": "1vco1cXZsJf4"
      },
      "execution_count": null,
      "outputs": []
    },
    {
      "cell_type": "code",
      "source": [
        "df3.index.names = [None]\n",
        "df3"
      ],
      "metadata": {
        "id": "0_-CPbHWXoc2"
      },
      "execution_count": null,
      "outputs": []
    },
    {
      "cell_type": "markdown",
      "source": [
        "Agora, é possível verificar a frequência acumulada por dia da semana, fazendo o somatório dos registros."
      ],
      "metadata": {
        "id": "GPFf8deWxsrB"
      }
    },
    {
      "cell_type": "code",
      "source": [
        "dist_loucas_sem = px.bar(df3.T.sum(), width=800, orientation='v',\n",
        "                         text_auto=True, color=[\"seg\", \"ter\", \"qua\", \"qui\",\n",
        "                                                \"sex\", \"sab\"],\n",
        "                         color_discrete_sequence=tema)\n",
        "\n",
        "dist_loucas_sem.update_layout(font_size=12, showlegend=False,\n",
        "                              title=dict(text=\"TOTAL DE LOUÇAS LAVADAS POR DIA DA SEMANA\",\n",
        "                                         x=0.5, font_size=22),\n",
        "                              xaxis=dict(title=None, categoryarray=[\"seg\", \"ter\",\n",
        "                                                                    \"qua\", \"qui\",\n",
        "                                                                    \"sex\", \"sab\"]),\n",
        "                              yaxis=dict(title=\"Quantidade\"), \n",
        "                              plot_bgcolor=\"rgb(245, 245, 245)\")\n",
        "\n",
        "dist_loucas_sem.update_xaxes(showline=True, linewidth=1, linecolor=\"lightgrey\")\n",
        "\n",
        "dist_loucas_sem.update_yaxes(showline=True, linewidth=1, linecolor=\"lightgrey\")"
      ],
      "metadata": {
        "id": "CsC6GyBjyk24"
      },
      "execution_count": null,
      "outputs": []
    },
    {
      "cell_type": "markdown",
      "source": [
        "A partir desta distribuição, vê-se que o dia da semana (acumulando de todos os dias) que mais se lavou louças foi terça-feira e sábado foi o que menos se lavou. Também é possível notar que, excluindo o sábado, o dia útil da semana que menos se lavou louças foi segunda.  \n",
        "Essa mesma representação pode ser feita observando as categorias de louça de forma independente."
      ],
      "metadata": {
        "id": "9KOTbFR446Ia"
      }
    },
    {
      "cell_type": "code",
      "source": [
        "categorias = df3.keys()\n",
        "dias = df3.index"
      ],
      "metadata": {
        "id": "f3hcRXSis3Pm"
      },
      "execution_count": null,
      "outputs": []
    },
    {
      "cell_type": "code",
      "source": [
        "dist_loucas_cat = go.Figure()\n",
        "\n",
        "for i, categoria in enumerate(categorias):\n",
        "    freq_abs = [df3[categoria][dia] for dia in dias]\n",
        "    dist_loucas_cat.add_trace(go.Bar(x=dias, y=freq_abs, name=categoria,\n",
        "                                     marker_color=tema[i]))\n",
        "\n",
        "dist_loucas_cat.update_layout(title=dict(text=\"TOTAL DE LOUÇAS LAVADAS POR DIA\\\n",
        "DA SEMANA EM CATEGORIAS\",\n",
        "                                         x=0.5, font_size=22),\n",
        "                              xaxis=dict(categoryarray=[\"seg\", \"ter\", \"qua\",\n",
        "                                                        \"qui\", \"sex\", \"sab\"]),\n",
        "                              yaxis_title='Quantidade',\n",
        "                              legend=dict(title=\"Categoria\", bgcolor=\"#F9F9F9\",\n",
        "                                          bordercolor=\"#D0D1D3\", borderwidth=1,\n",
        "                                          font=dict(size=14)),\n",
        "                              plot_bgcolor=\"rgb(245, 245, 245)\")"
      ],
      "metadata": {
        "id": "A24n8AlQhXVt"
      },
      "execution_count": null,
      "outputs": []
    },
    {
      "cell_type": "markdown",
      "source": [
        "Com isso, fica ainda mais evidente que a categoria TAHLHER sempre se destaca das demais em quantidade.  \n",
        "\n",
        "## Medidas de Tendência Central\n",
        "As medidas de tendência central representam o conjunto de dados como um todo, identificando as características apresentadas pelo conjunto."
      ],
      "metadata": {
        "id": "jGekVyAWv3QJ"
      }
    },
    {
      "cell_type": "code",
      "source": [
        "import warnings"
      ],
      "metadata": {
        "id": "cxU0waObOcT2"
      },
      "execution_count": null,
      "outputs": []
    },
    {
      "cell_type": "code",
      "source": [
        "warnings.filterwarnings('ignore') # remove avisos (ignorem)"
      ],
      "metadata": {
        "id": "3tJ7QDvlOhDg"
      },
      "execution_count": null,
      "outputs": []
    },
    {
      "cell_type": "code",
      "source": [
        "data_df4 = {chave: int(valor) for chave, valor in round(df.mean()).items()}"
      ],
      "metadata": {
        "id": "TfU5rL-Jjr8r"
      },
      "execution_count": null,
      "outputs": []
    },
    {
      "cell_type": "code",
      "source": [
        "data_df4.update({\"TOTAL\": sum(data_df4.values())})"
      ],
      "metadata": {
        "id": "gWejG9wskbJ3"
      },
      "execution_count": null,
      "outputs": []
    },
    {
      "cell_type": "code",
      "source": [
        "df4 = pd.DataFrame(data_df4, index=[\"MÉDIA\"]).T\n",
        "df4"
      ],
      "metadata": {
        "id": "vkHObEC-gEb_"
      },
      "execution_count": null,
      "outputs": []
    },
    {
      "cell_type": "markdown",
      "source": [
        "Olhando a tabela, percebe-se que em média, se lavou 50 louças por dia no mês de abril.  \n",
        "Um gráfico de barras pode facilitar o entendimento."
      ],
      "metadata": {
        "id": "yEUxMoQxcSPX"
      }
    },
    {
      "cell_type": "code",
      "source": [
        "dist_med_loucas = px.bar(df4[:-1], width=900, orientation='v', text_auto=True,\n",
        "                         color=df4[:-1].T.columns, color_discrete_sequence=tema)\n",
        "\n",
        "dist_med_loucas.update_layout(font_size=12, xaxis=dict(title=None),\n",
        "                              yaxis=dict(title=\"Média\"), showlegend=False,\n",
        "                              plot_bgcolor=\"rgb(245, 245, 245)\",\n",
        "                              title=dict(text=\"MÉDIA DE LOUÇAS LAVADAS\", x=0.5,\n",
        "                                         font_size=22))\n",
        "\n",
        "dist_med_loucas.update_xaxes(showline=True, linewidth=1, linecolor=\"lightgrey\",\n",
        "                             categoryorder=\"total descending\")\n",
        "\n",
        "dist_med_loucas.update_yaxes(showline=True, linewidth=1, linecolor=\"lightgrey\")"
      ],
      "metadata": {
        "id": "T3ukHwsnw6DZ"
      },
      "execution_count": null,
      "outputs": []
    },
    {
      "cell_type": "markdown",
      "source": [
        "É possível notar que o gráfico da média se assemelha bastante ao de frequência absoluta, com isso, podemos inferir que não há outliers (valores discrepantes) nos dados.  \n",
        "\n",
        "## Estatística Inferencial"
      ],
      "metadata": {
        "id": "9qqptDuYMoOW"
      }
    },
    {
      "cell_type": "markdown",
      "source": [
        "### Correlação de Pearson\n",
        "Demonstra um grau de relação entre duas variáveis quantitativas e exprime o grau de **correlação** através de valores situados entre -1 e 1.\n",
        "Quando o coeficiente de correlação se aproxima de 1, nota-se um aumento no valor de uma variável quando a outra também aumenta, ou seja, há uma **relação linear positiva**. Quando o coeficiente se aproxima de -1, também é possível dizer que as variáveis são correlacionadas, mas nesse caso quando o valor de uma variável aumenta o da outra diminui. Isso é o que é chamado de **correlação negativa** ou inversa."
      ],
      "metadata": {
        "id": "0slwBJw1PChj"
      }
    },
    {
      "cell_type": "code",
      "source": [
        "df5 = df.copy()"
      ],
      "metadata": {
        "id": "1hprO-eI18AM"
      },
      "execution_count": null,
      "outputs": []
    },
    {
      "cell_type": "markdown",
      "source": [
        "Será feita uma análise se há correlação entre as variáveis do estudo."
      ],
      "metadata": {
        "id": "Zy1TbZey39mb"
      }
    },
    {
      "cell_type": "code",
      "source": [
        "df5.corr(method=\"pearson\")"
      ],
      "metadata": {
        "id": "NcPL6J8Lb5u3"
      },
      "execution_count": null,
      "outputs": []
    },
    {
      "cell_type": "markdown",
      "source": [
        "É possível visualizar esta correlação em um mapa de calor."
      ],
      "metadata": {
        "id": "z1_bjZo5b8CN"
      }
    },
    {
      "cell_type": "code",
      "source": [
        "mapa_calor = px.imshow(df5.corr(method=\"pearson\"), text_auto=True);\n",
        "\n",
        "mapa_calor.update_layout(width=800, height=800, plot_bgcolor=\"rgb(250, 250, 250)\",\n",
        "                         title=dict(text=\"CORRELAÇÃO ENTRE CATEGORIAS DE LOUÇAS\",\n",
        "                                    x=0.5, font_size=22))\n",
        "\n",
        "mapa_calor.update_xaxes(showline=True, linewidth=1, linecolor=\"lightgrey\")\n",
        "\n",
        "mapa_calor.update_yaxes(showline=True, linewidth=1, linecolor=\"lightgrey\")"
      ],
      "metadata": {
        "id": "m0UIsDnbESg-"
      },
      "execution_count": null,
      "outputs": []
    },
    {
      "cell_type": "markdown",
      "source": [
        "Com isso, se percebe correlação positiva moderada (acima de 0.50, ou 50%) entre algumas variáveis.  \n",
        "Uma correlação que chama a atenção (pois já era esperada), é a entre as variáveis PANELA e TAMPA, porém, não é tão forte quanto se poderia imaginar.  \n",
        "Além disso, é possível visualizar uma correlação moderada negativa entre outras variáveis também."
      ],
      "metadata": {
        "id": "HU2wsH54Px2L"
      }
    }
  ]
}