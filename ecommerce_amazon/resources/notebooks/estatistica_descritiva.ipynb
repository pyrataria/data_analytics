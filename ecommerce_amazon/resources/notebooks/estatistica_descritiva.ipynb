{
  "nbformat": 4,
  "nbformat_minor": 0,
  "metadata": {
    "colab": {
      "provenance": []
    },
    "kernelspec": {
      "name": "python3",
      "display_name": "Python 3"
    },
    "language_info": {
      "name": "python"
    }
  },
  "cells": [
    {
      "cell_type": "markdown",
      "source": [
        "Conjunto de dados com de mais de 1.000 registros, contendo informações sobre produtos relativos ao e-commerce da empresa Amazon. O mesmo é proveniente de terceiros, adquirido por meio da plataforma [Kaggle](https://www.kaggle.com/datasets/karkavelrajaj/amazon-sales-dataset).  \n",
        "\n",
        "**Sobre o projeto**  \n",
        "A empresa Amazon.com, Inc. é uma empresa multinacional de tecnologia norte-americana com sede em Seattle, Washington. A companhia trabalha na área do e-commerce, computação em nuvem, streaming e inteligência artificial.  \n",
        "Neste projeto, ao discorrer sobre dados inerentes ao e-commerce da empresa, o observador terá esclarecimento acerca de algumas questões, relativas a compras no âmbito de loja virtual da Amazon. Ao final, serão respondidas algumas perguntas de negócio."
      ],
      "metadata": {
        "id": "ts6BJV68m6rn"
      }
    },
    {
      "cell_type": "markdown",
      "source": [
        "# **PREPARAÇÃO, ORGANIZAÇÃO E ESTRUTURAÇÃO DOS DADOS**\n",
        "Para a mabipulação e análise de dados, será utilizada a biblioteca pandas."
      ],
      "metadata": {
        "id": "YznZAlUaOSk8"
      }
    },
    {
      "cell_type": "code",
      "execution_count": 1,
      "metadata": {
        "id": "FKur-wGilUml"
      },
      "outputs": [],
      "source": [
        "import pandas as pd"
      ]
    },
    {
      "cell_type": "code",
      "source": [
        "pd.set_option(\"display.max_columns\", 30) # altera o número máximo de colunas a serem exibidas"
      ],
      "metadata": {
        "id": "2kujMSFqo52w"
      },
      "execution_count": 2,
      "outputs": []
    },
    {
      "cell_type": "code",
      "source": [
        "df = pd.read_csv(\"/content/drive/MyDrive/projetos/amazon/amazon.csv\")\n",
        "df"
      ],
      "metadata": {
        "id": "VJttnfQ3lYA4",
        "colab": {
          "base_uri": "https://localhost:8080/",
          "height": 1000
        },
        "outputId": "4d988f36-4a4a-49c5-ed71-b02111f2cf63"
      },
      "execution_count": 3,
      "outputs": [
        {
          "output_type": "execute_result",
          "data": {
            "text/plain": [
              "      product_id                                       product_name  \\\n",
              "0     B07JW9H4J1  Wayona Nylon Braided USB to Lightning Fast Cha...   \n",
              "1     B098NS6PVG  Ambrane Unbreakable 60W / 3A Fast Charging 1.5...   \n",
              "2     B096MSW6CT  Sounce Fast Phone Charging Cable & Data Sync U...   \n",
              "3     B08HDJ86NZ  boAt Deuce USB 300 2 in 1 Type-C & Micro USB S...   \n",
              "4     B08CF3B7N1  Portronics Konnect L 1.2M Fast Charging 3A 8 P...   \n",
              "...          ...                                                ...   \n",
              "1460  B08L7J3T31  Noir Aqua - 5pcs PP Spun Filter + 1 Spanner | ...   \n",
              "1461  B01M6453MB  Prestige Delight PRWO Electric Rice Cooker (1 ...   \n",
              "1462  B009P2LIL4  Bajaj Majesty RX10 2000 Watts Heat Convector R...   \n",
              "1463  B00J5DYCCA  Havells Ventil Air DSP 230mm Exhaust Fan (Pist...   \n",
              "1464  B01486F4G6  Borosil Jumbo 1000-Watt Grill Sandwich Maker (...   \n",
              "\n",
              "                                               category discounted_price  \\\n",
              "0     Computers&Accessories|Accessories&Peripherals|...             ₹399   \n",
              "1     Computers&Accessories|Accessories&Peripherals|...             ₹199   \n",
              "2     Computers&Accessories|Accessories&Peripherals|...             ₹199   \n",
              "3     Computers&Accessories|Accessories&Peripherals|...             ₹329   \n",
              "4     Computers&Accessories|Accessories&Peripherals|...             ₹154   \n",
              "...                                                 ...              ...   \n",
              "1460  Home&Kitchen|Kitchen&HomeAppliances|WaterPurif...             ₹379   \n",
              "1461  Home&Kitchen|Kitchen&HomeAppliances|SmallKitch...           ₹2,280   \n",
              "1462  Home&Kitchen|Heating,Cooling&AirQuality|RoomHe...           ₹2,219   \n",
              "1463  Home&Kitchen|Heating,Cooling&AirQuality|Fans|E...           ₹1,399   \n",
              "1464  Home&Kitchen|Kitchen&HomeAppliances|SmallKitch...           ₹2,863   \n",
              "\n",
              "     actual_price discount_percentage rating rating_count  \\\n",
              "0          ₹1,099                 64%    4.2       24,269   \n",
              "1            ₹349                 43%    4.0       43,994   \n",
              "2          ₹1,899                 90%    3.9        7,928   \n",
              "3            ₹699                 53%    4.2       94,363   \n",
              "4            ₹399                 61%    4.2       16,905   \n",
              "...           ...                 ...    ...          ...   \n",
              "1460         ₹919                 59%      4        1,090   \n",
              "1461       ₹3,045                 25%    4.1        4,118   \n",
              "1462       ₹3,080                 28%    3.6          468   \n",
              "1463       ₹1,890                 26%      4        8,031   \n",
              "1464       ₹3,690                 22%    4.3        6,987   \n",
              "\n",
              "                                          about_product  \\\n",
              "0     High Compatibility : Compatible With iPhone 12...   \n",
              "1     Compatible with all Type C enabled devices, be...   \n",
              "2     【 Fast Charger& Data Sync】-With built-in safet...   \n",
              "3     The boAt Deuce USB 300 2 in 1 cable is compati...   \n",
              "4     [CHARGE & SYNC FUNCTION]- This cable comes wit...   \n",
              "...                                                 ...   \n",
              "1460  SUPREME QUALITY 90 GRAM 3 LAYER THIK PP SPUN F...   \n",
              "1461                       230 Volts, 400 watts, 1 Year   \n",
              "1462  International design and styling|Two heat sett...   \n",
              "1463  Fan sweep area: 230 MM ; Noise level: (40 - 45...   \n",
              "1464  Brand-Borosil, Specification â€“ 23V ~ 5Hz;1 W...   \n",
              "\n",
              "                                                user_id  \\\n",
              "0     AG3D6O4STAQKAY2UVGEUV46KN35Q,AHMY5CWJMMK5BJRBB...   \n",
              "1     AECPFYFQVRUWC3KGNLJIOREFP5LQ,AGYYVPDD7YG7FYNBX...   \n",
              "2     AGU3BBQ2V2DDAMOAKGFAWDDQ6QHA,AESFLDV2PT363T2AQ...   \n",
              "3     AEWAZDZZJLQUYVOVGBEUKSLXHQ5A,AG5HTSFRRE6NL3M5S...   \n",
              "4     AE3Q6KSUK5P75D5HFYHCRAOLODSA,AFUGIFH5ZAFXRDSZH...   \n",
              "...                                                 ...   \n",
              "1460  AHITFY6AHALOFOHOZEOC6XBP4FEA,AFRABBODZJZQB6Z4U...   \n",
              "1461  AFG5FM3NEMOL6BNFRV2NK5FNJCHQ,AGEINTRN6Z563RMLH...   \n",
              "1462  AGVPWCMAHYQWJOQKMUJN4DW3KM5Q,AF4Q3E66MY4SR7YQZ...   \n",
              "1463  AF2JQCLSCY3QJATWUNNHUSVUPNQQ,AFDMLUXC5LS5RXDJS...   \n",
              "1464  AFGW5PT3R6ZAVQR4Y5MWVAKBZAYA,AG7QNJ2SCS5VS5VYY...   \n",
              "\n",
              "                                              user_name  \\\n",
              "0     Manav,Adarsh gupta,Sundeep,S.Sayeed Ahmed,jasp...   \n",
              "1     ArdKn,Nirbhay kumar,Sagar Viswanathan,Asp,Plac...   \n",
              "2     Kunal,Himanshu,viswanath,sai niharka,saqib mal...   \n",
              "3     Omkar dhale,JD,HEMALATHA,Ajwadh a.,amar singh ...   \n",
              "4     rahuls6099,Swasat Borah,Ajay Wadke,Pranali,RVK...   \n",
              "...                                                 ...   \n",
              "1460  Prabha ds,Raghuram bk,Real Deal,Amazon Custome...   \n",
              "1461  Manu Bhai,Naveenpittu,Evatira Sangma,JAGANNADH...   \n",
              "1462  Nehal Desai,Danish Parwez,Amazon Customer,Amaz...   \n",
              "1463  Shubham Dubey,E.GURUBARAN,Mayank S.,eusuf khan...   \n",
              "1464  Rajib,Ajay B,Vikas Kahol,PARDEEP,Anindya Prama...   \n",
              "\n",
              "                                              review_id  \\\n",
              "0     R3HXWT0LRP0NMF,R2AJM3LFTLZHFO,R6AQJGUP6P86,R1K...   \n",
              "1     RGIQEG07R9HS2,R1SMWZQ86XIN8U,R2J3Y1WL29GWDE,RY...   \n",
              "2     R3J3EQQ9TZI5ZJ,R3E7WBGK7ID0KV,RWU79XKQ6I1QF,R2...   \n",
              "3     R3EEUZKKK9J36I,R3HJVYCLYOY554,REDECAZ7AMPQC,R1...   \n",
              "4     R1BP4L2HH9TFUP,R16PVJEXKV6QZS,R2UPDB81N66T4P,R...   \n",
              "...                                                 ...   \n",
              "1460  R3G3XFHPBFF0E8,R3C0BZCD32EIGW,R2EBVBCN9QPD9R,R...   \n",
              "1461  R3DDL2UPKQ2CK9,R2SYYU1OATVIU5,R1VM993161IYRW,R...   \n",
              "1462  R1TLRJVW4STY5I,R2O455KRN493R1,R3Q5MVGBRIAS2G,R...   \n",
              "1463  R39Q2Y79MM9SWK,R3079BG1NIH6MB,R29A31ZELTZNJM,R...   \n",
              "1464  R20RBRZ0WEUJT9,ROKIFK9R2ISSE,R30EEG2FNJSN5I,R2...   \n",
              "\n",
              "                                           review_title  \\\n",
              "0     Satisfied,Charging is really fast,Value for mo...   \n",
              "1     A Good Braided Cable for Your Type C Device,Go...   \n",
              "2     Good speed for earlier versions,Good Product,W...   \n",
              "3     Good product,Good one,Nice,Really nice product...   \n",
              "4     As good as original,Decent,Good one for second...   \n",
              "...                                                 ...   \n",
              "1460  Received the product without spanner,Excellent...   \n",
              "1461  ok,everything was good couldn't return bcoz I ...   \n",
              "1462  very good,Work but front melt after 2 month,Go...   \n",
              "1463  Fan Speed is slow,Good quality,Good product,go...   \n",
              "1464  Works perfect,Ok good product,Nice Product. Re...   \n",
              "\n",
              "                                         review_content  \\\n",
              "0     Looks durable Charging is fine tooNo complains...   \n",
              "1     I ordered this cable to connect my phone to An...   \n",
              "2     Not quite durable and sturdy,https://m.media-a...   \n",
              "3     Good product,long wire,Charges good,Nice,I bou...   \n",
              "4     Bought this instead of original apple, does th...   \n",
              "...                                                 ...   \n",
              "1460  I received product without spanner,Excellent p...   \n",
              "1461  ok,got everything as mentioned but the measuri...   \n",
              "1462  plastic but cool body ,u have to find sturdy s...   \n",
              "1463  I have installed this in my kitchen working fi...   \n",
              "1464  It does it job perfectly..only issue is temp c...   \n",
              "\n",
              "                                               img_link  \\\n",
              "0     https://m.media-amazon.com/images/W/WEBP_40237...   \n",
              "1     https://m.media-amazon.com/images/W/WEBP_40237...   \n",
              "2     https://m.media-amazon.com/images/W/WEBP_40237...   \n",
              "3     https://m.media-amazon.com/images/I/41V5FtEWPk...   \n",
              "4     https://m.media-amazon.com/images/W/WEBP_40237...   \n",
              "...                                                 ...   \n",
              "1460  https://m.media-amazon.com/images/I/41fDdRtjfx...   \n",
              "1461  https://m.media-amazon.com/images/I/41gzDxk4+k...   \n",
              "1462  https://m.media-amazon.com/images/W/WEBP_40237...   \n",
              "1463  https://m.media-amazon.com/images/W/WEBP_40237...   \n",
              "1464  https://m.media-amazon.com/images/W/WEBP_40237...   \n",
              "\n",
              "                                           product_link  \n",
              "0     https://www.amazon.in/Wayona-Braided-WN3LG1-Sy...  \n",
              "1     https://www.amazon.in/Ambrane-Unbreakable-Char...  \n",
              "2     https://www.amazon.in/Sounce-iPhone-Charging-C...  \n",
              "3     https://www.amazon.in/Deuce-300-Resistant-Tang...  \n",
              "4     https://www.amazon.in/Portronics-Konnect-POR-1...  \n",
              "...                                                 ...  \n",
              "1460  https://www.amazon.in/Noir-Aqua-Spanner-Purifi...  \n",
              "1461  https://www.amazon.in/Prestige-Delight-PRWO-1-...  \n",
              "1462  https://www.amazon.in/Bajaj-RX-10-2000-Watt-Co...  \n",
              "1463  https://www.amazon.in/Havells-Ventilair-230mm-...  \n",
              "1464  https://www.amazon.in/Borosil-Jumbo-1000-Watt-...  \n",
              "\n",
              "[1465 rows x 16 columns]"
            ],
            "text/html": [
              "\n",
              "  <div id=\"df-d7d16e45-b779-46b4-aef8-44a1efbb67eb\">\n",
              "    <div class=\"colab-df-container\">\n",
              "      <div>\n",
              "<style scoped>\n",
              "    .dataframe tbody tr th:only-of-type {\n",
              "        vertical-align: middle;\n",
              "    }\n",
              "\n",
              "    .dataframe tbody tr th {\n",
              "        vertical-align: top;\n",
              "    }\n",
              "\n",
              "    .dataframe thead th {\n",
              "        text-align: right;\n",
              "    }\n",
              "</style>\n",
              "<table border=\"1\" class=\"dataframe\">\n",
              "  <thead>\n",
              "    <tr style=\"text-align: right;\">\n",
              "      <th></th>\n",
              "      <th>product_id</th>\n",
              "      <th>product_name</th>\n",
              "      <th>category</th>\n",
              "      <th>discounted_price</th>\n",
              "      <th>actual_price</th>\n",
              "      <th>discount_percentage</th>\n",
              "      <th>rating</th>\n",
              "      <th>rating_count</th>\n",
              "      <th>about_product</th>\n",
              "      <th>user_id</th>\n",
              "      <th>user_name</th>\n",
              "      <th>review_id</th>\n",
              "      <th>review_title</th>\n",
              "      <th>review_content</th>\n",
              "      <th>img_link</th>\n",
              "      <th>product_link</th>\n",
              "    </tr>\n",
              "  </thead>\n",
              "  <tbody>\n",
              "    <tr>\n",
              "      <th>0</th>\n",
              "      <td>B07JW9H4J1</td>\n",
              "      <td>Wayona Nylon Braided USB to Lightning Fast Cha...</td>\n",
              "      <td>Computers&amp;Accessories|Accessories&amp;Peripherals|...</td>\n",
              "      <td>₹399</td>\n",
              "      <td>₹1,099</td>\n",
              "      <td>64%</td>\n",
              "      <td>4.2</td>\n",
              "      <td>24,269</td>\n",
              "      <td>High Compatibility : Compatible With iPhone 12...</td>\n",
              "      <td>AG3D6O4STAQKAY2UVGEUV46KN35Q,AHMY5CWJMMK5BJRBB...</td>\n",
              "      <td>Manav,Adarsh gupta,Sundeep,S.Sayeed Ahmed,jasp...</td>\n",
              "      <td>R3HXWT0LRP0NMF,R2AJM3LFTLZHFO,R6AQJGUP6P86,R1K...</td>\n",
              "      <td>Satisfied,Charging is really fast,Value for mo...</td>\n",
              "      <td>Looks durable Charging is fine tooNo complains...</td>\n",
              "      <td>https://m.media-amazon.com/images/W/WEBP_40237...</td>\n",
              "      <td>https://www.amazon.in/Wayona-Braided-WN3LG1-Sy...</td>\n",
              "    </tr>\n",
              "    <tr>\n",
              "      <th>1</th>\n",
              "      <td>B098NS6PVG</td>\n",
              "      <td>Ambrane Unbreakable 60W / 3A Fast Charging 1.5...</td>\n",
              "      <td>Computers&amp;Accessories|Accessories&amp;Peripherals|...</td>\n",
              "      <td>₹199</td>\n",
              "      <td>₹349</td>\n",
              "      <td>43%</td>\n",
              "      <td>4.0</td>\n",
              "      <td>43,994</td>\n",
              "      <td>Compatible with all Type C enabled devices, be...</td>\n",
              "      <td>AECPFYFQVRUWC3KGNLJIOREFP5LQ,AGYYVPDD7YG7FYNBX...</td>\n",
              "      <td>ArdKn,Nirbhay kumar,Sagar Viswanathan,Asp,Plac...</td>\n",
              "      <td>RGIQEG07R9HS2,R1SMWZQ86XIN8U,R2J3Y1WL29GWDE,RY...</td>\n",
              "      <td>A Good Braided Cable for Your Type C Device,Go...</td>\n",
              "      <td>I ordered this cable to connect my phone to An...</td>\n",
              "      <td>https://m.media-amazon.com/images/W/WEBP_40237...</td>\n",
              "      <td>https://www.amazon.in/Ambrane-Unbreakable-Char...</td>\n",
              "    </tr>\n",
              "    <tr>\n",
              "      <th>2</th>\n",
              "      <td>B096MSW6CT</td>\n",
              "      <td>Sounce Fast Phone Charging Cable &amp; Data Sync U...</td>\n",
              "      <td>Computers&amp;Accessories|Accessories&amp;Peripherals|...</td>\n",
              "      <td>₹199</td>\n",
              "      <td>₹1,899</td>\n",
              "      <td>90%</td>\n",
              "      <td>3.9</td>\n",
              "      <td>7,928</td>\n",
              "      <td>【 Fast Charger&amp; Data Sync】-With built-in safet...</td>\n",
              "      <td>AGU3BBQ2V2DDAMOAKGFAWDDQ6QHA,AESFLDV2PT363T2AQ...</td>\n",
              "      <td>Kunal,Himanshu,viswanath,sai niharka,saqib mal...</td>\n",
              "      <td>R3J3EQQ9TZI5ZJ,R3E7WBGK7ID0KV,RWU79XKQ6I1QF,R2...</td>\n",
              "      <td>Good speed for earlier versions,Good Product,W...</td>\n",
              "      <td>Not quite durable and sturdy,https://m.media-a...</td>\n",
              "      <td>https://m.media-amazon.com/images/W/WEBP_40237...</td>\n",
              "      <td>https://www.amazon.in/Sounce-iPhone-Charging-C...</td>\n",
              "    </tr>\n",
              "    <tr>\n",
              "      <th>3</th>\n",
              "      <td>B08HDJ86NZ</td>\n",
              "      <td>boAt Deuce USB 300 2 in 1 Type-C &amp; Micro USB S...</td>\n",
              "      <td>Computers&amp;Accessories|Accessories&amp;Peripherals|...</td>\n",
              "      <td>₹329</td>\n",
              "      <td>₹699</td>\n",
              "      <td>53%</td>\n",
              "      <td>4.2</td>\n",
              "      <td>94,363</td>\n",
              "      <td>The boAt Deuce USB 300 2 in 1 cable is compati...</td>\n",
              "      <td>AEWAZDZZJLQUYVOVGBEUKSLXHQ5A,AG5HTSFRRE6NL3M5S...</td>\n",
              "      <td>Omkar dhale,JD,HEMALATHA,Ajwadh a.,amar singh ...</td>\n",
              "      <td>R3EEUZKKK9J36I,R3HJVYCLYOY554,REDECAZ7AMPQC,R1...</td>\n",
              "      <td>Good product,Good one,Nice,Really nice product...</td>\n",
              "      <td>Good product,long wire,Charges good,Nice,I bou...</td>\n",
              "      <td>https://m.media-amazon.com/images/I/41V5FtEWPk...</td>\n",
              "      <td>https://www.amazon.in/Deuce-300-Resistant-Tang...</td>\n",
              "    </tr>\n",
              "    <tr>\n",
              "      <th>4</th>\n",
              "      <td>B08CF3B7N1</td>\n",
              "      <td>Portronics Konnect L 1.2M Fast Charging 3A 8 P...</td>\n",
              "      <td>Computers&amp;Accessories|Accessories&amp;Peripherals|...</td>\n",
              "      <td>₹154</td>\n",
              "      <td>₹399</td>\n",
              "      <td>61%</td>\n",
              "      <td>4.2</td>\n",
              "      <td>16,905</td>\n",
              "      <td>[CHARGE &amp; SYNC FUNCTION]- This cable comes wit...</td>\n",
              "      <td>AE3Q6KSUK5P75D5HFYHCRAOLODSA,AFUGIFH5ZAFXRDSZH...</td>\n",
              "      <td>rahuls6099,Swasat Borah,Ajay Wadke,Pranali,RVK...</td>\n",
              "      <td>R1BP4L2HH9TFUP,R16PVJEXKV6QZS,R2UPDB81N66T4P,R...</td>\n",
              "      <td>As good as original,Decent,Good one for second...</td>\n",
              "      <td>Bought this instead of original apple, does th...</td>\n",
              "      <td>https://m.media-amazon.com/images/W/WEBP_40237...</td>\n",
              "      <td>https://www.amazon.in/Portronics-Konnect-POR-1...</td>\n",
              "    </tr>\n",
              "    <tr>\n",
              "      <th>...</th>\n",
              "      <td>...</td>\n",
              "      <td>...</td>\n",
              "      <td>...</td>\n",
              "      <td>...</td>\n",
              "      <td>...</td>\n",
              "      <td>...</td>\n",
              "      <td>...</td>\n",
              "      <td>...</td>\n",
              "      <td>...</td>\n",
              "      <td>...</td>\n",
              "      <td>...</td>\n",
              "      <td>...</td>\n",
              "      <td>...</td>\n",
              "      <td>...</td>\n",
              "      <td>...</td>\n",
              "      <td>...</td>\n",
              "    </tr>\n",
              "    <tr>\n",
              "      <th>1460</th>\n",
              "      <td>B08L7J3T31</td>\n",
              "      <td>Noir Aqua - 5pcs PP Spun Filter + 1 Spanner | ...</td>\n",
              "      <td>Home&amp;Kitchen|Kitchen&amp;HomeAppliances|WaterPurif...</td>\n",
              "      <td>₹379</td>\n",
              "      <td>₹919</td>\n",
              "      <td>59%</td>\n",
              "      <td>4</td>\n",
              "      <td>1,090</td>\n",
              "      <td>SUPREME QUALITY 90 GRAM 3 LAYER THIK PP SPUN F...</td>\n",
              "      <td>AHITFY6AHALOFOHOZEOC6XBP4FEA,AFRABBODZJZQB6Z4U...</td>\n",
              "      <td>Prabha ds,Raghuram bk,Real Deal,Amazon Custome...</td>\n",
              "      <td>R3G3XFHPBFF0E8,R3C0BZCD32EIGW,R2EBVBCN9QPD9R,R...</td>\n",
              "      <td>Received the product without spanner,Excellent...</td>\n",
              "      <td>I received product without spanner,Excellent p...</td>\n",
              "      <td>https://m.media-amazon.com/images/I/41fDdRtjfx...</td>\n",
              "      <td>https://www.amazon.in/Noir-Aqua-Spanner-Purifi...</td>\n",
              "    </tr>\n",
              "    <tr>\n",
              "      <th>1461</th>\n",
              "      <td>B01M6453MB</td>\n",
              "      <td>Prestige Delight PRWO Electric Rice Cooker (1 ...</td>\n",
              "      <td>Home&amp;Kitchen|Kitchen&amp;HomeAppliances|SmallKitch...</td>\n",
              "      <td>₹2,280</td>\n",
              "      <td>₹3,045</td>\n",
              "      <td>25%</td>\n",
              "      <td>4.1</td>\n",
              "      <td>4,118</td>\n",
              "      <td>230 Volts, 400 watts, 1 Year</td>\n",
              "      <td>AFG5FM3NEMOL6BNFRV2NK5FNJCHQ,AGEINTRN6Z563RMLH...</td>\n",
              "      <td>Manu Bhai,Naveenpittu,Evatira Sangma,JAGANNADH...</td>\n",
              "      <td>R3DDL2UPKQ2CK9,R2SYYU1OATVIU5,R1VM993161IYRW,R...</td>\n",
              "      <td>ok,everything was good couldn't return bcoz I ...</td>\n",
              "      <td>ok,got everything as mentioned but the measuri...</td>\n",
              "      <td>https://m.media-amazon.com/images/I/41gzDxk4+k...</td>\n",
              "      <td>https://www.amazon.in/Prestige-Delight-PRWO-1-...</td>\n",
              "    </tr>\n",
              "    <tr>\n",
              "      <th>1462</th>\n",
              "      <td>B009P2LIL4</td>\n",
              "      <td>Bajaj Majesty RX10 2000 Watts Heat Convector R...</td>\n",
              "      <td>Home&amp;Kitchen|Heating,Cooling&amp;AirQuality|RoomHe...</td>\n",
              "      <td>₹2,219</td>\n",
              "      <td>₹3,080</td>\n",
              "      <td>28%</td>\n",
              "      <td>3.6</td>\n",
              "      <td>468</td>\n",
              "      <td>International design and styling|Two heat sett...</td>\n",
              "      <td>AGVPWCMAHYQWJOQKMUJN4DW3KM5Q,AF4Q3E66MY4SR7YQZ...</td>\n",
              "      <td>Nehal Desai,Danish Parwez,Amazon Customer,Amaz...</td>\n",
              "      <td>R1TLRJVW4STY5I,R2O455KRN493R1,R3Q5MVGBRIAS2G,R...</td>\n",
              "      <td>very good,Work but front melt after 2 month,Go...</td>\n",
              "      <td>plastic but cool body ,u have to find sturdy s...</td>\n",
              "      <td>https://m.media-amazon.com/images/W/WEBP_40237...</td>\n",
              "      <td>https://www.amazon.in/Bajaj-RX-10-2000-Watt-Co...</td>\n",
              "    </tr>\n",
              "    <tr>\n",
              "      <th>1463</th>\n",
              "      <td>B00J5DYCCA</td>\n",
              "      <td>Havells Ventil Air DSP 230mm Exhaust Fan (Pist...</td>\n",
              "      <td>Home&amp;Kitchen|Heating,Cooling&amp;AirQuality|Fans|E...</td>\n",
              "      <td>₹1,399</td>\n",
              "      <td>₹1,890</td>\n",
              "      <td>26%</td>\n",
              "      <td>4</td>\n",
              "      <td>8,031</td>\n",
              "      <td>Fan sweep area: 230 MM ; Noise level: (40 - 45...</td>\n",
              "      <td>AF2JQCLSCY3QJATWUNNHUSVUPNQQ,AFDMLUXC5LS5RXDJS...</td>\n",
              "      <td>Shubham Dubey,E.GURUBARAN,Mayank S.,eusuf khan...</td>\n",
              "      <td>R39Q2Y79MM9SWK,R3079BG1NIH6MB,R29A31ZELTZNJM,R...</td>\n",
              "      <td>Fan Speed is slow,Good quality,Good product,go...</td>\n",
              "      <td>I have installed this in my kitchen working fi...</td>\n",
              "      <td>https://m.media-amazon.com/images/W/WEBP_40237...</td>\n",
              "      <td>https://www.amazon.in/Havells-Ventilair-230mm-...</td>\n",
              "    </tr>\n",
              "    <tr>\n",
              "      <th>1464</th>\n",
              "      <td>B01486F4G6</td>\n",
              "      <td>Borosil Jumbo 1000-Watt Grill Sandwich Maker (...</td>\n",
              "      <td>Home&amp;Kitchen|Kitchen&amp;HomeAppliances|SmallKitch...</td>\n",
              "      <td>₹2,863</td>\n",
              "      <td>₹3,690</td>\n",
              "      <td>22%</td>\n",
              "      <td>4.3</td>\n",
              "      <td>6,987</td>\n",
              "      <td>Brand-Borosil, Specification â€“ 23V ~ 5Hz;1 W...</td>\n",
              "      <td>AFGW5PT3R6ZAVQR4Y5MWVAKBZAYA,AG7QNJ2SCS5VS5VYY...</td>\n",
              "      <td>Rajib,Ajay B,Vikas Kahol,PARDEEP,Anindya Prama...</td>\n",
              "      <td>R20RBRZ0WEUJT9,ROKIFK9R2ISSE,R30EEG2FNJSN5I,R2...</td>\n",
              "      <td>Works perfect,Ok good product,Nice Product. Re...</td>\n",
              "      <td>It does it job perfectly..only issue is temp c...</td>\n",
              "      <td>https://m.media-amazon.com/images/W/WEBP_40237...</td>\n",
              "      <td>https://www.amazon.in/Borosil-Jumbo-1000-Watt-...</td>\n",
              "    </tr>\n",
              "  </tbody>\n",
              "</table>\n",
              "<p>1465 rows × 16 columns</p>\n",
              "</div>\n",
              "      <button class=\"colab-df-convert\" onclick=\"convertToInteractive('df-d7d16e45-b779-46b4-aef8-44a1efbb67eb')\"\n",
              "              title=\"Convert this dataframe to an interactive table.\"\n",
              "              style=\"display:none;\">\n",
              "        \n",
              "  <svg xmlns=\"http://www.w3.org/2000/svg\" height=\"24px\"viewBox=\"0 0 24 24\"\n",
              "       width=\"24px\">\n",
              "    <path d=\"M0 0h24v24H0V0z\" fill=\"none\"/>\n",
              "    <path d=\"M18.56 5.44l.94 2.06.94-2.06 2.06-.94-2.06-.94-.94-2.06-.94 2.06-2.06.94zm-11 1L8.5 8.5l.94-2.06 2.06-.94-2.06-.94L8.5 2.5l-.94 2.06-2.06.94zm10 10l.94 2.06.94-2.06 2.06-.94-2.06-.94-.94-2.06-.94 2.06-2.06.94z\"/><path d=\"M17.41 7.96l-1.37-1.37c-.4-.4-.92-.59-1.43-.59-.52 0-1.04.2-1.43.59L10.3 9.45l-7.72 7.72c-.78.78-.78 2.05 0 2.83L4 21.41c.39.39.9.59 1.41.59.51 0 1.02-.2 1.41-.59l7.78-7.78 2.81-2.81c.8-.78.8-2.07 0-2.86zM5.41 20L4 18.59l7.72-7.72 1.47 1.35L5.41 20z\"/>\n",
              "  </svg>\n",
              "      </button>\n",
              "      \n",
              "  <style>\n",
              "    .colab-df-container {\n",
              "      display:flex;\n",
              "      flex-wrap:wrap;\n",
              "      gap: 12px;\n",
              "    }\n",
              "\n",
              "    .colab-df-convert {\n",
              "      background-color: #E8F0FE;\n",
              "      border: none;\n",
              "      border-radius: 50%;\n",
              "      cursor: pointer;\n",
              "      display: none;\n",
              "      fill: #1967D2;\n",
              "      height: 32px;\n",
              "      padding: 0 0 0 0;\n",
              "      width: 32px;\n",
              "    }\n",
              "\n",
              "    .colab-df-convert:hover {\n",
              "      background-color: #E2EBFA;\n",
              "      box-shadow: 0px 1px 2px rgba(60, 64, 67, 0.3), 0px 1px 3px 1px rgba(60, 64, 67, 0.15);\n",
              "      fill: #174EA6;\n",
              "    }\n",
              "\n",
              "    [theme=dark] .colab-df-convert {\n",
              "      background-color: #3B4455;\n",
              "      fill: #D2E3FC;\n",
              "    }\n",
              "\n",
              "    [theme=dark] .colab-df-convert:hover {\n",
              "      background-color: #434B5C;\n",
              "      box-shadow: 0px 1px 3px 1px rgba(0, 0, 0, 0.15);\n",
              "      filter: drop-shadow(0px 1px 2px rgba(0, 0, 0, 0.3));\n",
              "      fill: #FFFFFF;\n",
              "    }\n",
              "  </style>\n",
              "\n",
              "      <script>\n",
              "        const buttonEl =\n",
              "          document.querySelector('#df-d7d16e45-b779-46b4-aef8-44a1efbb67eb button.colab-df-convert');\n",
              "        buttonEl.style.display =\n",
              "          google.colab.kernel.accessAllowed ? 'block' : 'none';\n",
              "\n",
              "        async function convertToInteractive(key) {\n",
              "          const element = document.querySelector('#df-d7d16e45-b779-46b4-aef8-44a1efbb67eb');\n",
              "          const dataTable =\n",
              "            await google.colab.kernel.invokeFunction('convertToInteractive',\n",
              "                                                     [key], {});\n",
              "          if (!dataTable) return;\n",
              "\n",
              "          const docLinkHtml = 'Like what you see? Visit the ' +\n",
              "            '<a target=\"_blank\" href=https://colab.research.google.com/notebooks/data_table.ipynb>data table notebook</a>'\n",
              "            + ' to learn more about interactive tables.';\n",
              "          element.innerHTML = '';\n",
              "          dataTable['output_type'] = 'display_data';\n",
              "          await google.colab.output.renderOutput(dataTable, element);\n",
              "          const docLink = document.createElement('div');\n",
              "          docLink.innerHTML = docLinkHtml;\n",
              "          element.appendChild(docLink);\n",
              "        }\n",
              "      </script>\n",
              "    </div>\n",
              "  </div>\n",
              "  "
            ]
          },
          "metadata": {},
          "execution_count": 3
        }
      ]
    },
    {
      "cell_type": "code",
      "source": [
        "df.shape"
      ],
      "metadata": {
        "id": "TghLDGMNnD5n",
        "colab": {
          "base_uri": "https://localhost:8080/"
        },
        "outputId": "b339d4c7-2528-4ad7-ddc2-423f5537de85"
      },
      "execution_count": 4,
      "outputs": [
        {
          "output_type": "execute_result",
          "data": {
            "text/plain": [
              "(1465, 16)"
            ]
          },
          "metadata": {},
          "execution_count": 4
        }
      ]
    },
    {
      "cell_type": "markdown",
      "source": [
        "Inicialmente, percebe-se o conjunto de dados com uma totalidade de 16 variáveis e 1465 registros."
      ],
      "metadata": {
        "id": "yhaAconNPPyn"
      }
    },
    {
      "cell_type": "markdown",
      "source": [
        "## Extração e Limpeza de Dados"
      ],
      "metadata": {
        "id": "HRryeMNRO-aL"
      }
    },
    {
      "cell_type": "markdown",
      "source": [
        "### Removendo valores nulos"
      ],
      "metadata": {
        "id": "1hULBruSD1mt"
      }
    },
    {
      "cell_type": "code",
      "source": [
        "df.isnull().sum()"
      ],
      "metadata": {
        "id": "jdmbcjNOmJ9w",
        "colab": {
          "base_uri": "https://localhost:8080/"
        },
        "outputId": "73a2350b-d49e-4ed1-ca47-ae34467adee7"
      },
      "execution_count": 5,
      "outputs": [
        {
          "output_type": "execute_result",
          "data": {
            "text/plain": [
              "product_id             0\n",
              "product_name           0\n",
              "category               0\n",
              "discounted_price       0\n",
              "actual_price           0\n",
              "discount_percentage    0\n",
              "rating                 0\n",
              "rating_count           2\n",
              "about_product          0\n",
              "user_id                0\n",
              "user_name              0\n",
              "review_id              0\n",
              "review_title           0\n",
              "review_content         0\n",
              "img_link               0\n",
              "product_link           0\n",
              "dtype: int64"
            ]
          },
          "metadata": {},
          "execution_count": 5
        }
      ]
    },
    {
      "cell_type": "markdown",
      "source": [
        "Verificando todos os registros, através das variáveis, percebe-se dois valores nulos em `rating_count`.\n",
        "Os registros contendo os valores nulos (NaN) não serão removidos, tendo em vista que a variável em questão será amplamente utilizada. Assim, estes registros nulos serão posteriormente tratados."
      ],
      "metadata": {
        "id": "MBU19j2rQbWp"
      }
    },
    {
      "cell_type": "markdown",
      "source": [
        "## Renomeando Variáveis e Registros"
      ],
      "metadata": {
        "id": "eeFhgZ5KRb5l"
      }
    },
    {
      "cell_type": "markdown",
      "source": [
        "### Renomeando registros\n",
        "Os registros da variável `rating_count` contendo valores nulos serão substituídos pelo valor 0 (zero)."
      ],
      "metadata": {
        "id": "srycUhhPf9Y-"
      }
    },
    {
      "cell_type": "code",
      "source": [
        "df[df.isnull().any(axis=1)]"
      ],
      "metadata": {
        "id": "S78QOVDdjK72",
        "colab": {
          "base_uri": "https://localhost:8080/",
          "height": 315
        },
        "outputId": "863b1643-f6f2-4417-937d-e47205525cb7"
      },
      "execution_count": 6,
      "outputs": [
        {
          "output_type": "execute_result",
          "data": {
            "text/plain": [
              "     product_id                                       product_name  \\\n",
              "282  B0B94JPY2N  Amazon Brand - Solimo 65W Fast Charging Braide...   \n",
              "324  B0BQRJ3C47  REDTECH USB-C to Lightning Cable 3.3FT, [Apple...   \n",
              "\n",
              "                                              category discounted_price  \\\n",
              "282  Computers&Accessories|Accessories&Peripherals|...             ₹199   \n",
              "324  Computers&Accessories|Accessories&Peripherals|...             ₹249   \n",
              "\n",
              "    actual_price discount_percentage rating rating_count  \\\n",
              "282         ₹999                 80%    3.0          NaN   \n",
              "324         ₹999                 75%    5.0          NaN   \n",
              "\n",
              "                                         about_product  \\\n",
              "282  USB C to C Cable: This cable has type C connec...   \n",
              "324  💎[The Fastest Charge] - This iPhone USB C cabl...   \n",
              "\n",
              "                          user_id    user_name      review_id  \\\n",
              "282  AE7CFHY23VAJT2FI4NZKKP6GS2UQ       Pranav   RUB7U91HVZ30   \n",
              "324  AGJC5O5H5BBXWUV7WRIEIOOR3TVQ  Abdul Gafur  RQXD5SAMMPC6L   \n",
              "\n",
              "                                     review_title  \\\n",
              "282  The cable works but is not 65W as advertised   \n",
              "324                               Awesome Product   \n",
              "\n",
              "                                        review_content  \\\n",
              "282  I have a pd supported car charger and I bought...   \n",
              "324  Quick delivery.Awesome ProductPacking was good...   \n",
              "\n",
              "                                              img_link  \\\n",
              "282  https://m.media-amazon.com/images/W/WEBP_40237...   \n",
              "324  https://m.media-amazon.com/images/I/31-q0xhaTA...   \n",
              "\n",
              "                                          product_link  \n",
              "282  https://www.amazon.in/Amazon-Brand-Charging-Su...  \n",
              "324  https://www.amazon.in/REDTECH-Lightning-Certif...  "
            ],
            "text/html": [
              "\n",
              "  <div id=\"df-114e3198-c6d4-4f09-ba22-7453b16654b6\">\n",
              "    <div class=\"colab-df-container\">\n",
              "      <div>\n",
              "<style scoped>\n",
              "    .dataframe tbody tr th:only-of-type {\n",
              "        vertical-align: middle;\n",
              "    }\n",
              "\n",
              "    .dataframe tbody tr th {\n",
              "        vertical-align: top;\n",
              "    }\n",
              "\n",
              "    .dataframe thead th {\n",
              "        text-align: right;\n",
              "    }\n",
              "</style>\n",
              "<table border=\"1\" class=\"dataframe\">\n",
              "  <thead>\n",
              "    <tr style=\"text-align: right;\">\n",
              "      <th></th>\n",
              "      <th>product_id</th>\n",
              "      <th>product_name</th>\n",
              "      <th>category</th>\n",
              "      <th>discounted_price</th>\n",
              "      <th>actual_price</th>\n",
              "      <th>discount_percentage</th>\n",
              "      <th>rating</th>\n",
              "      <th>rating_count</th>\n",
              "      <th>about_product</th>\n",
              "      <th>user_id</th>\n",
              "      <th>user_name</th>\n",
              "      <th>review_id</th>\n",
              "      <th>review_title</th>\n",
              "      <th>review_content</th>\n",
              "      <th>img_link</th>\n",
              "      <th>product_link</th>\n",
              "    </tr>\n",
              "  </thead>\n",
              "  <tbody>\n",
              "    <tr>\n",
              "      <th>282</th>\n",
              "      <td>B0B94JPY2N</td>\n",
              "      <td>Amazon Brand - Solimo 65W Fast Charging Braide...</td>\n",
              "      <td>Computers&amp;Accessories|Accessories&amp;Peripherals|...</td>\n",
              "      <td>₹199</td>\n",
              "      <td>₹999</td>\n",
              "      <td>80%</td>\n",
              "      <td>3.0</td>\n",
              "      <td>NaN</td>\n",
              "      <td>USB C to C Cable: This cable has type C connec...</td>\n",
              "      <td>AE7CFHY23VAJT2FI4NZKKP6GS2UQ</td>\n",
              "      <td>Pranav</td>\n",
              "      <td>RUB7U91HVZ30</td>\n",
              "      <td>The cable works but is not 65W as advertised</td>\n",
              "      <td>I have a pd supported car charger and I bought...</td>\n",
              "      <td>https://m.media-amazon.com/images/W/WEBP_40237...</td>\n",
              "      <td>https://www.amazon.in/Amazon-Brand-Charging-Su...</td>\n",
              "    </tr>\n",
              "    <tr>\n",
              "      <th>324</th>\n",
              "      <td>B0BQRJ3C47</td>\n",
              "      <td>REDTECH USB-C to Lightning Cable 3.3FT, [Apple...</td>\n",
              "      <td>Computers&amp;Accessories|Accessories&amp;Peripherals|...</td>\n",
              "      <td>₹249</td>\n",
              "      <td>₹999</td>\n",
              "      <td>75%</td>\n",
              "      <td>5.0</td>\n",
              "      <td>NaN</td>\n",
              "      <td>💎[The Fastest Charge] - This iPhone USB C cabl...</td>\n",
              "      <td>AGJC5O5H5BBXWUV7WRIEIOOR3TVQ</td>\n",
              "      <td>Abdul Gafur</td>\n",
              "      <td>RQXD5SAMMPC6L</td>\n",
              "      <td>Awesome Product</td>\n",
              "      <td>Quick delivery.Awesome ProductPacking was good...</td>\n",
              "      <td>https://m.media-amazon.com/images/I/31-q0xhaTA...</td>\n",
              "      <td>https://www.amazon.in/REDTECH-Lightning-Certif...</td>\n",
              "    </tr>\n",
              "  </tbody>\n",
              "</table>\n",
              "</div>\n",
              "      <button class=\"colab-df-convert\" onclick=\"convertToInteractive('df-114e3198-c6d4-4f09-ba22-7453b16654b6')\"\n",
              "              title=\"Convert this dataframe to an interactive table.\"\n",
              "              style=\"display:none;\">\n",
              "        \n",
              "  <svg xmlns=\"http://www.w3.org/2000/svg\" height=\"24px\"viewBox=\"0 0 24 24\"\n",
              "       width=\"24px\">\n",
              "    <path d=\"M0 0h24v24H0V0z\" fill=\"none\"/>\n",
              "    <path d=\"M18.56 5.44l.94 2.06.94-2.06 2.06-.94-2.06-.94-.94-2.06-.94 2.06-2.06.94zm-11 1L8.5 8.5l.94-2.06 2.06-.94-2.06-.94L8.5 2.5l-.94 2.06-2.06.94zm10 10l.94 2.06.94-2.06 2.06-.94-2.06-.94-.94-2.06-.94 2.06-2.06.94z\"/><path d=\"M17.41 7.96l-1.37-1.37c-.4-.4-.92-.59-1.43-.59-.52 0-1.04.2-1.43.59L10.3 9.45l-7.72 7.72c-.78.78-.78 2.05 0 2.83L4 21.41c.39.39.9.59 1.41.59.51 0 1.02-.2 1.41-.59l7.78-7.78 2.81-2.81c.8-.78.8-2.07 0-2.86zM5.41 20L4 18.59l7.72-7.72 1.47 1.35L5.41 20z\"/>\n",
              "  </svg>\n",
              "      </button>\n",
              "      \n",
              "  <style>\n",
              "    .colab-df-container {\n",
              "      display:flex;\n",
              "      flex-wrap:wrap;\n",
              "      gap: 12px;\n",
              "    }\n",
              "\n",
              "    .colab-df-convert {\n",
              "      background-color: #E8F0FE;\n",
              "      border: none;\n",
              "      border-radius: 50%;\n",
              "      cursor: pointer;\n",
              "      display: none;\n",
              "      fill: #1967D2;\n",
              "      height: 32px;\n",
              "      padding: 0 0 0 0;\n",
              "      width: 32px;\n",
              "    }\n",
              "\n",
              "    .colab-df-convert:hover {\n",
              "      background-color: #E2EBFA;\n",
              "      box-shadow: 0px 1px 2px rgba(60, 64, 67, 0.3), 0px 1px 3px 1px rgba(60, 64, 67, 0.15);\n",
              "      fill: #174EA6;\n",
              "    }\n",
              "\n",
              "    [theme=dark] .colab-df-convert {\n",
              "      background-color: #3B4455;\n",
              "      fill: #D2E3FC;\n",
              "    }\n",
              "\n",
              "    [theme=dark] .colab-df-convert:hover {\n",
              "      background-color: #434B5C;\n",
              "      box-shadow: 0px 1px 3px 1px rgba(0, 0, 0, 0.15);\n",
              "      filter: drop-shadow(0px 1px 2px rgba(0, 0, 0, 0.3));\n",
              "      fill: #FFFFFF;\n",
              "    }\n",
              "  </style>\n",
              "\n",
              "      <script>\n",
              "        const buttonEl =\n",
              "          document.querySelector('#df-114e3198-c6d4-4f09-ba22-7453b16654b6 button.colab-df-convert');\n",
              "        buttonEl.style.display =\n",
              "          google.colab.kernel.accessAllowed ? 'block' : 'none';\n",
              "\n",
              "        async function convertToInteractive(key) {\n",
              "          const element = document.querySelector('#df-114e3198-c6d4-4f09-ba22-7453b16654b6');\n",
              "          const dataTable =\n",
              "            await google.colab.kernel.invokeFunction('convertToInteractive',\n",
              "                                                     [key], {});\n",
              "          if (!dataTable) return;\n",
              "\n",
              "          const docLinkHtml = 'Like what you see? Visit the ' +\n",
              "            '<a target=\"_blank\" href=https://colab.research.google.com/notebooks/data_table.ipynb>data table notebook</a>'\n",
              "            + ' to learn more about interactive tables.';\n",
              "          element.innerHTML = '';\n",
              "          dataTable['output_type'] = 'display_data';\n",
              "          await google.colab.output.renderOutput(dataTable, element);\n",
              "          const docLink = document.createElement('div');\n",
              "          docLink.innerHTML = docLinkHtml;\n",
              "          element.appendChild(docLink);\n",
              "        }\n",
              "      </script>\n",
              "    </div>\n",
              "  </div>\n",
              "  "
            ]
          },
          "metadata": {},
          "execution_count": 6
        }
      ]
    },
    {
      "cell_type": "code",
      "source": [
        "df.rating_count.fillna(\"0\", inplace=True)"
      ],
      "metadata": {
        "id": "laJlkegfUZxU"
      },
      "execution_count": 7,
      "outputs": []
    },
    {
      "cell_type": "code",
      "source": [
        "df.isnull().sum()"
      ],
      "metadata": {
        "id": "6ODzIdJCYJxg",
        "colab": {
          "base_uri": "https://localhost:8080/"
        },
        "outputId": "c226ccde-6024-4fc1-8391-dab61eabd0d9"
      },
      "execution_count": 8,
      "outputs": [
        {
          "output_type": "execute_result",
          "data": {
            "text/plain": [
              "product_id             0\n",
              "product_name           0\n",
              "category               0\n",
              "discounted_price       0\n",
              "actual_price           0\n",
              "discount_percentage    0\n",
              "rating                 0\n",
              "rating_count           0\n",
              "about_product          0\n",
              "user_id                0\n",
              "user_name              0\n",
              "review_id              0\n",
              "review_title           0\n",
              "review_content         0\n",
              "img_link               0\n",
              "product_link           0\n",
              "dtype: int64"
            ]
          },
          "metadata": {},
          "execution_count": 8
        }
      ]
    },
    {
      "cell_type": "markdown",
      "source": [
        "Com isso, os valores nulos foram substituídos . Podemos verificar essa substituição através do método loc."
      ],
      "metadata": {
        "id": "JEks6AgjRK6X"
      }
    },
    {
      "cell_type": "code",
      "source": [
        "df.loc[[282, 324]]"
      ],
      "metadata": {
        "id": "xPh816hYaZTM",
        "colab": {
          "base_uri": "https://localhost:8080/",
          "height": 315
        },
        "outputId": "a5227195-cd76-4ce1-fcb1-87e2da54d7e1"
      },
      "execution_count": 9,
      "outputs": [
        {
          "output_type": "execute_result",
          "data": {
            "text/plain": [
              "     product_id                                       product_name  \\\n",
              "282  B0B94JPY2N  Amazon Brand - Solimo 65W Fast Charging Braide...   \n",
              "324  B0BQRJ3C47  REDTECH USB-C to Lightning Cable 3.3FT, [Apple...   \n",
              "\n",
              "                                              category discounted_price  \\\n",
              "282  Computers&Accessories|Accessories&Peripherals|...             ₹199   \n",
              "324  Computers&Accessories|Accessories&Peripherals|...             ₹249   \n",
              "\n",
              "    actual_price discount_percentage rating rating_count  \\\n",
              "282         ₹999                 80%    3.0            0   \n",
              "324         ₹999                 75%    5.0            0   \n",
              "\n",
              "                                         about_product  \\\n",
              "282  USB C to C Cable: This cable has type C connec...   \n",
              "324  💎[The Fastest Charge] - This iPhone USB C cabl...   \n",
              "\n",
              "                          user_id    user_name      review_id  \\\n",
              "282  AE7CFHY23VAJT2FI4NZKKP6GS2UQ       Pranav   RUB7U91HVZ30   \n",
              "324  AGJC5O5H5BBXWUV7WRIEIOOR3TVQ  Abdul Gafur  RQXD5SAMMPC6L   \n",
              "\n",
              "                                     review_title  \\\n",
              "282  The cable works but is not 65W as advertised   \n",
              "324                               Awesome Product   \n",
              "\n",
              "                                        review_content  \\\n",
              "282  I have a pd supported car charger and I bought...   \n",
              "324  Quick delivery.Awesome ProductPacking was good...   \n",
              "\n",
              "                                              img_link  \\\n",
              "282  https://m.media-amazon.com/images/W/WEBP_40237...   \n",
              "324  https://m.media-amazon.com/images/I/31-q0xhaTA...   \n",
              "\n",
              "                                          product_link  \n",
              "282  https://www.amazon.in/Amazon-Brand-Charging-Su...  \n",
              "324  https://www.amazon.in/REDTECH-Lightning-Certif...  "
            ],
            "text/html": [
              "\n",
              "  <div id=\"df-6b56641e-6511-4b72-ac80-4aa2beefd468\">\n",
              "    <div class=\"colab-df-container\">\n",
              "      <div>\n",
              "<style scoped>\n",
              "    .dataframe tbody tr th:only-of-type {\n",
              "        vertical-align: middle;\n",
              "    }\n",
              "\n",
              "    .dataframe tbody tr th {\n",
              "        vertical-align: top;\n",
              "    }\n",
              "\n",
              "    .dataframe thead th {\n",
              "        text-align: right;\n",
              "    }\n",
              "</style>\n",
              "<table border=\"1\" class=\"dataframe\">\n",
              "  <thead>\n",
              "    <tr style=\"text-align: right;\">\n",
              "      <th></th>\n",
              "      <th>product_id</th>\n",
              "      <th>product_name</th>\n",
              "      <th>category</th>\n",
              "      <th>discounted_price</th>\n",
              "      <th>actual_price</th>\n",
              "      <th>discount_percentage</th>\n",
              "      <th>rating</th>\n",
              "      <th>rating_count</th>\n",
              "      <th>about_product</th>\n",
              "      <th>user_id</th>\n",
              "      <th>user_name</th>\n",
              "      <th>review_id</th>\n",
              "      <th>review_title</th>\n",
              "      <th>review_content</th>\n",
              "      <th>img_link</th>\n",
              "      <th>product_link</th>\n",
              "    </tr>\n",
              "  </thead>\n",
              "  <tbody>\n",
              "    <tr>\n",
              "      <th>282</th>\n",
              "      <td>B0B94JPY2N</td>\n",
              "      <td>Amazon Brand - Solimo 65W Fast Charging Braide...</td>\n",
              "      <td>Computers&amp;Accessories|Accessories&amp;Peripherals|...</td>\n",
              "      <td>₹199</td>\n",
              "      <td>₹999</td>\n",
              "      <td>80%</td>\n",
              "      <td>3.0</td>\n",
              "      <td>0</td>\n",
              "      <td>USB C to C Cable: This cable has type C connec...</td>\n",
              "      <td>AE7CFHY23VAJT2FI4NZKKP6GS2UQ</td>\n",
              "      <td>Pranav</td>\n",
              "      <td>RUB7U91HVZ30</td>\n",
              "      <td>The cable works but is not 65W as advertised</td>\n",
              "      <td>I have a pd supported car charger and I bought...</td>\n",
              "      <td>https://m.media-amazon.com/images/W/WEBP_40237...</td>\n",
              "      <td>https://www.amazon.in/Amazon-Brand-Charging-Su...</td>\n",
              "    </tr>\n",
              "    <tr>\n",
              "      <th>324</th>\n",
              "      <td>B0BQRJ3C47</td>\n",
              "      <td>REDTECH USB-C to Lightning Cable 3.3FT, [Apple...</td>\n",
              "      <td>Computers&amp;Accessories|Accessories&amp;Peripherals|...</td>\n",
              "      <td>₹249</td>\n",
              "      <td>₹999</td>\n",
              "      <td>75%</td>\n",
              "      <td>5.0</td>\n",
              "      <td>0</td>\n",
              "      <td>💎[The Fastest Charge] - This iPhone USB C cabl...</td>\n",
              "      <td>AGJC5O5H5BBXWUV7WRIEIOOR3TVQ</td>\n",
              "      <td>Abdul Gafur</td>\n",
              "      <td>RQXD5SAMMPC6L</td>\n",
              "      <td>Awesome Product</td>\n",
              "      <td>Quick delivery.Awesome ProductPacking was good...</td>\n",
              "      <td>https://m.media-amazon.com/images/I/31-q0xhaTA...</td>\n",
              "      <td>https://www.amazon.in/REDTECH-Lightning-Certif...</td>\n",
              "    </tr>\n",
              "  </tbody>\n",
              "</table>\n",
              "</div>\n",
              "      <button class=\"colab-df-convert\" onclick=\"convertToInteractive('df-6b56641e-6511-4b72-ac80-4aa2beefd468')\"\n",
              "              title=\"Convert this dataframe to an interactive table.\"\n",
              "              style=\"display:none;\">\n",
              "        \n",
              "  <svg xmlns=\"http://www.w3.org/2000/svg\" height=\"24px\"viewBox=\"0 0 24 24\"\n",
              "       width=\"24px\">\n",
              "    <path d=\"M0 0h24v24H0V0z\" fill=\"none\"/>\n",
              "    <path d=\"M18.56 5.44l.94 2.06.94-2.06 2.06-.94-2.06-.94-.94-2.06-.94 2.06-2.06.94zm-11 1L8.5 8.5l.94-2.06 2.06-.94-2.06-.94L8.5 2.5l-.94 2.06-2.06.94zm10 10l.94 2.06.94-2.06 2.06-.94-2.06-.94-.94-2.06-.94 2.06-2.06.94z\"/><path d=\"M17.41 7.96l-1.37-1.37c-.4-.4-.92-.59-1.43-.59-.52 0-1.04.2-1.43.59L10.3 9.45l-7.72 7.72c-.78.78-.78 2.05 0 2.83L4 21.41c.39.39.9.59 1.41.59.51 0 1.02-.2 1.41-.59l7.78-7.78 2.81-2.81c.8-.78.8-2.07 0-2.86zM5.41 20L4 18.59l7.72-7.72 1.47 1.35L5.41 20z\"/>\n",
              "  </svg>\n",
              "      </button>\n",
              "      \n",
              "  <style>\n",
              "    .colab-df-container {\n",
              "      display:flex;\n",
              "      flex-wrap:wrap;\n",
              "      gap: 12px;\n",
              "    }\n",
              "\n",
              "    .colab-df-convert {\n",
              "      background-color: #E8F0FE;\n",
              "      border: none;\n",
              "      border-radius: 50%;\n",
              "      cursor: pointer;\n",
              "      display: none;\n",
              "      fill: #1967D2;\n",
              "      height: 32px;\n",
              "      padding: 0 0 0 0;\n",
              "      width: 32px;\n",
              "    }\n",
              "\n",
              "    .colab-df-convert:hover {\n",
              "      background-color: #E2EBFA;\n",
              "      box-shadow: 0px 1px 2px rgba(60, 64, 67, 0.3), 0px 1px 3px 1px rgba(60, 64, 67, 0.15);\n",
              "      fill: #174EA6;\n",
              "    }\n",
              "\n",
              "    [theme=dark] .colab-df-convert {\n",
              "      background-color: #3B4455;\n",
              "      fill: #D2E3FC;\n",
              "    }\n",
              "\n",
              "    [theme=dark] .colab-df-convert:hover {\n",
              "      background-color: #434B5C;\n",
              "      box-shadow: 0px 1px 3px 1px rgba(0, 0, 0, 0.15);\n",
              "      filter: drop-shadow(0px 1px 2px rgba(0, 0, 0, 0.3));\n",
              "      fill: #FFFFFF;\n",
              "    }\n",
              "  </style>\n",
              "\n",
              "      <script>\n",
              "        const buttonEl =\n",
              "          document.querySelector('#df-6b56641e-6511-4b72-ac80-4aa2beefd468 button.colab-df-convert');\n",
              "        buttonEl.style.display =\n",
              "          google.colab.kernel.accessAllowed ? 'block' : 'none';\n",
              "\n",
              "        async function convertToInteractive(key) {\n",
              "          const element = document.querySelector('#df-6b56641e-6511-4b72-ac80-4aa2beefd468');\n",
              "          const dataTable =\n",
              "            await google.colab.kernel.invokeFunction('convertToInteractive',\n",
              "                                                     [key], {});\n",
              "          if (!dataTable) return;\n",
              "\n",
              "          const docLinkHtml = 'Like what you see? Visit the ' +\n",
              "            '<a target=\"_blank\" href=https://colab.research.google.com/notebooks/data_table.ipynb>data table notebook</a>'\n",
              "            + ' to learn more about interactive tables.';\n",
              "          element.innerHTML = '';\n",
              "          dataTable['output_type'] = 'display_data';\n",
              "          await google.colab.output.renderOutput(dataTable, element);\n",
              "          const docLink = document.createElement('div');\n",
              "          docLink.innerHTML = docLinkHtml;\n",
              "          element.appendChild(docLink);\n",
              "        }\n",
              "      </script>\n",
              "    </div>\n",
              "  </div>\n",
              "  "
            ]
          },
          "metadata": {},
          "execution_count": 9
        }
      ]
    },
    {
      "cell_type": "markdown",
      "source": [
        "### Renomeando variáveis\n",
        "Todas as variáveis serão renomeadas e postas em caixa-alta, para diferenciação dos registros e melhor entendimento do dataframe."
      ],
      "metadata": {
        "id": "12kWJKQlgMDT"
      }
    },
    {
      "cell_type": "code",
      "source": [
        "novas_cols = [\"ID_PRODUTO\", \"NOME_PRODUTO\", \"CATEGORIA\", \"DESCONTO\",\n",
        "              \"PRECO_REAL\", \"PORCENTAGEM_DESCONTO\", \"AVALIACAO\",\n",
        "              \"TOTAL_AVALIACOES\", \"INFORMACOES\", \"ID_USUARIO\", \"USUARIO\",\n",
        "              \"ID_REVISAO\", \"TITULO_REVISAO\", \"REVISAO\", \"URL_IMAGEM\",\n",
        "              \"URL_PRODUTO\"]"
      ],
      "metadata": {
        "id": "57e6xH0QsyBy"
      },
      "execution_count": 10,
      "outputs": []
    },
    {
      "cell_type": "code",
      "source": [
        "ajuste_var = {df.columns[i]:novas_cols[i] for i in range(len(df.columns))}\n",
        "ajuste_var"
      ],
      "metadata": {
        "id": "HK-VwZJltrBt",
        "colab": {
          "base_uri": "https://localhost:8080/"
        },
        "outputId": "abaa2c43-8f5b-42e0-c2f4-8cff3fa388d0"
      },
      "execution_count": 11,
      "outputs": [
        {
          "output_type": "execute_result",
          "data": {
            "text/plain": [
              "{'product_id': 'ID_PRODUTO',\n",
              " 'product_name': 'NOME_PRODUTO',\n",
              " 'category': 'CATEGORIA',\n",
              " 'discounted_price': 'DESCONTO',\n",
              " 'actual_price': 'PRECO_REAL',\n",
              " 'discount_percentage': 'PORCENTAGEM_DESCONTO',\n",
              " 'rating': 'AVALIACAO',\n",
              " 'rating_count': 'TOTAL_AVALIACOES',\n",
              " 'about_product': 'INFORMACOES',\n",
              " 'user_id': 'ID_USUARIO',\n",
              " 'user_name': 'USUARIO',\n",
              " 'review_id': 'ID_REVISAO',\n",
              " 'review_title': 'TITULO_REVISAO',\n",
              " 'review_content': 'REVISAO',\n",
              " 'img_link': 'URL_IMAGEM',\n",
              " 'product_link': 'URL_PRODUTO'}"
            ]
          },
          "metadata": {},
          "execution_count": 11
        }
      ]
    },
    {
      "cell_type": "code",
      "source": [
        "df.rename(columns=ajuste_var, inplace=True)"
      ],
      "metadata": {
        "id": "WaAzzH0WuK7T"
      },
      "execution_count": 12,
      "outputs": []
    },
    {
      "cell_type": "code",
      "source": [
        "df.columns"
      ],
      "metadata": {
        "id": "PFEKNq2fun4c",
        "colab": {
          "base_uri": "https://localhost:8080/"
        },
        "outputId": "c1d7e833-6bd6-4f4a-eadc-515974d92503"
      },
      "execution_count": 13,
      "outputs": [
        {
          "output_type": "execute_result",
          "data": {
            "text/plain": [
              "Index(['ID_PRODUTO', 'NOME_PRODUTO', 'CATEGORIA', 'DESCONTO', 'PRECO_REAL',\n",
              "       'PORCENTAGEM_DESCONTO', 'AVALIACAO', 'TOTAL_AVALIACOES', 'INFORMACOES',\n",
              "       'ID_USUARIO', 'USUARIO', 'ID_REVISAO', 'TITULO_REVISAO', 'REVISAO',\n",
              "       'URL_IMAGEM', 'URL_PRODUTO'],\n",
              "      dtype='object')"
            ]
          },
          "metadata": {},
          "execution_count": 13
        }
      ]
    },
    {
      "cell_type": "markdown",
      "source": [
        "## Transformação de Dados"
      ],
      "metadata": {
        "id": "AvUk_LJM6rvw"
      }
    },
    {
      "cell_type": "markdown",
      "source": [
        "### Remoção de caracteres"
      ],
      "metadata": {
        "id": "OzMLcjZrJVNg"
      }
    },
    {
      "cell_type": "code",
      "source": [
        "df.head()"
      ],
      "metadata": {
        "id": "Q0v4z62NdIm3",
        "colab": {
          "base_uri": "https://localhost:8080/",
          "height": 600
        },
        "outputId": "07246452-560f-463f-8fb4-a340e0061244"
      },
      "execution_count": 14,
      "outputs": [
        {
          "output_type": "execute_result",
          "data": {
            "text/plain": [
              "   ID_PRODUTO                                       NOME_PRODUTO  \\\n",
              "0  B07JW9H4J1  Wayona Nylon Braided USB to Lightning Fast Cha...   \n",
              "1  B098NS6PVG  Ambrane Unbreakable 60W / 3A Fast Charging 1.5...   \n",
              "2  B096MSW6CT  Sounce Fast Phone Charging Cable & Data Sync U...   \n",
              "3  B08HDJ86NZ  boAt Deuce USB 300 2 in 1 Type-C & Micro USB S...   \n",
              "4  B08CF3B7N1  Portronics Konnect L 1.2M Fast Charging 3A 8 P...   \n",
              "\n",
              "                                           CATEGORIA DESCONTO PRECO_REAL  \\\n",
              "0  Computers&Accessories|Accessories&Peripherals|...     ₹399     ₹1,099   \n",
              "1  Computers&Accessories|Accessories&Peripherals|...     ₹199       ₹349   \n",
              "2  Computers&Accessories|Accessories&Peripherals|...     ₹199     ₹1,899   \n",
              "3  Computers&Accessories|Accessories&Peripherals|...     ₹329       ₹699   \n",
              "4  Computers&Accessories|Accessories&Peripherals|...     ₹154       ₹399   \n",
              "\n",
              "  PORCENTAGEM_DESCONTO AVALIACAO TOTAL_AVALIACOES  \\\n",
              "0                  64%       4.2           24,269   \n",
              "1                  43%       4.0           43,994   \n",
              "2                  90%       3.9            7,928   \n",
              "3                  53%       4.2           94,363   \n",
              "4                  61%       4.2           16,905   \n",
              "\n",
              "                                         INFORMACOES  \\\n",
              "0  High Compatibility : Compatible With iPhone 12...   \n",
              "1  Compatible with all Type C enabled devices, be...   \n",
              "2  【 Fast Charger& Data Sync】-With built-in safet...   \n",
              "3  The boAt Deuce USB 300 2 in 1 cable is compati...   \n",
              "4  [CHARGE & SYNC FUNCTION]- This cable comes wit...   \n",
              "\n",
              "                                          ID_USUARIO  \\\n",
              "0  AG3D6O4STAQKAY2UVGEUV46KN35Q,AHMY5CWJMMK5BJRBB...   \n",
              "1  AECPFYFQVRUWC3KGNLJIOREFP5LQ,AGYYVPDD7YG7FYNBX...   \n",
              "2  AGU3BBQ2V2DDAMOAKGFAWDDQ6QHA,AESFLDV2PT363T2AQ...   \n",
              "3  AEWAZDZZJLQUYVOVGBEUKSLXHQ5A,AG5HTSFRRE6NL3M5S...   \n",
              "4  AE3Q6KSUK5P75D5HFYHCRAOLODSA,AFUGIFH5ZAFXRDSZH...   \n",
              "\n",
              "                                             USUARIO  \\\n",
              "0  Manav,Adarsh gupta,Sundeep,S.Sayeed Ahmed,jasp...   \n",
              "1  ArdKn,Nirbhay kumar,Sagar Viswanathan,Asp,Plac...   \n",
              "2  Kunal,Himanshu,viswanath,sai niharka,saqib mal...   \n",
              "3  Omkar dhale,JD,HEMALATHA,Ajwadh a.,amar singh ...   \n",
              "4  rahuls6099,Swasat Borah,Ajay Wadke,Pranali,RVK...   \n",
              "\n",
              "                                          ID_REVISAO  \\\n",
              "0  R3HXWT0LRP0NMF,R2AJM3LFTLZHFO,R6AQJGUP6P86,R1K...   \n",
              "1  RGIQEG07R9HS2,R1SMWZQ86XIN8U,R2J3Y1WL29GWDE,RY...   \n",
              "2  R3J3EQQ9TZI5ZJ,R3E7WBGK7ID0KV,RWU79XKQ6I1QF,R2...   \n",
              "3  R3EEUZKKK9J36I,R3HJVYCLYOY554,REDECAZ7AMPQC,R1...   \n",
              "4  R1BP4L2HH9TFUP,R16PVJEXKV6QZS,R2UPDB81N66T4P,R...   \n",
              "\n",
              "                                      TITULO_REVISAO  \\\n",
              "0  Satisfied,Charging is really fast,Value for mo...   \n",
              "1  A Good Braided Cable for Your Type C Device,Go...   \n",
              "2  Good speed for earlier versions,Good Product,W...   \n",
              "3  Good product,Good one,Nice,Really nice product...   \n",
              "4  As good as original,Decent,Good one for second...   \n",
              "\n",
              "                                             REVISAO  \\\n",
              "0  Looks durable Charging is fine tooNo complains...   \n",
              "1  I ordered this cable to connect my phone to An...   \n",
              "2  Not quite durable and sturdy,https://m.media-a...   \n",
              "3  Good product,long wire,Charges good,Nice,I bou...   \n",
              "4  Bought this instead of original apple, does th...   \n",
              "\n",
              "                                          URL_IMAGEM  \\\n",
              "0  https://m.media-amazon.com/images/W/WEBP_40237...   \n",
              "1  https://m.media-amazon.com/images/W/WEBP_40237...   \n",
              "2  https://m.media-amazon.com/images/W/WEBP_40237...   \n",
              "3  https://m.media-amazon.com/images/I/41V5FtEWPk...   \n",
              "4  https://m.media-amazon.com/images/W/WEBP_40237...   \n",
              "\n",
              "                                         URL_PRODUTO  \n",
              "0  https://www.amazon.in/Wayona-Braided-WN3LG1-Sy...  \n",
              "1  https://www.amazon.in/Ambrane-Unbreakable-Char...  \n",
              "2  https://www.amazon.in/Sounce-iPhone-Charging-C...  \n",
              "3  https://www.amazon.in/Deuce-300-Resistant-Tang...  \n",
              "4  https://www.amazon.in/Portronics-Konnect-POR-1...  "
            ],
            "text/html": [
              "\n",
              "  <div id=\"df-1c82e4b1-9201-4daf-ac28-fa045cee3f46\">\n",
              "    <div class=\"colab-df-container\">\n",
              "      <div>\n",
              "<style scoped>\n",
              "    .dataframe tbody tr th:only-of-type {\n",
              "        vertical-align: middle;\n",
              "    }\n",
              "\n",
              "    .dataframe tbody tr th {\n",
              "        vertical-align: top;\n",
              "    }\n",
              "\n",
              "    .dataframe thead th {\n",
              "        text-align: right;\n",
              "    }\n",
              "</style>\n",
              "<table border=\"1\" class=\"dataframe\">\n",
              "  <thead>\n",
              "    <tr style=\"text-align: right;\">\n",
              "      <th></th>\n",
              "      <th>ID_PRODUTO</th>\n",
              "      <th>NOME_PRODUTO</th>\n",
              "      <th>CATEGORIA</th>\n",
              "      <th>DESCONTO</th>\n",
              "      <th>PRECO_REAL</th>\n",
              "      <th>PORCENTAGEM_DESCONTO</th>\n",
              "      <th>AVALIACAO</th>\n",
              "      <th>TOTAL_AVALIACOES</th>\n",
              "      <th>INFORMACOES</th>\n",
              "      <th>ID_USUARIO</th>\n",
              "      <th>USUARIO</th>\n",
              "      <th>ID_REVISAO</th>\n",
              "      <th>TITULO_REVISAO</th>\n",
              "      <th>REVISAO</th>\n",
              "      <th>URL_IMAGEM</th>\n",
              "      <th>URL_PRODUTO</th>\n",
              "    </tr>\n",
              "  </thead>\n",
              "  <tbody>\n",
              "    <tr>\n",
              "      <th>0</th>\n",
              "      <td>B07JW9H4J1</td>\n",
              "      <td>Wayona Nylon Braided USB to Lightning Fast Cha...</td>\n",
              "      <td>Computers&amp;Accessories|Accessories&amp;Peripherals|...</td>\n",
              "      <td>₹399</td>\n",
              "      <td>₹1,099</td>\n",
              "      <td>64%</td>\n",
              "      <td>4.2</td>\n",
              "      <td>24,269</td>\n",
              "      <td>High Compatibility : Compatible With iPhone 12...</td>\n",
              "      <td>AG3D6O4STAQKAY2UVGEUV46KN35Q,AHMY5CWJMMK5BJRBB...</td>\n",
              "      <td>Manav,Adarsh gupta,Sundeep,S.Sayeed Ahmed,jasp...</td>\n",
              "      <td>R3HXWT0LRP0NMF,R2AJM3LFTLZHFO,R6AQJGUP6P86,R1K...</td>\n",
              "      <td>Satisfied,Charging is really fast,Value for mo...</td>\n",
              "      <td>Looks durable Charging is fine tooNo complains...</td>\n",
              "      <td>https://m.media-amazon.com/images/W/WEBP_40237...</td>\n",
              "      <td>https://www.amazon.in/Wayona-Braided-WN3LG1-Sy...</td>\n",
              "    </tr>\n",
              "    <tr>\n",
              "      <th>1</th>\n",
              "      <td>B098NS6PVG</td>\n",
              "      <td>Ambrane Unbreakable 60W / 3A Fast Charging 1.5...</td>\n",
              "      <td>Computers&amp;Accessories|Accessories&amp;Peripherals|...</td>\n",
              "      <td>₹199</td>\n",
              "      <td>₹349</td>\n",
              "      <td>43%</td>\n",
              "      <td>4.0</td>\n",
              "      <td>43,994</td>\n",
              "      <td>Compatible with all Type C enabled devices, be...</td>\n",
              "      <td>AECPFYFQVRUWC3KGNLJIOREFP5LQ,AGYYVPDD7YG7FYNBX...</td>\n",
              "      <td>ArdKn,Nirbhay kumar,Sagar Viswanathan,Asp,Plac...</td>\n",
              "      <td>RGIQEG07R9HS2,R1SMWZQ86XIN8U,R2J3Y1WL29GWDE,RY...</td>\n",
              "      <td>A Good Braided Cable for Your Type C Device,Go...</td>\n",
              "      <td>I ordered this cable to connect my phone to An...</td>\n",
              "      <td>https://m.media-amazon.com/images/W/WEBP_40237...</td>\n",
              "      <td>https://www.amazon.in/Ambrane-Unbreakable-Char...</td>\n",
              "    </tr>\n",
              "    <tr>\n",
              "      <th>2</th>\n",
              "      <td>B096MSW6CT</td>\n",
              "      <td>Sounce Fast Phone Charging Cable &amp; Data Sync U...</td>\n",
              "      <td>Computers&amp;Accessories|Accessories&amp;Peripherals|...</td>\n",
              "      <td>₹199</td>\n",
              "      <td>₹1,899</td>\n",
              "      <td>90%</td>\n",
              "      <td>3.9</td>\n",
              "      <td>7,928</td>\n",
              "      <td>【 Fast Charger&amp; Data Sync】-With built-in safet...</td>\n",
              "      <td>AGU3BBQ2V2DDAMOAKGFAWDDQ6QHA,AESFLDV2PT363T2AQ...</td>\n",
              "      <td>Kunal,Himanshu,viswanath,sai niharka,saqib mal...</td>\n",
              "      <td>R3J3EQQ9TZI5ZJ,R3E7WBGK7ID0KV,RWU79XKQ6I1QF,R2...</td>\n",
              "      <td>Good speed for earlier versions,Good Product,W...</td>\n",
              "      <td>Not quite durable and sturdy,https://m.media-a...</td>\n",
              "      <td>https://m.media-amazon.com/images/W/WEBP_40237...</td>\n",
              "      <td>https://www.amazon.in/Sounce-iPhone-Charging-C...</td>\n",
              "    </tr>\n",
              "    <tr>\n",
              "      <th>3</th>\n",
              "      <td>B08HDJ86NZ</td>\n",
              "      <td>boAt Deuce USB 300 2 in 1 Type-C &amp; Micro USB S...</td>\n",
              "      <td>Computers&amp;Accessories|Accessories&amp;Peripherals|...</td>\n",
              "      <td>₹329</td>\n",
              "      <td>₹699</td>\n",
              "      <td>53%</td>\n",
              "      <td>4.2</td>\n",
              "      <td>94,363</td>\n",
              "      <td>The boAt Deuce USB 300 2 in 1 cable is compati...</td>\n",
              "      <td>AEWAZDZZJLQUYVOVGBEUKSLXHQ5A,AG5HTSFRRE6NL3M5S...</td>\n",
              "      <td>Omkar dhale,JD,HEMALATHA,Ajwadh a.,amar singh ...</td>\n",
              "      <td>R3EEUZKKK9J36I,R3HJVYCLYOY554,REDECAZ7AMPQC,R1...</td>\n",
              "      <td>Good product,Good one,Nice,Really nice product...</td>\n",
              "      <td>Good product,long wire,Charges good,Nice,I bou...</td>\n",
              "      <td>https://m.media-amazon.com/images/I/41V5FtEWPk...</td>\n",
              "      <td>https://www.amazon.in/Deuce-300-Resistant-Tang...</td>\n",
              "    </tr>\n",
              "    <tr>\n",
              "      <th>4</th>\n",
              "      <td>B08CF3B7N1</td>\n",
              "      <td>Portronics Konnect L 1.2M Fast Charging 3A 8 P...</td>\n",
              "      <td>Computers&amp;Accessories|Accessories&amp;Peripherals|...</td>\n",
              "      <td>₹154</td>\n",
              "      <td>₹399</td>\n",
              "      <td>61%</td>\n",
              "      <td>4.2</td>\n",
              "      <td>16,905</td>\n",
              "      <td>[CHARGE &amp; SYNC FUNCTION]- This cable comes wit...</td>\n",
              "      <td>AE3Q6KSUK5P75D5HFYHCRAOLODSA,AFUGIFH5ZAFXRDSZH...</td>\n",
              "      <td>rahuls6099,Swasat Borah,Ajay Wadke,Pranali,RVK...</td>\n",
              "      <td>R1BP4L2HH9TFUP,R16PVJEXKV6QZS,R2UPDB81N66T4P,R...</td>\n",
              "      <td>As good as original,Decent,Good one for second...</td>\n",
              "      <td>Bought this instead of original apple, does th...</td>\n",
              "      <td>https://m.media-amazon.com/images/W/WEBP_40237...</td>\n",
              "      <td>https://www.amazon.in/Portronics-Konnect-POR-1...</td>\n",
              "    </tr>\n",
              "  </tbody>\n",
              "</table>\n",
              "</div>\n",
              "      <button class=\"colab-df-convert\" onclick=\"convertToInteractive('df-1c82e4b1-9201-4daf-ac28-fa045cee3f46')\"\n",
              "              title=\"Convert this dataframe to an interactive table.\"\n",
              "              style=\"display:none;\">\n",
              "        \n",
              "  <svg xmlns=\"http://www.w3.org/2000/svg\" height=\"24px\"viewBox=\"0 0 24 24\"\n",
              "       width=\"24px\">\n",
              "    <path d=\"M0 0h24v24H0V0z\" fill=\"none\"/>\n",
              "    <path d=\"M18.56 5.44l.94 2.06.94-2.06 2.06-.94-2.06-.94-.94-2.06-.94 2.06-2.06.94zm-11 1L8.5 8.5l.94-2.06 2.06-.94-2.06-.94L8.5 2.5l-.94 2.06-2.06.94zm10 10l.94 2.06.94-2.06 2.06-.94-2.06-.94-.94-2.06-.94 2.06-2.06.94z\"/><path d=\"M17.41 7.96l-1.37-1.37c-.4-.4-.92-.59-1.43-.59-.52 0-1.04.2-1.43.59L10.3 9.45l-7.72 7.72c-.78.78-.78 2.05 0 2.83L4 21.41c.39.39.9.59 1.41.59.51 0 1.02-.2 1.41-.59l7.78-7.78 2.81-2.81c.8-.78.8-2.07 0-2.86zM5.41 20L4 18.59l7.72-7.72 1.47 1.35L5.41 20z\"/>\n",
              "  </svg>\n",
              "      </button>\n",
              "      \n",
              "  <style>\n",
              "    .colab-df-container {\n",
              "      display:flex;\n",
              "      flex-wrap:wrap;\n",
              "      gap: 12px;\n",
              "    }\n",
              "\n",
              "    .colab-df-convert {\n",
              "      background-color: #E8F0FE;\n",
              "      border: none;\n",
              "      border-radius: 50%;\n",
              "      cursor: pointer;\n",
              "      display: none;\n",
              "      fill: #1967D2;\n",
              "      height: 32px;\n",
              "      padding: 0 0 0 0;\n",
              "      width: 32px;\n",
              "    }\n",
              "\n",
              "    .colab-df-convert:hover {\n",
              "      background-color: #E2EBFA;\n",
              "      box-shadow: 0px 1px 2px rgba(60, 64, 67, 0.3), 0px 1px 3px 1px rgba(60, 64, 67, 0.15);\n",
              "      fill: #174EA6;\n",
              "    }\n",
              "\n",
              "    [theme=dark] .colab-df-convert {\n",
              "      background-color: #3B4455;\n",
              "      fill: #D2E3FC;\n",
              "    }\n",
              "\n",
              "    [theme=dark] .colab-df-convert:hover {\n",
              "      background-color: #434B5C;\n",
              "      box-shadow: 0px 1px 3px 1px rgba(0, 0, 0, 0.15);\n",
              "      filter: drop-shadow(0px 1px 2px rgba(0, 0, 0, 0.3));\n",
              "      fill: #FFFFFF;\n",
              "    }\n",
              "  </style>\n",
              "\n",
              "      <script>\n",
              "        const buttonEl =\n",
              "          document.querySelector('#df-1c82e4b1-9201-4daf-ac28-fa045cee3f46 button.colab-df-convert');\n",
              "        buttonEl.style.display =\n",
              "          google.colab.kernel.accessAllowed ? 'block' : 'none';\n",
              "\n",
              "        async function convertToInteractive(key) {\n",
              "          const element = document.querySelector('#df-1c82e4b1-9201-4daf-ac28-fa045cee3f46');\n",
              "          const dataTable =\n",
              "            await google.colab.kernel.invokeFunction('convertToInteractive',\n",
              "                                                     [key], {});\n",
              "          if (!dataTable) return;\n",
              "\n",
              "          const docLinkHtml = 'Like what you see? Visit the ' +\n",
              "            '<a target=\"_blank\" href=https://colab.research.google.com/notebooks/data_table.ipynb>data table notebook</a>'\n",
              "            + ' to learn more about interactive tables.';\n",
              "          element.innerHTML = '';\n",
              "          dataTable['output_type'] = 'display_data';\n",
              "          await google.colab.output.renderOutput(dataTable, element);\n",
              "          const docLink = document.createElement('div');\n",
              "          docLink.innerHTML = docLinkHtml;\n",
              "          element.appendChild(docLink);\n",
              "        }\n",
              "      </script>\n",
              "    </div>\n",
              "  </div>\n",
              "  "
            ]
          },
          "metadata": {},
          "execution_count": 14
        }
      ]
    },
    {
      "cell_type": "markdown",
      "source": [
        "Ao olharmos para o conjunto de dados, percebemos alguns caracteres especiais. Sendo assim, faz-se necessário remover estes símbolos, presentes nas variáveis `DESCONTO`, `PRECO_REAL`, `PORCENTAGEM_DESCONTO` e `TOTAL_AVALIACOES`, para que seja possível efetuar operações matemáticas com as mesmas."
      ],
      "metadata": {
        "id": "0qFrS5k9qzs1"
      }
    },
    {
      "cell_type": "code",
      "source": [
        "def remove_char(i, *args): # função que remove determinado caracter\n",
        "    for arg in args:\n",
        "        i = i.replace(arg, '')\n",
        "    \n",
        "    return i"
      ],
      "metadata": {
        "id": "f3jpb52XrbTw"
      },
      "execution_count": 15,
      "outputs": []
    },
    {
      "cell_type": "code",
      "source": [
        "df[\"DESCONTO\"] = df.DESCONTO.apply(remove_char, args=('₹', ','))"
      ],
      "metadata": {
        "id": "VWwWPhI-LxbR"
      },
      "execution_count": 16,
      "outputs": []
    },
    {
      "cell_type": "code",
      "source": [
        "df[\"PRECO_REAL\"] = df.PRECO_REAL.apply(remove_char, args=('₹', ','))"
      ],
      "metadata": {
        "id": "-EnGybJvMX86"
      },
      "execution_count": 17,
      "outputs": []
    },
    {
      "cell_type": "code",
      "source": [
        "df[\"PORCENTAGEM_DESCONTO\"] = df.PORCENTAGEM_DESCONTO.apply(remove_char, args=('%'))"
      ],
      "metadata": {
        "id": "YJEXOwR6vKA1"
      },
      "execution_count": 18,
      "outputs": []
    },
    {
      "cell_type": "code",
      "source": [
        "df[\"TOTAL_AVALIACOES\"] = df.TOTAL_AVALIACOES.apply(remove_char, args=(','))"
      ],
      "metadata": {
        "id": "FH6zMSm_wPnM"
      },
      "execution_count": 19,
      "outputs": []
    },
    {
      "cell_type": "markdown",
      "source": [
        "### Modificando dados\n",
        "Os valores da variável `PORCENTAGEM_DESCONTO` serão passados para a forma decimal, a fim de representar porcentagem na forma decimal."
      ],
      "metadata": {
        "id": "nNJPVNo4J_Yy"
      }
    },
    {
      "cell_type": "code",
      "source": [
        "df[\"PORCENTAGEM_DESCONTO\"] = df.PORCENTAGEM_DESCONTO.apply(lambda i: int(i)/100)"
      ],
      "metadata": {
        "id": "ehwbe8dRxs3i"
      },
      "execution_count": 20,
      "outputs": []
    },
    {
      "cell_type": "markdown",
      "source": [
        "Será necessário remover a especificidade dos itens da variável `CATEGORIA`, fazendo uma generalização, para melhor entendimento e para futuras operações descritivas."
      ],
      "metadata": {
        "id": "HzcbiAfirtp0"
      }
    },
    {
      "cell_type": "code",
      "source": [
        "df[\"CATEGORIA\"] = df.CATEGORIA.apply(lambda x: x.split('|')[0])"
      ],
      "metadata": {
        "id": "3ldv3pxoqv9Q"
      },
      "execution_count": 21,
      "outputs": []
    },
    {
      "cell_type": "markdown",
      "source": [
        "O tipo de algumas variáveis será modificado, para que possam ser realizadas operações matemáticas com as mesmas."
      ],
      "metadata": {
        "id": "kEZK2D-RI4-5"
      }
    },
    {
      "cell_type": "code",
      "source": [
        "df.dtypes"
      ],
      "metadata": {
        "id": "C0NupI1wc8ci",
        "colab": {
          "base_uri": "https://localhost:8080/"
        },
        "outputId": "03ac37a1-2a00-4691-8815-cc3f88ec935d"
      },
      "execution_count": 22,
      "outputs": [
        {
          "output_type": "execute_result",
          "data": {
            "text/plain": [
              "ID_PRODUTO               object\n",
              "NOME_PRODUTO             object\n",
              "CATEGORIA                object\n",
              "DESCONTO                 object\n",
              "PRECO_REAL               object\n",
              "PORCENTAGEM_DESCONTO    float64\n",
              "AVALIACAO                object\n",
              "TOTAL_AVALIACOES         object\n",
              "INFORMACOES              object\n",
              "ID_USUARIO               object\n",
              "USUARIO                  object\n",
              "ID_REVISAO               object\n",
              "TITULO_REVISAO           object\n",
              "REVISAO                  object\n",
              "URL_IMAGEM               object\n",
              "URL_PRODUTO              object\n",
              "dtype: object"
            ]
          },
          "metadata": {},
          "execution_count": 22
        }
      ]
    },
    {
      "cell_type": "code",
      "source": [
        "df[\"DESCONTO\"] = df.DESCONTO.astype(\"float32\") # número com casa decimal"
      ],
      "metadata": {
        "id": "Q58bdDgmH0yr"
      },
      "execution_count": 23,
      "outputs": []
    },
    {
      "cell_type": "code",
      "source": [
        "df[\"PRECO_REAL\"] = df.PRECO_REAL.astype(\"float32\")"
      ],
      "metadata": {
        "id": "PYQn87CnH8Si"
      },
      "execution_count": 24,
      "outputs": []
    },
    {
      "cell_type": "code",
      "source": [
        "df[\"PORCENTAGEM_DESCONTO\"] = df.PORCENTAGEM_DESCONTO.astype(\"float32\")"
      ],
      "metadata": {
        "id": "GSwpbNBSy9Vg"
      },
      "execution_count": 25,
      "outputs": []
    },
    {
      "cell_type": "code",
      "source": [
        "df[\"TOTAL_AVALIACOES\"] = df.TOTAL_AVALIACOES.astype(\"int32\") # número inteiro"
      ],
      "metadata": {
        "id": "q8VxvqPiG6gH"
      },
      "execution_count": 26,
      "outputs": []
    },
    {
      "cell_type": "code",
      "source": [
        "df.dtypes"
      ],
      "metadata": {
        "id": "YRTp11pWAPeF",
        "colab": {
          "base_uri": "https://localhost:8080/"
        },
        "outputId": "53b0a549-f175-4503-9e0c-d47db1dd92ea"
      },
      "execution_count": 27,
      "outputs": [
        {
          "output_type": "execute_result",
          "data": {
            "text/plain": [
              "ID_PRODUTO               object\n",
              "NOME_PRODUTO             object\n",
              "CATEGORIA                object\n",
              "DESCONTO                float32\n",
              "PRECO_REAL              float32\n",
              "PORCENTAGEM_DESCONTO    float32\n",
              "AVALIACAO                object\n",
              "TOTAL_AVALIACOES          int32\n",
              "INFORMACOES              object\n",
              "ID_USUARIO               object\n",
              "USUARIO                  object\n",
              "ID_REVISAO               object\n",
              "TITULO_REVISAO           object\n",
              "REVISAO                  object\n",
              "URL_IMAGEM               object\n",
              "URL_PRODUTO              object\n",
              "dtype: object"
            ]
          },
          "metadata": {},
          "execution_count": 27
        }
      ]
    },
    {
      "cell_type": "code",
      "source": [
        "df"
      ],
      "metadata": {
        "id": "Du7329JkMUBv",
        "colab": {
          "base_uri": "https://localhost:8080/",
          "height": 1000
        },
        "outputId": "9b9b8671-a5f7-4e8f-c05e-b3c2f8d45a40"
      },
      "execution_count": 28,
      "outputs": [
        {
          "output_type": "execute_result",
          "data": {
            "text/plain": [
              "      ID_PRODUTO                                       NOME_PRODUTO  \\\n",
              "0     B07JW9H4J1  Wayona Nylon Braided USB to Lightning Fast Cha...   \n",
              "1     B098NS6PVG  Ambrane Unbreakable 60W / 3A Fast Charging 1.5...   \n",
              "2     B096MSW6CT  Sounce Fast Phone Charging Cable & Data Sync U...   \n",
              "3     B08HDJ86NZ  boAt Deuce USB 300 2 in 1 Type-C & Micro USB S...   \n",
              "4     B08CF3B7N1  Portronics Konnect L 1.2M Fast Charging 3A 8 P...   \n",
              "...          ...                                                ...   \n",
              "1460  B08L7J3T31  Noir Aqua - 5pcs PP Spun Filter + 1 Spanner | ...   \n",
              "1461  B01M6453MB  Prestige Delight PRWO Electric Rice Cooker (1 ...   \n",
              "1462  B009P2LIL4  Bajaj Majesty RX10 2000 Watts Heat Convector R...   \n",
              "1463  B00J5DYCCA  Havells Ventil Air DSP 230mm Exhaust Fan (Pist...   \n",
              "1464  B01486F4G6  Borosil Jumbo 1000-Watt Grill Sandwich Maker (...   \n",
              "\n",
              "                  CATEGORIA  DESCONTO  PRECO_REAL  PORCENTAGEM_DESCONTO  \\\n",
              "0     Computers&Accessories     399.0      1099.0                  0.64   \n",
              "1     Computers&Accessories     199.0       349.0                  0.43   \n",
              "2     Computers&Accessories     199.0      1899.0                  0.90   \n",
              "3     Computers&Accessories     329.0       699.0                  0.53   \n",
              "4     Computers&Accessories     154.0       399.0                  0.61   \n",
              "...                     ...       ...         ...                   ...   \n",
              "1460           Home&Kitchen     379.0       919.0                  0.59   \n",
              "1461           Home&Kitchen    2280.0      3045.0                  0.25   \n",
              "1462           Home&Kitchen    2219.0      3080.0                  0.28   \n",
              "1463           Home&Kitchen    1399.0      1890.0                  0.26   \n",
              "1464           Home&Kitchen    2863.0      3690.0                  0.22   \n",
              "\n",
              "     AVALIACAO  TOTAL_AVALIACOES  \\\n",
              "0          4.2             24269   \n",
              "1          4.0             43994   \n",
              "2          3.9              7928   \n",
              "3          4.2             94363   \n",
              "4          4.2             16905   \n",
              "...        ...               ...   \n",
              "1460         4              1090   \n",
              "1461       4.1              4118   \n",
              "1462       3.6               468   \n",
              "1463         4              8031   \n",
              "1464       4.3              6987   \n",
              "\n",
              "                                            INFORMACOES  \\\n",
              "0     High Compatibility : Compatible With iPhone 12...   \n",
              "1     Compatible with all Type C enabled devices, be...   \n",
              "2     【 Fast Charger& Data Sync】-With built-in safet...   \n",
              "3     The boAt Deuce USB 300 2 in 1 cable is compati...   \n",
              "4     [CHARGE & SYNC FUNCTION]- This cable comes wit...   \n",
              "...                                                 ...   \n",
              "1460  SUPREME QUALITY 90 GRAM 3 LAYER THIK PP SPUN F...   \n",
              "1461                       230 Volts, 400 watts, 1 Year   \n",
              "1462  International design and styling|Two heat sett...   \n",
              "1463  Fan sweep area: 230 MM ; Noise level: (40 - 45...   \n",
              "1464  Brand-Borosil, Specification â€“ 23V ~ 5Hz;1 W...   \n",
              "\n",
              "                                             ID_USUARIO  \\\n",
              "0     AG3D6O4STAQKAY2UVGEUV46KN35Q,AHMY5CWJMMK5BJRBB...   \n",
              "1     AECPFYFQVRUWC3KGNLJIOREFP5LQ,AGYYVPDD7YG7FYNBX...   \n",
              "2     AGU3BBQ2V2DDAMOAKGFAWDDQ6QHA,AESFLDV2PT363T2AQ...   \n",
              "3     AEWAZDZZJLQUYVOVGBEUKSLXHQ5A,AG5HTSFRRE6NL3M5S...   \n",
              "4     AE3Q6KSUK5P75D5HFYHCRAOLODSA,AFUGIFH5ZAFXRDSZH...   \n",
              "...                                                 ...   \n",
              "1460  AHITFY6AHALOFOHOZEOC6XBP4FEA,AFRABBODZJZQB6Z4U...   \n",
              "1461  AFG5FM3NEMOL6BNFRV2NK5FNJCHQ,AGEINTRN6Z563RMLH...   \n",
              "1462  AGVPWCMAHYQWJOQKMUJN4DW3KM5Q,AF4Q3E66MY4SR7YQZ...   \n",
              "1463  AF2JQCLSCY3QJATWUNNHUSVUPNQQ,AFDMLUXC5LS5RXDJS...   \n",
              "1464  AFGW5PT3R6ZAVQR4Y5MWVAKBZAYA,AG7QNJ2SCS5VS5VYY...   \n",
              "\n",
              "                                                USUARIO  \\\n",
              "0     Manav,Adarsh gupta,Sundeep,S.Sayeed Ahmed,jasp...   \n",
              "1     ArdKn,Nirbhay kumar,Sagar Viswanathan,Asp,Plac...   \n",
              "2     Kunal,Himanshu,viswanath,sai niharka,saqib mal...   \n",
              "3     Omkar dhale,JD,HEMALATHA,Ajwadh a.,amar singh ...   \n",
              "4     rahuls6099,Swasat Borah,Ajay Wadke,Pranali,RVK...   \n",
              "...                                                 ...   \n",
              "1460  Prabha ds,Raghuram bk,Real Deal,Amazon Custome...   \n",
              "1461  Manu Bhai,Naveenpittu,Evatira Sangma,JAGANNADH...   \n",
              "1462  Nehal Desai,Danish Parwez,Amazon Customer,Amaz...   \n",
              "1463  Shubham Dubey,E.GURUBARAN,Mayank S.,eusuf khan...   \n",
              "1464  Rajib,Ajay B,Vikas Kahol,PARDEEP,Anindya Prama...   \n",
              "\n",
              "                                             ID_REVISAO  \\\n",
              "0     R3HXWT0LRP0NMF,R2AJM3LFTLZHFO,R6AQJGUP6P86,R1K...   \n",
              "1     RGIQEG07R9HS2,R1SMWZQ86XIN8U,R2J3Y1WL29GWDE,RY...   \n",
              "2     R3J3EQQ9TZI5ZJ,R3E7WBGK7ID0KV,RWU79XKQ6I1QF,R2...   \n",
              "3     R3EEUZKKK9J36I,R3HJVYCLYOY554,REDECAZ7AMPQC,R1...   \n",
              "4     R1BP4L2HH9TFUP,R16PVJEXKV6QZS,R2UPDB81N66T4P,R...   \n",
              "...                                                 ...   \n",
              "1460  R3G3XFHPBFF0E8,R3C0BZCD32EIGW,R2EBVBCN9QPD9R,R...   \n",
              "1461  R3DDL2UPKQ2CK9,R2SYYU1OATVIU5,R1VM993161IYRW,R...   \n",
              "1462  R1TLRJVW4STY5I,R2O455KRN493R1,R3Q5MVGBRIAS2G,R...   \n",
              "1463  R39Q2Y79MM9SWK,R3079BG1NIH6MB,R29A31ZELTZNJM,R...   \n",
              "1464  R20RBRZ0WEUJT9,ROKIFK9R2ISSE,R30EEG2FNJSN5I,R2...   \n",
              "\n",
              "                                         TITULO_REVISAO  \\\n",
              "0     Satisfied,Charging is really fast,Value for mo...   \n",
              "1     A Good Braided Cable for Your Type C Device,Go...   \n",
              "2     Good speed for earlier versions,Good Product,W...   \n",
              "3     Good product,Good one,Nice,Really nice product...   \n",
              "4     As good as original,Decent,Good one for second...   \n",
              "...                                                 ...   \n",
              "1460  Received the product without spanner,Excellent...   \n",
              "1461  ok,everything was good couldn't return bcoz I ...   \n",
              "1462  very good,Work but front melt after 2 month,Go...   \n",
              "1463  Fan Speed is slow,Good quality,Good product,go...   \n",
              "1464  Works perfect,Ok good product,Nice Product. Re...   \n",
              "\n",
              "                                                REVISAO  \\\n",
              "0     Looks durable Charging is fine tooNo complains...   \n",
              "1     I ordered this cable to connect my phone to An...   \n",
              "2     Not quite durable and sturdy,https://m.media-a...   \n",
              "3     Good product,long wire,Charges good,Nice,I bou...   \n",
              "4     Bought this instead of original apple, does th...   \n",
              "...                                                 ...   \n",
              "1460  I received product without spanner,Excellent p...   \n",
              "1461  ok,got everything as mentioned but the measuri...   \n",
              "1462  plastic but cool body ,u have to find sturdy s...   \n",
              "1463  I have installed this in my kitchen working fi...   \n",
              "1464  It does it job perfectly..only issue is temp c...   \n",
              "\n",
              "                                             URL_IMAGEM  \\\n",
              "0     https://m.media-amazon.com/images/W/WEBP_40237...   \n",
              "1     https://m.media-amazon.com/images/W/WEBP_40237...   \n",
              "2     https://m.media-amazon.com/images/W/WEBP_40237...   \n",
              "3     https://m.media-amazon.com/images/I/41V5FtEWPk...   \n",
              "4     https://m.media-amazon.com/images/W/WEBP_40237...   \n",
              "...                                                 ...   \n",
              "1460  https://m.media-amazon.com/images/I/41fDdRtjfx...   \n",
              "1461  https://m.media-amazon.com/images/I/41gzDxk4+k...   \n",
              "1462  https://m.media-amazon.com/images/W/WEBP_40237...   \n",
              "1463  https://m.media-amazon.com/images/W/WEBP_40237...   \n",
              "1464  https://m.media-amazon.com/images/W/WEBP_40237...   \n",
              "\n",
              "                                            URL_PRODUTO  \n",
              "0     https://www.amazon.in/Wayona-Braided-WN3LG1-Sy...  \n",
              "1     https://www.amazon.in/Ambrane-Unbreakable-Char...  \n",
              "2     https://www.amazon.in/Sounce-iPhone-Charging-C...  \n",
              "3     https://www.amazon.in/Deuce-300-Resistant-Tang...  \n",
              "4     https://www.amazon.in/Portronics-Konnect-POR-1...  \n",
              "...                                                 ...  \n",
              "1460  https://www.amazon.in/Noir-Aqua-Spanner-Purifi...  \n",
              "1461  https://www.amazon.in/Prestige-Delight-PRWO-1-...  \n",
              "1462  https://www.amazon.in/Bajaj-RX-10-2000-Watt-Co...  \n",
              "1463  https://www.amazon.in/Havells-Ventilair-230mm-...  \n",
              "1464  https://www.amazon.in/Borosil-Jumbo-1000-Watt-...  \n",
              "\n",
              "[1465 rows x 16 columns]"
            ],
            "text/html": [
              "\n",
              "  <div id=\"df-347f424c-35ef-44df-ae53-4ea308412888\">\n",
              "    <div class=\"colab-df-container\">\n",
              "      <div>\n",
              "<style scoped>\n",
              "    .dataframe tbody tr th:only-of-type {\n",
              "        vertical-align: middle;\n",
              "    }\n",
              "\n",
              "    .dataframe tbody tr th {\n",
              "        vertical-align: top;\n",
              "    }\n",
              "\n",
              "    .dataframe thead th {\n",
              "        text-align: right;\n",
              "    }\n",
              "</style>\n",
              "<table border=\"1\" class=\"dataframe\">\n",
              "  <thead>\n",
              "    <tr style=\"text-align: right;\">\n",
              "      <th></th>\n",
              "      <th>ID_PRODUTO</th>\n",
              "      <th>NOME_PRODUTO</th>\n",
              "      <th>CATEGORIA</th>\n",
              "      <th>DESCONTO</th>\n",
              "      <th>PRECO_REAL</th>\n",
              "      <th>PORCENTAGEM_DESCONTO</th>\n",
              "      <th>AVALIACAO</th>\n",
              "      <th>TOTAL_AVALIACOES</th>\n",
              "      <th>INFORMACOES</th>\n",
              "      <th>ID_USUARIO</th>\n",
              "      <th>USUARIO</th>\n",
              "      <th>ID_REVISAO</th>\n",
              "      <th>TITULO_REVISAO</th>\n",
              "      <th>REVISAO</th>\n",
              "      <th>URL_IMAGEM</th>\n",
              "      <th>URL_PRODUTO</th>\n",
              "    </tr>\n",
              "  </thead>\n",
              "  <tbody>\n",
              "    <tr>\n",
              "      <th>0</th>\n",
              "      <td>B07JW9H4J1</td>\n",
              "      <td>Wayona Nylon Braided USB to Lightning Fast Cha...</td>\n",
              "      <td>Computers&amp;Accessories</td>\n",
              "      <td>399.0</td>\n",
              "      <td>1099.0</td>\n",
              "      <td>0.64</td>\n",
              "      <td>4.2</td>\n",
              "      <td>24269</td>\n",
              "      <td>High Compatibility : Compatible With iPhone 12...</td>\n",
              "      <td>AG3D6O4STAQKAY2UVGEUV46KN35Q,AHMY5CWJMMK5BJRBB...</td>\n",
              "      <td>Manav,Adarsh gupta,Sundeep,S.Sayeed Ahmed,jasp...</td>\n",
              "      <td>R3HXWT0LRP0NMF,R2AJM3LFTLZHFO,R6AQJGUP6P86,R1K...</td>\n",
              "      <td>Satisfied,Charging is really fast,Value for mo...</td>\n",
              "      <td>Looks durable Charging is fine tooNo complains...</td>\n",
              "      <td>https://m.media-amazon.com/images/W/WEBP_40237...</td>\n",
              "      <td>https://www.amazon.in/Wayona-Braided-WN3LG1-Sy...</td>\n",
              "    </tr>\n",
              "    <tr>\n",
              "      <th>1</th>\n",
              "      <td>B098NS6PVG</td>\n",
              "      <td>Ambrane Unbreakable 60W / 3A Fast Charging 1.5...</td>\n",
              "      <td>Computers&amp;Accessories</td>\n",
              "      <td>199.0</td>\n",
              "      <td>349.0</td>\n",
              "      <td>0.43</td>\n",
              "      <td>4.0</td>\n",
              "      <td>43994</td>\n",
              "      <td>Compatible with all Type C enabled devices, be...</td>\n",
              "      <td>AECPFYFQVRUWC3KGNLJIOREFP5LQ,AGYYVPDD7YG7FYNBX...</td>\n",
              "      <td>ArdKn,Nirbhay kumar,Sagar Viswanathan,Asp,Plac...</td>\n",
              "      <td>RGIQEG07R9HS2,R1SMWZQ86XIN8U,R2J3Y1WL29GWDE,RY...</td>\n",
              "      <td>A Good Braided Cable for Your Type C Device,Go...</td>\n",
              "      <td>I ordered this cable to connect my phone to An...</td>\n",
              "      <td>https://m.media-amazon.com/images/W/WEBP_40237...</td>\n",
              "      <td>https://www.amazon.in/Ambrane-Unbreakable-Char...</td>\n",
              "    </tr>\n",
              "    <tr>\n",
              "      <th>2</th>\n",
              "      <td>B096MSW6CT</td>\n",
              "      <td>Sounce Fast Phone Charging Cable &amp; Data Sync U...</td>\n",
              "      <td>Computers&amp;Accessories</td>\n",
              "      <td>199.0</td>\n",
              "      <td>1899.0</td>\n",
              "      <td>0.90</td>\n",
              "      <td>3.9</td>\n",
              "      <td>7928</td>\n",
              "      <td>【 Fast Charger&amp; Data Sync】-With built-in safet...</td>\n",
              "      <td>AGU3BBQ2V2DDAMOAKGFAWDDQ6QHA,AESFLDV2PT363T2AQ...</td>\n",
              "      <td>Kunal,Himanshu,viswanath,sai niharka,saqib mal...</td>\n",
              "      <td>R3J3EQQ9TZI5ZJ,R3E7WBGK7ID0KV,RWU79XKQ6I1QF,R2...</td>\n",
              "      <td>Good speed for earlier versions,Good Product,W...</td>\n",
              "      <td>Not quite durable and sturdy,https://m.media-a...</td>\n",
              "      <td>https://m.media-amazon.com/images/W/WEBP_40237...</td>\n",
              "      <td>https://www.amazon.in/Sounce-iPhone-Charging-C...</td>\n",
              "    </tr>\n",
              "    <tr>\n",
              "      <th>3</th>\n",
              "      <td>B08HDJ86NZ</td>\n",
              "      <td>boAt Deuce USB 300 2 in 1 Type-C &amp; Micro USB S...</td>\n",
              "      <td>Computers&amp;Accessories</td>\n",
              "      <td>329.0</td>\n",
              "      <td>699.0</td>\n",
              "      <td>0.53</td>\n",
              "      <td>4.2</td>\n",
              "      <td>94363</td>\n",
              "      <td>The boAt Deuce USB 300 2 in 1 cable is compati...</td>\n",
              "      <td>AEWAZDZZJLQUYVOVGBEUKSLXHQ5A,AG5HTSFRRE6NL3M5S...</td>\n",
              "      <td>Omkar dhale,JD,HEMALATHA,Ajwadh a.,amar singh ...</td>\n",
              "      <td>R3EEUZKKK9J36I,R3HJVYCLYOY554,REDECAZ7AMPQC,R1...</td>\n",
              "      <td>Good product,Good one,Nice,Really nice product...</td>\n",
              "      <td>Good product,long wire,Charges good,Nice,I bou...</td>\n",
              "      <td>https://m.media-amazon.com/images/I/41V5FtEWPk...</td>\n",
              "      <td>https://www.amazon.in/Deuce-300-Resistant-Tang...</td>\n",
              "    </tr>\n",
              "    <tr>\n",
              "      <th>4</th>\n",
              "      <td>B08CF3B7N1</td>\n",
              "      <td>Portronics Konnect L 1.2M Fast Charging 3A 8 P...</td>\n",
              "      <td>Computers&amp;Accessories</td>\n",
              "      <td>154.0</td>\n",
              "      <td>399.0</td>\n",
              "      <td>0.61</td>\n",
              "      <td>4.2</td>\n",
              "      <td>16905</td>\n",
              "      <td>[CHARGE &amp; SYNC FUNCTION]- This cable comes wit...</td>\n",
              "      <td>AE3Q6KSUK5P75D5HFYHCRAOLODSA,AFUGIFH5ZAFXRDSZH...</td>\n",
              "      <td>rahuls6099,Swasat Borah,Ajay Wadke,Pranali,RVK...</td>\n",
              "      <td>R1BP4L2HH9TFUP,R16PVJEXKV6QZS,R2UPDB81N66T4P,R...</td>\n",
              "      <td>As good as original,Decent,Good one for second...</td>\n",
              "      <td>Bought this instead of original apple, does th...</td>\n",
              "      <td>https://m.media-amazon.com/images/W/WEBP_40237...</td>\n",
              "      <td>https://www.amazon.in/Portronics-Konnect-POR-1...</td>\n",
              "    </tr>\n",
              "    <tr>\n",
              "      <th>...</th>\n",
              "      <td>...</td>\n",
              "      <td>...</td>\n",
              "      <td>...</td>\n",
              "      <td>...</td>\n",
              "      <td>...</td>\n",
              "      <td>...</td>\n",
              "      <td>...</td>\n",
              "      <td>...</td>\n",
              "      <td>...</td>\n",
              "      <td>...</td>\n",
              "      <td>...</td>\n",
              "      <td>...</td>\n",
              "      <td>...</td>\n",
              "      <td>...</td>\n",
              "      <td>...</td>\n",
              "      <td>...</td>\n",
              "    </tr>\n",
              "    <tr>\n",
              "      <th>1460</th>\n",
              "      <td>B08L7J3T31</td>\n",
              "      <td>Noir Aqua - 5pcs PP Spun Filter + 1 Spanner | ...</td>\n",
              "      <td>Home&amp;Kitchen</td>\n",
              "      <td>379.0</td>\n",
              "      <td>919.0</td>\n",
              "      <td>0.59</td>\n",
              "      <td>4</td>\n",
              "      <td>1090</td>\n",
              "      <td>SUPREME QUALITY 90 GRAM 3 LAYER THIK PP SPUN F...</td>\n",
              "      <td>AHITFY6AHALOFOHOZEOC6XBP4FEA,AFRABBODZJZQB6Z4U...</td>\n",
              "      <td>Prabha ds,Raghuram bk,Real Deal,Amazon Custome...</td>\n",
              "      <td>R3G3XFHPBFF0E8,R3C0BZCD32EIGW,R2EBVBCN9QPD9R,R...</td>\n",
              "      <td>Received the product without spanner,Excellent...</td>\n",
              "      <td>I received product without spanner,Excellent p...</td>\n",
              "      <td>https://m.media-amazon.com/images/I/41fDdRtjfx...</td>\n",
              "      <td>https://www.amazon.in/Noir-Aqua-Spanner-Purifi...</td>\n",
              "    </tr>\n",
              "    <tr>\n",
              "      <th>1461</th>\n",
              "      <td>B01M6453MB</td>\n",
              "      <td>Prestige Delight PRWO Electric Rice Cooker (1 ...</td>\n",
              "      <td>Home&amp;Kitchen</td>\n",
              "      <td>2280.0</td>\n",
              "      <td>3045.0</td>\n",
              "      <td>0.25</td>\n",
              "      <td>4.1</td>\n",
              "      <td>4118</td>\n",
              "      <td>230 Volts, 400 watts, 1 Year</td>\n",
              "      <td>AFG5FM3NEMOL6BNFRV2NK5FNJCHQ,AGEINTRN6Z563RMLH...</td>\n",
              "      <td>Manu Bhai,Naveenpittu,Evatira Sangma,JAGANNADH...</td>\n",
              "      <td>R3DDL2UPKQ2CK9,R2SYYU1OATVIU5,R1VM993161IYRW,R...</td>\n",
              "      <td>ok,everything was good couldn't return bcoz I ...</td>\n",
              "      <td>ok,got everything as mentioned but the measuri...</td>\n",
              "      <td>https://m.media-amazon.com/images/I/41gzDxk4+k...</td>\n",
              "      <td>https://www.amazon.in/Prestige-Delight-PRWO-1-...</td>\n",
              "    </tr>\n",
              "    <tr>\n",
              "      <th>1462</th>\n",
              "      <td>B009P2LIL4</td>\n",
              "      <td>Bajaj Majesty RX10 2000 Watts Heat Convector R...</td>\n",
              "      <td>Home&amp;Kitchen</td>\n",
              "      <td>2219.0</td>\n",
              "      <td>3080.0</td>\n",
              "      <td>0.28</td>\n",
              "      <td>3.6</td>\n",
              "      <td>468</td>\n",
              "      <td>International design and styling|Two heat sett...</td>\n",
              "      <td>AGVPWCMAHYQWJOQKMUJN4DW3KM5Q,AF4Q3E66MY4SR7YQZ...</td>\n",
              "      <td>Nehal Desai,Danish Parwez,Amazon Customer,Amaz...</td>\n",
              "      <td>R1TLRJVW4STY5I,R2O455KRN493R1,R3Q5MVGBRIAS2G,R...</td>\n",
              "      <td>very good,Work but front melt after 2 month,Go...</td>\n",
              "      <td>plastic but cool body ,u have to find sturdy s...</td>\n",
              "      <td>https://m.media-amazon.com/images/W/WEBP_40237...</td>\n",
              "      <td>https://www.amazon.in/Bajaj-RX-10-2000-Watt-Co...</td>\n",
              "    </tr>\n",
              "    <tr>\n",
              "      <th>1463</th>\n",
              "      <td>B00J5DYCCA</td>\n",
              "      <td>Havells Ventil Air DSP 230mm Exhaust Fan (Pist...</td>\n",
              "      <td>Home&amp;Kitchen</td>\n",
              "      <td>1399.0</td>\n",
              "      <td>1890.0</td>\n",
              "      <td>0.26</td>\n",
              "      <td>4</td>\n",
              "      <td>8031</td>\n",
              "      <td>Fan sweep area: 230 MM ; Noise level: (40 - 45...</td>\n",
              "      <td>AF2JQCLSCY3QJATWUNNHUSVUPNQQ,AFDMLUXC5LS5RXDJS...</td>\n",
              "      <td>Shubham Dubey,E.GURUBARAN,Mayank S.,eusuf khan...</td>\n",
              "      <td>R39Q2Y79MM9SWK,R3079BG1NIH6MB,R29A31ZELTZNJM,R...</td>\n",
              "      <td>Fan Speed is slow,Good quality,Good product,go...</td>\n",
              "      <td>I have installed this in my kitchen working fi...</td>\n",
              "      <td>https://m.media-amazon.com/images/W/WEBP_40237...</td>\n",
              "      <td>https://www.amazon.in/Havells-Ventilair-230mm-...</td>\n",
              "    </tr>\n",
              "    <tr>\n",
              "      <th>1464</th>\n",
              "      <td>B01486F4G6</td>\n",
              "      <td>Borosil Jumbo 1000-Watt Grill Sandwich Maker (...</td>\n",
              "      <td>Home&amp;Kitchen</td>\n",
              "      <td>2863.0</td>\n",
              "      <td>3690.0</td>\n",
              "      <td>0.22</td>\n",
              "      <td>4.3</td>\n",
              "      <td>6987</td>\n",
              "      <td>Brand-Borosil, Specification â€“ 23V ~ 5Hz;1 W...</td>\n",
              "      <td>AFGW5PT3R6ZAVQR4Y5MWVAKBZAYA,AG7QNJ2SCS5VS5VYY...</td>\n",
              "      <td>Rajib,Ajay B,Vikas Kahol,PARDEEP,Anindya Prama...</td>\n",
              "      <td>R20RBRZ0WEUJT9,ROKIFK9R2ISSE,R30EEG2FNJSN5I,R2...</td>\n",
              "      <td>Works perfect,Ok good product,Nice Product. Re...</td>\n",
              "      <td>It does it job perfectly..only issue is temp c...</td>\n",
              "      <td>https://m.media-amazon.com/images/W/WEBP_40237...</td>\n",
              "      <td>https://www.amazon.in/Borosil-Jumbo-1000-Watt-...</td>\n",
              "    </tr>\n",
              "  </tbody>\n",
              "</table>\n",
              "<p>1465 rows × 16 columns</p>\n",
              "</div>\n",
              "      <button class=\"colab-df-convert\" onclick=\"convertToInteractive('df-347f424c-35ef-44df-ae53-4ea308412888')\"\n",
              "              title=\"Convert this dataframe to an interactive table.\"\n",
              "              style=\"display:none;\">\n",
              "        \n",
              "  <svg xmlns=\"http://www.w3.org/2000/svg\" height=\"24px\"viewBox=\"0 0 24 24\"\n",
              "       width=\"24px\">\n",
              "    <path d=\"M0 0h24v24H0V0z\" fill=\"none\"/>\n",
              "    <path d=\"M18.56 5.44l.94 2.06.94-2.06 2.06-.94-2.06-.94-.94-2.06-.94 2.06-2.06.94zm-11 1L8.5 8.5l.94-2.06 2.06-.94-2.06-.94L8.5 2.5l-.94 2.06-2.06.94zm10 10l.94 2.06.94-2.06 2.06-.94-2.06-.94-.94-2.06-.94 2.06-2.06.94z\"/><path d=\"M17.41 7.96l-1.37-1.37c-.4-.4-.92-.59-1.43-.59-.52 0-1.04.2-1.43.59L10.3 9.45l-7.72 7.72c-.78.78-.78 2.05 0 2.83L4 21.41c.39.39.9.59 1.41.59.51 0 1.02-.2 1.41-.59l7.78-7.78 2.81-2.81c.8-.78.8-2.07 0-2.86zM5.41 20L4 18.59l7.72-7.72 1.47 1.35L5.41 20z\"/>\n",
              "  </svg>\n",
              "      </button>\n",
              "      \n",
              "  <style>\n",
              "    .colab-df-container {\n",
              "      display:flex;\n",
              "      flex-wrap:wrap;\n",
              "      gap: 12px;\n",
              "    }\n",
              "\n",
              "    .colab-df-convert {\n",
              "      background-color: #E8F0FE;\n",
              "      border: none;\n",
              "      border-radius: 50%;\n",
              "      cursor: pointer;\n",
              "      display: none;\n",
              "      fill: #1967D2;\n",
              "      height: 32px;\n",
              "      padding: 0 0 0 0;\n",
              "      width: 32px;\n",
              "    }\n",
              "\n",
              "    .colab-df-convert:hover {\n",
              "      background-color: #E2EBFA;\n",
              "      box-shadow: 0px 1px 2px rgba(60, 64, 67, 0.3), 0px 1px 3px 1px rgba(60, 64, 67, 0.15);\n",
              "      fill: #174EA6;\n",
              "    }\n",
              "\n",
              "    [theme=dark] .colab-df-convert {\n",
              "      background-color: #3B4455;\n",
              "      fill: #D2E3FC;\n",
              "    }\n",
              "\n",
              "    [theme=dark] .colab-df-convert:hover {\n",
              "      background-color: #434B5C;\n",
              "      box-shadow: 0px 1px 3px 1px rgba(0, 0, 0, 0.15);\n",
              "      filter: drop-shadow(0px 1px 2px rgba(0, 0, 0, 0.3));\n",
              "      fill: #FFFFFF;\n",
              "    }\n",
              "  </style>\n",
              "\n",
              "      <script>\n",
              "        const buttonEl =\n",
              "          document.querySelector('#df-347f424c-35ef-44df-ae53-4ea308412888 button.colab-df-convert');\n",
              "        buttonEl.style.display =\n",
              "          google.colab.kernel.accessAllowed ? 'block' : 'none';\n",
              "\n",
              "        async function convertToInteractive(key) {\n",
              "          const element = document.querySelector('#df-347f424c-35ef-44df-ae53-4ea308412888');\n",
              "          const dataTable =\n",
              "            await google.colab.kernel.invokeFunction('convertToInteractive',\n",
              "                                                     [key], {});\n",
              "          if (!dataTable) return;\n",
              "\n",
              "          const docLinkHtml = 'Like what you see? Visit the ' +\n",
              "            '<a target=\"_blank\" href=https://colab.research.google.com/notebooks/data_table.ipynb>data table notebook</a>'\n",
              "            + ' to learn more about interactive tables.';\n",
              "          element.innerHTML = '';\n",
              "          dataTable['output_type'] = 'display_data';\n",
              "          await google.colab.output.renderOutput(dataTable, element);\n",
              "          const docLink = document.createElement('div');\n",
              "          docLink.innerHTML = docLinkHtml;\n",
              "          element.appendChild(docLink);\n",
              "        }\n",
              "      </script>\n",
              "    </div>\n",
              "  </div>\n",
              "  "
            ]
          },
          "metadata": {},
          "execution_count": 28
        }
      ]
    },
    {
      "cell_type": "markdown",
      "source": [
        "# ESTATÍSTICA DESCRITIVA\n",
        "Com o dataframe tratado, será feita a organização, descrição e representação dos dados, através de métodos estatísticos descritivos."
      ],
      "metadata": {
        "id": "YNxMdKXgPVbU"
      }
    },
    {
      "cell_type": "markdown",
      "source": [
        "## Distribuição de Frequências\n",
        "É importante saber sobre a quantidade de ocorrências de determinados valores no conjunto de dados analisado. Para isso, é possível utilizar a distribuição de frequências.\n",
        "\n",
        "Ao analisarmos a variável `CATEGORIA`, é possível ter uma noção sobre a demanda a determinado seguimento."
      ],
      "metadata": {
        "id": "GPeWb0-iPeGE"
      }
    },
    {
      "cell_type": "code",
      "source": [
        "import plotly.express as px"
      ],
      "metadata": {
        "id": "Jebbx-eIPFYa"
      },
      "execution_count": 29,
      "outputs": []
    },
    {
      "cell_type": "code",
      "source": [
        "tema = px.colors.qualitative.Light24"
      ],
      "metadata": {
        "id": "QleT_kBuQHtI"
      },
      "execution_count": 30,
      "outputs": []
    },
    {
      "cell_type": "code",
      "source": [
        "cont_categoria = px.histogram(df, x=\"CATEGORIA\", width=900, text_auto=True,\n",
        "                              color_discrete_sequence=tema, color=\"CATEGORIA\")\n",
        "\n",
        "cont_categoria.update_layout(font_size=12, xaxis=dict(title=\"Categoria\"),\n",
        "                             yaxis=dict(title=\"Contagem\"),\n",
        "                             title=dict(text=\"CONTAGEM DE CATEGORIAS\",\n",
        "                                        x=0.5, font_size=22),\n",
        "                             plot_bgcolor=\"rgb(250, 250, 250)\",\n",
        "                             showlegend=False)\n",
        "\n",
        "cont_categoria.update_xaxes(showline=True, linewidth=1, linecolor=\"lightgrey\",\n",
        "                            categoryorder=\"total descending\")\n",
        "\n",
        "cont_categoria.update_yaxes(showline=True, linewidth=1, linecolor=\"lightgrey\")"
      ],
      "metadata": {
        "id": "YtsHEjb5uNHu",
        "colab": {
          "base_uri": "https://localhost:8080/",
          "height": 542
        },
        "outputId": "e9bf2e2b-bdcd-40e9-98e8-626a3ad146c7"
      },
      "execution_count": 31,
      "outputs": [
        {
          "output_type": "display_data",
          "data": {
            "text/html": [
              "<html>\n",
              "<head><meta charset=\"utf-8\" /></head>\n",
              "<body>\n",
              "    <div>            <script src=\"https://cdnjs.cloudflare.com/ajax/libs/mathjax/2.7.5/MathJax.js?config=TeX-AMS-MML_SVG\"></script><script type=\"text/javascript\">if (window.MathJax && window.MathJax.Hub && window.MathJax.Hub.Config) {window.MathJax.Hub.Config({SVG: {font: \"STIX-Web\"}});}</script>                <script type=\"text/javascript\">window.PlotlyConfig = {MathJaxConfig: 'local'};</script>\n",
              "        <script src=\"https://cdn.plot.ly/plotly-2.18.2.min.js\"></script>                <div id=\"549c9810-207f-4e84-8227-403810391e26\" class=\"plotly-graph-div\" style=\"height:525px; width:900px;\"></div>            <script type=\"text/javascript\">                                    window.PLOTLYENV=window.PLOTLYENV || {};                                    if (document.getElementById(\"549c9810-207f-4e84-8227-403810391e26\")) {                    Plotly.newPlot(                        \"549c9810-207f-4e84-8227-403810391e26\",                        [{\"alignmentgroup\":\"True\",\"bingroup\":\"x\",\"hovertemplate\":\"CATEGORIA=%{x}<br>count=%{y}<extra></extra>\",\"legendgroup\":\"Computers&Accessories\",\"marker\":{\"color\":\"#FD3216\",\"pattern\":{\"shape\":\"\"}},\"name\":\"Computers&Accessories\",\"offsetgroup\":\"Computers&Accessories\",\"orientation\":\"v\",\"showlegend\":true,\"texttemplate\":\"%{value}\",\"x\":[\"Computers&Accessories\",\"Computers&Accessories\",\"Computers&Accessories\",\"Computers&Accessories\",\"Computers&Accessories\",\"Computers&Accessories\",\"Computers&Accessories\",\"Computers&Accessories\",\"Computers&Accessories\",\"Computers&Accessories\",\"Computers&Accessories\",\"Computers&Accessories\",\"Computers&Accessories\",\"Computers&Accessories\",\"Computers&Accessories\",\"Computers&Accessories\",\"Computers&Accessories\",\"Computers&Accessories\",\"Computers&Accessories\",\"Computers&Accessories\",\"Computers&Accessories\",\"Computers&Accessories\",\"Computers&Accessories\",\"Computers&Accessories\",\"Computers&Accessories\",\"Computers&Accessories\",\"Computers&Accessories\",\"Computers&Accessories\",\"Computers&Accessories\",\"Computers&Accessories\",\"Computers&Accessories\",\"Computers&Accessories\",\"Computers&Accessories\",\"Computers&Accessories\",\"Computers&Accessories\",\"Computers&Accessories\",\"Computers&Accessories\",\"Computers&Accessories\",\"Computers&Accessories\",\"Computers&Accessories\",\"Computers&Accessories\",\"Computers&Accessories\",\"Computers&Accessories\",\"Computers&Accessories\",\"Computers&Accessories\",\"Computers&Accessories\",\"Computers&Accessories\",\"Computers&Accessories\",\"Computers&Accessories\",\"Computers&Accessories\",\"Computers&Accessories\",\"Computers&Accessories\",\"Computers&Accessories\",\"Computers&Accessories\",\"Computers&Accessories\",\"Computers&Accessories\",\"Computers&Accessories\",\"Computers&Accessories\",\"Computers&Accessories\",\"Computers&Accessories\",\"Computers&Accessories\",\"Computers&Accessories\",\"Computers&Accessories\",\"Computers&Accessories\",\"Computers&Accessories\",\"Computers&Accessories\",\"Computers&Accessories\",\"Computers&Accessories\",\"Computers&Accessories\",\"Computers&Accessories\",\"Computers&Accessories\",\"Computers&Accessories\",\"Computers&Accessories\",\"Computers&Accessories\",\"Computers&Accessories\",\"Computers&Accessories\",\"Computers&Accessories\",\"Computers&Accessories\",\"Computers&Accessories\",\"Computers&Accessories\",\"Computers&Accessories\",\"Computers&Accessories\",\"Computers&Accessories\",\"Computers&Accessories\",\"Computers&Accessories\",\"Computers&Accessories\",\"Computers&Accessories\",\"Computers&Accessories\",\"Computers&Accessories\",\"Computers&Accessories\",\"Computers&Accessories\",\"Computers&Accessories\",\"Computers&Accessories\",\"Computers&Accessories\",\"Computers&Accessories\",\"Computers&Accessories\",\"Computers&Accessories\",\"Computers&Accessories\",\"Computers&Accessories\",\"Computers&Accessories\",\"Computers&Accessories\",\"Computers&Accessories\",\"Computers&Accessories\",\"Computers&Accessories\",\"Computers&Accessories\",\"Computers&Accessories\",\"Computers&Accessories\",\"Computers&Accessories\",\"Computers&Accessories\",\"Computers&Accessories\",\"Computers&Accessories\",\"Computers&Accessories\",\"Computers&Accessories\",\"Computers&Accessories\",\"Computers&Accessories\",\"Computers&Accessories\",\"Computers&Accessories\",\"Computers&Accessories\",\"Computers&Accessories\",\"Computers&Accessories\",\"Computers&Accessories\",\"Computers&Accessories\",\"Computers&Accessories\",\"Computers&Accessories\",\"Computers&Accessories\",\"Computers&Accessories\",\"Computers&Accessories\",\"Computers&Accessories\",\"Computers&Accessories\",\"Computers&Accessories\",\"Computers&Accessories\",\"Computers&Accessories\",\"Computers&Accessories\",\"Computers&Accessories\",\"Computers&Accessories\",\"Computers&Accessories\",\"Computers&Accessories\",\"Computers&Accessories\",\"Computers&Accessories\",\"Computers&Accessories\",\"Computers&Accessories\",\"Computers&Accessories\",\"Computers&Accessories\",\"Computers&Accessories\",\"Computers&Accessories\",\"Computers&Accessories\",\"Computers&Accessories\",\"Computers&Accessories\",\"Computers&Accessories\",\"Computers&Accessories\",\"Computers&Accessories\",\"Computers&Accessories\",\"Computers&Accessories\",\"Computers&Accessories\",\"Computers&Accessories\",\"Computers&Accessories\",\"Computers&Accessories\",\"Computers&Accessories\",\"Computers&Accessories\",\"Computers&Accessories\",\"Computers&Accessories\",\"Computers&Accessories\",\"Computers&Accessories\",\"Computers&Accessories\",\"Computers&Accessories\",\"Computers&Accessories\",\"Computers&Accessories\",\"Computers&Accessories\",\"Computers&Accessories\",\"Computers&Accessories\",\"Computers&Accessories\",\"Computers&Accessories\",\"Computers&Accessories\",\"Computers&Accessories\",\"Computers&Accessories\",\"Computers&Accessories\",\"Computers&Accessories\",\"Computers&Accessories\",\"Computers&Accessories\",\"Computers&Accessories\",\"Computers&Accessories\",\"Computers&Accessories\",\"Computers&Accessories\",\"Computers&Accessories\",\"Computers&Accessories\",\"Computers&Accessories\",\"Computers&Accessories\",\"Computers&Accessories\",\"Computers&Accessories\",\"Computers&Accessories\",\"Computers&Accessories\",\"Computers&Accessories\",\"Computers&Accessories\",\"Computers&Accessories\",\"Computers&Accessories\",\"Computers&Accessories\",\"Computers&Accessories\",\"Computers&Accessories\",\"Computers&Accessories\",\"Computers&Accessories\",\"Computers&Accessories\",\"Computers&Accessories\",\"Computers&Accessories\",\"Computers&Accessories\",\"Computers&Accessories\",\"Computers&Accessories\",\"Computers&Accessories\",\"Computers&Accessories\",\"Computers&Accessories\",\"Computers&Accessories\",\"Computers&Accessories\",\"Computers&Accessories\",\"Computers&Accessories\",\"Computers&Accessories\",\"Computers&Accessories\",\"Computers&Accessories\",\"Computers&Accessories\",\"Computers&Accessories\",\"Computers&Accessories\",\"Computers&Accessories\",\"Computers&Accessories\",\"Computers&Accessories\",\"Computers&Accessories\",\"Computers&Accessories\",\"Computers&Accessories\",\"Computers&Accessories\",\"Computers&Accessories\",\"Computers&Accessories\",\"Computers&Accessories\",\"Computers&Accessories\",\"Computers&Accessories\",\"Computers&Accessories\",\"Computers&Accessories\",\"Computers&Accessories\",\"Computers&Accessories\",\"Computers&Accessories\",\"Computers&Accessories\",\"Computers&Accessories\",\"Computers&Accessories\",\"Computers&Accessories\",\"Computers&Accessories\",\"Computers&Accessories\",\"Computers&Accessories\",\"Computers&Accessories\",\"Computers&Accessories\",\"Computers&Accessories\",\"Computers&Accessories\",\"Computers&Accessories\",\"Computers&Accessories\",\"Computers&Accessories\",\"Computers&Accessories\",\"Computers&Accessories\",\"Computers&Accessories\",\"Computers&Accessories\",\"Computers&Accessories\",\"Computers&Accessories\",\"Computers&Accessories\",\"Computers&Accessories\",\"Computers&Accessories\",\"Computers&Accessories\",\"Computers&Accessories\",\"Computers&Accessories\",\"Computers&Accessories\",\"Computers&Accessories\",\"Computers&Accessories\",\"Computers&Accessories\",\"Computers&Accessories\",\"Computers&Accessories\",\"Computers&Accessories\",\"Computers&Accessories\",\"Computers&Accessories\",\"Computers&Accessories\",\"Computers&Accessories\",\"Computers&Accessories\",\"Computers&Accessories\",\"Computers&Accessories\",\"Computers&Accessories\",\"Computers&Accessories\",\"Computers&Accessories\",\"Computers&Accessories\",\"Computers&Accessories\",\"Computers&Accessories\",\"Computers&Accessories\",\"Computers&Accessories\",\"Computers&Accessories\",\"Computers&Accessories\",\"Computers&Accessories\",\"Computers&Accessories\",\"Computers&Accessories\",\"Computers&Accessories\",\"Computers&Accessories\",\"Computers&Accessories\",\"Computers&Accessories\",\"Computers&Accessories\",\"Computers&Accessories\",\"Computers&Accessories\",\"Computers&Accessories\",\"Computers&Accessories\",\"Computers&Accessories\",\"Computers&Accessories\",\"Computers&Accessories\",\"Computers&Accessories\",\"Computers&Accessories\",\"Computers&Accessories\",\"Computers&Accessories\",\"Computers&Accessories\",\"Computers&Accessories\",\"Computers&Accessories\",\"Computers&Accessories\",\"Computers&Accessories\",\"Computers&Accessories\",\"Computers&Accessories\",\"Computers&Accessories\",\"Computers&Accessories\",\"Computers&Accessories\",\"Computers&Accessories\",\"Computers&Accessories\",\"Computers&Accessories\",\"Computers&Accessories\",\"Computers&Accessories\",\"Computers&Accessories\",\"Computers&Accessories\",\"Computers&Accessories\",\"Computers&Accessories\",\"Computers&Accessories\",\"Computers&Accessories\",\"Computers&Accessories\",\"Computers&Accessories\",\"Computers&Accessories\",\"Computers&Accessories\",\"Computers&Accessories\",\"Computers&Accessories\",\"Computers&Accessories\",\"Computers&Accessories\",\"Computers&Accessories\",\"Computers&Accessories\",\"Computers&Accessories\",\"Computers&Accessories\",\"Computers&Accessories\",\"Computers&Accessories\",\"Computers&Accessories\",\"Computers&Accessories\",\"Computers&Accessories\",\"Computers&Accessories\",\"Computers&Accessories\",\"Computers&Accessories\",\"Computers&Accessories\",\"Computers&Accessories\",\"Computers&Accessories\",\"Computers&Accessories\",\"Computers&Accessories\",\"Computers&Accessories\",\"Computers&Accessories\",\"Computers&Accessories\",\"Computers&Accessories\",\"Computers&Accessories\",\"Computers&Accessories\",\"Computers&Accessories\",\"Computers&Accessories\",\"Computers&Accessories\",\"Computers&Accessories\",\"Computers&Accessories\",\"Computers&Accessories\",\"Computers&Accessories\",\"Computers&Accessories\",\"Computers&Accessories\",\"Computers&Accessories\",\"Computers&Accessories\",\"Computers&Accessories\",\"Computers&Accessories\",\"Computers&Accessories\",\"Computers&Accessories\",\"Computers&Accessories\",\"Computers&Accessories\",\"Computers&Accessories\",\"Computers&Accessories\",\"Computers&Accessories\",\"Computers&Accessories\",\"Computers&Accessories\",\"Computers&Accessories\",\"Computers&Accessories\",\"Computers&Accessories\",\"Computers&Accessories\",\"Computers&Accessories\",\"Computers&Accessories\",\"Computers&Accessories\",\"Computers&Accessories\",\"Computers&Accessories\",\"Computers&Accessories\",\"Computers&Accessories\",\"Computers&Accessories\",\"Computers&Accessories\",\"Computers&Accessories\",\"Computers&Accessories\",\"Computers&Accessories\",\"Computers&Accessories\",\"Computers&Accessories\",\"Computers&Accessories\",\"Computers&Accessories\",\"Computers&Accessories\",\"Computers&Accessories\",\"Computers&Accessories\",\"Computers&Accessories\",\"Computers&Accessories\",\"Computers&Accessories\",\"Computers&Accessories\",\"Computers&Accessories\",\"Computers&Accessories\",\"Computers&Accessories\",\"Computers&Accessories\",\"Computers&Accessories\",\"Computers&Accessories\",\"Computers&Accessories\",\"Computers&Accessories\",\"Computers&Accessories\",\"Computers&Accessories\",\"Computers&Accessories\",\"Computers&Accessories\",\"Computers&Accessories\",\"Computers&Accessories\",\"Computers&Accessories\",\"Computers&Accessories\",\"Computers&Accessories\",\"Computers&Accessories\",\"Computers&Accessories\",\"Computers&Accessories\",\"Computers&Accessories\",\"Computers&Accessories\",\"Computers&Accessories\",\"Computers&Accessories\",\"Computers&Accessories\",\"Computers&Accessories\",\"Computers&Accessories\",\"Computers&Accessories\",\"Computers&Accessories\",\"Computers&Accessories\",\"Computers&Accessories\",\"Computers&Accessories\",\"Computers&Accessories\",\"Computers&Accessories\",\"Computers&Accessories\",\"Computers&Accessories\",\"Computers&Accessories\",\"Computers&Accessories\",\"Computers&Accessories\",\"Computers&Accessories\",\"Computers&Accessories\",\"Computers&Accessories\",\"Computers&Accessories\",\"Computers&Accessories\",\"Computers&Accessories\",\"Computers&Accessories\",\"Computers&Accessories\"],\"xaxis\":\"x\",\"yaxis\":\"y\",\"type\":\"histogram\"},{\"alignmentgroup\":\"True\",\"bingroup\":\"x\",\"hovertemplate\":\"CATEGORIA=%{x}<br>count=%{y}<extra></extra>\",\"legendgroup\":\"Electronics\",\"marker\":{\"color\":\"#00FE35\",\"pattern\":{\"shape\":\"\"}},\"name\":\"Electronics\",\"offsetgroup\":\"Electronics\",\"orientation\":\"v\",\"showlegend\":true,\"texttemplate\":\"%{value}\",\"x\":[\"Electronics\",\"Electronics\",\"Electronics\",\"Electronics\",\"Electronics\",\"Electronics\",\"Electronics\",\"Electronics\",\"Electronics\",\"Electronics\",\"Electronics\",\"Electronics\",\"Electronics\",\"Electronics\",\"Electronics\",\"Electronics\",\"Electronics\",\"Electronics\",\"Electronics\",\"Electronics\",\"Electronics\",\"Electronics\",\"Electronics\",\"Electronics\",\"Electronics\",\"Electronics\",\"Electronics\",\"Electronics\",\"Electronics\",\"Electronics\",\"Electronics\",\"Electronics\",\"Electronics\",\"Electronics\",\"Electronics\",\"Electronics\",\"Electronics\",\"Electronics\",\"Electronics\",\"Electronics\",\"Electronics\",\"Electronics\",\"Electronics\",\"Electronics\",\"Electronics\",\"Electronics\",\"Electronics\",\"Electronics\",\"Electronics\",\"Electronics\",\"Electronics\",\"Electronics\",\"Electronics\",\"Electronics\",\"Electronics\",\"Electronics\",\"Electronics\",\"Electronics\",\"Electronics\",\"Electronics\",\"Electronics\",\"Electronics\",\"Electronics\",\"Electronics\",\"Electronics\",\"Electronics\",\"Electronics\",\"Electronics\",\"Electronics\",\"Electronics\",\"Electronics\",\"Electronics\",\"Electronics\",\"Electronics\",\"Electronics\",\"Electronics\",\"Electronics\",\"Electronics\",\"Electronics\",\"Electronics\",\"Electronics\",\"Electronics\",\"Electronics\",\"Electronics\",\"Electronics\",\"Electronics\",\"Electronics\",\"Electronics\",\"Electronics\",\"Electronics\",\"Electronics\",\"Electronics\",\"Electronics\",\"Electronics\",\"Electronics\",\"Electronics\",\"Electronics\",\"Electronics\",\"Electronics\",\"Electronics\",\"Electronics\",\"Electronics\",\"Electronics\",\"Electronics\",\"Electronics\",\"Electronics\",\"Electronics\",\"Electronics\",\"Electronics\",\"Electronics\",\"Electronics\",\"Electronics\",\"Electronics\",\"Electronics\",\"Electronics\",\"Electronics\",\"Electronics\",\"Electronics\",\"Electronics\",\"Electronics\",\"Electronics\",\"Electronics\",\"Electronics\",\"Electronics\",\"Electronics\",\"Electronics\",\"Electronics\",\"Electronics\",\"Electronics\",\"Electronics\",\"Electronics\",\"Electronics\",\"Electronics\",\"Electronics\",\"Electronics\",\"Electronics\",\"Electronics\",\"Electronics\",\"Electronics\",\"Electronics\",\"Electronics\",\"Electronics\",\"Electronics\",\"Electronics\",\"Electronics\",\"Electronics\",\"Electronics\",\"Electronics\",\"Electronics\",\"Electronics\",\"Electronics\",\"Electronics\",\"Electronics\",\"Electronics\",\"Electronics\",\"Electronics\",\"Electronics\",\"Electronics\",\"Electronics\",\"Electronics\",\"Electronics\",\"Electronics\",\"Electronics\",\"Electronics\",\"Electronics\",\"Electronics\",\"Electronics\",\"Electronics\",\"Electronics\",\"Electronics\",\"Electronics\",\"Electronics\",\"Electronics\",\"Electronics\",\"Electronics\",\"Electronics\",\"Electronics\",\"Electronics\",\"Electronics\",\"Electronics\",\"Electronics\",\"Electronics\",\"Electronics\",\"Electronics\",\"Electronics\",\"Electronics\",\"Electronics\",\"Electronics\",\"Electronics\",\"Electronics\",\"Electronics\",\"Electronics\",\"Electronics\",\"Electronics\",\"Electronics\",\"Electronics\",\"Electronics\",\"Electronics\",\"Electronics\",\"Electronics\",\"Electronics\",\"Electronics\",\"Electronics\",\"Electronics\",\"Electronics\",\"Electronics\",\"Electronics\",\"Electronics\",\"Electronics\",\"Electronics\",\"Electronics\",\"Electronics\",\"Electronics\",\"Electronics\",\"Electronics\",\"Electronics\",\"Electronics\",\"Electronics\",\"Electronics\",\"Electronics\",\"Electronics\",\"Electronics\",\"Electronics\",\"Electronics\",\"Electronics\",\"Electronics\",\"Electronics\",\"Electronics\",\"Electronics\",\"Electronics\",\"Electronics\",\"Electronics\",\"Electronics\",\"Electronics\",\"Electronics\",\"Electronics\",\"Electronics\",\"Electronics\",\"Electronics\",\"Electronics\",\"Electronics\",\"Electronics\",\"Electronics\",\"Electronics\",\"Electronics\",\"Electronics\",\"Electronics\",\"Electronics\",\"Electronics\",\"Electronics\",\"Electronics\",\"Electronics\",\"Electronics\",\"Electronics\",\"Electronics\",\"Electronics\",\"Electronics\",\"Electronics\",\"Electronics\",\"Electronics\",\"Electronics\",\"Electronics\",\"Electronics\",\"Electronics\",\"Electronics\",\"Electronics\",\"Electronics\",\"Electronics\",\"Electronics\",\"Electronics\",\"Electronics\",\"Electronics\",\"Electronics\",\"Electronics\",\"Electronics\",\"Electronics\",\"Electronics\",\"Electronics\",\"Electronics\",\"Electronics\",\"Electronics\",\"Electronics\",\"Electronics\",\"Electronics\",\"Electronics\",\"Electronics\",\"Electronics\",\"Electronics\",\"Electronics\",\"Electronics\",\"Electronics\",\"Electronics\",\"Electronics\",\"Electronics\",\"Electronics\",\"Electronics\",\"Electronics\",\"Electronics\",\"Electronics\",\"Electronics\",\"Electronics\",\"Electronics\",\"Electronics\",\"Electronics\",\"Electronics\",\"Electronics\",\"Electronics\",\"Electronics\",\"Electronics\",\"Electronics\",\"Electronics\",\"Electronics\",\"Electronics\",\"Electronics\",\"Electronics\",\"Electronics\",\"Electronics\",\"Electronics\",\"Electronics\",\"Electronics\",\"Electronics\",\"Electronics\",\"Electronics\",\"Electronics\",\"Electronics\",\"Electronics\",\"Electronics\",\"Electronics\",\"Electronics\",\"Electronics\",\"Electronics\",\"Electronics\",\"Electronics\",\"Electronics\",\"Electronics\",\"Electronics\",\"Electronics\",\"Electronics\",\"Electronics\",\"Electronics\",\"Electronics\",\"Electronics\",\"Electronics\",\"Electronics\",\"Electronics\",\"Electronics\",\"Electronics\",\"Electronics\",\"Electronics\",\"Electronics\",\"Electronics\",\"Electronics\",\"Electronics\",\"Electronics\",\"Electronics\",\"Electronics\",\"Electronics\",\"Electronics\",\"Electronics\",\"Electronics\",\"Electronics\",\"Electronics\",\"Electronics\",\"Electronics\",\"Electronics\",\"Electronics\",\"Electronics\",\"Electronics\",\"Electronics\",\"Electronics\",\"Electronics\",\"Electronics\",\"Electronics\",\"Electronics\",\"Electronics\",\"Electronics\",\"Electronics\",\"Electronics\",\"Electronics\",\"Electronics\",\"Electronics\",\"Electronics\",\"Electronics\",\"Electronics\",\"Electronics\",\"Electronics\",\"Electronics\",\"Electronics\",\"Electronics\",\"Electronics\",\"Electronics\",\"Electronics\",\"Electronics\",\"Electronics\",\"Electronics\",\"Electronics\",\"Electronics\",\"Electronics\",\"Electronics\",\"Electronics\",\"Electronics\",\"Electronics\",\"Electronics\",\"Electronics\",\"Electronics\",\"Electronics\",\"Electronics\",\"Electronics\",\"Electronics\",\"Electronics\",\"Electronics\",\"Electronics\",\"Electronics\",\"Electronics\",\"Electronics\",\"Electronics\",\"Electronics\",\"Electronics\",\"Electronics\",\"Electronics\",\"Electronics\",\"Electronics\",\"Electronics\",\"Electronics\",\"Electronics\",\"Electronics\",\"Electronics\",\"Electronics\",\"Electronics\",\"Electronics\",\"Electronics\",\"Electronics\",\"Electronics\",\"Electronics\",\"Electronics\",\"Electronics\",\"Electronics\",\"Electronics\",\"Electronics\",\"Electronics\",\"Electronics\",\"Electronics\",\"Electronics\",\"Electronics\",\"Electronics\",\"Electronics\",\"Electronics\",\"Electronics\",\"Electronics\",\"Electronics\",\"Electronics\",\"Electronics\",\"Electronics\",\"Electronics\",\"Electronics\",\"Electronics\",\"Electronics\",\"Electronics\",\"Electronics\",\"Electronics\",\"Electronics\",\"Electronics\",\"Electronics\",\"Electronics\",\"Electronics\",\"Electronics\",\"Electronics\",\"Electronics\",\"Electronics\",\"Electronics\",\"Electronics\",\"Electronics\",\"Electronics\",\"Electronics\",\"Electronics\",\"Electronics\",\"Electronics\",\"Electronics\",\"Electronics\",\"Electronics\",\"Electronics\",\"Electronics\",\"Electronics\",\"Electronics\",\"Electronics\",\"Electronics\",\"Electronics\",\"Electronics\",\"Electronics\",\"Electronics\",\"Electronics\",\"Electronics\",\"Electronics\",\"Electronics\",\"Electronics\",\"Electronics\",\"Electronics\",\"Electronics\",\"Electronics\",\"Electronics\",\"Electronics\",\"Electronics\",\"Electronics\",\"Electronics\",\"Electronics\",\"Electronics\",\"Electronics\",\"Electronics\",\"Electronics\",\"Electronics\",\"Electronics\",\"Electronics\",\"Electronics\",\"Electronics\",\"Electronics\",\"Electronics\",\"Electronics\",\"Electronics\",\"Electronics\",\"Electronics\",\"Electronics\",\"Electronics\",\"Electronics\",\"Electronics\",\"Electronics\",\"Electronics\"],\"xaxis\":\"x\",\"yaxis\":\"y\",\"type\":\"histogram\"},{\"alignmentgroup\":\"True\",\"bingroup\":\"x\",\"hovertemplate\":\"CATEGORIA=%{x}<br>count=%{y}<extra></extra>\",\"legendgroup\":\"MusicalInstruments\",\"marker\":{\"color\":\"#6A76FC\",\"pattern\":{\"shape\":\"\"}},\"name\":\"MusicalInstruments\",\"offsetgroup\":\"MusicalInstruments\",\"orientation\":\"v\",\"showlegend\":true,\"texttemplate\":\"%{value}\",\"x\":[\"MusicalInstruments\",\"MusicalInstruments\"],\"xaxis\":\"x\",\"yaxis\":\"y\",\"type\":\"histogram\"},{\"alignmentgroup\":\"True\",\"bingroup\":\"x\",\"hovertemplate\":\"CATEGORIA=%{x}<br>count=%{y}<extra></extra>\",\"legendgroup\":\"OfficeProducts\",\"marker\":{\"color\":\"#FED4C4\",\"pattern\":{\"shape\":\"\"}},\"name\":\"OfficeProducts\",\"offsetgroup\":\"OfficeProducts\",\"orientation\":\"v\",\"showlegend\":true,\"texttemplate\":\"%{value}\",\"x\":[\"OfficeProducts\",\"OfficeProducts\",\"OfficeProducts\",\"OfficeProducts\",\"OfficeProducts\",\"OfficeProducts\",\"OfficeProducts\",\"OfficeProducts\",\"OfficeProducts\",\"OfficeProducts\",\"OfficeProducts\",\"OfficeProducts\",\"OfficeProducts\",\"OfficeProducts\",\"OfficeProducts\",\"OfficeProducts\",\"OfficeProducts\",\"OfficeProducts\",\"OfficeProducts\",\"OfficeProducts\",\"OfficeProducts\",\"OfficeProducts\",\"OfficeProducts\",\"OfficeProducts\",\"OfficeProducts\",\"OfficeProducts\",\"OfficeProducts\",\"OfficeProducts\",\"OfficeProducts\",\"OfficeProducts\",\"OfficeProducts\"],\"xaxis\":\"x\",\"yaxis\":\"y\",\"type\":\"histogram\"},{\"alignmentgroup\":\"True\",\"bingroup\":\"x\",\"hovertemplate\":\"CATEGORIA=%{x}<br>count=%{y}<extra></extra>\",\"legendgroup\":\"Home&Kitchen\",\"marker\":{\"color\":\"#FE00CE\",\"pattern\":{\"shape\":\"\"}},\"name\":\"Home&Kitchen\",\"offsetgroup\":\"Home&Kitchen\",\"orientation\":\"v\",\"showlegend\":true,\"texttemplate\":\"%{value}\",\"x\":[\"Home&Kitchen\",\"Home&Kitchen\",\"Home&Kitchen\",\"Home&Kitchen\",\"Home&Kitchen\",\"Home&Kitchen\",\"Home&Kitchen\",\"Home&Kitchen\",\"Home&Kitchen\",\"Home&Kitchen\",\"Home&Kitchen\",\"Home&Kitchen\",\"Home&Kitchen\",\"Home&Kitchen\",\"Home&Kitchen\",\"Home&Kitchen\",\"Home&Kitchen\",\"Home&Kitchen\",\"Home&Kitchen\",\"Home&Kitchen\",\"Home&Kitchen\",\"Home&Kitchen\",\"Home&Kitchen\",\"Home&Kitchen\",\"Home&Kitchen\",\"Home&Kitchen\",\"Home&Kitchen\",\"Home&Kitchen\",\"Home&Kitchen\",\"Home&Kitchen\",\"Home&Kitchen\",\"Home&Kitchen\",\"Home&Kitchen\",\"Home&Kitchen\",\"Home&Kitchen\",\"Home&Kitchen\",\"Home&Kitchen\",\"Home&Kitchen\",\"Home&Kitchen\",\"Home&Kitchen\",\"Home&Kitchen\",\"Home&Kitchen\",\"Home&Kitchen\",\"Home&Kitchen\",\"Home&Kitchen\",\"Home&Kitchen\",\"Home&Kitchen\",\"Home&Kitchen\",\"Home&Kitchen\",\"Home&Kitchen\",\"Home&Kitchen\",\"Home&Kitchen\",\"Home&Kitchen\",\"Home&Kitchen\",\"Home&Kitchen\",\"Home&Kitchen\",\"Home&Kitchen\",\"Home&Kitchen\",\"Home&Kitchen\",\"Home&Kitchen\",\"Home&Kitchen\",\"Home&Kitchen\",\"Home&Kitchen\",\"Home&Kitchen\",\"Home&Kitchen\",\"Home&Kitchen\",\"Home&Kitchen\",\"Home&Kitchen\",\"Home&Kitchen\",\"Home&Kitchen\",\"Home&Kitchen\",\"Home&Kitchen\",\"Home&Kitchen\",\"Home&Kitchen\",\"Home&Kitchen\",\"Home&Kitchen\",\"Home&Kitchen\",\"Home&Kitchen\",\"Home&Kitchen\",\"Home&Kitchen\",\"Home&Kitchen\",\"Home&Kitchen\",\"Home&Kitchen\",\"Home&Kitchen\",\"Home&Kitchen\",\"Home&Kitchen\",\"Home&Kitchen\",\"Home&Kitchen\",\"Home&Kitchen\",\"Home&Kitchen\",\"Home&Kitchen\",\"Home&Kitchen\",\"Home&Kitchen\",\"Home&Kitchen\",\"Home&Kitchen\",\"Home&Kitchen\",\"Home&Kitchen\",\"Home&Kitchen\",\"Home&Kitchen\",\"Home&Kitchen\",\"Home&Kitchen\",\"Home&Kitchen\",\"Home&Kitchen\",\"Home&Kitchen\",\"Home&Kitchen\",\"Home&Kitchen\",\"Home&Kitchen\",\"Home&Kitchen\",\"Home&Kitchen\",\"Home&Kitchen\",\"Home&Kitchen\",\"Home&Kitchen\",\"Home&Kitchen\",\"Home&Kitchen\",\"Home&Kitchen\",\"Home&Kitchen\",\"Home&Kitchen\",\"Home&Kitchen\",\"Home&Kitchen\",\"Home&Kitchen\",\"Home&Kitchen\",\"Home&Kitchen\",\"Home&Kitchen\",\"Home&Kitchen\",\"Home&Kitchen\",\"Home&Kitchen\",\"Home&Kitchen\",\"Home&Kitchen\",\"Home&Kitchen\",\"Home&Kitchen\",\"Home&Kitchen\",\"Home&Kitchen\",\"Home&Kitchen\",\"Home&Kitchen\",\"Home&Kitchen\",\"Home&Kitchen\",\"Home&Kitchen\",\"Home&Kitchen\",\"Home&Kitchen\",\"Home&Kitchen\",\"Home&Kitchen\",\"Home&Kitchen\",\"Home&Kitchen\",\"Home&Kitchen\",\"Home&Kitchen\",\"Home&Kitchen\",\"Home&Kitchen\",\"Home&Kitchen\",\"Home&Kitchen\",\"Home&Kitchen\",\"Home&Kitchen\",\"Home&Kitchen\",\"Home&Kitchen\",\"Home&Kitchen\",\"Home&Kitchen\",\"Home&Kitchen\",\"Home&Kitchen\",\"Home&Kitchen\",\"Home&Kitchen\",\"Home&Kitchen\",\"Home&Kitchen\",\"Home&Kitchen\",\"Home&Kitchen\",\"Home&Kitchen\",\"Home&Kitchen\",\"Home&Kitchen\",\"Home&Kitchen\",\"Home&Kitchen\",\"Home&Kitchen\",\"Home&Kitchen\",\"Home&Kitchen\",\"Home&Kitchen\",\"Home&Kitchen\",\"Home&Kitchen\",\"Home&Kitchen\",\"Home&Kitchen\",\"Home&Kitchen\",\"Home&Kitchen\",\"Home&Kitchen\",\"Home&Kitchen\",\"Home&Kitchen\",\"Home&Kitchen\",\"Home&Kitchen\",\"Home&Kitchen\",\"Home&Kitchen\",\"Home&Kitchen\",\"Home&Kitchen\",\"Home&Kitchen\",\"Home&Kitchen\",\"Home&Kitchen\",\"Home&Kitchen\",\"Home&Kitchen\",\"Home&Kitchen\",\"Home&Kitchen\",\"Home&Kitchen\",\"Home&Kitchen\",\"Home&Kitchen\",\"Home&Kitchen\",\"Home&Kitchen\",\"Home&Kitchen\",\"Home&Kitchen\",\"Home&Kitchen\",\"Home&Kitchen\",\"Home&Kitchen\",\"Home&Kitchen\",\"Home&Kitchen\",\"Home&Kitchen\",\"Home&Kitchen\",\"Home&Kitchen\",\"Home&Kitchen\",\"Home&Kitchen\",\"Home&Kitchen\",\"Home&Kitchen\",\"Home&Kitchen\",\"Home&Kitchen\",\"Home&Kitchen\",\"Home&Kitchen\",\"Home&Kitchen\",\"Home&Kitchen\",\"Home&Kitchen\",\"Home&Kitchen\",\"Home&Kitchen\",\"Home&Kitchen\",\"Home&Kitchen\",\"Home&Kitchen\",\"Home&Kitchen\",\"Home&Kitchen\",\"Home&Kitchen\",\"Home&Kitchen\",\"Home&Kitchen\",\"Home&Kitchen\",\"Home&Kitchen\",\"Home&Kitchen\",\"Home&Kitchen\",\"Home&Kitchen\",\"Home&Kitchen\",\"Home&Kitchen\",\"Home&Kitchen\",\"Home&Kitchen\",\"Home&Kitchen\",\"Home&Kitchen\",\"Home&Kitchen\",\"Home&Kitchen\",\"Home&Kitchen\",\"Home&Kitchen\",\"Home&Kitchen\",\"Home&Kitchen\",\"Home&Kitchen\",\"Home&Kitchen\",\"Home&Kitchen\",\"Home&Kitchen\",\"Home&Kitchen\",\"Home&Kitchen\",\"Home&Kitchen\",\"Home&Kitchen\",\"Home&Kitchen\",\"Home&Kitchen\",\"Home&Kitchen\",\"Home&Kitchen\",\"Home&Kitchen\",\"Home&Kitchen\",\"Home&Kitchen\",\"Home&Kitchen\",\"Home&Kitchen\",\"Home&Kitchen\",\"Home&Kitchen\",\"Home&Kitchen\",\"Home&Kitchen\",\"Home&Kitchen\",\"Home&Kitchen\",\"Home&Kitchen\",\"Home&Kitchen\",\"Home&Kitchen\",\"Home&Kitchen\",\"Home&Kitchen\",\"Home&Kitchen\",\"Home&Kitchen\",\"Home&Kitchen\",\"Home&Kitchen\",\"Home&Kitchen\",\"Home&Kitchen\",\"Home&Kitchen\",\"Home&Kitchen\",\"Home&Kitchen\",\"Home&Kitchen\",\"Home&Kitchen\",\"Home&Kitchen\",\"Home&Kitchen\",\"Home&Kitchen\",\"Home&Kitchen\",\"Home&Kitchen\",\"Home&Kitchen\",\"Home&Kitchen\",\"Home&Kitchen\",\"Home&Kitchen\",\"Home&Kitchen\",\"Home&Kitchen\",\"Home&Kitchen\",\"Home&Kitchen\",\"Home&Kitchen\",\"Home&Kitchen\",\"Home&Kitchen\",\"Home&Kitchen\",\"Home&Kitchen\",\"Home&Kitchen\",\"Home&Kitchen\",\"Home&Kitchen\",\"Home&Kitchen\",\"Home&Kitchen\",\"Home&Kitchen\",\"Home&Kitchen\",\"Home&Kitchen\",\"Home&Kitchen\",\"Home&Kitchen\",\"Home&Kitchen\",\"Home&Kitchen\",\"Home&Kitchen\",\"Home&Kitchen\",\"Home&Kitchen\",\"Home&Kitchen\",\"Home&Kitchen\",\"Home&Kitchen\",\"Home&Kitchen\",\"Home&Kitchen\",\"Home&Kitchen\",\"Home&Kitchen\",\"Home&Kitchen\",\"Home&Kitchen\",\"Home&Kitchen\",\"Home&Kitchen\",\"Home&Kitchen\",\"Home&Kitchen\",\"Home&Kitchen\",\"Home&Kitchen\",\"Home&Kitchen\",\"Home&Kitchen\",\"Home&Kitchen\",\"Home&Kitchen\",\"Home&Kitchen\",\"Home&Kitchen\",\"Home&Kitchen\",\"Home&Kitchen\",\"Home&Kitchen\",\"Home&Kitchen\",\"Home&Kitchen\",\"Home&Kitchen\",\"Home&Kitchen\",\"Home&Kitchen\",\"Home&Kitchen\",\"Home&Kitchen\",\"Home&Kitchen\",\"Home&Kitchen\",\"Home&Kitchen\",\"Home&Kitchen\",\"Home&Kitchen\",\"Home&Kitchen\",\"Home&Kitchen\",\"Home&Kitchen\",\"Home&Kitchen\",\"Home&Kitchen\",\"Home&Kitchen\",\"Home&Kitchen\",\"Home&Kitchen\",\"Home&Kitchen\",\"Home&Kitchen\",\"Home&Kitchen\",\"Home&Kitchen\",\"Home&Kitchen\",\"Home&Kitchen\",\"Home&Kitchen\",\"Home&Kitchen\",\"Home&Kitchen\",\"Home&Kitchen\",\"Home&Kitchen\",\"Home&Kitchen\",\"Home&Kitchen\",\"Home&Kitchen\",\"Home&Kitchen\",\"Home&Kitchen\",\"Home&Kitchen\",\"Home&Kitchen\",\"Home&Kitchen\",\"Home&Kitchen\",\"Home&Kitchen\",\"Home&Kitchen\",\"Home&Kitchen\",\"Home&Kitchen\",\"Home&Kitchen\",\"Home&Kitchen\",\"Home&Kitchen\",\"Home&Kitchen\",\"Home&Kitchen\",\"Home&Kitchen\",\"Home&Kitchen\",\"Home&Kitchen\",\"Home&Kitchen\",\"Home&Kitchen\",\"Home&Kitchen\",\"Home&Kitchen\",\"Home&Kitchen\",\"Home&Kitchen\",\"Home&Kitchen\",\"Home&Kitchen\",\"Home&Kitchen\",\"Home&Kitchen\",\"Home&Kitchen\",\"Home&Kitchen\",\"Home&Kitchen\",\"Home&Kitchen\",\"Home&Kitchen\",\"Home&Kitchen\",\"Home&Kitchen\",\"Home&Kitchen\",\"Home&Kitchen\",\"Home&Kitchen\",\"Home&Kitchen\",\"Home&Kitchen\",\"Home&Kitchen\",\"Home&Kitchen\",\"Home&Kitchen\",\"Home&Kitchen\",\"Home&Kitchen\",\"Home&Kitchen\",\"Home&Kitchen\",\"Home&Kitchen\",\"Home&Kitchen\",\"Home&Kitchen\",\"Home&Kitchen\",\"Home&Kitchen\",\"Home&Kitchen\",\"Home&Kitchen\",\"Home&Kitchen\",\"Home&Kitchen\",\"Home&Kitchen\",\"Home&Kitchen\",\"Home&Kitchen\",\"Home&Kitchen\",\"Home&Kitchen\",\"Home&Kitchen\",\"Home&Kitchen\",\"Home&Kitchen\",\"Home&Kitchen\",\"Home&Kitchen\",\"Home&Kitchen\",\"Home&Kitchen\",\"Home&Kitchen\",\"Home&Kitchen\",\"Home&Kitchen\"],\"xaxis\":\"x\",\"yaxis\":\"y\",\"type\":\"histogram\"},{\"alignmentgroup\":\"True\",\"bingroup\":\"x\",\"hovertemplate\":\"CATEGORIA=%{x}<br>count=%{y}<extra></extra>\",\"legendgroup\":\"HomeImprovement\",\"marker\":{\"color\":\"#0DF9FF\",\"pattern\":{\"shape\":\"\"}},\"name\":\"HomeImprovement\",\"offsetgroup\":\"HomeImprovement\",\"orientation\":\"v\",\"showlegend\":true,\"texttemplate\":\"%{value}\",\"x\":[\"HomeImprovement\",\"HomeImprovement\"],\"xaxis\":\"x\",\"yaxis\":\"y\",\"type\":\"histogram\"},{\"alignmentgroup\":\"True\",\"bingroup\":\"x\",\"hovertemplate\":\"CATEGORIA=%{x}<br>count=%{y}<extra></extra>\",\"legendgroup\":\"Toys&Games\",\"marker\":{\"color\":\"#F6F926\",\"pattern\":{\"shape\":\"\"}},\"name\":\"Toys&Games\",\"offsetgroup\":\"Toys&Games\",\"orientation\":\"v\",\"showlegend\":true,\"texttemplate\":\"%{value}\",\"x\":[\"Toys&Games\"],\"xaxis\":\"x\",\"yaxis\":\"y\",\"type\":\"histogram\"},{\"alignmentgroup\":\"True\",\"bingroup\":\"x\",\"hovertemplate\":\"CATEGORIA=%{x}<br>count=%{y}<extra></extra>\",\"legendgroup\":\"Car&Motorbike\",\"marker\":{\"color\":\"#FF9616\",\"pattern\":{\"shape\":\"\"}},\"name\":\"Car&Motorbike\",\"offsetgroup\":\"Car&Motorbike\",\"orientation\":\"v\",\"showlegend\":true,\"texttemplate\":\"%{value}\",\"x\":[\"Car&Motorbike\"],\"xaxis\":\"x\",\"yaxis\":\"y\",\"type\":\"histogram\"},{\"alignmentgroup\":\"True\",\"bingroup\":\"x\",\"hovertemplate\":\"CATEGORIA=%{x}<br>count=%{y}<extra></extra>\",\"legendgroup\":\"Health&PersonalCare\",\"marker\":{\"color\":\"#479B55\",\"pattern\":{\"shape\":\"\"}},\"name\":\"Health&PersonalCare\",\"offsetgroup\":\"Health&PersonalCare\",\"orientation\":\"v\",\"showlegend\":true,\"texttemplate\":\"%{value}\",\"x\":[\"Health&PersonalCare\"],\"xaxis\":\"x\",\"yaxis\":\"y\",\"type\":\"histogram\"}],                        {\"template\":{\"data\":{\"histogram2dcontour\":[{\"type\":\"histogram2dcontour\",\"colorbar\":{\"outlinewidth\":0,\"ticks\":\"\"},\"colorscale\":[[0.0,\"#0d0887\"],[0.1111111111111111,\"#46039f\"],[0.2222222222222222,\"#7201a8\"],[0.3333333333333333,\"#9c179e\"],[0.4444444444444444,\"#bd3786\"],[0.5555555555555556,\"#d8576b\"],[0.6666666666666666,\"#ed7953\"],[0.7777777777777778,\"#fb9f3a\"],[0.8888888888888888,\"#fdca26\"],[1.0,\"#f0f921\"]]}],\"choropleth\":[{\"type\":\"choropleth\",\"colorbar\":{\"outlinewidth\":0,\"ticks\":\"\"}}],\"histogram2d\":[{\"type\":\"histogram2d\",\"colorbar\":{\"outlinewidth\":0,\"ticks\":\"\"},\"colorscale\":[[0.0,\"#0d0887\"],[0.1111111111111111,\"#46039f\"],[0.2222222222222222,\"#7201a8\"],[0.3333333333333333,\"#9c179e\"],[0.4444444444444444,\"#bd3786\"],[0.5555555555555556,\"#d8576b\"],[0.6666666666666666,\"#ed7953\"],[0.7777777777777778,\"#fb9f3a\"],[0.8888888888888888,\"#fdca26\"],[1.0,\"#f0f921\"]]}],\"heatmap\":[{\"type\":\"heatmap\",\"colorbar\":{\"outlinewidth\":0,\"ticks\":\"\"},\"colorscale\":[[0.0,\"#0d0887\"],[0.1111111111111111,\"#46039f\"],[0.2222222222222222,\"#7201a8\"],[0.3333333333333333,\"#9c179e\"],[0.4444444444444444,\"#bd3786\"],[0.5555555555555556,\"#d8576b\"],[0.6666666666666666,\"#ed7953\"],[0.7777777777777778,\"#fb9f3a\"],[0.8888888888888888,\"#fdca26\"],[1.0,\"#f0f921\"]]}],\"heatmapgl\":[{\"type\":\"heatmapgl\",\"colorbar\":{\"outlinewidth\":0,\"ticks\":\"\"},\"colorscale\":[[0.0,\"#0d0887\"],[0.1111111111111111,\"#46039f\"],[0.2222222222222222,\"#7201a8\"],[0.3333333333333333,\"#9c179e\"],[0.4444444444444444,\"#bd3786\"],[0.5555555555555556,\"#d8576b\"],[0.6666666666666666,\"#ed7953\"],[0.7777777777777778,\"#fb9f3a\"],[0.8888888888888888,\"#fdca26\"],[1.0,\"#f0f921\"]]}],\"contourcarpet\":[{\"type\":\"contourcarpet\",\"colorbar\":{\"outlinewidth\":0,\"ticks\":\"\"}}],\"contour\":[{\"type\":\"contour\",\"colorbar\":{\"outlinewidth\":0,\"ticks\":\"\"},\"colorscale\":[[0.0,\"#0d0887\"],[0.1111111111111111,\"#46039f\"],[0.2222222222222222,\"#7201a8\"],[0.3333333333333333,\"#9c179e\"],[0.4444444444444444,\"#bd3786\"],[0.5555555555555556,\"#d8576b\"],[0.6666666666666666,\"#ed7953\"],[0.7777777777777778,\"#fb9f3a\"],[0.8888888888888888,\"#fdca26\"],[1.0,\"#f0f921\"]]}],\"surface\":[{\"type\":\"surface\",\"colorbar\":{\"outlinewidth\":0,\"ticks\":\"\"},\"colorscale\":[[0.0,\"#0d0887\"],[0.1111111111111111,\"#46039f\"],[0.2222222222222222,\"#7201a8\"],[0.3333333333333333,\"#9c179e\"],[0.4444444444444444,\"#bd3786\"],[0.5555555555555556,\"#d8576b\"],[0.6666666666666666,\"#ed7953\"],[0.7777777777777778,\"#fb9f3a\"],[0.8888888888888888,\"#fdca26\"],[1.0,\"#f0f921\"]]}],\"mesh3d\":[{\"type\":\"mesh3d\",\"colorbar\":{\"outlinewidth\":0,\"ticks\":\"\"}}],\"scatter\":[{\"fillpattern\":{\"fillmode\":\"overlay\",\"size\":10,\"solidity\":0.2},\"type\":\"scatter\"}],\"parcoords\":[{\"type\":\"parcoords\",\"line\":{\"colorbar\":{\"outlinewidth\":0,\"ticks\":\"\"}}}],\"scatterpolargl\":[{\"type\":\"scatterpolargl\",\"marker\":{\"colorbar\":{\"outlinewidth\":0,\"ticks\":\"\"}}}],\"bar\":[{\"error_x\":{\"color\":\"#2a3f5f\"},\"error_y\":{\"color\":\"#2a3f5f\"},\"marker\":{\"line\":{\"color\":\"#E5ECF6\",\"width\":0.5},\"pattern\":{\"fillmode\":\"overlay\",\"size\":10,\"solidity\":0.2}},\"type\":\"bar\"}],\"scattergeo\":[{\"type\":\"scattergeo\",\"marker\":{\"colorbar\":{\"outlinewidth\":0,\"ticks\":\"\"}}}],\"scatterpolar\":[{\"type\":\"scatterpolar\",\"marker\":{\"colorbar\":{\"outlinewidth\":0,\"ticks\":\"\"}}}],\"histogram\":[{\"marker\":{\"pattern\":{\"fillmode\":\"overlay\",\"size\":10,\"solidity\":0.2}},\"type\":\"histogram\"}],\"scattergl\":[{\"type\":\"scattergl\",\"marker\":{\"colorbar\":{\"outlinewidth\":0,\"ticks\":\"\"}}}],\"scatter3d\":[{\"type\":\"scatter3d\",\"line\":{\"colorbar\":{\"outlinewidth\":0,\"ticks\":\"\"}},\"marker\":{\"colorbar\":{\"outlinewidth\":0,\"ticks\":\"\"}}}],\"scattermapbox\":[{\"type\":\"scattermapbox\",\"marker\":{\"colorbar\":{\"outlinewidth\":0,\"ticks\":\"\"}}}],\"scatterternary\":[{\"type\":\"scatterternary\",\"marker\":{\"colorbar\":{\"outlinewidth\":0,\"ticks\":\"\"}}}],\"scattercarpet\":[{\"type\":\"scattercarpet\",\"marker\":{\"colorbar\":{\"outlinewidth\":0,\"ticks\":\"\"}}}],\"carpet\":[{\"aaxis\":{\"endlinecolor\":\"#2a3f5f\",\"gridcolor\":\"white\",\"linecolor\":\"white\",\"minorgridcolor\":\"white\",\"startlinecolor\":\"#2a3f5f\"},\"baxis\":{\"endlinecolor\":\"#2a3f5f\",\"gridcolor\":\"white\",\"linecolor\":\"white\",\"minorgridcolor\":\"white\",\"startlinecolor\":\"#2a3f5f\"},\"type\":\"carpet\"}],\"table\":[{\"cells\":{\"fill\":{\"color\":\"#EBF0F8\"},\"line\":{\"color\":\"white\"}},\"header\":{\"fill\":{\"color\":\"#C8D4E3\"},\"line\":{\"color\":\"white\"}},\"type\":\"table\"}],\"barpolar\":[{\"marker\":{\"line\":{\"color\":\"#E5ECF6\",\"width\":0.5},\"pattern\":{\"fillmode\":\"overlay\",\"size\":10,\"solidity\":0.2}},\"type\":\"barpolar\"}],\"pie\":[{\"automargin\":true,\"type\":\"pie\"}]},\"layout\":{\"autotypenumbers\":\"strict\",\"colorway\":[\"#636efa\",\"#EF553B\",\"#00cc96\",\"#ab63fa\",\"#FFA15A\",\"#19d3f3\",\"#FF6692\",\"#B6E880\",\"#FF97FF\",\"#FECB52\"],\"font\":{\"color\":\"#2a3f5f\"},\"hovermode\":\"closest\",\"hoverlabel\":{\"align\":\"left\"},\"paper_bgcolor\":\"white\",\"plot_bgcolor\":\"#E5ECF6\",\"polar\":{\"bgcolor\":\"#E5ECF6\",\"angularaxis\":{\"gridcolor\":\"white\",\"linecolor\":\"white\",\"ticks\":\"\"},\"radialaxis\":{\"gridcolor\":\"white\",\"linecolor\":\"white\",\"ticks\":\"\"}},\"ternary\":{\"bgcolor\":\"#E5ECF6\",\"aaxis\":{\"gridcolor\":\"white\",\"linecolor\":\"white\",\"ticks\":\"\"},\"baxis\":{\"gridcolor\":\"white\",\"linecolor\":\"white\",\"ticks\":\"\"},\"caxis\":{\"gridcolor\":\"white\",\"linecolor\":\"white\",\"ticks\":\"\"}},\"coloraxis\":{\"colorbar\":{\"outlinewidth\":0,\"ticks\":\"\"}},\"colorscale\":{\"sequential\":[[0.0,\"#0d0887\"],[0.1111111111111111,\"#46039f\"],[0.2222222222222222,\"#7201a8\"],[0.3333333333333333,\"#9c179e\"],[0.4444444444444444,\"#bd3786\"],[0.5555555555555556,\"#d8576b\"],[0.6666666666666666,\"#ed7953\"],[0.7777777777777778,\"#fb9f3a\"],[0.8888888888888888,\"#fdca26\"],[1.0,\"#f0f921\"]],\"sequentialminus\":[[0.0,\"#0d0887\"],[0.1111111111111111,\"#46039f\"],[0.2222222222222222,\"#7201a8\"],[0.3333333333333333,\"#9c179e\"],[0.4444444444444444,\"#bd3786\"],[0.5555555555555556,\"#d8576b\"],[0.6666666666666666,\"#ed7953\"],[0.7777777777777778,\"#fb9f3a\"],[0.8888888888888888,\"#fdca26\"],[1.0,\"#f0f921\"]],\"diverging\":[[0,\"#8e0152\"],[0.1,\"#c51b7d\"],[0.2,\"#de77ae\"],[0.3,\"#f1b6da\"],[0.4,\"#fde0ef\"],[0.5,\"#f7f7f7\"],[0.6,\"#e6f5d0\"],[0.7,\"#b8e186\"],[0.8,\"#7fbc41\"],[0.9,\"#4d9221\"],[1,\"#276419\"]]},\"xaxis\":{\"gridcolor\":\"white\",\"linecolor\":\"white\",\"ticks\":\"\",\"title\":{\"standoff\":15},\"zerolinecolor\":\"white\",\"automargin\":true,\"zerolinewidth\":2},\"yaxis\":{\"gridcolor\":\"white\",\"linecolor\":\"white\",\"ticks\":\"\",\"title\":{\"standoff\":15},\"zerolinecolor\":\"white\",\"automargin\":true,\"zerolinewidth\":2},\"scene\":{\"xaxis\":{\"backgroundcolor\":\"#E5ECF6\",\"gridcolor\":\"white\",\"linecolor\":\"white\",\"showbackground\":true,\"ticks\":\"\",\"zerolinecolor\":\"white\",\"gridwidth\":2},\"yaxis\":{\"backgroundcolor\":\"#E5ECF6\",\"gridcolor\":\"white\",\"linecolor\":\"white\",\"showbackground\":true,\"ticks\":\"\",\"zerolinecolor\":\"white\",\"gridwidth\":2},\"zaxis\":{\"backgroundcolor\":\"#E5ECF6\",\"gridcolor\":\"white\",\"linecolor\":\"white\",\"showbackground\":true,\"ticks\":\"\",\"zerolinecolor\":\"white\",\"gridwidth\":2}},\"shapedefaults\":{\"line\":{\"color\":\"#2a3f5f\"}},\"annotationdefaults\":{\"arrowcolor\":\"#2a3f5f\",\"arrowhead\":0,\"arrowwidth\":1},\"geo\":{\"bgcolor\":\"white\",\"landcolor\":\"#E5ECF6\",\"subunitcolor\":\"white\",\"showland\":true,\"showlakes\":true,\"lakecolor\":\"white\"},\"title\":{\"x\":0.05},\"mapbox\":{\"style\":\"light\"}}},\"xaxis\":{\"anchor\":\"y\",\"domain\":[0.0,1.0],\"title\":{\"text\":\"Categoria\"},\"categoryorder\":\"total descending\",\"categoryarray\":[\"Computers&Accessories\",\"Electronics\",\"MusicalInstruments\",\"OfficeProducts\",\"Home&Kitchen\",\"HomeImprovement\",\"Toys&Games\",\"Car&Motorbike\",\"Health&PersonalCare\"],\"showline\":true,\"linewidth\":1,\"linecolor\":\"lightgrey\"},\"yaxis\":{\"anchor\":\"x\",\"domain\":[0.0,1.0],\"title\":{\"text\":\"Contagem\"},\"showline\":true,\"linewidth\":1,\"linecolor\":\"lightgrey\"},\"legend\":{\"title\":{\"text\":\"CATEGORIA\"},\"tracegroupgap\":0},\"margin\":{\"t\":60},\"barmode\":\"relative\",\"width\":900,\"font\":{\"size\":12},\"title\":{\"font\":{\"size\":22},\"text\":\"CONTAGEM DE CATEGORIAS\",\"x\":0.5},\"plot_bgcolor\":\"rgb(250, 250, 250)\",\"showlegend\":false},                        {\"responsive\": true}                    ).then(function(){\n",
              "                            \n",
              "var gd = document.getElementById('549c9810-207f-4e84-8227-403810391e26');\n",
              "var x = new MutationObserver(function (mutations, observer) {{\n",
              "        var display = window.getComputedStyle(gd).display;\n",
              "        if (!display || display === 'none') {{\n",
              "            console.log([gd, 'removed!']);\n",
              "            Plotly.purge(gd);\n",
              "            observer.disconnect();\n",
              "        }}\n",
              "}});\n",
              "\n",
              "// Listen for the removal of the full notebook cells\n",
              "var notebookContainer = gd.closest('#notebook-container');\n",
              "if (notebookContainer) {{\n",
              "    x.observe(notebookContainer, {childList: true});\n",
              "}}\n",
              "\n",
              "// Listen for the clearing of the current output cell\n",
              "var outputEl = gd.closest('.output');\n",
              "if (outputEl) {{\n",
              "    x.observe(outputEl, {childList: true});\n",
              "}}\n",
              "\n",
              "                        })                };                            </script>        </div>\n",
              "</body>\n",
              "</html>"
            ]
          },
          "metadata": {}
        }
      ]
    },
    {
      "cell_type": "markdown",
      "source": [
        "Com isso, percebesse uma quantidade de amostras polarizada.  \n",
        "\n",
        "A quantidade de avaliações acerca de determinado produto demonstra o interesse do consumidor em relatar algo sobre o mesmo.  Assim, se faz necessário uma análise acerca disso."
      ],
      "metadata": {
        "id": "hxereK9dIGw9"
      }
    },
    {
      "cell_type": "code",
      "source": [
        "aval_categoria = px.strip(df, x=\"CATEGORIA\", y=\"TOTAL_AVALIACOES\", width=900,\n",
        "                          color_discrete_sequence=tema, color=\"CATEGORIA\")\n",
        "\n",
        "aval_categoria.update_layout(font_size=12, xaxis=dict(title=\"Categoria\"),\n",
        "                             yaxis=dict(title=\"Contagem\"),\n",
        "                             title=dict(text=\"TOTAL DE AVALIAÇÕES POR CATEGORIA\",\n",
        "                                        x=0.5, font_size=22),\n",
        "                             plot_bgcolor=\"rgb(250, 250, 250)\",\n",
        "                             showlegend=False)\n",
        "\n",
        "aval_categoria.update_xaxes(showline=True, linewidth=1, linecolor=\"lightgrey\")\n",
        "\n",
        "aval_categoria.update_yaxes(showline=True, linewidth=1, linecolor=\"lightgrey\")"
      ],
      "metadata": {
        "id": "mLUCipSEu9iy",
        "colab": {
          "base_uri": "https://localhost:8080/",
          "height": 542
        },
        "outputId": "aab34f1d-da3e-4597-8251-0048df9b1f8a"
      },
      "execution_count": 32,
      "outputs": [
        {
          "output_type": "display_data",
          "data": {
            "text/html": [
              "<html>\n",
              "<head><meta charset=\"utf-8\" /></head>\n",
              "<body>\n",
              "    <div>            <script src=\"https://cdnjs.cloudflare.com/ajax/libs/mathjax/2.7.5/MathJax.js?config=TeX-AMS-MML_SVG\"></script><script type=\"text/javascript\">if (window.MathJax && window.MathJax.Hub && window.MathJax.Hub.Config) {window.MathJax.Hub.Config({SVG: {font: \"STIX-Web\"}});}</script>                <script type=\"text/javascript\">window.PlotlyConfig = {MathJaxConfig: 'local'};</script>\n",
              "        <script src=\"https://cdn.plot.ly/plotly-2.18.2.min.js\"></script>                <div id=\"cd468344-7d69-4fe1-b988-e8395726b8df\" class=\"plotly-graph-div\" style=\"height:525px; width:900px;\"></div>            <script type=\"text/javascript\">                                    window.PLOTLYENV=window.PLOTLYENV || {};                                    if (document.getElementById(\"cd468344-7d69-4fe1-b988-e8395726b8df\")) {                    Plotly.newPlot(                        \"cd468344-7d69-4fe1-b988-e8395726b8df\",                        [{\"alignmentgroup\":\"True\",\"boxpoints\":\"all\",\"fillcolor\":\"rgba(255,255,255,0)\",\"hoveron\":\"points\",\"hovertemplate\":\"CATEGORIA=%{x}<br>TOTAL_AVALIACOES=%{y}<extra></extra>\",\"legendgroup\":\"Computers&Accessories\",\"line\":{\"color\":\"rgba(255,255,255,0)\"},\"marker\":{\"color\":\"#FD3216\"},\"name\":\"Computers&Accessories\",\"offsetgroup\":\"Computers&Accessories\",\"orientation\":\"v\",\"pointpos\":0,\"showlegend\":true,\"x\":[\"Computers&Accessories\",\"Computers&Accessories\",\"Computers&Accessories\",\"Computers&Accessories\",\"Computers&Accessories\",\"Computers&Accessories\",\"Computers&Accessories\",\"Computers&Accessories\",\"Computers&Accessories\",\"Computers&Accessories\",\"Computers&Accessories\",\"Computers&Accessories\",\"Computers&Accessories\",\"Computers&Accessories\",\"Computers&Accessories\",\"Computers&Accessories\",\"Computers&Accessories\",\"Computers&Accessories\",\"Computers&Accessories\",\"Computers&Accessories\",\"Computers&Accessories\",\"Computers&Accessories\",\"Computers&Accessories\",\"Computers&Accessories\",\"Computers&Accessories\",\"Computers&Accessories\",\"Computers&Accessories\",\"Computers&Accessories\",\"Computers&Accessories\",\"Computers&Accessories\",\"Computers&Accessories\",\"Computers&Accessories\",\"Computers&Accessories\",\"Computers&Accessories\",\"Computers&Accessories\",\"Computers&Accessories\",\"Computers&Accessories\",\"Computers&Accessories\",\"Computers&Accessories\",\"Computers&Accessories\",\"Computers&Accessories\",\"Computers&Accessories\",\"Computers&Accessories\",\"Computers&Accessories\",\"Computers&Accessories\",\"Computers&Accessories\",\"Computers&Accessories\",\"Computers&Accessories\",\"Computers&Accessories\",\"Computers&Accessories\",\"Computers&Accessories\",\"Computers&Accessories\",\"Computers&Accessories\",\"Computers&Accessories\",\"Computers&Accessories\",\"Computers&Accessories\",\"Computers&Accessories\",\"Computers&Accessories\",\"Computers&Accessories\",\"Computers&Accessories\",\"Computers&Accessories\",\"Computers&Accessories\",\"Computers&Accessories\",\"Computers&Accessories\",\"Computers&Accessories\",\"Computers&Accessories\",\"Computers&Accessories\",\"Computers&Accessories\",\"Computers&Accessories\",\"Computers&Accessories\",\"Computers&Accessories\",\"Computers&Accessories\",\"Computers&Accessories\",\"Computers&Accessories\",\"Computers&Accessories\",\"Computers&Accessories\",\"Computers&Accessories\",\"Computers&Accessories\",\"Computers&Accessories\",\"Computers&Accessories\",\"Computers&Accessories\",\"Computers&Accessories\",\"Computers&Accessories\",\"Computers&Accessories\",\"Computers&Accessories\",\"Computers&Accessories\",\"Computers&Accessories\",\"Computers&Accessories\",\"Computers&Accessories\",\"Computers&Accessories\",\"Computers&Accessories\",\"Computers&Accessories\",\"Computers&Accessories\",\"Computers&Accessories\",\"Computers&Accessories\",\"Computers&Accessories\",\"Computers&Accessories\",\"Computers&Accessories\",\"Computers&Accessories\",\"Computers&Accessories\",\"Computers&Accessories\",\"Computers&Accessories\",\"Computers&Accessories\",\"Computers&Accessories\",\"Computers&Accessories\",\"Computers&Accessories\",\"Computers&Accessories\",\"Computers&Accessories\",\"Computers&Accessories\",\"Computers&Accessories\",\"Computers&Accessories\",\"Computers&Accessories\",\"Computers&Accessories\",\"Computers&Accessories\",\"Computers&Accessories\",\"Computers&Accessories\",\"Computers&Accessories\",\"Computers&Accessories\",\"Computers&Accessories\",\"Computers&Accessories\",\"Computers&Accessories\",\"Computers&Accessories\",\"Computers&Accessories\",\"Computers&Accessories\",\"Computers&Accessories\",\"Computers&Accessories\",\"Computers&Accessories\",\"Computers&Accessories\",\"Computers&Accessories\",\"Computers&Accessories\",\"Computers&Accessories\",\"Computers&Accessories\",\"Computers&Accessories\",\"Computers&Accessories\",\"Computers&Accessories\",\"Computers&Accessories\",\"Computers&Accessories\",\"Computers&Accessories\",\"Computers&Accessories\",\"Computers&Accessories\",\"Computers&Accessories\",\"Computers&Accessories\",\"Computers&Accessories\",\"Computers&Accessories\",\"Computers&Accessories\",\"Computers&Accessories\",\"Computers&Accessories\",\"Computers&Accessories\",\"Computers&Accessories\",\"Computers&Accessories\",\"Computers&Accessories\",\"Computers&Accessories\",\"Computers&Accessories\",\"Computers&Accessories\",\"Computers&Accessories\",\"Computers&Accessories\",\"Computers&Accessories\",\"Computers&Accessories\",\"Computers&Accessories\",\"Computers&Accessories\",\"Computers&Accessories\",\"Computers&Accessories\",\"Computers&Accessories\",\"Computers&Accessories\",\"Computers&Accessories\",\"Computers&Accessories\",\"Computers&Accessories\",\"Computers&Accessories\",\"Computers&Accessories\",\"Computers&Accessories\",\"Computers&Accessories\",\"Computers&Accessories\",\"Computers&Accessories\",\"Computers&Accessories\",\"Computers&Accessories\",\"Computers&Accessories\",\"Computers&Accessories\",\"Computers&Accessories\",\"Computers&Accessories\",\"Computers&Accessories\",\"Computers&Accessories\",\"Computers&Accessories\",\"Computers&Accessories\",\"Computers&Accessories\",\"Computers&Accessories\",\"Computers&Accessories\",\"Computers&Accessories\",\"Computers&Accessories\",\"Computers&Accessories\",\"Computers&Accessories\",\"Computers&Accessories\",\"Computers&Accessories\",\"Computers&Accessories\",\"Computers&Accessories\",\"Computers&Accessories\",\"Computers&Accessories\",\"Computers&Accessories\",\"Computers&Accessories\",\"Computers&Accessories\",\"Computers&Accessories\",\"Computers&Accessories\",\"Computers&Accessories\",\"Computers&Accessories\",\"Computers&Accessories\",\"Computers&Accessories\",\"Computers&Accessories\",\"Computers&Accessories\",\"Computers&Accessories\",\"Computers&Accessories\",\"Computers&Accessories\",\"Computers&Accessories\",\"Computers&Accessories\",\"Computers&Accessories\",\"Computers&Accessories\",\"Computers&Accessories\",\"Computers&Accessories\",\"Computers&Accessories\",\"Computers&Accessories\",\"Computers&Accessories\",\"Computers&Accessories\",\"Computers&Accessories\",\"Computers&Accessories\",\"Computers&Accessories\",\"Computers&Accessories\",\"Computers&Accessories\",\"Computers&Accessories\",\"Computers&Accessories\",\"Computers&Accessories\",\"Computers&Accessories\",\"Computers&Accessories\",\"Computers&Accessories\",\"Computers&Accessories\",\"Computers&Accessories\",\"Computers&Accessories\",\"Computers&Accessories\",\"Computers&Accessories\",\"Computers&Accessories\",\"Computers&Accessories\",\"Computers&Accessories\",\"Computers&Accessories\",\"Computers&Accessories\",\"Computers&Accessories\",\"Computers&Accessories\",\"Computers&Accessories\",\"Computers&Accessories\",\"Computers&Accessories\",\"Computers&Accessories\",\"Computers&Accessories\",\"Computers&Accessories\",\"Computers&Accessories\",\"Computers&Accessories\",\"Computers&Accessories\",\"Computers&Accessories\",\"Computers&Accessories\",\"Computers&Accessories\",\"Computers&Accessories\",\"Computers&Accessories\",\"Computers&Accessories\",\"Computers&Accessories\",\"Computers&Accessories\",\"Computers&Accessories\",\"Computers&Accessories\",\"Computers&Accessories\",\"Computers&Accessories\",\"Computers&Accessories\",\"Computers&Accessories\",\"Computers&Accessories\",\"Computers&Accessories\",\"Computers&Accessories\",\"Computers&Accessories\",\"Computers&Accessories\",\"Computers&Accessories\",\"Computers&Accessories\",\"Computers&Accessories\",\"Computers&Accessories\",\"Computers&Accessories\",\"Computers&Accessories\",\"Computers&Accessories\",\"Computers&Accessories\",\"Computers&Accessories\",\"Computers&Accessories\",\"Computers&Accessories\",\"Computers&Accessories\",\"Computers&Accessories\",\"Computers&Accessories\",\"Computers&Accessories\",\"Computers&Accessories\",\"Computers&Accessories\",\"Computers&Accessories\",\"Computers&Accessories\",\"Computers&Accessories\",\"Computers&Accessories\",\"Computers&Accessories\",\"Computers&Accessories\",\"Computers&Accessories\",\"Computers&Accessories\",\"Computers&Accessories\",\"Computers&Accessories\",\"Computers&Accessories\",\"Computers&Accessories\",\"Computers&Accessories\",\"Computers&Accessories\",\"Computers&Accessories\",\"Computers&Accessories\",\"Computers&Accessories\",\"Computers&Accessories\",\"Computers&Accessories\",\"Computers&Accessories\",\"Computers&Accessories\",\"Computers&Accessories\",\"Computers&Accessories\",\"Computers&Accessories\",\"Computers&Accessories\",\"Computers&Accessories\",\"Computers&Accessories\",\"Computers&Accessories\",\"Computers&Accessories\",\"Computers&Accessories\",\"Computers&Accessories\",\"Computers&Accessories\",\"Computers&Accessories\",\"Computers&Accessories\",\"Computers&Accessories\",\"Computers&Accessories\",\"Computers&Accessories\",\"Computers&Accessories\",\"Computers&Accessories\",\"Computers&Accessories\",\"Computers&Accessories\",\"Computers&Accessories\",\"Computers&Accessories\",\"Computers&Accessories\",\"Computers&Accessories\",\"Computers&Accessories\",\"Computers&Accessories\",\"Computers&Accessories\",\"Computers&Accessories\",\"Computers&Accessories\",\"Computers&Accessories\",\"Computers&Accessories\",\"Computers&Accessories\",\"Computers&Accessories\",\"Computers&Accessories\",\"Computers&Accessories\",\"Computers&Accessories\",\"Computers&Accessories\",\"Computers&Accessories\",\"Computers&Accessories\",\"Computers&Accessories\",\"Computers&Accessories\",\"Computers&Accessories\",\"Computers&Accessories\",\"Computers&Accessories\",\"Computers&Accessories\",\"Computers&Accessories\",\"Computers&Accessories\",\"Computers&Accessories\",\"Computers&Accessories\",\"Computers&Accessories\",\"Computers&Accessories\",\"Computers&Accessories\",\"Computers&Accessories\",\"Computers&Accessories\",\"Computers&Accessories\",\"Computers&Accessories\",\"Computers&Accessories\",\"Computers&Accessories\",\"Computers&Accessories\",\"Computers&Accessories\",\"Computers&Accessories\",\"Computers&Accessories\",\"Computers&Accessories\",\"Computers&Accessories\",\"Computers&Accessories\",\"Computers&Accessories\",\"Computers&Accessories\",\"Computers&Accessories\",\"Computers&Accessories\",\"Computers&Accessories\",\"Computers&Accessories\",\"Computers&Accessories\",\"Computers&Accessories\",\"Computers&Accessories\",\"Computers&Accessories\",\"Computers&Accessories\",\"Computers&Accessories\",\"Computers&Accessories\",\"Computers&Accessories\",\"Computers&Accessories\",\"Computers&Accessories\",\"Computers&Accessories\",\"Computers&Accessories\",\"Computers&Accessories\",\"Computers&Accessories\",\"Computers&Accessories\",\"Computers&Accessories\",\"Computers&Accessories\",\"Computers&Accessories\",\"Computers&Accessories\",\"Computers&Accessories\",\"Computers&Accessories\",\"Computers&Accessories\",\"Computers&Accessories\",\"Computers&Accessories\",\"Computers&Accessories\",\"Computers&Accessories\",\"Computers&Accessories\",\"Computers&Accessories\",\"Computers&Accessories\",\"Computers&Accessories\",\"Computers&Accessories\",\"Computers&Accessories\",\"Computers&Accessories\",\"Computers&Accessories\",\"Computers&Accessories\",\"Computers&Accessories\",\"Computers&Accessories\",\"Computers&Accessories\",\"Computers&Accessories\",\"Computers&Accessories\",\"Computers&Accessories\",\"Computers&Accessories\",\"Computers&Accessories\",\"Computers&Accessories\",\"Computers&Accessories\",\"Computers&Accessories\",\"Computers&Accessories\",\"Computers&Accessories\",\"Computers&Accessories\",\"Computers&Accessories\",\"Computers&Accessories\",\"Computers&Accessories\",\"Computers&Accessories\",\"Computers&Accessories\",\"Computers&Accessories\",\"Computers&Accessories\",\"Computers&Accessories\",\"Computers&Accessories\",\"Computers&Accessories\",\"Computers&Accessories\",\"Computers&Accessories\",\"Computers&Accessories\",\"Computers&Accessories\",\"Computers&Accessories\",\"Computers&Accessories\",\"Computers&Accessories\",\"Computers&Accessories\",\"Computers&Accessories\",\"Computers&Accessories\",\"Computers&Accessories\",\"Computers&Accessories\",\"Computers&Accessories\",\"Computers&Accessories\"],\"x0\":\" \",\"xaxis\":\"x\",\"y\":[24269,43994,7928,94363,16905,24871,15188,30411,179691,43994,13391,94363,2262,4768,18757,43994,13045,815,9378,2766,184,20850,74976,1934,974,355,1075,24871,13552,576,462,107687,24269,12093,9378,9792,8131,92595,24780,92595,8188,314,179691,656,7064,1313,29746,450,20053,149,210,7732,1780,602,1423,536,24269,9378,28791,10576,127,24269,10134,94363,425,1977,1097,22420,1045,6547,13120,2806,24269,766,24871,20850,1780,1717,1121,1313,132,1951,2806,81,42301,1075,20850,2685,24780,179692,5492,919,387,974,30411,4642,1951,6255,7732,57,577,13120,6558,23169,1423,2651,5,612,9378,2685,9378,2957,6736,13552,5451,10911,13552,2806,178817,491,61,9378,7318,789,2399,3231,8314,2249,74977,8583,356,24269,1508,5626,14184,25177,61,474,242,2905,1423,6255,28791,1075,29746,295,2117,9378,2651,94363,34540,10576,7318,85,1045,51,523,0,1075,112,5451,14896,41,163,87,3049,265,838,151,1454,0,838,19763,1902,24270,43993,7928,94364,16905,24870,1396,15189,30411,43994,13391,94364,2263,4768,18757,815,43994,13045,9377,9377,20850,184,24870,13552,10833,8188,20052,7732,602,1423,253105,61314,7354,690,24791,8751,64273,54315,1597,28829,33176,24269,33717,43994,7928,50810,11827,94364,15295,16905,30058,49551,24870,7199,1396,15233,55747,9275,18139,491,13568,15189,8258,11716,35024,9638,33735,30411,3044,13391,25903,53464,5176,8614,3066,2102,34852,4018,2262,95116,4768,23022,4426,4567,18757,815,156638,2014,5958,17348,189104,31534,9377,21010,5730,25488,54405,122478,7241,20457,1087,1540,401,9385,15790,14969,3201,9940,7758,68409,903,25771,27223,82356,1690,2766,8372,7113,20850,2804,23,26194,15783,2809,1173,6422,241,184,1528,25886,4736,73005,20398,2125,11330,27441,255,23174,11074,74976,25607,1779,8656,92925,17394,1030,50273,1208,1933,25006,33434,6301,22618,974,20342,26423,11213,10174,17413,8076,355,18656,1075,13552,575,2523,352,1662,7352,3441,93,11006,462,107686,10652,5057,8537,9792,9998,362,4099,12093,5692,21,21762,22375,2453,13544,10976,7601,8131,4219,5556,92595,12375,10833,10443,434,3029,24780,10541,8188,817,4598,7222,1271,314,3219,8566,16680,12185,2623,9701,656,10725,3025,7064,5736,1026,2043,4149,74,41398,5195,22420,1313,427,1367,13199,29746,2806,2868,670,7317,1092,12679,210,4199,11113,13944,10760,16146,8280,450,14237,7689,20053,3344,2886,75,149,2585,7732,1780,2301,2535,691,2740,602,3482,1423,1667,4723,22860,13572,16182,536,2375,408,7333,3652,2515,10576,4959,1462,323,127,10134,1552],\"y0\":\" \",\"yaxis\":\"y\",\"type\":\"box\"},{\"alignmentgroup\":\"True\",\"boxpoints\":\"all\",\"fillcolor\":\"rgba(255,255,255,0)\",\"hoveron\":\"points\",\"hovertemplate\":\"CATEGORIA=%{x}<br>TOTAL_AVALIACOES=%{y}<extra></extra>\",\"legendgroup\":\"Electronics\",\"line\":{\"color\":\"rgba(255,255,255,0)\"},\"marker\":{\"color\":\"#00FE35\"},\"name\":\"Electronics\",\"offsetgroup\":\"Electronics\",\"orientation\":\"v\",\"pointpos\":0,\"showlegend\":true,\"x\":[\"Electronics\",\"Electronics\",\"Electronics\",\"Electronics\",\"Electronics\",\"Electronics\",\"Electronics\",\"Electronics\",\"Electronics\",\"Electronics\",\"Electronics\",\"Electronics\",\"Electronics\",\"Electronics\",\"Electronics\",\"Electronics\",\"Electronics\",\"Electronics\",\"Electronics\",\"Electronics\",\"Electronics\",\"Electronics\",\"Electronics\",\"Electronics\",\"Electronics\",\"Electronics\",\"Electronics\",\"Electronics\",\"Electronics\",\"Electronics\",\"Electronics\",\"Electronics\",\"Electronics\",\"Electronics\",\"Electronics\",\"Electronics\",\"Electronics\",\"Electronics\",\"Electronics\",\"Electronics\",\"Electronics\",\"Electronics\",\"Electronics\",\"Electronics\",\"Electronics\",\"Electronics\",\"Electronics\",\"Electronics\",\"Electronics\",\"Electronics\",\"Electronics\",\"Electronics\",\"Electronics\",\"Electronics\",\"Electronics\",\"Electronics\",\"Electronics\",\"Electronics\",\"Electronics\",\"Electronics\",\"Electronics\",\"Electronics\",\"Electronics\",\"Electronics\",\"Electronics\",\"Electronics\",\"Electronics\",\"Electronics\",\"Electronics\",\"Electronics\",\"Electronics\",\"Electronics\",\"Electronics\",\"Electronics\",\"Electronics\",\"Electronics\",\"Electronics\",\"Electronics\",\"Electronics\",\"Electronics\",\"Electronics\",\"Electronics\",\"Electronics\",\"Electronics\",\"Electronics\",\"Electronics\",\"Electronics\",\"Electronics\",\"Electronics\",\"Electronics\",\"Electronics\",\"Electronics\",\"Electronics\",\"Electronics\",\"Electronics\",\"Electronics\",\"Electronics\",\"Electronics\",\"Electronics\",\"Electronics\",\"Electronics\",\"Electronics\",\"Electronics\",\"Electronics\",\"Electronics\",\"Electronics\",\"Electronics\",\"Electronics\",\"Electronics\",\"Electronics\",\"Electronics\",\"Electronics\",\"Electronics\",\"Electronics\",\"Electronics\",\"Electronics\",\"Electronics\",\"Electronics\",\"Electronics\",\"Electronics\",\"Electronics\",\"Electronics\",\"Electronics\",\"Electronics\",\"Electronics\",\"Electronics\",\"Electronics\",\"Electronics\",\"Electronics\",\"Electronics\",\"Electronics\",\"Electronics\",\"Electronics\",\"Electronics\",\"Electronics\",\"Electronics\",\"Electronics\",\"Electronics\",\"Electronics\",\"Electronics\",\"Electronics\",\"Electronics\",\"Electronics\",\"Electronics\",\"Electronics\",\"Electronics\",\"Electronics\",\"Electronics\",\"Electronics\",\"Electronics\",\"Electronics\",\"Electronics\",\"Electronics\",\"Electronics\",\"Electronics\",\"Electronics\",\"Electronics\",\"Electronics\",\"Electronics\",\"Electronics\",\"Electronics\",\"Electronics\",\"Electronics\",\"Electronics\",\"Electronics\",\"Electronics\",\"Electronics\",\"Electronics\",\"Electronics\",\"Electronics\",\"Electronics\",\"Electronics\",\"Electronics\",\"Electronics\",\"Electronics\",\"Electronics\",\"Electronics\",\"Electronics\",\"Electronics\",\"Electronics\",\"Electronics\",\"Electronics\",\"Electronics\",\"Electronics\",\"Electronics\",\"Electronics\",\"Electronics\",\"Electronics\",\"Electronics\",\"Electronics\",\"Electronics\",\"Electronics\",\"Electronics\",\"Electronics\",\"Electronics\",\"Electronics\",\"Electronics\",\"Electronics\",\"Electronics\",\"Electronics\",\"Electronics\",\"Electronics\",\"Electronics\",\"Electronics\",\"Electronics\",\"Electronics\",\"Electronics\",\"Electronics\",\"Electronics\",\"Electronics\",\"Electronics\",\"Electronics\",\"Electronics\",\"Electronics\",\"Electronics\",\"Electronics\",\"Electronics\",\"Electronics\",\"Electronics\",\"Electronics\",\"Electronics\",\"Electronics\",\"Electronics\",\"Electronics\",\"Electronics\",\"Electronics\",\"Electronics\",\"Electronics\",\"Electronics\",\"Electronics\",\"Electronics\",\"Electronics\",\"Electronics\",\"Electronics\",\"Electronics\",\"Electronics\",\"Electronics\",\"Electronics\",\"Electronics\",\"Electronics\",\"Electronics\",\"Electronics\",\"Electronics\",\"Electronics\",\"Electronics\",\"Electronics\",\"Electronics\",\"Electronics\",\"Electronics\",\"Electronics\",\"Electronics\",\"Electronics\",\"Electronics\",\"Electronics\",\"Electronics\",\"Electronics\",\"Electronics\",\"Electronics\",\"Electronics\",\"Electronics\",\"Electronics\",\"Electronics\",\"Electronics\",\"Electronics\",\"Electronics\",\"Electronics\",\"Electronics\",\"Electronics\",\"Electronics\",\"Electronics\",\"Electronics\",\"Electronics\",\"Electronics\",\"Electronics\",\"Electronics\",\"Electronics\",\"Electronics\",\"Electronics\",\"Electronics\",\"Electronics\",\"Electronics\",\"Electronics\",\"Electronics\",\"Electronics\",\"Electronics\",\"Electronics\",\"Electronics\",\"Electronics\",\"Electronics\",\"Electronics\",\"Electronics\",\"Electronics\",\"Electronics\",\"Electronics\",\"Electronics\",\"Electronics\",\"Electronics\",\"Electronics\",\"Electronics\",\"Electronics\",\"Electronics\",\"Electronics\",\"Electronics\",\"Electronics\",\"Electronics\",\"Electronics\",\"Electronics\",\"Electronics\",\"Electronics\",\"Electronics\",\"Electronics\",\"Electronics\",\"Electronics\",\"Electronics\",\"Electronics\",\"Electronics\",\"Electronics\",\"Electronics\",\"Electronics\",\"Electronics\",\"Electronics\",\"Electronics\",\"Electronics\",\"Electronics\",\"Electronics\",\"Electronics\",\"Electronics\",\"Electronics\",\"Electronics\",\"Electronics\",\"Electronics\",\"Electronics\",\"Electronics\",\"Electronics\",\"Electronics\",\"Electronics\",\"Electronics\",\"Electronics\",\"Electronics\",\"Electronics\",\"Electronics\",\"Electronics\",\"Electronics\",\"Electronics\",\"Electronics\",\"Electronics\",\"Electronics\",\"Electronics\",\"Electronics\",\"Electronics\",\"Electronics\",\"Electronics\",\"Electronics\",\"Electronics\",\"Electronics\",\"Electronics\",\"Electronics\",\"Electronics\",\"Electronics\",\"Electronics\",\"Electronics\",\"Electronics\",\"Electronics\",\"Electronics\",\"Electronics\",\"Electronics\",\"Electronics\",\"Electronics\",\"Electronics\",\"Electronics\",\"Electronics\",\"Electronics\",\"Electronics\",\"Electronics\",\"Electronics\",\"Electronics\",\"Electronics\",\"Electronics\",\"Electronics\",\"Electronics\",\"Electronics\",\"Electronics\",\"Electronics\",\"Electronics\",\"Electronics\",\"Electronics\",\"Electronics\",\"Electronics\",\"Electronics\",\"Electronics\",\"Electronics\",\"Electronics\",\"Electronics\",\"Electronics\",\"Electronics\",\"Electronics\",\"Electronics\",\"Electronics\",\"Electronics\",\"Electronics\",\"Electronics\",\"Electronics\",\"Electronics\",\"Electronics\",\"Electronics\",\"Electronics\",\"Electronics\",\"Electronics\",\"Electronics\",\"Electronics\",\"Electronics\",\"Electronics\",\"Electronics\",\"Electronics\",\"Electronics\",\"Electronics\",\"Electronics\",\"Electronics\",\"Electronics\",\"Electronics\",\"Electronics\",\"Electronics\",\"Electronics\",\"Electronics\",\"Electronics\",\"Electronics\",\"Electronics\",\"Electronics\",\"Electronics\",\"Electronics\",\"Electronics\",\"Electronics\",\"Electronics\",\"Electronics\",\"Electronics\",\"Electronics\",\"Electronics\",\"Electronics\",\"Electronics\",\"Electronics\",\"Electronics\",\"Electronics\",\"Electronics\",\"Electronics\",\"Electronics\",\"Electronics\",\"Electronics\",\"Electronics\",\"Electronics\",\"Electronics\",\"Electronics\",\"Electronics\",\"Electronics\",\"Electronics\",\"Electronics\",\"Electronics\",\"Electronics\",\"Electronics\",\"Electronics\",\"Electronics\",\"Electronics\",\"Electronics\",\"Electronics\",\"Electronics\",\"Electronics\",\"Electronics\",\"Electronics\",\"Electronics\",\"Electronics\",\"Electronics\",\"Electronics\",\"Electronics\",\"Electronics\",\"Electronics\",\"Electronics\",\"Electronics\",\"Electronics\",\"Electronics\",\"Electronics\",\"Electronics\",\"Electronics\",\"Electronics\",\"Electronics\",\"Electronics\",\"Electronics\",\"Electronics\",\"Electronics\",\"Electronics\",\"Electronics\",\"Electronics\",\"Electronics\",\"Electronics\",\"Electronics\",\"Electronics\",\"Electronics\",\"Electronics\",\"Electronics\",\"Electronics\",\"Electronics\",\"Electronics\",\"Electronics\",\"Electronics\",\"Electronics\",\"Electronics\",\"Electronics\",\"Electronics\",\"Electronics\",\"Electronics\",\"Electronics\",\"Electronics\",\"Electronics\",\"Electronics\",\"Electronics\",\"Electronics\",\"Electronics\",\"Electronics\",\"Electronics\",\"Electronics\",\"Electronics\",\"Electronics\",\"Electronics\",\"Electronics\",\"Electronics\",\"Electronics\",\"Electronics\",\"Electronics\"],\"x0\":\" \",\"xaxis\":\"x\",\"y\":[426973,32840,11976,10962,16299,4703,12153,34899,7298,27151,426973,493,4003,2960,34899,2201,7109,45238,426973,457,2727,45238,398,32,902,7298,4703,7109,34899,6659,1079,4145,1588,32840,3587,2581,1035,505,590,37,592,1259,45238,28638,12835,1269,284,69538,4703,3295,1376,3664,1951,285,6088,1383,30023,211,16299,12,10480,24,254,3565,1193,343,1611,4703,576,313,350,30023,4003,7109,490,32840,407,2640,839,44054,64,339,27,197,928,110,6753,1237,18872,425,1161,7636,246,479,910,21252,567,466,431,12091,1236,1335,197,5935,323,185,1796,3587,4296,8714,103,224,4702,35877,897,282,1611,513,6347,3300,23,7109,32840,708,1657,1376,121,1001,3022,73,1029,1555,47,1712,1335,214,184,7,12153,25,2165,1510,106,129,32840,390,621,143,200,227,538,171,27508,2951,6753,3518,1510,136,301,21252,13937,27696,17831,178912,7807,17415,17415,7807,7807,67259,10689,128311,21796,192590,284,58162,12796,14282,363713,67259,284,15970,178912,46399,8891,30254,22636,22318,67259,18998,13937,29471,22318,21350,13937,313836,313836,13937,12796,14185,17159,5179,19252,13937,12796,1680,13246,14648,27696,32916,25824,7462,37817,30254,17831,20311,69622,3382,140036,8599,18998,363713,19252,73,42641,4390,17415,18202,18998,11029,22318,1786,7222,128311,83996,140036,18678,18998,48449,17831,1315,18998,5999,50772,25824,14404,11339,3626,32625,19252,19252,25824,161679,16685,30907,178912,128311,19252,7222,18998,32916,26603,67950,128311,9499,1777,58506,21350,9378,21796,17833,7779,17129,4969,154,4415,21350,31539,6129,284,3234,313832,20879,2646,28978,3145,192589,16557,18998,16557,21916,29472,1949,37,2351,19253,2180,7571,4415,18654,3197,26880,21796,9499,56098,31822,9499,50772,7148,3492,4415,67260,27704,50772,92588,31822,240,758,828,9378,22638,2147,596,1949,2180,31539,2451,154,1193,1475,8891,104,6662,8380,31822,3075,14266,38879,97175,67260,119,1641,4740,8866,8399,87,125,38,4674,412,681,36384,6491,10229,50772,1801,14404,305,1376,22638,2352,714,1454,2147,313832,465,27790,245,276,30254,17161,14,14560,3156,9340,768,28978,18998,4971,1526,363711,136954,27709,17833,180998,67262,10689,141841,21764,192587,107151,21797,92995,14283,30254,22638,77027,29478,28030,91770,17162,206,5179,3369,27139,9504,69619,3382,109864,161677,21372,140035,14961,28324,644,3390,103052,18678,12958,55192,119466,33584,1779,5999,26556,48448,60026,426972,32625,11687,11015,67951,13797,15137,4875,20881,4744,12452,17810,53648,38221,64705,17129,11976,87798,24432,93112,47521,27201,10962,16299,7571,3517,63899,12153,1949,16557,92588,3454,42139,989,19624,30469,273189,2866,26880,1986,2451,25910,14629,15032,69585,14371,41226,18331,9169,6742,31305,6676,31599,13971,2492,40895,676,1173,5852,205052,9090,12966,1880,2272,42775,1913,6233,10751,36384,3606,357,38879,4541,76042,485,44696,13049,97174,594,72563,2284,30355,6183,45237,14403,10773,6491,25996,20668,5554,98250,5072,2908,245,2111,91188,418,1526,25262],\"y0\":\" \",\"yaxis\":\"y\",\"type\":\"box\"},{\"alignmentgroup\":\"True\",\"boxpoints\":\"all\",\"fillcolor\":\"rgba(255,255,255,0)\",\"hoveron\":\"points\",\"hovertemplate\":\"CATEGORIA=%{x}<br>TOTAL_AVALIACOES=%{y}<extra></extra>\",\"legendgroup\":\"MusicalInstruments\",\"line\":{\"color\":\"rgba(255,255,255,0)\"},\"marker\":{\"color\":\"#6A76FC\"},\"name\":\"MusicalInstruments\",\"offsetgroup\":\"MusicalInstruments\",\"orientation\":\"v\",\"pointpos\":0,\"showlegend\":true,\"x\":[\"MusicalInstruments\",\"MusicalInstruments\"],\"x0\":\" \",\"xaxis\":\"x\",\"y\":[68664,20218],\"y0\":\" \",\"yaxis\":\"y\",\"type\":\"box\"},{\"alignmentgroup\":\"True\",\"boxpoints\":\"all\",\"fillcolor\":\"rgba(255,255,255,0)\",\"hoveron\":\"points\",\"hovertemplate\":\"CATEGORIA=%{x}<br>TOTAL_AVALIACOES=%{y}<extra></extra>\",\"legendgroup\":\"OfficeProducts\",\"line\":{\"color\":\"rgba(255,255,255,0)\"},\"marker\":{\"color\":\"#FED4C4\"},\"name\":\"OfficeProducts\",\"offsetgroup\":\"OfficeProducts\",\"orientation\":\"v\",\"pointpos\":0,\"showlegend\":true,\"x\":[\"OfficeProducts\",\"OfficeProducts\",\"OfficeProducts\",\"OfficeProducts\",\"OfficeProducts\",\"OfficeProducts\",\"OfficeProducts\",\"OfficeProducts\",\"OfficeProducts\",\"OfficeProducts\",\"OfficeProducts\",\"OfficeProducts\",\"OfficeProducts\",\"OfficeProducts\",\"OfficeProducts\",\"OfficeProducts\",\"OfficeProducts\",\"OfficeProducts\",\"OfficeProducts\",\"OfficeProducts\",\"OfficeProducts\",\"OfficeProducts\",\"OfficeProducts\",\"OfficeProducts\",\"OfficeProducts\",\"OfficeProducts\",\"OfficeProducts\",\"OfficeProducts\",\"OfficeProducts\",\"OfficeProducts\",\"OfficeProducts\"],\"x0\":\" \",\"xaxis\":\"x\",\"y\":[5792,5760,12179,8618,9344,6537,8610,3095,3785,5719,8053,3182,388,1269,7429,8938,4308,2450,4428,3061,2628,3686,3530,419,4426,2493,1674,6199,4951,1926,4798],\"y0\":\" \",\"yaxis\":\"y\",\"type\":\"box\"},{\"alignmentgroup\":\"True\",\"boxpoints\":\"all\",\"fillcolor\":\"rgba(255,255,255,0)\",\"hoveron\":\"points\",\"hovertemplate\":\"CATEGORIA=%{x}<br>TOTAL_AVALIACOES=%{y}<extra></extra>\",\"legendgroup\":\"Home&Kitchen\",\"line\":{\"color\":\"rgba(255,255,255,0)\"},\"marker\":{\"color\":\"#FE00CE\"},\"name\":\"Home&Kitchen\",\"offsetgroup\":\"Home&Kitchen\",\"orientation\":\"v\",\"pointpos\":0,\"showlegend\":true,\"x\":[\"Home&Kitchen\",\"Home&Kitchen\",\"Home&Kitchen\",\"Home&Kitchen\",\"Home&Kitchen\",\"Home&Kitchen\",\"Home&Kitchen\",\"Home&Kitchen\",\"Home&Kitchen\",\"Home&Kitchen\",\"Home&Kitchen\",\"Home&Kitchen\",\"Home&Kitchen\",\"Home&Kitchen\",\"Home&Kitchen\",\"Home&Kitchen\",\"Home&Kitchen\",\"Home&Kitchen\",\"Home&Kitchen\",\"Home&Kitchen\",\"Home&Kitchen\",\"Home&Kitchen\",\"Home&Kitchen\",\"Home&Kitchen\",\"Home&Kitchen\",\"Home&Kitchen\",\"Home&Kitchen\",\"Home&Kitchen\",\"Home&Kitchen\",\"Home&Kitchen\",\"Home&Kitchen\",\"Home&Kitchen\",\"Home&Kitchen\",\"Home&Kitchen\",\"Home&Kitchen\",\"Home&Kitchen\",\"Home&Kitchen\",\"Home&Kitchen\",\"Home&Kitchen\",\"Home&Kitchen\",\"Home&Kitchen\",\"Home&Kitchen\",\"Home&Kitchen\",\"Home&Kitchen\",\"Home&Kitchen\",\"Home&Kitchen\",\"Home&Kitchen\",\"Home&Kitchen\",\"Home&Kitchen\",\"Home&Kitchen\",\"Home&Kitchen\",\"Home&Kitchen\",\"Home&Kitchen\",\"Home&Kitchen\",\"Home&Kitchen\",\"Home&Kitchen\",\"Home&Kitchen\",\"Home&Kitchen\",\"Home&Kitchen\",\"Home&Kitchen\",\"Home&Kitchen\",\"Home&Kitchen\",\"Home&Kitchen\",\"Home&Kitchen\",\"Home&Kitchen\",\"Home&Kitchen\",\"Home&Kitchen\",\"Home&Kitchen\",\"Home&Kitchen\",\"Home&Kitchen\",\"Home&Kitchen\",\"Home&Kitchen\",\"Home&Kitchen\",\"Home&Kitchen\",\"Home&Kitchen\",\"Home&Kitchen\",\"Home&Kitchen\",\"Home&Kitchen\",\"Home&Kitchen\",\"Home&Kitchen\",\"Home&Kitchen\",\"Home&Kitchen\",\"Home&Kitchen\",\"Home&Kitchen\",\"Home&Kitchen\",\"Home&Kitchen\",\"Home&Kitchen\",\"Home&Kitchen\",\"Home&Kitchen\",\"Home&Kitchen\",\"Home&Kitchen\",\"Home&Kitchen\",\"Home&Kitchen\",\"Home&Kitchen\",\"Home&Kitchen\",\"Home&Kitchen\",\"Home&Kitchen\",\"Home&Kitchen\",\"Home&Kitchen\",\"Home&Kitchen\",\"Home&Kitchen\",\"Home&Kitchen\",\"Home&Kitchen\",\"Home&Kitchen\",\"Home&Kitchen\",\"Home&Kitchen\",\"Home&Kitchen\",\"Home&Kitchen\",\"Home&Kitchen\",\"Home&Kitchen\",\"Home&Kitchen\",\"Home&Kitchen\",\"Home&Kitchen\",\"Home&Kitchen\",\"Home&Kitchen\",\"Home&Kitchen\",\"Home&Kitchen\",\"Home&Kitchen\",\"Home&Kitchen\",\"Home&Kitchen\",\"Home&Kitchen\",\"Home&Kitchen\",\"Home&Kitchen\",\"Home&Kitchen\",\"Home&Kitchen\",\"Home&Kitchen\",\"Home&Kitchen\",\"Home&Kitchen\",\"Home&Kitchen\",\"Home&Kitchen\",\"Home&Kitchen\",\"Home&Kitchen\",\"Home&Kitchen\",\"Home&Kitchen\",\"Home&Kitchen\",\"Home&Kitchen\",\"Home&Kitchen\",\"Home&Kitchen\",\"Home&Kitchen\",\"Home&Kitchen\",\"Home&Kitchen\",\"Home&Kitchen\",\"Home&Kitchen\",\"Home&Kitchen\",\"Home&Kitchen\",\"Home&Kitchen\",\"Home&Kitchen\",\"Home&Kitchen\",\"Home&Kitchen\",\"Home&Kitchen\",\"Home&Kitchen\",\"Home&Kitchen\",\"Home&Kitchen\",\"Home&Kitchen\",\"Home&Kitchen\",\"Home&Kitchen\",\"Home&Kitchen\",\"Home&Kitchen\",\"Home&Kitchen\",\"Home&Kitchen\",\"Home&Kitchen\",\"Home&Kitchen\",\"Home&Kitchen\",\"Home&Kitchen\",\"Home&Kitchen\",\"Home&Kitchen\",\"Home&Kitchen\",\"Home&Kitchen\",\"Home&Kitchen\",\"Home&Kitchen\",\"Home&Kitchen\",\"Home&Kitchen\",\"Home&Kitchen\",\"Home&Kitchen\",\"Home&Kitchen\",\"Home&Kitchen\",\"Home&Kitchen\",\"Home&Kitchen\",\"Home&Kitchen\",\"Home&Kitchen\",\"Home&Kitchen\",\"Home&Kitchen\",\"Home&Kitchen\",\"Home&Kitchen\",\"Home&Kitchen\",\"Home&Kitchen\",\"Home&Kitchen\",\"Home&Kitchen\",\"Home&Kitchen\",\"Home&Kitchen\",\"Home&Kitchen\",\"Home&Kitchen\",\"Home&Kitchen\",\"Home&Kitchen\",\"Home&Kitchen\",\"Home&Kitchen\",\"Home&Kitchen\",\"Home&Kitchen\",\"Home&Kitchen\",\"Home&Kitchen\",\"Home&Kitchen\",\"Home&Kitchen\",\"Home&Kitchen\",\"Home&Kitchen\",\"Home&Kitchen\",\"Home&Kitchen\",\"Home&Kitchen\",\"Home&Kitchen\",\"Home&Kitchen\",\"Home&Kitchen\",\"Home&Kitchen\",\"Home&Kitchen\",\"Home&Kitchen\",\"Home&Kitchen\",\"Home&Kitchen\",\"Home&Kitchen\",\"Home&Kitchen\",\"Home&Kitchen\",\"Home&Kitchen\",\"Home&Kitchen\",\"Home&Kitchen\",\"Home&Kitchen\",\"Home&Kitchen\",\"Home&Kitchen\",\"Home&Kitchen\",\"Home&Kitchen\",\"Home&Kitchen\",\"Home&Kitchen\",\"Home&Kitchen\",\"Home&Kitchen\",\"Home&Kitchen\",\"Home&Kitchen\",\"Home&Kitchen\",\"Home&Kitchen\",\"Home&Kitchen\",\"Home&Kitchen\",\"Home&Kitchen\",\"Home&Kitchen\",\"Home&Kitchen\",\"Home&Kitchen\",\"Home&Kitchen\",\"Home&Kitchen\",\"Home&Kitchen\",\"Home&Kitchen\",\"Home&Kitchen\",\"Home&Kitchen\",\"Home&Kitchen\",\"Home&Kitchen\",\"Home&Kitchen\",\"Home&Kitchen\",\"Home&Kitchen\",\"Home&Kitchen\",\"Home&Kitchen\",\"Home&Kitchen\",\"Home&Kitchen\",\"Home&Kitchen\",\"Home&Kitchen\",\"Home&Kitchen\",\"Home&Kitchen\",\"Home&Kitchen\",\"Home&Kitchen\",\"Home&Kitchen\",\"Home&Kitchen\",\"Home&Kitchen\",\"Home&Kitchen\",\"Home&Kitchen\",\"Home&Kitchen\",\"Home&Kitchen\",\"Home&Kitchen\",\"Home&Kitchen\",\"Home&Kitchen\",\"Home&Kitchen\",\"Home&Kitchen\",\"Home&Kitchen\",\"Home&Kitchen\",\"Home&Kitchen\",\"Home&Kitchen\",\"Home&Kitchen\",\"Home&Kitchen\",\"Home&Kitchen\",\"Home&Kitchen\",\"Home&Kitchen\",\"Home&Kitchen\",\"Home&Kitchen\",\"Home&Kitchen\",\"Home&Kitchen\",\"Home&Kitchen\",\"Home&Kitchen\",\"Home&Kitchen\",\"Home&Kitchen\",\"Home&Kitchen\",\"Home&Kitchen\",\"Home&Kitchen\",\"Home&Kitchen\",\"Home&Kitchen\",\"Home&Kitchen\",\"Home&Kitchen\",\"Home&Kitchen\",\"Home&Kitchen\",\"Home&Kitchen\",\"Home&Kitchen\",\"Home&Kitchen\",\"Home&Kitchen\",\"Home&Kitchen\",\"Home&Kitchen\",\"Home&Kitchen\",\"Home&Kitchen\",\"Home&Kitchen\",\"Home&Kitchen\",\"Home&Kitchen\",\"Home&Kitchen\",\"Home&Kitchen\",\"Home&Kitchen\",\"Home&Kitchen\",\"Home&Kitchen\",\"Home&Kitchen\",\"Home&Kitchen\",\"Home&Kitchen\",\"Home&Kitchen\",\"Home&Kitchen\",\"Home&Kitchen\",\"Home&Kitchen\",\"Home&Kitchen\",\"Home&Kitchen\",\"Home&Kitchen\",\"Home&Kitchen\",\"Home&Kitchen\",\"Home&Kitchen\",\"Home&Kitchen\",\"Home&Kitchen\",\"Home&Kitchen\",\"Home&Kitchen\",\"Home&Kitchen\",\"Home&Kitchen\",\"Home&Kitchen\",\"Home&Kitchen\",\"Home&Kitchen\",\"Home&Kitchen\",\"Home&Kitchen\",\"Home&Kitchen\",\"Home&Kitchen\",\"Home&Kitchen\",\"Home&Kitchen\",\"Home&Kitchen\",\"Home&Kitchen\",\"Home&Kitchen\",\"Home&Kitchen\",\"Home&Kitchen\",\"Home&Kitchen\",\"Home&Kitchen\",\"Home&Kitchen\",\"Home&Kitchen\",\"Home&Kitchen\",\"Home&Kitchen\",\"Home&Kitchen\",\"Home&Kitchen\",\"Home&Kitchen\",\"Home&Kitchen\",\"Home&Kitchen\",\"Home&Kitchen\",\"Home&Kitchen\",\"Home&Kitchen\",\"Home&Kitchen\",\"Home&Kitchen\",\"Home&Kitchen\",\"Home&Kitchen\",\"Home&Kitchen\",\"Home&Kitchen\",\"Home&Kitchen\",\"Home&Kitchen\",\"Home&Kitchen\",\"Home&Kitchen\",\"Home&Kitchen\",\"Home&Kitchen\",\"Home&Kitchen\",\"Home&Kitchen\",\"Home&Kitchen\",\"Home&Kitchen\",\"Home&Kitchen\",\"Home&Kitchen\",\"Home&Kitchen\",\"Home&Kitchen\",\"Home&Kitchen\",\"Home&Kitchen\",\"Home&Kitchen\",\"Home&Kitchen\",\"Home&Kitchen\",\"Home&Kitchen\",\"Home&Kitchen\",\"Home&Kitchen\",\"Home&Kitchen\",\"Home&Kitchen\",\"Home&Kitchen\",\"Home&Kitchen\",\"Home&Kitchen\",\"Home&Kitchen\",\"Home&Kitchen\",\"Home&Kitchen\",\"Home&Kitchen\",\"Home&Kitchen\",\"Home&Kitchen\",\"Home&Kitchen\",\"Home&Kitchen\",\"Home&Kitchen\",\"Home&Kitchen\",\"Home&Kitchen\",\"Home&Kitchen\",\"Home&Kitchen\",\"Home&Kitchen\",\"Home&Kitchen\",\"Home&Kitchen\",\"Home&Kitchen\",\"Home&Kitchen\",\"Home&Kitchen\",\"Home&Kitchen\",\"Home&Kitchen\",\"Home&Kitchen\",\"Home&Kitchen\",\"Home&Kitchen\",\"Home&Kitchen\",\"Home&Kitchen\",\"Home&Kitchen\",\"Home&Kitchen\",\"Home&Kitchen\",\"Home&Kitchen\",\"Home&Kitchen\",\"Home&Kitchen\",\"Home&Kitchen\",\"Home&Kitchen\",\"Home&Kitchen\",\"Home&Kitchen\",\"Home&Kitchen\",\"Home&Kitchen\",\"Home&Kitchen\",\"Home&Kitchen\",\"Home&Kitchen\",\"Home&Kitchen\",\"Home&Kitchen\",\"Home&Kitchen\",\"Home&Kitchen\",\"Home&Kitchen\",\"Home&Kitchen\",\"Home&Kitchen\",\"Home&Kitchen\",\"Home&Kitchen\",\"Home&Kitchen\",\"Home&Kitchen\",\"Home&Kitchen\"],\"x0\":\" \",\"xaxis\":\"x\",\"y\":[14778,7203,5036,5882,10718,10170,9427,123365,13300,18543,3578,2031,44994,270563,31783,2602,63350,54032,15592,4859,14120,8427,23316,6530,11924,2961,23484,21783,14030,6398,44050,24247,41349,1074,1163,257,36017,8090,31388,136,5380,37974,17218,900,976,4927,3543,2732,14368,39724,9791,2891,2446,25340,3096,4,119,40106,13029,291,15453,604,46647,3233,1282,70,26164,16166,35693,14391,7946,1765,14062,15646,111,9695,1772,11499,2162,19621,19998,1051,1716,32931,17424,1889,10324,5355,3366,1017,787,18462,629,15276,2981,2466,7949,95,1558,26543,3688,4383,478,237,124,14667,6,4244,1017,12999,311,4238,2781,10907,13250,43070,11828,1240,20869,441,1034,37126,6355,12,13165,1646,17994,610,8866,13406,53803,546,5292,444,4584,14947,1559,1660,132,28629,8446,11199,11,4353,185,14290,3036,1296,19,97,1771,15034,3242,2832,1498,305,1191,4049,3160,9650,3846,290,2206,9349,578,9331,3837,11456,49,4978,1996,1811,2198,13127,5865,1067,4881,11217,43,4664,2112,2737,9019,10234,550,28,1353,2138,1679,12837,8873,7681,322,9772,18497,53,1728,2877,250,5178,79,4157,29,4580,1404,2810,7,1729,2116,463,54,7229,3842,646,1802,252,780,74,2026,5911,1964,25,3160,1558,8958,13251,1393,13,7241,16020,1470,638,3552,11148,2449,2299,6027,461,282,9275,743,328,942,3815,7988,925,4370,7619,2593,356,63,4740,296,185,1954,959,1015,3973,2300,203,441,10308,992,4716,313,166,303,562,8095,109,15382,5137,124,618,63,15,9,7274,5911,170,3065,1021,3964,8948,97,7223,330,4570,4867,5298,7786,37,2,5206,638,397,326,3527,617,314,535,17325,91,227,11957,7140,687,1045,11206,561,1988,3740,4401,611,2162,97,6055,386,557,2288,1106,11935,5059,157,3584,1899,15252,4,1662,422,79,5160,2311,588,3271,11004,3195,3231,3246,24,144,2280,340,144,727,832,57,1644,1066,7968,3195,1456,590,1436,4184,693,1306,8,2326,1004,6400,63,1181,1888,6550,1846,1085,290,4,9734,4022,2591,532,260,1672,7945,1367,1313,212,65,2737,55,1065,2377,2569,5967,1776,4200,297,3858,168,101,4074,1408,3739,5891,777,14160,6919,287,287,388,827,4971,229,3524,156,490,82,710,133,2751,771,2536,7801,534,898,1202,1108,17,10429,3192,5873,1379,1527,2686,178,2664,212,24,1868,451,159,39,6531,222,195,2283,1127,113,2518,550,2,1090,4118,468,8031,6987],\"y0\":\" \",\"yaxis\":\"y\",\"type\":\"box\"},{\"alignmentgroup\":\"True\",\"boxpoints\":\"all\",\"fillcolor\":\"rgba(255,255,255,0)\",\"hoveron\":\"points\",\"hovertemplate\":\"CATEGORIA=%{x}<br>TOTAL_AVALIACOES=%{y}<extra></extra>\",\"legendgroup\":\"HomeImprovement\",\"line\":{\"color\":\"rgba(255,255,255,0)\"},\"marker\":{\"color\":\"#0DF9FF\"},\"name\":\"HomeImprovement\",\"offsetgroup\":\"HomeImprovement\",\"orientation\":\"v\",\"pointpos\":0,\"showlegend\":true,\"x\":[\"HomeImprovement\",\"HomeImprovement\"],\"x0\":\" \",\"xaxis\":\"x\",\"y\":[2581,5985],\"y0\":\" \",\"yaxis\":\"y\",\"type\":\"box\"},{\"alignmentgroup\":\"True\",\"boxpoints\":\"all\",\"fillcolor\":\"rgba(255,255,255,0)\",\"hoveron\":\"points\",\"hovertemplate\":\"CATEGORIA=%{x}<br>TOTAL_AVALIACOES=%{y}<extra></extra>\",\"legendgroup\":\"Toys&Games\",\"line\":{\"color\":\"rgba(255,255,255,0)\"},\"marker\":{\"color\":\"#F6F926\"},\"name\":\"Toys&Games\",\"offsetgroup\":\"Toys&Games\",\"orientation\":\"v\",\"pointpos\":0,\"showlegend\":true,\"x\":[\"Toys&Games\"],\"x0\":\" \",\"xaxis\":\"x\",\"y\":[15867],\"y0\":\" \",\"yaxis\":\"y\",\"type\":\"box\"},{\"alignmentgroup\":\"True\",\"boxpoints\":\"all\",\"fillcolor\":\"rgba(255,255,255,0)\",\"hoveron\":\"points\",\"hovertemplate\":\"CATEGORIA=%{x}<br>TOTAL_AVALIACOES=%{y}<extra></extra>\",\"legendgroup\":\"Car&Motorbike\",\"line\":{\"color\":\"rgba(255,255,255,0)\"},\"marker\":{\"color\":\"#FF9616\"},\"name\":\"Car&Motorbike\",\"offsetgroup\":\"Car&Motorbike\",\"orientation\":\"v\",\"pointpos\":0,\"showlegend\":true,\"x\":[\"Car&Motorbike\"],\"x0\":\" \",\"xaxis\":\"x\",\"y\":[1118],\"y0\":\" \",\"yaxis\":\"y\",\"type\":\"box\"},{\"alignmentgroup\":\"True\",\"boxpoints\":\"all\",\"fillcolor\":\"rgba(255,255,255,0)\",\"hoveron\":\"points\",\"hovertemplate\":\"CATEGORIA=%{x}<br>TOTAL_AVALIACOES=%{y}<extra></extra>\",\"legendgroup\":\"Health&PersonalCare\",\"line\":{\"color\":\"rgba(255,255,255,0)\"},\"marker\":{\"color\":\"#479B55\"},\"name\":\"Health&PersonalCare\",\"offsetgroup\":\"Health&PersonalCare\",\"orientation\":\"v\",\"pointpos\":0,\"showlegend\":true,\"x\":[\"Health&PersonalCare\"],\"x0\":\" \",\"xaxis\":\"x\",\"y\":[3663],\"y0\":\" \",\"yaxis\":\"y\",\"type\":\"box\"}],                        {\"template\":{\"data\":{\"histogram2dcontour\":[{\"type\":\"histogram2dcontour\",\"colorbar\":{\"outlinewidth\":0,\"ticks\":\"\"},\"colorscale\":[[0.0,\"#0d0887\"],[0.1111111111111111,\"#46039f\"],[0.2222222222222222,\"#7201a8\"],[0.3333333333333333,\"#9c179e\"],[0.4444444444444444,\"#bd3786\"],[0.5555555555555556,\"#d8576b\"],[0.6666666666666666,\"#ed7953\"],[0.7777777777777778,\"#fb9f3a\"],[0.8888888888888888,\"#fdca26\"],[1.0,\"#f0f921\"]]}],\"choropleth\":[{\"type\":\"choropleth\",\"colorbar\":{\"outlinewidth\":0,\"ticks\":\"\"}}],\"histogram2d\":[{\"type\":\"histogram2d\",\"colorbar\":{\"outlinewidth\":0,\"ticks\":\"\"},\"colorscale\":[[0.0,\"#0d0887\"],[0.1111111111111111,\"#46039f\"],[0.2222222222222222,\"#7201a8\"],[0.3333333333333333,\"#9c179e\"],[0.4444444444444444,\"#bd3786\"],[0.5555555555555556,\"#d8576b\"],[0.6666666666666666,\"#ed7953\"],[0.7777777777777778,\"#fb9f3a\"],[0.8888888888888888,\"#fdca26\"],[1.0,\"#f0f921\"]]}],\"heatmap\":[{\"type\":\"heatmap\",\"colorbar\":{\"outlinewidth\":0,\"ticks\":\"\"},\"colorscale\":[[0.0,\"#0d0887\"],[0.1111111111111111,\"#46039f\"],[0.2222222222222222,\"#7201a8\"],[0.3333333333333333,\"#9c179e\"],[0.4444444444444444,\"#bd3786\"],[0.5555555555555556,\"#d8576b\"],[0.6666666666666666,\"#ed7953\"],[0.7777777777777778,\"#fb9f3a\"],[0.8888888888888888,\"#fdca26\"],[1.0,\"#f0f921\"]]}],\"heatmapgl\":[{\"type\":\"heatmapgl\",\"colorbar\":{\"outlinewidth\":0,\"ticks\":\"\"},\"colorscale\":[[0.0,\"#0d0887\"],[0.1111111111111111,\"#46039f\"],[0.2222222222222222,\"#7201a8\"],[0.3333333333333333,\"#9c179e\"],[0.4444444444444444,\"#bd3786\"],[0.5555555555555556,\"#d8576b\"],[0.6666666666666666,\"#ed7953\"],[0.7777777777777778,\"#fb9f3a\"],[0.8888888888888888,\"#fdca26\"],[1.0,\"#f0f921\"]]}],\"contourcarpet\":[{\"type\":\"contourcarpet\",\"colorbar\":{\"outlinewidth\":0,\"ticks\":\"\"}}],\"contour\":[{\"type\":\"contour\",\"colorbar\":{\"outlinewidth\":0,\"ticks\":\"\"},\"colorscale\":[[0.0,\"#0d0887\"],[0.1111111111111111,\"#46039f\"],[0.2222222222222222,\"#7201a8\"],[0.3333333333333333,\"#9c179e\"],[0.4444444444444444,\"#bd3786\"],[0.5555555555555556,\"#d8576b\"],[0.6666666666666666,\"#ed7953\"],[0.7777777777777778,\"#fb9f3a\"],[0.8888888888888888,\"#fdca26\"],[1.0,\"#f0f921\"]]}],\"surface\":[{\"type\":\"surface\",\"colorbar\":{\"outlinewidth\":0,\"ticks\":\"\"},\"colorscale\":[[0.0,\"#0d0887\"],[0.1111111111111111,\"#46039f\"],[0.2222222222222222,\"#7201a8\"],[0.3333333333333333,\"#9c179e\"],[0.4444444444444444,\"#bd3786\"],[0.5555555555555556,\"#d8576b\"],[0.6666666666666666,\"#ed7953\"],[0.7777777777777778,\"#fb9f3a\"],[0.8888888888888888,\"#fdca26\"],[1.0,\"#f0f921\"]]}],\"mesh3d\":[{\"type\":\"mesh3d\",\"colorbar\":{\"outlinewidth\":0,\"ticks\":\"\"}}],\"scatter\":[{\"fillpattern\":{\"fillmode\":\"overlay\",\"size\":10,\"solidity\":0.2},\"type\":\"scatter\"}],\"parcoords\":[{\"type\":\"parcoords\",\"line\":{\"colorbar\":{\"outlinewidth\":0,\"ticks\":\"\"}}}],\"scatterpolargl\":[{\"type\":\"scatterpolargl\",\"marker\":{\"colorbar\":{\"outlinewidth\":0,\"ticks\":\"\"}}}],\"bar\":[{\"error_x\":{\"color\":\"#2a3f5f\"},\"error_y\":{\"color\":\"#2a3f5f\"},\"marker\":{\"line\":{\"color\":\"#E5ECF6\",\"width\":0.5},\"pattern\":{\"fillmode\":\"overlay\",\"size\":10,\"solidity\":0.2}},\"type\":\"bar\"}],\"scattergeo\":[{\"type\":\"scattergeo\",\"marker\":{\"colorbar\":{\"outlinewidth\":0,\"ticks\":\"\"}}}],\"scatterpolar\":[{\"type\":\"scatterpolar\",\"marker\":{\"colorbar\":{\"outlinewidth\":0,\"ticks\":\"\"}}}],\"histogram\":[{\"marker\":{\"pattern\":{\"fillmode\":\"overlay\",\"size\":10,\"solidity\":0.2}},\"type\":\"histogram\"}],\"scattergl\":[{\"type\":\"scattergl\",\"marker\":{\"colorbar\":{\"outlinewidth\":0,\"ticks\":\"\"}}}],\"scatter3d\":[{\"type\":\"scatter3d\",\"line\":{\"colorbar\":{\"outlinewidth\":0,\"ticks\":\"\"}},\"marker\":{\"colorbar\":{\"outlinewidth\":0,\"ticks\":\"\"}}}],\"scattermapbox\":[{\"type\":\"scattermapbox\",\"marker\":{\"colorbar\":{\"outlinewidth\":0,\"ticks\":\"\"}}}],\"scatterternary\":[{\"type\":\"scatterternary\",\"marker\":{\"colorbar\":{\"outlinewidth\":0,\"ticks\":\"\"}}}],\"scattercarpet\":[{\"type\":\"scattercarpet\",\"marker\":{\"colorbar\":{\"outlinewidth\":0,\"ticks\":\"\"}}}],\"carpet\":[{\"aaxis\":{\"endlinecolor\":\"#2a3f5f\",\"gridcolor\":\"white\",\"linecolor\":\"white\",\"minorgridcolor\":\"white\",\"startlinecolor\":\"#2a3f5f\"},\"baxis\":{\"endlinecolor\":\"#2a3f5f\",\"gridcolor\":\"white\",\"linecolor\":\"white\",\"minorgridcolor\":\"white\",\"startlinecolor\":\"#2a3f5f\"},\"type\":\"carpet\"}],\"table\":[{\"cells\":{\"fill\":{\"color\":\"#EBF0F8\"},\"line\":{\"color\":\"white\"}},\"header\":{\"fill\":{\"color\":\"#C8D4E3\"},\"line\":{\"color\":\"white\"}},\"type\":\"table\"}],\"barpolar\":[{\"marker\":{\"line\":{\"color\":\"#E5ECF6\",\"width\":0.5},\"pattern\":{\"fillmode\":\"overlay\",\"size\":10,\"solidity\":0.2}},\"type\":\"barpolar\"}],\"pie\":[{\"automargin\":true,\"type\":\"pie\"}]},\"layout\":{\"autotypenumbers\":\"strict\",\"colorway\":[\"#636efa\",\"#EF553B\",\"#00cc96\",\"#ab63fa\",\"#FFA15A\",\"#19d3f3\",\"#FF6692\",\"#B6E880\",\"#FF97FF\",\"#FECB52\"],\"font\":{\"color\":\"#2a3f5f\"},\"hovermode\":\"closest\",\"hoverlabel\":{\"align\":\"left\"},\"paper_bgcolor\":\"white\",\"plot_bgcolor\":\"#E5ECF6\",\"polar\":{\"bgcolor\":\"#E5ECF6\",\"angularaxis\":{\"gridcolor\":\"white\",\"linecolor\":\"white\",\"ticks\":\"\"},\"radialaxis\":{\"gridcolor\":\"white\",\"linecolor\":\"white\",\"ticks\":\"\"}},\"ternary\":{\"bgcolor\":\"#E5ECF6\",\"aaxis\":{\"gridcolor\":\"white\",\"linecolor\":\"white\",\"ticks\":\"\"},\"baxis\":{\"gridcolor\":\"white\",\"linecolor\":\"white\",\"ticks\":\"\"},\"caxis\":{\"gridcolor\":\"white\",\"linecolor\":\"white\",\"ticks\":\"\"}},\"coloraxis\":{\"colorbar\":{\"outlinewidth\":0,\"ticks\":\"\"}},\"colorscale\":{\"sequential\":[[0.0,\"#0d0887\"],[0.1111111111111111,\"#46039f\"],[0.2222222222222222,\"#7201a8\"],[0.3333333333333333,\"#9c179e\"],[0.4444444444444444,\"#bd3786\"],[0.5555555555555556,\"#d8576b\"],[0.6666666666666666,\"#ed7953\"],[0.7777777777777778,\"#fb9f3a\"],[0.8888888888888888,\"#fdca26\"],[1.0,\"#f0f921\"]],\"sequentialminus\":[[0.0,\"#0d0887\"],[0.1111111111111111,\"#46039f\"],[0.2222222222222222,\"#7201a8\"],[0.3333333333333333,\"#9c179e\"],[0.4444444444444444,\"#bd3786\"],[0.5555555555555556,\"#d8576b\"],[0.6666666666666666,\"#ed7953\"],[0.7777777777777778,\"#fb9f3a\"],[0.8888888888888888,\"#fdca26\"],[1.0,\"#f0f921\"]],\"diverging\":[[0,\"#8e0152\"],[0.1,\"#c51b7d\"],[0.2,\"#de77ae\"],[0.3,\"#f1b6da\"],[0.4,\"#fde0ef\"],[0.5,\"#f7f7f7\"],[0.6,\"#e6f5d0\"],[0.7,\"#b8e186\"],[0.8,\"#7fbc41\"],[0.9,\"#4d9221\"],[1,\"#276419\"]]},\"xaxis\":{\"gridcolor\":\"white\",\"linecolor\":\"white\",\"ticks\":\"\",\"title\":{\"standoff\":15},\"zerolinecolor\":\"white\",\"automargin\":true,\"zerolinewidth\":2},\"yaxis\":{\"gridcolor\":\"white\",\"linecolor\":\"white\",\"ticks\":\"\",\"title\":{\"standoff\":15},\"zerolinecolor\":\"white\",\"automargin\":true,\"zerolinewidth\":2},\"scene\":{\"xaxis\":{\"backgroundcolor\":\"#E5ECF6\",\"gridcolor\":\"white\",\"linecolor\":\"white\",\"showbackground\":true,\"ticks\":\"\",\"zerolinecolor\":\"white\",\"gridwidth\":2},\"yaxis\":{\"backgroundcolor\":\"#E5ECF6\",\"gridcolor\":\"white\",\"linecolor\":\"white\",\"showbackground\":true,\"ticks\":\"\",\"zerolinecolor\":\"white\",\"gridwidth\":2},\"zaxis\":{\"backgroundcolor\":\"#E5ECF6\",\"gridcolor\":\"white\",\"linecolor\":\"white\",\"showbackground\":true,\"ticks\":\"\",\"zerolinecolor\":\"white\",\"gridwidth\":2}},\"shapedefaults\":{\"line\":{\"color\":\"#2a3f5f\"}},\"annotationdefaults\":{\"arrowcolor\":\"#2a3f5f\",\"arrowhead\":0,\"arrowwidth\":1},\"geo\":{\"bgcolor\":\"white\",\"landcolor\":\"#E5ECF6\",\"subunitcolor\":\"white\",\"showland\":true,\"showlakes\":true,\"lakecolor\":\"white\"},\"title\":{\"x\":0.05},\"mapbox\":{\"style\":\"light\"}}},\"xaxis\":{\"anchor\":\"y\",\"domain\":[0.0,1.0],\"title\":{\"text\":\"Categoria\"},\"categoryorder\":\"array\",\"categoryarray\":[\"Computers&Accessories\",\"Electronics\",\"MusicalInstruments\",\"OfficeProducts\",\"Home&Kitchen\",\"HomeImprovement\",\"Toys&Games\",\"Car&Motorbike\",\"Health&PersonalCare\"],\"showline\":true,\"linewidth\":1,\"linecolor\":\"lightgrey\"},\"yaxis\":{\"anchor\":\"x\",\"domain\":[0.0,1.0],\"title\":{\"text\":\"Contagem\"},\"showline\":true,\"linewidth\":1,\"linecolor\":\"lightgrey\"},\"legend\":{\"title\":{\"text\":\"CATEGORIA\"},\"tracegroupgap\":0},\"margin\":{\"t\":60},\"boxmode\":\"overlay\",\"width\":900,\"font\":{\"size\":12},\"title\":{\"font\":{\"size\":22},\"text\":\"TOTAL DE AVALIA\\u00c7\\u00d5ES POR CATEGORIA\",\"x\":0.5},\"plot_bgcolor\":\"rgb(250, 250, 250)\",\"showlegend\":false},                        {\"responsive\": true}                    ).then(function(){\n",
              "                            \n",
              "var gd = document.getElementById('cd468344-7d69-4fe1-b988-e8395726b8df');\n",
              "var x = new MutationObserver(function (mutations, observer) {{\n",
              "        var display = window.getComputedStyle(gd).display;\n",
              "        if (!display || display === 'none') {{\n",
              "            console.log([gd, 'removed!']);\n",
              "            Plotly.purge(gd);\n",
              "            observer.disconnect();\n",
              "        }}\n",
              "}});\n",
              "\n",
              "// Listen for the removal of the full notebook cells\n",
              "var notebookContainer = gd.closest('#notebook-container');\n",
              "if (notebookContainer) {{\n",
              "    x.observe(notebookContainer, {childList: true});\n",
              "}}\n",
              "\n",
              "// Listen for the clearing of the current output cell\n",
              "var outputEl = gd.closest('.output');\n",
              "if (outputEl) {{\n",
              "    x.observe(outputEl, {childList: true});\n",
              "}}\n",
              "\n",
              "                        })                };                            </script>        </div>\n",
              "</body>\n",
              "</html>"
            ]
          },
          "metadata": {}
        }
      ]
    },
    {
      "cell_type": "markdown",
      "source": [
        "Ao olharmos para o gráfico, é possível perceber muitos comentários sobre determinados produtos de algumas categorias e alguns despontam em relação a outros da mesma categoria."
      ],
      "metadata": {
        "id": "gDTUmts7O4rJ"
      }
    },
    {
      "cell_type": "markdown",
      "source": [
        "## Medidas de Tendência Central\n",
        "Uma representação da concentração dos valores de determinada variável pode ser obtida com as medidas de tendência central.  \n",
        "\n",
        "Ao se analisar o percentual de desconto nas 4 categorias com maiores volumes de dados, utilizando a técnica do box plot, é possível verificar como os dados do percentual descontado estão distribuídos."
      ],
      "metadata": {
        "id": "h7GdSxIpnH0y"
      }
    },
    {
      "cell_type": "code",
      "source": [
        "plot_box = df[df.CATEGORIA.isin(df.CATEGORIA.value_counts().index[:4])]"
      ],
      "metadata": {
        "id": "9JERfSp8dgUx"
      },
      "execution_count": 33,
      "outputs": []
    },
    {
      "cell_type": "code",
      "source": [
        "perc_desc_cat = px.box(plot_box, y=\"PORCENTAGEM_DESCONTO\", width=900,\n",
        "                       color_discrete_sequence=tema, color=\"CATEGORIA\",\n",
        "                       notched=True)\n",
        "\n",
        "perc_desc_cat.update_layout(font_size=12, plot_bgcolor=\"rgb(250, 250, 250)\",\n",
        "                            title=dict(text=\"PERCENTUAL DE DESCONTO POR CATEGORIA\",\n",
        "                                       x=0.5, font_size=22),\n",
        "                            legend=dict(title=\"Categoria\", bgcolor=\"#F9F9F9\",\n",
        "                                        bordercolor=\"#D0D1D3\",\n",
        "                                        borderwidth=1,\n",
        "                                        font=dict(size=14)))\n",
        "\n",
        "perc_desc_cat.update_xaxes(showline=True, linewidth=1, linecolor=\"lightgrey\")\n",
        "\n",
        "perc_desc_cat.update_yaxes(showline=True, linewidth=1, linecolor=\"lightgrey\",\n",
        "                           title=\"Percentual Descontado\")"
      ],
      "metadata": {
        "id": "yrx1lfjKb5b-",
        "colab": {
          "base_uri": "https://localhost:8080/",
          "height": 542
        },
        "outputId": "9fe9a31e-9392-401e-a8ca-13204b8528da"
      },
      "execution_count": 34,
      "outputs": [
        {
          "output_type": "display_data",
          "data": {
            "text/html": [
              "<html>\n",
              "<head><meta charset=\"utf-8\" /></head>\n",
              "<body>\n",
              "    <div>            <script src=\"https://cdnjs.cloudflare.com/ajax/libs/mathjax/2.7.5/MathJax.js?config=TeX-AMS-MML_SVG\"></script><script type=\"text/javascript\">if (window.MathJax && window.MathJax.Hub && window.MathJax.Hub.Config) {window.MathJax.Hub.Config({SVG: {font: \"STIX-Web\"}});}</script>                <script type=\"text/javascript\">window.PlotlyConfig = {MathJaxConfig: 'local'};</script>\n",
              "        <script src=\"https://cdn.plot.ly/plotly-2.18.2.min.js\"></script>                <div id=\"f0db80cc-56b0-4094-b93e-7b9364d57db3\" class=\"plotly-graph-div\" style=\"height:525px; width:900px;\"></div>            <script type=\"text/javascript\">                                    window.PLOTLYENV=window.PLOTLYENV || {};                                    if (document.getElementById(\"f0db80cc-56b0-4094-b93e-7b9364d57db3\")) {                    Plotly.newPlot(                        \"f0db80cc-56b0-4094-b93e-7b9364d57db3\",                        [{\"alignmentgroup\":\"True\",\"hovertemplate\":\"CATEGORIA=Computers&Accessories<br>PORCENTAGEM_DESCONTO=%{y}<extra></extra>\",\"legendgroup\":\"Computers&Accessories\",\"marker\":{\"color\":\"#FD3216\"},\"name\":\"Computers&Accessories\",\"notched\":true,\"offsetgroup\":\"Computers&Accessories\",\"orientation\":\"v\",\"showlegend\":true,\"x0\":\" \",\"xaxis\":\"x\",\"y\":[0.6399999856948853,0.4300000071525574,0.8999999761581421,0.5299999713897705,0.6100000143051147,0.8500000238418579,0.6499999761581421,0.23000000417232513,0.5,0.33000001311302185,0.550000011920929,0.6299999952316284,0.6100000143051147,0.6000000238418579,0.12999999523162842,0.3799999952316284,0.6000000238418579,0.46000000834465027,0.699999988079071,0.25,0.5099999904632568,0.699999988079071,0.7300000190734863,0.6399999856948853,0.6499999761581421,0.0,0.800000011920929,0.8500000238418579,0.5299999713897705,0.800000011920929,0.5099999904632568,0.699999988079071,0.6399999856948853,0.3799999952316284,0.699999988079071,0.6700000166893005,0.5799999833106995,0.5,0.44999998807907104,0.6399999856948853,0.6200000047683716,0.4300000071525574,0.5400000214576721,0.7699999809265137,0.5600000023841858,0.8600000143051147,0.6100000143051147,0.6200000047683716,0.6899999976158142,0.6100000143051147,0.41999998688697815,0.7699999809265137,0.6000000238418579,0.6000000238418579,0.550000011920929,0.5799999833106995,0.6399999856948853,0.4399999976158142,0.6299999952316284,0.75,0.800000011920929,0.6800000071525574,0.6600000262260437,0.5699999928474426,0.800000011920929,0.17000000178813934,0.6499999761581421,0.41999998688697815,0.5199999809265137,0.5299999713897705,0.6499999761581421,0.6000000238418579,0.6499999761581421,0.699999988079071,0.8799999952316284,0.7300000190734863,0.6000000238418579,0.4699999988079071,0.6499999761581421,0.8500000238418579,0.75,0.20000000298023224,0.6000000238418579,0.4000000059604645,0.5400000214576721,0.7300000190734863,0.5,0.6399999856948853,0.4300000071525574,0.4399999976158142,0.5199999809265137,0.4399999976158142,0.4699999988079071,0.6899999976158142,0.6200000047683716,0.3799999952316284,0.25,0.6600000262260437,0.699999988079071,0.6299999952316284,0.28999999165534973,0.6899999976158142,0.3799999952316284,0.4399999976158142,0.6299999952316284,0.6700000166893005,0.800000011920929,0.6000000238418579,0.7099999785423279,0.6399999856948853,0.7099999785423279,0.5699999928474426,0.15000000596046448,0.5299999713897705,0.5799999833106995,0.3799999952316284,0.5299999713897705,0.6600000262260437,0.6499999761581421,0.4699999988079071,0.75,0.47999998927116394,0.4099999964237213,0.550000011920929,0.6299999952316284,0.25,0.41999998688697815,0.75,0.6299999952316284,0.6000000238418579,0.4300000071525574,0.6800000071525574,0.5,0.5400000214576721,0.7300000190734863,0.550000011920929,0.7699999809265137,0.28999999165534973,0.5899999737739563,0.6800000071525574,0.550000011920929,0.6600000262260437,0.6299999952316284,0.8899999856948853,0.44999998807907104,0.8700000047683716,0.6299999952316284,0.699999988079071,0.699999988079071,0.6299999952316284,0.6100000143051147,0.699999988079071,0.3499999940395355,0.800000011920929,0.5199999809265137,0.6000000238418579,0.3799999952316284,0.800000011920929,0.8799999952316284,0.75,0.5899999737739563,0.6100000143051147,0.7099999785423279,0.7799999713897705,0.800000011920929,0.6600000262260437,0.7799999713897705,0.6100000143051147,0.6299999952316284,0.5699999928474426,0.75,0.6499999761581421,0.20000000298023224,0.6299999952316284,0.6399999856948853,0.4300000071525574,0.800000011920929,0.5299999713897705,0.6100000143051147,0.8500000238418579,0.8999999761581421,0.6499999761581421,0.23000000417232513,0.33000001311302185,0.550000011920929,0.6299999952316284,0.6100000143051147,0.6000000238418579,0.12999999523162842,0.46000000834465027,0.3799999952316284,0.6000000238418579,0.699999988079071,0.4399999976158142,0.699999988079071,0.5099999904632568,0.8500000238418579,0.5299999713897705,0.0,0.6200000047683716,0.6899999976158142,0.7699999809265137,0.6000000238418579,0.550000011920929,0.5600000023841858,0.33000001311302185,0.07999999821186066,0.6200000047683716,0.7699999809265137,0.8999999761581421,0.6800000071525574,0.5899999737739563,0.5,0.6899999976158142,0.5400000214576721,0.6399999856948853,0.4399999976158142,0.4300000071525574,0.800000011920929,0.18000000715255737,0.33000001311302185,0.5299999713897705,0.30000001192092896,0.6100000143051147,0.6200000047683716,0.6600000262260437,0.8500000238418579,0.05999999865889549,0.8999999761581421,0.8700000047683716,0.6399999856948853,0.5600000023841858,0.27000001072883606,0.8700000047683716,0.6700000166893005,0.6499999761581421,0.4300000071525574,0.6600000262260437,0.5,0.800000011920929,0.18000000715255737,0.23000000417232513,0.5400000214576721,0.550000011920929,0.5600000023841858,0.6000000238418579,0.4300000071525574,0.23999999463558197,0.5,0.550000011920929,0.3799999952316284,0.33000001311302185,0.6100000143051147,0.33000001311302185,0.6000000238418579,0.5699999928474426,0.9399999976158142,0.03999999910593033,0.12999999523162842,0.46000000834465027,0.4099999964237213,0.5400000214576721,0.0,0.36000001430511475,0.5899999737739563,0.25999999046325684,0.699999988079071,0.4000000059604645,0.7300000190734863,0.5799999833106995,0.30000001192092896,0.3199999928474426,0.25,0.8299999833106995,0.8500000238418579,0.6299999952316284,0.7099999785423279,0.6399999856948853,0.25,0.5299999713897705,0.4300000071525574,0.550000011920929,0.44999998807907104,0.36000001430511475,0.800000011920929,0.2800000011920929,0.1899999976158142,0.5600000023841858,0.6000000238418579,0.25,0.6600000262260437,0.38999998569488525,0.699999988079071,0.6000000238418579,0.5,0.49000000953674316,0.20000000298023224,0.6600000262260437,0.8500000238418579,0.7300000190734863,0.10000000149011612,0.5099999904632568,0.7699999809265137,0.5099999904632568,0.699999988079071,0.23999999463558197,0.23000000417232513,0.3799999952316284,0.550000011920929,0.5,0.7699999809265137,0.4000000059604645,0.4399999976158142,0.7300000190734863,0.699999988079071,0.6200000047683716,0.5,0.4099999964237213,0.30000001192092896,0.5,0.2800000011920929,0.5899999737739563,0.6399999856948853,0.2199999988079071,0.46000000834465027,0.550000011920929,0.20999999344348907,0.6499999761581421,0.3799999952316284,0.0,0.3499999940395355,0.6399999856948853,0.4099999964237213,0.41999998688697815,0.0,0.2199999988079071,0.800000011920929,0.5299999713897705,0.800000011920929,0.8500000238418579,0.6899999976158142,0.3799999952316284,0.4300000071525574,0.18000000715255737,0.6200000047683716,0.6299999952316284,0.5099999904632568,0.699999988079071,0.3499999940395355,0.4000000059604645,0.7900000214576721,0.6700000166893005,0.6000000238418579,0.800000011920929,0.5,0.3799999952316284,0.8799999952316284,0.6499999761581421,0.07999999821186066,0.5,0.699999988079071,0.30000001192092896,0.6600000262260437,0.4000000059604645,0.5799999833106995,0.5299999713897705,0.7799999713897705,0.5,0.20999999344348907,0.0,0.23000000417232513,0.6200000047683716,0.5699999928474426,0.44999998807907104,0.25,0.6200000047683716,0.6499999761581421,0.550000011920929,0.3499999940395355,0.23999999463558197,0.4300000071525574,0.18000000715255737,0.3400000035762787,0.23000000417232513,0.10000000149011612,0.4699999988079071,0.550000011920929,0.7699999809265137,0.6000000238418579,0.5600000023841858,0.5600000023841858,0.5299999713897705,0.7599999904632568,0.7799999713897705,0.75,0.36000001430511475,0.6800000071525574,0.5,0.4000000059604645,0.8600000143051147,0.36000001430511475,0.7300000190734863,0.5799999833106995,0.6100000143051147,0.6600000262260437,0.800000011920929,0.75,0.5,0.7599999904632568,0.3799999952316284,0.41999998688697815,0.1599999964237213,0.47999998927116394,0.3400000035762787,0.3100000023841858,0.17000000178813934,0.17000000178813934,0.6200000047683716,0.3400000035762787,0.5099999904632568,0.6899999976158142,0.0,0.28999999165534973,0.800000011920929,0.6100000143051147,0.5,0.7699999809265137,0.6000000238418579,0.14000000059604645,0.47999998927116394,0.7300000190734863,0.6200000047683716,0.6000000238418579,0.4699999988079071,0.550000011920929,0.550000011920929,0.36000001430511475,0.5,0.0,0.5600000023841858,0.5799999833106995,0.27000001072883606,0.5699999928474426,0.75,0.12999999523162842,0.46000000834465027,0.75,0.6499999761581421,0.6399999856948853,0.3799999952316284,0.800000011920929,0.6600000262260437,0.699999988079071],\"y0\":\" \",\"yaxis\":\"y\",\"type\":\"box\"},{\"alignmentgroup\":\"True\",\"hovertemplate\":\"CATEGORIA=Electronics<br>PORCENTAGEM_DESCONTO=%{y}<extra></extra>\",\"legendgroup\":\"Electronics\",\"marker\":{\"color\":\"#00FE35\"},\"name\":\"Electronics\",\"notched\":true,\"offsetgroup\":\"Electronics\",\"orientation\":\"v\",\"showlegend\":true,\"x0\":\" \",\"xaxis\":\"x\",\"y\":[0.6899999976158142,0.4399999976158142,0.38999998569488525,0.4399999976158142,0.4099999964237213,0.41999998688697815,0.7200000286102295,0.25,0.2800000011920929,0.4300000071525574,0.3499999940395355,0.6000000238418579,0.46000000834465027,0.5400000214576721,0.27000001072883606,0.7799999713897705,0.3100000023841858,0.4399999976158142,0.7799999713897705,0.4699999988079071,0.4699999988079071,0.3700000047683716,0.6499999761581421,0.6399999856948853,0.6200000047683716,0.25,0.3199999928474426,0.4099999964237213,0.2199999988079071,0.5400000214576721,0.6899999976158142,0.7699999809265137,0.6700000166893005,0.27000001072883606,0.41999998688697815,0.6299999952316284,0.33000001311302185,0.800000011920929,0.3499999940395355,0.6299999952316284,0.4699999988079071,0.5299999713897705,0.27000001072883606,0.5299999713897705,0.6200000047683716,0.6399999856948853,0.41999998688697815,0.5899999737739563,0.3100000023841858,0.7300000190734863,0.3799999952316284,0.5799999833106995,0.0,0.4000000059604645,0.23000000417232513,0.6100000143051147,0.3100000023841858,0.5400000214576721,0.25999999046325684,0.5,0.4099999964237213,0.5799999833106995,0.5600000023841858,0.3199999928474426,0.75,0.8299999833106995,0.46000000834465027,0.3100000023841858,0.6000000238418579,0.5899999737739563,0.5299999713897705,0.7599999904632568,0.47999998927116394,0.3199999928474426,0.75,0.3100000023841858,0.8199999928474426,0.6600000262260437,0.6499999761581421,0.2199999988079071,0.6299999952316284,0.6600000262260437,0.3499999940395355,0.6100000143051147,0.699999988079071,0.5899999737739563,0.2800000011920929,0.8299999833106995,0.6499999761581421,0.6700000166893005,0.5,0.46000000834465027,0.5699999928474426,0.5799999833106995,0.8799999952316284,0.36000001430511475,0.41999998688697815,0.75,0.5600000023841858,0.5,0.6000000238418579,0.5,0.8299999833106995,0.4399999976158142,0.5600000023841858,0.4399999976158142,0.7599999904632568,0.3499999940395355,0.41999998688697815,0.5699999928474426,0.6000000238418579,0.0,0.23999999463558197,0.5899999737739563,0.36000001430511475,0.4300000071525574,0.2800000011920929,0.6499999761581421,0.5299999713897705,0.6000000238418579,0.6000000238418579,0.3400000035762787,0.27000001072883606,0.5,0.3700000047683716,0.4000000059604645,0.5699999928474426,0.46000000834465027,0.5,0.47999998927116394,0.5899999737739563,0.4000000059604645,0.699999988079071,0.4099999964237213,0.5,0.5,0.5899999737739563,0.5199999809265137,0.6200000047683716,0.6299999952316284,0.44999998807907104,0.3700000047683716,0.15000000596046448,0.44999998807907104,0.3499999940395355,0.6299999952316284,0.23000000417232513,0.5899999737739563,0.3799999952316284,0.5400000214576721,0.6000000238418579,0.5,0.0,0.5199999809265137,0.10999999940395355,0.5099999904632568,0.46000000834465027,0.6100000143051147,0.47999998927116394,0.33000001311302185,0.9100000262260437,0.800000011920929,0.75,0.07000000029802322,0.2800000011920929,0.0,0.0,0.2800000011920929,0.2800000011920929,0.4300000071525574,0.6200000047683716,0.1899999976158142,0.7900000214576721,0.4000000059604645,0.20999999344348907,0.7599999904632568,0.25,0.7300000190734863,0.6499999761581421,0.4699999988079071,0.20999999344348907,0.4000000059604645,0.47999998927116394,0.6499999761581421,0.2800000011920929,0.6000000238418579,0.8100000023841858,0.28999999165534973,0.4699999988079071,0.2800000011920929,0.9100000262260437,0.7799999713897705,0.3199999928474426,0.20999999344348907,0.9100000262260437,0.23000000417232513,0.23999999463558197,0.9100000262260437,0.25,0.7200000286102295,0.7599999904632568,0.5,0.18000000715255737,0.9100000262260437,0.25,0.49000000953674316,0.1899999976158142,0.6600000262260437,0.800000011920929,0.25999999046325684,0.20000000298023224,0.3700000047683716,0.4300000071525574,0.5,0.75,0.17000000178813934,0.7099999785423279,0.800000011920929,0.7099999785423279,0.6499999761581421,0.2800000011920929,0.6200000047683716,0.30000001192092896,0.6000000238418579,0.800000011920929,0.699999988079071,0.0,0.8399999737739563,0.27000001072883606,0.10000000149011612,0.3199999928474426,0.6000000238418579,0.3799999952316284,0.1899999976158142,0.6700000166893005,0.6800000071525574,0.2800000011920929,0.27000001072883606,0.6200000047683716,0.75,0.3499999940395355,0.2800000011920929,0.6000000238418579,0.2800000011920929,0.2199999988079071,0.6200000047683716,0.41999998688697815,0.7599999904632568,0.7699999809265137,0.25999999046325684,0.18000000715255737,0.20999999344348907,0.6000000238418579,0.8100000023841858,0.05999999865889549,0.47999998927116394,0.2199999988079071,0.30000001192092896,0.3799999952316284,0.2800000011920929,0.25999999046325684,0.6600000262260437,0.6800000071525574,0.2199999988079071,0.30000001192092896,0.5,0.2199999988079071,0.18000000715255737,0.14000000059604645,0.7900000214576721,0.75,0.6600000262260437,0.6499999761581421,0.5199999809265137,0.6200000047683716,0.7799999713897705,0.20999999344348907,0.0,0.6600000262260437,0.2199999988079071,0.75,0.1899999976158142,0.699999988079071,0.8100000023841858,0.8199999928474426,0.33000001311302185,0.5400000214576721,0.6499999761581421,0.2800000011920929,0.6499999761581421,0.17000000178813934,0.7799999713897705,0.8100000023841858,0.4399999976158142,0.8500000238418579,0.25999999046325684,0.12999999523162842,0.6000000238418579,0.7699999809265137,0.4000000059604645,0.8199999928474426,0.7400000095367432,0.7900000214576721,0.30000001192092896,0.03999999910593033,0.1899999976158142,0.28999999165534973,0.3199999928474426,0.5,0.6700000166893005,0.7799999713897705,0.4300000071525574,0.800000011920929,0.3199999928474426,0.699999988079071,0.1899999976158142,0.7599999904632568,0.28999999165534973,0.5799999833106995,0.14000000059604645,0.8500000238418579,0.5799999833106995,0.75,0.8399999737739563,0.12999999523162842,0.05000000074505806,0.800000011920929,0.6899999976158142,0.6600000262260437,0.7400000095367432,0.699999988079071,0.5799999833106995,0.3499999940395355,0.46000000834465027,0.1899999976158142,0.10000000149011612,0.12999999523162842,0.5699999928474426,0.5299999713897705,0.7300000190734863,0.800000011920929,0.2800000011920929,0.8999999761581421,0.27000001072883606,0.25,0.8600000143051147,0.33000001311302185,0.75,0.5,0.7400000095367432,0.7400000095367432,0.5400000214576721,0.8799999952316284,0.4300000071525574,0.3199999928474426,0.3799999952316284,0.41999998688697815,0.8999999761581421,0.20999999344348907,0.8100000023841858,0.1599999964237213,0.75,0.7400000095367432,0.6000000238418579,0.20999999344348907,0.7300000190734863,0.49000000953674316,0.550000011920929,0.28999999165534973,0.5,0.7799999713897705,0.5600000023841858,0.5699999928474426,0.17000000178813934,0.8199999928474426,0.75,0.7900000214576721,0.2800000011920929,0.7200000286102295,0.6299999952316284,0.6299999952316284,0.6700000166893005,0.800000011920929,0.7699999809265137,0.5699999928474426,0.4300000071525574,0.6000000238418579,0.6499999761581421,0.6299999952316284,0.4000000059604645,0.6899999976158142,0.7900000214576721,0.5,0.7300000190734863,0.6000000238418579,0.8100000023841858,0.6700000166893005,0.7799999713897705,0.1599999964237213,0.6499999761581421,0.7599999904632568,0.6899999976158142,0.5,0.75,0.800000011920929,0.75,0.7099999785423279,0.800000011920929,0.6200000047683716,0.6899999976158142,0.6000000238418579,0.7400000095367432,0.7599999904632568,0.8299999833106995,0.17000000178813934,0.7799999713897705,0.800000011920929,0.2800000011920929,0.6000000238418579,0.6399999856948853,0.2800000011920929,0.5199999809265137,0.5400000214576721,0.6000000238418579,0.10000000149011612,0.6200000047683716,0.5699999928474426,0.6899999976158142,0.7699999809265137,0.20000000298023224,0.4699999988079071,0.6800000071525574,0.05999999865889549,0.3799999952316284,0.0,0.699999988079071,0.6000000238418579,0.6299999952316284,0.15000000596046448,0.4699999988079071,0.4300000071525574,0.44999998807907104,0.6499999761581421,0.38999998569488525,0.5,0.4000000059604645,0.23999999463558197,0.800000011920929,0.20000000298023224,0.4399999976158142,0.4099999964237213,0.5,0.550000011920929,0.33000001311302185,0.7200000286102295,0.8100000023841858,0.6499999761581421,0.699999988079071,0.4300000071525574,0.75,0.11999999731779099,0.5400000214576721,0.550000011920929,0.30000001192092896,0.14000000059604645,0.7400000095367432,0.800000011920929,0.800000011920929,0.8500000238418579,0.5699999928474426,0.7599999904632568,0.4399999976158142,0.5099999904632568,0.6399999856948853,0.6000000238418579,0.6700000166893005,0.3799999952316284,0.75,0.6499999761581421,0.20999999344348907,0.0,0.6000000238418579,0.25,0.5400000214576721,0.6200000047683716,0.5799999833106995,0.47999998927116394,0.75,0.8199999928474426,0.5699999928474426,0.4300000071525574,0.6299999952316284,0.7599999904632568,0.6600000262260437,0.25,0.6399999856948853,0.3799999952316284,0.41999998688697815,0.5799999833106995,0.6000000238418579,0.6899999976158142,0.41999998688697815,0.25,0.7400000095367432,0.5299999713897705,0.8999999761581421,0.1599999964237213,0.5600000023841858,0.25,0.46000000834465027,0.4399999976158142,0.41999998688697815,0.5899999737739563,0.8799999952316284,0.0,0.14000000059604645,0.6899999976158142,0.25,0.7900000214576721,0.699999988079071,0.550000011920929,0.05000000074505806,0.6600000262260437,0.6000000238418579,0.6299999952316284,0.5],\"y0\":\" \",\"yaxis\":\"y\",\"type\":\"box\"},{\"alignmentgroup\":\"True\",\"hovertemplate\":\"CATEGORIA=OfficeProducts<br>PORCENTAGEM_DESCONTO=%{y}<extra></extra>\",\"legendgroup\":\"OfficeProducts\",\"marker\":{\"color\":\"#6A76FC\"},\"name\":\"OfficeProducts\",\"notched\":true,\"offsetgroup\":\"OfficeProducts\",\"orientation\":\"v\",\"showlegend\":true,\"x0\":\" \",\"xaxis\":\"x\",\"y\":[0.0,0.0,0.05000000074505806,0.019999999552965164,0.75,0.14000000059604645,0.0,0.0,0.20000000298023224,0.20000000298023224,0.3100000023841858,0.2199999988079071,0.0,0.10999999940395355,0.49000000953674316,0.05000000074505806,0.0,0.15000000596046448,0.019999999552965164,0.10000000149011612,0.0,0.15000000596046448,0.5299999713897705,0.0,0.0,0.23999999463558197,0.0,0.10000000149011612,0.0,0.0,0.0],\"y0\":\" \",\"yaxis\":\"y\",\"type\":\"box\"},{\"alignmentgroup\":\"True\",\"hovertemplate\":\"CATEGORIA=Home&Kitchen<br>PORCENTAGEM_DESCONTO=%{y}<extra></extra>\",\"legendgroup\":\"Home&Kitchen\",\"marker\":{\"color\":\"#FED4C4\"},\"name\":\"Home&Kitchen\",\"notched\":true,\"offsetgroup\":\"Home&Kitchen\",\"orientation\":\"v\",\"showlegend\":true,\"x0\":\" \",\"xaxis\":\"x\",\"y\":[0.20999999344348907,0.15000000596046448,0.0,0.0,0.10000000149011612,0.12999999523162842,0.0,0.47999998927116394,0.28999999165534973,0.4000000059604645,0.5400000214576721,0.8999999761581421,0.4099999964237213,0.6000000238418579,0.4000000059604645,0.10000000149011612,0.47999998927116394,0.4699999988079071,0.2199999988079071,0.5,0.10999999940395355,0.5,0.550000011920929,0.47999998927116394,0.41999998688697815,0.5299999713897705,0.46000000834465027,0.5600000023841858,0.4000000059604645,0.5799999833106995,0.6299999952316284,0.23999999463558197,0.3799999952316284,0.44999998807907104,0.5,0.800000011920929,0.25,0.5600000023841858,0.4099999964237213,0.550000011920929,0.6499999761581421,0.07999999821186066,0.4399999976158142,0.550000011920929,0.47999998927116394,0.6100000143051147,0.11999999731779099,0.3700000047683716,0.20999999344348907,0.38999998569488525,0.5,0.25999999046325684,0.3400000035762787,0.4000000059604645,0.6200000047683716,0.5400000214576721,0.41999998688697815,0.0,0.5,0.550000011920929,0.14000000059604645,0.44999998807907104,0.10999999940395355,0.5899999737739563,0.23999999463558197,0.6000000238418579,0.46000000834465027,0.38999998569488525,0.33000001311302185,0.4000000059604645,0.27000001072883606,0.3700000047683716,0.47999998927116394,0.6499999761581421,0.3799999952316284,0.4699999988079071,0.47999998927116394,0.3400000035762787,0.6000000238418579,0.0,0.4399999976158142,0.6100000143051147,0.3400000035762787,0.25999999046325684,0.2800000011920929,0.5,0.5099999904632568,0.20000000298023224,0.36000001430511475,0.4699999988079071,0.14000000059604645,0.1599999964237213,0.7099999785423279,0.41999998688697815,0.23999999463558197,0.23000000417232513,0.0,0.3499999940395355,0.25999999046325684,0.14000000059604645,0.10999999940395355,0.5400000214576721,0.5099999904632568,0.18000000715255737,0.5699999928474426,0.1599999964237213,0.7099999785423279,0.38999998569488525,0.4000000059604645,0.33000001311302185,0.3499999940395355,0.4099999964237213,0.46000000834465027,0.0,0.0,0.47999998927116394,0.6200000047683716,0.4699999988079071,0.36000001430511475,0.44999998807907104,0.20000000298023224,0.47999998927116394,0.28999999165534973,0.6000000238418579,0.25999999046325684,0.33000001311302185,0.10000000149011612,0.550000011920929,0.5899999737739563,0.3100000023841858,0.2800000011920929,0.20000000298023224,0.6200000047683716,0.47999998927116394,0.3799999952316284,0.4099999964237213,0.5199999809265137,0.18000000715255737,0.7799999713897705,0.3100000023841858,0.47999998927116394,0.47999998927116394,0.5099999904632568,0.44999998807907104,0.550000011920929,0.0,0.4699999988079071,0.4300000071525574,0.5199999809265137,0.0,0.5099999904632568,0.3199999928474426,0.4699999988079071,0.38999998569488525,0.49000000953674316,0.49000000953674316,0.4000000059604645,0.23000000417232513,0.0,0.3100000023841858,0.6000000238418579,0.4000000059604645,0.20000000298023224,0.4699999988079071,0.7900000214576721,0.0,0.7599999904632568,0.10999999940395355,0.3499999940395355,0.49000000953674316,0.6000000238418579,0.41999998688697815,0.550000011920929,0.25999999046325684,0.23999999463558197,0.4099999964237213,0.36000001430511475,0.49000000953674316,0.7400000095367432,0.5799999833106995,0.28999999165534973,0.3700000047683716,0.3799999952316284,0.6000000238418579,0.6399999856948853,0.4399999976158142,0.5799999833106995,0.3499999940395355,0.5299999713897705,0.28999999165534973,0.15000000596046448,0.11999999731779099,0.3700000047683716,0.4300000071525574,0.49000000953674316,0.7699999809265137,0.5299999713897705,0.10999999940395355,0.46000000834465027,0.6100000143051147,0.5,0.27000001072883606,0.49000000953674316,0.28999999165534973,0.4099999964237213,0.2800000011920929,0.0,0.5600000023841858,0.38999998569488525,0.46000000834465027,0.6200000047683716,0.20000000298023224,0.5,0.4300000071525574,0.6600000262260437,0.6200000047683716,0.38999998569488525,0.699999988079071,0.3799999952316284,0.4099999964237213,0.2800000011920929,0.03999999910593033,0.12999999523162842,0.20000000298023224,0.4699999988079071,0.1899999976158142,0.3400000035762787,0.550000011920929,0.2199999988079071,0.49000000953674316,0.6800000071525574,0.27000001072883606,0.3799999952316284,0.3100000023841858,0.5199999809265137,0.11999999731779099,0.38999998569488525,0.38999998569488525,0.33000001311302185,0.07000000029802322,0.550000011920929,0.5799999833106995,0.5099999904632568,0.17000000178813934,0.5,0.550000011920929,0.4099999964237213,0.15000000596046448,0.05999999865889549,0.17000000178813934,0.7300000190734863,0.0,0.6100000143051147,0.5400000214576721,0.1599999964237213,0.5199999809265137,0.4000000059604645,0.3700000047683716,0.5600000023841858,0.18000000715255737,0.550000011920929,0.4099999964237213,0.1599999964237213,0.14000000059604645,0.3700000047683716,0.46000000834465027,0.5699999928474426,0.550000011920929,0.6299999952316284,0.7699999809265137,0.23999999463558197,0.25999999046325684,0.800000011920929,0.5,0.3799999952316284,0.4399999976158142,0.6700000166893005,0.2199999988079071,0.44999998807907104,0.4000000059604645,0.25,0.5199999809265137,0.75,0.4399999976158142,0.47999998927116394,0.029999999329447746,0.20999999344348907,0.0,0.47999998927116394,0.5299999713897705,0.029999999329447746,0.5199999809265137,0.47999998927116394,0.2800000011920929,0.5799999833106995,0.4300000071525574,0.49000000953674316,0.7699999809265137,0.5699999928474426,0.5,0.7300000190734863,0.44999998807907104,0.4000000059604645,0.5799999833106995,0.33000001311302185,0.2800000011920929,0.44999998807907104,0.6800000071525574,0.3499999940395355,0.4000000059604645,0.6200000047683716,0.25,0.27000001072883606,0.6200000047683716,0.4099999964237213,0.5299999713897705,0.20999999344348907,0.33000001311302185,0.550000011920929,0.4699999988079071,0.18000000715255737,0.3700000047683716,0.3700000047683716,0.5099999904632568,0.2800000011920929,0.09000000357627869,0.30000001192092896,0.5799999833106995,0.14000000059604645,0.5299999713897705,0.5,0.3799999952316284,0.6000000238418579,0.4300000071525574,0.4099999964237213,0.4300000071525574,0.49000000953674316,0.4300000071525574,0.0,0.46000000834465027,0.5400000214576721,0.07999999821186066,0.44999998807907104,0.4300000071525574,0.28999999165534973,0.550000011920929,0.6399999856948853,0.5099999904632568,0.7599999904632568,0.38999998569488525,0.3400000035762787,0.4099999964237213,0.5400000214576721,0.5,0.28999999165534973,0.3799999952316284,0.6899999976158142,0.2199999988079071,0.6000000238418579,0.8600000143051147,0.3100000023841858,0.7099999785423279,0.5299999713897705,0.07999999821186066,0.2800000011920929,0.44999998807907104,0.4399999976158142,0.33000001311302185,0.3499999940395355,0.03999999910593033,0.3100000023841858,0.5699999928474426,0.6200000047683716,0.17000000178813934,0.28999999165534973,0.5,0.5299999713897705,0.44999998807907104,0.5699999928474426,0.6200000047683716,0.25,0.44999998807907104,0.27000001072883606,0.25999999046325684,0.47999998927116394,0.33000001311302185,0.5400000214576721,0.30000001192092896,0.46000000834465027,0.3700000047683716,0.4300000071525574,0.7799999713897705,0.5,0.23999999463558197,0.029999999329447746,0.33000001311302185,0.49000000953674316,0.27000001072883606,0.4000000059604645,0.800000011920929,0.5099999904632568,0.33000001311302185,0.3499999940395355,0.5899999737739563,0.550000011920929,0.5899999737739563,0.5899999737739563,0.10999999940395355,0.3799999952316284,0.5899999737739563,0.6000000238418579,0.23999999463558197,0.3100000023841858,0.3700000047683716,0.15000000596046448,0.47999998927116394,0.46000000834465027,0.5,0.11999999731779099,0.33000001311302185,0.4399999976158142,0.3799999952316284,0.4000000059604645,0.5,0.18000000715255737,0.2800000011920929,0.17000000178813934,0.49000000953674316,0.3799999952316284,0.38999998569488525,0.4300000071525574,0.4300000071525574,0.7200000286102295,0.550000011920929,0.3199999928474426,0.5699999928474426,0.28999999165534973,0.5,0.30000001192092896,0.5899999737739563,0.0,0.5899999737739563,0.800000011920929,0.5899999737739563,0.25,0.2800000011920929,0.25999999046325684,0.2199999988079071],\"y0\":\" \",\"yaxis\":\"y\",\"type\":\"box\"}],                        {\"template\":{\"data\":{\"histogram2dcontour\":[{\"type\":\"histogram2dcontour\",\"colorbar\":{\"outlinewidth\":0,\"ticks\":\"\"},\"colorscale\":[[0.0,\"#0d0887\"],[0.1111111111111111,\"#46039f\"],[0.2222222222222222,\"#7201a8\"],[0.3333333333333333,\"#9c179e\"],[0.4444444444444444,\"#bd3786\"],[0.5555555555555556,\"#d8576b\"],[0.6666666666666666,\"#ed7953\"],[0.7777777777777778,\"#fb9f3a\"],[0.8888888888888888,\"#fdca26\"],[1.0,\"#f0f921\"]]}],\"choropleth\":[{\"type\":\"choropleth\",\"colorbar\":{\"outlinewidth\":0,\"ticks\":\"\"}}],\"histogram2d\":[{\"type\":\"histogram2d\",\"colorbar\":{\"outlinewidth\":0,\"ticks\":\"\"},\"colorscale\":[[0.0,\"#0d0887\"],[0.1111111111111111,\"#46039f\"],[0.2222222222222222,\"#7201a8\"],[0.3333333333333333,\"#9c179e\"],[0.4444444444444444,\"#bd3786\"],[0.5555555555555556,\"#d8576b\"],[0.6666666666666666,\"#ed7953\"],[0.7777777777777778,\"#fb9f3a\"],[0.8888888888888888,\"#fdca26\"],[1.0,\"#f0f921\"]]}],\"heatmap\":[{\"type\":\"heatmap\",\"colorbar\":{\"outlinewidth\":0,\"ticks\":\"\"},\"colorscale\":[[0.0,\"#0d0887\"],[0.1111111111111111,\"#46039f\"],[0.2222222222222222,\"#7201a8\"],[0.3333333333333333,\"#9c179e\"],[0.4444444444444444,\"#bd3786\"],[0.5555555555555556,\"#d8576b\"],[0.6666666666666666,\"#ed7953\"],[0.7777777777777778,\"#fb9f3a\"],[0.8888888888888888,\"#fdca26\"],[1.0,\"#f0f921\"]]}],\"heatmapgl\":[{\"type\":\"heatmapgl\",\"colorbar\":{\"outlinewidth\":0,\"ticks\":\"\"},\"colorscale\":[[0.0,\"#0d0887\"],[0.1111111111111111,\"#46039f\"],[0.2222222222222222,\"#7201a8\"],[0.3333333333333333,\"#9c179e\"],[0.4444444444444444,\"#bd3786\"],[0.5555555555555556,\"#d8576b\"],[0.6666666666666666,\"#ed7953\"],[0.7777777777777778,\"#fb9f3a\"],[0.8888888888888888,\"#fdca26\"],[1.0,\"#f0f921\"]]}],\"contourcarpet\":[{\"type\":\"contourcarpet\",\"colorbar\":{\"outlinewidth\":0,\"ticks\":\"\"}}],\"contour\":[{\"type\":\"contour\",\"colorbar\":{\"outlinewidth\":0,\"ticks\":\"\"},\"colorscale\":[[0.0,\"#0d0887\"],[0.1111111111111111,\"#46039f\"],[0.2222222222222222,\"#7201a8\"],[0.3333333333333333,\"#9c179e\"],[0.4444444444444444,\"#bd3786\"],[0.5555555555555556,\"#d8576b\"],[0.6666666666666666,\"#ed7953\"],[0.7777777777777778,\"#fb9f3a\"],[0.8888888888888888,\"#fdca26\"],[1.0,\"#f0f921\"]]}],\"surface\":[{\"type\":\"surface\",\"colorbar\":{\"outlinewidth\":0,\"ticks\":\"\"},\"colorscale\":[[0.0,\"#0d0887\"],[0.1111111111111111,\"#46039f\"],[0.2222222222222222,\"#7201a8\"],[0.3333333333333333,\"#9c179e\"],[0.4444444444444444,\"#bd3786\"],[0.5555555555555556,\"#d8576b\"],[0.6666666666666666,\"#ed7953\"],[0.7777777777777778,\"#fb9f3a\"],[0.8888888888888888,\"#fdca26\"],[1.0,\"#f0f921\"]]}],\"mesh3d\":[{\"type\":\"mesh3d\",\"colorbar\":{\"outlinewidth\":0,\"ticks\":\"\"}}],\"scatter\":[{\"fillpattern\":{\"fillmode\":\"overlay\",\"size\":10,\"solidity\":0.2},\"type\":\"scatter\"}],\"parcoords\":[{\"type\":\"parcoords\",\"line\":{\"colorbar\":{\"outlinewidth\":0,\"ticks\":\"\"}}}],\"scatterpolargl\":[{\"type\":\"scatterpolargl\",\"marker\":{\"colorbar\":{\"outlinewidth\":0,\"ticks\":\"\"}}}],\"bar\":[{\"error_x\":{\"color\":\"#2a3f5f\"},\"error_y\":{\"color\":\"#2a3f5f\"},\"marker\":{\"line\":{\"color\":\"#E5ECF6\",\"width\":0.5},\"pattern\":{\"fillmode\":\"overlay\",\"size\":10,\"solidity\":0.2}},\"type\":\"bar\"}],\"scattergeo\":[{\"type\":\"scattergeo\",\"marker\":{\"colorbar\":{\"outlinewidth\":0,\"ticks\":\"\"}}}],\"scatterpolar\":[{\"type\":\"scatterpolar\",\"marker\":{\"colorbar\":{\"outlinewidth\":0,\"ticks\":\"\"}}}],\"histogram\":[{\"marker\":{\"pattern\":{\"fillmode\":\"overlay\",\"size\":10,\"solidity\":0.2}},\"type\":\"histogram\"}],\"scattergl\":[{\"type\":\"scattergl\",\"marker\":{\"colorbar\":{\"outlinewidth\":0,\"ticks\":\"\"}}}],\"scatter3d\":[{\"type\":\"scatter3d\",\"line\":{\"colorbar\":{\"outlinewidth\":0,\"ticks\":\"\"}},\"marker\":{\"colorbar\":{\"outlinewidth\":0,\"ticks\":\"\"}}}],\"scattermapbox\":[{\"type\":\"scattermapbox\",\"marker\":{\"colorbar\":{\"outlinewidth\":0,\"ticks\":\"\"}}}],\"scatterternary\":[{\"type\":\"scatterternary\",\"marker\":{\"colorbar\":{\"outlinewidth\":0,\"ticks\":\"\"}}}],\"scattercarpet\":[{\"type\":\"scattercarpet\",\"marker\":{\"colorbar\":{\"outlinewidth\":0,\"ticks\":\"\"}}}],\"carpet\":[{\"aaxis\":{\"endlinecolor\":\"#2a3f5f\",\"gridcolor\":\"white\",\"linecolor\":\"white\",\"minorgridcolor\":\"white\",\"startlinecolor\":\"#2a3f5f\"},\"baxis\":{\"endlinecolor\":\"#2a3f5f\",\"gridcolor\":\"white\",\"linecolor\":\"white\",\"minorgridcolor\":\"white\",\"startlinecolor\":\"#2a3f5f\"},\"type\":\"carpet\"}],\"table\":[{\"cells\":{\"fill\":{\"color\":\"#EBF0F8\"},\"line\":{\"color\":\"white\"}},\"header\":{\"fill\":{\"color\":\"#C8D4E3\"},\"line\":{\"color\":\"white\"}},\"type\":\"table\"}],\"barpolar\":[{\"marker\":{\"line\":{\"color\":\"#E5ECF6\",\"width\":0.5},\"pattern\":{\"fillmode\":\"overlay\",\"size\":10,\"solidity\":0.2}},\"type\":\"barpolar\"}],\"pie\":[{\"automargin\":true,\"type\":\"pie\"}]},\"layout\":{\"autotypenumbers\":\"strict\",\"colorway\":[\"#636efa\",\"#EF553B\",\"#00cc96\",\"#ab63fa\",\"#FFA15A\",\"#19d3f3\",\"#FF6692\",\"#B6E880\",\"#FF97FF\",\"#FECB52\"],\"font\":{\"color\":\"#2a3f5f\"},\"hovermode\":\"closest\",\"hoverlabel\":{\"align\":\"left\"},\"paper_bgcolor\":\"white\",\"plot_bgcolor\":\"#E5ECF6\",\"polar\":{\"bgcolor\":\"#E5ECF6\",\"angularaxis\":{\"gridcolor\":\"white\",\"linecolor\":\"white\",\"ticks\":\"\"},\"radialaxis\":{\"gridcolor\":\"white\",\"linecolor\":\"white\",\"ticks\":\"\"}},\"ternary\":{\"bgcolor\":\"#E5ECF6\",\"aaxis\":{\"gridcolor\":\"white\",\"linecolor\":\"white\",\"ticks\":\"\"},\"baxis\":{\"gridcolor\":\"white\",\"linecolor\":\"white\",\"ticks\":\"\"},\"caxis\":{\"gridcolor\":\"white\",\"linecolor\":\"white\",\"ticks\":\"\"}},\"coloraxis\":{\"colorbar\":{\"outlinewidth\":0,\"ticks\":\"\"}},\"colorscale\":{\"sequential\":[[0.0,\"#0d0887\"],[0.1111111111111111,\"#46039f\"],[0.2222222222222222,\"#7201a8\"],[0.3333333333333333,\"#9c179e\"],[0.4444444444444444,\"#bd3786\"],[0.5555555555555556,\"#d8576b\"],[0.6666666666666666,\"#ed7953\"],[0.7777777777777778,\"#fb9f3a\"],[0.8888888888888888,\"#fdca26\"],[1.0,\"#f0f921\"]],\"sequentialminus\":[[0.0,\"#0d0887\"],[0.1111111111111111,\"#46039f\"],[0.2222222222222222,\"#7201a8\"],[0.3333333333333333,\"#9c179e\"],[0.4444444444444444,\"#bd3786\"],[0.5555555555555556,\"#d8576b\"],[0.6666666666666666,\"#ed7953\"],[0.7777777777777778,\"#fb9f3a\"],[0.8888888888888888,\"#fdca26\"],[1.0,\"#f0f921\"]],\"diverging\":[[0,\"#8e0152\"],[0.1,\"#c51b7d\"],[0.2,\"#de77ae\"],[0.3,\"#f1b6da\"],[0.4,\"#fde0ef\"],[0.5,\"#f7f7f7\"],[0.6,\"#e6f5d0\"],[0.7,\"#b8e186\"],[0.8,\"#7fbc41\"],[0.9,\"#4d9221\"],[1,\"#276419\"]]},\"xaxis\":{\"gridcolor\":\"white\",\"linecolor\":\"white\",\"ticks\":\"\",\"title\":{\"standoff\":15},\"zerolinecolor\":\"white\",\"automargin\":true,\"zerolinewidth\":2},\"yaxis\":{\"gridcolor\":\"white\",\"linecolor\":\"white\",\"ticks\":\"\",\"title\":{\"standoff\":15},\"zerolinecolor\":\"white\",\"automargin\":true,\"zerolinewidth\":2},\"scene\":{\"xaxis\":{\"backgroundcolor\":\"#E5ECF6\",\"gridcolor\":\"white\",\"linecolor\":\"white\",\"showbackground\":true,\"ticks\":\"\",\"zerolinecolor\":\"white\",\"gridwidth\":2},\"yaxis\":{\"backgroundcolor\":\"#E5ECF6\",\"gridcolor\":\"white\",\"linecolor\":\"white\",\"showbackground\":true,\"ticks\":\"\",\"zerolinecolor\":\"white\",\"gridwidth\":2},\"zaxis\":{\"backgroundcolor\":\"#E5ECF6\",\"gridcolor\":\"white\",\"linecolor\":\"white\",\"showbackground\":true,\"ticks\":\"\",\"zerolinecolor\":\"white\",\"gridwidth\":2}},\"shapedefaults\":{\"line\":{\"color\":\"#2a3f5f\"}},\"annotationdefaults\":{\"arrowcolor\":\"#2a3f5f\",\"arrowhead\":0,\"arrowwidth\":1},\"geo\":{\"bgcolor\":\"white\",\"landcolor\":\"#E5ECF6\",\"subunitcolor\":\"white\",\"showland\":true,\"showlakes\":true,\"lakecolor\":\"white\"},\"title\":{\"x\":0.05},\"mapbox\":{\"style\":\"light\"}}},\"xaxis\":{\"anchor\":\"y\",\"domain\":[0.0,1.0],\"showline\":true,\"linewidth\":1,\"linecolor\":\"lightgrey\"},\"yaxis\":{\"anchor\":\"x\",\"domain\":[0.0,1.0],\"title\":{\"text\":\"Percentual Descontado\"},\"showline\":true,\"linewidth\":1,\"linecolor\":\"lightgrey\"},\"legend\":{\"title\":{\"text\":\"Categoria\"},\"tracegroupgap\":0,\"font\":{\"size\":14},\"bgcolor\":\"#F9F9F9\",\"bordercolor\":\"#D0D1D3\",\"borderwidth\":1},\"margin\":{\"t\":60},\"boxmode\":\"group\",\"width\":900,\"font\":{\"size\":12},\"title\":{\"font\":{\"size\":22},\"text\":\"PERCENTUAL DE DESCONTO POR CATEGORIA\",\"x\":0.5},\"plot_bgcolor\":\"rgb(250, 250, 250)\"},                        {\"responsive\": true}                    ).then(function(){\n",
              "                            \n",
              "var gd = document.getElementById('f0db80cc-56b0-4094-b93e-7b9364d57db3');\n",
              "var x = new MutationObserver(function (mutations, observer) {{\n",
              "        var display = window.getComputedStyle(gd).display;\n",
              "        if (!display || display === 'none') {{\n",
              "            console.log([gd, 'removed!']);\n",
              "            Plotly.purge(gd);\n",
              "            observer.disconnect();\n",
              "        }}\n",
              "}});\n",
              "\n",
              "// Listen for the removal of the full notebook cells\n",
              "var notebookContainer = gd.closest('#notebook-container');\n",
              "if (notebookContainer) {{\n",
              "    x.observe(notebookContainer, {childList: true});\n",
              "}}\n",
              "\n",
              "// Listen for the clearing of the current output cell\n",
              "var outputEl = gd.closest('.output');\n",
              "if (outputEl) {{\n",
              "    x.observe(outputEl, {childList: true});\n",
              "}}\n",
              "\n",
              "                        })                };                            </script>        </div>\n",
              "</body>\n",
              "</html>"
            ]
          },
          "metadata": {}
        }
      ]
    },
    {
      "cell_type": "markdown",
      "source": [
        "Ao se analisar o gráfico, nota-se que a centralidade dos dados para as categorias *Computers&Accessories* e *Eletronics* gira em torno de 50%. Olhando para a categoria *OfficeProducts*, percebesse um percentual de desconto baixo, se comparado ao das demais categorias, porém, alguns de seus valores despontaram como outliers, ou seja, valores fora da curva, assumindo até 75% de desconto."
      ],
      "metadata": {
        "id": "SkF_w38isgxp"
      }
    },
    {
      "cell_type": "markdown",
      "source": [
        "# ESTATÍSTICA INFERENCIAL\n",
        "A partir dos resultados apresentados, serão feitas análises, com o propósito de se obter o raciocínio necessário para a partir dos dados, se obter uma conclusão geral."
      ],
      "metadata": {
        "id": "sP7LkNhAf8_m"
      }
    },
    {
      "cell_type": "markdown",
      "source": [
        "## Correlação Linear\n",
        "Através da correlação linear, obtém-se relações estatísticas entre as variáveis, úteis para  determinar (mensurar) o grau de relacionamento entre duas variáveis."
      ],
      "metadata": {
        "id": "3hGfE1oshk4r"
      }
    },
    {
      "cell_type": "code",
      "source": [
        "mapa_calor = px.imshow(df.corr(method=\"pearson\"), text_auto=True)\n",
        "\n",
        "mapa_calor.update_layout(width=900, plot_bgcolor=\"rgb(250, 250, 250)\",\n",
        "                         title=dict(text=\"CORRELAÇÃO ENTRE VARIÁVEIS NUMÉRICAS\",\n",
        "                                    x=0.5, font_size=22))\n",
        "\n",
        "mapa_calor.update_xaxes(showline=True, linewidth=1, linecolor=\"lightgrey\")\n",
        "\n",
        "mapa_calor.update_yaxes(showline=True, linewidth=1, linecolor=\"lightgrey\")"
      ],
      "metadata": {
        "id": "AeqE52AeVzte",
        "colab": {
          "base_uri": "https://localhost:8080/",
          "height": 542
        },
        "outputId": "a41a9fa4-048a-4e56-8689-b53c0c21f2f0"
      },
      "execution_count": 35,
      "outputs": [
        {
          "output_type": "display_data",
          "data": {
            "text/html": [
              "<html>\n",
              "<head><meta charset=\"utf-8\" /></head>\n",
              "<body>\n",
              "    <div>            <script src=\"https://cdnjs.cloudflare.com/ajax/libs/mathjax/2.7.5/MathJax.js?config=TeX-AMS-MML_SVG\"></script><script type=\"text/javascript\">if (window.MathJax && window.MathJax.Hub && window.MathJax.Hub.Config) {window.MathJax.Hub.Config({SVG: {font: \"STIX-Web\"}});}</script>                <script type=\"text/javascript\">window.PlotlyConfig = {MathJaxConfig: 'local'};</script>\n",
              "        <script src=\"https://cdn.plot.ly/plotly-2.18.2.min.js\"></script>                <div id=\"f370f326-d0b7-4b88-a814-a91dfdfc1e9c\" class=\"plotly-graph-div\" style=\"height:525px; width:900px;\"></div>            <script type=\"text/javascript\">                                    window.PLOTLYENV=window.PLOTLYENV || {};                                    if (document.getElementById(\"f370f326-d0b7-4b88-a814-a91dfdfc1e9c\")) {                    Plotly.newPlot(                        \"f370f326-d0b7-4b88-a814-a91dfdfc1e9c\",                        [{\"coloraxis\":\"coloraxis\",\"name\":\"0\",\"texttemplate\":\"%{z}\",\"x\":[\"DESCONTO\",\"PRECO_REAL\",\"PORCENTAGEM_DESCONTO\",\"TOTAL_AVALIACOES\"],\"y\":[\"DESCONTO\",\"PRECO_REAL\",\"PORCENTAGEM_DESCONTO\",\"TOTAL_AVALIACOES\"],\"z\":[[1.0,0.9619152799877245,-0.24241202263425465,-0.027009952026144247],[0.9619152799877245,1.0,-0.11809753545584073,-0.035889606684375144],[-0.24241202263425465,-0.11809753545584073,1.0,0.010868342652570737],[-0.027009952026144247,-0.035889606684375144,0.010868342652570737,1.0]],\"type\":\"heatmap\",\"xaxis\":\"x\",\"yaxis\":\"y\",\"hovertemplate\":\"x: %{x}<br>y: %{y}<br>color: %{z}<extra></extra>\"}],                        {\"template\":{\"data\":{\"histogram2dcontour\":[{\"type\":\"histogram2dcontour\",\"colorbar\":{\"outlinewidth\":0,\"ticks\":\"\"},\"colorscale\":[[0.0,\"#0d0887\"],[0.1111111111111111,\"#46039f\"],[0.2222222222222222,\"#7201a8\"],[0.3333333333333333,\"#9c179e\"],[0.4444444444444444,\"#bd3786\"],[0.5555555555555556,\"#d8576b\"],[0.6666666666666666,\"#ed7953\"],[0.7777777777777778,\"#fb9f3a\"],[0.8888888888888888,\"#fdca26\"],[1.0,\"#f0f921\"]]}],\"choropleth\":[{\"type\":\"choropleth\",\"colorbar\":{\"outlinewidth\":0,\"ticks\":\"\"}}],\"histogram2d\":[{\"type\":\"histogram2d\",\"colorbar\":{\"outlinewidth\":0,\"ticks\":\"\"},\"colorscale\":[[0.0,\"#0d0887\"],[0.1111111111111111,\"#46039f\"],[0.2222222222222222,\"#7201a8\"],[0.3333333333333333,\"#9c179e\"],[0.4444444444444444,\"#bd3786\"],[0.5555555555555556,\"#d8576b\"],[0.6666666666666666,\"#ed7953\"],[0.7777777777777778,\"#fb9f3a\"],[0.8888888888888888,\"#fdca26\"],[1.0,\"#f0f921\"]]}],\"heatmap\":[{\"type\":\"heatmap\",\"colorbar\":{\"outlinewidth\":0,\"ticks\":\"\"},\"colorscale\":[[0.0,\"#0d0887\"],[0.1111111111111111,\"#46039f\"],[0.2222222222222222,\"#7201a8\"],[0.3333333333333333,\"#9c179e\"],[0.4444444444444444,\"#bd3786\"],[0.5555555555555556,\"#d8576b\"],[0.6666666666666666,\"#ed7953\"],[0.7777777777777778,\"#fb9f3a\"],[0.8888888888888888,\"#fdca26\"],[1.0,\"#f0f921\"]]}],\"heatmapgl\":[{\"type\":\"heatmapgl\",\"colorbar\":{\"outlinewidth\":0,\"ticks\":\"\"},\"colorscale\":[[0.0,\"#0d0887\"],[0.1111111111111111,\"#46039f\"],[0.2222222222222222,\"#7201a8\"],[0.3333333333333333,\"#9c179e\"],[0.4444444444444444,\"#bd3786\"],[0.5555555555555556,\"#d8576b\"],[0.6666666666666666,\"#ed7953\"],[0.7777777777777778,\"#fb9f3a\"],[0.8888888888888888,\"#fdca26\"],[1.0,\"#f0f921\"]]}],\"contourcarpet\":[{\"type\":\"contourcarpet\",\"colorbar\":{\"outlinewidth\":0,\"ticks\":\"\"}}],\"contour\":[{\"type\":\"contour\",\"colorbar\":{\"outlinewidth\":0,\"ticks\":\"\"},\"colorscale\":[[0.0,\"#0d0887\"],[0.1111111111111111,\"#46039f\"],[0.2222222222222222,\"#7201a8\"],[0.3333333333333333,\"#9c179e\"],[0.4444444444444444,\"#bd3786\"],[0.5555555555555556,\"#d8576b\"],[0.6666666666666666,\"#ed7953\"],[0.7777777777777778,\"#fb9f3a\"],[0.8888888888888888,\"#fdca26\"],[1.0,\"#f0f921\"]]}],\"surface\":[{\"type\":\"surface\",\"colorbar\":{\"outlinewidth\":0,\"ticks\":\"\"},\"colorscale\":[[0.0,\"#0d0887\"],[0.1111111111111111,\"#46039f\"],[0.2222222222222222,\"#7201a8\"],[0.3333333333333333,\"#9c179e\"],[0.4444444444444444,\"#bd3786\"],[0.5555555555555556,\"#d8576b\"],[0.6666666666666666,\"#ed7953\"],[0.7777777777777778,\"#fb9f3a\"],[0.8888888888888888,\"#fdca26\"],[1.0,\"#f0f921\"]]}],\"mesh3d\":[{\"type\":\"mesh3d\",\"colorbar\":{\"outlinewidth\":0,\"ticks\":\"\"}}],\"scatter\":[{\"fillpattern\":{\"fillmode\":\"overlay\",\"size\":10,\"solidity\":0.2},\"type\":\"scatter\"}],\"parcoords\":[{\"type\":\"parcoords\",\"line\":{\"colorbar\":{\"outlinewidth\":0,\"ticks\":\"\"}}}],\"scatterpolargl\":[{\"type\":\"scatterpolargl\",\"marker\":{\"colorbar\":{\"outlinewidth\":0,\"ticks\":\"\"}}}],\"bar\":[{\"error_x\":{\"color\":\"#2a3f5f\"},\"error_y\":{\"color\":\"#2a3f5f\"},\"marker\":{\"line\":{\"color\":\"#E5ECF6\",\"width\":0.5},\"pattern\":{\"fillmode\":\"overlay\",\"size\":10,\"solidity\":0.2}},\"type\":\"bar\"}],\"scattergeo\":[{\"type\":\"scattergeo\",\"marker\":{\"colorbar\":{\"outlinewidth\":0,\"ticks\":\"\"}}}],\"scatterpolar\":[{\"type\":\"scatterpolar\",\"marker\":{\"colorbar\":{\"outlinewidth\":0,\"ticks\":\"\"}}}],\"histogram\":[{\"marker\":{\"pattern\":{\"fillmode\":\"overlay\",\"size\":10,\"solidity\":0.2}},\"type\":\"histogram\"}],\"scattergl\":[{\"type\":\"scattergl\",\"marker\":{\"colorbar\":{\"outlinewidth\":0,\"ticks\":\"\"}}}],\"scatter3d\":[{\"type\":\"scatter3d\",\"line\":{\"colorbar\":{\"outlinewidth\":0,\"ticks\":\"\"}},\"marker\":{\"colorbar\":{\"outlinewidth\":0,\"ticks\":\"\"}}}],\"scattermapbox\":[{\"type\":\"scattermapbox\",\"marker\":{\"colorbar\":{\"outlinewidth\":0,\"ticks\":\"\"}}}],\"scatterternary\":[{\"type\":\"scatterternary\",\"marker\":{\"colorbar\":{\"outlinewidth\":0,\"ticks\":\"\"}}}],\"scattercarpet\":[{\"type\":\"scattercarpet\",\"marker\":{\"colorbar\":{\"outlinewidth\":0,\"ticks\":\"\"}}}],\"carpet\":[{\"aaxis\":{\"endlinecolor\":\"#2a3f5f\",\"gridcolor\":\"white\",\"linecolor\":\"white\",\"minorgridcolor\":\"white\",\"startlinecolor\":\"#2a3f5f\"},\"baxis\":{\"endlinecolor\":\"#2a3f5f\",\"gridcolor\":\"white\",\"linecolor\":\"white\",\"minorgridcolor\":\"white\",\"startlinecolor\":\"#2a3f5f\"},\"type\":\"carpet\"}],\"table\":[{\"cells\":{\"fill\":{\"color\":\"#EBF0F8\"},\"line\":{\"color\":\"white\"}},\"header\":{\"fill\":{\"color\":\"#C8D4E3\"},\"line\":{\"color\":\"white\"}},\"type\":\"table\"}],\"barpolar\":[{\"marker\":{\"line\":{\"color\":\"#E5ECF6\",\"width\":0.5},\"pattern\":{\"fillmode\":\"overlay\",\"size\":10,\"solidity\":0.2}},\"type\":\"barpolar\"}],\"pie\":[{\"automargin\":true,\"type\":\"pie\"}]},\"layout\":{\"autotypenumbers\":\"strict\",\"colorway\":[\"#636efa\",\"#EF553B\",\"#00cc96\",\"#ab63fa\",\"#FFA15A\",\"#19d3f3\",\"#FF6692\",\"#B6E880\",\"#FF97FF\",\"#FECB52\"],\"font\":{\"color\":\"#2a3f5f\"},\"hovermode\":\"closest\",\"hoverlabel\":{\"align\":\"left\"},\"paper_bgcolor\":\"white\",\"plot_bgcolor\":\"#E5ECF6\",\"polar\":{\"bgcolor\":\"#E5ECF6\",\"angularaxis\":{\"gridcolor\":\"white\",\"linecolor\":\"white\",\"ticks\":\"\"},\"radialaxis\":{\"gridcolor\":\"white\",\"linecolor\":\"white\",\"ticks\":\"\"}},\"ternary\":{\"bgcolor\":\"#E5ECF6\",\"aaxis\":{\"gridcolor\":\"white\",\"linecolor\":\"white\",\"ticks\":\"\"},\"baxis\":{\"gridcolor\":\"white\",\"linecolor\":\"white\",\"ticks\":\"\"},\"caxis\":{\"gridcolor\":\"white\",\"linecolor\":\"white\",\"ticks\":\"\"}},\"coloraxis\":{\"colorbar\":{\"outlinewidth\":0,\"ticks\":\"\"}},\"colorscale\":{\"sequential\":[[0.0,\"#0d0887\"],[0.1111111111111111,\"#46039f\"],[0.2222222222222222,\"#7201a8\"],[0.3333333333333333,\"#9c179e\"],[0.4444444444444444,\"#bd3786\"],[0.5555555555555556,\"#d8576b\"],[0.6666666666666666,\"#ed7953\"],[0.7777777777777778,\"#fb9f3a\"],[0.8888888888888888,\"#fdca26\"],[1.0,\"#f0f921\"]],\"sequentialminus\":[[0.0,\"#0d0887\"],[0.1111111111111111,\"#46039f\"],[0.2222222222222222,\"#7201a8\"],[0.3333333333333333,\"#9c179e\"],[0.4444444444444444,\"#bd3786\"],[0.5555555555555556,\"#d8576b\"],[0.6666666666666666,\"#ed7953\"],[0.7777777777777778,\"#fb9f3a\"],[0.8888888888888888,\"#fdca26\"],[1.0,\"#f0f921\"]],\"diverging\":[[0,\"#8e0152\"],[0.1,\"#c51b7d\"],[0.2,\"#de77ae\"],[0.3,\"#f1b6da\"],[0.4,\"#fde0ef\"],[0.5,\"#f7f7f7\"],[0.6,\"#e6f5d0\"],[0.7,\"#b8e186\"],[0.8,\"#7fbc41\"],[0.9,\"#4d9221\"],[1,\"#276419\"]]},\"xaxis\":{\"gridcolor\":\"white\",\"linecolor\":\"white\",\"ticks\":\"\",\"title\":{\"standoff\":15},\"zerolinecolor\":\"white\",\"automargin\":true,\"zerolinewidth\":2},\"yaxis\":{\"gridcolor\":\"white\",\"linecolor\":\"white\",\"ticks\":\"\",\"title\":{\"standoff\":15},\"zerolinecolor\":\"white\",\"automargin\":true,\"zerolinewidth\":2},\"scene\":{\"xaxis\":{\"backgroundcolor\":\"#E5ECF6\",\"gridcolor\":\"white\",\"linecolor\":\"white\",\"showbackground\":true,\"ticks\":\"\",\"zerolinecolor\":\"white\",\"gridwidth\":2},\"yaxis\":{\"backgroundcolor\":\"#E5ECF6\",\"gridcolor\":\"white\",\"linecolor\":\"white\",\"showbackground\":true,\"ticks\":\"\",\"zerolinecolor\":\"white\",\"gridwidth\":2},\"zaxis\":{\"backgroundcolor\":\"#E5ECF6\",\"gridcolor\":\"white\",\"linecolor\":\"white\",\"showbackground\":true,\"ticks\":\"\",\"zerolinecolor\":\"white\",\"gridwidth\":2}},\"shapedefaults\":{\"line\":{\"color\":\"#2a3f5f\"}},\"annotationdefaults\":{\"arrowcolor\":\"#2a3f5f\",\"arrowhead\":0,\"arrowwidth\":1},\"geo\":{\"bgcolor\":\"white\",\"landcolor\":\"#E5ECF6\",\"subunitcolor\":\"white\",\"showland\":true,\"showlakes\":true,\"lakecolor\":\"white\"},\"title\":{\"x\":0.05},\"mapbox\":{\"style\":\"light\"}}},\"xaxis\":{\"anchor\":\"y\",\"domain\":[0.0,1.0],\"scaleanchor\":\"y\",\"constrain\":\"domain\",\"showline\":true,\"linewidth\":1,\"linecolor\":\"lightgrey\"},\"yaxis\":{\"anchor\":\"x\",\"domain\":[0.0,1.0],\"autorange\":\"reversed\",\"constrain\":\"domain\",\"showline\":true,\"linewidth\":1,\"linecolor\":\"lightgrey\"},\"coloraxis\":{\"colorscale\":[[0.0,\"#0d0887\"],[0.1111111111111111,\"#46039f\"],[0.2222222222222222,\"#7201a8\"],[0.3333333333333333,\"#9c179e\"],[0.4444444444444444,\"#bd3786\"],[0.5555555555555556,\"#d8576b\"],[0.6666666666666666,\"#ed7953\"],[0.7777777777777778,\"#fb9f3a\"],[0.8888888888888888,\"#fdca26\"],[1.0,\"#f0f921\"]]},\"margin\":{\"t\":60},\"title\":{\"font\":{\"size\":22},\"text\":\"CORRELA\\u00c7\\u00c3O ENTRE VARI\\u00c1VEIS NUM\\u00c9RICAS\",\"x\":0.5},\"width\":900,\"plot_bgcolor\":\"rgb(250, 250, 250)\"},                        {\"responsive\": true}                    ).then(function(){\n",
              "                            \n",
              "var gd = document.getElementById('f370f326-d0b7-4b88-a814-a91dfdfc1e9c');\n",
              "var x = new MutationObserver(function (mutations, observer) {{\n",
              "        var display = window.getComputedStyle(gd).display;\n",
              "        if (!display || display === 'none') {{\n",
              "            console.log([gd, 'removed!']);\n",
              "            Plotly.purge(gd);\n",
              "            observer.disconnect();\n",
              "        }}\n",
              "}});\n",
              "\n",
              "// Listen for the removal of the full notebook cells\n",
              "var notebookContainer = gd.closest('#notebook-container');\n",
              "if (notebookContainer) {{\n",
              "    x.observe(notebookContainer, {childList: true});\n",
              "}}\n",
              "\n",
              "// Listen for the clearing of the current output cell\n",
              "var outputEl = gd.closest('.output');\n",
              "if (outputEl) {{\n",
              "    x.observe(outputEl, {childList: true});\n",
              "}}\n",
              "\n",
              "                        })                };                            </script>        </div>\n",
              "</body>\n",
              "</html>"
            ]
          },
          "metadata": {}
        }
      ]
    },
    {
      "cell_type": "markdown",
      "source": [
        "Ao olhar para o gráfico de calor, é possível perceber uma correlação positiva muito forte entre as variáveis `PRECO_REAL` e `DESCONTO`. Essa correlação pode ser visualizada através de um gráfico de dispersão."
      ],
      "metadata": {
        "id": "BkUN4ouqdNSC"
      }
    },
    {
      "cell_type": "code",
      "source": [
        "dispersao_precos = px.scatter(df, x=\"DESCONTO\", y=\"PRECO_REAL\", trendline=\"ols\")\n",
        "\n",
        "dispersao_precos.update_layout(font_size=12, xaxis=dict(title=\"Desconto\"),\n",
        "                               width=900, yaxis=dict(title=\"Preços\"),\n",
        "                               title=dict(text=\"CORRELAÇÃO ENTRE PREÇO REAL E DESCONTO\",\n",
        "                                          x=0.5, font_size=22),\n",
        "                               plot_bgcolor=\"rgb(250, 250, 250)\",\n",
        "                               showlegend=False)\n",
        "\n",
        "dispersao_precos.update_xaxes(showline=True, linewidth=1, linecolor=\"lightgrey\")\n",
        "\n",
        "dispersao_precos.update_yaxes(showline=True, linewidth=1, linecolor=\"lightgrey\")"
      ],
      "metadata": {
        "id": "VIORPlltOe5q",
        "colab": {
          "base_uri": "https://localhost:8080/",
          "height": 542
        },
        "outputId": "35e828ee-e6b9-434c-b306-4bd98b629609"
      },
      "execution_count": 36,
      "outputs": [
        {
          "output_type": "display_data",
          "data": {
            "text/html": [
              "<html>\n",
              "<head><meta charset=\"utf-8\" /></head>\n",
              "<body>\n",
              "    <div>            <script src=\"https://cdnjs.cloudflare.com/ajax/libs/mathjax/2.7.5/MathJax.js?config=TeX-AMS-MML_SVG\"></script><script type=\"text/javascript\">if (window.MathJax && window.MathJax.Hub && window.MathJax.Hub.Config) {window.MathJax.Hub.Config({SVG: {font: \"STIX-Web\"}});}</script>                <script type=\"text/javascript\">window.PlotlyConfig = {MathJaxConfig: 'local'};</script>\n",
              "        <script src=\"https://cdn.plot.ly/plotly-2.18.2.min.js\"></script>                <div id=\"9fba0f53-cd2e-423f-ae80-3279fd8ca5a5\" class=\"plotly-graph-div\" style=\"height:525px; width:900px;\"></div>            <script type=\"text/javascript\">                                    window.PLOTLYENV=window.PLOTLYENV || {};                                    if (document.getElementById(\"9fba0f53-cd2e-423f-ae80-3279fd8ca5a5\")) {                    Plotly.newPlot(                        \"9fba0f53-cd2e-423f-ae80-3279fd8ca5a5\",                        [{\"hovertemplate\":\"DESCONTO=%{x}<br>PRECO_REAL=%{y}<extra></extra>\",\"legendgroup\":\"\",\"marker\":{\"color\":\"#636efa\",\"symbol\":\"circle\"},\"mode\":\"markers\",\"name\":\"\",\"showlegend\":false,\"x\":[399.0,199.0,199.0,329.0,154.0,149.0,176.6300048828125,229.0,499.0,199.0,154.0,299.0,219.0,350.0,159.0,349.0,13999.0,249.0,199.0,13490.0,970.0,279.0,13490.0,59.0,11499.0,199.0,14999.0,299.0,970.0,299.0,199.0,179.0,389.0,599.0,199.0,99.0,899.0,199.0,32999.0,970.0,209.0,19999.0,399.0,999.0,59.0,333.0,507.0,309.0,399.0,199.0,1199.0,179.0,799.0,6999.0,199.0,230.0,649.0,15999.0,348.0,154.0,179.0,32990.0,139.0,329.0,13999.0,309.0,263.0,7999.0,1599.0,219.0,349.0,349.0,26999.0,115.0,399.0,199.0,179.0,10901.0,209.0,1434.0,399.0,139.0,7299.0,299.0,325.0,29999.0,27999.0,30990.0,199.0,649.0,269.0,24999.0,299.0,199.0,18990.0,290.0,249.0,345.0,1099.0,719.0,349.0,849.0,299.0,21999.0,349.0,399.0,449.0,299.0,37999.0,99.0,7390.0,273.1000061035156,15990.0,399.0,399.0,210.0,1299.0,347.0,149.0,228.0,1599.0,1499.0,8499.0,20990.0,32999.0,799.0,229.0,9999.0,349.0,489.0,23999.0,399.0,349.0,179.0,689.0,30990.0,249.0,999.0,399.0,349.0,399.0,1699.0,655.0,749.0,9999.0,195.0,999.0,499.0,416.0,368.0,29990.0,339.0,15490.0,499.0,249.0,399.0,1499.0,9490.0,637.0,399.0,1089.0,339.0,149.0,149.0,599.0,299.0,399.0,339.0,12499.0,249.0,1399.0,32999.0,149.0,325.0,399.0,199.0,88.0,399.0,57.88999938964844,799.0,205.0,299.0,849.0,949.0,499.0,299.0,949.0,379.0,8990.0,486.0,5699.0,709.0,47990.0,299.0,320.0,139.0,129.0,24999.0,999.0,225.0,547.0,259.0,239.0,349.0,467.0,449.0,11990.0,350.0,252.0,204.0,6490.0,235.0,299.0,799.0,299.0,6999.0,42999.0,173.0,209.0,848.989990234375,649.0,299.0,399.0,249.0,1249.0,213.0,209.0,598.0,799.0,159.0,499.0,31999.0,32990.0,299.0,128.30999755859375,599.0,399.0,449.0,254.0,399.0,179.0,339.0,399.0,199.0,349.0,299.0,89.0,549.0,129.0,77990.0,349.0,499.0,299.0,182.0,96.0,54990.0,439.0,299.0,299.0,789.0,299.0,325.0,1299.0,790.0,4699.0,18999.0,199.0,269.0,1990.0,2299.0,35999.0,349.0,719.0,8999.0,917.0,399.0,45999.0,119.0,21999.0,299.0,21990.0,417.44000244140625,199.0,47990.0,215.0,99.0,18999.0,249.0,7999.0,649.0,1289.0,609.0,32990.0,599.0,349.0,29999.0,199.0,349.0,1850.0,13990.0,129.0,379.0,185.0,218.0,199.0,499.0,26999.0,893.0,10990.0,379.0,16999.0,699.0,2699.0,129.0,389.0,246.0,299.0,247.0,1369.0,199.0,299.0,14999.0,299.0,24990.0,249.0,61999.0,24499.0,10499.0,349.0,197.0,1299.0,1519.0,46999.0,299.0,1799.0,1998.0,1999.0,2049.0,6499.0,28999.0,28999.0,6499.0,6499.0,569.0,1898.0,1299.0,1499.0,599.0,9499.0,599.0,8999.0,349.0,349.0,959.0,9499.0,1499.0,1149.0,349.0,1219.0,1599.0,1499.0,18499.0,369.0,12999.0,1799.0,2199.0,16999.0,16499.0,1799.0,399.0,8499.0,6499.0,1799.0,8999.0,139.0,3999.0,2998.0,199.0,15499.0,199.0,1799.0,8999.0,873.0,12999.0,539.0,1999.0,15490.0,19999.0,1075.0,399.0,1999.0,1999.0,329.0,154.0,28999.0,2299.0,399.0,1149.0,529.0,13999.0,379.0,13999.0,3999.0,149.0,99.0,4790.0,33999.0,99.0,299.0,10999.0,34999.0,16999.0,199.0,999.0,1299.0,599.0,599.0,1799.0,176.6300048828125,10999.0,2999.0,1999.0,229.0,199.0,649.0,13999.0,119.0,12999.0,154.0,20999.0,249.0,99.0,489.0,369.0,15499.0,15499.0,22999.0,599.0,134.0,7499.0,1149.0,1324.0,13999.0,299.0,999.0,12999.0,15490.0,999.0,1599.0,1324.0,20999.0,999.0,12490.0,17999.0,350.0,1399.0,159.0,1499.0,1999.0,999.0,2099.0,337.0,2999.0,1299.0,349.0,16499.0,499.0,970.0,999.0,10499.0,249.0,251.0,199.0,6499.0,2999.0,279.0,269.0,8999.0,59.0,599.0,349.0,13999.0,349.0,499.0,2199.0,95.0,139.0,4499.0,89.0,15499.0,13999.0,1999.0,1399.0,599.0,199.0,1799.0,1499.0,20999.0,12999.0,16999.0,19999.0,12999.0,2999.0,299.0,970.0,329.0,1299.0,1989.0,1999.0,12999.0,1499.0,16999.0,1999.0,4999.0,99.0,2499.0,1399.0,1499.0,899.0,249.0,299.0,79.0,13999.0,949.0,99.0,2499.0,689.0,499.0,299.0,209.0,8499.0,2179.0,16999.0,44999.0,2599.0,2799.0,1399.0,649.0,799.0,149.0,799.0,3799.0,199.0,23999.0,29990.0,281.0,7998.0,249.0,299.0,499.0,899.0,1599.0,120.0,3999.0,12999.0,1599.0,699.0,99.0,7915.0,1499.0,1055.0,150.0,219.0,474.0,115.0,239.0,7499.0,265.0,37990.0,199.0,179.0,1799.0,8499.0,1999.0,3999.0,219.0,599.0,2499.0,89.0,2999.0,314.0,13999.0,139.0,2599.0,365.0,1499.0,1998.0,1799.0,289.0,599.0,217.0,1299.0,263.0,569.0,1999.0,1399.0,349.0,149.0,599.0,1220.0,1499.0,499.0,99.0,349.0,475.0,269.0,299.0,1599.0,1499.0,329.0,549.0,2199.0,299.0,798.0,399.0,266.0,50.0,130.0,449.0,3999.0,399.0,1399.0,199.0,199.0,2998.0,4098.0,499.0,299.0,329.0,699.0,799.0,1399.0,154.0,519.0,2299.0,399.0,1499.0,1295.0,1889.0,455.0,399.0,1059.0,149.0,717.0,99.0,39.0,889.0,1199.0,569.0,1499.0,149.0,399.0,191.0,129.0,199.0,999.0,899.0,1799.0,176.6300048828125,522.0,799.0,681.0,1199.0,2499.0,1799.0,429.0,100.0,329.0,229.0,139.0,1199.0,1049.0,119.0,154.0,225.0,656.0,1109.0,2999.0,169.0,309.0,599.0,299.0,449.0,799.0,219.0,157.0,369.0,599.0,479.0,350.0,1598.0,599.0,159.0,1299.0,1599.0,294.0,828.0,745.0,1549.0,349.0,970.0,1469.0,198.0,549.0,2999.0,12000.0,1299.0,269.0,799.0,6299.0,59.0,571.0,549.0,2099.0,13490.0,448.0,1499.0,299.0,579.0,2499.0,1199.0,399.0,279.0,13490.0,279.0,2499.0,137.0,59.0,299.0,1799.0,1999.0,199.0,399.0,1699.0,699.0,95.0,1149.0,1495.0,849.0,440.0,349.0,599.0,149.0,289.0,179.0,1499.0,399.0,599.0,949.0,2499.0,159.0,1329.0,570.0,899.0,449.0,549.0,1529.0,100.0,299.0,1295.0,699.0,252.0,190.0,1299.0,729.0,480.0,1799.0,999.0,299.0,238.0,1349.0,299.0,199.0,1999.0,99.0,499.0,1792.0,3299.0,125.0,399.0,1199.0,235.0,549.0,89.0,970.0,1299.0,230.0,119.0,449.0,1699.0,561.0,289.0,599.0,5599.0,1990.0,499.0,449.0,999.0,69.0,899.0,478.0,1399.0,199.0,149.0,1799.0,425.0,999.0,378.0,99.0,1499.0,1815.0,67.0,1889.0,499.0,499.0,5799.0,499.0,249.0,179.0,4449.0,299.0,629.0,2595.0,389.0,1799.0,90.0,599.0,1999.0,2099.0,179.0,1345.0,349.0,287.0,599.0,349.0,879.0,199.0,250.0,199.0,899.0,199.0,149.0,469.0,1187.0,849.0,328.0,269.0,299.0,549.0,114.0,120.0,970.0,209.0,1490.0,99.0,149.0,575.0,333.0,178.0,1599.0,499.0,199.0,2499.0,199.0,939.0,2499.0,1439.0,1099.0,157.0,999.0,115.0,175.0,1999.0,3999.0,899.0,299.0,3303.0,1890.0,90.0,1599.0,599.0,507.0,425.0,1499.0,549.0,199.0,1295.0,310.0,149.0,1149.0,499.0,999.0,1709.0,250.0,1199.0,90.0,2025.0,1495.0,799.0,899.0,349.0,900.0,2490.0,116.0,200.0,1249.0,649.0,2649.0,199.0,596.0,2499.0,4999.0,399.0,116.0,4499.0,330.0,649.0,1234.0,1399.0,272.0,99.0,3498.0,10099.0,449.0,150.0,348.0,1199.0,397.0,154.0,699.0,1679.0,354.0,1199.0,379.0,499.0,10389.0,649.0,1199.0,139.0,889.0,1409.0,549.0,749.0,329.0,379.0,5998.0,299.0,379.0,1399.0,699.0,300.0,999.0,535.0,13999.0,269.0,341.0,2499.0,349.0,5899.0,699.0,1565.0,326.0,120.0,657.0,1995.0,1500.0,2640.0,5299.0,263.0,1990.0,1289.0,165.0,1699.0,2299.0,219.0,39.0,26999.0,1490.0,398.0,349.0,770.0,279.0,249.0,115.0,230.0,399.0,599.0,598.0,399.0,499.0,199.0,579.0,179.0,90.0,899.0,1149.0,249.0,39.0,1599.0,1199.0,209.0,1099.0,120.0,1519.0,420.0,225.0,199.0,1799.0,8349.0,3307.0,325.0,449.0,380.0,499.0,37247.0,849.0,799.0,2599.0,199.0,269.0,298.0,1499.0,649.0,1199.0,1199.0,455.0,199.0,293.0,199.0,749.0,1399.0,749.0,1699.0,1043.0,499.0,1464.0,249.0,625.0,1290.0,3600.0,6549.0,1625.0,2599.0,1199.0,5499.0,1299.0,599.0,1999.0,549.0,999.0,398.0,539.0,699.0,2148.0,3599.0,351.0,1614.0,719.0,678.0,809.0,1969.0,1490.0,2499.0,1665.0,3229.0,1799.0,1260.0,749.0,3499.0,379.0,1099.0,749.0,1299.0,549.0,899.0,1321.0,1099.0,775.0,6299.0,3190.0,799.0,2699.0,599.0,749.0,6199.0,1819.0,1199.0,3249.0,349.0,1049.0,799.0,4999.0,6999.0,799.0,89.0,1400.0,355.0,2169.0,2799.0,899.0,2499.0,3599.0,499.0,653.0,4789.0,1409.0,753.0,353.0,1099.0,8799.0,1345.0,2095.0,1498.0,2199.0,3699.0,177.0,1149.0,244.0,1959.0,319.0,1499.0,469.0,1099.0,9590.0,999.0,1299.0,292.0,160.0,600.0,1130.0,3249.0,3599.0,368.0,3199.0,1599.0,1999.0,616.0,1499.0,199.0,610.0,999.0,8999.0,453.0,2464.0,2719.0,1439.0,2799.0,2088.0,2399.0,308.0,2599.0,479.0,245.0,179.0,3569.0,699.0,2089.0,2339.0,784.0,5499.0,899.0,1695.0,499.0,2699.0,1448.0,79.0,6990.0,2698.0,3199.0,1199.0,1414.0,999.0,5999.0,9970.0,698.0,2199.0,320.0,298.0,1199.0,1399.0,599.0,1499.0,14400.0,1699.0,649.0,3249.0,199.0,1099.0,664.0,260.0,6499.0,1484.0,999.0,3299.0,259.0,3249.0,4280.0,189.0,1449.0,199.0,474.0,279.0,1999.0,799.0,949.0,3657.659912109375,1699.0,1849.0,12499.0,1099.0,8199.0,499.0,6999.0,1595.0,1049.0,1182.0,499.0,8799.0,1529.0,1199.0,1052.0,6499.0,239.0,699.0,2599.0,1547.0,499.0,510.0,1899.0,2599.0,1199.0,999.0,1999.0,210.0,14499.0,950.0,7199.0,2439.0,7799.0,1599.0,2899.0,9799.0,3299.0,669.0,5890.0,9199.0,351.0,899.0,1349.0,6236.0,2742.0,721.0,2903.0,1656.0,1399.0,2079.0,999.0,3179.0,1049.0,3599.0,4799.0,1699.0,664.0,948.0,850.0,600.0,3711.0,799.0,980.0,351.0,229.0,3349.0,5499.0,299.0,2249.0,699.0,1235.0,1349.0,6800.0,2099.0,1699.0,1069.0,1349.0,1499.0,2092.0,3859.0,499.0,1804.0,6525.0,4999.0,1189.0,2590.0,899.0,998.0,998.0599975585938,1099.0,5999.0,8886.0,475.0,4995.0,13999.0,8499.0,949.0,395.0,635.0,717.0,27900.0,649.0,193.0,1299.0,2449.0,1049.0,2399.0,2286.0,499.0,429.0,299.0,5395.0,559.0,660.0,419.0,7349.0,2899.0,1799.0,1474.0,15999.0,3645.0,375.0,2976.0,1099.0,2575.0,1649.0,799.0,765.0,999.0,587.0,12609.0,699.0,3799.0,640.0,979.0,5365.0,3199.0,979.0,929.0,3710.0,2033.0,9495.0,7799.0,949.0,2790.0,645.0,2237.81005859375,8699.0,42990.0,825.0,161.0,697.0,688.0,2199.0,6850.0,2699.0,899.0,1090.0,295.0,479.0,2949.0,335.0,293.0,599.0,499.0,849.0,249.0,185.0,778.0,279.0,215.0,889.0,1449.0,1190.0,1799.0,6120.0,1799.0,2199.0,3685.0,649.0,8599.0,1110.0,1499.0,759.0,2669.0,929.0,199.0,279.0,549.0,85.0,499.0,5865.0,1260.0,1099.0,1928.0,3249.0,1199.0,1456.0,3349.0,4899.0,1199.0,3290.0,179.0,149.0,5490.0,379.0,8699.0,3041.669921875,1745.0,3180.0,4999.0,390.0,1999.0,1624.0,184.0,445.0,699.0,1601.0,231.0,369.0,809.0,1199.0,6120.0,1799.0,18999.0,1999.0,5999.0,2599.0,1199.0,219.0,799.0,6199.0,6790.0,1982.8399658203125,199.0,1180.0,2199.0,2999.0,253.0,499.0,1149.0,457.0,229.0,199.0,899.0,1499.0,426.0,2320.0,1563.0,3487.77001953125,498.0,2695.0,949.0,199.0,379.0,2280.0,2219.0,1399.0,2863.0],\"xaxis\":\"x\",\"y\":[1099.0,349.0,1899.0,699.0,399.0,1000.0,499.0,299.0,999.0,299.0,339.0,799.0,700.0,899.0,399.0,399.0,24999.0,399.0,499.0,21990.0,1799.0,499.0,22900.0,199.0,19990.0,699.0,19999.0,399.0,1999.0,999.0,750.0,499.0,1099.0,599.0,999.0,666.6599731445312,1900.0,999.0,45999.0,1999.0,695.0,34999.0,1099.0,1599.0,199.0,999.0,1208.0,475.0,999.0,395.0,2199.0,500.0,2100.0,12999.0,349.0,499.0,1399.0,21999.0,1499.0,349.0,799.0,47900.0,999.0,845.0,24999.0,1400.0,699.0,14990.0,2999.0,700.0,899.0,599.0,42999.0,499.0,999.0,499.0,399.0,30990.0,499.0,3999.0,1099.0,249.0,19125.0,799.0,1299.0,39999.0,40990.0,52900.0,999.0,1999.0,800.0,31999.0,699.0,999.0,40990.0,349.0,799.0,999.0,1899.0,1499.0,1499.0,1809.0,899.0,29999.0,999.0,999.0,1299.0,999.0,65000.0,800.0,20000.0,999.0,23990.0,999.0,1999.0,399.0,1999.0,999.0,999.0,899.0,1999.0,3999.0,15999.0,44990.0,44999.0,1700.0,595.0,27990.0,599.0,1200.0,34990.0,999.0,1299.0,299.0,1500.0,49990.0,931.0,2399.0,399.0,699.0,1099.0,2999.0,1099.0,1339.0,12999.0,499.0,2100.0,899.0,599.0,699.0,65000.0,1099.0,20900.0,1299.0,399.0,799.0,1999.0,15990.0,1499.0,899.0,1600.0,999.0,499.0,399.0,849.0,1199.0,1299.0,1999.0,22990.0,399.0,2499.0,47990.0,399.0,999.0,1999.0,499.0,299.0,1099.0,199.0,1999.0,499.0,699.0,999.0,1999.0,1200.0,485.0,1999.0,1099.0,18990.0,1999.0,11000.0,1999.0,70900.0,1199.0,599.0,549.0,249.0,35999.0,1699.0,499.0,2999.0,699.0,699.0,999.0,599.0,599.0,31990.0,599.0,999.0,599.0,9990.0,599.0,800.0,1999.0,999.0,16990.0,59999.0,999.0,600.0,1490.0,1999.0,899.0,799.0,499.0,2299.0,499.0,499.0,4999.0,1749.0,595.0,1100.0,49999.0,56790.0,1199.0,549.0,849.0,899.0,1099.0,799.0,795.0,399.0,999.0,999.0,399.0,1999.0,798.0,800.0,995.0,1000.0,139900.0,799.0,899.0,799.0,599.0,399.0,85000.0,758.0,999.0,799.0,1999.0,700.0,1099.0,1999.0,1999.0,4699.0,24990.0,999.0,650.0,3100.0,3999.0,49990.0,999.0,1499.0,18999.0,2299.0,999.0,69900.0,299.0,29999.0,599.0,34990.0,670.0,999.0,79990.0,499.0,800.0,35000.0,999.0,15999.0,1600.0,2499.0,1500.0,54990.0,1999.0,899.0,50999.0,399.0,699.0,4500.0,28900.0,449.0,999.0,499.0,999.0,999.0,900.0,42999.0,1052.0,19990.0,1099.0,25999.0,1899.0,3500.0,599.0,999.0,600.0,799.0,399.0,2999.0,499.0,599.0,14999.0,699.0,51990.0,999.0,69999.0,50000.0,19499.0,999.0,499.0,2499.0,1899.0,69999.0,799.0,19999.0,9999.0,7990.0,2199.0,8999.0,28999.0,28999.0,8999.0,8999.0,1000.0,4999.0,1599.0,6990.0,999.0,11999.0,2499.0,11999.0,1299.0,999.0,1800.0,11999.0,2499.0,2199.0,999.0,1699.0,3999.0,7999.0,25999.0,700.0,17999.0,19999.0,9999.0,24999.0,20999.0,19999.0,1099.0,10999.0,8499.0,19999.0,11999.0,495.0,16999.0,5999.0,349.0,18999.0,999.0,19999.0,11999.0,1699.0,15999.0,1599.0,9999.0,20990.0,24999.0,1699.0,699.0,3990.0,7990.0,699.0,399.0,34999.0,7990.0,1999.0,3999.0,1499.0,19499.0,999.0,19999.0,9999.0,1000.0,499.0,15990.0,33999.0,999.0,1900.0,14999.0,38999.0,24999.0,499.0,1599.0,1599.0,1800.0,1899.0,2499.0,499.0,14999.0,7990.0,7990.0,299.0,299.0,999.0,19499.0,299.0,17999.0,339.0,26999.0,649.0,171.0,1999.0,1600.0,20999.0,18999.0,28999.0,1490.0,699.0,7999.0,2199.0,1699.0,19999.0,799.0,1599.0,17999.0,20990.0,2899.0,4999.0,1699.0,29990.0,1999.0,15990.0,21990.0,899.0,1630.0,399.0,6990.0,7990.0,2899.0,5999.0,699.0,7990.0,5999.0,399.0,20990.0,499.0,1799.0,2899.0,13499.0,399.0,999.0,499.0,7999.0,9999.0,1499.0,1499.0,13499.0,199.0,1299.0,999.0,19499.0,999.0,599.0,9999.0,499.0,249.0,7999.0,599.0,20999.0,15999.0,4999.0,5999.0,999.0,1099.0,6990.0,6990.0,29990.0,13499.0,20999.0,27990.0,18999.0,5999.0,999.0,1999.0,999.0,5999.0,3500.0,9999.0,18999.0,4999.0,20999.0,8499.0,6999.0,666.6599731445312,5999.0,1630.0,9999.0,1900.0,599.0,1199.0,499.0,15999.0,999.0,499.0,7990.0,1999.0,1899.0,999.0,499.0,12999.0,3999.0,20999.0,49999.0,2999.0,6499.0,2990.0,2400.0,3990.0,149.0,2100.0,5299.0,1899.0,32999.0,39990.0,1999.0,11999.0,999.0,599.0,1899.0,3499.0,3499.0,999.0,6999.0,18999.0,2599.0,1199.0,999.0,9999.0,7999.0,1249.0,599.0,700.0,1799.0,499.0,599.0,9499.0,999.0,74999.0,499.0,399.0,3999.0,11999.0,3999.0,17999.0,499.0,1399.0,2999.0,499.0,11999.0,1499.0,19499.0,499.0,6999.0,999.0,4490.0,9999.0,7990.0,650.0,895.0,237.0,2990.0,699.0,1000.0,4999.0,3990.0,1499.0,399.0,999.0,3990.0,6990.0,999.0,999.0,1299.0,1500.0,649.0,599.0,3999.0,7999.0,999.0,1799.0,9999.0,650.0,1995.0,1099.0,315.0,50.0,165.0,1290.0,16999.0,1290.0,2498.0,349.0,999.0,5999.0,4999.0,1999.0,449.0,699.0,999.0,3990.0,5499.0,399.0,1350.0,7990.0,1999.0,3990.0,1295.0,5499.0,1490.0,995.0,3999.0,1000.0,761.0,999.0,299.0,2500.0,4999.0,1299.0,8999.0,180.0,549.0,225.0,999.0,599.0,4499.0,4499.0,2499.0,499.0,550.0,1999.0,1199.0,3490.0,4999.0,4999.0,599.0,499.0,399.0,299.0,299.0,2499.0,2299.0,299.0,339.0,250.0,1499.0,2800.0,7990.0,299.0,404.0,1399.0,599.0,999.0,1295.0,700.0,160.0,1600.0,899.0,599.0,899.0,2990.0,899.0,399.0,3000.0,4999.0,4999.0,861.0,795.0,2495.0,399.0,1799.0,2499.0,800.0,549.0,9999.0,29999.0,3499.0,315.0,1499.0,13750.0,59.0,999.0,999.0,5999.0,21990.0,699.0,2999.0,499.0,1400.0,3299.0,5999.0,499.0,499.0,22900.0,375.0,4999.0,160.0,199.0,499.0,3999.0,2999.0,699.0,1499.0,3999.0,995.0,499.0,1699.0,1995.0,4999.0,440.0,999.0,3999.0,399.0,999.0,499.0,4999.0,699.0,799.0,2000.0,9999.0,180.0,2900.0,999.0,1999.0,999.0,999.0,2399.0,100.0,1499.0,1795.0,999.0,315.0,220.0,1599.0,1650.0,600.0,6990.0,2499.0,399.0,699.0,2198.0,999.0,499.0,9999.0,499.0,1000.0,3500.0,4100.0,180.0,1190.0,7999.0,1599.0,1999.0,99.0,1999.0,2999.0,999.0,499.0,800.0,3495.0,720.0,590.0,1999.0,7350.0,2595.0,799.0,999.0,1999.0,299.0,1499.0,699.0,2490.0,750.0,499.0,4990.0,999.0,2490.0,999.0,99.0,2999.0,3100.0,75.0,2699.0,1499.0,999.0,7999.0,799.0,600.0,499.0,5734.0,550.0,1390.0,3295.0,1099.0,2911.0,175.0,599.0,7999.0,3250.0,499.0,2295.0,995.0,499.0,599.0,450.0,1109.0,999.0,250.0,499.0,1900.0,999.0,999.0,1499.0,1929.0,1499.0,399.0,699.0,400.0,1499.0,120.0,120.0,1999.0,695.0,2295.0,99.0,249.0,2799.0,999.0,210.0,3490.0,1299.0,499.0,5999.0,999.0,1800.0,9999.0,2890.0,5999.0,160.0,1599.0,999.0,499.0,4700.0,4332.9599609375,1800.0,990.0,4699.0,5490.0,100.0,2790.0,999.0,1208.0,899.0,3999.0,2499.0,395.0,1645.0,310.0,149.0,1499.0,1299.0,4199.0,4000.0,250.0,2199.0,100.0,5999.0,1995.0,2100.0,1199.0,999.0,2499.0,3990.0,200.0,230.0,2796.0,999.0,3499.0,349.0,723.0,5999.0,12499.0,1290.0,200.0,5999.0,499.0,2499.0,1599.0,2990.0,320.0,999.0,3875.0,19110.0,999.0,150.0,1499.0,2999.0,899.0,349.0,1490.0,1999.0,1500.0,5499.0,1499.0,775.0,32000.0,1300.0,1999.0,999.0,1999.0,2199.0,1999.0,1799.0,845.0,1099.0,7999.0,1499.0,1499.0,2999.0,1299.0,300.0,1995.0,535.0,24999.0,1099.0,450.0,3999.0,599.0,7005.0,1199.0,2999.0,799.0,999.0,999.0,2895.0,1500.0,3195.0,6355.0,699.0,2999.0,1499.0,165.0,3499.0,7500.0,700.0,39.0,37999.0,1990.0,1949.0,899.0,1547.0,1299.0,599.0,499.0,230.0,999.0,700.0,1150.0,1499.0,1299.0,499.0,1090.0,399.0,100.0,1999.0,1800.0,499.0,39.0,3599.0,3990.0,499.0,1499.0,120.0,3499.0,420.0,225.0,799.0,3999.0,9625.0,6100.0,1299.0,1300.0,400.0,1399.0,59890.0,2490.0,1999.0,6999.0,999.0,800.0,999.0,2999.0,1245.0,1695.0,2000.0,999.0,1999.0,499.0,495.0,1245.0,1549.0,1445.0,3193.0,1345.0,999.0,1650.0,499.0,1400.0,2500.0,6190.0,13999.0,2995.0,5890.0,2000.0,13150.0,3500.0,785.0,3210.0,1000.0,2000.0,1999.0,720.0,1595.0,3645.0,7950.0,999.0,1745.0,1295.0,1499.0,1545.0,5000.0,1695.0,3945.0,2099.0,5295.0,3595.0,1699.0,1129.0,5795.0,999.0,2400.0,1299.0,1299.0,1090.0,2000.0,1545.0,1999.0,875.0,15270.0,4195.0,1989.0,5000.0,990.0,1111.0,10400.0,2490.0,1900.0,6295.0,999.0,1699.0,1500.0,9650.0,10590.0,1999.0,89.0,2485.0,899.0,3279.0,3799.0,1249.0,5000.0,7299.0,625.0,1020.0,8990.0,1639.0,899.0,1199.0,1899.0,11595.0,1750.0,2095.0,2300.0,2990.0,4295.0,199.0,2499.0,499.0,2400.0,749.0,1775.0,1599.0,1795.0,15999.0,1490.0,1999.0,499.0,299.0,600.0,1130.0,6295.0,9455.0,699.0,4999.0,2900.0,2499.0,1190.0,2100.0,499.0,825.0,1499.0,9995.0,999.0,6000.0,3945.0,1999.0,3499.0,5550.0,4590.0,499.0,4400.0,1000.0,299.0,799.0,5190.0,1345.0,4000.0,4000.0,1599.0,9999.0,1990.0,1695.0,940.0,4700.0,2999.0,79.0,14290.0,3945.0,5999.0,1950.0,2799.0,1950.0,9999.0,12999.0,699.0,3190.0,799.0,499.0,1499.0,2660.0,2799.0,1499.0,59900.0,1900.0,999.0,6375.0,499.0,1899.0,1490.0,350.0,8500.0,2499.0,1560.0,6500.0,999.0,7795.0,5995.0,299.0,2349.0,499.0,1299.0,499.0,4775.0,1230.0,1999.0,5156.0,1999.0,2095.0,19825.0,1920.0,16000.0,2199.0,14999.0,1799.0,1950.0,2995.0,999.0,11995.0,2999.0,1690.0,1790.0,8995.0,239.0,1599.0,4290.0,2890.0,1299.0,640.0,3790.0,4560.0,3500.0,2600.0,3300.0,699.0,23559.0,1599.0,9995.0,2545.0,8995.0,1999.0,5500.0,12150.0,4995.0,1499.0,7506.0,18000.0,1099.0,1900.0,1850.0,9999.0,3995.0,1499.0,3295.0,2695.0,2290.0,3099.0,1075.0,6999.0,2499.0,7290.0,5795.0,3398.0,1490.0,1620.0,1000.0,640.0,4495.0,2999.0,980.0,899.0,499.0,3995.0,11500.0,499.0,3550.0,1599.0,1499.0,2999.0,11500.0,2499.0,1975.0,1699.0,2495.0,3500.0,4600.0,10295.0,2199.0,2380.0,8820.0,24999.0,2400.0,4200.0,1599.0,2999.0,1282.0,1990.0,9999.0,11850.0,999.0,20049.0,24850.0,16490.0,975.0,499.0,635.0,1390.0,59900.0,670.0,399.0,2495.0,3390.0,2499.0,4200.0,4495.0,2199.0,999.0,595.0,19990.0,1010.0,1100.0,999.0,10900.0,4005.0,3295.0,4650.0,24500.0,6070.0,999.0,3945.0,1499.0,6700.0,2800.0,1699.0,970.0,1500.0,1295.0,23999.0,850.0,6000.0,1020.0,1999.0,7445.0,3500.0,1395.0,2199.0,4330.0,4295.0,18990.0,12500.0,2385.0,4890.0,1100.0,3899.0,16899.0,75990.0,825.0,300.0,1499.0,747.0,3999.0,11990.0,3799.0,1999.0,2999.0,599.0,1999.0,4849.0,510.0,499.0,1299.0,999.0,1190.0,400.0,599.0,999.0,699.0,1499.0,1295.0,4999.0,2550.0,1950.0,8478.0,3299.0,3895.0,5495.0,999.0,8995.0,1599.0,3500.0,1999.0,3199.0,1300.0,399.0,599.0,999.0,199.0,1299.0,7776.0,2299.0,1500.0,2590.0,6299.0,1795.0,3190.0,4799.0,8999.0,1899.0,5799.0,799.0,300.0,7200.0,389.0,13049.0,5999.0,2400.0,5295.0,24999.0,799.0,2999.0,2495.0,450.0,999.0,1690.0,3890.0,260.0,599.0,1950.0,2990.0,8073.0,2599.0,29999.0,2360.0,11495.0,4780.0,2400.0,249.0,1199.0,10999.0,10995.0,3300.0,400.0,1440.0,3045.0,3595.0,500.0,799.0,1899.0,799.0,399.0,699.0,1999.0,2199.0,999.0,3290.0,3098.0,4990.0,1200.0,2695.0,2299.0,999.0,919.0,3045.0,3080.0,1890.0,3690.0],\"yaxis\":\"y\",\"type\":\"scattergl\"},{\"hovertemplate\":\"<b>OLS trendline</b><br>PRECO_REAL = 1.50637 * DESCONTO + 737.129<br>R<sup>2</sup>=0.925281<br><br>DESCONTO=%{x}<br>PRECO_REAL=%{y} <b>(trend)</b><extra></extra>\",\"legendgroup\":\"\",\"marker\":{\"color\":\"#636efa\",\"symbol\":\"circle\"},\"mode\":\"lines\",\"name\":\"\",\"showlegend\":false,\"x\":[39.0,39.0,39.0,50.0,57.88999938964844,59.0,59.0,59.0,59.0,59.0,67.0,69.0,79.0,79.0,85.0,88.0,89.0,89.0,89.0,89.0,89.0,90.0,90.0,90.0,90.0,95.0,95.0,96.0,99.0,99.0,99.0,99.0,99.0,99.0,99.0,99.0,99.0,99.0,99.0,99.0,99.0,99.0,99.0,100.0,100.0,114.0,115.0,115.0,115.0,115.0,116.0,116.0,119.0,119.0,119.0,119.0,120.0,120.0,120.0,120.0,125.0,128.30999755859375,129.0,129.0,129.0,129.0,129.0,130.0,134.0,137.0,139.0,139.0,139.0,139.0,139.0,139.0,139.0,139.0,149.0,149.0,149.0,149.0,149.0,149.0,149.0,149.0,149.0,149.0,149.0,149.0,149.0,149.0,149.0,149.0,150.0,150.0,154.0,154.0,154.0,154.0,154.0,154.0,154.0,154.0,157.0,157.0,159.0,159.0,159.0,159.0,159.0,160.0,161.0,165.0,169.0,173.0,175.0,176.6300048828125,176.6300048828125,176.6300048828125,177.0,178.0,179.0,179.0,179.0,179.0,179.0,179.0,179.0,179.0,179.0,179.0,179.0,179.0,179.0,182.0,184.0,185.0,185.0,189.0,190.0,191.0,193.0,195.0,197.0,198.0,199.0,199.0,199.0,199.0,199.0,199.0,199.0,199.0,199.0,199.0,199.0,199.0,199.0,199.0,199.0,199.0,199.0,199.0,199.0,199.0,199.0,199.0,199.0,199.0,199.0,199.0,199.0,199.0,199.0,199.0,199.0,199.0,199.0,199.0,199.0,199.0,199.0,199.0,199.0,199.0,199.0,199.0,199.0,199.0,199.0,199.0,199.0,199.0,199.0,199.0,199.0,199.0,199.0,200.0,204.0,205.0,209.0,209.0,209.0,209.0,209.0,209.0,209.0,210.0,210.0,213.0,215.0,215.0,217.0,218.0,219.0,219.0,219.0,219.0,219.0,219.0,219.0,225.0,225.0,225.0,228.0,229.0,229.0,229.0,229.0,229.0,229.0,230.0,230.0,230.0,231.0,235.0,235.0,238.0,239.0,239.0,239.0,244.0,245.0,246.0,247.0,249.0,249.0,249.0,249.0,249.0,249.0,249.0,249.0,249.0,249.0,249.0,249.0,249.0,249.0,249.0,249.0,249.0,250.0,250.0,251.0,252.0,252.0,253.0,254.0,259.0,259.0,260.0,263.0,263.0,263.0,265.0,266.0,269.0,269.0,269.0,269.0,269.0,269.0,269.0,269.0,272.0,273.1000061035156,279.0,279.0,279.0,279.0,279.0,279.0,279.0,279.0,281.0,287.0,289.0,289.0,289.0,290.0,292.0,293.0,293.0,294.0,295.0,298.0,298.0,299.0,299.0,299.0,299.0,299.0,299.0,299.0,299.0,299.0,299.0,299.0,299.0,299.0,299.0,299.0,299.0,299.0,299.0,299.0,299.0,299.0,299.0,299.0,299.0,299.0,299.0,299.0,299.0,299.0,299.0,299.0,299.0,299.0,299.0,299.0,299.0,299.0,299.0,299.0,299.0,299.0,299.0,299.0,299.0,299.0,299.0,300.0,308.0,309.0,309.0,309.0,310.0,314.0,319.0,320.0,320.0,325.0,325.0,325.0,325.0,326.0,328.0,329.0,329.0,329.0,329.0,329.0,329.0,329.0,329.0,330.0,333.0,333.0,335.0,337.0,339.0,339.0,339.0,339.0,341.0,345.0,347.0,348.0,348.0,349.0,349.0,349.0,349.0,349.0,349.0,349.0,349.0,349.0,349.0,349.0,349.0,349.0,349.0,349.0,349.0,349.0,349.0,349.0,349.0,349.0,349.0,349.0,349.0,349.0,349.0,349.0,349.0,349.0,349.0,349.0,350.0,350.0,350.0,350.0,351.0,351.0,351.0,353.0,354.0,355.0,365.0,368.0,368.0,369.0,369.0,369.0,369.0,375.0,378.0,379.0,379.0,379.0,379.0,379.0,379.0,379.0,379.0,379.0,379.0,380.0,389.0,389.0,389.0,390.0,395.0,397.0,398.0,398.0,399.0,399.0,399.0,399.0,399.0,399.0,399.0,399.0,399.0,399.0,399.0,399.0,399.0,399.0,399.0,399.0,399.0,399.0,399.0,399.0,399.0,399.0,399.0,399.0,399.0,399.0,399.0,399.0,399.0,399.0,399.0,399.0,399.0,399.0,399.0,399.0,416.0,417.44000244140625,419.0,420.0,425.0,425.0,426.0,429.0,429.0,439.0,440.0,445.0,448.0,449.0,449.0,449.0,449.0,449.0,449.0,449.0,449.0,449.0,449.0,453.0,455.0,455.0,457.0,467.0,469.0,469.0,474.0,474.0,475.0,475.0,478.0,479.0,479.0,479.0,480.0,486.0,489.0,489.0,498.0,499.0,499.0,499.0,499.0,499.0,499.0,499.0,499.0,499.0,499.0,499.0,499.0,499.0,499.0,499.0,499.0,499.0,499.0,499.0,499.0,499.0,499.0,499.0,499.0,499.0,499.0,499.0,499.0,499.0,499.0,499.0,499.0,499.0,499.0,507.0,507.0,510.0,519.0,522.0,529.0,535.0,539.0,539.0,547.0,549.0,549.0,549.0,549.0,549.0,549.0,549.0,549.0,549.0,549.0,549.0,549.0,559.0,561.0,569.0,569.0,569.0,570.0,571.0,575.0,579.0,579.0,587.0,596.0,598.0,598.0,599.0,599.0,599.0,599.0,599.0,599.0,599.0,599.0,599.0,599.0,599.0,599.0,599.0,599.0,599.0,599.0,599.0,599.0,599.0,599.0,599.0,599.0,599.0,599.0,599.0,599.0,599.0,599.0,600.0,600.0,609.0,610.0,616.0,625.0,629.0,635.0,637.0,640.0,645.0,649.0,649.0,649.0,649.0,649.0,649.0,649.0,649.0,649.0,649.0,649.0,649.0,649.0,653.0,655.0,656.0,657.0,660.0,664.0,664.0,669.0,678.0,681.0,688.0,689.0,689.0,697.0,698.0,699.0,699.0,699.0,699.0,699.0,699.0,699.0,699.0,699.0,699.0,699.0,699.0,699.0,699.0,709.0,717.0,717.0,719.0,719.0,719.0,721.0,729.0,745.0,749.0,749.0,749.0,749.0,749.0,749.0,749.0,753.0,759.0,765.0,770.0,775.0,778.0,784.0,789.0,790.0,798.0,799.0,799.0,799.0,799.0,799.0,799.0,799.0,799.0,799.0,799.0,799.0,799.0,799.0,799.0,799.0,799.0,799.0,799.0,799.0,799.0,809.0,809.0,825.0,828.0,848.989990234375,849.0,849.0,849.0,849.0,849.0,849.0,850.0,873.0,879.0,889.0,889.0,889.0,893.0,899.0,899.0,899.0,899.0,899.0,899.0,899.0,899.0,899.0,899.0,899.0,899.0,899.0,899.0,899.0,899.0,899.0,900.0,917.0,929.0,929.0,939.0,948.0,949.0,949.0,949.0,949.0,949.0,949.0,949.0,949.0,950.0,959.0,970.0,970.0,970.0,970.0,970.0,970.0,970.0,970.0,979.0,979.0,980.0,998.0,998.0599975585938,999.0,999.0,999.0,999.0,999.0,999.0,999.0,999.0,999.0,999.0,999.0,999.0,999.0,999.0,999.0,999.0,999.0,999.0,999.0,999.0,999.0,999.0,999.0,999.0,999.0,1043.0,1049.0,1049.0,1049.0,1049.0,1049.0,1052.0,1055.0,1059.0,1069.0,1075.0,1089.0,1090.0,1099.0,1099.0,1099.0,1099.0,1099.0,1099.0,1099.0,1099.0,1099.0,1099.0,1099.0,1099.0,1109.0,1110.0,1130.0,1149.0,1149.0,1149.0,1149.0,1149.0,1149.0,1149.0,1149.0,1180.0,1182.0,1187.0,1189.0,1190.0,1199.0,1199.0,1199.0,1199.0,1199.0,1199.0,1199.0,1199.0,1199.0,1199.0,1199.0,1199.0,1199.0,1199.0,1199.0,1199.0,1199.0,1199.0,1199.0,1199.0,1199.0,1199.0,1199.0,1219.0,1220.0,1234.0,1235.0,1249.0,1249.0,1260.0,1260.0,1289.0,1289.0,1290.0,1295.0,1295.0,1295.0,1299.0,1299.0,1299.0,1299.0,1299.0,1299.0,1299.0,1299.0,1299.0,1299.0,1299.0,1299.0,1299.0,1299.0,1299.0,1299.0,1321.0,1324.0,1324.0,1329.0,1345.0,1345.0,1349.0,1349.0,1349.0,1349.0,1369.0,1399.0,1399.0,1399.0,1399.0,1399.0,1399.0,1399.0,1399.0,1399.0,1399.0,1399.0,1399.0,1399.0,1399.0,1399.0,1400.0,1409.0,1409.0,1414.0,1434.0,1439.0,1439.0,1448.0,1449.0,1449.0,1456.0,1464.0,1469.0,1474.0,1484.0,1490.0,1490.0,1490.0,1495.0,1495.0,1498.0,1499.0,1499.0,1499.0,1499.0,1499.0,1499.0,1499.0,1499.0,1499.0,1499.0,1499.0,1499.0,1499.0,1499.0,1499.0,1499.0,1499.0,1499.0,1499.0,1499.0,1499.0,1499.0,1499.0,1499.0,1499.0,1499.0,1500.0,1519.0,1519.0,1529.0,1529.0,1547.0,1549.0,1563.0,1565.0,1595.0,1598.0,1599.0,1599.0,1599.0,1599.0,1599.0,1599.0,1599.0,1599.0,1599.0,1599.0,1599.0,1599.0,1599.0,1601.0,1614.0,1624.0,1625.0,1649.0,1656.0,1665.0,1679.0,1695.0,1699.0,1699.0,1699.0,1699.0,1699.0,1699.0,1699.0,1699.0,1699.0,1709.0,1745.0,1792.0,1799.0,1799.0,1799.0,1799.0,1799.0,1799.0,1799.0,1799.0,1799.0,1799.0,1799.0,1799.0,1799.0,1799.0,1799.0,1799.0,1799.0,1799.0,1799.0,1799.0,1799.0,1804.0,1815.0,1819.0,1849.0,1850.0,1889.0,1889.0,1890.0,1898.0,1899.0,1928.0,1959.0,1969.0,1982.8399658203125,1989.0,1990.0,1990.0,1990.0,1995.0,1998.0,1998.0,1999.0,1999.0,1999.0,1999.0,1999.0,1999.0,1999.0,1999.0,1999.0,1999.0,1999.0,1999.0,1999.0,1999.0,1999.0,1999.0,1999.0,1999.0,1999.0,1999.0,1999.0,2025.0,2033.0,2049.0,2079.0,2088.0,2089.0,2092.0,2095.0,2099.0,2099.0,2099.0,2099.0,2148.0,2169.0,2179.0,2199.0,2199.0,2199.0,2199.0,2199.0,2199.0,2199.0,2199.0,2219.0,2237.81005859375,2249.0,2280.0,2286.0,2299.0,2299.0,2299.0,2299.0,2320.0,2339.0,2399.0,2399.0,2439.0,2449.0,2464.0,2490.0,2499.0,2499.0,2499.0,2499.0,2499.0,2499.0,2499.0,2499.0,2499.0,2499.0,2499.0,2499.0,2499.0,2575.0,2590.0,2595.0,2599.0,2599.0,2599.0,2599.0,2599.0,2599.0,2599.0,2599.0,2640.0,2649.0,2669.0,2695.0,2698.0,2699.0,2699.0,2699.0,2699.0,2719.0,2742.0,2790.0,2799.0,2799.0,2799.0,2863.0,2899.0,2899.0,2903.0,2949.0,2976.0,2998.0,2998.0,2999.0,2999.0,2999.0,2999.0,2999.0,2999.0,2999.0,2999.0,3041.669921875,3179.0,3180.0,3190.0,3199.0,3199.0,3199.0,3229.0,3249.0,3249.0,3249.0,3249.0,3249.0,3290.0,3299.0,3299.0,3299.0,3303.0,3307.0,3349.0,3349.0,3487.77001953125,3498.0,3499.0,3569.0,3599.0,3599.0,3599.0,3599.0,3600.0,3645.0,3657.659912109375,3685.0,3699.0,3710.0,3711.0,3799.0,3799.0,3859.0,3999.0,3999.0,3999.0,3999.0,3999.0,3999.0,4098.0,4280.0,4449.0,4499.0,4499.0,4699.0,4789.0,4790.0,4799.0,4899.0,4995.0,4999.0,4999.0,4999.0,4999.0,4999.0,5299.0,5365.0,5395.0,5490.0,5499.0,5499.0,5499.0,5599.0,5699.0,5799.0,5865.0,5890.0,5899.0,5998.0,5999.0,5999.0,5999.0,6120.0,6120.0,6199.0,6199.0,6236.0,6299.0,6299.0,6490.0,6499.0,6499.0,6499.0,6499.0,6499.0,6499.0,6499.0,6525.0,6549.0,6790.0,6800.0,6850.0,6990.0,6999.0,6999.0,6999.0,6999.0,7199.0,7299.0,7349.0,7390.0,7499.0,7499.0,7799.0,7799.0,7915.0,7998.0,7999.0,7999.0,8199.0,8349.0,8499.0,8499.0,8499.0,8499.0,8499.0,8599.0,8699.0,8699.0,8799.0,8799.0,8886.0,8990.0,8999.0,8999.0,8999.0,8999.0,8999.0,8999.0,9199.0,9490.0,9495.0,9499.0,9499.0,9590.0,9799.0,9970.0,9999.0,9999.0,10099.0,10389.0,10499.0,10499.0,10901.0,10990.0,10999.0,10999.0,11499.0,11990.0,12000.0,12490.0,12499.0,12499.0,12609.0,12999.0,12999.0,12999.0,12999.0,12999.0,12999.0,12999.0,12999.0,13490.0,13490.0,13490.0,13490.0,13990.0,13999.0,13999.0,13999.0,13999.0,13999.0,13999.0,13999.0,13999.0,13999.0,13999.0,13999.0,13999.0,14400.0,14499.0,14999.0,14999.0,15490.0,15490.0,15490.0,15499.0,15499.0,15499.0,15499.0,15990.0,15999.0,15999.0,16499.0,16499.0,16999.0,16999.0,16999.0,16999.0,16999.0,16999.0,17999.0,18499.0,18990.0,18999.0,18999.0,18999.0,19999.0,19999.0,19999.0,20990.0,20999.0,20999.0,20999.0,21990.0,21999.0,21999.0,22999.0,23999.0,23999.0,24499.0,24990.0,24999.0,24999.0,26999.0,26999.0,26999.0,27900.0,27999.0,28999.0,28999.0,28999.0,29990.0,29990.0,29999.0,29999.0,30990.0,30990.0,31999.0,32990.0,32990.0,32990.0,32999.0,32999.0,32999.0,33999.0,34999.0,35999.0,37247.0,37990.0,37999.0,42990.0,42999.0,44999.0,45999.0,46999.0,47990.0,47990.0,54990.0,61999.0,77990.0],\"xaxis\":\"x\",\"y\":[795.8777161936115,795.8777161936115,795.8777161936115,812.447739175048,824.332963830502,826.0050307053141,826.0050307053141,826.0050307053141,826.0050307053141,826.0050307053141,838.0559565099952,841.0686879611654,856.1323452170168,856.1323452170168,865.1705395705276,869.689636747283,871.196002472868,871.196002472868,871.196002472868,871.196002472868,871.196002472868,872.7023681984532,872.7023681984532,872.7023681984532,872.7023681984532,880.2341968263788,880.2341968263788,881.7405625519639,886.2596597287193,886.2596597287193,886.2596597287193,886.2596597287193,886.2596597287193,886.2596597287193,886.2596597287193,886.2596597287193,886.2596597287193,886.2596597287193,886.2596597287193,886.2596597287193,886.2596597287193,886.2596597287193,886.2596597287193,887.7660254543044,887.7660254543044,908.8551456124962,910.3615113380814,910.3615113380814,910.3615113380814,910.3615113380814,911.8678770636666,911.8678770636666,916.386974240422,916.386974240422,916.386974240422,916.386974240422,917.893339966007,917.893339966007,917.893339966007,917.893339966007,925.4251685939328,930.4112354679688,931.4506314962732,931.4506314962732,931.4506314962732,931.4506314962732,931.4506314962732,932.9569972218584,938.982460124199,943.5015573009542,946.5142887521246,946.5142887521246,946.5142887521246,946.5142887521246,946.5142887521246,946.5142887521246,946.5142887521246,946.5142887521246,961.5779460079758,961.5779460079758,961.5779460079758,961.5779460079758,961.5779460079758,961.5779460079758,961.5779460079758,961.5779460079758,961.5779460079758,961.5779460079758,961.5779460079758,961.5779460079758,961.5779460079758,961.5779460079758,961.5779460079758,961.5779460079758,963.084311733561,963.084311733561,969.1097746359014,969.1097746359014,969.1097746359014,969.1097746359014,969.1097746359014,969.1097746359014,969.1097746359014,969.1097746359014,973.6288718126568,973.6288718126568,976.6416032638272,976.6416032638272,976.6416032638272,976.6416032638272,976.6416032638272,978.1479689894122,979.6543347149974,985.679797617338,991.7052605196784,997.730723422019,1000.7434548731892,1003.1988383611944,1003.1988383611944,1003.1988383611944,1003.7561863243595,1005.2625520499446,1006.7689177755298,1006.7689177755298,1006.7689177755298,1006.7689177755298,1006.7689177755298,1006.7689177755298,1006.7689177755298,1006.7689177755298,1006.7689177755298,1006.7689177755298,1006.7689177755298,1006.7689177755298,1006.7689177755298,1011.288014952285,1014.3007464034554,1015.8071121290404,1015.8071121290404,1021.8325750313811,1023.3389407569662,1024.8453064825512,1027.8580379337216,1030.870769384892,1033.883500836062,1035.389866561647,1036.8962322872324,1036.8962322872324,1036.8962322872324,1036.8962322872324,1036.8962322872324,1036.8962322872324,1036.8962322872324,1036.8962322872324,1036.8962322872324,1036.8962322872324,1036.8962322872324,1036.8962322872324,1036.8962322872324,1036.8962322872324,1036.8962322872324,1036.8962322872324,1036.8962322872324,1036.8962322872324,1036.8962322872324,1036.8962322872324,1036.8962322872324,1036.8962322872324,1036.8962322872324,1036.8962322872324,1036.8962322872324,1036.8962322872324,1036.8962322872324,1036.8962322872324,1036.8962322872324,1036.8962322872324,1036.8962322872324,1036.8962322872324,1036.8962322872324,1036.8962322872324,1036.8962322872324,1036.8962322872324,1036.8962322872324,1036.8962322872324,1036.8962322872324,1036.8962322872324,1036.8962322872324,1036.8962322872324,1036.8962322872324,1036.8962322872324,1036.8962322872324,1036.8962322872324,1036.8962322872324,1036.8962322872324,1036.8962322872324,1036.8962322872324,1036.8962322872324,1036.8962322872324,1036.8962322872324,1038.4025980128174,1044.4280609151579,1045.9344266407431,1051.9598895430836,1051.9598895430836,1051.9598895430836,1051.9598895430836,1051.9598895430836,1051.9598895430836,1051.9598895430836,1053.4662552686686,1053.4662552686686,1057.9853524454243,1060.9980838965944,1060.9980838965944,1064.0108153477647,1065.5171810733498,1067.023546798935,1067.023546798935,1067.023546798935,1067.023546798935,1067.023546798935,1067.023546798935,1067.023546798935,1076.0617411524458,1076.0617411524458,1076.0617411524458,1080.580838329201,1082.0872040547863,1082.0872040547863,1082.0872040547863,1082.0872040547863,1082.0872040547863,1082.0872040547863,1083.5935697803714,1083.5935697803714,1083.5935697803714,1085.0999355059564,1091.125398408297,1091.125398408297,1095.6444955850525,1097.1508613106375,1097.1508613106375,1097.1508613106375,1104.6826899385633,1106.1890556641483,1107.6954213897334,1109.2017871153184,1112.2145185664888,1112.2145185664888,1112.2145185664888,1112.2145185664888,1112.2145185664888,1112.2145185664888,1112.2145185664888,1112.2145185664888,1112.2145185664888,1112.2145185664888,1112.2145185664888,1112.2145185664888,1112.2145185664888,1112.2145185664888,1112.2145185664888,1112.2145185664888,1112.2145185664888,1113.720884292074,1113.720884292074,1115.2272500176591,1116.7336157432442,1116.7336157432442,1118.2399814688292,1119.7463471944145,1127.27817582234,1127.27817582234,1128.7845415479253,1133.3036387246807,1133.3036387246807,1133.3036387246807,1136.3163701758508,1137.822735901436,1142.3418330781915,1142.3418330781915,1142.3418330781915,1142.3418330781915,1142.3418330781915,1142.3418330781915,1142.3418330781915,1142.3418330781915,1146.8609302549469,1148.5179417472173,1157.4054903340427,1157.4054903340427,1157.4054903340427,1157.4054903340427,1157.4054903340427,1157.4054903340427,1157.4054903340427,1157.4054903340427,1160.418221785213,1169.4564161387239,1172.469147589894,1172.469147589894,1172.469147589894,1173.975513315479,1176.9882447666494,1178.4946104922346,1178.4946104922346,1180.0009762178197,1181.5073419434048,1186.0264391201601,1186.0264391201601,1187.5328048457454,1187.5328048457454,1187.5328048457454,1187.5328048457454,1187.5328048457454,1187.5328048457454,1187.5328048457454,1187.5328048457454,1187.5328048457454,1187.5328048457454,1187.5328048457454,1187.5328048457454,1187.5328048457454,1187.5328048457454,1187.5328048457454,1187.5328048457454,1187.5328048457454,1187.5328048457454,1187.5328048457454,1187.5328048457454,1187.5328048457454,1187.5328048457454,1187.5328048457454,1187.5328048457454,1187.5328048457454,1187.5328048457454,1187.5328048457454,1187.5328048457454,1187.5328048457454,1187.5328048457454,1187.5328048457454,1187.5328048457454,1187.5328048457454,1187.5328048457454,1187.5328048457454,1187.5328048457454,1187.5328048457454,1187.5328048457454,1187.5328048457454,1187.5328048457454,1187.5328048457454,1187.5328048457454,1187.5328048457454,1187.5328048457454,1187.5328048457454,1187.5328048457454,1189.0391705713305,1201.0900963760114,1202.5964621015967,1202.5964621015967,1202.5964621015967,1204.1028278271817,1210.1282907295222,1217.660119357448,1219.166485083033,1219.166485083033,1226.6983137109587,1226.6983137109587,1226.6983137109587,1226.6983137109587,1228.2046794365438,1231.217410887714,1232.7237766132992,1232.7237766132992,1232.7237766132992,1232.7237766132992,1232.7237766132992,1232.7237766132992,1232.7237766132992,1232.7237766132992,1234.2301423388844,1238.7492395156396,1238.7492395156396,1241.76197096681,1244.7747024179803,1247.7874338691504,1247.7874338691504,1247.7874338691504,1247.7874338691504,1250.8001653203207,1256.8256282226612,1259.8383596738315,1261.3447253994168,1261.3447253994168,1262.8510911250019,1262.8510911250019,1262.8510911250019,1262.8510911250019,1262.8510911250019,1262.8510911250019,1262.8510911250019,1262.8510911250019,1262.8510911250019,1262.8510911250019,1262.8510911250019,1262.8510911250019,1262.8510911250019,1262.8510911250019,1262.8510911250019,1262.8510911250019,1262.8510911250019,1262.8510911250019,1262.8510911250019,1262.8510911250019,1262.8510911250019,1262.8510911250019,1262.8510911250019,1262.8510911250019,1262.8510911250019,1262.8510911250019,1262.8510911250019,1262.8510911250019,1262.8510911250019,1262.8510911250019,1262.8510911250019,1264.357456850587,1264.357456850587,1264.357456850587,1264.357456850587,1265.863822576172,1265.863822576172,1265.863822576172,1268.8765540273423,1270.3829197529276,1271.8892854785126,1286.952942734364,1291.4720399111193,1291.4720399111193,1292.9784056367043,1292.9784056367043,1292.9784056367043,1292.9784056367043,1302.0165999902151,1306.5356971669707,1308.0420628925558,1308.0420628925558,1308.0420628925558,1308.0420628925558,1308.0420628925558,1308.0420628925558,1308.0420628925558,1308.0420628925558,1308.0420628925558,1308.0420628925558,1309.5484286181409,1323.105720148407,1323.105720148407,1323.105720148407,1324.612085873992,1332.1439145019178,1335.1566459530882,1336.6630116786732,1336.6630116786732,1338.1693774042583,1338.1693774042583,1338.1693774042583,1338.1693774042583,1338.1693774042583,1338.1693774042583,1338.1693774042583,1338.1693774042583,1338.1693774042583,1338.1693774042583,1338.1693774042583,1338.1693774042583,1338.1693774042583,1338.1693774042583,1338.1693774042583,1338.1693774042583,1338.1693774042583,1338.1693774042583,1338.1693774042583,1338.1693774042583,1338.1693774042583,1338.1693774042583,1338.1693774042583,1338.1693774042583,1338.1693774042583,1338.1693774042583,1338.1693774042583,1338.1693774042583,1338.1693774042583,1338.1693774042583,1338.1693774042583,1338.1693774042583,1338.1693774042583,1338.1693774042583,1338.1693774042583,1338.1693774042583,1363.7775947392056,1365.946765061699,1368.2966919159608,1369.803057641546,1377.3348862694716,1377.3348862694716,1378.8412519950568,1383.3603491718122,1383.3603491718122,1398.4240064276635,1399.9303721532488,1407.4622007811743,1411.9812979579297,1413.4876636835147,1413.4876636835147,1413.4876636835147,1413.4876636835147,1413.4876636835147,1413.4876636835147,1413.4876636835147,1413.4876636835147,1413.4876636835147,1413.4876636835147,1419.5131265858554,1422.5258580370255,1422.5258580370255,1425.5385894881958,1440.602246744047,1443.6149781952174,1443.6149781952174,1451.146806823143,1451.146806823143,1452.6531725487282,1452.6531725487282,1457.1722697254836,1458.6786354510687,1458.6786354510687,1458.6786354510687,1460.1850011766537,1469.2231955301645,1473.7422927069201,1473.7422927069201,1487.299584237186,1488.8059499627714,1488.8059499627714,1488.8059499627714,1488.8059499627714,1488.8059499627714,1488.8059499627714,1488.8059499627714,1488.8059499627714,1488.8059499627714,1488.8059499627714,1488.8059499627714,1488.8059499627714,1488.8059499627714,1488.8059499627714,1488.8059499627714,1488.8059499627714,1488.8059499627714,1488.8059499627714,1488.8059499627714,1488.8059499627714,1488.8059499627714,1488.8059499627714,1488.8059499627714,1488.8059499627714,1488.8059499627714,1488.8059499627714,1488.8059499627714,1488.8059499627714,1488.8059499627714,1488.8059499627714,1488.8059499627714,1488.8059499627714,1488.8059499627714,1488.8059499627714,1500.8568757674525,1500.8568757674525,1505.3759729442077,1518.933264474474,1523.4523616512292,1533.996921730325,1543.0351160838359,1549.0605789861766,1549.0605789861766,1561.1115047908575,1564.1242362420278,1564.1242362420278,1564.1242362420278,1564.1242362420278,1564.1242362420278,1564.1242362420278,1564.1242362420278,1564.1242362420278,1564.1242362420278,1564.1242362420278,1564.1242362420278,1564.1242362420278,1579.187893497879,1582.2006249490494,1594.2515507537305,1594.2515507537305,1594.2515507537305,1595.7579164793156,1597.2642822049006,1603.2897451072413,1609.3152080095817,1609.3152080095817,1621.3661338142629,1634.9234253445288,1637.9361567956992,1637.9361567956992,1639.4425225212844,1639.4425225212844,1639.4425225212844,1639.4425225212844,1639.4425225212844,1639.4425225212844,1639.4425225212844,1639.4425225212844,1639.4425225212844,1639.4425225212844,1639.4425225212844,1639.4425225212844,1639.4425225212844,1639.4425225212844,1639.4425225212844,1639.4425225212844,1639.4425225212844,1639.4425225212844,1639.4425225212844,1639.4425225212844,1639.4425225212844,1639.4425225212844,1639.4425225212844,1639.4425225212844,1639.4425225212844,1639.4425225212844,1639.4425225212844,1639.4425225212844,1640.9488882468695,1640.9488882468695,1654.5061797771355,1656.0125455027207,1665.0507398562315,1678.6080313864977,1684.6334942888382,1693.671688642349,1696.6844200935193,1701.2035172702747,1708.7353458982002,1714.7608088005409,1714.7608088005409,1714.7608088005409,1714.7608088005409,1714.7608088005409,1714.7608088005409,1714.7608088005409,1714.7608088005409,1714.7608088005409,1714.7608088005409,1714.7608088005409,1714.7608088005409,1714.7608088005409,1720.7862717028813,1723.7990031540517,1725.3053688796367,1726.8117346052218,1731.3308317819774,1737.3562946843176,1737.3562946843176,1744.8881233122434,1758.4454148425095,1762.964512019265,1773.5090720983608,1775.015437823946,1775.015437823946,1787.066363628627,1788.5727293542122,1790.0790950797973,1790.0790950797973,1790.0790950797973,1790.0790950797973,1790.0790950797973,1790.0790950797973,1790.0790950797973,1790.0790950797973,1790.0790950797973,1790.0790950797973,1790.0790950797973,1790.0790950797973,1790.0790950797973,1790.0790950797973,1805.1427523356485,1817.1936781403297,1817.1936781403297,1820.2064095915,1820.2064095915,1820.2064095915,1823.2191410426701,1835.2700668473512,1859.3719184567133,1865.3973813590537,1865.3973813590537,1865.3973813590537,1865.3973813590537,1865.3973813590537,1865.3973813590537,1865.3973813590537,1871.4228442613944,1880.4610386149052,1889.499232968416,1897.0310615963415,1904.5628902242672,1909.0819874010226,1918.1201817545334,1925.652010382459,1927.1583761080442,1939.209301912725,1940.7156676383104,1940.7156676383104,1940.7156676383104,1940.7156676383104,1940.7156676383104,1940.7156676383104,1940.7156676383104,1940.7156676383104,1940.7156676383104,1940.7156676383104,1940.7156676383104,1940.7156676383104,1940.7156676383104,1940.7156676383104,1940.7156676383104,1940.7156676383104,1940.7156676383104,1940.7156676383104,1940.7156676383104,1940.7156676383104,1955.7793248941616,1955.7793248941616,1979.8811765035236,1984.400273680279,2016.0188755497081,2016.0339539175668,2016.0339539175668,2016.0339539175668,2016.0339539175668,2016.0339539175668,2016.0339539175668,2017.5403196431519,2052.1867313316097,2061.224925685121,2076.288582940972,2076.288582940972,2076.288582940972,2082.3140458433127,2091.352240196823,2091.352240196823,2091.352240196823,2091.352240196823,2091.352240196823,2091.352240196823,2091.352240196823,2091.352240196823,2091.352240196823,2091.352240196823,2091.352240196823,2091.352240196823,2091.352240196823,2091.352240196823,2091.352240196823,2091.352240196823,2091.352240196823,2092.8586059224085,2118.466823257356,2136.5432119643774,2136.5432119643774,2151.6068692202284,2165.1641607504944,2166.67052647608,2166.67052647608,2166.67052647608,2166.67052647608,2166.67052647608,2166.67052647608,2166.67052647608,2166.67052647608,2168.176892201665,2181.734183731931,2198.3042067133674,2198.3042067133674,2198.3042067133674,2198.3042067133674,2198.3042067133674,2198.3042067133674,2198.3042067133674,2198.3042067133674,2211.861498243634,2211.861498243634,2213.367863969219,2240.4824470297513,2240.5728252956355,2241.9888127553363,2241.9888127553363,2241.9888127553363,2241.9888127553363,2241.9888127553363,2241.9888127553363,2241.9888127553363,2241.9888127553363,2241.9888127553363,2241.9888127553363,2241.9888127553363,2241.9888127553363,2241.9888127553363,2241.9888127553363,2241.9888127553363,2241.9888127553363,2241.9888127553363,2241.9888127553363,2241.9888127553363,2241.9888127553363,2241.9888127553363,2241.9888127553363,2241.9888127553363,2241.9888127553363,2241.9888127553363,2308.268904681082,2317.3070990345927,2317.3070990345927,2317.3070990345927,2317.3070990345927,2317.3070990345927,2321.8261962113484,2326.3452933881035,2332.3707562904438,2347.434413546295,2356.4726078998065,2377.561728057998,2379.068093783583,2392.625385313849,2392.625385313849,2392.625385313849,2392.625385313849,2392.625385313849,2392.625385313849,2392.625385313849,2392.625385313849,2392.625385313849,2392.625385313849,2392.625385313849,2392.625385313849,2407.6890425697006,2409.1954082952857,2439.322722806988,2467.943671593106,2467.943671593106,2467.943671593106,2467.943671593106,2467.943671593106,2467.943671593106,2467.943671593106,2467.943671593106,2514.6410090862446,2517.653740537415,2525.185569165341,2528.198300616511,2529.704666342096,2543.2619578723625,2543.2619578723625,2543.2619578723625,2543.2619578723625,2543.2619578723625,2543.2619578723625,2543.2619578723625,2543.2619578723625,2543.2619578723625,2543.2619578723625,2543.2619578723625,2543.2619578723625,2543.2619578723625,2543.2619578723625,2543.2619578723625,2543.2619578723625,2543.2619578723625,2543.2619578723625,2543.2619578723625,2543.2619578723625,2543.2619578723625,2543.2619578723625,2543.2619578723625,2573.389272384065,2574.89563810965,2595.9847582678417,2597.491123993427,2618.580244151619,2618.580244151619,2635.1502671330554,2635.1502671330554,2678.834873175024,2678.834873175024,2680.341238900609,2687.8730675285346,2687.8730675285346,2687.8730675285346,2693.8985304308753,2693.8985304308753,2693.8985304308753,2693.8985304308753,2693.8985304308753,2693.8985304308753,2693.8985304308753,2693.8985304308753,2693.8985304308753,2693.8985304308753,2693.8985304308753,2693.8985304308753,2693.8985304308753,2693.8985304308753,2693.8985304308753,2693.8985304308753,2727.0385763937484,2731.5576735705035,2731.5576735705035,2739.089502198429,2763.1913538077915,2763.1913538077915,2769.2168167101318,2769.2168167101318,2769.2168167101318,2769.2168167101318,2799.3441312218342,2844.535102989388,2844.535102989388,2844.535102989388,2844.535102989388,2844.535102989388,2844.535102989388,2844.535102989388,2844.535102989388,2844.535102989388,2844.535102989388,2844.535102989388,2844.535102989388,2844.535102989388,2844.535102989388,2844.535102989388,2846.0414687149732,2859.5987602452396,2859.5987602452396,2867.1305888731654,2897.257903384868,2904.7897320127936,2904.7897320127936,2918.3470235430595,2919.8533892686446,2919.8533892686446,2930.3979493477405,2942.448875152422,2949.9807037803475,2957.512532408273,2972.5761896641243,2981.614384017635,2981.614384017635,2981.614384017635,2989.146212645561,2989.146212645561,2993.665309822316,2995.171675547901,2995.171675547901,2995.171675547901,2995.171675547901,2995.171675547901,2995.171675547901,2995.171675547901,2995.171675547901,2995.171675547901,2995.171675547901,2995.171675547901,2995.171675547901,2995.171675547901,2995.171675547901,2995.171675547901,2995.171675547901,2995.171675547901,2995.171675547901,2995.171675547901,2995.171675547901,2995.171675547901,2995.171675547901,2995.171675547901,2995.171675547901,2995.171675547901,2995.171675547901,2996.6780412734865,3025.298990059604,3025.298990059604,3040.362647315455,3040.362647315455,3067.4772303759873,3070.489961827158,3091.5790819853496,3094.5918134365197,3139.7827852040737,3144.3018823808293,3145.8082481064143,3145.8082481064143,3145.8082481064143,3145.8082481064143,3145.8082481064143,3145.8082481064143,3145.8082481064143,3145.8082481064143,3145.8082481064143,3145.8082481064143,3145.8082481064143,3145.8082481064143,3145.8082481064143,3148.8209795575845,3168.403733990191,3183.4673912460426,3184.9737569716276,3221.1265343856708,3231.6710944647666,3245.228385995033,3266.3175061532247,3290.4193577625865,3296.444820664927,3296.444820664927,3296.444820664927,3296.444820664927,3296.444820664927,3296.444820664927,3296.444820664927,3296.444820664927,3296.444820664927,3311.5084779207787,3365.7376440418434,3436.536833144344,3447.08139322344,3447.08139322344,3447.08139322344,3447.08139322344,3447.08139322344,3447.08139322344,3447.08139322344,3447.08139322344,3447.08139322344,3447.08139322344,3447.08139322344,3447.08139322344,3447.08139322344,3447.08139322344,3447.08139322344,3447.08139322344,3447.08139322344,3447.08139322344,3447.08139322344,3447.08139322344,3447.08139322344,3454.613221851366,3471.1832448328023,3477.208707735143,3522.399679502697,3523.906045228282,3582.654308526102,3582.654308526102,3584.160674251687,3596.2116000563683,3597.7179657819534,3641.402571823922,3688.099909317061,3703.1635665729123,3724.0116167279007,3733.2908810846147,3734.7972468102002,3734.7972468102002,3734.7972468102002,3742.3290754381255,3746.848172614881,3746.848172614881,3748.354538340466,3748.354538340466,3748.354538340466,3748.354538340466,3748.354538340466,3748.354538340466,3748.354538340466,3748.354538340466,3748.354538340466,3748.354538340466,3748.354538340466,3748.354538340466,3748.354538340466,3748.354538340466,3748.354538340466,3748.354538340466,3748.354538340466,3748.354538340466,3748.354538340466,3748.354538340466,3748.354538340466,3787.5200472056795,3799.570973010361,3823.6728246197226,3868.8637963872766,3882.421087917543,3883.927453643128,3888.446550819883,3892.965647996639,3898.991110898979,3898.991110898979,3898.991110898979,3898.991110898979,3972.8030314526504,4004.4367116899384,4019.5003689457894,4049.6276834574924,4049.6276834574924,4049.6276834574924,4049.6276834574924,4049.6276834574924,4049.6276834574924,4049.6276834574924,4049.6276834574924,4079.754997969195,4108.089825531068,4124.945969736749,4171.643307229888,4180.681501583398,4200.264256016006,4200.264256016006,4200.264256016006,4200.264256016006,4231.897936253293,4260.51888503941,4350.9008285745185,4350.9008285745185,4411.1554575979235,4426.219114853775,4448.814600737552,4487.980109602765,4501.537401133031,4501.537401133031,4501.537401133031,4501.537401133031,4501.537401133031,4501.537401133031,4501.537401133031,4501.537401133031,4501.537401133031,4501.537401133031,4501.537401133031,4501.537401133031,4501.537401133031,4616.021196277501,4638.616682161278,4646.148510789204,4652.173973691544,4652.173973691544,4652.173973691544,4652.173973691544,4652.173973691544,4652.173973691544,4652.173973691544,4652.173973691544,4713.934968440535,4727.492259970801,4757.619574482504,4796.785083347717,4801.304180524472,4802.810546250057,4802.810546250057,4802.810546250057,4802.810546250057,4832.93786076176,4867.584272450218,4939.889827278304,4953.44711880857,4953.44711880857,4953.44711880857,5049.854525246018,5104.083691367083,5104.083691367083,5110.109154269424,5179.401977646339,5220.073852237138,5253.213898200011,5253.213898200011,5254.720263925597,5254.720263925597,5254.720263925597,5254.720263925597,5254.720263925597,5254.720263925597,5254.720263925597,5254.720263925597,5318.996771751491,5525.866094530919,5527.372460256504,5542.436117512356,5555.993409042622,5555.993409042622,5555.993409042622,5601.184380810176,5631.311695321879,5631.311695321879,5631.311695321879,5631.311695321879,5631.311695321879,5693.072690070869,5706.629981601135,5706.629981601135,5706.629981601135,5712.655444503475,5718.6809074058165,5781.9482678803915,5781.9482678803915,5990.986669041045,6006.396760992576,6007.903126718161,6113.34872750912,6158.539699276674,6158.539699276674,6158.539699276674,6158.539699276674,6160.04606500226,6227.83252265359,6246.902980344073,6288.087151676995,6309.176271835187,6325.746294816624,6327.252660542209,6459.8128443937,6459.8128443937,6550.194787928808,6761.085989510726,6761.085989510726,6761.085989510726,6761.085989510726,6761.085989510726,6761.085989510726,6910.216196343654,7184.374758400148,7438.950566024035,7514.268852303291,7514.268852303291,7815.541997420317,7951.114912722979,7952.621278448564,7966.17856997883,8116.815142537343,8261.426252193516,8267.451715095856,8267.451715095856,8267.451715095856,8267.451715095856,8267.451715095856,8719.361432771395,8818.781570660012,8863.972542427568,9007.077286358155,9020.63457788842,9020.63457788842,9020.63457788842,9171.271150446933,9321.907723005446,9472.54429556396,9571.964433452578,9609.623576592207,9623.180868122474,9772.311074955402,9773.817440680987,9773.817440680987,9773.817440680987,9956.087693476788,9956.087693476788,10075.090585798012,10075.090585798012,10130.826117644661,10225.727158356525,10225.727158356525,10513.443011943285,10527.000303473551,10527.000303473551,10527.000303473551,10527.000303473551,10527.000303473551,10527.000303473551,10527.000303473551,10566.165812338764,10602.318589752807,10965.352729618824,10980.416386874675,11055.734673153931,11266.62587473585,11280.183166266115,11280.183166266115,11280.183166266115,11280.183166266115,11581.456311383143,11732.092883941656,11807.411170220912,11869.172164969901,12033.366029058681,12033.366029058681,12485.27574673422,12485.27574673422,12660.014170902095,12785.04252612566,12786.548891851246,12786.548891851246,13087.822036968271,13313.77689580604,13539.731754643812,13539.731754643812,13539.731754643812,13539.731754643812,13539.731754643812,13690.368327202325,13841.004899760837,13841.004899760837,13991.64147231935,13991.64147231935,14122.695290445256,14279.35732590611,14292.914617436376,14292.914617436376,14292.914617436376,14292.914617436376,14292.914617436376,14292.914617436376,14594.187762553402,15032.540188698675,15040.0720173266,15046.09748022894,15046.09748022894,15183.176761257188,15498.00719790448,15755.595736979536,15799.280343021506,15799.280343021506,15949.91691558002,16386.762975999707,16552.46320581407,16552.46320581407,17158.022227499292,17292.08877707637,17305.646068606635,17305.646068606635,18058.8289313992,18798.454502661498,18813.518159917352,19551.637365454066,19565.19465698433,19565.19465698433,19730.894886798695,20318.377519776895,20318.377519776895,20318.377519776895,20318.377519776895,20318.377519776895,20318.377519776895,20318.377519776895,20318.377519776895,21058.003091039194,21058.003091039194,21058.003091039194,21058.003091039194,21811.18595383176,21824.743245362024,21824.743245362024,21824.743245362024,21824.743245362024,21824.743245362024,21824.743245362024,21824.743245362024,21824.743245362024,21824.743245362024,21824.743245362024,21824.743245362024,21824.743245362024,22428.795901321664,22577.926108154592,23331.108970947156,23331.108970947156,24070.734542209455,24070.734542209455,24070.734542209455,24084.29183373972,24084.29183373972,24084.29183373972,24084.29183373972,24823.91740500202,24837.474696532285,24837.474696532285,25590.65755932485,25590.65755932485,26343.840422117417,26343.840422117417,26343.840422117417,26343.840422117417,26343.840422117417,26343.840422117417,27850.206147702545,28603.38901049511,29343.01458175741,29356.571873287674,29356.571873287674,29356.571873287674,30862.937598872806,30862.937598872806,30862.937598872806,32355.74603292767,32369.303324457935,32369.303324457935,32369.303324457935,33862.111758512794,33875.66905004307,33875.66905004307,35382.0347756282,36888.40050121333,36888.40050121333,37641.583364005885,38381.208935268194,38394.766226798456,38394.766226798456,41407.49767796871,41407.49767796871,41407.49767796871,42764.73319672092,42913.86340355384,44420.22912913897,44420.22912913897,44420.22912913897,45913.03756319384,45913.03756319384,45926.5948547241,45926.5948547241,47419.403288778965,47419.403288778965,48939.32630589437,50432.13473994922,50432.13473994922,50432.13473994922,50445.6920314795,50445.6920314795,50445.6920314795,51952.05775706463,53458.423482649756,54964.789208234884,56844.73363376512,57963.96336787488,57977.52065940514,65495.79199580052,65509.3492873308,68522.08073850106,70028.44646408618,71534.81218967131,73027.62062372618,73027.62062372618,83572.1807028221,94130.29807344827,118218.59239128008],\"yaxis\":\"y\",\"type\":\"scattergl\"}],                        {\"template\":{\"data\":{\"histogram2dcontour\":[{\"type\":\"histogram2dcontour\",\"colorbar\":{\"outlinewidth\":0,\"ticks\":\"\"},\"colorscale\":[[0.0,\"#0d0887\"],[0.1111111111111111,\"#46039f\"],[0.2222222222222222,\"#7201a8\"],[0.3333333333333333,\"#9c179e\"],[0.4444444444444444,\"#bd3786\"],[0.5555555555555556,\"#d8576b\"],[0.6666666666666666,\"#ed7953\"],[0.7777777777777778,\"#fb9f3a\"],[0.8888888888888888,\"#fdca26\"],[1.0,\"#f0f921\"]]}],\"choropleth\":[{\"type\":\"choropleth\",\"colorbar\":{\"outlinewidth\":0,\"ticks\":\"\"}}],\"histogram2d\":[{\"type\":\"histogram2d\",\"colorbar\":{\"outlinewidth\":0,\"ticks\":\"\"},\"colorscale\":[[0.0,\"#0d0887\"],[0.1111111111111111,\"#46039f\"],[0.2222222222222222,\"#7201a8\"],[0.3333333333333333,\"#9c179e\"],[0.4444444444444444,\"#bd3786\"],[0.5555555555555556,\"#d8576b\"],[0.6666666666666666,\"#ed7953\"],[0.7777777777777778,\"#fb9f3a\"],[0.8888888888888888,\"#fdca26\"],[1.0,\"#f0f921\"]]}],\"heatmap\":[{\"type\":\"heatmap\",\"colorbar\":{\"outlinewidth\":0,\"ticks\":\"\"},\"colorscale\":[[0.0,\"#0d0887\"],[0.1111111111111111,\"#46039f\"],[0.2222222222222222,\"#7201a8\"],[0.3333333333333333,\"#9c179e\"],[0.4444444444444444,\"#bd3786\"],[0.5555555555555556,\"#d8576b\"],[0.6666666666666666,\"#ed7953\"],[0.7777777777777778,\"#fb9f3a\"],[0.8888888888888888,\"#fdca26\"],[1.0,\"#f0f921\"]]}],\"heatmapgl\":[{\"type\":\"heatmapgl\",\"colorbar\":{\"outlinewidth\":0,\"ticks\":\"\"},\"colorscale\":[[0.0,\"#0d0887\"],[0.1111111111111111,\"#46039f\"],[0.2222222222222222,\"#7201a8\"],[0.3333333333333333,\"#9c179e\"],[0.4444444444444444,\"#bd3786\"],[0.5555555555555556,\"#d8576b\"],[0.6666666666666666,\"#ed7953\"],[0.7777777777777778,\"#fb9f3a\"],[0.8888888888888888,\"#fdca26\"],[1.0,\"#f0f921\"]]}],\"contourcarpet\":[{\"type\":\"contourcarpet\",\"colorbar\":{\"outlinewidth\":0,\"ticks\":\"\"}}],\"contour\":[{\"type\":\"contour\",\"colorbar\":{\"outlinewidth\":0,\"ticks\":\"\"},\"colorscale\":[[0.0,\"#0d0887\"],[0.1111111111111111,\"#46039f\"],[0.2222222222222222,\"#7201a8\"],[0.3333333333333333,\"#9c179e\"],[0.4444444444444444,\"#bd3786\"],[0.5555555555555556,\"#d8576b\"],[0.6666666666666666,\"#ed7953\"],[0.7777777777777778,\"#fb9f3a\"],[0.8888888888888888,\"#fdca26\"],[1.0,\"#f0f921\"]]}],\"surface\":[{\"type\":\"surface\",\"colorbar\":{\"outlinewidth\":0,\"ticks\":\"\"},\"colorscale\":[[0.0,\"#0d0887\"],[0.1111111111111111,\"#46039f\"],[0.2222222222222222,\"#7201a8\"],[0.3333333333333333,\"#9c179e\"],[0.4444444444444444,\"#bd3786\"],[0.5555555555555556,\"#d8576b\"],[0.6666666666666666,\"#ed7953\"],[0.7777777777777778,\"#fb9f3a\"],[0.8888888888888888,\"#fdca26\"],[1.0,\"#f0f921\"]]}],\"mesh3d\":[{\"type\":\"mesh3d\",\"colorbar\":{\"outlinewidth\":0,\"ticks\":\"\"}}],\"scatter\":[{\"fillpattern\":{\"fillmode\":\"overlay\",\"size\":10,\"solidity\":0.2},\"type\":\"scatter\"}],\"parcoords\":[{\"type\":\"parcoords\",\"line\":{\"colorbar\":{\"outlinewidth\":0,\"ticks\":\"\"}}}],\"scatterpolargl\":[{\"type\":\"scatterpolargl\",\"marker\":{\"colorbar\":{\"outlinewidth\":0,\"ticks\":\"\"}}}],\"bar\":[{\"error_x\":{\"color\":\"#2a3f5f\"},\"error_y\":{\"color\":\"#2a3f5f\"},\"marker\":{\"line\":{\"color\":\"#E5ECF6\",\"width\":0.5},\"pattern\":{\"fillmode\":\"overlay\",\"size\":10,\"solidity\":0.2}},\"type\":\"bar\"}],\"scattergeo\":[{\"type\":\"scattergeo\",\"marker\":{\"colorbar\":{\"outlinewidth\":0,\"ticks\":\"\"}}}],\"scatterpolar\":[{\"type\":\"scatterpolar\",\"marker\":{\"colorbar\":{\"outlinewidth\":0,\"ticks\":\"\"}}}],\"histogram\":[{\"marker\":{\"pattern\":{\"fillmode\":\"overlay\",\"size\":10,\"solidity\":0.2}},\"type\":\"histogram\"}],\"scattergl\":[{\"type\":\"scattergl\",\"marker\":{\"colorbar\":{\"outlinewidth\":0,\"ticks\":\"\"}}}],\"scatter3d\":[{\"type\":\"scatter3d\",\"line\":{\"colorbar\":{\"outlinewidth\":0,\"ticks\":\"\"}},\"marker\":{\"colorbar\":{\"outlinewidth\":0,\"ticks\":\"\"}}}],\"scattermapbox\":[{\"type\":\"scattermapbox\",\"marker\":{\"colorbar\":{\"outlinewidth\":0,\"ticks\":\"\"}}}],\"scatterternary\":[{\"type\":\"scatterternary\",\"marker\":{\"colorbar\":{\"outlinewidth\":0,\"ticks\":\"\"}}}],\"scattercarpet\":[{\"type\":\"scattercarpet\",\"marker\":{\"colorbar\":{\"outlinewidth\":0,\"ticks\":\"\"}}}],\"carpet\":[{\"aaxis\":{\"endlinecolor\":\"#2a3f5f\",\"gridcolor\":\"white\",\"linecolor\":\"white\",\"minorgridcolor\":\"white\",\"startlinecolor\":\"#2a3f5f\"},\"baxis\":{\"endlinecolor\":\"#2a3f5f\",\"gridcolor\":\"white\",\"linecolor\":\"white\",\"minorgridcolor\":\"white\",\"startlinecolor\":\"#2a3f5f\"},\"type\":\"carpet\"}],\"table\":[{\"cells\":{\"fill\":{\"color\":\"#EBF0F8\"},\"line\":{\"color\":\"white\"}},\"header\":{\"fill\":{\"color\":\"#C8D4E3\"},\"line\":{\"color\":\"white\"}},\"type\":\"table\"}],\"barpolar\":[{\"marker\":{\"line\":{\"color\":\"#E5ECF6\",\"width\":0.5},\"pattern\":{\"fillmode\":\"overlay\",\"size\":10,\"solidity\":0.2}},\"type\":\"barpolar\"}],\"pie\":[{\"automargin\":true,\"type\":\"pie\"}]},\"layout\":{\"autotypenumbers\":\"strict\",\"colorway\":[\"#636efa\",\"#EF553B\",\"#00cc96\",\"#ab63fa\",\"#FFA15A\",\"#19d3f3\",\"#FF6692\",\"#B6E880\",\"#FF97FF\",\"#FECB52\"],\"font\":{\"color\":\"#2a3f5f\"},\"hovermode\":\"closest\",\"hoverlabel\":{\"align\":\"left\"},\"paper_bgcolor\":\"white\",\"plot_bgcolor\":\"#E5ECF6\",\"polar\":{\"bgcolor\":\"#E5ECF6\",\"angularaxis\":{\"gridcolor\":\"white\",\"linecolor\":\"white\",\"ticks\":\"\"},\"radialaxis\":{\"gridcolor\":\"white\",\"linecolor\":\"white\",\"ticks\":\"\"}},\"ternary\":{\"bgcolor\":\"#E5ECF6\",\"aaxis\":{\"gridcolor\":\"white\",\"linecolor\":\"white\",\"ticks\":\"\"},\"baxis\":{\"gridcolor\":\"white\",\"linecolor\":\"white\",\"ticks\":\"\"},\"caxis\":{\"gridcolor\":\"white\",\"linecolor\":\"white\",\"ticks\":\"\"}},\"coloraxis\":{\"colorbar\":{\"outlinewidth\":0,\"ticks\":\"\"}},\"colorscale\":{\"sequential\":[[0.0,\"#0d0887\"],[0.1111111111111111,\"#46039f\"],[0.2222222222222222,\"#7201a8\"],[0.3333333333333333,\"#9c179e\"],[0.4444444444444444,\"#bd3786\"],[0.5555555555555556,\"#d8576b\"],[0.6666666666666666,\"#ed7953\"],[0.7777777777777778,\"#fb9f3a\"],[0.8888888888888888,\"#fdca26\"],[1.0,\"#f0f921\"]],\"sequentialminus\":[[0.0,\"#0d0887\"],[0.1111111111111111,\"#46039f\"],[0.2222222222222222,\"#7201a8\"],[0.3333333333333333,\"#9c179e\"],[0.4444444444444444,\"#bd3786\"],[0.5555555555555556,\"#d8576b\"],[0.6666666666666666,\"#ed7953\"],[0.7777777777777778,\"#fb9f3a\"],[0.8888888888888888,\"#fdca26\"],[1.0,\"#f0f921\"]],\"diverging\":[[0,\"#8e0152\"],[0.1,\"#c51b7d\"],[0.2,\"#de77ae\"],[0.3,\"#f1b6da\"],[0.4,\"#fde0ef\"],[0.5,\"#f7f7f7\"],[0.6,\"#e6f5d0\"],[0.7,\"#b8e186\"],[0.8,\"#7fbc41\"],[0.9,\"#4d9221\"],[1,\"#276419\"]]},\"xaxis\":{\"gridcolor\":\"white\",\"linecolor\":\"white\",\"ticks\":\"\",\"title\":{\"standoff\":15},\"zerolinecolor\":\"white\",\"automargin\":true,\"zerolinewidth\":2},\"yaxis\":{\"gridcolor\":\"white\",\"linecolor\":\"white\",\"ticks\":\"\",\"title\":{\"standoff\":15},\"zerolinecolor\":\"white\",\"automargin\":true,\"zerolinewidth\":2},\"scene\":{\"xaxis\":{\"backgroundcolor\":\"#E5ECF6\",\"gridcolor\":\"white\",\"linecolor\":\"white\",\"showbackground\":true,\"ticks\":\"\",\"zerolinecolor\":\"white\",\"gridwidth\":2},\"yaxis\":{\"backgroundcolor\":\"#E5ECF6\",\"gridcolor\":\"white\",\"linecolor\":\"white\",\"showbackground\":true,\"ticks\":\"\",\"zerolinecolor\":\"white\",\"gridwidth\":2},\"zaxis\":{\"backgroundcolor\":\"#E5ECF6\",\"gridcolor\":\"white\",\"linecolor\":\"white\",\"showbackground\":true,\"ticks\":\"\",\"zerolinecolor\":\"white\",\"gridwidth\":2}},\"shapedefaults\":{\"line\":{\"color\":\"#2a3f5f\"}},\"annotationdefaults\":{\"arrowcolor\":\"#2a3f5f\",\"arrowhead\":0,\"arrowwidth\":1},\"geo\":{\"bgcolor\":\"white\",\"landcolor\":\"#E5ECF6\",\"subunitcolor\":\"white\",\"showland\":true,\"showlakes\":true,\"lakecolor\":\"white\"},\"title\":{\"x\":0.05},\"mapbox\":{\"style\":\"light\"}}},\"xaxis\":{\"anchor\":\"y\",\"domain\":[0.0,1.0],\"title\":{\"text\":\"Desconto\"},\"showline\":true,\"linewidth\":1,\"linecolor\":\"lightgrey\"},\"yaxis\":{\"anchor\":\"x\",\"domain\":[0.0,1.0],\"title\":{\"text\":\"Pre\\u00e7os\"},\"showline\":true,\"linewidth\":1,\"linecolor\":\"lightgrey\"},\"legend\":{\"tracegroupgap\":0},\"margin\":{\"t\":60},\"font\":{\"size\":12},\"title\":{\"font\":{\"size\":22},\"text\":\"CORRELA\\u00c7\\u00c3O ENTRE PRE\\u00c7O REAL E DESCONTO\",\"x\":0.5},\"width\":900,\"plot_bgcolor\":\"rgb(250, 250, 250)\",\"showlegend\":false},                        {\"responsive\": true}                    ).then(function(){\n",
              "                            \n",
              "var gd = document.getElementById('9fba0f53-cd2e-423f-ae80-3279fd8ca5a5');\n",
              "var x = new MutationObserver(function (mutations, observer) {{\n",
              "        var display = window.getComputedStyle(gd).display;\n",
              "        if (!display || display === 'none') {{\n",
              "            console.log([gd, 'removed!']);\n",
              "            Plotly.purge(gd);\n",
              "            observer.disconnect();\n",
              "        }}\n",
              "}});\n",
              "\n",
              "// Listen for the removal of the full notebook cells\n",
              "var notebookContainer = gd.closest('#notebook-container');\n",
              "if (notebookContainer) {{\n",
              "    x.observe(notebookContainer, {childList: true});\n",
              "}}\n",
              "\n",
              "// Listen for the clearing of the current output cell\n",
              "var outputEl = gd.closest('.output');\n",
              "if (outputEl) {{\n",
              "    x.observe(outputEl, {childList: true});\n",
              "}}\n",
              "\n",
              "                        })                };                            </script>        </div>\n",
              "</body>\n",
              "</html>"
            ]
          },
          "metadata": {}
        }
      ]
    },
    {
      "cell_type": "markdown",
      "source": [
        "É possível confirmar uma correlação linear positiva em relação as variáveis PRECO_REAL e DESCONTO, ou seja, quando uma aumenta a outra também aumenta. Com isso, se entende que essas duas variáveis estão intimamente ligadas."
      ],
      "metadata": {
        "id": "jCyTBub4Vd8A"
      }
    },
    {
      "cell_type": "markdown",
      "source": [
        "## Perguntas de Negócio\n",
        "As seguintes perguntas de negócio serão respondidas:\n",
        "* Um item da categoria OfficeProducts tem quantos por cento de chance de possuir mais de 20% de desconto?\n",
        "* Qual a chance de um produto da categoria Computers&Accessories não ter mais de 50% de desconto?\n",
        "* Adquirindo um produto da categoria Electronics que custa mais ou ₹1000 (mil rúpias), qual a probabilidade de ele possuir mais de 60% de desconto?\n",
        "* Ao se comprar 10 produtos da categoria Computers&Accessories, qual a chance de pelo menos um possuir um desconto maior ou igual a 80%?\n",
        "* Comprando-se 5 produtos da categoria Electronics, qual a probabilidade de nenhum possuir um desconto superior ou igual a 50%?"
      ],
      "metadata": {
        "id": "jVy-sp1uAW_o"
      }
    },
    {
      "cell_type": "markdown",
      "source": [
        "**1) Qual a probabilidade de um item da categoria OfficeProducts possuir pelo menos 20% de desconto?**"
      ],
      "metadata": {
        "id": "2k1_u019Hn1f"
      }
    },
    {
      "cell_type": "code",
      "source": [
        "prob = lambda A, E: round((A / E) * 100, 2) if A < E else False"
      ],
      "metadata": {
        "id": "9br2zTkflCpD"
      },
      "execution_count": 37,
      "outputs": []
    },
    {
      "cell_type": "code",
      "source": [
        "pergunta_1E = df[df.CATEGORIA.isin([\"OfficeProducts\"])]\n",
        "pergunta_1A = pergunta_1E.query(\"PORCENTAGEM_DESCONTO > 0.20\")"
      ],
      "metadata": {
        "id": "KKwpk5WjDwto"
      },
      "execution_count": 38,
      "outputs": []
    },
    {
      "cell_type": "code",
      "source": [
        "prob(len(pergunta_1A), len(pergunta_1E))"
      ],
      "metadata": {
        "id": "qnMykY87HI5l",
        "colab": {
          "base_uri": "https://localhost:8080/"
        },
        "outputId": "a1791649-b327-4865-ca21-e60ad1441898"
      },
      "execution_count": 39,
      "outputs": [
        {
          "output_type": "execute_result",
          "data": {
            "text/plain": [
              "19.35"
            ]
          },
          "metadata": {},
          "execution_count": 39
        }
      ]
    },
    {
      "cell_type": "markdown",
      "source": [
        "A probabilidade de um item da categoria *OfficeProducts* possuir mais de 20% de desconto é de 19,35%.\n",
        "<br><br>\n",
        "**2) Qual a chance de um produto da categoria Computers&Accessories não ter mais de 50% de desconto?**"
      ],
      "metadata": {
        "id": "qrjQcow6IuOf"
      }
    },
    {
      "cell_type": "code",
      "source": [
        "prob_nao = lambda A, E: round((1 - (A / E)) * 100, 2) if A < E else False"
      ],
      "metadata": {
        "id": "e2Cj2tu2M9Cn"
      },
      "execution_count": 40,
      "outputs": []
    },
    {
      "cell_type": "code",
      "source": [
        "pergunta_2E = df[df.CATEGORIA.isin([\"Computers&Accessories\"])]\n",
        "pergunta_2A = pergunta_2E.query(\"PORCENTAGEM_DESCONTO > 0.50\")"
      ],
      "metadata": {
        "id": "9cgjNnK3BXqt"
      },
      "execution_count": 41,
      "outputs": []
    },
    {
      "cell_type": "code",
      "source": [
        "prob_nao(len(pergunta_2A), len(pergunta_2E))"
      ],
      "metadata": {
        "id": "qVfAEZqjDO58",
        "colab": {
          "base_uri": "https://localhost:8080/"
        },
        "outputId": "c9dfe29a-256b-4323-e8b6-76b67d02c8bd"
      },
      "execution_count": 42,
      "outputs": [
        {
          "output_type": "execute_result",
          "data": {
            "text/plain": [
              "37.09"
            ]
          },
          "metadata": {},
          "execution_count": 42
        }
      ]
    },
    {
      "cell_type": "markdown",
      "source": [
        "A chance de um produto da categoria *Computers&Accessories* não ter 50% de desconto (ou mais) é de 37.09%, o que torna uma chance relativamente moderada de possuir desconto superior a faixa indicada. Com isso, se deduz que produtos desta categoria geralmente possuem bons descontos.\n",
        "<br><br>\n",
        "**3) Adquirindo um produto da categoria Electronics que custa mais ou ₹1000 (mil rúpias), qual a probabilidade de ele possuir mais de 60% de desconto?**"
      ],
      "metadata": {
        "id": "VQHiPzeRH7yw"
      }
    },
    {
      "cell_type": "code",
      "source": [
        "pergunta_3E = df.loc[df.CATEGORIA == \"Electronics\"].query(\"PRECO_REAL > 1000\")\n",
        "pergunta_3A = pergunta_3E.query(\"PORCENTAGEM_DESCONTO > 0.60\")"
      ],
      "metadata": {
        "id": "yPtE2u4hRsU6"
      },
      "execution_count": 43,
      "outputs": []
    },
    {
      "cell_type": "code",
      "source": [
        "prob(len(pergunta_3A), len(pergunta_3E))"
      ],
      "metadata": {
        "id": "nyWVcjbEQGhy",
        "colab": {
          "base_uri": "https://localhost:8080/"
        },
        "outputId": "2b8218cf-8945-4f4c-8f9a-381efec060a3"
      },
      "execution_count": 44,
      "outputs": [
        {
          "output_type": "execute_result",
          "data": {
            "text/plain": [
              "36.5"
            ]
          },
          "metadata": {},
          "execution_count": 44
        }
      ]
    },
    {
      "cell_type": "markdown",
      "source": [
        "Existe 36.5% de chance de um produto que custa mais de ₹1000 possuir mais de 60% de desconto.\n",
        "<br><br>\n",
        "**4) Ao se comprar 10 produtos da categoria Computers&Accessories, qual a chance de pelo menos um possuir um desconto maior ou igual a 80%?**"
      ],
      "metadata": {
        "id": "pg8pqIVeWxdX"
      }
    },
    {
      "cell_type": "code",
      "source": [
        "from scipy.stats import binom"
      ],
      "metadata": {
        "id": "wEc9byEK-KKD"
      },
      "execution_count": 45,
      "outputs": []
    },
    {
      "cell_type": "code",
      "source": [
        "pergunta_4E = pergunta_2E.copy()\n",
        "pergunta_4A = pergunta_4E.loc[pergunta_4E.PORCENTAGEM_DESCONTO >= 0.80]\n",
        "p4 = prob(len(pergunta_4A), len(pergunta_4E)) / 100"
      ],
      "metadata": {
        "id": "JrFbJWH37qSl"
      },
      "execution_count": 46,
      "outputs": []
    },
    {
      "cell_type": "code",
      "source": [
        "round((1 - binom.pmf(0, 10, p4)) * 100, 2)"
      ],
      "metadata": {
        "id": "h2sl0DPM9vGJ",
        "colab": {
          "base_uri": "https://localhost:8080/"
        },
        "outputId": "3eb52c63-55ac-4a47-a729-b473dd0b9e2a"
      },
      "execution_count": 47,
      "outputs": [
        {
          "output_type": "execute_result",
          "data": {
            "text/plain": [
              "62.2"
            ]
          },
          "metadata": {},
          "execution_count": 47
        }
      ]
    },
    {
      "cell_type": "markdown",
      "source": [
        "A probabilidade de pelo menos um produto da categoria Computers&Accessories possuir um desconto maior que 70% é de 62,2%.\n",
        "<br><br>\n",
        "**5) Comprando-se 5 produtos da categoria Electronics, qual a probabilidade de nenhum possuir um desconto superior ou igual a 50%?**  \n",
        "\n",
        "Para esta operação utilizaremos a função geom.pmf da biblioteca scipy, porém, será feito um pequeno ajuste, para ela retorna em forma de porcentagem arredondada."
      ],
      "metadata": {
        "id": "T9YmQ-MUAtPQ"
      }
    },
    {
      "cell_type": "code",
      "source": [
        "from scipy.stats import geom"
      ],
      "metadata": {
        "id": "GXCBC37cE8kN"
      },
      "execution_count": 48,
      "outputs": []
    },
    {
      "cell_type": "code",
      "source": [
        "geom_pmf = lambda n, p: round(geom.pmf(n, p) * 100, 2)"
      ],
      "metadata": {
        "id": "WG-vDkAUFCrF"
      },
      "execution_count": 49,
      "outputs": []
    },
    {
      "cell_type": "code",
      "source": [
        "pergunta_5E = df[df.CATEGORIA.isin([\"Electronics\"])]\n",
        "pergunta_5A = pergunta_5E.query(\"PORCENTAGEM_DESCONTO >= 0.50\")\n",
        "p5 = prob(len(pergunta_5A), len(pergunta_5E)) / 100"
      ],
      "metadata": {
        "id": "TDrWixBA9wtL"
      },
      "execution_count": 50,
      "outputs": []
    },
    {
      "cell_type": "code",
      "source": [
        "geom_pmf(6, p5)"
      ],
      "metadata": {
        "id": "7GzT79bkP6Us",
        "colab": {
          "base_uri": "https://localhost:8080/"
        },
        "outputId": "7b1c0088-5cd2-4821-9aa0-989e5aed7c5a"
      },
      "execution_count": 51,
      "outputs": [
        {
          "output_type": "execute_result",
          "data": {
            "text/plain": [
              "0.9"
            ]
          },
          "metadata": {},
          "execution_count": 51
        }
      ]
    },
    {
      "cell_type": "markdown",
      "source": [
        "As chances de tal prerrogativa ocorrer é baixíssima, não alcançando 1%. Assim, se entende que é quase certo que ao comprar um produto da categoria supracitada, ele terá um desconto igual ou superior a 50%."
      ],
      "metadata": {
        "id": "Ty4WXHUIRAGN"
      }
    }
  ]
}