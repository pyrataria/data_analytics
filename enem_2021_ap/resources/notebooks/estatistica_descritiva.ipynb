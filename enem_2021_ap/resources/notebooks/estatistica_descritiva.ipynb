{
  "nbformat": 4,
  "nbformat_minor": 0,
  "metadata": {
    "colab": {
      "provenance": []
    },
    "kernelspec": {
      "name": "python3",
      "display_name": "Python 3"
    },
    "language_info": {
      "name": "python"
    }
  },
  "cells": [
    {
      "cell_type": "markdown",
      "source": [
        "Estudo estatístico onde serão abordadas dados sobre o ENEM 2021 no Estado do Amapá, comparando informações entre alunos de escolas públicas e privadas.  \n",
        "Para esse estudo, será utilizado um dataset pré-tratado, relativo às provas do ENEM, realizadas no Amapá, que por sua vez, foi retirado dos [microdados](https://www.gov.br/inep/pt-br/acesso-a-informacao/dados-abertos/microdados/enem) do ENEM 2021."
      ],
      "metadata": {
        "id": "yV7p9GmdeCLO"
      }
    },
    {
      "cell_type": "markdown",
      "source": [
        "# IDENTIFICAÇÃO DA POPULAÇÃO DO ESTUDO E DAS VARIÁVEIS DE INTERESSE"
      ],
      "metadata": {
        "id": "8Ngc8y25cG5v"
      }
    },
    {
      "cell_type": "markdown",
      "source": [
        "## Importando o Pandas\n",
        "A biblioteca [pandas](https://pandas.pydata.org/) será utilizada para a manipulação e análise de dados."
      ],
      "metadata": {
        "id": "YwQMUW4ndvwG"
      }
    },
    {
      "cell_type": "code",
      "source": [
        "import pandas as pd"
      ],
      "metadata": {
        "id": "4GSuQS3obf6Q",
        "execution": {
          "iopub.status.busy": "2022-10-10T12:22:03.997221Z",
          "iopub.execute_input": "2022-10-10T12:22:03.997632Z",
          "iopub.status.idle": "2022-10-10T12:22:04.008985Z",
          "shell.execute_reply.started": "2022-10-10T12:22:03.997549Z",
          "shell.execute_reply": "2022-10-10T12:22:04.007714Z"
        },
        "trusted": true
      },
      "execution_count": 1,
      "outputs": []
    },
    {
      "cell_type": "code",
      "source": [
        "pd.set_option(\"display.max_columns\", 100) # modifica o número de colunas a serem exibidas"
      ],
      "metadata": {
        "id": "epXioULtc4RY",
        "execution": {
          "iopub.status.busy": "2022-10-10T12:22:04.010811Z",
          "iopub.execute_input": "2022-10-10T12:22:04.011620Z",
          "iopub.status.idle": "2022-10-10T12:22:04.018623Z",
          "shell.execute_reply.started": "2022-10-10T12:22:04.011570Z",
          "shell.execute_reply": "2022-10-10T12:22:04.017686Z"
        },
        "trusted": true
      },
      "execution_count": 2,
      "outputs": []
    },
    {
      "cell_type": "code",
      "source": [
        "df = pd.read_csv(\"/content/drive/MyDrive/programacao/estudo_enem_ap/enem_2021_ap.csv\",\n",
        "                 encoding=\"iso-8859-1\")\n",
        "df.head()"
      ],
      "metadata": {
        "id": "gBpDTf_oc-IN",
        "execution": {
          "iopub.status.busy": "2022-10-10T12:22:04.023428Z",
          "iopub.execute_input": "2022-10-10T12:22:04.023897Z",
          "iopub.status.idle": "2022-10-10T12:22:04.154044Z",
          "shell.execute_reply.started": "2022-10-10T12:22:04.023868Z",
          "shell.execute_reply": "2022-10-10T12:22:04.153044Z"
        },
        "trusted": true,
        "colab": {
          "base_uri": "https://localhost:8080/",
          "height": 270
        },
        "outputId": "b532ea59-63fa-4e37-882f-9a2b6752a2e3"
      },
      "execution_count": 3,
      "outputs": [
        {
          "output_type": "execute_result",
          "data": {
            "text/plain": [
              "   NU_INSCRICAO  FAIXA_ETARIA SEXO  ESTADO_CIVIL COR_RACA NACIONALIDADE  \\\n",
              "0  210053252933             2    F             1    parda    brasileiro   \n",
              "1  210051770725             9    M             1    parda    brasileiro   \n",
              "2  210052444280             4    F             1    parda    brasileiro   \n",
              "3  210052852827             6    M             1    parda    brasileiro   \n",
              "4  210052183898             9    F             0    parda    brasileiro   \n",
              "\n",
              "   ST_CONCLUSAO  ANO_CONCLUSAO      TP_ESCOLA  TP_ENSINO MUNICIPIO_ESC UF_ESC  \\\n",
              "0             2              0        publica        1.0           NaN    NaN   \n",
              "1             1              7  nao_respondeu        NaN           NaN    NaN   \n",
              "2             1              3  nao_respondeu        NaN           NaN    NaN   \n",
              "3             1              3  nao_respondeu        NaN           NaN    NaN   \n",
              "4             1              0  nao_respondeu        NaN           NaN    NaN   \n",
              "\n",
              "   DEPENDENCIA_ADM_ESC  LOCALIZACAO_ESC  SIT_FUNC_ESC MUNICIPIO_PROVA  \\\n",
              "0                  NaN              NaN           NaN         Santana   \n",
              "1                  NaN              NaN           NaN          Macapá   \n",
              "2                  NaN              NaN           NaN          Macapá   \n",
              "3                  NaN              NaN           NaN    Porto Grande   \n",
              "4                  NaN              NaN           NaN          Macapá   \n",
              "\n",
              "   NOTA_CN  NOTA_CH  NOTA_LC  NOTA_MT    LINGUA  COMP1_REDACAO  COMP2_REDACAO  \\\n",
              "0    416.4    524.4    425.9    492.7    ingles          100.0          180.0   \n",
              "1    394.7    608.8    519.3    495.0  espanhol          140.0          180.0   \n",
              "2    470.5    561.7    482.8    584.6  espanhol          100.0          200.0   \n",
              "3    553.4    563.9    518.6    501.1  espanhol          140.0          160.0   \n",
              "4    414.9    466.9    345.2    402.9  espanhol          100.0          100.0   \n",
              "\n",
              "   COMP3_REDACAO  COMP4_REDACAO  COMP5_REDACAO  NOTA_REDACAO Q001 Q002 Q003  \\\n",
              "0          140.0          160.0          140.0         720.0    E    E    C   \n",
              "1          140.0          140.0          120.0         720.0    E    E    F   \n",
              "2          120.0          140.0          160.0         720.0    B    E    A   \n",
              "3          160.0          180.0          180.0         820.0    H    H    D   \n",
              "4          100.0          120.0           40.0         460.0    B    B    B   \n",
              "\n",
              "  Q004  Q005 Q006 Q007 Q008 Q009 Q010 Q011 Q012 Q013 Q014 Q015 Q016 Q017 Q018  \\\n",
              "0    B   4.0    C    A    B    D    A    A    B    A    B    A    A    A    A   \n",
              "1    F  12.0    H    A    C    D    C    A    C    A    B    A    A    A    A   \n",
              "2    A   6.0    B    A    B    E    A    A    A    B    B    A    A    A    A   \n",
              "3    F   5.0    B    A    B    D    A    A    B    A    B    A    B    A    A   \n",
              "4    B   6.0    B    A    B    D    A    B    B    A    B    A    A    A    A   \n",
              "\n",
              "  Q019 Q020 Q021 Q022 Q023 Q024 Q025  \n",
              "0    B    A    A    D    A    B    B  \n",
              "1    C    A    A    B    A    A    B  \n",
              "2    A    B    A    E    A    A    B  \n",
              "3    B    A    A    D    A    B    B  \n",
              "4    B    A    A    D    A    A    B  "
            ],
            "text/html": [
              "\n",
              "  <div id=\"df-0486484a-135e-4415-83ac-77fd37994528\">\n",
              "    <div class=\"colab-df-container\">\n",
              "      <div>\n",
              "<style scoped>\n",
              "    .dataframe tbody tr th:only-of-type {\n",
              "        vertical-align: middle;\n",
              "    }\n",
              "\n",
              "    .dataframe tbody tr th {\n",
              "        vertical-align: top;\n",
              "    }\n",
              "\n",
              "    .dataframe thead th {\n",
              "        text-align: right;\n",
              "    }\n",
              "</style>\n",
              "<table border=\"1\" class=\"dataframe\">\n",
              "  <thead>\n",
              "    <tr style=\"text-align: right;\">\n",
              "      <th></th>\n",
              "      <th>NU_INSCRICAO</th>\n",
              "      <th>FAIXA_ETARIA</th>\n",
              "      <th>SEXO</th>\n",
              "      <th>ESTADO_CIVIL</th>\n",
              "      <th>COR_RACA</th>\n",
              "      <th>NACIONALIDADE</th>\n",
              "      <th>ST_CONCLUSAO</th>\n",
              "      <th>ANO_CONCLUSAO</th>\n",
              "      <th>TP_ESCOLA</th>\n",
              "      <th>TP_ENSINO</th>\n",
              "      <th>MUNICIPIO_ESC</th>\n",
              "      <th>UF_ESC</th>\n",
              "      <th>DEPENDENCIA_ADM_ESC</th>\n",
              "      <th>LOCALIZACAO_ESC</th>\n",
              "      <th>SIT_FUNC_ESC</th>\n",
              "      <th>MUNICIPIO_PROVA</th>\n",
              "      <th>NOTA_CN</th>\n",
              "      <th>NOTA_CH</th>\n",
              "      <th>NOTA_LC</th>\n",
              "      <th>NOTA_MT</th>\n",
              "      <th>LINGUA</th>\n",
              "      <th>COMP1_REDACAO</th>\n",
              "      <th>COMP2_REDACAO</th>\n",
              "      <th>COMP3_REDACAO</th>\n",
              "      <th>COMP4_REDACAO</th>\n",
              "      <th>COMP5_REDACAO</th>\n",
              "      <th>NOTA_REDACAO</th>\n",
              "      <th>Q001</th>\n",
              "      <th>Q002</th>\n",
              "      <th>Q003</th>\n",
              "      <th>Q004</th>\n",
              "      <th>Q005</th>\n",
              "      <th>Q006</th>\n",
              "      <th>Q007</th>\n",
              "      <th>Q008</th>\n",
              "      <th>Q009</th>\n",
              "      <th>Q010</th>\n",
              "      <th>Q011</th>\n",
              "      <th>Q012</th>\n",
              "      <th>Q013</th>\n",
              "      <th>Q014</th>\n",
              "      <th>Q015</th>\n",
              "      <th>Q016</th>\n",
              "      <th>Q017</th>\n",
              "      <th>Q018</th>\n",
              "      <th>Q019</th>\n",
              "      <th>Q020</th>\n",
              "      <th>Q021</th>\n",
              "      <th>Q022</th>\n",
              "      <th>Q023</th>\n",
              "      <th>Q024</th>\n",
              "      <th>Q025</th>\n",
              "    </tr>\n",
              "  </thead>\n",
              "  <tbody>\n",
              "    <tr>\n",
              "      <th>0</th>\n",
              "      <td>210053252933</td>\n",
              "      <td>2</td>\n",
              "      <td>F</td>\n",
              "      <td>1</td>\n",
              "      <td>parda</td>\n",
              "      <td>brasileiro</td>\n",
              "      <td>2</td>\n",
              "      <td>0</td>\n",
              "      <td>publica</td>\n",
              "      <td>1.0</td>\n",
              "      <td>NaN</td>\n",
              "      <td>NaN</td>\n",
              "      <td>NaN</td>\n",
              "      <td>NaN</td>\n",
              "      <td>NaN</td>\n",
              "      <td>Santana</td>\n",
              "      <td>416.4</td>\n",
              "      <td>524.4</td>\n",
              "      <td>425.9</td>\n",
              "      <td>492.7</td>\n",
              "      <td>ingles</td>\n",
              "      <td>100.0</td>\n",
              "      <td>180.0</td>\n",
              "      <td>140.0</td>\n",
              "      <td>160.0</td>\n",
              "      <td>140.0</td>\n",
              "      <td>720.0</td>\n",
              "      <td>E</td>\n",
              "      <td>E</td>\n",
              "      <td>C</td>\n",
              "      <td>B</td>\n",
              "      <td>4.0</td>\n",
              "      <td>C</td>\n",
              "      <td>A</td>\n",
              "      <td>B</td>\n",
              "      <td>D</td>\n",
              "      <td>A</td>\n",
              "      <td>A</td>\n",
              "      <td>B</td>\n",
              "      <td>A</td>\n",
              "      <td>B</td>\n",
              "      <td>A</td>\n",
              "      <td>A</td>\n",
              "      <td>A</td>\n",
              "      <td>A</td>\n",
              "      <td>B</td>\n",
              "      <td>A</td>\n",
              "      <td>A</td>\n",
              "      <td>D</td>\n",
              "      <td>A</td>\n",
              "      <td>B</td>\n",
              "      <td>B</td>\n",
              "    </tr>\n",
              "    <tr>\n",
              "      <th>1</th>\n",
              "      <td>210051770725</td>\n",
              "      <td>9</td>\n",
              "      <td>M</td>\n",
              "      <td>1</td>\n",
              "      <td>parda</td>\n",
              "      <td>brasileiro</td>\n",
              "      <td>1</td>\n",
              "      <td>7</td>\n",
              "      <td>nao_respondeu</td>\n",
              "      <td>NaN</td>\n",
              "      <td>NaN</td>\n",
              "      <td>NaN</td>\n",
              "      <td>NaN</td>\n",
              "      <td>NaN</td>\n",
              "      <td>NaN</td>\n",
              "      <td>Macapá</td>\n",
              "      <td>394.7</td>\n",
              "      <td>608.8</td>\n",
              "      <td>519.3</td>\n",
              "      <td>495.0</td>\n",
              "      <td>espanhol</td>\n",
              "      <td>140.0</td>\n",
              "      <td>180.0</td>\n",
              "      <td>140.0</td>\n",
              "      <td>140.0</td>\n",
              "      <td>120.0</td>\n",
              "      <td>720.0</td>\n",
              "      <td>E</td>\n",
              "      <td>E</td>\n",
              "      <td>F</td>\n",
              "      <td>F</td>\n",
              "      <td>12.0</td>\n",
              "      <td>H</td>\n",
              "      <td>A</td>\n",
              "      <td>C</td>\n",
              "      <td>D</td>\n",
              "      <td>C</td>\n",
              "      <td>A</td>\n",
              "      <td>C</td>\n",
              "      <td>A</td>\n",
              "      <td>B</td>\n",
              "      <td>A</td>\n",
              "      <td>A</td>\n",
              "      <td>A</td>\n",
              "      <td>A</td>\n",
              "      <td>C</td>\n",
              "      <td>A</td>\n",
              "      <td>A</td>\n",
              "      <td>B</td>\n",
              "      <td>A</td>\n",
              "      <td>A</td>\n",
              "      <td>B</td>\n",
              "    </tr>\n",
              "    <tr>\n",
              "      <th>2</th>\n",
              "      <td>210052444280</td>\n",
              "      <td>4</td>\n",
              "      <td>F</td>\n",
              "      <td>1</td>\n",
              "      <td>parda</td>\n",
              "      <td>brasileiro</td>\n",
              "      <td>1</td>\n",
              "      <td>3</td>\n",
              "      <td>nao_respondeu</td>\n",
              "      <td>NaN</td>\n",
              "      <td>NaN</td>\n",
              "      <td>NaN</td>\n",
              "      <td>NaN</td>\n",
              "      <td>NaN</td>\n",
              "      <td>NaN</td>\n",
              "      <td>Macapá</td>\n",
              "      <td>470.5</td>\n",
              "      <td>561.7</td>\n",
              "      <td>482.8</td>\n",
              "      <td>584.6</td>\n",
              "      <td>espanhol</td>\n",
              "      <td>100.0</td>\n",
              "      <td>200.0</td>\n",
              "      <td>120.0</td>\n",
              "      <td>140.0</td>\n",
              "      <td>160.0</td>\n",
              "      <td>720.0</td>\n",
              "      <td>B</td>\n",
              "      <td>E</td>\n",
              "      <td>A</td>\n",
              "      <td>A</td>\n",
              "      <td>6.0</td>\n",
              "      <td>B</td>\n",
              "      <td>A</td>\n",
              "      <td>B</td>\n",
              "      <td>E</td>\n",
              "      <td>A</td>\n",
              "      <td>A</td>\n",
              "      <td>A</td>\n",
              "      <td>B</td>\n",
              "      <td>B</td>\n",
              "      <td>A</td>\n",
              "      <td>A</td>\n",
              "      <td>A</td>\n",
              "      <td>A</td>\n",
              "      <td>A</td>\n",
              "      <td>B</td>\n",
              "      <td>A</td>\n",
              "      <td>E</td>\n",
              "      <td>A</td>\n",
              "      <td>A</td>\n",
              "      <td>B</td>\n",
              "    </tr>\n",
              "    <tr>\n",
              "      <th>3</th>\n",
              "      <td>210052852827</td>\n",
              "      <td>6</td>\n",
              "      <td>M</td>\n",
              "      <td>1</td>\n",
              "      <td>parda</td>\n",
              "      <td>brasileiro</td>\n",
              "      <td>1</td>\n",
              "      <td>3</td>\n",
              "      <td>nao_respondeu</td>\n",
              "      <td>NaN</td>\n",
              "      <td>NaN</td>\n",
              "      <td>NaN</td>\n",
              "      <td>NaN</td>\n",
              "      <td>NaN</td>\n",
              "      <td>NaN</td>\n",
              "      <td>Porto Grande</td>\n",
              "      <td>553.4</td>\n",
              "      <td>563.9</td>\n",
              "      <td>518.6</td>\n",
              "      <td>501.1</td>\n",
              "      <td>espanhol</td>\n",
              "      <td>140.0</td>\n",
              "      <td>160.0</td>\n",
              "      <td>160.0</td>\n",
              "      <td>180.0</td>\n",
              "      <td>180.0</td>\n",
              "      <td>820.0</td>\n",
              "      <td>H</td>\n",
              "      <td>H</td>\n",
              "      <td>D</td>\n",
              "      <td>F</td>\n",
              "      <td>5.0</td>\n",
              "      <td>B</td>\n",
              "      <td>A</td>\n",
              "      <td>B</td>\n",
              "      <td>D</td>\n",
              "      <td>A</td>\n",
              "      <td>A</td>\n",
              "      <td>B</td>\n",
              "      <td>A</td>\n",
              "      <td>B</td>\n",
              "      <td>A</td>\n",
              "      <td>B</td>\n",
              "      <td>A</td>\n",
              "      <td>A</td>\n",
              "      <td>B</td>\n",
              "      <td>A</td>\n",
              "      <td>A</td>\n",
              "      <td>D</td>\n",
              "      <td>A</td>\n",
              "      <td>B</td>\n",
              "      <td>B</td>\n",
              "    </tr>\n",
              "    <tr>\n",
              "      <th>4</th>\n",
              "      <td>210052183898</td>\n",
              "      <td>9</td>\n",
              "      <td>F</td>\n",
              "      <td>0</td>\n",
              "      <td>parda</td>\n",
              "      <td>brasileiro</td>\n",
              "      <td>1</td>\n",
              "      <td>0</td>\n",
              "      <td>nao_respondeu</td>\n",
              "      <td>NaN</td>\n",
              "      <td>NaN</td>\n",
              "      <td>NaN</td>\n",
              "      <td>NaN</td>\n",
              "      <td>NaN</td>\n",
              "      <td>NaN</td>\n",
              "      <td>Macapá</td>\n",
              "      <td>414.9</td>\n",
              "      <td>466.9</td>\n",
              "      <td>345.2</td>\n",
              "      <td>402.9</td>\n",
              "      <td>espanhol</td>\n",
              "      <td>100.0</td>\n",
              "      <td>100.0</td>\n",
              "      <td>100.0</td>\n",
              "      <td>120.0</td>\n",
              "      <td>40.0</td>\n",
              "      <td>460.0</td>\n",
              "      <td>B</td>\n",
              "      <td>B</td>\n",
              "      <td>B</td>\n",
              "      <td>B</td>\n",
              "      <td>6.0</td>\n",
              "      <td>B</td>\n",
              "      <td>A</td>\n",
              "      <td>B</td>\n",
              "      <td>D</td>\n",
              "      <td>A</td>\n",
              "      <td>B</td>\n",
              "      <td>B</td>\n",
              "      <td>A</td>\n",
              "      <td>B</td>\n",
              "      <td>A</td>\n",
              "      <td>A</td>\n",
              "      <td>A</td>\n",
              "      <td>A</td>\n",
              "      <td>B</td>\n",
              "      <td>A</td>\n",
              "      <td>A</td>\n",
              "      <td>D</td>\n",
              "      <td>A</td>\n",
              "      <td>A</td>\n",
              "      <td>B</td>\n",
              "    </tr>\n",
              "  </tbody>\n",
              "</table>\n",
              "</div>\n",
              "      <button class=\"colab-df-convert\" onclick=\"convertToInteractive('df-0486484a-135e-4415-83ac-77fd37994528')\"\n",
              "              title=\"Convert this dataframe to an interactive table.\"\n",
              "              style=\"display:none;\">\n",
              "        \n",
              "  <svg xmlns=\"http://www.w3.org/2000/svg\" height=\"24px\"viewBox=\"0 0 24 24\"\n",
              "       width=\"24px\">\n",
              "    <path d=\"M0 0h24v24H0V0z\" fill=\"none\"/>\n",
              "    <path d=\"M18.56 5.44l.94 2.06.94-2.06 2.06-.94-2.06-.94-.94-2.06-.94 2.06-2.06.94zm-11 1L8.5 8.5l.94-2.06 2.06-.94-2.06-.94L8.5 2.5l-.94 2.06-2.06.94zm10 10l.94 2.06.94-2.06 2.06-.94-2.06-.94-.94-2.06-.94 2.06-2.06.94z\"/><path d=\"M17.41 7.96l-1.37-1.37c-.4-.4-.92-.59-1.43-.59-.52 0-1.04.2-1.43.59L10.3 9.45l-7.72 7.72c-.78.78-.78 2.05 0 2.83L4 21.41c.39.39.9.59 1.41.59.51 0 1.02-.2 1.41-.59l7.78-7.78 2.81-2.81c.8-.78.8-2.07 0-2.86zM5.41 20L4 18.59l7.72-7.72 1.47 1.35L5.41 20z\"/>\n",
              "  </svg>\n",
              "      </button>\n",
              "      \n",
              "  <style>\n",
              "    .colab-df-container {\n",
              "      display:flex;\n",
              "      flex-wrap:wrap;\n",
              "      gap: 12px;\n",
              "    }\n",
              "\n",
              "    .colab-df-convert {\n",
              "      background-color: #E8F0FE;\n",
              "      border: none;\n",
              "      border-radius: 50%;\n",
              "      cursor: pointer;\n",
              "      display: none;\n",
              "      fill: #1967D2;\n",
              "      height: 32px;\n",
              "      padding: 0 0 0 0;\n",
              "      width: 32px;\n",
              "    }\n",
              "\n",
              "    .colab-df-convert:hover {\n",
              "      background-color: #E2EBFA;\n",
              "      box-shadow: 0px 1px 2px rgba(60, 64, 67, 0.3), 0px 1px 3px 1px rgba(60, 64, 67, 0.15);\n",
              "      fill: #174EA6;\n",
              "    }\n",
              "\n",
              "    [theme=dark] .colab-df-convert {\n",
              "      background-color: #3B4455;\n",
              "      fill: #D2E3FC;\n",
              "    }\n",
              "\n",
              "    [theme=dark] .colab-df-convert:hover {\n",
              "      background-color: #434B5C;\n",
              "      box-shadow: 0px 1px 3px 1px rgba(0, 0, 0, 0.15);\n",
              "      filter: drop-shadow(0px 1px 2px rgba(0, 0, 0, 0.3));\n",
              "      fill: #FFFFFF;\n",
              "    }\n",
              "  </style>\n",
              "\n",
              "      <script>\n",
              "        const buttonEl =\n",
              "          document.querySelector('#df-0486484a-135e-4415-83ac-77fd37994528 button.colab-df-convert');\n",
              "        buttonEl.style.display =\n",
              "          google.colab.kernel.accessAllowed ? 'block' : 'none';\n",
              "\n",
              "        async function convertToInteractive(key) {\n",
              "          const element = document.querySelector('#df-0486484a-135e-4415-83ac-77fd37994528');\n",
              "          const dataTable =\n",
              "            await google.colab.kernel.invokeFunction('convertToInteractive',\n",
              "                                                     [key], {});\n",
              "          if (!dataTable) return;\n",
              "\n",
              "          const docLinkHtml = 'Like what you see? Visit the ' +\n",
              "            '<a target=\"_blank\" href=https://colab.research.google.com/notebooks/data_table.ipynb>data table notebook</a>'\n",
              "            + ' to learn more about interactive tables.';\n",
              "          element.innerHTML = '';\n",
              "          dataTable['output_type'] = 'display_data';\n",
              "          await google.colab.output.renderOutput(dataTable, element);\n",
              "          const docLink = document.createElement('div');\n",
              "          docLink.innerHTML = docLinkHtml;\n",
              "          element.appendChild(docLink);\n",
              "        }\n",
              "      </script>\n",
              "    </div>\n",
              "  </div>\n",
              "  "
            ]
          },
          "metadata": {},
          "execution_count": 3
        }
      ]
    },
    {
      "cell_type": "code",
      "source": [
        "df.shape"
      ],
      "metadata": {
        "id": "w_DAmSA8gQvX",
        "execution": {
          "iopub.status.busy": "2022-10-10T12:22:04.155786Z",
          "iopub.execute_input": "2022-10-10T12:22:04.156106Z",
          "iopub.status.idle": "2022-10-10T12:22:04.161957Z",
          "shell.execute_reply.started": "2022-10-10T12:22:04.156077Z",
          "shell.execute_reply": "2022-10-10T12:22:04.160898Z"
        },
        "trusted": true,
        "colab": {
          "base_uri": "https://localhost:8080/"
        },
        "outputId": "6bff9173-8994-47af-d1a0-ed923f8872f4"
      },
      "execution_count": 4,
      "outputs": [
        {
          "output_type": "execute_result",
          "data": {
            "text/plain": [
              "(11020, 52)"
            ]
          },
          "metadata": {},
          "execution_count": 4
        }
      ]
    },
    {
      "cell_type": "markdown",
      "source": [
        "## Identificação da População do Estudo e das Variáveis\n",
        "A população de estudo será dividida em dois grupos de vestibulandos, por tipo de escola:\n",
        "* pública\n",
        "* privada\n",
        "\n",
        "As populações de estudo podem ser encontradas na variável `TP_ESCOLA` do dataframe."
      ],
      "metadata": {
        "id": "iG2s-yoUYpYR"
      }
    },
    {
      "cell_type": "code",
      "source": [
        "df_estudo = df.copy()"
      ],
      "metadata": {
        "id": "mkSzvjALw17e"
      },
      "execution_count": 5,
      "outputs": []
    },
    {
      "cell_type": "code",
      "source": [
        "df_estudo.TP_ESCOLA.value_counts()"
      ],
      "metadata": {
        "id": "FWYdZTL0KT3z",
        "execution": {
          "iopub.status.busy": "2022-10-10T12:22:04.198363Z",
          "iopub.execute_input": "2022-10-10T12:22:04.198667Z",
          "iopub.status.idle": "2022-10-10T12:22:04.207954Z",
          "shell.execute_reply.started": "2022-10-10T12:22:04.198642Z",
          "shell.execute_reply": "2022-10-10T12:22:04.206872Z"
        },
        "trusted": true,
        "colab": {
          "base_uri": "https://localhost:8080/"
        },
        "outputId": "2a018123-bc57-4dca-8b73-97d756dc051f"
      },
      "execution_count": 6,
      "outputs": [
        {
          "output_type": "execute_result",
          "data": {
            "text/plain": [
              "nao_respondeu    7581\n",
              "publica          2961\n",
              "privada           478\n",
              "Name: TP_ESCOLA, dtype: int64"
            ]
          },
          "metadata": {},
          "execution_count": 6
        }
      ]
    },
    {
      "cell_type": "markdown",
      "source": [
        "Percebe-se que a maioria dos vestibulandos não responderam o tipo de escola."
      ],
      "metadata": {
        "id": "ThRk9gqXAZQs"
      }
    },
    {
      "cell_type": "markdown",
      "source": [
        "### Removendo variáveis\n",
        "Serão removidas variáveis que não serão utilizadas neste estudo, bem como os vestibulandos que não responderam ao questionário sobre qual tipo de escola frequentam."
      ],
      "metadata": {
        "id": "ARNdT-b_cG6E"
      }
    },
    {
      "cell_type": "code",
      "source": [
        "esc_invalida = df_estudo[df_estudo.TP_ESCOLA == \"nao_respondeu\"].index"
      ],
      "metadata": {
        "id": "5R1M6A3N14FL"
      },
      "execution_count": 7,
      "outputs": []
    },
    {
      "cell_type": "code",
      "source": [
        "df_estudo.drop(esc_invalida, inplace=True)\n",
        "df_estudo.shape"
      ],
      "metadata": {
        "id": "Iv1grbNtKofb",
        "execution": {
          "iopub.status.busy": "2022-10-10T12:22:04.209431Z",
          "iopub.execute_input": "2022-10-10T12:22:04.209727Z",
          "iopub.status.idle": "2022-10-10T12:22:04.231081Z",
          "shell.execute_reply.started": "2022-10-10T12:22:04.209699Z",
          "shell.execute_reply": "2022-10-10T12:22:04.230314Z"
        },
        "trusted": true,
        "colab": {
          "base_uri": "https://localhost:8080/"
        },
        "outputId": "746e7368-248e-44ad-e549-f5d4665e4edb"
      },
      "execution_count": 8,
      "outputs": [
        {
          "output_type": "execute_result",
          "data": {
            "text/plain": [
              "(3439, 52)"
            ]
          },
          "metadata": {},
          "execution_count": 8
        }
      ]
    },
    {
      "cell_type": "code",
      "source": [
        "df_estudo.TP_ESCOLA.value_counts()"
      ],
      "metadata": {
        "id": "XiwJF9E22TYY",
        "execution": {
          "iopub.status.busy": "2022-10-10T12:22:04.309528Z",
          "iopub.execute_input": "2022-10-10T12:22:04.309861Z",
          "iopub.status.idle": "2022-10-10T12:22:04.322822Z",
          "shell.execute_reply.started": "2022-10-10T12:22:04.309819Z",
          "shell.execute_reply": "2022-10-10T12:22:04.321446Z"
        },
        "trusted": true,
        "colab": {
          "base_uri": "https://localhost:8080/"
        },
        "outputId": "48939242-d037-432f-f61e-0ce26fec3972"
      },
      "execution_count": 9,
      "outputs": [
        {
          "output_type": "execute_result",
          "data": {
            "text/plain": [
              "publica    2961\n",
              "privada     478\n",
              "Name: TP_ESCOLA, dtype: int64"
            ]
          },
          "metadata": {},
          "execution_count": 9
        }
      ]
    },
    {
      "cell_type": "markdown",
      "source": [
        "O total de vestibulandos de escolas públicas e privadas é de 3439. Desses, 2961 matriculados em escolas públicas e 478 em escolas privadas."
      ],
      "metadata": {
        "id": "F9DzHplS2Xsn"
      }
    },
    {
      "cell_type": "code",
      "source": [
        "var_drop = [\"ESTADO_CIVIL\", \"NACIONALIDADE\", \"ST_CONCLUSAO\", \"ANO_CONCLUSAO\",\n",
        "            \"TP_ENSINO\", \"DEPENDENCIA_ADM_ESC\", \"UF_ESC\", \"LOCALIZACAO_ESC\",\n",
        "            \"LOCALIZACAO_ESC\", \"SIT_FUNC_ESC\"]"
      ],
      "metadata": {
        "id": "Yle86Ju92Xq4"
      },
      "execution_count": 10,
      "outputs": []
    },
    {
      "cell_type": "code",
      "source": [
        "df_estudo.drop(var_drop, axis=1, inplace=True)\n",
        "df_estudo.shape"
      ],
      "metadata": {
        "colab": {
          "base_uri": "https://localhost:8080/"
        },
        "id": "ePKXwyFk5el5",
        "outputId": "5da344a7-a299-4750-9335-b93d50c96635"
      },
      "execution_count": 11,
      "outputs": [
        {
          "output_type": "execute_result",
          "data": {
            "text/plain": [
              "(3439, 43)"
            ]
          },
          "metadata": {},
          "execution_count": 11
        }
      ]
    },
    {
      "cell_type": "markdown",
      "source": [
        "Será adicionado uma variável contendo a nota final do vestibulando."
      ],
      "metadata": {
        "id": "Wi5Wrjux6VPJ"
      }
    },
    {
      "cell_type": "code",
      "source": [
        "provas = [\"NOTA_CN\", \"NOTA_CH\",\t\"NOTA_LC\",\t\"NOTA_MT\", \"NOTA_REDACAO\"]\n",
        "nota_final = df_estudo[provas].sum(axis=1) / 5\n",
        "df_estudo.insert(11, \"NOTA_FINAL\", nota_final)\n",
        "df_estudo.shape"
      ],
      "metadata": {
        "id": "IlO7-dwWzVgT",
        "execution": {
          "iopub.status.busy": "2022-10-10T12:22:04.232268Z",
          "iopub.execute_input": "2022-10-10T12:22:04.232741Z",
          "iopub.status.idle": "2022-10-10T12:22:04.240007Z",
          "shell.execute_reply.started": "2022-10-10T12:22:04.232710Z",
          "shell.execute_reply": "2022-10-10T12:22:04.238934Z"
        },
        "trusted": true,
        "colab": {
          "base_uri": "https://localhost:8080/"
        },
        "outputId": "9c365ec2-68e5-4765-c083-150fb6aaeb6a"
      },
      "execution_count": 12,
      "outputs": [
        {
          "output_type": "execute_result",
          "data": {
            "text/plain": [
              "(3439, 44)"
            ]
          },
          "metadata": {},
          "execution_count": 12
        }
      ]
    },
    {
      "cell_type": "markdown",
      "source": [
        "### Transformação das faixas etárias, de numéricas para alfanuméricas"
      ],
      "metadata": {
        "id": "ogKUc720ehkM"
      }
    },
    {
      "cell_type": "code",
      "source": [
        "df_estudo.FAIXA_ETARIA.replace({1:\t\"Menor de 17 anos\",\n",
        "                                2:\t\"17 anos\",\n",
        "                                3:\t\"18 anos\",\n",
        "                                4:\t\"19 anos\",\n",
        "                                5:\t\"20 anos\",\n",
        "                                6:\t\"21 anos\",\n",
        "                                7:\t\"22 anos\",\n",
        "                                8:\t\"23 anos\",\n",
        "                                9:\t\"24 anos\",\n",
        "                                10: \"25 anos\",\n",
        "                                11: \"Entre 26 e 30 anos\",\n",
        "                                12: \"Entre 31 e 35 anos\",\n",
        "                                13: \"Entre 36 e 40 anos\",\n",
        "                                14: \"Entre 41 e 45 anos\",\n",
        "                                15: \"Entre 46 e 50 anos\",\n",
        "                                16: \"Entre 51 e 55 anos\",\n",
        "                                17: \"Entre 56 e 60 anos\",\n",
        "                                18: \"Entre 61 e 65 anos\",\n",
        "                                19: \"Entre 66 e 70 anos\",\n",
        "                                20: \"Maior de 70 anos\"},\n",
        "                               inplace=True)"
      ],
      "metadata": {
        "execution": {
          "iopub.status.busy": "2022-10-10T12:22:04.241353Z",
          "iopub.execute_input": "2022-10-10T12:22:04.242331Z",
          "iopub.status.idle": "2022-10-10T12:22:04.300027Z",
          "shell.execute_reply.started": "2022-10-10T12:22:04.242299Z",
          "shell.execute_reply": "2022-10-10T12:22:04.299040Z"
        },
        "trusted": true,
        "id": "2tW5vVd5cG6I"
      },
      "execution_count": 13,
      "outputs": []
    },
    {
      "cell_type": "code",
      "source": [
        "df_estudo.head()"
      ],
      "metadata": {
        "colab": {
          "base_uri": "https://localhost:8080/",
          "height": 270
        },
        "id": "l21KSHvIqYEM",
        "outputId": "5913fcd8-b522-4567-abfb-45c1dacd3bb9"
      },
      "execution_count": 14,
      "outputs": [
        {
          "output_type": "execute_result",
          "data": {
            "text/plain": [
              "    NU_INSCRICAO FAIXA_ETARIA SEXO       COR_RACA TP_ESCOLA MUNICIPIO_ESC  \\\n",
              "0   210053252933      17 anos    F          parda   publica           NaN   \n",
              "6   210052687594      19 anos    F  nao_declarado   publica           NaN   \n",
              "9   210052007222      17 anos    M          parda   publica           NaN   \n",
              "11  210051173960      17 anos    F        amarela   publica      Oiapoque   \n",
              "13  210053686356      18 anos    F          preta   publica           NaN   \n",
              "\n",
              "   MUNICIPIO_PROVA  NOTA_CN  NOTA_CH  NOTA_LC  NOTA_MT  NOTA_FINAL    LINGUA  \\\n",
              "0          Santana    416.4    524.4    425.9    492.7      515.88    ingles   \n",
              "6           Macapá    524.1    537.4    545.2    444.5      514.24  espanhol   \n",
              "9           Macapá    591.6    602.7    595.2    499.3      629.76  espanhol   \n",
              "11        Oiapoque    473.0    507.9    496.4    600.4      527.54  espanhol   \n",
              "13    Porto Grande    389.2    444.5    380.9    477.8      442.48  espanhol   \n",
              "\n",
              "    COMP1_REDACAO  COMP2_REDACAO  COMP3_REDACAO  COMP4_REDACAO  COMP5_REDACAO  \\\n",
              "0           100.0          180.0          140.0          160.0          140.0   \n",
              "6           120.0          120.0          120.0          120.0           40.0   \n",
              "9           160.0          200.0          160.0          200.0          140.0   \n",
              "11          100.0          120.0          100.0          120.0          120.0   \n",
              "13          120.0          120.0          100.0          100.0           80.0   \n",
              "\n",
              "    NOTA_REDACAO Q001 Q002 Q003 Q004  Q005 Q006 Q007 Q008 Q009 Q010 Q011 Q012  \\\n",
              "0          720.0    E    E    C    B   4.0    C    A    B    D    A    A    B   \n",
              "6          520.0    E    E    C    B   6.0    B    A    C    C    A    A    B   \n",
              "9          860.0    A    E    B    B   3.0    B    A    B    C    A    A    B   \n",
              "11         560.0    H    D    F    B   3.0    C    A    B    B    A    A    B   \n",
              "13         520.0    E    E    B    B   6.0    C    A    B    C    B    A    B   \n",
              "\n",
              "   Q013 Q014 Q015 Q016 Q017 Q018 Q019 Q020 Q021 Q022 Q023 Q024 Q025  \n",
              "0     A    B    A    A    A    A    B    A    A    D    A    B    B  \n",
              "6     B    B    A    A    A    A    B    A    A    C    A    A    B  \n",
              "9     A    A    A    A    A    A    B    A    A    B    A    A    B  \n",
              "11    A    B    A    A    A    A    B    B    A    D    A    A    B  \n",
              "13    B    B    A    A    A    A    B    A    A    C    A    A    B  "
            ],
            "text/html": [
              "\n",
              "  <div id=\"df-0e7b131a-3c95-4bb5-be44-730154dfc1b1\">\n",
              "    <div class=\"colab-df-container\">\n",
              "      <div>\n",
              "<style scoped>\n",
              "    .dataframe tbody tr th:only-of-type {\n",
              "        vertical-align: middle;\n",
              "    }\n",
              "\n",
              "    .dataframe tbody tr th {\n",
              "        vertical-align: top;\n",
              "    }\n",
              "\n",
              "    .dataframe thead th {\n",
              "        text-align: right;\n",
              "    }\n",
              "</style>\n",
              "<table border=\"1\" class=\"dataframe\">\n",
              "  <thead>\n",
              "    <tr style=\"text-align: right;\">\n",
              "      <th></th>\n",
              "      <th>NU_INSCRICAO</th>\n",
              "      <th>FAIXA_ETARIA</th>\n",
              "      <th>SEXO</th>\n",
              "      <th>COR_RACA</th>\n",
              "      <th>TP_ESCOLA</th>\n",
              "      <th>MUNICIPIO_ESC</th>\n",
              "      <th>MUNICIPIO_PROVA</th>\n",
              "      <th>NOTA_CN</th>\n",
              "      <th>NOTA_CH</th>\n",
              "      <th>NOTA_LC</th>\n",
              "      <th>NOTA_MT</th>\n",
              "      <th>NOTA_FINAL</th>\n",
              "      <th>LINGUA</th>\n",
              "      <th>COMP1_REDACAO</th>\n",
              "      <th>COMP2_REDACAO</th>\n",
              "      <th>COMP3_REDACAO</th>\n",
              "      <th>COMP4_REDACAO</th>\n",
              "      <th>COMP5_REDACAO</th>\n",
              "      <th>NOTA_REDACAO</th>\n",
              "      <th>Q001</th>\n",
              "      <th>Q002</th>\n",
              "      <th>Q003</th>\n",
              "      <th>Q004</th>\n",
              "      <th>Q005</th>\n",
              "      <th>Q006</th>\n",
              "      <th>Q007</th>\n",
              "      <th>Q008</th>\n",
              "      <th>Q009</th>\n",
              "      <th>Q010</th>\n",
              "      <th>Q011</th>\n",
              "      <th>Q012</th>\n",
              "      <th>Q013</th>\n",
              "      <th>Q014</th>\n",
              "      <th>Q015</th>\n",
              "      <th>Q016</th>\n",
              "      <th>Q017</th>\n",
              "      <th>Q018</th>\n",
              "      <th>Q019</th>\n",
              "      <th>Q020</th>\n",
              "      <th>Q021</th>\n",
              "      <th>Q022</th>\n",
              "      <th>Q023</th>\n",
              "      <th>Q024</th>\n",
              "      <th>Q025</th>\n",
              "    </tr>\n",
              "  </thead>\n",
              "  <tbody>\n",
              "    <tr>\n",
              "      <th>0</th>\n",
              "      <td>210053252933</td>\n",
              "      <td>17 anos</td>\n",
              "      <td>F</td>\n",
              "      <td>parda</td>\n",
              "      <td>publica</td>\n",
              "      <td>NaN</td>\n",
              "      <td>Santana</td>\n",
              "      <td>416.4</td>\n",
              "      <td>524.4</td>\n",
              "      <td>425.9</td>\n",
              "      <td>492.7</td>\n",
              "      <td>515.88</td>\n",
              "      <td>ingles</td>\n",
              "      <td>100.0</td>\n",
              "      <td>180.0</td>\n",
              "      <td>140.0</td>\n",
              "      <td>160.0</td>\n",
              "      <td>140.0</td>\n",
              "      <td>720.0</td>\n",
              "      <td>E</td>\n",
              "      <td>E</td>\n",
              "      <td>C</td>\n",
              "      <td>B</td>\n",
              "      <td>4.0</td>\n",
              "      <td>C</td>\n",
              "      <td>A</td>\n",
              "      <td>B</td>\n",
              "      <td>D</td>\n",
              "      <td>A</td>\n",
              "      <td>A</td>\n",
              "      <td>B</td>\n",
              "      <td>A</td>\n",
              "      <td>B</td>\n",
              "      <td>A</td>\n",
              "      <td>A</td>\n",
              "      <td>A</td>\n",
              "      <td>A</td>\n",
              "      <td>B</td>\n",
              "      <td>A</td>\n",
              "      <td>A</td>\n",
              "      <td>D</td>\n",
              "      <td>A</td>\n",
              "      <td>B</td>\n",
              "      <td>B</td>\n",
              "    </tr>\n",
              "    <tr>\n",
              "      <th>6</th>\n",
              "      <td>210052687594</td>\n",
              "      <td>19 anos</td>\n",
              "      <td>F</td>\n",
              "      <td>nao_declarado</td>\n",
              "      <td>publica</td>\n",
              "      <td>NaN</td>\n",
              "      <td>Macapá</td>\n",
              "      <td>524.1</td>\n",
              "      <td>537.4</td>\n",
              "      <td>545.2</td>\n",
              "      <td>444.5</td>\n",
              "      <td>514.24</td>\n",
              "      <td>espanhol</td>\n",
              "      <td>120.0</td>\n",
              "      <td>120.0</td>\n",
              "      <td>120.0</td>\n",
              "      <td>120.0</td>\n",
              "      <td>40.0</td>\n",
              "      <td>520.0</td>\n",
              "      <td>E</td>\n",
              "      <td>E</td>\n",
              "      <td>C</td>\n",
              "      <td>B</td>\n",
              "      <td>6.0</td>\n",
              "      <td>B</td>\n",
              "      <td>A</td>\n",
              "      <td>C</td>\n",
              "      <td>C</td>\n",
              "      <td>A</td>\n",
              "      <td>A</td>\n",
              "      <td>B</td>\n",
              "      <td>B</td>\n",
              "      <td>B</td>\n",
              "      <td>A</td>\n",
              "      <td>A</td>\n",
              "      <td>A</td>\n",
              "      <td>A</td>\n",
              "      <td>B</td>\n",
              "      <td>A</td>\n",
              "      <td>A</td>\n",
              "      <td>C</td>\n",
              "      <td>A</td>\n",
              "      <td>A</td>\n",
              "      <td>B</td>\n",
              "    </tr>\n",
              "    <tr>\n",
              "      <th>9</th>\n",
              "      <td>210052007222</td>\n",
              "      <td>17 anos</td>\n",
              "      <td>M</td>\n",
              "      <td>parda</td>\n",
              "      <td>publica</td>\n",
              "      <td>NaN</td>\n",
              "      <td>Macapá</td>\n",
              "      <td>591.6</td>\n",
              "      <td>602.7</td>\n",
              "      <td>595.2</td>\n",
              "      <td>499.3</td>\n",
              "      <td>629.76</td>\n",
              "      <td>espanhol</td>\n",
              "      <td>160.0</td>\n",
              "      <td>200.0</td>\n",
              "      <td>160.0</td>\n",
              "      <td>200.0</td>\n",
              "      <td>140.0</td>\n",
              "      <td>860.0</td>\n",
              "      <td>A</td>\n",
              "      <td>E</td>\n",
              "      <td>B</td>\n",
              "      <td>B</td>\n",
              "      <td>3.0</td>\n",
              "      <td>B</td>\n",
              "      <td>A</td>\n",
              "      <td>B</td>\n",
              "      <td>C</td>\n",
              "      <td>A</td>\n",
              "      <td>A</td>\n",
              "      <td>B</td>\n",
              "      <td>A</td>\n",
              "      <td>A</td>\n",
              "      <td>A</td>\n",
              "      <td>A</td>\n",
              "      <td>A</td>\n",
              "      <td>A</td>\n",
              "      <td>B</td>\n",
              "      <td>A</td>\n",
              "      <td>A</td>\n",
              "      <td>B</td>\n",
              "      <td>A</td>\n",
              "      <td>A</td>\n",
              "      <td>B</td>\n",
              "    </tr>\n",
              "    <tr>\n",
              "      <th>11</th>\n",
              "      <td>210051173960</td>\n",
              "      <td>17 anos</td>\n",
              "      <td>F</td>\n",
              "      <td>amarela</td>\n",
              "      <td>publica</td>\n",
              "      <td>Oiapoque</td>\n",
              "      <td>Oiapoque</td>\n",
              "      <td>473.0</td>\n",
              "      <td>507.9</td>\n",
              "      <td>496.4</td>\n",
              "      <td>600.4</td>\n",
              "      <td>527.54</td>\n",
              "      <td>espanhol</td>\n",
              "      <td>100.0</td>\n",
              "      <td>120.0</td>\n",
              "      <td>100.0</td>\n",
              "      <td>120.0</td>\n",
              "      <td>120.0</td>\n",
              "      <td>560.0</td>\n",
              "      <td>H</td>\n",
              "      <td>D</td>\n",
              "      <td>F</td>\n",
              "      <td>B</td>\n",
              "      <td>3.0</td>\n",
              "      <td>C</td>\n",
              "      <td>A</td>\n",
              "      <td>B</td>\n",
              "      <td>B</td>\n",
              "      <td>A</td>\n",
              "      <td>A</td>\n",
              "      <td>B</td>\n",
              "      <td>A</td>\n",
              "      <td>B</td>\n",
              "      <td>A</td>\n",
              "      <td>A</td>\n",
              "      <td>A</td>\n",
              "      <td>A</td>\n",
              "      <td>B</td>\n",
              "      <td>B</td>\n",
              "      <td>A</td>\n",
              "      <td>D</td>\n",
              "      <td>A</td>\n",
              "      <td>A</td>\n",
              "      <td>B</td>\n",
              "    </tr>\n",
              "    <tr>\n",
              "      <th>13</th>\n",
              "      <td>210053686356</td>\n",
              "      <td>18 anos</td>\n",
              "      <td>F</td>\n",
              "      <td>preta</td>\n",
              "      <td>publica</td>\n",
              "      <td>NaN</td>\n",
              "      <td>Porto Grande</td>\n",
              "      <td>389.2</td>\n",
              "      <td>444.5</td>\n",
              "      <td>380.9</td>\n",
              "      <td>477.8</td>\n",
              "      <td>442.48</td>\n",
              "      <td>espanhol</td>\n",
              "      <td>120.0</td>\n",
              "      <td>120.0</td>\n",
              "      <td>100.0</td>\n",
              "      <td>100.0</td>\n",
              "      <td>80.0</td>\n",
              "      <td>520.0</td>\n",
              "      <td>E</td>\n",
              "      <td>E</td>\n",
              "      <td>B</td>\n",
              "      <td>B</td>\n",
              "      <td>6.0</td>\n",
              "      <td>C</td>\n",
              "      <td>A</td>\n",
              "      <td>B</td>\n",
              "      <td>C</td>\n",
              "      <td>B</td>\n",
              "      <td>A</td>\n",
              "      <td>B</td>\n",
              "      <td>B</td>\n",
              "      <td>B</td>\n",
              "      <td>A</td>\n",
              "      <td>A</td>\n",
              "      <td>A</td>\n",
              "      <td>A</td>\n",
              "      <td>B</td>\n",
              "      <td>A</td>\n",
              "      <td>A</td>\n",
              "      <td>C</td>\n",
              "      <td>A</td>\n",
              "      <td>A</td>\n",
              "      <td>B</td>\n",
              "    </tr>\n",
              "  </tbody>\n",
              "</table>\n",
              "</div>\n",
              "      <button class=\"colab-df-convert\" onclick=\"convertToInteractive('df-0e7b131a-3c95-4bb5-be44-730154dfc1b1')\"\n",
              "              title=\"Convert this dataframe to an interactive table.\"\n",
              "              style=\"display:none;\">\n",
              "        \n",
              "  <svg xmlns=\"http://www.w3.org/2000/svg\" height=\"24px\"viewBox=\"0 0 24 24\"\n",
              "       width=\"24px\">\n",
              "    <path d=\"M0 0h24v24H0V0z\" fill=\"none\"/>\n",
              "    <path d=\"M18.56 5.44l.94 2.06.94-2.06 2.06-.94-2.06-.94-.94-2.06-.94 2.06-2.06.94zm-11 1L8.5 8.5l.94-2.06 2.06-.94-2.06-.94L8.5 2.5l-.94 2.06-2.06.94zm10 10l.94 2.06.94-2.06 2.06-.94-2.06-.94-.94-2.06-.94 2.06-2.06.94z\"/><path d=\"M17.41 7.96l-1.37-1.37c-.4-.4-.92-.59-1.43-.59-.52 0-1.04.2-1.43.59L10.3 9.45l-7.72 7.72c-.78.78-.78 2.05 0 2.83L4 21.41c.39.39.9.59 1.41.59.51 0 1.02-.2 1.41-.59l7.78-7.78 2.81-2.81c.8-.78.8-2.07 0-2.86zM5.41 20L4 18.59l7.72-7.72 1.47 1.35L5.41 20z\"/>\n",
              "  </svg>\n",
              "      </button>\n",
              "      \n",
              "  <style>\n",
              "    .colab-df-container {\n",
              "      display:flex;\n",
              "      flex-wrap:wrap;\n",
              "      gap: 12px;\n",
              "    }\n",
              "\n",
              "    .colab-df-convert {\n",
              "      background-color: #E8F0FE;\n",
              "      border: none;\n",
              "      border-radius: 50%;\n",
              "      cursor: pointer;\n",
              "      display: none;\n",
              "      fill: #1967D2;\n",
              "      height: 32px;\n",
              "      padding: 0 0 0 0;\n",
              "      width: 32px;\n",
              "    }\n",
              "\n",
              "    .colab-df-convert:hover {\n",
              "      background-color: #E2EBFA;\n",
              "      box-shadow: 0px 1px 2px rgba(60, 64, 67, 0.3), 0px 1px 3px 1px rgba(60, 64, 67, 0.15);\n",
              "      fill: #174EA6;\n",
              "    }\n",
              "\n",
              "    [theme=dark] .colab-df-convert {\n",
              "      background-color: #3B4455;\n",
              "      fill: #D2E3FC;\n",
              "    }\n",
              "\n",
              "    [theme=dark] .colab-df-convert:hover {\n",
              "      background-color: #434B5C;\n",
              "      box-shadow: 0px 1px 3px 1px rgba(0, 0, 0, 0.15);\n",
              "      filter: drop-shadow(0px 1px 2px rgba(0, 0, 0, 0.3));\n",
              "      fill: #FFFFFF;\n",
              "    }\n",
              "  </style>\n",
              "\n",
              "      <script>\n",
              "        const buttonEl =\n",
              "          document.querySelector('#df-0e7b131a-3c95-4bb5-be44-730154dfc1b1 button.colab-df-convert');\n",
              "        buttonEl.style.display =\n",
              "          google.colab.kernel.accessAllowed ? 'block' : 'none';\n",
              "\n",
              "        async function convertToInteractive(key) {\n",
              "          const element = document.querySelector('#df-0e7b131a-3c95-4bb5-be44-730154dfc1b1');\n",
              "          const dataTable =\n",
              "            await google.colab.kernel.invokeFunction('convertToInteractive',\n",
              "                                                     [key], {});\n",
              "          if (!dataTable) return;\n",
              "\n",
              "          const docLinkHtml = 'Like what you see? Visit the ' +\n",
              "            '<a target=\"_blank\" href=https://colab.research.google.com/notebooks/data_table.ipynb>data table notebook</a>'\n",
              "            + ' to learn more about interactive tables.';\n",
              "          element.innerHTML = '';\n",
              "          dataTable['output_type'] = 'display_data';\n",
              "          await google.colab.output.renderOutput(dataTable, element);\n",
              "          const docLink = document.createElement('div');\n",
              "          docLink.innerHTML = docLinkHtml;\n",
              "          element.appendChild(docLink);\n",
              "        }\n",
              "      </script>\n",
              "    </div>\n",
              "  </div>\n",
              "  "
            ]
          },
          "metadata": {},
          "execution_count": 14
        }
      ]
    },
    {
      "cell_type": "markdown",
      "source": [
        "### Divisão das populações"
      ],
      "metadata": {
        "id": "vHwp0Jn5Blg6"
      }
    },
    {
      "cell_type": "markdown",
      "source": [
        "Os dados serão divididos em duas populações de vestibulandos, entre alunos de escolas públicas e privadas.  \n",
        "Escola Pública:"
      ],
      "metadata": {
        "id": "T8lxzJCH_Zs4"
      }
    },
    {
      "cell_type": "code",
      "source": [
        "esc_publica = df_estudo.copy().query(\"TP_ESCOLA == 'publica'\").drop(\"TP_ESCOLA\",\n",
        "                                                                    axis=1)\n",
        "esc_publica.shape"
      ],
      "metadata": {
        "id": "tXlETX90ffAC",
        "execution": {
          "iopub.status.busy": "2022-10-10T12:22:04.328334Z",
          "iopub.execute_input": "2022-10-10T12:22:04.328753Z",
          "iopub.status.idle": "2022-10-10T12:22:04.351518Z",
          "shell.execute_reply.started": "2022-10-10T12:22:04.328722Z",
          "shell.execute_reply": "2022-10-10T12:22:04.350752Z"
        },
        "trusted": true,
        "colab": {
          "base_uri": "https://localhost:8080/"
        },
        "outputId": "a5a4c7df-c994-4ba4-cb3f-2504125a750d"
      },
      "execution_count": 15,
      "outputs": [
        {
          "output_type": "execute_result",
          "data": {
            "text/plain": [
              "(2961, 43)"
            ]
          },
          "metadata": {},
          "execution_count": 15
        }
      ]
    },
    {
      "cell_type": "markdown",
      "source": [
        "Escola Privada:"
      ],
      "metadata": {
        "id": "TkJ37Expjiww"
      }
    },
    {
      "cell_type": "code",
      "source": [
        "esc_privada = df_estudo.copy().query(\"TP_ESCOLA == 'privada'\").drop(\"TP_ESCOLA\",\n",
        "                                                                    axis=1)\n",
        "esc_privada.shape"
      ],
      "metadata": {
        "id": "vM_AS-0TiW6B",
        "execution": {
          "iopub.status.busy": "2022-10-10T12:22:04.352709Z",
          "iopub.execute_input": "2022-10-10T12:22:04.353017Z",
          "iopub.status.idle": "2022-10-10T12:22:04.372717Z",
          "shell.execute_reply.started": "2022-10-10T12:22:04.352988Z",
          "shell.execute_reply": "2022-10-10T12:22:04.372032Z"
        },
        "trusted": true,
        "colab": {
          "base_uri": "https://localhost:8080/"
        },
        "outputId": "0e0aea68-f695-47b2-b4c0-3cc99eb92e43"
      },
      "execution_count": 16,
      "outputs": [
        {
          "output_type": "execute_result",
          "data": {
            "text/plain": [
              "(478, 43)"
            ]
          },
          "metadata": {},
          "execution_count": 16
        }
      ]
    },
    {
      "cell_type": "markdown",
      "source": [
        "O número de vestibulandos de escolas públicas é maior."
      ],
      "metadata": {
        "id": "p30GG6lnB1zj"
      }
    },
    {
      "cell_type": "markdown",
      "source": [
        "# DESCRIÇÃO DOS DADOS"
      ],
      "metadata": {
        "id": "HUdVOHyFu6iP"
      }
    },
    {
      "cell_type": "markdown",
      "source": [
        "## Frequências\n",
        "Frequências absoluta, percentual e percentual relativa em relação as faixas etárias de idades dos vestibulandos."
      ],
      "metadata": {
        "id": "Z1v_jhqO_50m"
      }
    },
    {
      "cell_type": "markdown",
      "source": [
        "Escolas Públicas:"
      ],
      "metadata": {
        "id": "6wUHehEjtQti"
      }
    },
    {
      "cell_type": "code",
      "source": [
        "dados_abs_pub = esc_publica.FAIXA_ETARIA.value_counts()\n",
        "abs_pub = pd.DataFrame(dados_abs_pub).rename(columns={\"FAIXA_ETARIA\": \"ABSOLUTA\"})"
      ],
      "metadata": {
        "id": "zv2A-3PvoJvf",
        "execution": {
          "iopub.status.busy": "2022-10-10T12:22:04.373693Z",
          "iopub.execute_input": "2022-10-10T12:22:04.374250Z",
          "iopub.status.idle": "2022-10-10T12:22:04.386782Z",
          "shell.execute_reply.started": "2022-10-10T12:22:04.374220Z",
          "shell.execute_reply": "2022-10-10T12:22:04.385618Z"
        },
        "trusted": true
      },
      "execution_count": 17,
      "outputs": []
    },
    {
      "cell_type": "code",
      "source": [
        "dados_rel_pub = round(dados_abs_pub / dados_abs_pub.sum(), 4)\n",
        "rel_pub = pd.DataFrame(dados_rel_pub).rename(columns={\"FAIXA_ETARIA\": \"RELATIVA\"})"
      ],
      "metadata": {
        "id": "GgGCMsnb1kSc"
      },
      "execution_count": 18,
      "outputs": []
    },
    {
      "cell_type": "code",
      "source": [
        "data_perc_pub = round(dados_rel_pub * 100, 4)\n",
        "perc_pub = pd.DataFrame(data_perc_pub).rename(columns={\"FAIXA_ETARIA\": \"PERC_RELATIVA\"})"
      ],
      "metadata": {
        "id": "6VGAQhCw4A0t"
      },
      "execution_count": 19,
      "outputs": []
    },
    {
      "cell_type": "code",
      "source": [
        "df_freq_pub = pd.concat([abs_pub, rel_pub, perc_pub], axis=1)\n",
        "df_freq_pub"
      ],
      "metadata": {
        "execution": {
          "iopub.status.busy": "2022-10-10T12:22:04.388058Z",
          "iopub.execute_input": "2022-10-10T12:22:04.388411Z",
          "iopub.status.idle": "2022-10-10T12:22:04.405232Z",
          "shell.execute_reply.started": "2022-10-10T12:22:04.388372Z",
          "shell.execute_reply": "2022-10-10T12:22:04.404426Z"
        },
        "trusted": true,
        "id": "VIywhqj1cG6-",
        "colab": {
          "base_uri": "https://localhost:8080/",
          "height": 488
        },
        "outputId": "054c8831-7c79-4502-8729-0742354b31ce"
      },
      "execution_count": 20,
      "outputs": [
        {
          "output_type": "execute_result",
          "data": {
            "text/plain": [
              "                    ABSOLUTA  RELATIVA  PERC_RELATIVA\n",
              "18 anos                 1446    0.4883          48.83\n",
              "17 anos                 1020    0.3445          34.45\n",
              "19 anos                  306    0.1033          10.33\n",
              "20 anos                   76    0.0257           2.57\n",
              "Menor de 17 anos          59    0.0199           1.99\n",
              "21 anos                   19    0.0064           0.64\n",
              "22 anos                    9    0.0030           0.30\n",
              "Entre 31 e 35 anos         6    0.0020           0.20\n",
              "23 anos                    5    0.0017           0.17\n",
              "24 anos                    4    0.0014           0.14\n",
              "Entre 26 e 30 anos         4    0.0014           0.14\n",
              "25 anos                    3    0.0010           0.10\n",
              "Entre 36 e 40 anos         3    0.0010           0.10\n",
              "Entre 51 e 55 anos         1    0.0003           0.03"
            ],
            "text/html": [
              "\n",
              "  <div id=\"df-be072368-4b4a-42c6-a016-c9e1df915236\">\n",
              "    <div class=\"colab-df-container\">\n",
              "      <div>\n",
              "<style scoped>\n",
              "    .dataframe tbody tr th:only-of-type {\n",
              "        vertical-align: middle;\n",
              "    }\n",
              "\n",
              "    .dataframe tbody tr th {\n",
              "        vertical-align: top;\n",
              "    }\n",
              "\n",
              "    .dataframe thead th {\n",
              "        text-align: right;\n",
              "    }\n",
              "</style>\n",
              "<table border=\"1\" class=\"dataframe\">\n",
              "  <thead>\n",
              "    <tr style=\"text-align: right;\">\n",
              "      <th></th>\n",
              "      <th>ABSOLUTA</th>\n",
              "      <th>RELATIVA</th>\n",
              "      <th>PERC_RELATIVA</th>\n",
              "    </tr>\n",
              "  </thead>\n",
              "  <tbody>\n",
              "    <tr>\n",
              "      <th>18 anos</th>\n",
              "      <td>1446</td>\n",
              "      <td>0.4883</td>\n",
              "      <td>48.83</td>\n",
              "    </tr>\n",
              "    <tr>\n",
              "      <th>17 anos</th>\n",
              "      <td>1020</td>\n",
              "      <td>0.3445</td>\n",
              "      <td>34.45</td>\n",
              "    </tr>\n",
              "    <tr>\n",
              "      <th>19 anos</th>\n",
              "      <td>306</td>\n",
              "      <td>0.1033</td>\n",
              "      <td>10.33</td>\n",
              "    </tr>\n",
              "    <tr>\n",
              "      <th>20 anos</th>\n",
              "      <td>76</td>\n",
              "      <td>0.0257</td>\n",
              "      <td>2.57</td>\n",
              "    </tr>\n",
              "    <tr>\n",
              "      <th>Menor de 17 anos</th>\n",
              "      <td>59</td>\n",
              "      <td>0.0199</td>\n",
              "      <td>1.99</td>\n",
              "    </tr>\n",
              "    <tr>\n",
              "      <th>21 anos</th>\n",
              "      <td>19</td>\n",
              "      <td>0.0064</td>\n",
              "      <td>0.64</td>\n",
              "    </tr>\n",
              "    <tr>\n",
              "      <th>22 anos</th>\n",
              "      <td>9</td>\n",
              "      <td>0.0030</td>\n",
              "      <td>0.30</td>\n",
              "    </tr>\n",
              "    <tr>\n",
              "      <th>Entre 31 e 35 anos</th>\n",
              "      <td>6</td>\n",
              "      <td>0.0020</td>\n",
              "      <td>0.20</td>\n",
              "    </tr>\n",
              "    <tr>\n",
              "      <th>23 anos</th>\n",
              "      <td>5</td>\n",
              "      <td>0.0017</td>\n",
              "      <td>0.17</td>\n",
              "    </tr>\n",
              "    <tr>\n",
              "      <th>24 anos</th>\n",
              "      <td>4</td>\n",
              "      <td>0.0014</td>\n",
              "      <td>0.14</td>\n",
              "    </tr>\n",
              "    <tr>\n",
              "      <th>Entre 26 e 30 anos</th>\n",
              "      <td>4</td>\n",
              "      <td>0.0014</td>\n",
              "      <td>0.14</td>\n",
              "    </tr>\n",
              "    <tr>\n",
              "      <th>25 anos</th>\n",
              "      <td>3</td>\n",
              "      <td>0.0010</td>\n",
              "      <td>0.10</td>\n",
              "    </tr>\n",
              "    <tr>\n",
              "      <th>Entre 36 e 40 anos</th>\n",
              "      <td>3</td>\n",
              "      <td>0.0010</td>\n",
              "      <td>0.10</td>\n",
              "    </tr>\n",
              "    <tr>\n",
              "      <th>Entre 51 e 55 anos</th>\n",
              "      <td>1</td>\n",
              "      <td>0.0003</td>\n",
              "      <td>0.03</td>\n",
              "    </tr>\n",
              "  </tbody>\n",
              "</table>\n",
              "</div>\n",
              "      <button class=\"colab-df-convert\" onclick=\"convertToInteractive('df-be072368-4b4a-42c6-a016-c9e1df915236')\"\n",
              "              title=\"Convert this dataframe to an interactive table.\"\n",
              "              style=\"display:none;\">\n",
              "        \n",
              "  <svg xmlns=\"http://www.w3.org/2000/svg\" height=\"24px\"viewBox=\"0 0 24 24\"\n",
              "       width=\"24px\">\n",
              "    <path d=\"M0 0h24v24H0V0z\" fill=\"none\"/>\n",
              "    <path d=\"M18.56 5.44l.94 2.06.94-2.06 2.06-.94-2.06-.94-.94-2.06-.94 2.06-2.06.94zm-11 1L8.5 8.5l.94-2.06 2.06-.94-2.06-.94L8.5 2.5l-.94 2.06-2.06.94zm10 10l.94 2.06.94-2.06 2.06-.94-2.06-.94-.94-2.06-.94 2.06-2.06.94z\"/><path d=\"M17.41 7.96l-1.37-1.37c-.4-.4-.92-.59-1.43-.59-.52 0-1.04.2-1.43.59L10.3 9.45l-7.72 7.72c-.78.78-.78 2.05 0 2.83L4 21.41c.39.39.9.59 1.41.59.51 0 1.02-.2 1.41-.59l7.78-7.78 2.81-2.81c.8-.78.8-2.07 0-2.86zM5.41 20L4 18.59l7.72-7.72 1.47 1.35L5.41 20z\"/>\n",
              "  </svg>\n",
              "      </button>\n",
              "      \n",
              "  <style>\n",
              "    .colab-df-container {\n",
              "      display:flex;\n",
              "      flex-wrap:wrap;\n",
              "      gap: 12px;\n",
              "    }\n",
              "\n",
              "    .colab-df-convert {\n",
              "      background-color: #E8F0FE;\n",
              "      border: none;\n",
              "      border-radius: 50%;\n",
              "      cursor: pointer;\n",
              "      display: none;\n",
              "      fill: #1967D2;\n",
              "      height: 32px;\n",
              "      padding: 0 0 0 0;\n",
              "      width: 32px;\n",
              "    }\n",
              "\n",
              "    .colab-df-convert:hover {\n",
              "      background-color: #E2EBFA;\n",
              "      box-shadow: 0px 1px 2px rgba(60, 64, 67, 0.3), 0px 1px 3px 1px rgba(60, 64, 67, 0.15);\n",
              "      fill: #174EA6;\n",
              "    }\n",
              "\n",
              "    [theme=dark] .colab-df-convert {\n",
              "      background-color: #3B4455;\n",
              "      fill: #D2E3FC;\n",
              "    }\n",
              "\n",
              "    [theme=dark] .colab-df-convert:hover {\n",
              "      background-color: #434B5C;\n",
              "      box-shadow: 0px 1px 3px 1px rgba(0, 0, 0, 0.15);\n",
              "      filter: drop-shadow(0px 1px 2px rgba(0, 0, 0, 0.3));\n",
              "      fill: #FFFFFF;\n",
              "    }\n",
              "  </style>\n",
              "\n",
              "      <script>\n",
              "        const buttonEl =\n",
              "          document.querySelector('#df-be072368-4b4a-42c6-a016-c9e1df915236 button.colab-df-convert');\n",
              "        buttonEl.style.display =\n",
              "          google.colab.kernel.accessAllowed ? 'block' : 'none';\n",
              "\n",
              "        async function convertToInteractive(key) {\n",
              "          const element = document.querySelector('#df-be072368-4b4a-42c6-a016-c9e1df915236');\n",
              "          const dataTable =\n",
              "            await google.colab.kernel.invokeFunction('convertToInteractive',\n",
              "                                                     [key], {});\n",
              "          if (!dataTable) return;\n",
              "\n",
              "          const docLinkHtml = 'Like what you see? Visit the ' +\n",
              "            '<a target=\"_blank\" href=https://colab.research.google.com/notebooks/data_table.ipynb>data table notebook</a>'\n",
              "            + ' to learn more about interactive tables.';\n",
              "          element.innerHTML = '';\n",
              "          dataTable['output_type'] = 'display_data';\n",
              "          await google.colab.output.renderOutput(dataTable, element);\n",
              "          const docLink = document.createElement('div');\n",
              "          docLink.innerHTML = docLinkHtml;\n",
              "          element.appendChild(docLink);\n",
              "        }\n",
              "      </script>\n",
              "    </div>\n",
              "  </div>\n",
              "  "
            ]
          },
          "metadata": {},
          "execution_count": 20
        }
      ]
    },
    {
      "cell_type": "markdown",
      "source": [
        "Percebemos que a parte predominante dos vestibulandos de escolas públicas encontra-se na faixa etária de 17 a 19. Também é possível perceber valores diversos para as faixas etárias."
      ],
      "metadata": {
        "id": "7emvDx1BD2_H"
      }
    },
    {
      "cell_type": "markdown",
      "source": [
        "Escolas Privadas:"
      ],
      "metadata": {
        "id": "t9_cbUaFtwME"
      }
    },
    {
      "cell_type": "code",
      "source": [
        "dados_abs_priv = esc_privada.FAIXA_ETARIA.value_counts()\n",
        "abs_priv = pd.DataFrame(dados_abs_priv).rename(columns={\"FAIXA_ETARIA\": \"ABSOLUTA\"})"
      ],
      "metadata": {
        "id": "KW1lLcNwtwMG",
        "execution": {
          "iopub.status.busy": "2022-10-10T12:22:04.406269Z",
          "iopub.execute_input": "2022-10-10T12:22:04.407040Z",
          "iopub.status.idle": "2022-10-10T12:22:04.422912Z",
          "shell.execute_reply.started": "2022-10-10T12:22:04.406993Z",
          "shell.execute_reply": "2022-10-10T12:22:04.421798Z"
        },
        "trusted": true
      },
      "execution_count": 21,
      "outputs": []
    },
    {
      "cell_type": "code",
      "source": [
        "dados_rel_priv = round(dados_abs_priv / dados_abs_priv.sum(), 4)\n",
        "rel_priv = pd.DataFrame(dados_rel_priv).rename(columns={\"FAIXA_ETARIA\": \"RELATIVA\"})"
      ],
      "metadata": {
        "id": "BLDcrFPk91-C"
      },
      "execution_count": 22,
      "outputs": []
    },
    {
      "cell_type": "code",
      "source": [
        "dados_perc_priv = round(dados_rel_priv * 100, 4)\n",
        "perc_priv = pd.DataFrame(dados_perc_priv).rename(columns={\"FAIXA_ETARIA\": \"PERCENTUAL_RELATIVA\"})"
      ],
      "metadata": {
        "id": "11F4mCyA942s"
      },
      "execution_count": 23,
      "outputs": []
    },
    {
      "cell_type": "code",
      "source": [
        "df_freq_priv = pd.concat([abs_priv, rel_priv, perc_priv], axis=1)\n",
        "df_freq_priv"
      ],
      "metadata": {
        "id": "WGAd-H59twML",
        "execution": {
          "iopub.status.busy": "2022-10-10T12:22:04.424499Z",
          "iopub.execute_input": "2022-10-10T12:22:04.425276Z",
          "iopub.status.idle": "2022-10-10T12:22:04.443932Z",
          "shell.execute_reply.started": "2022-10-10T12:22:04.425242Z",
          "shell.execute_reply": "2022-10-10T12:22:04.442856Z"
        },
        "trusted": true,
        "colab": {
          "base_uri": "https://localhost:8080/",
          "height": 206
        },
        "outputId": "a8e04887-6756-48cd-f28b-9895d963649b"
      },
      "execution_count": 24,
      "outputs": [
        {
          "output_type": "execute_result",
          "data": {
            "text/plain": [
              "                  ABSOLUTA  RELATIVA  PERCENTUAL_RELATIVA\n",
              "17 anos                306    0.6402                64.02\n",
              "18 anos                140    0.2929                29.29\n",
              "Menor de 17 anos        24    0.0502                 5.02\n",
              "19 anos                  7    0.0146                 1.46\n",
              "20 anos                  1    0.0021                 0.21"
            ],
            "text/html": [
              "\n",
              "  <div id=\"df-617f610d-8fca-46b9-ac40-204d7d32372c\">\n",
              "    <div class=\"colab-df-container\">\n",
              "      <div>\n",
              "<style scoped>\n",
              "    .dataframe tbody tr th:only-of-type {\n",
              "        vertical-align: middle;\n",
              "    }\n",
              "\n",
              "    .dataframe tbody tr th {\n",
              "        vertical-align: top;\n",
              "    }\n",
              "\n",
              "    .dataframe thead th {\n",
              "        text-align: right;\n",
              "    }\n",
              "</style>\n",
              "<table border=\"1\" class=\"dataframe\">\n",
              "  <thead>\n",
              "    <tr style=\"text-align: right;\">\n",
              "      <th></th>\n",
              "      <th>ABSOLUTA</th>\n",
              "      <th>RELATIVA</th>\n",
              "      <th>PERCENTUAL_RELATIVA</th>\n",
              "    </tr>\n",
              "  </thead>\n",
              "  <tbody>\n",
              "    <tr>\n",
              "      <th>17 anos</th>\n",
              "      <td>306</td>\n",
              "      <td>0.6402</td>\n",
              "      <td>64.02</td>\n",
              "    </tr>\n",
              "    <tr>\n",
              "      <th>18 anos</th>\n",
              "      <td>140</td>\n",
              "      <td>0.2929</td>\n",
              "      <td>29.29</td>\n",
              "    </tr>\n",
              "    <tr>\n",
              "      <th>Menor de 17 anos</th>\n",
              "      <td>24</td>\n",
              "      <td>0.0502</td>\n",
              "      <td>5.02</td>\n",
              "    </tr>\n",
              "    <tr>\n",
              "      <th>19 anos</th>\n",
              "      <td>7</td>\n",
              "      <td>0.0146</td>\n",
              "      <td>1.46</td>\n",
              "    </tr>\n",
              "    <tr>\n",
              "      <th>20 anos</th>\n",
              "      <td>1</td>\n",
              "      <td>0.0021</td>\n",
              "      <td>0.21</td>\n",
              "    </tr>\n",
              "  </tbody>\n",
              "</table>\n",
              "</div>\n",
              "      <button class=\"colab-df-convert\" onclick=\"convertToInteractive('df-617f610d-8fca-46b9-ac40-204d7d32372c')\"\n",
              "              title=\"Convert this dataframe to an interactive table.\"\n",
              "              style=\"display:none;\">\n",
              "        \n",
              "  <svg xmlns=\"http://www.w3.org/2000/svg\" height=\"24px\"viewBox=\"0 0 24 24\"\n",
              "       width=\"24px\">\n",
              "    <path d=\"M0 0h24v24H0V0z\" fill=\"none\"/>\n",
              "    <path d=\"M18.56 5.44l.94 2.06.94-2.06 2.06-.94-2.06-.94-.94-2.06-.94 2.06-2.06.94zm-11 1L8.5 8.5l.94-2.06 2.06-.94-2.06-.94L8.5 2.5l-.94 2.06-2.06.94zm10 10l.94 2.06.94-2.06 2.06-.94-2.06-.94-.94-2.06-.94 2.06-2.06.94z\"/><path d=\"M17.41 7.96l-1.37-1.37c-.4-.4-.92-.59-1.43-.59-.52 0-1.04.2-1.43.59L10.3 9.45l-7.72 7.72c-.78.78-.78 2.05 0 2.83L4 21.41c.39.39.9.59 1.41.59.51 0 1.02-.2 1.41-.59l7.78-7.78 2.81-2.81c.8-.78.8-2.07 0-2.86zM5.41 20L4 18.59l7.72-7.72 1.47 1.35L5.41 20z\"/>\n",
              "  </svg>\n",
              "      </button>\n",
              "      \n",
              "  <style>\n",
              "    .colab-df-container {\n",
              "      display:flex;\n",
              "      flex-wrap:wrap;\n",
              "      gap: 12px;\n",
              "    }\n",
              "\n",
              "    .colab-df-convert {\n",
              "      background-color: #E8F0FE;\n",
              "      border: none;\n",
              "      border-radius: 50%;\n",
              "      cursor: pointer;\n",
              "      display: none;\n",
              "      fill: #1967D2;\n",
              "      height: 32px;\n",
              "      padding: 0 0 0 0;\n",
              "      width: 32px;\n",
              "    }\n",
              "\n",
              "    .colab-df-convert:hover {\n",
              "      background-color: #E2EBFA;\n",
              "      box-shadow: 0px 1px 2px rgba(60, 64, 67, 0.3), 0px 1px 3px 1px rgba(60, 64, 67, 0.15);\n",
              "      fill: #174EA6;\n",
              "    }\n",
              "\n",
              "    [theme=dark] .colab-df-convert {\n",
              "      background-color: #3B4455;\n",
              "      fill: #D2E3FC;\n",
              "    }\n",
              "\n",
              "    [theme=dark] .colab-df-convert:hover {\n",
              "      background-color: #434B5C;\n",
              "      box-shadow: 0px 1px 3px 1px rgba(0, 0, 0, 0.15);\n",
              "      filter: drop-shadow(0px 1px 2px rgba(0, 0, 0, 0.3));\n",
              "      fill: #FFFFFF;\n",
              "    }\n",
              "  </style>\n",
              "\n",
              "      <script>\n",
              "        const buttonEl =\n",
              "          document.querySelector('#df-617f610d-8fca-46b9-ac40-204d7d32372c button.colab-df-convert');\n",
              "        buttonEl.style.display =\n",
              "          google.colab.kernel.accessAllowed ? 'block' : 'none';\n",
              "\n",
              "        async function convertToInteractive(key) {\n",
              "          const element = document.querySelector('#df-617f610d-8fca-46b9-ac40-204d7d32372c');\n",
              "          const dataTable =\n",
              "            await google.colab.kernel.invokeFunction('convertToInteractive',\n",
              "                                                     [key], {});\n",
              "          if (!dataTable) return;\n",
              "\n",
              "          const docLinkHtml = 'Like what you see? Visit the ' +\n",
              "            '<a target=\"_blank\" href=https://colab.research.google.com/notebooks/data_table.ipynb>data table notebook</a>'\n",
              "            + ' to learn more about interactive tables.';\n",
              "          element.innerHTML = '';\n",
              "          dataTable['output_type'] = 'display_data';\n",
              "          await google.colab.output.renderOutput(dataTable, element);\n",
              "          const docLink = document.createElement('div');\n",
              "          docLink.innerHTML = docLinkHtml;\n",
              "          element.appendChild(docLink);\n",
              "        }\n",
              "      </script>\n",
              "    </div>\n",
              "  </div>\n",
              "  "
            ]
          },
          "metadata": {},
          "execution_count": 24
        }
      ]
    },
    {
      "cell_type": "markdown",
      "source": [
        "Para as escolas privadas, idades entre 17 e 18 anos predominam, muito dentro do que se encontra para idade do ensino médio regular.  \n",
        "Além disso, no escopo do conjunto de dados, encontram-se categorias resumidas, em relação aos dados das escolas públicas."
      ],
      "metadata": {
        "id": "w_PqBNKXEU61"
      }
    },
    {
      "cell_type": "markdown",
      "source": [
        "### Visualização de frequências"
      ],
      "metadata": {
        "id": "BWmaMttUCpNz"
      }
    },
    {
      "cell_type": "code",
      "source": [
        "import plotly.express as px"
      ],
      "metadata": {
        "id": "Ps2BNYQtxWle",
        "execution": {
          "iopub.status.busy": "2022-10-10T12:22:04.445787Z",
          "iopub.execute_input": "2022-10-10T12:22:04.446508Z",
          "iopub.status.idle": "2022-10-10T12:22:05.250658Z",
          "shell.execute_reply.started": "2022-10-10T12:22:04.446465Z",
          "shell.execute_reply": "2022-10-10T12:22:05.249799Z"
        },
        "trusted": true
      },
      "execution_count": 25,
      "outputs": []
    },
    {
      "cell_type": "code",
      "source": [
        "tema = px.colors.qualitative.Light24"
      ],
      "metadata": {
        "id": "fSCXgqYX5TR-"
      },
      "execution_count": 26,
      "outputs": []
    },
    {
      "cell_type": "markdown",
      "source": [
        "Notas:  \n",
        "Frequência de notas finais do enem, em relação ao percentual, em que as mesmas aparecem, separadas pelo tipo da escola."
      ],
      "metadata": {
        "id": "1rJTvQVK9Q3c"
      }
    },
    {
      "cell_type": "code",
      "source": [
        "graf_notas = px.histogram(df_estudo, x=\"NOTA_FINAL\", width=900, height=500,\n",
        "                               marginal=\"rug\", histnorm=\"percent\",\n",
        "                               barmode=\"group\", color=\"TP_ESCOLA\",\n",
        "                               color_discrete_sequence=tema)\n",
        "\n",
        "graf_notas.update_layout(font_size=12, xaxis=dict(title=\"Nota final\"),\n",
        "                              yaxis=dict(title=\"Percentual\"),\n",
        "                              title=dict(text=\"Distribuição de notas\", x=0.5,\n",
        "                                         font_size=22),\n",
        "                              legend=dict(title=\"Escola\", borderwidth=1,\n",
        "                                          bordercolor=\"lightgrey\",\n",
        "                                          bgcolor=\"rgb(251, 251, 251)\"),\n",
        "                              plot_bgcolor=\"rgb(250, 250, 250)\", bargap=0)"
      ],
      "metadata": {
        "colab": {
          "base_uri": "https://localhost:8080/",
          "height": 517
        },
        "id": "nvB8NXCQK-7E",
        "outputId": "4ba9da12-57ac-452f-beab-7f58a4d6c2d2"
      },
      "execution_count": 27,
      "outputs": [
        {
          "output_type": "display_data",
          "data": {
            "text/html": [
              "<html>\n",
              "<head><meta charset=\"utf-8\" /></head>\n",
              "<body>\n",
              "    <div>            <script src=\"https://cdnjs.cloudflare.com/ajax/libs/mathjax/2.7.5/MathJax.js?config=TeX-AMS-MML_SVG\"></script><script type=\"text/javascript\">if (window.MathJax) {MathJax.Hub.Config({SVG: {font: \"STIX-Web\"}});}</script>                <script type=\"text/javascript\">window.PlotlyConfig = {MathJaxConfig: 'local'};</script>\n",
              "        <script src=\"https://cdn.plot.ly/plotly-2.8.3.min.js\"></script>                <div id=\"13500a17-ff5c-4604-831b-18826aeb4a77\" class=\"plotly-graph-div\" style=\"height:500px; width:900px;\"></div>            <script type=\"text/javascript\">                                    window.PLOTLYENV=window.PLOTLYENV || {};                                    if (document.getElementById(\"13500a17-ff5c-4604-831b-18826aeb4a77\")) {                    Plotly.newPlot(                        \"13500a17-ff5c-4604-831b-18826aeb4a77\",                        [{\"alignmentgroup\":\"True\",\"bingroup\":\"x\",\"histnorm\":\"percent\",\"hovertemplate\":\"TP_ESCOLA=publica<br>NOTA_FINAL=%{x}<br>percent=%{y}<extra></extra>\",\"legendgroup\":\"publica\",\"marker\":{\"color\":\"#FD3216\",\"pattern\":{\"shape\":\"\"}},\"name\":\"publica\",\"offsetgroup\":\"publica\",\"orientation\":\"v\",\"showlegend\":true,\"x\":[515.8799999999999,514.24,629.76,527.54,442.4799999999999,522.98,468.0400000000001,530.52,462.16,484.41999999999996,402.0400000000001,416.8,599.22,524.8399999999999,465.26000000000005,483.8,617.2,483.2,468.02,462.06000000000006,628.96,425.16,440.26000000000005,448.3,479.28000000000003,619.8799999999999,561.78,508.03999999999996,617.1600000000001,484.7799999999999,614.8399999999999,517.74,453.36,440.86,654.1600000000001,503.68,412.55999999999995,454.26000000000005,599.6800000000001,607.6,440.52,618.42,443.52,598.5,498.91999999999996,481.64,501.0,548.9399999999999,504.43999999999994,536.16,434.0,617.3,464.03999999999996,500.02,444.21999999999997,474.46000000000004,435.34,462.12,402.5,557.98,457.84,527.58,459.6,435.5799999999999,586.4799999999999,434.5799999999999,580.6800000000001,466.05999999999995,406.15999999999997,500.7,427.7,589.0600000000001,425.82,428.12,542.3199999999999,530.0600000000001,452.06000000000006,568.8399999999999,469.5200000000001,514.36,561.26,451.18,446.4200000000001,524.1600000000001,512.96,713.36,697.5,627.04,467.53999999999996,435.67999999999995,516.1800000000001,461.58000000000004,503.02,479.58000000000004,564.42,481.84,569.5,626.4200000000001,642.48,453.9,523.74,536.5200000000001,514.0,433.34,454.26000000000005,491.9,421.12,448.53999999999996,520.04,624.42,496.2799999999999,460.37999999999994,400.35999999999996,499.91999999999996,486.2,453.98,614.38,629.0,485.1,613.1200000000001,552.0600000000001,590.64,511.4,540.76,560.5,523.4799999999999,472.02,443.98,613.86,551.52,549.8399999999999,511.82000000000005,536.32,481.82000000000005,466.93999999999994,444.1,586.96,478.66,564.1600000000001,536.48,466.2799999999999,520.1,593.14,467.4799999999999,500.64,468.12,503.96000000000004,525.76,587.5,609.6600000000001,592.74,567.76,664.3799999999999,394.64,506.85999999999996,467.34,514.9,527.3199999999999,529.68,567.74,475.41999999999996,555.14,488.52,563.14,428.66,418.18,536.56,604.76,562.8399999999999,475.98,457.78000000000003,589.0200000000001,463.2,545.1400000000001,528.22,455.9,526.1600000000001,606.76,431.75999999999993,566.88,493.3,661.28,537.3199999999999,462.66,485.64,466.34,572.34,513.38,466.88,550.3399999999999,475.38,520.04,583.2,408.5,464.26000000000005,422.34,434.93999999999994,615.1600000000001,440.78000000000003,477.52,575.9,402.71999999999997,703.6600000000001,387.02,557.74,475.21999999999997,495.34,575.86,514.58,574.4,516.42,338.86,609.08,492.24000000000007,471.62000000000006,545.2,462.76000000000005,490.5,557.22,509.84,542.7,501.1,461.18,543.28,550.28,505.5200000000001,491.52,520.42,524.24,522.6,532.1800000000001,552.74,432.71999999999997,445.14,689.4,445.38,466.32,537.88,443.23999999999995,487.18,465.76000000000005,477.3,526.42,596.3799999999999,513.08,477.62,416.36,507.98,434.5,544.08,495.82,490.16,482.02,503.32000000000005,508.26000000000005,480.68,458.06000000000006,532.0200000000001,476.96000000000004,512.98,451.16,504.4,502.9200000000001,432.0200000000001,490.08000000000004,410.64,434.26000000000005,450.93999999999994,630.4399999999999,434.0200000000001,411.08000000000004,426.43999999999994,459.06000000000006,538.98,577.8399999999999,667.94,513.54,474.21999999999997,442.8,604.52,617.74,420.3,407.41999999999996,441.41999999999996,500.56000000000006,515.9,495.96000000000004,470.71999999999997,445.2799999999999,694.86,535.26,605.24,560.9399999999999,526.54,488.8,535.4200000000001,532.28,437.0200000000001,437.0799999999999,521.5200000000001,460.73999999999995,576.2,514.14,477.7,449.93999999999994,479.23999999999995,472.82,466.0200000000001,495.28000000000003,574.46,496.73999999999995,559.54,523.6,526.8799999999999,533.0600000000001,590.78,487.14,482.18,457.4,447.98,582.58,523.9599999999999,563.1,420.1,434.0,447.0,522.6,479.3,467.32,462.32000000000005,484.23999999999995,514.22,456.64,519.86,602.8,640.54,619.2,576.8,474.3,522.54,534.5,484.23999999999995,442.2799999999999,570.86,460.16,497.38,486.53999999999996,496.02,497.28000000000003,488.56000000000006,630.9,455.12,575.12,466.4799999999999,434.9,500.0,465.0,605.92,458.21999999999997,517.3,597.48,440.62000000000006,531.3799999999999,498.93999999999994,598.04,591.22,538.38,609.46,529.1600000000001,374.88,463.46000000000004,431.32,717.42,536.28,436.0200000000001,493.96000000000004,494.5,443.71999999999997,396.62,431.62,531.3199999999999,498.46000000000004,498.98,564.8399999999999,434.58000000000004,533.38,462.5400000000001,568.9399999999999,493.43999999999994,556.1600000000001,572.9,462.62,545.7,454.8,674.14,460.52,514.3,375.7,465.12,516.5,554.8599999999999,519.1,572.2,503.16,467.02,416.62,425.7200000000001,514.58,438.06000000000006,475.17999999999995,493.43999999999994,434.4,592.0,499.1,506.4,474.2200000000001,411.08000000000004,502.82,378.4,447.73999999999995,472.38,529.5200000000001,520.38,516.8399999999999,517.08,455.76000000000005,538.3399999999999,484.5,508.43999999999994,489.4200000000001,460.8,388.48,524.46,431.41999999999996,447.6,404.21999999999997,407.06000000000006,436.43999999999994,486.32,510.48,544.2,524.18,487.98,450.62,427.53999999999996,778.1400000000001,401.76000000000005,442.46000000000004,461.9,597.58,432.21999999999997,447.52,550.58,448.38,484.5,424.84,491.86,453.06000000000006,474.86,502.06000000000006,472.18,671.3,707.44,450.9200000000001,482.0,426.2,455.14,442.93999999999994,529.78,487.1,434.28000000000003,564.6,457.6,433.2,406.36,478.34,387.41999999999996,592.62,503.7,429.08000000000004,492.2200000000001,542.5200000000001,474.5,516.0,497.78000000000003,396.28,465.23999999999995,455.14,412.52,390.12,428.16,494.82000000000005,486.58000000000004,594.92,485.16,540.3,392.03999999999996,593.46,463.64,480.08000000000004,477.0200000000001,606.12,413.64000000000004,474.73999999999995,521.24,466.9,492.7,450.67999999999995,479.23999999999995,486.52,501.58000000000004,561.68,593.2,451.6,418.66,563.4399999999999,478.34000000000003,483.43999999999994,605.3199999999999,538.3399999999999,406.40000000000003,537.28,457.62000000000006,424.8,481.32,474.64,456.2,449.48,464.58000000000004,574.24,421.73999999999995,521.62,576.48,461.53999999999996,462.84,531.22,607.26,495.67999999999995,485.4,513.2,578.26,544.0,457.32,437.0,490.56000000000006,450.7,513.28,601.72,461.28000000000003,526.5799999999999,554.38,410.71999999999997,487.2,573.72,551.3199999999999,429.12,474.0,512.7,455.55999999999995,435.53999999999996,489.1,565.44,601.1800000000001,425.28000000000003,469.46000000000004,575.0,575.76,444.2799999999999,577.1800000000001,501.3,457.86,435.32,481.2,619.4799999999999,484.48,430.88,477.4,440.5,573.98,488.58000000000004,548.3799999999999,500.64000000000004,419.41999999999996,455.1,399.65999999999997,449.62000000000006,472.38,654.5,461.3,617.7,511.12,506.71999999999997,434.4,531.46,447.12,447.7200000000001,500.26000000000005,450.3,504.58000000000004,555.8399999999999,495.08000000000004,458.84,472.18,440.58000000000004,512.64,562.96,498.4,491.8,475.23999999999995,583.6600000000001,559.26,460.4799999999999,566.72,512.9399999999999,555.04,584.54,475.3,487.14,615.64,537.84,473.12,533.62,585.24,472.64,633.74,515.24,486.26000000000005,463.5,527.5,485.86,551.54,427.67999999999995,402.56000000000006,469.68,464.84,517.24,430.64,533.62,534.5,510.64,630.54,475.6,429.86,541.3599999999999,483.9,529.1600000000001,433.18,469.64000000000004,422.5,483.62000000000006,469.8,473.5,545.9399999999999,671.78,496.58000000000004,449.66,500.78000000000003,564.8199999999999,584.3399999999999,550.2,410.4,395.3,497.91999999999996,499.9799999999999,491.98,434.3,461.96000000000004,541.92,535.6,442.73999999999995,405.17999999999995,538.28,482.03999999999996,410.48,516.3399999999999,478.52,455.62,458.08000000000004,515.8399999999999,507.66,522.22,633.5200000000001,472.91999999999996,471.58000000000004,484.58000000000004,497.76000000000005,413.52,537.42,523.0,605.5600000000001,444.5,485.73999999999995,416.26000000000005,448.86,418.3,478.64,509.62000000000006,411.68,497.03999999999996,501.76000000000005,511.41999999999996,572.3199999999999,424.53999999999996,506.84,423.5,488.4,431.5,470.36,556.08,480.71999999999997,456.14,514.42,559.04,543.74,573.64,393.68,510.52,517.4,470.32,556.4799999999999,512.86,472.8,447.3,464.7,507.98,513.3399999999999,416.4200000000001,430.2799999999999,426.53999999999996,530.54,403.4,485.96000000000004,494.02,442.4200000000001,574.14,413.08000000000004,427.18,580.6,560.8399999999999,404.36,490.06000000000006,528.1600000000001,444.88,411.56000000000006,497.12,473.41999999999996,476.06000000000006,583.3199999999999,502.64,482.1,416.52,578.28,499.06000000000006,427.02,452.26000000000005,566.58,506.66,486.52,536.3799999999999,504.28000000000003,499.86,410.98,460.96000000000004,509.4,493.52,407.58000000000004,510.82,490.9,513.1,487.06000000000006,472.08000000000004,475.14,390.98,458.26000000000005,548.76,452.32000000000005,543.76,447.96000000000004,439.36,436.88,442.9200000000001,520.36,458.96000000000004,550.22,530.64,450.98,431.52,534.26,433.44000000000005,625.1,451.28000000000003,514.52,517.64,458.0,470.48,551.02,518.1600000000001,550.98,507.88,608.88,426.62000000000006,475.71999999999997,561.6400000000001,443.4,420.1,450.0,428.43999999999994,476.9200000000001,503.6,429.02,509.91999999999996,576.78,468.12000000000006,464.7799999999999,442.7,503.5,439.96000000000004,461.1,531.64,421.76000000000005,496.6,510.21999999999997,472.93999999999994,439.38,527.9,553.6400000000001,621.72,452.08000000000004,501.96000000000004,491.12,454.62,443.2799999999999,517.3799999999999,484.6,589.28,501.38,564.3,472.18,494.34000000000003,421.88,561.62,409.2,409.38,502.3,490.36,468.7,511.4,447.5,569.8399999999999,516.42,430.26000000000005,623.98,446.82000000000005,449.93999999999994,398.54,530.52,403.6,555.6,474.56000000000006,487.9,610.3799999999999,609.26,604.4799999999999,485.2,430.8,517.2,465.0,575.72,476.78000000000003,602.26,596.0600000000001,506.68,666.14,397.76000000000005,588.26,426.4,543.78,543.68,450.4200000000001,434.32,460.58000000000004,465.3,444.16,608.86,422.1,533.0600000000001,604.68,590.94,505.34,534.6,473.76000000000005,479.23999999999995,587.96,462.8,498.84,458.86,518.0600000000001,439.88,524.7,452.3,406.47999999999996,433.36,473.7200000000001,468.78000000000003,528.88,423.0799999999999,485.38,518.58,632.36,470.87999999999994,534.22,509.38,412.44000000000005,588.52,457.2799999999999,442.3,640.4,420.3,585.2199999999999,546.74,472.03999999999996,462.58000000000004,565.5600000000001,510.3,431.12,613.1,465.46000000000004,470.03999999999996,480.84,407.6,532.3399999999999,478.2200000000001,601.4,476.74000000000007,466.18,504.41999999999996,753.9200000000001,563.26,552.8399999999999,404.28000000000003,471.14,547.88,600.4,458.7,445.64,489.21999999999997,532.42,463.6,431.18,474.32000000000005,453.21999999999997,368.65999999999997,400.78,457.06000000000006,493.25999999999993,519.46,384.91999999999996,432.03999999999996,497.23999999999995,432.1,550.08,481.03999999999996,403.52,465.9,504.74000000000007,465.66,569.14,492.52,427.41999999999996,453.0,544.3,478.4,579.98,494.36,462.91999999999996,537.4,349.02000000000004,509.26000000000005,410.88,481.41999999999996,522.0,496.2,445.87999999999994,495.6,420.82,450.71999999999997,475.73999999999995,635.34,478.53999999999996,528.04,420.12,443.6,493.48,422.36,413.34,444.93999999999994,458.6,457.26000000000005,545.76,670.48,431.86,449.0,578.02,509.96000000000004,422.56000000000006,476.5799999999999,494.14,523.9399999999999,456.66,580.1800000000001,472.43999999999994,426.76000000000005,326.14,515.02,463.7200000000001,560.42,454.23999999999995,430.88,471.88,539.62,508.7799999999999,507.84,541.8399999999999,434.26000000000005,443.2,501.78000000000003,419.5,469.91999999999996,408.9,422.43999999999994,447.2799999999999,506.7,519.76,498.06000000000006,499.23999999999995,400.82,419.91999999999996,447.03999999999996,456.21999999999997,447.43999999999994,468.46000000000004,467.08000000000004,508.53999999999996,510.08000000000004,421.0,394.71999999999997,503.68,568.5600000000001,505.43999999999994,495.5,468.62,415.7,487.1,530.4,428.43999999999994,551.6,493.0,439.28000000000003,427.73999999999995,441.3,453.2,464.6,505.5,473.0200000000001,465.14,516.78,564.0600000000001,497.34,505.2799999999999,441.28000000000003,572.8599999999999,541.36,590.0,450.34,494.34,460.18,440.28000000000003,452.46000000000004,499.53999999999996,426.98,539.5,498.0,478.06000000000006,622.78,569.42,421.86,468.1,516.48,456.34,420.53999999999996,506.71999999999997,501.5,498.9,513.78,574.94,435.68,502.08000000000004,458.71999999999997,550.96,422.36,479.4,476.46000000000004,396.55999999999995,470.08000000000004,431.64,492.7,505.23999999999995,538.0,462.18,576.6,454.6,402.14,519.02,446.36,531.6,532.14,403.96,419.23999999999995,462.71999999999997,550.8399999999999,486.5,461.52,484.36,461.34,514.3399999999999,405.74,409.64,512.08,471.8,467.64,478.66,490.88,537.72,515.62,516.0,629.26,525.1800000000001,443.62,383.71999999999997,427.14,649.0600000000001,443.82,523.7,546.54,432.08000000000004,533.92,472.4,538.3,496.82,591.54,487.82000000000005,457.6,547.28,482.48,464.9200000000001,469.9,428.68,440.5,539.3,645.6200000000001,577.6200000000001,560.1800000000001,498.46000000000004,429.46000000000004,489.5200000000001,482.32,524.62,533.5,460.73999999999995,452.58000000000004,468.7799999999999,556.02,505.7,487.12,511.8,740.0600000000001,447.64000000000004,522.4399999999999,522.0799999999999,492.14,558.1,567.24,418.62,429.38,534.3599999999999,389.91999999999996,491.14,445.16,399.9,464.4,520.5600000000001,506.38,482.56000000000006,618.0600000000001,533.9,516.38,526.24,520.92,427.75999999999993,469.28000000000003,476.84,622.0600000000001,505.06000000000006,520.3,430.6,441.14,529.46,449.26000000000005,560.5,493.76000000000005,411.21999999999997,553.9399999999999,588.78,498.6,406.43999999999994,574.5600000000001,456.7200000000001,431.93999999999994,534.3799999999999,436.84,440.5200000000001,472.41999999999996,531.4399999999999,480.68,434.43999999999994,434.36,491.73999999999995,421.82,469.14,549.5600000000001,504.93999999999994,610.22,419.64,470.14,491.98,428.48,492.5,459.71999999999997,596.08,414.8,413.5,499.62,436.03999999999996,526.64,421.96000000000004,632.9200000000001,456.02,508.48,430.03999999999996,446.8,474.26000000000005,635.9,683.0600000000001,454.73999999999995,525.3399999999999,485.41999999999996,531.3599999999999,513.08,597.02,438.41999999999996,516.4200000000001,396.36,446.23999999999995,469.26000000000005,470.1,450.5200000000001,488.84,433.86,407.65999999999997,423.93999999999994,556.38,563.42,422.3,536.9399999999999,498.32,480.02,429.96000000000004,468.53999999999996,474.96000000000004,556.26,460.9,551.0600000000001,489.5799999999999,444.43999999999994,434.62000000000006,454.64,529.92,559.4799999999999,574.28,397.41999999999996,544.08,483.84,522.86,542.8199999999999,565.64,442.34,574.2,413.53999999999996,602.0200000000001,562.86,506.66,478.16,481.96000000000004,507.82,464.41999999999996,454.34,517.6,487.6,454.86,431.73999999999995,531.88,433.1,496.7,526.8399999999999,528.94,504.7,488.62,533.22,501.28000000000003,474.84,574.4,400.75999999999993,472.67999999999995,573.72,485.96000000000004,419.18,480.91999999999996,437.37999999999994,635.78,452.84,566.1600000000001,455.87999999999994,443.5799999999999,432.66,529.86,603.16,470.0799999999999,510.64,504.76000000000005,558.92,373.6,599.8199999999999,434.91999999999996,541.34,428.0,522.08,471.64,489.9,516.2,460.12,454.0200000000001,460.5400000000001,511.8,486.76000000000005,613.08,535.38,576.76,411.9200000000001,408.98,464.26000000000005,481.56000000000006,440.9599999999999,439.0,460.23999999999995,516.04,499.34,526.0600000000001,405.36,469.4,564.0600000000001,433.4799999999999,416.9,477.98,496.03999999999996,535.28,433.46000000000004,543.9799999999999,481.03999999999996,476.37999999999994,480.86,575.96,399.9,484.03999999999996,436.53999999999996,592.84,497.32,525.16,496.64,651.5600000000001,516.4,469.0,432.62,387.03999999999996,499.84,463.03999999999996,577.5200000000001,590.4200000000001,476.93999999999994,513.96,680.36,554.8799999999999,415.26000000000005,537.78,520.48,497.26000000000005,568.4,431.7,476.56000000000006,582.3,439.21999999999997,480.03999999999996,573.0200000000001,548.1800000000001,594.68,464.88,484.08000000000004,395.62,611.7,454.7799999999999,470.52,632.46,461.64,449.91999999999996,512.26,463.12,474.02,484.7,475.64,482.06000000000006,504.16,533.96,537.12,549.5600000000001,591.6400000000001,509.28000000000003,569.3399999999999,474.03999999999996,453.36,448.4,656.62,439.52,490.87999999999994,427.34,461.41999999999996,536.4799999999999,458.28000000000003,451.8,532.3,562.1,523.96,404.34,459.32,484.1,571.3199999999999,474.62,467.18,473.67999999999995,544.28,498.84,476.14,419.23999999999995,519.8199999999999,530.9399999999999,603.64,531.8399999999999,546.0799999999999,537.66,419.4,499.4799999999999,479.28000000000003,432.88,410.8,464.7200000000001,448.4799999999999,492.7,404.72,525.58,611.74,465.18,430.0799999999999,408.38,609.0600000000001,411.66,498.86,515.8,422.02,458.82,492.9799999999999,411.26000000000005,438.9,508.2,572.3599999999999,652.82,464.23999999999995,413.46000000000004,476.0,579.12,475.86,576.1400000000001,644.44,529.98,450.93999999999994,484.84,530.88,511.37999999999994,564.12,531.44,445.24000000000007,484.0200000000001,457.36,514.24,564.54,548.3399999999999,548.42,563.7,412.14,586.14,598.08,472.02,478.93999999999994,521.5799999999999,662.4,586.76,451.03999999999996,434.73999999999995,430.93999999999994,412.4200000000001,389.58000000000004,400.88,510.7,502.76000000000005,377.02,446.08000000000004,456.93999999999994,376.04,456.7799999999999,528.48,518.76,505.12,667.34,574.92,432.17999999999995,448.9,586.82,388.96000000000004,472.32000000000005,450.96000000000004,620.0,484.2,527.86,505.91999999999996,385.52,473.66,561.6800000000001,481.28000000000003,436.76000000000005,473.41999999999996,500.2200000000001,504.71999999999997,437.43999999999994,414.91999999999996,622.54,497.93999999999994,487.76000000000005,490.7799999999999,573.78,420.23999999999995,460.62,506.53999999999996,574.0600000000001,425.4799999999999,510.43999999999994,623.5,551.98,438.26000000000005,433.03999999999996,528.24,599.52,485.34,459.53999999999996,503.76000000000005,410.16,557.22,501.78000000000003,449.16,449.86,595.4200000000001,588.7,372.00000000000006,444.66,499.96000000000004,454.8,479.48,619.96,598.3,499.26000000000005,460.88,674.14,579.46,413.91999999999996,447.96000000000004,445.71999999999997,535.24,423.1,457.56000000000006,468.86,387.21999999999997,437.82000000000005,530.38,505.8,438.1,403.14,494.71999999999997,453.43999999999994,407.58000000000004,467.96000000000004,461.26000000000005,504.08000000000004,478.43999999999994,435.18,505.58000000000004,468.37999999999994,422.32,400.64,383.52,399.65999999999997,519.12,474.71999999999997,453.52,493.34,497.46000000000004,594.8199999999999,483.06000000000006,405.74,399.52000000000004,620.38,441.12,488.06000000000006,445.9799999999999,447.03999999999996,515.4399999999999,403.1,521.2,480.28000000000003,534.6,444.64,514.6,441.23999999999995,534.78,495.32,494.2,443.6,509.8,410.64,513.8399999999999,468.6,476.82,426.8,439.0200000000001,436.85999999999996,473.8,474.08000000000004,516.6600000000001,580.02,431.16,549.04,551.2,474.64,513.7,546.88,436.56000000000006,555.3399999999999,500.93999999999994,441.91999999999996,448.87999999999994,514.76,471.93999999999994,439.4,548.86,638.76,625.6400000000001,527.6600000000001,485.91999999999996,489.16,539.58,437.14,473.9799999999999,519.74,422.6,550.4799999999999,544.58,431.76000000000005,433.85999999999996,502.36,465.34,329.7,453.53999999999996,539.66,434.6,530.86,456.5799999999999,451.14,465.16,498.67999999999995,471.1,380.48,522.72,431.64,508.71999999999997,444.16,465.53999999999996,443.9,495.2,449.38,454.18,620.5,487.68,437.1,396.15999999999997,455.9,496.9,523.5400000000001,387.86,444.03999999999996,488.84,451.12,566.4200000000001,475.38,435.9,447.03999999999996,519.3,418.32,407.24,468.91999999999996,385.62,467.26000000000005,528.98,487.4,617.14,398.3,454.48,474.4200000000001,407.5,413.86,402.75999999999993,543.24,472.08000000000004,479.7,505.9,551.82,466.32000000000005,512.64,502.36,459.62000000000006,474.43999999999994,414.02,686.6,426.2799999999999,496.21999999999997,452.62000000000006,483.06000000000006,459.58000000000004,477.06000000000006,527.28,438.2200000000001,631.3,462.23999999999995,466.03999999999996,610.46,440.68,458.88,481.96000000000004,602.0,534.86,610.7,543.96,530.82,531.18,487.86,485.66,499.3,519.22,457.8,485.26000000000005,499.03999999999996,453.28000000000003,474.06000000000006,545.0799999999999,435.71999999999997,557.5600000000001,513.26,489.21999999999997,527.6600000000001,560.68,468.43999999999994,604.8399999999999,534.72,469.64,429.4,425.43999999999994,451.06000000000006,486.6,581.56,498.88,525.82,481.34,455.56000000000006,468.98,487.2200000000001,452.64,486.58000000000004,512.12,412.34,464.96000000000004,524.14,384.46000000000004,553.76,615.72,470.12000000000006,434.66,401.53999999999996,479.68,585.8399999999999,438.8,472.7,516.8199999999999,543.64,468.41999999999996,428.53999999999996,439.3,487.43999999999994,449.1,406.9599999999999,425.53999999999996,514.8,534.3399999999999,405.46000000000004,418.93999999999994,410.14,596.12,499.56000000000006,400.0,569.38,439.41999999999996,361.56,526.5600000000001,476.66,424.62000000000006,600.64,465.88,552.0,457.16,476.23999999999995,457.46000000000004,534.6600000000001,396.26000000000005,543.52,463.64,441.64,437.93999999999994,489.82,417.9,446.32000000000005,617.96,574.64,498.08000000000004,491.43999999999994,601.8399999999999,442.4,457.73999999999995,482.2,456.26000000000005,449.34,574.5200000000001,450.5,460.8,508.56000000000006,443.6,447.78000000000003,423.37999999999994,553.12,530.54,640.1600000000001,543.0200000000001,446.6,600.4,498.88,450.43999999999994,625.5200000000001,444.9799999999999,535.76,531.0600000000001,471.73999999999995,525.3799999999999,486.73999999999995,555.4,433.16,599.14,472.84,539.62,427.16,550.96,396.3,507.36,494.14,512.4,475.28000000000003,455.86,549.88,607.54,411.34,443.5,430.78000000000003,482.9200000000001,602.1,430.14,377.9,556.82,398.90000000000003,374.88,516.9799999999999,410.9200000000001,424.7,539.8399999999999,531.4,538.0,595.8399999999999,376.84,469.23999999999995,427.12,471.58000000000004,534.5,523.88,434.2,460.82000000000005,479.73999999999995,505.1,512.34,436.52,438.3,519.0,489.53999999999996,521.8399999999999,435.56000000000006,452.7,457.5,396.98,586.76,614.9599999999999,458.6,512.96,481.73999999999995,491.84,401.30000000000007,529.36,467.64,432.12000000000006,388.94,492.32000000000005,403.12,497.3,428.73999999999995,441.6,340.71999999999997,494.85999999999996,501.3,477.88,520.38,533.1400000000001,522.62,659.28,500.23999999999995,347.9,472.9,427.73999999999995,515.4,550.4399999999999,425.5,457.71999999999997,405.28000000000003,361.53999999999996,556.74,457.1,420.6,454.3,431.23999999999995,523.1,447.12000000000006,495.1,480.38,449.62,508.06000000000006,487.1,613.7,405.91999999999996,550.8199999999999,576.6600000000001,618.76,566.26,511.16,508.98,529.18,452.14,428.2,552.3199999999999,451.2799999999999,429.82000000000005,478.26000000000005,442.32,453.0200000000001,554.74,507.36,524.78,486.24000000000007,433.98,484.8,611.72,503.26000000000005,415.02,474.4799999999999,441.7799999999999,426.66,438.58000000000004,483.14000000000004,501.96000000000004,506.73999999999995,454.4,495.9,420.62,472.1,395.38,501.8,615.9399999999999,392.86,422.7200000000001,557.6,497.93999999999994,623.1200000000001,450.43999999999994,500.7799999999999,510.21999999999997,494.17999999999995,435.23999999999995,460.73999999999995,467.6,465.6,473.34,547.62,412.21999999999997,455.64,563.3399999999999,537.88,498.88,431.34,466.4,440.5,430.4,537.1,565.3199999999999,534.24,409.64,559.7,379.4,511.64,458.7799999999999,622.98,425.26000000000005,575.26,488.3,429.32,411.9799999999999,453.86,442.87999999999994,414.66,464.8,552.22,555.52,388.74,507.3,480.64,561.1400000000001,594.86,431.76000000000005,554.0600000000001,438.06000000000006,466.53999999999996,465.26000000000005,480.41999999999996,397.4,465.06000000000006,456.02,529.78,472.66,439.28000000000003,523.74,436.0,443.37999999999994,455.96000000000004,459.64,491.4,407.3,457.17999999999995,419.03999999999996,617.36,523.5,589.8199999999999,391.82,532.48,405.06,449.12,575.62,400.2,481.52,609.86,496.23999999999995,549.8,389.4,488.82,558.1,549.74,472.56000000000006,494.21999999999997,448.9,392.02,468.17999999999995,548.46,402.68,596.7,533.5,449.68,453.12,357.78000000000003,438.1,485.16,566.48,512.1800000000001,414.7,483.21999999999997,420.82,487.5799999999999,467.62000000000006,445.23999999999995,487.41999999999996,596.04,480.2200000000001,457.5,426.12,427.82,638.96,494.18,507.0,468.03999999999996,597.8,601.3,559.24,501.9,478.7,505.62,569.52,395.88,413.18,427.02,469.68,506.14000000000004,547.4200000000001,418.5,471.76000000000005,417.32000000000005,451.86,390.43999999999994,429.4,545.1800000000001,600.66,596.48,434.32,443.06000000000006,509.34,425.3,494.73999999999995,424.2,449.34,518.2,476.82,588.0200000000001,468.06000000000006,536.4799999999999,573.3199999999999,417.16,460.0799999999999,571.42,509.0,438.48,448.4,428.18,512.26,449.21999999999997,556.9200000000001,521.8,486.08000000000004,534.36,509.34,477.08000000000004,397.91999999999996,554.36,538.64,539.1600000000001,471.58000000000004,548.26,431.66,614.58,490.0,500.02,441.28000000000003,474.37999999999994,483.58000000000004,355.0,566.46,632.6800000000001,431.58000000000004,618.04,513.26,453.4,466.06000000000006,471.32000000000005,451.67999999999995,406.4,461.93999999999994,459.98,449.16,570.0,402.12,448.56000000000006,602.24,519.3,414.68,423.82,555.22,562.42,433.16,446.23999999999995,497.58000000000004,647.44,455.64,533.0600000000001,460.08000000000004,528.5600000000001,434.76000000000005,436.18,491.23999999999995,562.64,482.06000000000006,434.36,509.84,446.06000000000006,512.1200000000001,411.36,432.82,402.75999999999993,483.14,429.48,506.82,418.82000000000005,481.32,519.7,504.34,481.84,436.84,410.41999999999996,494.3,453.67999999999995,484.23999999999995,507.2,531.4,504.58000000000004,427.1,627.28,488.36,383.48,430.36,580.4,451.23999999999995,462.73999999999995,593.46,456.68,512.6800000000001,459.84,405.68,447.21999999999997,573.3199999999999,516.9200000000001,436.32,456.8,647.3199999999999,628.78,623.3199999999999,603.78,446.06000000000006,460.4,457.6,462.28000000000003,436.96000000000004,473.17999999999995,437.76000000000005,508.52,407.23999999999995,660.14,494.9200000000001,465.26000000000005,443.64,529.6800000000001,435.66,571.76,572.58,497.0799999999999,556.3199999999999,450.06000000000006,410.76000000000005,554.8,492.08000000000004,604.7,473.64,452.2,393.43999999999994,408.32,430.76000000000005,478.64,521.76,422.17999999999995,407.03999999999996,499.98,454.84,383.32,515.74,429.7799999999999,446.43999999999994,442.9,472.23999999999995,563.14,461.34,443.34000000000003,477.12,454.17999999999995,427.23999999999995,478.6,473.02,477.9599999999999,495.9,458.62,455.58000000000004,476.62,490.1,591.1800000000001,556.58,394.9,477.62,592.74,456.14,400.1,455.8,456.9,579.78,513.62,478.32,515.9,440.1,489.03999999999996,464.78000000000003,425.62,532.26,425.93999999999994,404.54,537.9,471.64,468.21999999999997,539.0600000000001,534.08,460.9,536.08,556.1600000000001,476.23999999999995,528.64,498.86,470.78000000000003,518.88,403.58,472.67999999999995,561.72,477.23999999999995,525.24,438.7200000000001,413.0,394.42,447.1,479.0799999999999,457.0,490.36,435.43999999999994,383.44,530.8399999999999,501.3,367.21999999999997,450.4799999999999,473.52,458.76000000000005,511.98,561.58,533.0600000000001,475.36,493.06000000000006,427.43999999999994,571.0,525.52,398.84,447.2,475.6,534.0,381.64,439.52,631.72,432.96000000000004,404.36,440.06000000000006,497.26000000000005,531.54,464.84,507.5,450.56000000000006,487.73999999999995,504.28000000000003,434.06000000000006,455.64,523.88,490.12,474.67999999999995,752.6199999999999,481.1,404.18,434.03999999999996,466.5799999999999,447.98,439.84,589.6,490.82,473.76000000000005,581.52,446.5,454.9,436.64,474.48,452.3,457.73999999999995,490.2,443.2,524.02,523.74,524.0600000000001,454.7,486.6,408.91999999999996,534.48,426.5400000000001,436.53999999999996,415.4200000000001,501.3,505.58000000000004,493.68,416.56000000000006,477.71999999999997,462.56000000000006,504.98,482.14,473.03999999999996,440.98,510.9,448.1,381.93999999999994,491.3,533.6200000000001,428.0,498.86,435.03999999999996,424.88,407.38,493.38,401.92,440.94000000000005,397.68,418.71999999999997,482.14,444.9,445.2,498.94000000000005,443.7,494.93999999999994,527.46,474.06000000000006,424.87999999999994,433.8,413.71999999999997,488.73999999999995,389.28000000000003,417.7,398.92,455.4,491.96000000000004,484.93999999999994,427.1,455.3,461.4799999999999,430.21999999999997,562.08,480.98,514.7,430.06000000000006,434.5,418.84,428.12000000000006,435.14,440.9,441.08000000000004,444.96000000000004,440.56000000000006,422.58000000000004,469.8,491.6,383.71999999999997,401.0,494.78000000000003,457.56000000000006,473.38,549.6800000000001,430.91999999999996,419.85999999999996,448.4,501.7,512.68,455.14,453.3,416.9200000000001,484.86,434.98,420.91999999999996,488.66,567.02,410.68,535.38,392.84000000000003,453.14,527.0,497.8,424.8,517.4,535.1600000000001,417.68,447.03999999999996,399.30000000000007,423.86,449.8,448.76000000000005,494.78000000000003,526.6600000000001,537.78,470.5,500.26000000000005,368.76,559.36,480.0400000000001,569.62,417.58000000000004,455.48,534.48,497.14,491.62,526.2,470.36,563.0799999999999,427.5400000000001,542.98,424.82,454.41999999999996,419.82000000000005,434.53999999999996,479.76000000000005,460.86,476.36,515.5799999999999,479.3,467.6,449.28000000000003,495.16,417.06000000000006,496.43999999999994,481.56000000000006,453.38,440.82,437.38,566.9399999999999,447.64,434.38,515.92,418.03999999999996,445.88,614.8399999999999,464.03999999999996,451.43999999999994,566.0600000000001,398.34000000000003,460.46000000000004,411.7,422.84,447.1,456.96000000000004,470.38,433.53999999999996,521.3,454.98,480.82,496.34,422.43999999999994,504.18,438.08000000000004,508.43999999999994,476.58000000000004,455.06000000000006,515.2,463.14,520.8,549.6600000000001,623.86,509.21999999999997,509.48,370.7,417.08000000000004,432.62000000000006,430.46000000000004,551.26,517.1400000000001,625.6400000000001,585.58,413.2,526.54,501.62000000000006,489.64,487.94000000000005,433.17999999999995,482.66,483.84,452.12000000000006,408.96,468.3,473.38,434.68,430.28000000000003,484.82,396.66,594.78,419.52,504.46000000000004,489.21999999999997,539.58,464.0799999999999,507.68,516.32,526.28,472.4599999999999,556.04,408.43999999999994,411.43999999999994,473.56000000000006,441.87999999999994,557.88,408.02,476.96000000000004,442.41999999999996,522.12,495.18,458.21999999999997,421.86,494.02,457.38,447.78000000000003,421.64,442.46000000000004,468.58000000000004,498.48,466.28000000000003,467.32,561.74,448.9,400.23999999999995,503.66,500.78000000000003,403.12,438.46000000000004,593.0400000000001,458.76000000000005,408.56000000000006,528.06,500.53999999999996,458.21999999999997,423.68,421.41999999999996,560.96,495.98,483.7799999999999,469.26000000000005,556.64,491.68,480.64,437.16,495.36,436.7,456.2,447.84,501.2,511.21999999999997,457.67999999999995,406.12,397.53999999999996,500.34,406.54,449.71999999999997,533.24,532.04,440.78000000000003,497.52,496.37999999999994,433.87999999999994,588.3599999999999,503.0,421.5,419.2200000000001,505.16,453.03999999999996,419.36,519.46,442.43999999999994,484.8,422.23999999999995,410.7200000000001,504.66,441.23999999999995,443.46000000000004,520.6800000000001,430.78000000000003,470.3,419.37999999999994,476.86,435.58000000000004,460.1,446.88,470.8,438.16,503.41999999999996,475.28000000000003,580.72,412.06000000000006,420.21999999999997,459.48,561.88,589.6600000000001,577.16,368.82,401.23999999999995,423.64,342.7,471.02,445.32,389.46000000000004,512.36,487.28000000000003,377.9,428.9200000000001,437.52,490.53999999999996,438.56000000000006,397.56,532.06,404.42,490.14,500.41999999999996,457.2200000000001,483.7200000000001,438.98,526.8199999999999,566.64,442.86,522.0200000000001,495.14,458.71999999999997,410.2799999999999,442.66,482.56000000000006,513.5400000000001,569.6200000000001,473.84,492.37999999999994,482.44000000000005,491.48,540.04,445.7,502.7799999999999,417.86,553.7,484.03999999999996,495.84,435.46000000000004,573.02,562.4,422.62000000000006,483.43999999999994,510.5,473.35999999999996,432.36,442.0,381.41999999999996,482.14,450.5200000000001,459.75999999999993,409.3,365.4,410.32000000000005,465.34000000000003,376.64,513.4,446.36,522.28,503.02,425.38,444.4799999999999,488.7799999999999,503.5,421.43999999999994,460.91999999999996,631.8799999999999,432.91999999999996,480.48,578.0799999999999,452.86,429.48,443.32,495.06000000000006,393.62,505.62,484.53999999999996,529.8,473.32,552.34,497.4799999999999,637.22,470.14,408.4599999999999,461.6,485.71999999999997,450.46000000000004,517.58,528.1600000000001,492.12000000000006,391.14,463.06000000000006,405.78000000000003,405.58000000000004,459.14,438.9,415.23999999999995,484.32000000000005,456.26000000000005,457.41999999999996,476.23999999999995,447.4,442.06000000000006,434.8,544.8,473.02,451.82,544.8599999999999,576.48,433.91999999999996,406.34000000000003,419.7,402.28000000000003,491.1,403.02,391.82,561.78,446.26000000000005,499.0,431.16,467.88,414.24000000000007,495.3,444.8,526.78,422.8,443.18,426.06000000000006,561.58,432.38,465.5,472.9799999999999,589.7,532.9399999999999,520.86,453.4,495.88,488.03999999999996,560.98,440.58000000000004,462.71999999999997,438.43999999999994,532.28,450.4,463.96000000000004,427.53999999999996,404.54,467.4799999999999,502.36,452.66,386.08000000000004,481.0799999999999,405.82,461.73999999999995,400.78,480.4799999999999,392.04,465.4,474.36,441.2,423.9,538.4399999999999,407.62,433.38,446.84,448.76000000000005,468.05999999999995,389.55999999999995,510.64,436.48,486.71999999999997,409.41999999999996,395.82,391.18,412.41999999999996,506.08000000000004,450.28000000000003,469.73999999999995,424.68,458.93999999999994,528.5400000000001,469.86,451.14,460.05999999999995,463.4,459.06000000000006,386.32,425.53999999999996,395.12,459.8,370.84,441.0,501.26000000000005],\"xaxis\":\"x\",\"yaxis\":\"y\",\"type\":\"histogram\"},{\"alignmentgroup\":\"True\",\"boxpoints\":\"all\",\"fillcolor\":\"rgba(255,255,255,0)\",\"hoveron\":\"points\",\"hovertemplate\":\"TP_ESCOLA=publica<br>NOTA_FINAL=%{x}<extra></extra>\",\"jitter\":0,\"legendgroup\":\"publica\",\"line\":{\"color\":\"rgba(255,255,255,0)\"},\"marker\":{\"color\":\"#FD3216\",\"symbol\":\"line-ns-open\"},\"name\":\"publica\",\"offsetgroup\":\"publica\",\"showlegend\":false,\"x\":[515.8799999999999,514.24,629.76,527.54,442.4799999999999,522.98,468.0400000000001,530.52,462.16,484.41999999999996,402.0400000000001,416.8,599.22,524.8399999999999,465.26000000000005,483.8,617.2,483.2,468.02,462.06000000000006,628.96,425.16,440.26000000000005,448.3,479.28000000000003,619.8799999999999,561.78,508.03999999999996,617.1600000000001,484.7799999999999,614.8399999999999,517.74,453.36,440.86,654.1600000000001,503.68,412.55999999999995,454.26000000000005,599.6800000000001,607.6,440.52,618.42,443.52,598.5,498.91999999999996,481.64,501.0,548.9399999999999,504.43999999999994,536.16,434.0,617.3,464.03999999999996,500.02,444.21999999999997,474.46000000000004,435.34,462.12,402.5,557.98,457.84,527.58,459.6,435.5799999999999,586.4799999999999,434.5799999999999,580.6800000000001,466.05999999999995,406.15999999999997,500.7,427.7,589.0600000000001,425.82,428.12,542.3199999999999,530.0600000000001,452.06000000000006,568.8399999999999,469.5200000000001,514.36,561.26,451.18,446.4200000000001,524.1600000000001,512.96,713.36,697.5,627.04,467.53999999999996,435.67999999999995,516.1800000000001,461.58000000000004,503.02,479.58000000000004,564.42,481.84,569.5,626.4200000000001,642.48,453.9,523.74,536.5200000000001,514.0,433.34,454.26000000000005,491.9,421.12,448.53999999999996,520.04,624.42,496.2799999999999,460.37999999999994,400.35999999999996,499.91999999999996,486.2,453.98,614.38,629.0,485.1,613.1200000000001,552.0600000000001,590.64,511.4,540.76,560.5,523.4799999999999,472.02,443.98,613.86,551.52,549.8399999999999,511.82000000000005,536.32,481.82000000000005,466.93999999999994,444.1,586.96,478.66,564.1600000000001,536.48,466.2799999999999,520.1,593.14,467.4799999999999,500.64,468.12,503.96000000000004,525.76,587.5,609.6600000000001,592.74,567.76,664.3799999999999,394.64,506.85999999999996,467.34,514.9,527.3199999999999,529.68,567.74,475.41999999999996,555.14,488.52,563.14,428.66,418.18,536.56,604.76,562.8399999999999,475.98,457.78000000000003,589.0200000000001,463.2,545.1400000000001,528.22,455.9,526.1600000000001,606.76,431.75999999999993,566.88,493.3,661.28,537.3199999999999,462.66,485.64,466.34,572.34,513.38,466.88,550.3399999999999,475.38,520.04,583.2,408.5,464.26000000000005,422.34,434.93999999999994,615.1600000000001,440.78000000000003,477.52,575.9,402.71999999999997,703.6600000000001,387.02,557.74,475.21999999999997,495.34,575.86,514.58,574.4,516.42,338.86,609.08,492.24000000000007,471.62000000000006,545.2,462.76000000000005,490.5,557.22,509.84,542.7,501.1,461.18,543.28,550.28,505.5200000000001,491.52,520.42,524.24,522.6,532.1800000000001,552.74,432.71999999999997,445.14,689.4,445.38,466.32,537.88,443.23999999999995,487.18,465.76000000000005,477.3,526.42,596.3799999999999,513.08,477.62,416.36,507.98,434.5,544.08,495.82,490.16,482.02,503.32000000000005,508.26000000000005,480.68,458.06000000000006,532.0200000000001,476.96000000000004,512.98,451.16,504.4,502.9200000000001,432.0200000000001,490.08000000000004,410.64,434.26000000000005,450.93999999999994,630.4399999999999,434.0200000000001,411.08000000000004,426.43999999999994,459.06000000000006,538.98,577.8399999999999,667.94,513.54,474.21999999999997,442.8,604.52,617.74,420.3,407.41999999999996,441.41999999999996,500.56000000000006,515.9,495.96000000000004,470.71999999999997,445.2799999999999,694.86,535.26,605.24,560.9399999999999,526.54,488.8,535.4200000000001,532.28,437.0200000000001,437.0799999999999,521.5200000000001,460.73999999999995,576.2,514.14,477.7,449.93999999999994,479.23999999999995,472.82,466.0200000000001,495.28000000000003,574.46,496.73999999999995,559.54,523.6,526.8799999999999,533.0600000000001,590.78,487.14,482.18,457.4,447.98,582.58,523.9599999999999,563.1,420.1,434.0,447.0,522.6,479.3,467.32,462.32000000000005,484.23999999999995,514.22,456.64,519.86,602.8,640.54,619.2,576.8,474.3,522.54,534.5,484.23999999999995,442.2799999999999,570.86,460.16,497.38,486.53999999999996,496.02,497.28000000000003,488.56000000000006,630.9,455.12,575.12,466.4799999999999,434.9,500.0,465.0,605.92,458.21999999999997,517.3,597.48,440.62000000000006,531.3799999999999,498.93999999999994,598.04,591.22,538.38,609.46,529.1600000000001,374.88,463.46000000000004,431.32,717.42,536.28,436.0200000000001,493.96000000000004,494.5,443.71999999999997,396.62,431.62,531.3199999999999,498.46000000000004,498.98,564.8399999999999,434.58000000000004,533.38,462.5400000000001,568.9399999999999,493.43999999999994,556.1600000000001,572.9,462.62,545.7,454.8,674.14,460.52,514.3,375.7,465.12,516.5,554.8599999999999,519.1,572.2,503.16,467.02,416.62,425.7200000000001,514.58,438.06000000000006,475.17999999999995,493.43999999999994,434.4,592.0,499.1,506.4,474.2200000000001,411.08000000000004,502.82,378.4,447.73999999999995,472.38,529.5200000000001,520.38,516.8399999999999,517.08,455.76000000000005,538.3399999999999,484.5,508.43999999999994,489.4200000000001,460.8,388.48,524.46,431.41999999999996,447.6,404.21999999999997,407.06000000000006,436.43999999999994,486.32,510.48,544.2,524.18,487.98,450.62,427.53999999999996,778.1400000000001,401.76000000000005,442.46000000000004,461.9,597.58,432.21999999999997,447.52,550.58,448.38,484.5,424.84,491.86,453.06000000000006,474.86,502.06000000000006,472.18,671.3,707.44,450.9200000000001,482.0,426.2,455.14,442.93999999999994,529.78,487.1,434.28000000000003,564.6,457.6,433.2,406.36,478.34,387.41999999999996,592.62,503.7,429.08000000000004,492.2200000000001,542.5200000000001,474.5,516.0,497.78000000000003,396.28,465.23999999999995,455.14,412.52,390.12,428.16,494.82000000000005,486.58000000000004,594.92,485.16,540.3,392.03999999999996,593.46,463.64,480.08000000000004,477.0200000000001,606.12,413.64000000000004,474.73999999999995,521.24,466.9,492.7,450.67999999999995,479.23999999999995,486.52,501.58000000000004,561.68,593.2,451.6,418.66,563.4399999999999,478.34000000000003,483.43999999999994,605.3199999999999,538.3399999999999,406.40000000000003,537.28,457.62000000000006,424.8,481.32,474.64,456.2,449.48,464.58000000000004,574.24,421.73999999999995,521.62,576.48,461.53999999999996,462.84,531.22,607.26,495.67999999999995,485.4,513.2,578.26,544.0,457.32,437.0,490.56000000000006,450.7,513.28,601.72,461.28000000000003,526.5799999999999,554.38,410.71999999999997,487.2,573.72,551.3199999999999,429.12,474.0,512.7,455.55999999999995,435.53999999999996,489.1,565.44,601.1800000000001,425.28000000000003,469.46000000000004,575.0,575.76,444.2799999999999,577.1800000000001,501.3,457.86,435.32,481.2,619.4799999999999,484.48,430.88,477.4,440.5,573.98,488.58000000000004,548.3799999999999,500.64000000000004,419.41999999999996,455.1,399.65999999999997,449.62000000000006,472.38,654.5,461.3,617.7,511.12,506.71999999999997,434.4,531.46,447.12,447.7200000000001,500.26000000000005,450.3,504.58000000000004,555.8399999999999,495.08000000000004,458.84,472.18,440.58000000000004,512.64,562.96,498.4,491.8,475.23999999999995,583.6600000000001,559.26,460.4799999999999,566.72,512.9399999999999,555.04,584.54,475.3,487.14,615.64,537.84,473.12,533.62,585.24,472.64,633.74,515.24,486.26000000000005,463.5,527.5,485.86,551.54,427.67999999999995,402.56000000000006,469.68,464.84,517.24,430.64,533.62,534.5,510.64,630.54,475.6,429.86,541.3599999999999,483.9,529.1600000000001,433.18,469.64000000000004,422.5,483.62000000000006,469.8,473.5,545.9399999999999,671.78,496.58000000000004,449.66,500.78000000000003,564.8199999999999,584.3399999999999,550.2,410.4,395.3,497.91999999999996,499.9799999999999,491.98,434.3,461.96000000000004,541.92,535.6,442.73999999999995,405.17999999999995,538.28,482.03999999999996,410.48,516.3399999999999,478.52,455.62,458.08000000000004,515.8399999999999,507.66,522.22,633.5200000000001,472.91999999999996,471.58000000000004,484.58000000000004,497.76000000000005,413.52,537.42,523.0,605.5600000000001,444.5,485.73999999999995,416.26000000000005,448.86,418.3,478.64,509.62000000000006,411.68,497.03999999999996,501.76000000000005,511.41999999999996,572.3199999999999,424.53999999999996,506.84,423.5,488.4,431.5,470.36,556.08,480.71999999999997,456.14,514.42,559.04,543.74,573.64,393.68,510.52,517.4,470.32,556.4799999999999,512.86,472.8,447.3,464.7,507.98,513.3399999999999,416.4200000000001,430.2799999999999,426.53999999999996,530.54,403.4,485.96000000000004,494.02,442.4200000000001,574.14,413.08000000000004,427.18,580.6,560.8399999999999,404.36,490.06000000000006,528.1600000000001,444.88,411.56000000000006,497.12,473.41999999999996,476.06000000000006,583.3199999999999,502.64,482.1,416.52,578.28,499.06000000000006,427.02,452.26000000000005,566.58,506.66,486.52,536.3799999999999,504.28000000000003,499.86,410.98,460.96000000000004,509.4,493.52,407.58000000000004,510.82,490.9,513.1,487.06000000000006,472.08000000000004,475.14,390.98,458.26000000000005,548.76,452.32000000000005,543.76,447.96000000000004,439.36,436.88,442.9200000000001,520.36,458.96000000000004,550.22,530.64,450.98,431.52,534.26,433.44000000000005,625.1,451.28000000000003,514.52,517.64,458.0,470.48,551.02,518.1600000000001,550.98,507.88,608.88,426.62000000000006,475.71999999999997,561.6400000000001,443.4,420.1,450.0,428.43999999999994,476.9200000000001,503.6,429.02,509.91999999999996,576.78,468.12000000000006,464.7799999999999,442.7,503.5,439.96000000000004,461.1,531.64,421.76000000000005,496.6,510.21999999999997,472.93999999999994,439.38,527.9,553.6400000000001,621.72,452.08000000000004,501.96000000000004,491.12,454.62,443.2799999999999,517.3799999999999,484.6,589.28,501.38,564.3,472.18,494.34000000000003,421.88,561.62,409.2,409.38,502.3,490.36,468.7,511.4,447.5,569.8399999999999,516.42,430.26000000000005,623.98,446.82000000000005,449.93999999999994,398.54,530.52,403.6,555.6,474.56000000000006,487.9,610.3799999999999,609.26,604.4799999999999,485.2,430.8,517.2,465.0,575.72,476.78000000000003,602.26,596.0600000000001,506.68,666.14,397.76000000000005,588.26,426.4,543.78,543.68,450.4200000000001,434.32,460.58000000000004,465.3,444.16,608.86,422.1,533.0600000000001,604.68,590.94,505.34,534.6,473.76000000000005,479.23999999999995,587.96,462.8,498.84,458.86,518.0600000000001,439.88,524.7,452.3,406.47999999999996,433.36,473.7200000000001,468.78000000000003,528.88,423.0799999999999,485.38,518.58,632.36,470.87999999999994,534.22,509.38,412.44000000000005,588.52,457.2799999999999,442.3,640.4,420.3,585.2199999999999,546.74,472.03999999999996,462.58000000000004,565.5600000000001,510.3,431.12,613.1,465.46000000000004,470.03999999999996,480.84,407.6,532.3399999999999,478.2200000000001,601.4,476.74000000000007,466.18,504.41999999999996,753.9200000000001,563.26,552.8399999999999,404.28000000000003,471.14,547.88,600.4,458.7,445.64,489.21999999999997,532.42,463.6,431.18,474.32000000000005,453.21999999999997,368.65999999999997,400.78,457.06000000000006,493.25999999999993,519.46,384.91999999999996,432.03999999999996,497.23999999999995,432.1,550.08,481.03999999999996,403.52,465.9,504.74000000000007,465.66,569.14,492.52,427.41999999999996,453.0,544.3,478.4,579.98,494.36,462.91999999999996,537.4,349.02000000000004,509.26000000000005,410.88,481.41999999999996,522.0,496.2,445.87999999999994,495.6,420.82,450.71999999999997,475.73999999999995,635.34,478.53999999999996,528.04,420.12,443.6,493.48,422.36,413.34,444.93999999999994,458.6,457.26000000000005,545.76,670.48,431.86,449.0,578.02,509.96000000000004,422.56000000000006,476.5799999999999,494.14,523.9399999999999,456.66,580.1800000000001,472.43999999999994,426.76000000000005,326.14,515.02,463.7200000000001,560.42,454.23999999999995,430.88,471.88,539.62,508.7799999999999,507.84,541.8399999999999,434.26000000000005,443.2,501.78000000000003,419.5,469.91999999999996,408.9,422.43999999999994,447.2799999999999,506.7,519.76,498.06000000000006,499.23999999999995,400.82,419.91999999999996,447.03999999999996,456.21999999999997,447.43999999999994,468.46000000000004,467.08000000000004,508.53999999999996,510.08000000000004,421.0,394.71999999999997,503.68,568.5600000000001,505.43999999999994,495.5,468.62,415.7,487.1,530.4,428.43999999999994,551.6,493.0,439.28000000000003,427.73999999999995,441.3,453.2,464.6,505.5,473.0200000000001,465.14,516.78,564.0600000000001,497.34,505.2799999999999,441.28000000000003,572.8599999999999,541.36,590.0,450.34,494.34,460.18,440.28000000000003,452.46000000000004,499.53999999999996,426.98,539.5,498.0,478.06000000000006,622.78,569.42,421.86,468.1,516.48,456.34,420.53999999999996,506.71999999999997,501.5,498.9,513.78,574.94,435.68,502.08000000000004,458.71999999999997,550.96,422.36,479.4,476.46000000000004,396.55999999999995,470.08000000000004,431.64,492.7,505.23999999999995,538.0,462.18,576.6,454.6,402.14,519.02,446.36,531.6,532.14,403.96,419.23999999999995,462.71999999999997,550.8399999999999,486.5,461.52,484.36,461.34,514.3399999999999,405.74,409.64,512.08,471.8,467.64,478.66,490.88,537.72,515.62,516.0,629.26,525.1800000000001,443.62,383.71999999999997,427.14,649.0600000000001,443.82,523.7,546.54,432.08000000000004,533.92,472.4,538.3,496.82,591.54,487.82000000000005,457.6,547.28,482.48,464.9200000000001,469.9,428.68,440.5,539.3,645.6200000000001,577.6200000000001,560.1800000000001,498.46000000000004,429.46000000000004,489.5200000000001,482.32,524.62,533.5,460.73999999999995,452.58000000000004,468.7799999999999,556.02,505.7,487.12,511.8,740.0600000000001,447.64000000000004,522.4399999999999,522.0799999999999,492.14,558.1,567.24,418.62,429.38,534.3599999999999,389.91999999999996,491.14,445.16,399.9,464.4,520.5600000000001,506.38,482.56000000000006,618.0600000000001,533.9,516.38,526.24,520.92,427.75999999999993,469.28000000000003,476.84,622.0600000000001,505.06000000000006,520.3,430.6,441.14,529.46,449.26000000000005,560.5,493.76000000000005,411.21999999999997,553.9399999999999,588.78,498.6,406.43999999999994,574.5600000000001,456.7200000000001,431.93999999999994,534.3799999999999,436.84,440.5200000000001,472.41999999999996,531.4399999999999,480.68,434.43999999999994,434.36,491.73999999999995,421.82,469.14,549.5600000000001,504.93999999999994,610.22,419.64,470.14,491.98,428.48,492.5,459.71999999999997,596.08,414.8,413.5,499.62,436.03999999999996,526.64,421.96000000000004,632.9200000000001,456.02,508.48,430.03999999999996,446.8,474.26000000000005,635.9,683.0600000000001,454.73999999999995,525.3399999999999,485.41999999999996,531.3599999999999,513.08,597.02,438.41999999999996,516.4200000000001,396.36,446.23999999999995,469.26000000000005,470.1,450.5200000000001,488.84,433.86,407.65999999999997,423.93999999999994,556.38,563.42,422.3,536.9399999999999,498.32,480.02,429.96000000000004,468.53999999999996,474.96000000000004,556.26,460.9,551.0600000000001,489.5799999999999,444.43999999999994,434.62000000000006,454.64,529.92,559.4799999999999,574.28,397.41999999999996,544.08,483.84,522.86,542.8199999999999,565.64,442.34,574.2,413.53999999999996,602.0200000000001,562.86,506.66,478.16,481.96000000000004,507.82,464.41999999999996,454.34,517.6,487.6,454.86,431.73999999999995,531.88,433.1,496.7,526.8399999999999,528.94,504.7,488.62,533.22,501.28000000000003,474.84,574.4,400.75999999999993,472.67999999999995,573.72,485.96000000000004,419.18,480.91999999999996,437.37999999999994,635.78,452.84,566.1600000000001,455.87999999999994,443.5799999999999,432.66,529.86,603.16,470.0799999999999,510.64,504.76000000000005,558.92,373.6,599.8199999999999,434.91999999999996,541.34,428.0,522.08,471.64,489.9,516.2,460.12,454.0200000000001,460.5400000000001,511.8,486.76000000000005,613.08,535.38,576.76,411.9200000000001,408.98,464.26000000000005,481.56000000000006,440.9599999999999,439.0,460.23999999999995,516.04,499.34,526.0600000000001,405.36,469.4,564.0600000000001,433.4799999999999,416.9,477.98,496.03999999999996,535.28,433.46000000000004,543.9799999999999,481.03999999999996,476.37999999999994,480.86,575.96,399.9,484.03999999999996,436.53999999999996,592.84,497.32,525.16,496.64,651.5600000000001,516.4,469.0,432.62,387.03999999999996,499.84,463.03999999999996,577.5200000000001,590.4200000000001,476.93999999999994,513.96,680.36,554.8799999999999,415.26000000000005,537.78,520.48,497.26000000000005,568.4,431.7,476.56000000000006,582.3,439.21999999999997,480.03999999999996,573.0200000000001,548.1800000000001,594.68,464.88,484.08000000000004,395.62,611.7,454.7799999999999,470.52,632.46,461.64,449.91999999999996,512.26,463.12,474.02,484.7,475.64,482.06000000000006,504.16,533.96,537.12,549.5600000000001,591.6400000000001,509.28000000000003,569.3399999999999,474.03999999999996,453.36,448.4,656.62,439.52,490.87999999999994,427.34,461.41999999999996,536.4799999999999,458.28000000000003,451.8,532.3,562.1,523.96,404.34,459.32,484.1,571.3199999999999,474.62,467.18,473.67999999999995,544.28,498.84,476.14,419.23999999999995,519.8199999999999,530.9399999999999,603.64,531.8399999999999,546.0799999999999,537.66,419.4,499.4799999999999,479.28000000000003,432.88,410.8,464.7200000000001,448.4799999999999,492.7,404.72,525.58,611.74,465.18,430.0799999999999,408.38,609.0600000000001,411.66,498.86,515.8,422.02,458.82,492.9799999999999,411.26000000000005,438.9,508.2,572.3599999999999,652.82,464.23999999999995,413.46000000000004,476.0,579.12,475.86,576.1400000000001,644.44,529.98,450.93999999999994,484.84,530.88,511.37999999999994,564.12,531.44,445.24000000000007,484.0200000000001,457.36,514.24,564.54,548.3399999999999,548.42,563.7,412.14,586.14,598.08,472.02,478.93999999999994,521.5799999999999,662.4,586.76,451.03999999999996,434.73999999999995,430.93999999999994,412.4200000000001,389.58000000000004,400.88,510.7,502.76000000000005,377.02,446.08000000000004,456.93999999999994,376.04,456.7799999999999,528.48,518.76,505.12,667.34,574.92,432.17999999999995,448.9,586.82,388.96000000000004,472.32000000000005,450.96000000000004,620.0,484.2,527.86,505.91999999999996,385.52,473.66,561.6800000000001,481.28000000000003,436.76000000000005,473.41999999999996,500.2200000000001,504.71999999999997,437.43999999999994,414.91999999999996,622.54,497.93999999999994,487.76000000000005,490.7799999999999,573.78,420.23999999999995,460.62,506.53999999999996,574.0600000000001,425.4799999999999,510.43999999999994,623.5,551.98,438.26000000000005,433.03999999999996,528.24,599.52,485.34,459.53999999999996,503.76000000000005,410.16,557.22,501.78000000000003,449.16,449.86,595.4200000000001,588.7,372.00000000000006,444.66,499.96000000000004,454.8,479.48,619.96,598.3,499.26000000000005,460.88,674.14,579.46,413.91999999999996,447.96000000000004,445.71999999999997,535.24,423.1,457.56000000000006,468.86,387.21999999999997,437.82000000000005,530.38,505.8,438.1,403.14,494.71999999999997,453.43999999999994,407.58000000000004,467.96000000000004,461.26000000000005,504.08000000000004,478.43999999999994,435.18,505.58000000000004,468.37999999999994,422.32,400.64,383.52,399.65999999999997,519.12,474.71999999999997,453.52,493.34,497.46000000000004,594.8199999999999,483.06000000000006,405.74,399.52000000000004,620.38,441.12,488.06000000000006,445.9799999999999,447.03999999999996,515.4399999999999,403.1,521.2,480.28000000000003,534.6,444.64,514.6,441.23999999999995,534.78,495.32,494.2,443.6,509.8,410.64,513.8399999999999,468.6,476.82,426.8,439.0200000000001,436.85999999999996,473.8,474.08000000000004,516.6600000000001,580.02,431.16,549.04,551.2,474.64,513.7,546.88,436.56000000000006,555.3399999999999,500.93999999999994,441.91999999999996,448.87999999999994,514.76,471.93999999999994,439.4,548.86,638.76,625.6400000000001,527.6600000000001,485.91999999999996,489.16,539.58,437.14,473.9799999999999,519.74,422.6,550.4799999999999,544.58,431.76000000000005,433.85999999999996,502.36,465.34,329.7,453.53999999999996,539.66,434.6,530.86,456.5799999999999,451.14,465.16,498.67999999999995,471.1,380.48,522.72,431.64,508.71999999999997,444.16,465.53999999999996,443.9,495.2,449.38,454.18,620.5,487.68,437.1,396.15999999999997,455.9,496.9,523.5400000000001,387.86,444.03999999999996,488.84,451.12,566.4200000000001,475.38,435.9,447.03999999999996,519.3,418.32,407.24,468.91999999999996,385.62,467.26000000000005,528.98,487.4,617.14,398.3,454.48,474.4200000000001,407.5,413.86,402.75999999999993,543.24,472.08000000000004,479.7,505.9,551.82,466.32000000000005,512.64,502.36,459.62000000000006,474.43999999999994,414.02,686.6,426.2799999999999,496.21999999999997,452.62000000000006,483.06000000000006,459.58000000000004,477.06000000000006,527.28,438.2200000000001,631.3,462.23999999999995,466.03999999999996,610.46,440.68,458.88,481.96000000000004,602.0,534.86,610.7,543.96,530.82,531.18,487.86,485.66,499.3,519.22,457.8,485.26000000000005,499.03999999999996,453.28000000000003,474.06000000000006,545.0799999999999,435.71999999999997,557.5600000000001,513.26,489.21999999999997,527.6600000000001,560.68,468.43999999999994,604.8399999999999,534.72,469.64,429.4,425.43999999999994,451.06000000000006,486.6,581.56,498.88,525.82,481.34,455.56000000000006,468.98,487.2200000000001,452.64,486.58000000000004,512.12,412.34,464.96000000000004,524.14,384.46000000000004,553.76,615.72,470.12000000000006,434.66,401.53999999999996,479.68,585.8399999999999,438.8,472.7,516.8199999999999,543.64,468.41999999999996,428.53999999999996,439.3,487.43999999999994,449.1,406.9599999999999,425.53999999999996,514.8,534.3399999999999,405.46000000000004,418.93999999999994,410.14,596.12,499.56000000000006,400.0,569.38,439.41999999999996,361.56,526.5600000000001,476.66,424.62000000000006,600.64,465.88,552.0,457.16,476.23999999999995,457.46000000000004,534.6600000000001,396.26000000000005,543.52,463.64,441.64,437.93999999999994,489.82,417.9,446.32000000000005,617.96,574.64,498.08000000000004,491.43999999999994,601.8399999999999,442.4,457.73999999999995,482.2,456.26000000000005,449.34,574.5200000000001,450.5,460.8,508.56000000000006,443.6,447.78000000000003,423.37999999999994,553.12,530.54,640.1600000000001,543.0200000000001,446.6,600.4,498.88,450.43999999999994,625.5200000000001,444.9799999999999,535.76,531.0600000000001,471.73999999999995,525.3799999999999,486.73999999999995,555.4,433.16,599.14,472.84,539.62,427.16,550.96,396.3,507.36,494.14,512.4,475.28000000000003,455.86,549.88,607.54,411.34,443.5,430.78000000000003,482.9200000000001,602.1,430.14,377.9,556.82,398.90000000000003,374.88,516.9799999999999,410.9200000000001,424.7,539.8399999999999,531.4,538.0,595.8399999999999,376.84,469.23999999999995,427.12,471.58000000000004,534.5,523.88,434.2,460.82000000000005,479.73999999999995,505.1,512.34,436.52,438.3,519.0,489.53999999999996,521.8399999999999,435.56000000000006,452.7,457.5,396.98,586.76,614.9599999999999,458.6,512.96,481.73999999999995,491.84,401.30000000000007,529.36,467.64,432.12000000000006,388.94,492.32000000000005,403.12,497.3,428.73999999999995,441.6,340.71999999999997,494.85999999999996,501.3,477.88,520.38,533.1400000000001,522.62,659.28,500.23999999999995,347.9,472.9,427.73999999999995,515.4,550.4399999999999,425.5,457.71999999999997,405.28000000000003,361.53999999999996,556.74,457.1,420.6,454.3,431.23999999999995,523.1,447.12000000000006,495.1,480.38,449.62,508.06000000000006,487.1,613.7,405.91999999999996,550.8199999999999,576.6600000000001,618.76,566.26,511.16,508.98,529.18,452.14,428.2,552.3199999999999,451.2799999999999,429.82000000000005,478.26000000000005,442.32,453.0200000000001,554.74,507.36,524.78,486.24000000000007,433.98,484.8,611.72,503.26000000000005,415.02,474.4799999999999,441.7799999999999,426.66,438.58000000000004,483.14000000000004,501.96000000000004,506.73999999999995,454.4,495.9,420.62,472.1,395.38,501.8,615.9399999999999,392.86,422.7200000000001,557.6,497.93999999999994,623.1200000000001,450.43999999999994,500.7799999999999,510.21999999999997,494.17999999999995,435.23999999999995,460.73999999999995,467.6,465.6,473.34,547.62,412.21999999999997,455.64,563.3399999999999,537.88,498.88,431.34,466.4,440.5,430.4,537.1,565.3199999999999,534.24,409.64,559.7,379.4,511.64,458.7799999999999,622.98,425.26000000000005,575.26,488.3,429.32,411.9799999999999,453.86,442.87999999999994,414.66,464.8,552.22,555.52,388.74,507.3,480.64,561.1400000000001,594.86,431.76000000000005,554.0600000000001,438.06000000000006,466.53999999999996,465.26000000000005,480.41999999999996,397.4,465.06000000000006,456.02,529.78,472.66,439.28000000000003,523.74,436.0,443.37999999999994,455.96000000000004,459.64,491.4,407.3,457.17999999999995,419.03999999999996,617.36,523.5,589.8199999999999,391.82,532.48,405.06,449.12,575.62,400.2,481.52,609.86,496.23999999999995,549.8,389.4,488.82,558.1,549.74,472.56000000000006,494.21999999999997,448.9,392.02,468.17999999999995,548.46,402.68,596.7,533.5,449.68,453.12,357.78000000000003,438.1,485.16,566.48,512.1800000000001,414.7,483.21999999999997,420.82,487.5799999999999,467.62000000000006,445.23999999999995,487.41999999999996,596.04,480.2200000000001,457.5,426.12,427.82,638.96,494.18,507.0,468.03999999999996,597.8,601.3,559.24,501.9,478.7,505.62,569.52,395.88,413.18,427.02,469.68,506.14000000000004,547.4200000000001,418.5,471.76000000000005,417.32000000000005,451.86,390.43999999999994,429.4,545.1800000000001,600.66,596.48,434.32,443.06000000000006,509.34,425.3,494.73999999999995,424.2,449.34,518.2,476.82,588.0200000000001,468.06000000000006,536.4799999999999,573.3199999999999,417.16,460.0799999999999,571.42,509.0,438.48,448.4,428.18,512.26,449.21999999999997,556.9200000000001,521.8,486.08000000000004,534.36,509.34,477.08000000000004,397.91999999999996,554.36,538.64,539.1600000000001,471.58000000000004,548.26,431.66,614.58,490.0,500.02,441.28000000000003,474.37999999999994,483.58000000000004,355.0,566.46,632.6800000000001,431.58000000000004,618.04,513.26,453.4,466.06000000000006,471.32000000000005,451.67999999999995,406.4,461.93999999999994,459.98,449.16,570.0,402.12,448.56000000000006,602.24,519.3,414.68,423.82,555.22,562.42,433.16,446.23999999999995,497.58000000000004,647.44,455.64,533.0600000000001,460.08000000000004,528.5600000000001,434.76000000000005,436.18,491.23999999999995,562.64,482.06000000000006,434.36,509.84,446.06000000000006,512.1200000000001,411.36,432.82,402.75999999999993,483.14,429.48,506.82,418.82000000000005,481.32,519.7,504.34,481.84,436.84,410.41999999999996,494.3,453.67999999999995,484.23999999999995,507.2,531.4,504.58000000000004,427.1,627.28,488.36,383.48,430.36,580.4,451.23999999999995,462.73999999999995,593.46,456.68,512.6800000000001,459.84,405.68,447.21999999999997,573.3199999999999,516.9200000000001,436.32,456.8,647.3199999999999,628.78,623.3199999999999,603.78,446.06000000000006,460.4,457.6,462.28000000000003,436.96000000000004,473.17999999999995,437.76000000000005,508.52,407.23999999999995,660.14,494.9200000000001,465.26000000000005,443.64,529.6800000000001,435.66,571.76,572.58,497.0799999999999,556.3199999999999,450.06000000000006,410.76000000000005,554.8,492.08000000000004,604.7,473.64,452.2,393.43999999999994,408.32,430.76000000000005,478.64,521.76,422.17999999999995,407.03999999999996,499.98,454.84,383.32,515.74,429.7799999999999,446.43999999999994,442.9,472.23999999999995,563.14,461.34,443.34000000000003,477.12,454.17999999999995,427.23999999999995,478.6,473.02,477.9599999999999,495.9,458.62,455.58000000000004,476.62,490.1,591.1800000000001,556.58,394.9,477.62,592.74,456.14,400.1,455.8,456.9,579.78,513.62,478.32,515.9,440.1,489.03999999999996,464.78000000000003,425.62,532.26,425.93999999999994,404.54,537.9,471.64,468.21999999999997,539.0600000000001,534.08,460.9,536.08,556.1600000000001,476.23999999999995,528.64,498.86,470.78000000000003,518.88,403.58,472.67999999999995,561.72,477.23999999999995,525.24,438.7200000000001,413.0,394.42,447.1,479.0799999999999,457.0,490.36,435.43999999999994,383.44,530.8399999999999,501.3,367.21999999999997,450.4799999999999,473.52,458.76000000000005,511.98,561.58,533.0600000000001,475.36,493.06000000000006,427.43999999999994,571.0,525.52,398.84,447.2,475.6,534.0,381.64,439.52,631.72,432.96000000000004,404.36,440.06000000000006,497.26000000000005,531.54,464.84,507.5,450.56000000000006,487.73999999999995,504.28000000000003,434.06000000000006,455.64,523.88,490.12,474.67999999999995,752.6199999999999,481.1,404.18,434.03999999999996,466.5799999999999,447.98,439.84,589.6,490.82,473.76000000000005,581.52,446.5,454.9,436.64,474.48,452.3,457.73999999999995,490.2,443.2,524.02,523.74,524.0600000000001,454.7,486.6,408.91999999999996,534.48,426.5400000000001,436.53999999999996,415.4200000000001,501.3,505.58000000000004,493.68,416.56000000000006,477.71999999999997,462.56000000000006,504.98,482.14,473.03999999999996,440.98,510.9,448.1,381.93999999999994,491.3,533.6200000000001,428.0,498.86,435.03999999999996,424.88,407.38,493.38,401.92,440.94000000000005,397.68,418.71999999999997,482.14,444.9,445.2,498.94000000000005,443.7,494.93999999999994,527.46,474.06000000000006,424.87999999999994,433.8,413.71999999999997,488.73999999999995,389.28000000000003,417.7,398.92,455.4,491.96000000000004,484.93999999999994,427.1,455.3,461.4799999999999,430.21999999999997,562.08,480.98,514.7,430.06000000000006,434.5,418.84,428.12000000000006,435.14,440.9,441.08000000000004,444.96000000000004,440.56000000000006,422.58000000000004,469.8,491.6,383.71999999999997,401.0,494.78000000000003,457.56000000000006,473.38,549.6800000000001,430.91999999999996,419.85999999999996,448.4,501.7,512.68,455.14,453.3,416.9200000000001,484.86,434.98,420.91999999999996,488.66,567.02,410.68,535.38,392.84000000000003,453.14,527.0,497.8,424.8,517.4,535.1600000000001,417.68,447.03999999999996,399.30000000000007,423.86,449.8,448.76000000000005,494.78000000000003,526.6600000000001,537.78,470.5,500.26000000000005,368.76,559.36,480.0400000000001,569.62,417.58000000000004,455.48,534.48,497.14,491.62,526.2,470.36,563.0799999999999,427.5400000000001,542.98,424.82,454.41999999999996,419.82000000000005,434.53999999999996,479.76000000000005,460.86,476.36,515.5799999999999,479.3,467.6,449.28000000000003,495.16,417.06000000000006,496.43999999999994,481.56000000000006,453.38,440.82,437.38,566.9399999999999,447.64,434.38,515.92,418.03999999999996,445.88,614.8399999999999,464.03999999999996,451.43999999999994,566.0600000000001,398.34000000000003,460.46000000000004,411.7,422.84,447.1,456.96000000000004,470.38,433.53999999999996,521.3,454.98,480.82,496.34,422.43999999999994,504.18,438.08000000000004,508.43999999999994,476.58000000000004,455.06000000000006,515.2,463.14,520.8,549.6600000000001,623.86,509.21999999999997,509.48,370.7,417.08000000000004,432.62000000000006,430.46000000000004,551.26,517.1400000000001,625.6400000000001,585.58,413.2,526.54,501.62000000000006,489.64,487.94000000000005,433.17999999999995,482.66,483.84,452.12000000000006,408.96,468.3,473.38,434.68,430.28000000000003,484.82,396.66,594.78,419.52,504.46000000000004,489.21999999999997,539.58,464.0799999999999,507.68,516.32,526.28,472.4599999999999,556.04,408.43999999999994,411.43999999999994,473.56000000000006,441.87999999999994,557.88,408.02,476.96000000000004,442.41999999999996,522.12,495.18,458.21999999999997,421.86,494.02,457.38,447.78000000000003,421.64,442.46000000000004,468.58000000000004,498.48,466.28000000000003,467.32,561.74,448.9,400.23999999999995,503.66,500.78000000000003,403.12,438.46000000000004,593.0400000000001,458.76000000000005,408.56000000000006,528.06,500.53999999999996,458.21999999999997,423.68,421.41999999999996,560.96,495.98,483.7799999999999,469.26000000000005,556.64,491.68,480.64,437.16,495.36,436.7,456.2,447.84,501.2,511.21999999999997,457.67999999999995,406.12,397.53999999999996,500.34,406.54,449.71999999999997,533.24,532.04,440.78000000000003,497.52,496.37999999999994,433.87999999999994,588.3599999999999,503.0,421.5,419.2200000000001,505.16,453.03999999999996,419.36,519.46,442.43999999999994,484.8,422.23999999999995,410.7200000000001,504.66,441.23999999999995,443.46000000000004,520.6800000000001,430.78000000000003,470.3,419.37999999999994,476.86,435.58000000000004,460.1,446.88,470.8,438.16,503.41999999999996,475.28000000000003,580.72,412.06000000000006,420.21999999999997,459.48,561.88,589.6600000000001,577.16,368.82,401.23999999999995,423.64,342.7,471.02,445.32,389.46000000000004,512.36,487.28000000000003,377.9,428.9200000000001,437.52,490.53999999999996,438.56000000000006,397.56,532.06,404.42,490.14,500.41999999999996,457.2200000000001,483.7200000000001,438.98,526.8199999999999,566.64,442.86,522.0200000000001,495.14,458.71999999999997,410.2799999999999,442.66,482.56000000000006,513.5400000000001,569.6200000000001,473.84,492.37999999999994,482.44000000000005,491.48,540.04,445.7,502.7799999999999,417.86,553.7,484.03999999999996,495.84,435.46000000000004,573.02,562.4,422.62000000000006,483.43999999999994,510.5,473.35999999999996,432.36,442.0,381.41999999999996,482.14,450.5200000000001,459.75999999999993,409.3,365.4,410.32000000000005,465.34000000000003,376.64,513.4,446.36,522.28,503.02,425.38,444.4799999999999,488.7799999999999,503.5,421.43999999999994,460.91999999999996,631.8799999999999,432.91999999999996,480.48,578.0799999999999,452.86,429.48,443.32,495.06000000000006,393.62,505.62,484.53999999999996,529.8,473.32,552.34,497.4799999999999,637.22,470.14,408.4599999999999,461.6,485.71999999999997,450.46000000000004,517.58,528.1600000000001,492.12000000000006,391.14,463.06000000000006,405.78000000000003,405.58000000000004,459.14,438.9,415.23999999999995,484.32000000000005,456.26000000000005,457.41999999999996,476.23999999999995,447.4,442.06000000000006,434.8,544.8,473.02,451.82,544.8599999999999,576.48,433.91999999999996,406.34000000000003,419.7,402.28000000000003,491.1,403.02,391.82,561.78,446.26000000000005,499.0,431.16,467.88,414.24000000000007,495.3,444.8,526.78,422.8,443.18,426.06000000000006,561.58,432.38,465.5,472.9799999999999,589.7,532.9399999999999,520.86,453.4,495.88,488.03999999999996,560.98,440.58000000000004,462.71999999999997,438.43999999999994,532.28,450.4,463.96000000000004,427.53999999999996,404.54,467.4799999999999,502.36,452.66,386.08000000000004,481.0799999999999,405.82,461.73999999999995,400.78,480.4799999999999,392.04,465.4,474.36,441.2,423.9,538.4399999999999,407.62,433.38,446.84,448.76000000000005,468.05999999999995,389.55999999999995,510.64,436.48,486.71999999999997,409.41999999999996,395.82,391.18,412.41999999999996,506.08000000000004,450.28000000000003,469.73999999999995,424.68,458.93999999999994,528.5400000000001,469.86,451.14,460.05999999999995,463.4,459.06000000000006,386.32,425.53999999999996,395.12,459.8,370.84,441.0,501.26000000000005],\"xaxis\":\"x2\",\"yaxis\":\"y2\",\"type\":\"box\"},{\"alignmentgroup\":\"True\",\"bingroup\":\"x\",\"histnorm\":\"percent\",\"hovertemplate\":\"TP_ESCOLA=privada<br>NOTA_FINAL=%{x}<br>percent=%{y}<extra></extra>\",\"legendgroup\":\"privada\",\"marker\":{\"color\":\"#00FE35\",\"pattern\":{\"shape\":\"\"}},\"name\":\"privada\",\"offsetgroup\":\"privada\",\"orientation\":\"v\",\"showlegend\":true,\"x\":[677.1800000000001,682.2,695.4399999999999,730.74,629.1,666.52,716.0799999999999,606.08,562.12,739.24,692.08,703.42,568.04,610.9,567.26,653.7,672.0,610.9799999999999,572.9,630.0,535.08,607.2,607.3799999999999,555.4,620.48,668.6800000000001,526.92,775.64,599.82,681.98,743.0199999999999,666.72,689.8399999999999,538.1800000000001,650.44,502.26000000000005,576.3399999999999,587.5400000000001,548.96,447.48,617.88,671.32,586.52,586.1600000000001,648.58,576.38,580.12,611.86,742.14,577.78,545.98,572.5600000000001,544.22,544.98,596.92,572.46,617.28,494.5200000000001,628.9,586.8599999999999,655.26,699.4,691.34,569.78,613.34,477.62000000000006,557.54,515.0400000000001,478.9,485.32,665.8199999999999,659.32,527.86,429.32,646.6200000000001,532.0200000000001,579.1600000000001,541.1800000000001,502.94000000000005,669.26,544.14,628.64,619.2,558.6600000000001,615.88,439.3,582.54,430.86,477.8,696.3199999999999,569.82,500.2799999999999,552.9,665.9799999999999,545.62,536.46,573.04,730.8199999999999,601.54,688.2,759.1600000000001,737.38,531.8199999999999,544.02,634.8599999999999,582.4799999999999,663.78,536.72,750.4399999999999,663.78,487.08000000000004,519.24,599.2,655.9799999999999,461.28000000000003,708.14,581.46,698.5200000000001,663.3199999999999,628.32,588.76,589.68,512.96,616.74,762.78,741.48,651.1800000000001,630.48,582.52,599.48,634.48,551.24,507.53999999999996,564.8199999999999,633.5600000000001,486.76000000000005,746.22,592.1,425.91999999999996,592.6600000000001,511.02,605.26,510.5200000000001,620.1,470.28000000000003,669.6,431.48,542.5,529.0200000000001,525.78,486.3,528.64,636.3,587.3199999999999,605.36,705.2,480.0,738.1600000000001,567.0,581.36,557.88,465.14,590.38,586.9200000000001,684.92,706.3399999999999,597.54,546.1600000000001,511.73999999999995,528.24,701.0600000000001,481.34,540.5200000000001,548.28,673.46,677.48,581.1600000000001,634.7,505.88,473.48,710.48,543.04,612.7,701.02,682.26,618.5400000000001,706.1,713.64,594.8199999999999,602.78,512.14,531.7,665.62,526.72,513.8199999999999,530.24,557.58,430.6,689.72,617.9,614.1600000000001,642.96,638.1600000000001,573.1,540.24,483.58000000000004,553.28,643.8199999999999,620.5400000000001,636.5600000000001,637.82,684.56,576.0,765.3199999999999,711.6,551.46,644.76,576.74,458.46000000000004,550.0600000000001,606.24,730.3,733.28,689.1800000000001,423.3,451.23999999999995,469.26000000000005,470.91999999999996,728.8,665.9,536.9399999999999,617.04,511.03999999999996,477.03999999999996,572.5,613.86,519.96,643.08,608.1600000000001,684.8399999999999,459.9799999999999,620.9399999999999,542.78,702.54,494.0799999999999,444.03999999999996,498.93999999999994,561.52,405.94,541.28,645.38,648.5600000000001,653.14,530.88,568.0,663.5600000000001,623.62,447.88,527.02,568.7,646.46,483.96000000000004,546.08,547.3599999999999,590.7,658.68,547.0600000000001,623.42,549.1,573.86,593.2,459.68,542.74,573.98,471.8,564.48,702.8399999999999,520.36,544.1800000000001,530.3,509.96000000000004,609.22,558.08,666.4799999999999,548.8799999999999,586.64,678.54,657.6600000000001,459.64,442.68,500.52,470.91999999999996,477.28000000000003,498.2,609.12,493.68,526.7,641.76,564.6800000000001,520.72,591.9,452.16,400.3,521.04,543.8199999999999,602.46,565.6,561.0600000000001,588.28,584.1,509.1,482.34,461.23999999999995,574.52,543.42,603.58,600.76,531.22,599.8,556.2,557.4,618.82,563.5600000000001,586.74,566.5600000000001,452.2200000000001,645.46,508.93999999999994,520.96,581.42,504.23999999999995,490.98,488.6,546.4399999999999,635.5600000000001,570.46,488.64,657.0400000000001,569.6400000000001,549.08,597.72,512.6,405.21999999999997,652.46,527.2,547.86,643.1800000000001,575.8,655.3199999999999,537.92,525.5,630.98,551.14,612.58,571.3,577.0,546.72,705.3,714.48,497.2,548.0799999999999,431.3,721.58,615.74,470.2799999999999,465.17999999999995,543.86,476.36,494.26000000000005,469.73999999999995,563.76,559.9399999999999,666.4599999999999,713.2,437.2,521.72,552.2,512.8199999999999,513.62,443.96000000000004,599.76,493.58000000000004,559.8799999999999,528.24,479.26000000000005,546.9399999999999,670.8399999999999,637.14,639.28,585.46,648.9399999999999,485.5,755.1600000000001,691.74,583.66,543.9799999999999,683.42,565.6200000000001,597.76,733.8,443.56000000000006,596.4,552.6200000000001,480.53999999999996,619.24,595.52,515.22,521.7,620.4200000000001,587.5,480.71999999999997,532.52,657.4599999999999,486.02,494.52,708.48,596.84,642.6800000000001,644.42,562.6800000000001,549.88,502.91999999999996,496.66,541.22,436.17999999999995,517.3199999999999,468.03999999999996,618.8399999999999,584.02,416.82,658.38,546.1,535.02,550.1600000000001,490.16,470.08000000000004,597.48,646.88,531.06,648.4200000000001,701.98,486.1,640.88,450.67999999999995,497.58000000000004,536.14,465.1,456.16,400.30000000000007,448.05999999999995,640.5199999999999,577.04,437.34,500.64,510.64,585.6,579.64,620.92,660.1800000000001,418.37999999999994,431.14,493.32,410.38,645.86,549.6600000000001,565.48,621.54,680.1400000000001,509.93999999999994,610.36,501.9799999999999,597.0600000000001,397.74,516.8399999999999,645.28,571.02,546.2,508.52],\"xaxis\":\"x\",\"yaxis\":\"y\",\"type\":\"histogram\"},{\"alignmentgroup\":\"True\",\"boxpoints\":\"all\",\"fillcolor\":\"rgba(255,255,255,0)\",\"hoveron\":\"points\",\"hovertemplate\":\"TP_ESCOLA=privada<br>NOTA_FINAL=%{x}<extra></extra>\",\"jitter\":0,\"legendgroup\":\"privada\",\"line\":{\"color\":\"rgba(255,255,255,0)\"},\"marker\":{\"color\":\"#00FE35\",\"symbol\":\"line-ns-open\"},\"name\":\"privada\",\"offsetgroup\":\"privada\",\"showlegend\":false,\"x\":[677.1800000000001,682.2,695.4399999999999,730.74,629.1,666.52,716.0799999999999,606.08,562.12,739.24,692.08,703.42,568.04,610.9,567.26,653.7,672.0,610.9799999999999,572.9,630.0,535.08,607.2,607.3799999999999,555.4,620.48,668.6800000000001,526.92,775.64,599.82,681.98,743.0199999999999,666.72,689.8399999999999,538.1800000000001,650.44,502.26000000000005,576.3399999999999,587.5400000000001,548.96,447.48,617.88,671.32,586.52,586.1600000000001,648.58,576.38,580.12,611.86,742.14,577.78,545.98,572.5600000000001,544.22,544.98,596.92,572.46,617.28,494.5200000000001,628.9,586.8599999999999,655.26,699.4,691.34,569.78,613.34,477.62000000000006,557.54,515.0400000000001,478.9,485.32,665.8199999999999,659.32,527.86,429.32,646.6200000000001,532.0200000000001,579.1600000000001,541.1800000000001,502.94000000000005,669.26,544.14,628.64,619.2,558.6600000000001,615.88,439.3,582.54,430.86,477.8,696.3199999999999,569.82,500.2799999999999,552.9,665.9799999999999,545.62,536.46,573.04,730.8199999999999,601.54,688.2,759.1600000000001,737.38,531.8199999999999,544.02,634.8599999999999,582.4799999999999,663.78,536.72,750.4399999999999,663.78,487.08000000000004,519.24,599.2,655.9799999999999,461.28000000000003,708.14,581.46,698.5200000000001,663.3199999999999,628.32,588.76,589.68,512.96,616.74,762.78,741.48,651.1800000000001,630.48,582.52,599.48,634.48,551.24,507.53999999999996,564.8199999999999,633.5600000000001,486.76000000000005,746.22,592.1,425.91999999999996,592.6600000000001,511.02,605.26,510.5200000000001,620.1,470.28000000000003,669.6,431.48,542.5,529.0200000000001,525.78,486.3,528.64,636.3,587.3199999999999,605.36,705.2,480.0,738.1600000000001,567.0,581.36,557.88,465.14,590.38,586.9200000000001,684.92,706.3399999999999,597.54,546.1600000000001,511.73999999999995,528.24,701.0600000000001,481.34,540.5200000000001,548.28,673.46,677.48,581.1600000000001,634.7,505.88,473.48,710.48,543.04,612.7,701.02,682.26,618.5400000000001,706.1,713.64,594.8199999999999,602.78,512.14,531.7,665.62,526.72,513.8199999999999,530.24,557.58,430.6,689.72,617.9,614.1600000000001,642.96,638.1600000000001,573.1,540.24,483.58000000000004,553.28,643.8199999999999,620.5400000000001,636.5600000000001,637.82,684.56,576.0,765.3199999999999,711.6,551.46,644.76,576.74,458.46000000000004,550.0600000000001,606.24,730.3,733.28,689.1800000000001,423.3,451.23999999999995,469.26000000000005,470.91999999999996,728.8,665.9,536.9399999999999,617.04,511.03999999999996,477.03999999999996,572.5,613.86,519.96,643.08,608.1600000000001,684.8399999999999,459.9799999999999,620.9399999999999,542.78,702.54,494.0799999999999,444.03999999999996,498.93999999999994,561.52,405.94,541.28,645.38,648.5600000000001,653.14,530.88,568.0,663.5600000000001,623.62,447.88,527.02,568.7,646.46,483.96000000000004,546.08,547.3599999999999,590.7,658.68,547.0600000000001,623.42,549.1,573.86,593.2,459.68,542.74,573.98,471.8,564.48,702.8399999999999,520.36,544.1800000000001,530.3,509.96000000000004,609.22,558.08,666.4799999999999,548.8799999999999,586.64,678.54,657.6600000000001,459.64,442.68,500.52,470.91999999999996,477.28000000000003,498.2,609.12,493.68,526.7,641.76,564.6800000000001,520.72,591.9,452.16,400.3,521.04,543.8199999999999,602.46,565.6,561.0600000000001,588.28,584.1,509.1,482.34,461.23999999999995,574.52,543.42,603.58,600.76,531.22,599.8,556.2,557.4,618.82,563.5600000000001,586.74,566.5600000000001,452.2200000000001,645.46,508.93999999999994,520.96,581.42,504.23999999999995,490.98,488.6,546.4399999999999,635.5600000000001,570.46,488.64,657.0400000000001,569.6400000000001,549.08,597.72,512.6,405.21999999999997,652.46,527.2,547.86,643.1800000000001,575.8,655.3199999999999,537.92,525.5,630.98,551.14,612.58,571.3,577.0,546.72,705.3,714.48,497.2,548.0799999999999,431.3,721.58,615.74,470.2799999999999,465.17999999999995,543.86,476.36,494.26000000000005,469.73999999999995,563.76,559.9399999999999,666.4599999999999,713.2,437.2,521.72,552.2,512.8199999999999,513.62,443.96000000000004,599.76,493.58000000000004,559.8799999999999,528.24,479.26000000000005,546.9399999999999,670.8399999999999,637.14,639.28,585.46,648.9399999999999,485.5,755.1600000000001,691.74,583.66,543.9799999999999,683.42,565.6200000000001,597.76,733.8,443.56000000000006,596.4,552.6200000000001,480.53999999999996,619.24,595.52,515.22,521.7,620.4200000000001,587.5,480.71999999999997,532.52,657.4599999999999,486.02,494.52,708.48,596.84,642.6800000000001,644.42,562.6800000000001,549.88,502.91999999999996,496.66,541.22,436.17999999999995,517.3199999999999,468.03999999999996,618.8399999999999,584.02,416.82,658.38,546.1,535.02,550.1600000000001,490.16,470.08000000000004,597.48,646.88,531.06,648.4200000000001,701.98,486.1,640.88,450.67999999999995,497.58000000000004,536.14,465.1,456.16,400.30000000000007,448.05999999999995,640.5199999999999,577.04,437.34,500.64,510.64,585.6,579.64,620.92,660.1800000000001,418.37999999999994,431.14,493.32,410.38,645.86,549.6600000000001,565.48,621.54,680.1400000000001,509.93999999999994,610.36,501.9799999999999,597.0600000000001,397.74,516.8399999999999,645.28,571.02,546.2,508.52],\"xaxis\":\"x2\",\"yaxis\":\"y2\",\"type\":\"box\"}],                        {\"template\":{\"data\":{\"bar\":[{\"error_x\":{\"color\":\"#2a3f5f\"},\"error_y\":{\"color\":\"#2a3f5f\"},\"marker\":{\"line\":{\"color\":\"#E5ECF6\",\"width\":0.5},\"pattern\":{\"fillmode\":\"overlay\",\"size\":10,\"solidity\":0.2}},\"type\":\"bar\"}],\"barpolar\":[{\"marker\":{\"line\":{\"color\":\"#E5ECF6\",\"width\":0.5},\"pattern\":{\"fillmode\":\"overlay\",\"size\":10,\"solidity\":0.2}},\"type\":\"barpolar\"}],\"carpet\":[{\"aaxis\":{\"endlinecolor\":\"#2a3f5f\",\"gridcolor\":\"white\",\"linecolor\":\"white\",\"minorgridcolor\":\"white\",\"startlinecolor\":\"#2a3f5f\"},\"baxis\":{\"endlinecolor\":\"#2a3f5f\",\"gridcolor\":\"white\",\"linecolor\":\"white\",\"minorgridcolor\":\"white\",\"startlinecolor\":\"#2a3f5f\"},\"type\":\"carpet\"}],\"choropleth\":[{\"colorbar\":{\"outlinewidth\":0,\"ticks\":\"\"},\"type\":\"choropleth\"}],\"contour\":[{\"colorbar\":{\"outlinewidth\":0,\"ticks\":\"\"},\"colorscale\":[[0.0,\"#0d0887\"],[0.1111111111111111,\"#46039f\"],[0.2222222222222222,\"#7201a8\"],[0.3333333333333333,\"#9c179e\"],[0.4444444444444444,\"#bd3786\"],[0.5555555555555556,\"#d8576b\"],[0.6666666666666666,\"#ed7953\"],[0.7777777777777778,\"#fb9f3a\"],[0.8888888888888888,\"#fdca26\"],[1.0,\"#f0f921\"]],\"type\":\"contour\"}],\"contourcarpet\":[{\"colorbar\":{\"outlinewidth\":0,\"ticks\":\"\"},\"type\":\"contourcarpet\"}],\"heatmap\":[{\"colorbar\":{\"outlinewidth\":0,\"ticks\":\"\"},\"colorscale\":[[0.0,\"#0d0887\"],[0.1111111111111111,\"#46039f\"],[0.2222222222222222,\"#7201a8\"],[0.3333333333333333,\"#9c179e\"],[0.4444444444444444,\"#bd3786\"],[0.5555555555555556,\"#d8576b\"],[0.6666666666666666,\"#ed7953\"],[0.7777777777777778,\"#fb9f3a\"],[0.8888888888888888,\"#fdca26\"],[1.0,\"#f0f921\"]],\"type\":\"heatmap\"}],\"heatmapgl\":[{\"colorbar\":{\"outlinewidth\":0,\"ticks\":\"\"},\"colorscale\":[[0.0,\"#0d0887\"],[0.1111111111111111,\"#46039f\"],[0.2222222222222222,\"#7201a8\"],[0.3333333333333333,\"#9c179e\"],[0.4444444444444444,\"#bd3786\"],[0.5555555555555556,\"#d8576b\"],[0.6666666666666666,\"#ed7953\"],[0.7777777777777778,\"#fb9f3a\"],[0.8888888888888888,\"#fdca26\"],[1.0,\"#f0f921\"]],\"type\":\"heatmapgl\"}],\"histogram\":[{\"marker\":{\"pattern\":{\"fillmode\":\"overlay\",\"size\":10,\"solidity\":0.2}},\"type\":\"histogram\"}],\"histogram2d\":[{\"colorbar\":{\"outlinewidth\":0,\"ticks\":\"\"},\"colorscale\":[[0.0,\"#0d0887\"],[0.1111111111111111,\"#46039f\"],[0.2222222222222222,\"#7201a8\"],[0.3333333333333333,\"#9c179e\"],[0.4444444444444444,\"#bd3786\"],[0.5555555555555556,\"#d8576b\"],[0.6666666666666666,\"#ed7953\"],[0.7777777777777778,\"#fb9f3a\"],[0.8888888888888888,\"#fdca26\"],[1.0,\"#f0f921\"]],\"type\":\"histogram2d\"}],\"histogram2dcontour\":[{\"colorbar\":{\"outlinewidth\":0,\"ticks\":\"\"},\"colorscale\":[[0.0,\"#0d0887\"],[0.1111111111111111,\"#46039f\"],[0.2222222222222222,\"#7201a8\"],[0.3333333333333333,\"#9c179e\"],[0.4444444444444444,\"#bd3786\"],[0.5555555555555556,\"#d8576b\"],[0.6666666666666666,\"#ed7953\"],[0.7777777777777778,\"#fb9f3a\"],[0.8888888888888888,\"#fdca26\"],[1.0,\"#f0f921\"]],\"type\":\"histogram2dcontour\"}],\"mesh3d\":[{\"colorbar\":{\"outlinewidth\":0,\"ticks\":\"\"},\"type\":\"mesh3d\"}],\"parcoords\":[{\"line\":{\"colorbar\":{\"outlinewidth\":0,\"ticks\":\"\"}},\"type\":\"parcoords\"}],\"pie\":[{\"automargin\":true,\"type\":\"pie\"}],\"scatter\":[{\"marker\":{\"colorbar\":{\"outlinewidth\":0,\"ticks\":\"\"}},\"type\":\"scatter\"}],\"scatter3d\":[{\"line\":{\"colorbar\":{\"outlinewidth\":0,\"ticks\":\"\"}},\"marker\":{\"colorbar\":{\"outlinewidth\":0,\"ticks\":\"\"}},\"type\":\"scatter3d\"}],\"scattercarpet\":[{\"marker\":{\"colorbar\":{\"outlinewidth\":0,\"ticks\":\"\"}},\"type\":\"scattercarpet\"}],\"scattergeo\":[{\"marker\":{\"colorbar\":{\"outlinewidth\":0,\"ticks\":\"\"}},\"type\":\"scattergeo\"}],\"scattergl\":[{\"marker\":{\"colorbar\":{\"outlinewidth\":0,\"ticks\":\"\"}},\"type\":\"scattergl\"}],\"scattermapbox\":[{\"marker\":{\"colorbar\":{\"outlinewidth\":0,\"ticks\":\"\"}},\"type\":\"scattermapbox\"}],\"scatterpolar\":[{\"marker\":{\"colorbar\":{\"outlinewidth\":0,\"ticks\":\"\"}},\"type\":\"scatterpolar\"}],\"scatterpolargl\":[{\"marker\":{\"colorbar\":{\"outlinewidth\":0,\"ticks\":\"\"}},\"type\":\"scatterpolargl\"}],\"scatterternary\":[{\"marker\":{\"colorbar\":{\"outlinewidth\":0,\"ticks\":\"\"}},\"type\":\"scatterternary\"}],\"surface\":[{\"colorbar\":{\"outlinewidth\":0,\"ticks\":\"\"},\"colorscale\":[[0.0,\"#0d0887\"],[0.1111111111111111,\"#46039f\"],[0.2222222222222222,\"#7201a8\"],[0.3333333333333333,\"#9c179e\"],[0.4444444444444444,\"#bd3786\"],[0.5555555555555556,\"#d8576b\"],[0.6666666666666666,\"#ed7953\"],[0.7777777777777778,\"#fb9f3a\"],[0.8888888888888888,\"#fdca26\"],[1.0,\"#f0f921\"]],\"type\":\"surface\"}],\"table\":[{\"cells\":{\"fill\":{\"color\":\"#EBF0F8\"},\"line\":{\"color\":\"white\"}},\"header\":{\"fill\":{\"color\":\"#C8D4E3\"},\"line\":{\"color\":\"white\"}},\"type\":\"table\"}]},\"layout\":{\"annotationdefaults\":{\"arrowcolor\":\"#2a3f5f\",\"arrowhead\":0,\"arrowwidth\":1},\"autotypenumbers\":\"strict\",\"coloraxis\":{\"colorbar\":{\"outlinewidth\":0,\"ticks\":\"\"}},\"colorscale\":{\"diverging\":[[0,\"#8e0152\"],[0.1,\"#c51b7d\"],[0.2,\"#de77ae\"],[0.3,\"#f1b6da\"],[0.4,\"#fde0ef\"],[0.5,\"#f7f7f7\"],[0.6,\"#e6f5d0\"],[0.7,\"#b8e186\"],[0.8,\"#7fbc41\"],[0.9,\"#4d9221\"],[1,\"#276419\"]],\"sequential\":[[0.0,\"#0d0887\"],[0.1111111111111111,\"#46039f\"],[0.2222222222222222,\"#7201a8\"],[0.3333333333333333,\"#9c179e\"],[0.4444444444444444,\"#bd3786\"],[0.5555555555555556,\"#d8576b\"],[0.6666666666666666,\"#ed7953\"],[0.7777777777777778,\"#fb9f3a\"],[0.8888888888888888,\"#fdca26\"],[1.0,\"#f0f921\"]],\"sequentialminus\":[[0.0,\"#0d0887\"],[0.1111111111111111,\"#46039f\"],[0.2222222222222222,\"#7201a8\"],[0.3333333333333333,\"#9c179e\"],[0.4444444444444444,\"#bd3786\"],[0.5555555555555556,\"#d8576b\"],[0.6666666666666666,\"#ed7953\"],[0.7777777777777778,\"#fb9f3a\"],[0.8888888888888888,\"#fdca26\"],[1.0,\"#f0f921\"]]},\"colorway\":[\"#636efa\",\"#EF553B\",\"#00cc96\",\"#ab63fa\",\"#FFA15A\",\"#19d3f3\",\"#FF6692\",\"#B6E880\",\"#FF97FF\",\"#FECB52\"],\"font\":{\"color\":\"#2a3f5f\"},\"geo\":{\"bgcolor\":\"white\",\"lakecolor\":\"white\",\"landcolor\":\"#E5ECF6\",\"showlakes\":true,\"showland\":true,\"subunitcolor\":\"white\"},\"hoverlabel\":{\"align\":\"left\"},\"hovermode\":\"closest\",\"mapbox\":{\"style\":\"light\"},\"paper_bgcolor\":\"white\",\"plot_bgcolor\":\"#E5ECF6\",\"polar\":{\"angularaxis\":{\"gridcolor\":\"white\",\"linecolor\":\"white\",\"ticks\":\"\"},\"bgcolor\":\"#E5ECF6\",\"radialaxis\":{\"gridcolor\":\"white\",\"linecolor\":\"white\",\"ticks\":\"\"}},\"scene\":{\"xaxis\":{\"backgroundcolor\":\"#E5ECF6\",\"gridcolor\":\"white\",\"gridwidth\":2,\"linecolor\":\"white\",\"showbackground\":true,\"ticks\":\"\",\"zerolinecolor\":\"white\"},\"yaxis\":{\"backgroundcolor\":\"#E5ECF6\",\"gridcolor\":\"white\",\"gridwidth\":2,\"linecolor\":\"white\",\"showbackground\":true,\"ticks\":\"\",\"zerolinecolor\":\"white\"},\"zaxis\":{\"backgroundcolor\":\"#E5ECF6\",\"gridcolor\":\"white\",\"gridwidth\":2,\"linecolor\":\"white\",\"showbackground\":true,\"ticks\":\"\",\"zerolinecolor\":\"white\"}},\"shapedefaults\":{\"line\":{\"color\":\"#2a3f5f\"}},\"ternary\":{\"aaxis\":{\"gridcolor\":\"white\",\"linecolor\":\"white\",\"ticks\":\"\"},\"baxis\":{\"gridcolor\":\"white\",\"linecolor\":\"white\",\"ticks\":\"\"},\"bgcolor\":\"#E5ECF6\",\"caxis\":{\"gridcolor\":\"white\",\"linecolor\":\"white\",\"ticks\":\"\"}},\"title\":{\"x\":0.05},\"xaxis\":{\"automargin\":true,\"gridcolor\":\"white\",\"linecolor\":\"white\",\"ticks\":\"\",\"title\":{\"standoff\":15},\"zerolinecolor\":\"white\",\"zerolinewidth\":2},\"yaxis\":{\"automargin\":true,\"gridcolor\":\"white\",\"linecolor\":\"white\",\"ticks\":\"\",\"title\":{\"standoff\":15},\"zerolinecolor\":\"white\",\"zerolinewidth\":2}}},\"xaxis\":{\"anchor\":\"y\",\"domain\":[0.0,1.0],\"title\":{\"text\":\"Nota final\"}},\"yaxis\":{\"anchor\":\"x\",\"domain\":[0.0,0.7326],\"title\":{\"text\":\"Percentual\"}},\"xaxis2\":{\"anchor\":\"y2\",\"domain\":[0.0,1.0],\"matches\":\"x\",\"showticklabels\":false,\"showgrid\":true},\"yaxis2\":{\"anchor\":\"x2\",\"domain\":[0.7426,1.0],\"matches\":\"y2\",\"showticklabels\":false,\"showline\":false,\"ticks\":\"\",\"showgrid\":false},\"legend\":{\"title\":{\"text\":\"Escola\"},\"tracegroupgap\":0,\"borderwidth\":1,\"bordercolor\":\"lightgrey\",\"bgcolor\":\"rgb(251, 251, 251)\"},\"margin\":{\"t\":60},\"barmode\":\"group\",\"height\":500,\"width\":900,\"font\":{\"size\":12},\"title\":{\"font\":{\"size\":22},\"text\":\"Distribui\\u00e7\\u00e3o de notas\",\"x\":0.5},\"plot_bgcolor\":\"rgb(250, 250, 250)\",\"bargap\":0},                        {\"responsive\": true}                    ).then(function(){\n",
              "                            \n",
              "var gd = document.getElementById('13500a17-ff5c-4604-831b-18826aeb4a77');\n",
              "var x = new MutationObserver(function (mutations, observer) {{\n",
              "        var display = window.getComputedStyle(gd).display;\n",
              "        if (!display || display === 'none') {{\n",
              "            console.log([gd, 'removed!']);\n",
              "            Plotly.purge(gd);\n",
              "            observer.disconnect();\n",
              "        }}\n",
              "}});\n",
              "\n",
              "// Listen for the removal of the full notebook cells\n",
              "var notebookContainer = gd.closest('#notebook-container');\n",
              "if (notebookContainer) {{\n",
              "    x.observe(notebookContainer, {childList: true});\n",
              "}}\n",
              "\n",
              "// Listen for the clearing of the current output cell\n",
              "var outputEl = gd.closest('.output');\n",
              "if (outputEl) {{\n",
              "    x.observe(outputEl, {childList: true});\n",
              "}}\n",
              "\n",
              "                        })                };                            </script>        </div>\n",
              "</body>\n",
              "</html>"
            ]
          },
          "metadata": {}
        }
      ]
    },
    {
      "cell_type": "markdown",
      "source": [
        "Percebemos que as notas das escolas públicas estão distribuidas assimétricamente à direita, enquanto que, as de escolas particulares, estão melhor distribuídas. Assim, para as escolas públicas, quando o valor da nota aumenta, o número de ocorrências diminui."
      ],
      "metadata": {
        "id": "va-6peTdG5XO"
      }
    },
    {
      "cell_type": "markdown",
      "source": [
        "**Faixas Etárias:**  \n",
        "Frequência de faixa etárias dos vestibulandos que fizeram a prova do ENEM 2021."
      ],
      "metadata": {
        "id": "p4SpoIBt9To8"
      }
    },
    {
      "cell_type": "code",
      "source": [
        "fx_eta_pub = px.bar(df_freq_pub, x=\"ABSOLUTA\", width=900, text_auto=True,\n",
        "                    color_discrete_sequence=tema)\n",
        "\n",
        "fx_eta_pub.update_layout(font_size=12,\n",
        "                         xaxis=dict(title=\"Quantidade de Vestibulandos\"),\n",
        "                         yaxis=dict(title=\"Faixa Etária\"),\n",
        "                         title=dict(text=\"Faixas Etárias - Escola Pública\",\n",
        "                                    x=0.5, font_size=22),\n",
        "                         plot_bgcolor=\"rgb(250, 250, 250)\")"
      ],
      "metadata": {
        "id": "hF08L0nfEJfh",
        "execution": {
          "iopub.status.busy": "2022-10-10T12:22:05.610677Z",
          "iopub.execute_input": "2022-10-10T12:22:05.610961Z",
          "iopub.status.idle": "2022-10-10T12:22:05.672720Z",
          "shell.execute_reply.started": "2022-10-10T12:22:05.610934Z",
          "shell.execute_reply": "2022-10-10T12:22:05.671674Z"
        },
        "trusted": true,
        "colab": {
          "base_uri": "https://localhost:8080/",
          "height": 542
        },
        "outputId": "991777d2-3753-4723-c8fb-f53acdcfe5c7"
      },
      "execution_count": 28,
      "outputs": [
        {
          "output_type": "display_data",
          "data": {
            "text/html": [
              "<html>\n",
              "<head><meta charset=\"utf-8\" /></head>\n",
              "<body>\n",
              "    <div>            <script src=\"https://cdnjs.cloudflare.com/ajax/libs/mathjax/2.7.5/MathJax.js?config=TeX-AMS-MML_SVG\"></script><script type=\"text/javascript\">if (window.MathJax) {MathJax.Hub.Config({SVG: {font: \"STIX-Web\"}});}</script>                <script type=\"text/javascript\">window.PlotlyConfig = {MathJaxConfig: 'local'};</script>\n",
              "        <script src=\"https://cdn.plot.ly/plotly-2.8.3.min.js\"></script>                <div id=\"1b17eb40-bd24-4f43-9e5c-8478be1c0d9b\" class=\"plotly-graph-div\" style=\"height:525px; width:900px;\"></div>            <script type=\"text/javascript\">                                    window.PLOTLYENV=window.PLOTLYENV || {};                                    if (document.getElementById(\"1b17eb40-bd24-4f43-9e5c-8478be1c0d9b\")) {                    Plotly.newPlot(                        \"1b17eb40-bd24-4f43-9e5c-8478be1c0d9b\",                        [{\"alignmentgroup\":\"True\",\"hovertemplate\":\"ABSOLUTA=%{x}<br>index=%{y}<extra></extra>\",\"legendgroup\":\"\",\"marker\":{\"color\":\"#FD3216\",\"pattern\":{\"shape\":\"\"}},\"name\":\"\",\"offsetgroup\":\"\",\"orientation\":\"h\",\"showlegend\":false,\"textposition\":\"auto\",\"texttemplate\":\"%{x}\",\"x\":[1446,1020,306,76,59,19,9,6,5,4,4,3,3,1],\"xaxis\":\"x\",\"y\":[\"18 anos\",\"17 anos\",\"19 anos\",\"20 anos\",\"Menor de 17 anos\",\"21 anos\",\"22 anos\",\"Entre 31 e 35 anos\",\"23 anos\",\"24 anos\",\"Entre 26 e 30 anos\",\"25 anos\",\"Entre 36 e 40 anos\",\"Entre 51 e 55 anos\"],\"yaxis\":\"y\",\"type\":\"bar\"}],                        {\"template\":{\"data\":{\"bar\":[{\"error_x\":{\"color\":\"#2a3f5f\"},\"error_y\":{\"color\":\"#2a3f5f\"},\"marker\":{\"line\":{\"color\":\"#E5ECF6\",\"width\":0.5},\"pattern\":{\"fillmode\":\"overlay\",\"size\":10,\"solidity\":0.2}},\"type\":\"bar\"}],\"barpolar\":[{\"marker\":{\"line\":{\"color\":\"#E5ECF6\",\"width\":0.5},\"pattern\":{\"fillmode\":\"overlay\",\"size\":10,\"solidity\":0.2}},\"type\":\"barpolar\"}],\"carpet\":[{\"aaxis\":{\"endlinecolor\":\"#2a3f5f\",\"gridcolor\":\"white\",\"linecolor\":\"white\",\"minorgridcolor\":\"white\",\"startlinecolor\":\"#2a3f5f\"},\"baxis\":{\"endlinecolor\":\"#2a3f5f\",\"gridcolor\":\"white\",\"linecolor\":\"white\",\"minorgridcolor\":\"white\",\"startlinecolor\":\"#2a3f5f\"},\"type\":\"carpet\"}],\"choropleth\":[{\"colorbar\":{\"outlinewidth\":0,\"ticks\":\"\"},\"type\":\"choropleth\"}],\"contour\":[{\"colorbar\":{\"outlinewidth\":0,\"ticks\":\"\"},\"colorscale\":[[0.0,\"#0d0887\"],[0.1111111111111111,\"#46039f\"],[0.2222222222222222,\"#7201a8\"],[0.3333333333333333,\"#9c179e\"],[0.4444444444444444,\"#bd3786\"],[0.5555555555555556,\"#d8576b\"],[0.6666666666666666,\"#ed7953\"],[0.7777777777777778,\"#fb9f3a\"],[0.8888888888888888,\"#fdca26\"],[1.0,\"#f0f921\"]],\"type\":\"contour\"}],\"contourcarpet\":[{\"colorbar\":{\"outlinewidth\":0,\"ticks\":\"\"},\"type\":\"contourcarpet\"}],\"heatmap\":[{\"colorbar\":{\"outlinewidth\":0,\"ticks\":\"\"},\"colorscale\":[[0.0,\"#0d0887\"],[0.1111111111111111,\"#46039f\"],[0.2222222222222222,\"#7201a8\"],[0.3333333333333333,\"#9c179e\"],[0.4444444444444444,\"#bd3786\"],[0.5555555555555556,\"#d8576b\"],[0.6666666666666666,\"#ed7953\"],[0.7777777777777778,\"#fb9f3a\"],[0.8888888888888888,\"#fdca26\"],[1.0,\"#f0f921\"]],\"type\":\"heatmap\"}],\"heatmapgl\":[{\"colorbar\":{\"outlinewidth\":0,\"ticks\":\"\"},\"colorscale\":[[0.0,\"#0d0887\"],[0.1111111111111111,\"#46039f\"],[0.2222222222222222,\"#7201a8\"],[0.3333333333333333,\"#9c179e\"],[0.4444444444444444,\"#bd3786\"],[0.5555555555555556,\"#d8576b\"],[0.6666666666666666,\"#ed7953\"],[0.7777777777777778,\"#fb9f3a\"],[0.8888888888888888,\"#fdca26\"],[1.0,\"#f0f921\"]],\"type\":\"heatmapgl\"}],\"histogram\":[{\"marker\":{\"pattern\":{\"fillmode\":\"overlay\",\"size\":10,\"solidity\":0.2}},\"type\":\"histogram\"}],\"histogram2d\":[{\"colorbar\":{\"outlinewidth\":0,\"ticks\":\"\"},\"colorscale\":[[0.0,\"#0d0887\"],[0.1111111111111111,\"#46039f\"],[0.2222222222222222,\"#7201a8\"],[0.3333333333333333,\"#9c179e\"],[0.4444444444444444,\"#bd3786\"],[0.5555555555555556,\"#d8576b\"],[0.6666666666666666,\"#ed7953\"],[0.7777777777777778,\"#fb9f3a\"],[0.8888888888888888,\"#fdca26\"],[1.0,\"#f0f921\"]],\"type\":\"histogram2d\"}],\"histogram2dcontour\":[{\"colorbar\":{\"outlinewidth\":0,\"ticks\":\"\"},\"colorscale\":[[0.0,\"#0d0887\"],[0.1111111111111111,\"#46039f\"],[0.2222222222222222,\"#7201a8\"],[0.3333333333333333,\"#9c179e\"],[0.4444444444444444,\"#bd3786\"],[0.5555555555555556,\"#d8576b\"],[0.6666666666666666,\"#ed7953\"],[0.7777777777777778,\"#fb9f3a\"],[0.8888888888888888,\"#fdca26\"],[1.0,\"#f0f921\"]],\"type\":\"histogram2dcontour\"}],\"mesh3d\":[{\"colorbar\":{\"outlinewidth\":0,\"ticks\":\"\"},\"type\":\"mesh3d\"}],\"parcoords\":[{\"line\":{\"colorbar\":{\"outlinewidth\":0,\"ticks\":\"\"}},\"type\":\"parcoords\"}],\"pie\":[{\"automargin\":true,\"type\":\"pie\"}],\"scatter\":[{\"marker\":{\"colorbar\":{\"outlinewidth\":0,\"ticks\":\"\"}},\"type\":\"scatter\"}],\"scatter3d\":[{\"line\":{\"colorbar\":{\"outlinewidth\":0,\"ticks\":\"\"}},\"marker\":{\"colorbar\":{\"outlinewidth\":0,\"ticks\":\"\"}},\"type\":\"scatter3d\"}],\"scattercarpet\":[{\"marker\":{\"colorbar\":{\"outlinewidth\":0,\"ticks\":\"\"}},\"type\":\"scattercarpet\"}],\"scattergeo\":[{\"marker\":{\"colorbar\":{\"outlinewidth\":0,\"ticks\":\"\"}},\"type\":\"scattergeo\"}],\"scattergl\":[{\"marker\":{\"colorbar\":{\"outlinewidth\":0,\"ticks\":\"\"}},\"type\":\"scattergl\"}],\"scattermapbox\":[{\"marker\":{\"colorbar\":{\"outlinewidth\":0,\"ticks\":\"\"}},\"type\":\"scattermapbox\"}],\"scatterpolar\":[{\"marker\":{\"colorbar\":{\"outlinewidth\":0,\"ticks\":\"\"}},\"type\":\"scatterpolar\"}],\"scatterpolargl\":[{\"marker\":{\"colorbar\":{\"outlinewidth\":0,\"ticks\":\"\"}},\"type\":\"scatterpolargl\"}],\"scatterternary\":[{\"marker\":{\"colorbar\":{\"outlinewidth\":0,\"ticks\":\"\"}},\"type\":\"scatterternary\"}],\"surface\":[{\"colorbar\":{\"outlinewidth\":0,\"ticks\":\"\"},\"colorscale\":[[0.0,\"#0d0887\"],[0.1111111111111111,\"#46039f\"],[0.2222222222222222,\"#7201a8\"],[0.3333333333333333,\"#9c179e\"],[0.4444444444444444,\"#bd3786\"],[0.5555555555555556,\"#d8576b\"],[0.6666666666666666,\"#ed7953\"],[0.7777777777777778,\"#fb9f3a\"],[0.8888888888888888,\"#fdca26\"],[1.0,\"#f0f921\"]],\"type\":\"surface\"}],\"table\":[{\"cells\":{\"fill\":{\"color\":\"#EBF0F8\"},\"line\":{\"color\":\"white\"}},\"header\":{\"fill\":{\"color\":\"#C8D4E3\"},\"line\":{\"color\":\"white\"}},\"type\":\"table\"}]},\"layout\":{\"annotationdefaults\":{\"arrowcolor\":\"#2a3f5f\",\"arrowhead\":0,\"arrowwidth\":1},\"autotypenumbers\":\"strict\",\"coloraxis\":{\"colorbar\":{\"outlinewidth\":0,\"ticks\":\"\"}},\"colorscale\":{\"diverging\":[[0,\"#8e0152\"],[0.1,\"#c51b7d\"],[0.2,\"#de77ae\"],[0.3,\"#f1b6da\"],[0.4,\"#fde0ef\"],[0.5,\"#f7f7f7\"],[0.6,\"#e6f5d0\"],[0.7,\"#b8e186\"],[0.8,\"#7fbc41\"],[0.9,\"#4d9221\"],[1,\"#276419\"]],\"sequential\":[[0.0,\"#0d0887\"],[0.1111111111111111,\"#46039f\"],[0.2222222222222222,\"#7201a8\"],[0.3333333333333333,\"#9c179e\"],[0.4444444444444444,\"#bd3786\"],[0.5555555555555556,\"#d8576b\"],[0.6666666666666666,\"#ed7953\"],[0.7777777777777778,\"#fb9f3a\"],[0.8888888888888888,\"#fdca26\"],[1.0,\"#f0f921\"]],\"sequentialminus\":[[0.0,\"#0d0887\"],[0.1111111111111111,\"#46039f\"],[0.2222222222222222,\"#7201a8\"],[0.3333333333333333,\"#9c179e\"],[0.4444444444444444,\"#bd3786\"],[0.5555555555555556,\"#d8576b\"],[0.6666666666666666,\"#ed7953\"],[0.7777777777777778,\"#fb9f3a\"],[0.8888888888888888,\"#fdca26\"],[1.0,\"#f0f921\"]]},\"colorway\":[\"#636efa\",\"#EF553B\",\"#00cc96\",\"#ab63fa\",\"#FFA15A\",\"#19d3f3\",\"#FF6692\",\"#B6E880\",\"#FF97FF\",\"#FECB52\"],\"font\":{\"color\":\"#2a3f5f\"},\"geo\":{\"bgcolor\":\"white\",\"lakecolor\":\"white\",\"landcolor\":\"#E5ECF6\",\"showlakes\":true,\"showland\":true,\"subunitcolor\":\"white\"},\"hoverlabel\":{\"align\":\"left\"},\"hovermode\":\"closest\",\"mapbox\":{\"style\":\"light\"},\"paper_bgcolor\":\"white\",\"plot_bgcolor\":\"#E5ECF6\",\"polar\":{\"angularaxis\":{\"gridcolor\":\"white\",\"linecolor\":\"white\",\"ticks\":\"\"},\"bgcolor\":\"#E5ECF6\",\"radialaxis\":{\"gridcolor\":\"white\",\"linecolor\":\"white\",\"ticks\":\"\"}},\"scene\":{\"xaxis\":{\"backgroundcolor\":\"#E5ECF6\",\"gridcolor\":\"white\",\"gridwidth\":2,\"linecolor\":\"white\",\"showbackground\":true,\"ticks\":\"\",\"zerolinecolor\":\"white\"},\"yaxis\":{\"backgroundcolor\":\"#E5ECF6\",\"gridcolor\":\"white\",\"gridwidth\":2,\"linecolor\":\"white\",\"showbackground\":true,\"ticks\":\"\",\"zerolinecolor\":\"white\"},\"zaxis\":{\"backgroundcolor\":\"#E5ECF6\",\"gridcolor\":\"white\",\"gridwidth\":2,\"linecolor\":\"white\",\"showbackground\":true,\"ticks\":\"\",\"zerolinecolor\":\"white\"}},\"shapedefaults\":{\"line\":{\"color\":\"#2a3f5f\"}},\"ternary\":{\"aaxis\":{\"gridcolor\":\"white\",\"linecolor\":\"white\",\"ticks\":\"\"},\"baxis\":{\"gridcolor\":\"white\",\"linecolor\":\"white\",\"ticks\":\"\"},\"bgcolor\":\"#E5ECF6\",\"caxis\":{\"gridcolor\":\"white\",\"linecolor\":\"white\",\"ticks\":\"\"}},\"title\":{\"x\":0.05},\"xaxis\":{\"automargin\":true,\"gridcolor\":\"white\",\"linecolor\":\"white\",\"ticks\":\"\",\"title\":{\"standoff\":15},\"zerolinecolor\":\"white\",\"zerolinewidth\":2},\"yaxis\":{\"automargin\":true,\"gridcolor\":\"white\",\"linecolor\":\"white\",\"ticks\":\"\",\"title\":{\"standoff\":15},\"zerolinecolor\":\"white\",\"zerolinewidth\":2}}},\"xaxis\":{\"anchor\":\"y\",\"domain\":[0.0,1.0],\"title\":{\"text\":\"Quantidade de Vestibulandos\"}},\"yaxis\":{\"anchor\":\"x\",\"domain\":[0.0,1.0],\"title\":{\"text\":\"Faixa Et\\u00e1ria\"}},\"legend\":{\"tracegroupgap\":0},\"margin\":{\"t\":60},\"barmode\":\"relative\",\"width\":900,\"font\":{\"size\":12},\"title\":{\"font\":{\"size\":22},\"text\":\"Faixas Et\\u00e1rias - Escola P\\u00fablica\",\"x\":0.5},\"plot_bgcolor\":\"rgb(250, 250, 250)\"},                        {\"responsive\": true}                    ).then(function(){\n",
              "                            \n",
              "var gd = document.getElementById('1b17eb40-bd24-4f43-9e5c-8478be1c0d9b');\n",
              "var x = new MutationObserver(function (mutations, observer) {{\n",
              "        var display = window.getComputedStyle(gd).display;\n",
              "        if (!display || display === 'none') {{\n",
              "            console.log([gd, 'removed!']);\n",
              "            Plotly.purge(gd);\n",
              "            observer.disconnect();\n",
              "        }}\n",
              "}});\n",
              "\n",
              "// Listen for the removal of the full notebook cells\n",
              "var notebookContainer = gd.closest('#notebook-container');\n",
              "if (notebookContainer) {{\n",
              "    x.observe(notebookContainer, {childList: true});\n",
              "}}\n",
              "\n",
              "// Listen for the clearing of the current output cell\n",
              "var outputEl = gd.closest('.output');\n",
              "if (outputEl) {{\n",
              "    x.observe(outputEl, {childList: true});\n",
              "}}\n",
              "\n",
              "                        })                };                            </script>        </div>\n",
              "</body>\n",
              "</html>"
            ]
          },
          "metadata": {}
        }
      ]
    },
    {
      "cell_type": "code",
      "source": [
        "fx_eta_priv = px.bar(df_freq_priv, x=\"ABSOLUTA\", width=900, text_auto=True,\n",
        "                     color_discrete_sequence=[tema[1]])\n",
        "\n",
        "fx_eta_priv.update_layout(font_size=14,\n",
        "                          xaxis=dict(title=\"Quantidade de Vestibulandos\"),\n",
        "                          yaxis=dict(title=\"Faixa Etária\"),\n",
        "                          title=dict(text=\"Faixas Etárias - Escola Privada\",\n",
        "                                     x=0.5, font_size=22),\n",
        "                          plot_bgcolor=\"rgb(250, 250, 250)\")"
      ],
      "metadata": {
        "id": "EGNogLeHJ2Yp",
        "execution": {
          "iopub.status.busy": "2022-10-10T12:22:05.673917Z",
          "iopub.execute_input": "2022-10-10T12:22:05.674245Z",
          "iopub.status.idle": "2022-10-10T12:22:05.733496Z",
          "shell.execute_reply.started": "2022-10-10T12:22:05.674214Z",
          "shell.execute_reply": "2022-10-10T12:22:05.732425Z"
        },
        "trusted": true,
        "colab": {
          "base_uri": "https://localhost:8080/",
          "height": 542
        },
        "outputId": "d17db73f-5446-4288-fe0d-439485f04e76"
      },
      "execution_count": 29,
      "outputs": [
        {
          "output_type": "display_data",
          "data": {
            "text/html": [
              "<html>\n",
              "<head><meta charset=\"utf-8\" /></head>\n",
              "<body>\n",
              "    <div>            <script src=\"https://cdnjs.cloudflare.com/ajax/libs/mathjax/2.7.5/MathJax.js?config=TeX-AMS-MML_SVG\"></script><script type=\"text/javascript\">if (window.MathJax) {MathJax.Hub.Config({SVG: {font: \"STIX-Web\"}});}</script>                <script type=\"text/javascript\">window.PlotlyConfig = {MathJaxConfig: 'local'};</script>\n",
              "        <script src=\"https://cdn.plot.ly/plotly-2.8.3.min.js\"></script>                <div id=\"450e9d6d-fb7d-4a12-9294-e88ebced0820\" class=\"plotly-graph-div\" style=\"height:525px; width:900px;\"></div>            <script type=\"text/javascript\">                                    window.PLOTLYENV=window.PLOTLYENV || {};                                    if (document.getElementById(\"450e9d6d-fb7d-4a12-9294-e88ebced0820\")) {                    Plotly.newPlot(                        \"450e9d6d-fb7d-4a12-9294-e88ebced0820\",                        [{\"alignmentgroup\":\"True\",\"hovertemplate\":\"ABSOLUTA=%{x}<br>index=%{y}<extra></extra>\",\"legendgroup\":\"\",\"marker\":{\"color\":\"#00FE35\",\"pattern\":{\"shape\":\"\"}},\"name\":\"\",\"offsetgroup\":\"\",\"orientation\":\"h\",\"showlegend\":false,\"textposition\":\"auto\",\"texttemplate\":\"%{x}\",\"x\":[306,140,24,7,1],\"xaxis\":\"x\",\"y\":[\"17 anos\",\"18 anos\",\"Menor de 17 anos\",\"19 anos\",\"20 anos\"],\"yaxis\":\"y\",\"type\":\"bar\"}],                        {\"template\":{\"data\":{\"bar\":[{\"error_x\":{\"color\":\"#2a3f5f\"},\"error_y\":{\"color\":\"#2a3f5f\"},\"marker\":{\"line\":{\"color\":\"#E5ECF6\",\"width\":0.5},\"pattern\":{\"fillmode\":\"overlay\",\"size\":10,\"solidity\":0.2}},\"type\":\"bar\"}],\"barpolar\":[{\"marker\":{\"line\":{\"color\":\"#E5ECF6\",\"width\":0.5},\"pattern\":{\"fillmode\":\"overlay\",\"size\":10,\"solidity\":0.2}},\"type\":\"barpolar\"}],\"carpet\":[{\"aaxis\":{\"endlinecolor\":\"#2a3f5f\",\"gridcolor\":\"white\",\"linecolor\":\"white\",\"minorgridcolor\":\"white\",\"startlinecolor\":\"#2a3f5f\"},\"baxis\":{\"endlinecolor\":\"#2a3f5f\",\"gridcolor\":\"white\",\"linecolor\":\"white\",\"minorgridcolor\":\"white\",\"startlinecolor\":\"#2a3f5f\"},\"type\":\"carpet\"}],\"choropleth\":[{\"colorbar\":{\"outlinewidth\":0,\"ticks\":\"\"},\"type\":\"choropleth\"}],\"contour\":[{\"colorbar\":{\"outlinewidth\":0,\"ticks\":\"\"},\"colorscale\":[[0.0,\"#0d0887\"],[0.1111111111111111,\"#46039f\"],[0.2222222222222222,\"#7201a8\"],[0.3333333333333333,\"#9c179e\"],[0.4444444444444444,\"#bd3786\"],[0.5555555555555556,\"#d8576b\"],[0.6666666666666666,\"#ed7953\"],[0.7777777777777778,\"#fb9f3a\"],[0.8888888888888888,\"#fdca26\"],[1.0,\"#f0f921\"]],\"type\":\"contour\"}],\"contourcarpet\":[{\"colorbar\":{\"outlinewidth\":0,\"ticks\":\"\"},\"type\":\"contourcarpet\"}],\"heatmap\":[{\"colorbar\":{\"outlinewidth\":0,\"ticks\":\"\"},\"colorscale\":[[0.0,\"#0d0887\"],[0.1111111111111111,\"#46039f\"],[0.2222222222222222,\"#7201a8\"],[0.3333333333333333,\"#9c179e\"],[0.4444444444444444,\"#bd3786\"],[0.5555555555555556,\"#d8576b\"],[0.6666666666666666,\"#ed7953\"],[0.7777777777777778,\"#fb9f3a\"],[0.8888888888888888,\"#fdca26\"],[1.0,\"#f0f921\"]],\"type\":\"heatmap\"}],\"heatmapgl\":[{\"colorbar\":{\"outlinewidth\":0,\"ticks\":\"\"},\"colorscale\":[[0.0,\"#0d0887\"],[0.1111111111111111,\"#46039f\"],[0.2222222222222222,\"#7201a8\"],[0.3333333333333333,\"#9c179e\"],[0.4444444444444444,\"#bd3786\"],[0.5555555555555556,\"#d8576b\"],[0.6666666666666666,\"#ed7953\"],[0.7777777777777778,\"#fb9f3a\"],[0.8888888888888888,\"#fdca26\"],[1.0,\"#f0f921\"]],\"type\":\"heatmapgl\"}],\"histogram\":[{\"marker\":{\"pattern\":{\"fillmode\":\"overlay\",\"size\":10,\"solidity\":0.2}},\"type\":\"histogram\"}],\"histogram2d\":[{\"colorbar\":{\"outlinewidth\":0,\"ticks\":\"\"},\"colorscale\":[[0.0,\"#0d0887\"],[0.1111111111111111,\"#46039f\"],[0.2222222222222222,\"#7201a8\"],[0.3333333333333333,\"#9c179e\"],[0.4444444444444444,\"#bd3786\"],[0.5555555555555556,\"#d8576b\"],[0.6666666666666666,\"#ed7953\"],[0.7777777777777778,\"#fb9f3a\"],[0.8888888888888888,\"#fdca26\"],[1.0,\"#f0f921\"]],\"type\":\"histogram2d\"}],\"histogram2dcontour\":[{\"colorbar\":{\"outlinewidth\":0,\"ticks\":\"\"},\"colorscale\":[[0.0,\"#0d0887\"],[0.1111111111111111,\"#46039f\"],[0.2222222222222222,\"#7201a8\"],[0.3333333333333333,\"#9c179e\"],[0.4444444444444444,\"#bd3786\"],[0.5555555555555556,\"#d8576b\"],[0.6666666666666666,\"#ed7953\"],[0.7777777777777778,\"#fb9f3a\"],[0.8888888888888888,\"#fdca26\"],[1.0,\"#f0f921\"]],\"type\":\"histogram2dcontour\"}],\"mesh3d\":[{\"colorbar\":{\"outlinewidth\":0,\"ticks\":\"\"},\"type\":\"mesh3d\"}],\"parcoords\":[{\"line\":{\"colorbar\":{\"outlinewidth\":0,\"ticks\":\"\"}},\"type\":\"parcoords\"}],\"pie\":[{\"automargin\":true,\"type\":\"pie\"}],\"scatter\":[{\"marker\":{\"colorbar\":{\"outlinewidth\":0,\"ticks\":\"\"}},\"type\":\"scatter\"}],\"scatter3d\":[{\"line\":{\"colorbar\":{\"outlinewidth\":0,\"ticks\":\"\"}},\"marker\":{\"colorbar\":{\"outlinewidth\":0,\"ticks\":\"\"}},\"type\":\"scatter3d\"}],\"scattercarpet\":[{\"marker\":{\"colorbar\":{\"outlinewidth\":0,\"ticks\":\"\"}},\"type\":\"scattercarpet\"}],\"scattergeo\":[{\"marker\":{\"colorbar\":{\"outlinewidth\":0,\"ticks\":\"\"}},\"type\":\"scattergeo\"}],\"scattergl\":[{\"marker\":{\"colorbar\":{\"outlinewidth\":0,\"ticks\":\"\"}},\"type\":\"scattergl\"}],\"scattermapbox\":[{\"marker\":{\"colorbar\":{\"outlinewidth\":0,\"ticks\":\"\"}},\"type\":\"scattermapbox\"}],\"scatterpolar\":[{\"marker\":{\"colorbar\":{\"outlinewidth\":0,\"ticks\":\"\"}},\"type\":\"scatterpolar\"}],\"scatterpolargl\":[{\"marker\":{\"colorbar\":{\"outlinewidth\":0,\"ticks\":\"\"}},\"type\":\"scatterpolargl\"}],\"scatterternary\":[{\"marker\":{\"colorbar\":{\"outlinewidth\":0,\"ticks\":\"\"}},\"type\":\"scatterternary\"}],\"surface\":[{\"colorbar\":{\"outlinewidth\":0,\"ticks\":\"\"},\"colorscale\":[[0.0,\"#0d0887\"],[0.1111111111111111,\"#46039f\"],[0.2222222222222222,\"#7201a8\"],[0.3333333333333333,\"#9c179e\"],[0.4444444444444444,\"#bd3786\"],[0.5555555555555556,\"#d8576b\"],[0.6666666666666666,\"#ed7953\"],[0.7777777777777778,\"#fb9f3a\"],[0.8888888888888888,\"#fdca26\"],[1.0,\"#f0f921\"]],\"type\":\"surface\"}],\"table\":[{\"cells\":{\"fill\":{\"color\":\"#EBF0F8\"},\"line\":{\"color\":\"white\"}},\"header\":{\"fill\":{\"color\":\"#C8D4E3\"},\"line\":{\"color\":\"white\"}},\"type\":\"table\"}]},\"layout\":{\"annotationdefaults\":{\"arrowcolor\":\"#2a3f5f\",\"arrowhead\":0,\"arrowwidth\":1},\"autotypenumbers\":\"strict\",\"coloraxis\":{\"colorbar\":{\"outlinewidth\":0,\"ticks\":\"\"}},\"colorscale\":{\"diverging\":[[0,\"#8e0152\"],[0.1,\"#c51b7d\"],[0.2,\"#de77ae\"],[0.3,\"#f1b6da\"],[0.4,\"#fde0ef\"],[0.5,\"#f7f7f7\"],[0.6,\"#e6f5d0\"],[0.7,\"#b8e186\"],[0.8,\"#7fbc41\"],[0.9,\"#4d9221\"],[1,\"#276419\"]],\"sequential\":[[0.0,\"#0d0887\"],[0.1111111111111111,\"#46039f\"],[0.2222222222222222,\"#7201a8\"],[0.3333333333333333,\"#9c179e\"],[0.4444444444444444,\"#bd3786\"],[0.5555555555555556,\"#d8576b\"],[0.6666666666666666,\"#ed7953\"],[0.7777777777777778,\"#fb9f3a\"],[0.8888888888888888,\"#fdca26\"],[1.0,\"#f0f921\"]],\"sequentialminus\":[[0.0,\"#0d0887\"],[0.1111111111111111,\"#46039f\"],[0.2222222222222222,\"#7201a8\"],[0.3333333333333333,\"#9c179e\"],[0.4444444444444444,\"#bd3786\"],[0.5555555555555556,\"#d8576b\"],[0.6666666666666666,\"#ed7953\"],[0.7777777777777778,\"#fb9f3a\"],[0.8888888888888888,\"#fdca26\"],[1.0,\"#f0f921\"]]},\"colorway\":[\"#636efa\",\"#EF553B\",\"#00cc96\",\"#ab63fa\",\"#FFA15A\",\"#19d3f3\",\"#FF6692\",\"#B6E880\",\"#FF97FF\",\"#FECB52\"],\"font\":{\"color\":\"#2a3f5f\"},\"geo\":{\"bgcolor\":\"white\",\"lakecolor\":\"white\",\"landcolor\":\"#E5ECF6\",\"showlakes\":true,\"showland\":true,\"subunitcolor\":\"white\"},\"hoverlabel\":{\"align\":\"left\"},\"hovermode\":\"closest\",\"mapbox\":{\"style\":\"light\"},\"paper_bgcolor\":\"white\",\"plot_bgcolor\":\"#E5ECF6\",\"polar\":{\"angularaxis\":{\"gridcolor\":\"white\",\"linecolor\":\"white\",\"ticks\":\"\"},\"bgcolor\":\"#E5ECF6\",\"radialaxis\":{\"gridcolor\":\"white\",\"linecolor\":\"white\",\"ticks\":\"\"}},\"scene\":{\"xaxis\":{\"backgroundcolor\":\"#E5ECF6\",\"gridcolor\":\"white\",\"gridwidth\":2,\"linecolor\":\"white\",\"showbackground\":true,\"ticks\":\"\",\"zerolinecolor\":\"white\"},\"yaxis\":{\"backgroundcolor\":\"#E5ECF6\",\"gridcolor\":\"white\",\"gridwidth\":2,\"linecolor\":\"white\",\"showbackground\":true,\"ticks\":\"\",\"zerolinecolor\":\"white\"},\"zaxis\":{\"backgroundcolor\":\"#E5ECF6\",\"gridcolor\":\"white\",\"gridwidth\":2,\"linecolor\":\"white\",\"showbackground\":true,\"ticks\":\"\",\"zerolinecolor\":\"white\"}},\"shapedefaults\":{\"line\":{\"color\":\"#2a3f5f\"}},\"ternary\":{\"aaxis\":{\"gridcolor\":\"white\",\"linecolor\":\"white\",\"ticks\":\"\"},\"baxis\":{\"gridcolor\":\"white\",\"linecolor\":\"white\",\"ticks\":\"\"},\"bgcolor\":\"#E5ECF6\",\"caxis\":{\"gridcolor\":\"white\",\"linecolor\":\"white\",\"ticks\":\"\"}},\"title\":{\"x\":0.05},\"xaxis\":{\"automargin\":true,\"gridcolor\":\"white\",\"linecolor\":\"white\",\"ticks\":\"\",\"title\":{\"standoff\":15},\"zerolinecolor\":\"white\",\"zerolinewidth\":2},\"yaxis\":{\"automargin\":true,\"gridcolor\":\"white\",\"linecolor\":\"white\",\"ticks\":\"\",\"title\":{\"standoff\":15},\"zerolinecolor\":\"white\",\"zerolinewidth\":2}}},\"xaxis\":{\"anchor\":\"y\",\"domain\":[0.0,1.0],\"title\":{\"text\":\"Quantidade de Vestibulandos\"}},\"yaxis\":{\"anchor\":\"x\",\"domain\":[0.0,1.0],\"title\":{\"text\":\"Faixa Et\\u00e1ria\"}},\"legend\":{\"tracegroupgap\":0},\"margin\":{\"t\":60},\"barmode\":\"relative\",\"width\":900,\"font\":{\"size\":14},\"title\":{\"font\":{\"size\":22},\"text\":\"Faixas Et\\u00e1rias - Escola Privada\",\"x\":0.5},\"plot_bgcolor\":\"rgb(250, 250, 250)\"},                        {\"responsive\": true}                    ).then(function(){\n",
              "                            \n",
              "var gd = document.getElementById('450e9d6d-fb7d-4a12-9294-e88ebced0820');\n",
              "var x = new MutationObserver(function (mutations, observer) {{\n",
              "        var display = window.getComputedStyle(gd).display;\n",
              "        if (!display || display === 'none') {{\n",
              "            console.log([gd, 'removed!']);\n",
              "            Plotly.purge(gd);\n",
              "            observer.disconnect();\n",
              "        }}\n",
              "}});\n",
              "\n",
              "// Listen for the removal of the full notebook cells\n",
              "var notebookContainer = gd.closest('#notebook-container');\n",
              "if (notebookContainer) {{\n",
              "    x.observe(notebookContainer, {childList: true});\n",
              "}}\n",
              "\n",
              "// Listen for the clearing of the current output cell\n",
              "var outputEl = gd.closest('.output');\n",
              "if (outputEl) {{\n",
              "    x.observe(outputEl, {childList: true});\n",
              "}}\n",
              "\n",
              "                        })                };                            </script>        </div>\n",
              "</body>\n",
              "</html>"
            ]
          },
          "metadata": {}
        }
      ]
    },
    {
      "cell_type": "markdown",
      "source": [
        "A variabilidade de participantes vestibulandos em diferentes faixa etárias de escolas públicas é maior, em relação às escolas privadas. Além disso, tanto para escolas públicas, quanto para privadas, a maior ocorrência foram de alunos entre 18 e 17 anos."
      ],
      "metadata": {
        "id": "OBKAhQYxJG1-"
      }
    },
    {
      "cell_type": "markdown",
      "source": [
        "## Medidas de Tendência Central  \n",
        "Serão analisados média, moda e mediana de escolas públicas e privadas, expondo as características do conjunto de dados, como os dados estão distribuídos."
      ],
      "metadata": {
        "id": "EUFscoKCK59P"
      }
    },
    {
      "cell_type": "markdown",
      "source": [
        "Média:"
      ],
      "metadata": {
        "id": "qr0YBq23Lmke"
      }
    },
    {
      "cell_type": "code",
      "source": [
        "med_pub = round(esc_publica.NOTA_FINAL.mean(), 2)\n",
        "med_priv = round(esc_privada[\"NOTA_FINAL\"].mean(), 2)"
      ],
      "metadata": {
        "id": "kxImQL2CITM4",
        "execution": {
          "iopub.status.busy": "2022-10-10T12:22:05.734885Z",
          "iopub.execute_input": "2022-10-10T12:22:05.735249Z",
          "iopub.status.idle": "2022-10-10T12:22:05.741302Z",
          "shell.execute_reply.started": "2022-10-10T12:22:05.735217Z",
          "shell.execute_reply": "2022-10-10T12:22:05.740488Z"
        },
        "trusted": true
      },
      "execution_count": 30,
      "outputs": []
    },
    {
      "cell_type": "markdown",
      "source": [
        "Moda:"
      ],
      "metadata": {
        "id": "SgGwwx-AGcwn"
      }
    },
    {
      "cell_type": "code",
      "source": [
        "mod_pub = round(esc_publica.NOTA_FINAL.mode(), 2).values\n",
        "mod_priv = round(esc_privada[\"NOTA_FINAL\"].mode(), 2).values"
      ],
      "metadata": {
        "id": "16r-mCYRLgLp",
        "execution": {
          "iopub.status.busy": "2022-10-10T12:22:05.742718Z",
          "iopub.execute_input": "2022-10-10T12:22:05.743286Z",
          "iopub.status.idle": "2022-10-10T12:22:05.757905Z",
          "shell.execute_reply.started": "2022-10-10T12:22:05.743240Z",
          "shell.execute_reply": "2022-10-10T12:22:05.756673Z"
        },
        "trusted": true
      },
      "execution_count": 31,
      "outputs": []
    },
    {
      "cell_type": "markdown",
      "source": [
        "Mediana:"
      ],
      "metadata": {
        "id": "LeWbWT2_hLgL"
      }
    },
    {
      "cell_type": "code",
      "source": [
        "medn_pub = round(esc_publica.NOTA_FINAL.median(), 2)\n",
        "medn_priv = round(esc_privada[\"NOTA_FINAL\"].median(), 2)"
      ],
      "metadata": {
        "id": "KdCV8T6vhfZE",
        "execution": {
          "iopub.status.busy": "2022-10-10T12:22:05.759713Z",
          "iopub.execute_input": "2022-10-10T12:22:05.760570Z",
          "iopub.status.idle": "2022-10-10T12:22:05.770544Z",
          "shell.execute_reply.started": "2022-10-10T12:22:05.760534Z",
          "shell.execute_reply": "2022-10-10T12:22:05.769582Z"
        },
        "trusted": true
      },
      "execution_count": 32,
      "outputs": []
    },
    {
      "cell_type": "code",
      "source": [
        "dados_mtc = {\"MEDIA\": [med_pub, med_priv],\n",
        "             \"MODA\": [mod_pub, mod_priv],\n",
        "             \"MEDIANA\": [medn_pub, medn_priv]}"
      ],
      "metadata": {
        "id": "jwbyEyw73wRb",
        "execution": {
          "iopub.status.busy": "2022-10-10T12:22:05.772037Z",
          "iopub.execute_input": "2022-10-10T12:22:05.772399Z",
          "iopub.status.idle": "2022-10-10T12:22:05.780005Z",
          "shell.execute_reply.started": "2022-10-10T12:22:05.772367Z",
          "shell.execute_reply": "2022-10-10T12:22:05.779195Z"
        },
        "trusted": true
      },
      "execution_count": 33,
      "outputs": []
    },
    {
      "cell_type": "code",
      "source": [
        "df_mtc = pd.DataFrame(dados_mtc, index=[\"ESCOLA_PUBLICA\",\n",
        "                                        \"ESCOLA_PRIVADA\"])\n",
        "df_mtc"
      ],
      "metadata": {
        "id": "XxlO3M546Mug",
        "execution": {
          "iopub.status.busy": "2022-10-10T12:22:05.781287Z",
          "iopub.execute_input": "2022-10-10T12:22:05.781948Z",
          "iopub.status.idle": "2022-10-10T12:22:05.799482Z",
          "shell.execute_reply.started": "2022-10-10T12:22:05.781913Z",
          "shell.execute_reply": "2022-10-10T12:22:05.798360Z"
        },
        "trusted": true,
        "colab": {
          "base_uri": "https://localhost:8080/",
          "height": 112
        },
        "outputId": "9675245b-9181-4c2a-e977-94b77d71c81a"
      },
      "execution_count": 34,
      "outputs": [
        {
          "output_type": "execute_result",
          "data": {
            "text/plain": [
              "                 MEDIA                      MODA  MEDIANA\n",
              "ESCOLA_PUBLICA  488.31   [447.04, 501.3, 533.06]   479.70\n",
              "ESCOLA_PRIVADA  576.67  [470.92, 528.24, 663.78]   572.73"
            ],
            "text/html": [
              "\n",
              "  <div id=\"df-34f686b2-65b8-49c8-84ac-ebcbc9142c55\">\n",
              "    <div class=\"colab-df-container\">\n",
              "      <div>\n",
              "<style scoped>\n",
              "    .dataframe tbody tr th:only-of-type {\n",
              "        vertical-align: middle;\n",
              "    }\n",
              "\n",
              "    .dataframe tbody tr th {\n",
              "        vertical-align: top;\n",
              "    }\n",
              "\n",
              "    .dataframe thead th {\n",
              "        text-align: right;\n",
              "    }\n",
              "</style>\n",
              "<table border=\"1\" class=\"dataframe\">\n",
              "  <thead>\n",
              "    <tr style=\"text-align: right;\">\n",
              "      <th></th>\n",
              "      <th>MEDIA</th>\n",
              "      <th>MODA</th>\n",
              "      <th>MEDIANA</th>\n",
              "    </tr>\n",
              "  </thead>\n",
              "  <tbody>\n",
              "    <tr>\n",
              "      <th>ESCOLA_PUBLICA</th>\n",
              "      <td>488.31</td>\n",
              "      <td>[447.04, 501.3, 533.06]</td>\n",
              "      <td>479.70</td>\n",
              "    </tr>\n",
              "    <tr>\n",
              "      <th>ESCOLA_PRIVADA</th>\n",
              "      <td>576.67</td>\n",
              "      <td>[470.92, 528.24, 663.78]</td>\n",
              "      <td>572.73</td>\n",
              "    </tr>\n",
              "  </tbody>\n",
              "</table>\n",
              "</div>\n",
              "      <button class=\"colab-df-convert\" onclick=\"convertToInteractive('df-34f686b2-65b8-49c8-84ac-ebcbc9142c55')\"\n",
              "              title=\"Convert this dataframe to an interactive table.\"\n",
              "              style=\"display:none;\">\n",
              "        \n",
              "  <svg xmlns=\"http://www.w3.org/2000/svg\" height=\"24px\"viewBox=\"0 0 24 24\"\n",
              "       width=\"24px\">\n",
              "    <path d=\"M0 0h24v24H0V0z\" fill=\"none\"/>\n",
              "    <path d=\"M18.56 5.44l.94 2.06.94-2.06 2.06-.94-2.06-.94-.94-2.06-.94 2.06-2.06.94zm-11 1L8.5 8.5l.94-2.06 2.06-.94-2.06-.94L8.5 2.5l-.94 2.06-2.06.94zm10 10l.94 2.06.94-2.06 2.06-.94-2.06-.94-.94-2.06-.94 2.06-2.06.94z\"/><path d=\"M17.41 7.96l-1.37-1.37c-.4-.4-.92-.59-1.43-.59-.52 0-1.04.2-1.43.59L10.3 9.45l-7.72 7.72c-.78.78-.78 2.05 0 2.83L4 21.41c.39.39.9.59 1.41.59.51 0 1.02-.2 1.41-.59l7.78-7.78 2.81-2.81c.8-.78.8-2.07 0-2.86zM5.41 20L4 18.59l7.72-7.72 1.47 1.35L5.41 20z\"/>\n",
              "  </svg>\n",
              "      </button>\n",
              "      \n",
              "  <style>\n",
              "    .colab-df-container {\n",
              "      display:flex;\n",
              "      flex-wrap:wrap;\n",
              "      gap: 12px;\n",
              "    }\n",
              "\n",
              "    .colab-df-convert {\n",
              "      background-color: #E8F0FE;\n",
              "      border: none;\n",
              "      border-radius: 50%;\n",
              "      cursor: pointer;\n",
              "      display: none;\n",
              "      fill: #1967D2;\n",
              "      height: 32px;\n",
              "      padding: 0 0 0 0;\n",
              "      width: 32px;\n",
              "    }\n",
              "\n",
              "    .colab-df-convert:hover {\n",
              "      background-color: #E2EBFA;\n",
              "      box-shadow: 0px 1px 2px rgba(60, 64, 67, 0.3), 0px 1px 3px 1px rgba(60, 64, 67, 0.15);\n",
              "      fill: #174EA6;\n",
              "    }\n",
              "\n",
              "    [theme=dark] .colab-df-convert {\n",
              "      background-color: #3B4455;\n",
              "      fill: #D2E3FC;\n",
              "    }\n",
              "\n",
              "    [theme=dark] .colab-df-convert:hover {\n",
              "      background-color: #434B5C;\n",
              "      box-shadow: 0px 1px 3px 1px rgba(0, 0, 0, 0.15);\n",
              "      filter: drop-shadow(0px 1px 2px rgba(0, 0, 0, 0.3));\n",
              "      fill: #FFFFFF;\n",
              "    }\n",
              "  </style>\n",
              "\n",
              "      <script>\n",
              "        const buttonEl =\n",
              "          document.querySelector('#df-34f686b2-65b8-49c8-84ac-ebcbc9142c55 button.colab-df-convert');\n",
              "        buttonEl.style.display =\n",
              "          google.colab.kernel.accessAllowed ? 'block' : 'none';\n",
              "\n",
              "        async function convertToInteractive(key) {\n",
              "          const element = document.querySelector('#df-34f686b2-65b8-49c8-84ac-ebcbc9142c55');\n",
              "          const dataTable =\n",
              "            await google.colab.kernel.invokeFunction('convertToInteractive',\n",
              "                                                     [key], {});\n",
              "          if (!dataTable) return;\n",
              "\n",
              "          const docLinkHtml = 'Like what you see? Visit the ' +\n",
              "            '<a target=\"_blank\" href=https://colab.research.google.com/notebooks/data_table.ipynb>data table notebook</a>'\n",
              "            + ' to learn more about interactive tables.';\n",
              "          element.innerHTML = '';\n",
              "          dataTable['output_type'] = 'display_data';\n",
              "          await google.colab.output.renderOutput(dataTable, element);\n",
              "          const docLink = document.createElement('div');\n",
              "          docLink.innerHTML = docLinkHtml;\n",
              "          element.appendChild(docLink);\n",
              "        }\n",
              "      </script>\n",
              "    </div>\n",
              "  </div>\n",
              "  "
            ]
          },
          "metadata": {},
          "execution_count": 34
        }
      ]
    },
    {
      "cell_type": "code",
      "source": [
        "round((med_priv / med_pub) * 100, 2)"
      ],
      "metadata": {
        "id": "2lbjfLGqAmU9",
        "execution": {
          "iopub.status.busy": "2022-10-10T12:22:05.801315Z",
          "iopub.execute_input": "2022-10-10T12:22:05.801758Z",
          "iopub.status.idle": "2022-10-10T12:22:05.810586Z",
          "shell.execute_reply.started": "2022-10-10T12:22:05.801714Z",
          "shell.execute_reply": "2022-10-10T12:22:05.809320Z"
        },
        "trusted": true,
        "colab": {
          "base_uri": "https://localhost:8080/"
        },
        "outputId": "705fb909-72bf-45c7-e64d-7f3f81092b9b"
      },
      "execution_count": 35,
      "outputs": [
        {
          "output_type": "execute_result",
          "data": {
            "text/plain": [
              "118.1"
            ]
          },
          "metadata": {},
          "execution_count": 35
        }
      ]
    },
    {
      "cell_type": "markdown",
      "source": [
        "A partir da tabela, podemos concluir que a média das notas finais das escolas privadas é 118,1% maior, em relação as das escolas públicas.  \n",
        "É possível notar também que os valores das escolas privadas é superior aos das escolas públicas."
      ],
      "metadata": {
        "id": "tYPOvOt5F8Pw"
      }
    },
    {
      "cell_type": "markdown",
      "source": [
        "## Medidas de Dispersão ou Variação\n",
        "Será verificado o grau de variação das notas finais com relação a média."
      ],
      "metadata": {
        "id": "ENmPVIGvy_2m"
      }
    },
    {
      "cell_type": "markdown",
      "source": [
        "Amplitude:"
      ],
      "metadata": {
        "id": "IpbbgmU5HKen"
      }
    },
    {
      "cell_type": "code",
      "source": [
        "ampt_pub = esc_publica.NOTA_FINAL.max() - esc_publica[\"NOTA_FINAL\"].min()\n",
        "ampt_priv = esc_privada[\"NOTA_FINAL\"].max() - esc_privada.NOTA_FINAL.min()"
      ],
      "metadata": {
        "id": "JXJPx-NsHKB_",
        "execution": {
          "iopub.status.busy": "2022-10-10T12:22:05.812795Z",
          "iopub.execute_input": "2022-10-10T12:22:05.813762Z",
          "iopub.status.idle": "2022-10-10T12:22:05.822837Z",
          "shell.execute_reply.started": "2022-10-10T12:22:05.813669Z",
          "shell.execute_reply": "2022-10-10T12:22:05.821528Z"
        },
        "trusted": true
      },
      "execution_count": 36,
      "outputs": []
    },
    {
      "cell_type": "markdown",
      "source": [
        "Desvio Padrão:"
      ],
      "metadata": {
        "id": "9kr4vLgtzNm4"
      }
    },
    {
      "cell_type": "code",
      "source": [
        "dp_pub = round(esc_publica.NOTA_FINAL.std(), 2)\n",
        "dp_priv = round(esc_privada.NOTA_FINAL.std(), 2)"
      ],
      "metadata": {
        "id": "-GbC7fWmMG4p",
        "execution": {
          "iopub.status.busy": "2022-10-10T12:22:05.824263Z",
          "iopub.execute_input": "2022-10-10T12:22:05.825049Z",
          "iopub.status.idle": "2022-10-10T12:22:05.834783Z",
          "shell.execute_reply.started": "2022-10-10T12:22:05.825008Z",
          "shell.execute_reply": "2022-10-10T12:22:05.833723Z"
        },
        "trusted": true
      },
      "execution_count": 37,
      "outputs": []
    },
    {
      "cell_type": "markdown",
      "source": [
        "Variância:"
      ],
      "metadata": {
        "id": "LcOslxVSzvst"
      }
    },
    {
      "cell_type": "code",
      "source": [
        "var_pub = round(esc_publica.NOTA_FINAL.var(ddof=0), 2)\n",
        "var_priv = round(esc_privada.NOTA_FINAL.var(ddof=0), 2)"
      ],
      "metadata": {
        "id": "Yn0d_mqRzmqd",
        "execution": {
          "iopub.status.busy": "2022-10-10T12:22:05.845378Z",
          "iopub.execute_input": "2022-10-10T12:22:05.846255Z",
          "iopub.status.idle": "2022-10-10T12:22:05.853181Z",
          "shell.execute_reply.started": "2022-10-10T12:22:05.846211Z",
          "shell.execute_reply": "2022-10-10T12:22:05.852215Z"
        },
        "trusted": true
      },
      "execution_count": 38,
      "outputs": []
    },
    {
      "cell_type": "markdown",
      "source": [
        "Desvio Absoluto Médio:"
      ],
      "metadata": {
        "id": "9_jmfuSQjmZh"
      }
    },
    {
      "cell_type": "code",
      "source": [
        "dam_pub = round(esc_publica.NOTA_FINAL.mad(), 2)\n",
        "dam_priv = round(esc_privada.NOTA_FINAL.mad(), 2)"
      ],
      "metadata": {
        "id": "E1NIck7BjFPs",
        "execution": {
          "iopub.status.busy": "2022-10-10T12:22:05.854647Z",
          "iopub.execute_input": "2022-10-10T12:22:05.855409Z",
          "iopub.status.idle": "2022-10-10T12:22:05.865114Z",
          "shell.execute_reply.started": "2022-10-10T12:22:05.855367Z",
          "shell.execute_reply": "2022-10-10T12:22:05.864117Z"
        },
        "trusted": true
      },
      "execution_count": 39,
      "outputs": []
    },
    {
      "cell_type": "code",
      "source": [
        "data_disp_var = {\"AMPLITUDE\": [ampt_pub, ampt_priv],\n",
        "                 \"DESVIO_PADRAO\": [dp_pub, dp_priv],\n",
        "                 \"VARIANCIA\": [var_pub, var_priv],\n",
        "                 \"DESVIO_ABS_MEDIO\": [dam_pub, dam_priv]}"
      ],
      "metadata": {
        "id": "OmHfdlOpL1a4",
        "execution": {
          "iopub.status.busy": "2022-10-10T12:22:05.866655Z",
          "iopub.execute_input": "2022-10-10T12:22:05.867279Z",
          "iopub.status.idle": "2022-10-10T12:22:05.873508Z",
          "shell.execute_reply.started": "2022-10-10T12:22:05.867238Z",
          "shell.execute_reply": "2022-10-10T12:22:05.872325Z"
        },
        "trusted": true
      },
      "execution_count": 41,
      "outputs": []
    },
    {
      "cell_type": "code",
      "source": [
        "df_disp_var = pd.DataFrame(data_disp_var, index=[\"ESCOLA_PUBLICA\",\n",
        "                                                 \"ESCOLA_PRIVADA\"])\n",
        "df_disp_var"
      ],
      "metadata": {
        "id": "mSrRV5bfL1bQ",
        "execution": {
          "iopub.status.busy": "2022-10-10T12:22:05.875097Z",
          "iopub.execute_input": "2022-10-10T12:22:05.875948Z",
          "iopub.status.idle": "2022-10-10T12:22:05.901224Z",
          "shell.execute_reply.started": "2022-10-10T12:22:05.875698Z",
          "shell.execute_reply": "2022-10-10T12:22:05.900143Z"
        },
        "trusted": true,
        "colab": {
          "base_uri": "https://localhost:8080/",
          "height": 112
        },
        "outputId": "ec2a064d-6435-4b36-e645-e1cb8e87a3b1"
      },
      "execution_count": 42,
      "outputs": [
        {
          "output_type": "execute_result",
          "data": {
            "text/plain": [
              "                AMPLITUDE  DESVIO_PADRAO  VARIANCIA  DESVIO_ABS_MEDIO\n",
              "ESCOLA_PUBLICA      452.0          61.02    3722.66             48.43\n",
              "ESCOLA_PRIVADA      377.9          80.59    6481.31             65.79"
            ],
            "text/html": [
              "\n",
              "  <div id=\"df-6005861d-b5d0-4925-a494-c72115abb3ba\">\n",
              "    <div class=\"colab-df-container\">\n",
              "      <div>\n",
              "<style scoped>\n",
              "    .dataframe tbody tr th:only-of-type {\n",
              "        vertical-align: middle;\n",
              "    }\n",
              "\n",
              "    .dataframe tbody tr th {\n",
              "        vertical-align: top;\n",
              "    }\n",
              "\n",
              "    .dataframe thead th {\n",
              "        text-align: right;\n",
              "    }\n",
              "</style>\n",
              "<table border=\"1\" class=\"dataframe\">\n",
              "  <thead>\n",
              "    <tr style=\"text-align: right;\">\n",
              "      <th></th>\n",
              "      <th>AMPLITUDE</th>\n",
              "      <th>DESVIO_PADRAO</th>\n",
              "      <th>VARIANCIA</th>\n",
              "      <th>DESVIO_ABS_MEDIO</th>\n",
              "    </tr>\n",
              "  </thead>\n",
              "  <tbody>\n",
              "    <tr>\n",
              "      <th>ESCOLA_PUBLICA</th>\n",
              "      <td>452.0</td>\n",
              "      <td>61.02</td>\n",
              "      <td>3722.66</td>\n",
              "      <td>48.43</td>\n",
              "    </tr>\n",
              "    <tr>\n",
              "      <th>ESCOLA_PRIVADA</th>\n",
              "      <td>377.9</td>\n",
              "      <td>80.59</td>\n",
              "      <td>6481.31</td>\n",
              "      <td>65.79</td>\n",
              "    </tr>\n",
              "  </tbody>\n",
              "</table>\n",
              "</div>\n",
              "      <button class=\"colab-df-convert\" onclick=\"convertToInteractive('df-6005861d-b5d0-4925-a494-c72115abb3ba')\"\n",
              "              title=\"Convert this dataframe to an interactive table.\"\n",
              "              style=\"display:none;\">\n",
              "        \n",
              "  <svg xmlns=\"http://www.w3.org/2000/svg\" height=\"24px\"viewBox=\"0 0 24 24\"\n",
              "       width=\"24px\">\n",
              "    <path d=\"M0 0h24v24H0V0z\" fill=\"none\"/>\n",
              "    <path d=\"M18.56 5.44l.94 2.06.94-2.06 2.06-.94-2.06-.94-.94-2.06-.94 2.06-2.06.94zm-11 1L8.5 8.5l.94-2.06 2.06-.94-2.06-.94L8.5 2.5l-.94 2.06-2.06.94zm10 10l.94 2.06.94-2.06 2.06-.94-2.06-.94-.94-2.06-.94 2.06-2.06.94z\"/><path d=\"M17.41 7.96l-1.37-1.37c-.4-.4-.92-.59-1.43-.59-.52 0-1.04.2-1.43.59L10.3 9.45l-7.72 7.72c-.78.78-.78 2.05 0 2.83L4 21.41c.39.39.9.59 1.41.59.51 0 1.02-.2 1.41-.59l7.78-7.78 2.81-2.81c.8-.78.8-2.07 0-2.86zM5.41 20L4 18.59l7.72-7.72 1.47 1.35L5.41 20z\"/>\n",
              "  </svg>\n",
              "      </button>\n",
              "      \n",
              "  <style>\n",
              "    .colab-df-container {\n",
              "      display:flex;\n",
              "      flex-wrap:wrap;\n",
              "      gap: 12px;\n",
              "    }\n",
              "\n",
              "    .colab-df-convert {\n",
              "      background-color: #E8F0FE;\n",
              "      border: none;\n",
              "      border-radius: 50%;\n",
              "      cursor: pointer;\n",
              "      display: none;\n",
              "      fill: #1967D2;\n",
              "      height: 32px;\n",
              "      padding: 0 0 0 0;\n",
              "      width: 32px;\n",
              "    }\n",
              "\n",
              "    .colab-df-convert:hover {\n",
              "      background-color: #E2EBFA;\n",
              "      box-shadow: 0px 1px 2px rgba(60, 64, 67, 0.3), 0px 1px 3px 1px rgba(60, 64, 67, 0.15);\n",
              "      fill: #174EA6;\n",
              "    }\n",
              "\n",
              "    [theme=dark] .colab-df-convert {\n",
              "      background-color: #3B4455;\n",
              "      fill: #D2E3FC;\n",
              "    }\n",
              "\n",
              "    [theme=dark] .colab-df-convert:hover {\n",
              "      background-color: #434B5C;\n",
              "      box-shadow: 0px 1px 3px 1px rgba(0, 0, 0, 0.15);\n",
              "      filter: drop-shadow(0px 1px 2px rgba(0, 0, 0, 0.3));\n",
              "      fill: #FFFFFF;\n",
              "    }\n",
              "  </style>\n",
              "\n",
              "      <script>\n",
              "        const buttonEl =\n",
              "          document.querySelector('#df-6005861d-b5d0-4925-a494-c72115abb3ba button.colab-df-convert');\n",
              "        buttonEl.style.display =\n",
              "          google.colab.kernel.accessAllowed ? 'block' : 'none';\n",
              "\n",
              "        async function convertToInteractive(key) {\n",
              "          const element = document.querySelector('#df-6005861d-b5d0-4925-a494-c72115abb3ba');\n",
              "          const dataTable =\n",
              "            await google.colab.kernel.invokeFunction('convertToInteractive',\n",
              "                                                     [key], {});\n",
              "          if (!dataTable) return;\n",
              "\n",
              "          const docLinkHtml = 'Like what you see? Visit the ' +\n",
              "            '<a target=\"_blank\" href=https://colab.research.google.com/notebooks/data_table.ipynb>data table notebook</a>'\n",
              "            + ' to learn more about interactive tables.';\n",
              "          element.innerHTML = '';\n",
              "          dataTable['output_type'] = 'display_data';\n",
              "          await google.colab.output.renderOutput(dataTable, element);\n",
              "          const docLink = document.createElement('div');\n",
              "          docLink.innerHTML = docLinkHtml;\n",
              "          element.appendChild(docLink);\n",
              "        }\n",
              "      </script>\n",
              "    </div>\n",
              "  </div>\n",
              "  "
            ]
          },
          "metadata": {},
          "execution_count": 42
        }
      ]
    },
    {
      "cell_type": "markdown",
      "source": [
        "A amplitude revela que as notas das escolas públicas estão mais próximas uma das outras, em relação as das privadas.  \n",
        "É possível perceber que o desvio padrão das escolas privadas é maior, indicando dados que os dados estão melhor distribuídos, se comprado aos das escolas públicas. Essa informação é enfatizada ao olhar para variância dos dados."
      ],
      "metadata": {
        "id": "LrOVhd5LJpjt"
      }
    },
    {
      "cell_type": "markdown",
      "source": [
        "## Medidas de Posição\n",
        "Com as medidas de posição, é possível descrever a tendência da concentração dos valores observados no dataframe."
      ],
      "metadata": {
        "id": "anSLypnWlRIQ"
      }
    },
    {
      "cell_type": "markdown",
      "source": [
        "Fractis:"
      ],
      "metadata": {
        "id": "CD6NPPGFXupM"
      }
    },
    {
      "cell_type": "code",
      "source": [
        "q1_priv = esc_privada.NOTA_FINAL.quantile(q=0.25)\n",
        "q2_priv = esc_privada.NOTA_FINAL.median()\n",
        "q3_priv = esc_privada.NOTA_FINAL.quantile(q=0.75)\n",
        "q4_priv = esc_privada.NOTA_FINAL.max()"
      ],
      "metadata": {
        "id": "e5LZbG2-Z4bM",
        "execution": {
          "iopub.status.busy": "2022-10-10T12:22:05.902800Z",
          "iopub.execute_input": "2022-10-10T12:22:05.903458Z",
          "iopub.status.idle": "2022-10-10T12:22:05.913497Z",
          "shell.execute_reply.started": "2022-10-10T12:22:05.903415Z",
          "shell.execute_reply": "2022-10-10T12:22:05.912318Z"
        },
        "trusted": true
      },
      "execution_count": 43,
      "outputs": []
    },
    {
      "cell_type": "code",
      "source": [
        "q1_pub = esc_publica.NOTA_FINAL.quantile(q=0.25)\n",
        "q2_pub = esc_publica.NOTA_FINAL.quantile(q=0.5)\n",
        "q3_pub = esc_publica.NOTA_FINAL.quantile(q=0.75)\n",
        "q4_pub = esc_publica.NOTA_FINAL.quantile(q=1)"
      ],
      "metadata": {
        "id": "ahBN_S00YTwp",
        "execution": {
          "iopub.status.busy": "2022-10-10T12:22:05.915264Z",
          "iopub.execute_input": "2022-10-10T12:22:05.915797Z",
          "iopub.status.idle": "2022-10-10T12:22:05.928066Z",
          "shell.execute_reply.started": "2022-10-10T12:22:05.915756Z",
          "shell.execute_reply": "2022-10-10T12:22:05.926859Z"
        },
        "trusted": true
      },
      "execution_count": 44,
      "outputs": []
    },
    {
      "cell_type": "code",
      "source": [
        "iqr_pub = q3_pub - q1_pub\n",
        "iqr_priv = q3_priv - q1_priv"
      ],
      "metadata": {
        "id": "GPBqNRuKbz1x",
        "execution": {
          "iopub.status.busy": "2022-10-10T12:22:05.929681Z",
          "iopub.execute_input": "2022-10-10T12:22:05.930578Z",
          "iopub.status.idle": "2022-10-10T12:22:05.935477Z",
          "shell.execute_reply.started": "2022-10-10T12:22:05.930534Z",
          "shell.execute_reply": "2022-10-10T12:22:05.934449Z"
        },
        "trusted": true
      },
      "execution_count": 45,
      "outputs": []
    },
    {
      "cell_type": "code",
      "source": [
        "dados_med_pos = {\"Q1\": [q1_pub, q1_priv],\n",
        "                 \"Q2\": [q2_pub, q2_priv],\n",
        "                 \"Q3\": [q3_pub, q3_priv],\n",
        "                 \"Q4\": [q4_pub, q4_priv],\n",
        "                 \"IQR\": [iqr_pub, iqr_priv]}"
      ],
      "metadata": {
        "id": "CTcyxTQDadZw",
        "execution": {
          "iopub.status.busy": "2022-10-10T12:22:05.937015Z",
          "iopub.execute_input": "2022-10-10T12:22:05.937668Z",
          "iopub.status.idle": "2022-10-10T12:22:05.948799Z",
          "shell.execute_reply.started": "2022-10-10T12:22:05.937617Z",
          "shell.execute_reply": "2022-10-10T12:22:05.947423Z"
        },
        "trusted": true
      },
      "execution_count": 46,
      "outputs": []
    },
    {
      "cell_type": "code",
      "source": [
        "df_med_pos = pd.DataFrame(dados_med_pos, index=[\"ESCOLA_PUBLICA\",\n",
        "                                                \"ESCOLA_PRIVADA\"])\n",
        "df_med_pos"
      ],
      "metadata": {
        "id": "gB6fn-N7bDLR",
        "execution": {
          "iopub.status.busy": "2022-10-10T12:22:05.950407Z",
          "iopub.execute_input": "2022-10-10T12:22:05.950821Z",
          "iopub.status.idle": "2022-10-10T12:22:05.971400Z",
          "shell.execute_reply.started": "2022-10-10T12:22:05.950784Z",
          "shell.execute_reply": "2022-10-10T12:22:05.970312Z"
        },
        "trusted": true,
        "colab": {
          "base_uri": "https://localhost:8080/",
          "height": 112
        },
        "outputId": "4f6ef3dd-3550-4671-f067-82e4fb547323"
      },
      "execution_count": 47,
      "outputs": [
        {
          "output_type": "execute_result",
          "data": {
            "text/plain": [
              "                    Q1      Q2       Q3      Q4      IQR\n",
              "ESCOLA_PUBLICA  443.60  479.70  524.700  778.14   81.100\n",
              "ESCOLA_PRIVADA  520.06  572.73  636.495  775.64  116.435"
            ],
            "text/html": [
              "\n",
              "  <div id=\"df-91c17d22-fcb4-41d7-b587-85571ecf6ea1\">\n",
              "    <div class=\"colab-df-container\">\n",
              "      <div>\n",
              "<style scoped>\n",
              "    .dataframe tbody tr th:only-of-type {\n",
              "        vertical-align: middle;\n",
              "    }\n",
              "\n",
              "    .dataframe tbody tr th {\n",
              "        vertical-align: top;\n",
              "    }\n",
              "\n",
              "    .dataframe thead th {\n",
              "        text-align: right;\n",
              "    }\n",
              "</style>\n",
              "<table border=\"1\" class=\"dataframe\">\n",
              "  <thead>\n",
              "    <tr style=\"text-align: right;\">\n",
              "      <th></th>\n",
              "      <th>Q1</th>\n",
              "      <th>Q2</th>\n",
              "      <th>Q3</th>\n",
              "      <th>Q4</th>\n",
              "      <th>IQR</th>\n",
              "    </tr>\n",
              "  </thead>\n",
              "  <tbody>\n",
              "    <tr>\n",
              "      <th>ESCOLA_PUBLICA</th>\n",
              "      <td>443.60</td>\n",
              "      <td>479.70</td>\n",
              "      <td>524.700</td>\n",
              "      <td>778.14</td>\n",
              "      <td>81.100</td>\n",
              "    </tr>\n",
              "    <tr>\n",
              "      <th>ESCOLA_PRIVADA</th>\n",
              "      <td>520.06</td>\n",
              "      <td>572.73</td>\n",
              "      <td>636.495</td>\n",
              "      <td>775.64</td>\n",
              "      <td>116.435</td>\n",
              "    </tr>\n",
              "  </tbody>\n",
              "</table>\n",
              "</div>\n",
              "      <button class=\"colab-df-convert\" onclick=\"convertToInteractive('df-91c17d22-fcb4-41d7-b587-85571ecf6ea1')\"\n",
              "              title=\"Convert this dataframe to an interactive table.\"\n",
              "              style=\"display:none;\">\n",
              "        \n",
              "  <svg xmlns=\"http://www.w3.org/2000/svg\" height=\"24px\"viewBox=\"0 0 24 24\"\n",
              "       width=\"24px\">\n",
              "    <path d=\"M0 0h24v24H0V0z\" fill=\"none\"/>\n",
              "    <path d=\"M18.56 5.44l.94 2.06.94-2.06 2.06-.94-2.06-.94-.94-2.06-.94 2.06-2.06.94zm-11 1L8.5 8.5l.94-2.06 2.06-.94-2.06-.94L8.5 2.5l-.94 2.06-2.06.94zm10 10l.94 2.06.94-2.06 2.06-.94-2.06-.94-.94-2.06-.94 2.06-2.06.94z\"/><path d=\"M17.41 7.96l-1.37-1.37c-.4-.4-.92-.59-1.43-.59-.52 0-1.04.2-1.43.59L10.3 9.45l-7.72 7.72c-.78.78-.78 2.05 0 2.83L4 21.41c.39.39.9.59 1.41.59.51 0 1.02-.2 1.41-.59l7.78-7.78 2.81-2.81c.8-.78.8-2.07 0-2.86zM5.41 20L4 18.59l7.72-7.72 1.47 1.35L5.41 20z\"/>\n",
              "  </svg>\n",
              "      </button>\n",
              "      \n",
              "  <style>\n",
              "    .colab-df-container {\n",
              "      display:flex;\n",
              "      flex-wrap:wrap;\n",
              "      gap: 12px;\n",
              "    }\n",
              "\n",
              "    .colab-df-convert {\n",
              "      background-color: #E8F0FE;\n",
              "      border: none;\n",
              "      border-radius: 50%;\n",
              "      cursor: pointer;\n",
              "      display: none;\n",
              "      fill: #1967D2;\n",
              "      height: 32px;\n",
              "      padding: 0 0 0 0;\n",
              "      width: 32px;\n",
              "    }\n",
              "\n",
              "    .colab-df-convert:hover {\n",
              "      background-color: #E2EBFA;\n",
              "      box-shadow: 0px 1px 2px rgba(60, 64, 67, 0.3), 0px 1px 3px 1px rgba(60, 64, 67, 0.15);\n",
              "      fill: #174EA6;\n",
              "    }\n",
              "\n",
              "    [theme=dark] .colab-df-convert {\n",
              "      background-color: #3B4455;\n",
              "      fill: #D2E3FC;\n",
              "    }\n",
              "\n",
              "    [theme=dark] .colab-df-convert:hover {\n",
              "      background-color: #434B5C;\n",
              "      box-shadow: 0px 1px 3px 1px rgba(0, 0, 0, 0.15);\n",
              "      filter: drop-shadow(0px 1px 2px rgba(0, 0, 0, 0.3));\n",
              "      fill: #FFFFFF;\n",
              "    }\n",
              "  </style>\n",
              "\n",
              "      <script>\n",
              "        const buttonEl =\n",
              "          document.querySelector('#df-91c17d22-fcb4-41d7-b587-85571ecf6ea1 button.colab-df-convert');\n",
              "        buttonEl.style.display =\n",
              "          google.colab.kernel.accessAllowed ? 'block' : 'none';\n",
              "\n",
              "        async function convertToInteractive(key) {\n",
              "          const element = document.querySelector('#df-91c17d22-fcb4-41d7-b587-85571ecf6ea1');\n",
              "          const dataTable =\n",
              "            await google.colab.kernel.invokeFunction('convertToInteractive',\n",
              "                                                     [key], {});\n",
              "          if (!dataTable) return;\n",
              "\n",
              "          const docLinkHtml = 'Like what you see? Visit the ' +\n",
              "            '<a target=\"_blank\" href=https://colab.research.google.com/notebooks/data_table.ipynb>data table notebook</a>'\n",
              "            + ' to learn more about interactive tables.';\n",
              "          element.innerHTML = '';\n",
              "          dataTable['output_type'] = 'display_data';\n",
              "          await google.colab.output.renderOutput(dataTable, element);\n",
              "          const docLink = document.createElement('div');\n",
              "          docLink.innerHTML = docLinkHtml;\n",
              "          element.appendChild(docLink);\n",
              "        }\n",
              "      </script>\n",
              "    </div>\n",
              "  </div>\n",
              "  "
            ]
          },
          "metadata": {},
          "execution_count": 47
        }
      ]
    },
    {
      "cell_type": "markdown",
      "source": [
        "### Outliers"
      ],
      "metadata": {
        "id": "2ic4dX2Vda-W"
      }
    },
    {
      "cell_type": "code",
      "source": [
        "boxplot_notas = px.box(df_estudo, y=\"NOTA_FINAL\", width=500, notched=True,\n",
        "                       color=\"TP_ESCOLA\", color_discrete_sequence=tema)\n",
        "\n",
        "boxplot_notas.update_layout(font_size=12, yaxis=dict(title=\"Nota Final\"),\n",
        "                            title=dict(text=\"Comparação de Notas\", x=0.5,\n",
        "                                       font_size=22),\n",
        "                            legend=dict(title=\"Escola\", borderwidth=1,\n",
        "                                        bordercolor=\"lightgrey\",\n",
        "                                        bgcolor=\"rgb(251, 251, 251)\"),\n",
        "                            plot_bgcolor=\"rgb(250, 250, 250)\")"
      ],
      "metadata": {
        "id": "vKEoTCIkkTLM",
        "execution": {
          "iopub.status.busy": "2022-10-10T12:22:05.973022Z",
          "iopub.execute_input": "2022-10-10T12:22:05.973713Z",
          "iopub.status.idle": "2022-10-10T12:22:06.044944Z",
          "shell.execute_reply.started": "2022-10-10T12:22:05.973666Z",
          "shell.execute_reply": "2022-10-10T12:22:06.043782Z"
        },
        "trusted": true,
        "colab": {
          "base_uri": "https://localhost:8080/",
          "height": 542
        },
        "outputId": "47b8ffc1-f08f-46a2-ac28-b70f89baf091"
      },
      "execution_count": 48,
      "outputs": [
        {
          "output_type": "display_data",
          "data": {
            "text/html": [
              "<html>\n",
              "<head><meta charset=\"utf-8\" /></head>\n",
              "<body>\n",
              "    <div>            <script src=\"https://cdnjs.cloudflare.com/ajax/libs/mathjax/2.7.5/MathJax.js?config=TeX-AMS-MML_SVG\"></script><script type=\"text/javascript\">if (window.MathJax) {MathJax.Hub.Config({SVG: {font: \"STIX-Web\"}});}</script>                <script type=\"text/javascript\">window.PlotlyConfig = {MathJaxConfig: 'local'};</script>\n",
              "        <script src=\"https://cdn.plot.ly/plotly-2.8.3.min.js\"></script>                <div id=\"d657e43d-2210-41a9-a8aa-1f922e319d53\" class=\"plotly-graph-div\" style=\"height:525px; width:500px;\"></div>            <script type=\"text/javascript\">                                    window.PLOTLYENV=window.PLOTLYENV || {};                                    if (document.getElementById(\"d657e43d-2210-41a9-a8aa-1f922e319d53\")) {                    Plotly.newPlot(                        \"d657e43d-2210-41a9-a8aa-1f922e319d53\",                        [{\"alignmentgroup\":\"True\",\"hovertemplate\":\"TP_ESCOLA=publica<br>NOTA_FINAL=%{y}<extra></extra>\",\"legendgroup\":\"publica\",\"marker\":{\"color\":\"#FD3216\"},\"name\":\"publica\",\"notched\":true,\"offsetgroup\":\"publica\",\"orientation\":\"v\",\"showlegend\":true,\"x0\":\" \",\"xaxis\":\"x\",\"y\":[515.8799999999999,514.24,629.76,527.54,442.4799999999999,522.98,468.0400000000001,530.52,462.16,484.41999999999996,402.0400000000001,416.8,599.22,524.8399999999999,465.26000000000005,483.8,617.2,483.2,468.02,462.06000000000006,628.96,425.16,440.26000000000005,448.3,479.28000000000003,619.8799999999999,561.78,508.03999999999996,617.1600000000001,484.7799999999999,614.8399999999999,517.74,453.36,440.86,654.1600000000001,503.68,412.55999999999995,454.26000000000005,599.6800000000001,607.6,440.52,618.42,443.52,598.5,498.91999999999996,481.64,501.0,548.9399999999999,504.43999999999994,536.16,434.0,617.3,464.03999999999996,500.02,444.21999999999997,474.46000000000004,435.34,462.12,402.5,557.98,457.84,527.58,459.6,435.5799999999999,586.4799999999999,434.5799999999999,580.6800000000001,466.05999999999995,406.15999999999997,500.7,427.7,589.0600000000001,425.82,428.12,542.3199999999999,530.0600000000001,452.06000000000006,568.8399999999999,469.5200000000001,514.36,561.26,451.18,446.4200000000001,524.1600000000001,512.96,713.36,697.5,627.04,467.53999999999996,435.67999999999995,516.1800000000001,461.58000000000004,503.02,479.58000000000004,564.42,481.84,569.5,626.4200000000001,642.48,453.9,523.74,536.5200000000001,514.0,433.34,454.26000000000005,491.9,421.12,448.53999999999996,520.04,624.42,496.2799999999999,460.37999999999994,400.35999999999996,499.91999999999996,486.2,453.98,614.38,629.0,485.1,613.1200000000001,552.0600000000001,590.64,511.4,540.76,560.5,523.4799999999999,472.02,443.98,613.86,551.52,549.8399999999999,511.82000000000005,536.32,481.82000000000005,466.93999999999994,444.1,586.96,478.66,564.1600000000001,536.48,466.2799999999999,520.1,593.14,467.4799999999999,500.64,468.12,503.96000000000004,525.76,587.5,609.6600000000001,592.74,567.76,664.3799999999999,394.64,506.85999999999996,467.34,514.9,527.3199999999999,529.68,567.74,475.41999999999996,555.14,488.52,563.14,428.66,418.18,536.56,604.76,562.8399999999999,475.98,457.78000000000003,589.0200000000001,463.2,545.1400000000001,528.22,455.9,526.1600000000001,606.76,431.75999999999993,566.88,493.3,661.28,537.3199999999999,462.66,485.64,466.34,572.34,513.38,466.88,550.3399999999999,475.38,520.04,583.2,408.5,464.26000000000005,422.34,434.93999999999994,615.1600000000001,440.78000000000003,477.52,575.9,402.71999999999997,703.6600000000001,387.02,557.74,475.21999999999997,495.34,575.86,514.58,574.4,516.42,338.86,609.08,492.24000000000007,471.62000000000006,545.2,462.76000000000005,490.5,557.22,509.84,542.7,501.1,461.18,543.28,550.28,505.5200000000001,491.52,520.42,524.24,522.6,532.1800000000001,552.74,432.71999999999997,445.14,689.4,445.38,466.32,537.88,443.23999999999995,487.18,465.76000000000005,477.3,526.42,596.3799999999999,513.08,477.62,416.36,507.98,434.5,544.08,495.82,490.16,482.02,503.32000000000005,508.26000000000005,480.68,458.06000000000006,532.0200000000001,476.96000000000004,512.98,451.16,504.4,502.9200000000001,432.0200000000001,490.08000000000004,410.64,434.26000000000005,450.93999999999994,630.4399999999999,434.0200000000001,411.08000000000004,426.43999999999994,459.06000000000006,538.98,577.8399999999999,667.94,513.54,474.21999999999997,442.8,604.52,617.74,420.3,407.41999999999996,441.41999999999996,500.56000000000006,515.9,495.96000000000004,470.71999999999997,445.2799999999999,694.86,535.26,605.24,560.9399999999999,526.54,488.8,535.4200000000001,532.28,437.0200000000001,437.0799999999999,521.5200000000001,460.73999999999995,576.2,514.14,477.7,449.93999999999994,479.23999999999995,472.82,466.0200000000001,495.28000000000003,574.46,496.73999999999995,559.54,523.6,526.8799999999999,533.0600000000001,590.78,487.14,482.18,457.4,447.98,582.58,523.9599999999999,563.1,420.1,434.0,447.0,522.6,479.3,467.32,462.32000000000005,484.23999999999995,514.22,456.64,519.86,602.8,640.54,619.2,576.8,474.3,522.54,534.5,484.23999999999995,442.2799999999999,570.86,460.16,497.38,486.53999999999996,496.02,497.28000000000003,488.56000000000006,630.9,455.12,575.12,466.4799999999999,434.9,500.0,465.0,605.92,458.21999999999997,517.3,597.48,440.62000000000006,531.3799999999999,498.93999999999994,598.04,591.22,538.38,609.46,529.1600000000001,374.88,463.46000000000004,431.32,717.42,536.28,436.0200000000001,493.96000000000004,494.5,443.71999999999997,396.62,431.62,531.3199999999999,498.46000000000004,498.98,564.8399999999999,434.58000000000004,533.38,462.5400000000001,568.9399999999999,493.43999999999994,556.1600000000001,572.9,462.62,545.7,454.8,674.14,460.52,514.3,375.7,465.12,516.5,554.8599999999999,519.1,572.2,503.16,467.02,416.62,425.7200000000001,514.58,438.06000000000006,475.17999999999995,493.43999999999994,434.4,592.0,499.1,506.4,474.2200000000001,411.08000000000004,502.82,378.4,447.73999999999995,472.38,529.5200000000001,520.38,516.8399999999999,517.08,455.76000000000005,538.3399999999999,484.5,508.43999999999994,489.4200000000001,460.8,388.48,524.46,431.41999999999996,447.6,404.21999999999997,407.06000000000006,436.43999999999994,486.32,510.48,544.2,524.18,487.98,450.62,427.53999999999996,778.1400000000001,401.76000000000005,442.46000000000004,461.9,597.58,432.21999999999997,447.52,550.58,448.38,484.5,424.84,491.86,453.06000000000006,474.86,502.06000000000006,472.18,671.3,707.44,450.9200000000001,482.0,426.2,455.14,442.93999999999994,529.78,487.1,434.28000000000003,564.6,457.6,433.2,406.36,478.34,387.41999999999996,592.62,503.7,429.08000000000004,492.2200000000001,542.5200000000001,474.5,516.0,497.78000000000003,396.28,465.23999999999995,455.14,412.52,390.12,428.16,494.82000000000005,486.58000000000004,594.92,485.16,540.3,392.03999999999996,593.46,463.64,480.08000000000004,477.0200000000001,606.12,413.64000000000004,474.73999999999995,521.24,466.9,492.7,450.67999999999995,479.23999999999995,486.52,501.58000000000004,561.68,593.2,451.6,418.66,563.4399999999999,478.34000000000003,483.43999999999994,605.3199999999999,538.3399999999999,406.40000000000003,537.28,457.62000000000006,424.8,481.32,474.64,456.2,449.48,464.58000000000004,574.24,421.73999999999995,521.62,576.48,461.53999999999996,462.84,531.22,607.26,495.67999999999995,485.4,513.2,578.26,544.0,457.32,437.0,490.56000000000006,450.7,513.28,601.72,461.28000000000003,526.5799999999999,554.38,410.71999999999997,487.2,573.72,551.3199999999999,429.12,474.0,512.7,455.55999999999995,435.53999999999996,489.1,565.44,601.1800000000001,425.28000000000003,469.46000000000004,575.0,575.76,444.2799999999999,577.1800000000001,501.3,457.86,435.32,481.2,619.4799999999999,484.48,430.88,477.4,440.5,573.98,488.58000000000004,548.3799999999999,500.64000000000004,419.41999999999996,455.1,399.65999999999997,449.62000000000006,472.38,654.5,461.3,617.7,511.12,506.71999999999997,434.4,531.46,447.12,447.7200000000001,500.26000000000005,450.3,504.58000000000004,555.8399999999999,495.08000000000004,458.84,472.18,440.58000000000004,512.64,562.96,498.4,491.8,475.23999999999995,583.6600000000001,559.26,460.4799999999999,566.72,512.9399999999999,555.04,584.54,475.3,487.14,615.64,537.84,473.12,533.62,585.24,472.64,633.74,515.24,486.26000000000005,463.5,527.5,485.86,551.54,427.67999999999995,402.56000000000006,469.68,464.84,517.24,430.64,533.62,534.5,510.64,630.54,475.6,429.86,541.3599999999999,483.9,529.1600000000001,433.18,469.64000000000004,422.5,483.62000000000006,469.8,473.5,545.9399999999999,671.78,496.58000000000004,449.66,500.78000000000003,564.8199999999999,584.3399999999999,550.2,410.4,395.3,497.91999999999996,499.9799999999999,491.98,434.3,461.96000000000004,541.92,535.6,442.73999999999995,405.17999999999995,538.28,482.03999999999996,410.48,516.3399999999999,478.52,455.62,458.08000000000004,515.8399999999999,507.66,522.22,633.5200000000001,472.91999999999996,471.58000000000004,484.58000000000004,497.76000000000005,413.52,537.42,523.0,605.5600000000001,444.5,485.73999999999995,416.26000000000005,448.86,418.3,478.64,509.62000000000006,411.68,497.03999999999996,501.76000000000005,511.41999999999996,572.3199999999999,424.53999999999996,506.84,423.5,488.4,431.5,470.36,556.08,480.71999999999997,456.14,514.42,559.04,543.74,573.64,393.68,510.52,517.4,470.32,556.4799999999999,512.86,472.8,447.3,464.7,507.98,513.3399999999999,416.4200000000001,430.2799999999999,426.53999999999996,530.54,403.4,485.96000000000004,494.02,442.4200000000001,574.14,413.08000000000004,427.18,580.6,560.8399999999999,404.36,490.06000000000006,528.1600000000001,444.88,411.56000000000006,497.12,473.41999999999996,476.06000000000006,583.3199999999999,502.64,482.1,416.52,578.28,499.06000000000006,427.02,452.26000000000005,566.58,506.66,486.52,536.3799999999999,504.28000000000003,499.86,410.98,460.96000000000004,509.4,493.52,407.58000000000004,510.82,490.9,513.1,487.06000000000006,472.08000000000004,475.14,390.98,458.26000000000005,548.76,452.32000000000005,543.76,447.96000000000004,439.36,436.88,442.9200000000001,520.36,458.96000000000004,550.22,530.64,450.98,431.52,534.26,433.44000000000005,625.1,451.28000000000003,514.52,517.64,458.0,470.48,551.02,518.1600000000001,550.98,507.88,608.88,426.62000000000006,475.71999999999997,561.6400000000001,443.4,420.1,450.0,428.43999999999994,476.9200000000001,503.6,429.02,509.91999999999996,576.78,468.12000000000006,464.7799999999999,442.7,503.5,439.96000000000004,461.1,531.64,421.76000000000005,496.6,510.21999999999997,472.93999999999994,439.38,527.9,553.6400000000001,621.72,452.08000000000004,501.96000000000004,491.12,454.62,443.2799999999999,517.3799999999999,484.6,589.28,501.38,564.3,472.18,494.34000000000003,421.88,561.62,409.2,409.38,502.3,490.36,468.7,511.4,447.5,569.8399999999999,516.42,430.26000000000005,623.98,446.82000000000005,449.93999999999994,398.54,530.52,403.6,555.6,474.56000000000006,487.9,610.3799999999999,609.26,604.4799999999999,485.2,430.8,517.2,465.0,575.72,476.78000000000003,602.26,596.0600000000001,506.68,666.14,397.76000000000005,588.26,426.4,543.78,543.68,450.4200000000001,434.32,460.58000000000004,465.3,444.16,608.86,422.1,533.0600000000001,604.68,590.94,505.34,534.6,473.76000000000005,479.23999999999995,587.96,462.8,498.84,458.86,518.0600000000001,439.88,524.7,452.3,406.47999999999996,433.36,473.7200000000001,468.78000000000003,528.88,423.0799999999999,485.38,518.58,632.36,470.87999999999994,534.22,509.38,412.44000000000005,588.52,457.2799999999999,442.3,640.4,420.3,585.2199999999999,546.74,472.03999999999996,462.58000000000004,565.5600000000001,510.3,431.12,613.1,465.46000000000004,470.03999999999996,480.84,407.6,532.3399999999999,478.2200000000001,601.4,476.74000000000007,466.18,504.41999999999996,753.9200000000001,563.26,552.8399999999999,404.28000000000003,471.14,547.88,600.4,458.7,445.64,489.21999999999997,532.42,463.6,431.18,474.32000000000005,453.21999999999997,368.65999999999997,400.78,457.06000000000006,493.25999999999993,519.46,384.91999999999996,432.03999999999996,497.23999999999995,432.1,550.08,481.03999999999996,403.52,465.9,504.74000000000007,465.66,569.14,492.52,427.41999999999996,453.0,544.3,478.4,579.98,494.36,462.91999999999996,537.4,349.02000000000004,509.26000000000005,410.88,481.41999999999996,522.0,496.2,445.87999999999994,495.6,420.82,450.71999999999997,475.73999999999995,635.34,478.53999999999996,528.04,420.12,443.6,493.48,422.36,413.34,444.93999999999994,458.6,457.26000000000005,545.76,670.48,431.86,449.0,578.02,509.96000000000004,422.56000000000006,476.5799999999999,494.14,523.9399999999999,456.66,580.1800000000001,472.43999999999994,426.76000000000005,326.14,515.02,463.7200000000001,560.42,454.23999999999995,430.88,471.88,539.62,508.7799999999999,507.84,541.8399999999999,434.26000000000005,443.2,501.78000000000003,419.5,469.91999999999996,408.9,422.43999999999994,447.2799999999999,506.7,519.76,498.06000000000006,499.23999999999995,400.82,419.91999999999996,447.03999999999996,456.21999999999997,447.43999999999994,468.46000000000004,467.08000000000004,508.53999999999996,510.08000000000004,421.0,394.71999999999997,503.68,568.5600000000001,505.43999999999994,495.5,468.62,415.7,487.1,530.4,428.43999999999994,551.6,493.0,439.28000000000003,427.73999999999995,441.3,453.2,464.6,505.5,473.0200000000001,465.14,516.78,564.0600000000001,497.34,505.2799999999999,441.28000000000003,572.8599999999999,541.36,590.0,450.34,494.34,460.18,440.28000000000003,452.46000000000004,499.53999999999996,426.98,539.5,498.0,478.06000000000006,622.78,569.42,421.86,468.1,516.48,456.34,420.53999999999996,506.71999999999997,501.5,498.9,513.78,574.94,435.68,502.08000000000004,458.71999999999997,550.96,422.36,479.4,476.46000000000004,396.55999999999995,470.08000000000004,431.64,492.7,505.23999999999995,538.0,462.18,576.6,454.6,402.14,519.02,446.36,531.6,532.14,403.96,419.23999999999995,462.71999999999997,550.8399999999999,486.5,461.52,484.36,461.34,514.3399999999999,405.74,409.64,512.08,471.8,467.64,478.66,490.88,537.72,515.62,516.0,629.26,525.1800000000001,443.62,383.71999999999997,427.14,649.0600000000001,443.82,523.7,546.54,432.08000000000004,533.92,472.4,538.3,496.82,591.54,487.82000000000005,457.6,547.28,482.48,464.9200000000001,469.9,428.68,440.5,539.3,645.6200000000001,577.6200000000001,560.1800000000001,498.46000000000004,429.46000000000004,489.5200000000001,482.32,524.62,533.5,460.73999999999995,452.58000000000004,468.7799999999999,556.02,505.7,487.12,511.8,740.0600000000001,447.64000000000004,522.4399999999999,522.0799999999999,492.14,558.1,567.24,418.62,429.38,534.3599999999999,389.91999999999996,491.14,445.16,399.9,464.4,520.5600000000001,506.38,482.56000000000006,618.0600000000001,533.9,516.38,526.24,520.92,427.75999999999993,469.28000000000003,476.84,622.0600000000001,505.06000000000006,520.3,430.6,441.14,529.46,449.26000000000005,560.5,493.76000000000005,411.21999999999997,553.9399999999999,588.78,498.6,406.43999999999994,574.5600000000001,456.7200000000001,431.93999999999994,534.3799999999999,436.84,440.5200000000001,472.41999999999996,531.4399999999999,480.68,434.43999999999994,434.36,491.73999999999995,421.82,469.14,549.5600000000001,504.93999999999994,610.22,419.64,470.14,491.98,428.48,492.5,459.71999999999997,596.08,414.8,413.5,499.62,436.03999999999996,526.64,421.96000000000004,632.9200000000001,456.02,508.48,430.03999999999996,446.8,474.26000000000005,635.9,683.0600000000001,454.73999999999995,525.3399999999999,485.41999999999996,531.3599999999999,513.08,597.02,438.41999999999996,516.4200000000001,396.36,446.23999999999995,469.26000000000005,470.1,450.5200000000001,488.84,433.86,407.65999999999997,423.93999999999994,556.38,563.42,422.3,536.9399999999999,498.32,480.02,429.96000000000004,468.53999999999996,474.96000000000004,556.26,460.9,551.0600000000001,489.5799999999999,444.43999999999994,434.62000000000006,454.64,529.92,559.4799999999999,574.28,397.41999999999996,544.08,483.84,522.86,542.8199999999999,565.64,442.34,574.2,413.53999999999996,602.0200000000001,562.86,506.66,478.16,481.96000000000004,507.82,464.41999999999996,454.34,517.6,487.6,454.86,431.73999999999995,531.88,433.1,496.7,526.8399999999999,528.94,504.7,488.62,533.22,501.28000000000003,474.84,574.4,400.75999999999993,472.67999999999995,573.72,485.96000000000004,419.18,480.91999999999996,437.37999999999994,635.78,452.84,566.1600000000001,455.87999999999994,443.5799999999999,432.66,529.86,603.16,470.0799999999999,510.64,504.76000000000005,558.92,373.6,599.8199999999999,434.91999999999996,541.34,428.0,522.08,471.64,489.9,516.2,460.12,454.0200000000001,460.5400000000001,511.8,486.76000000000005,613.08,535.38,576.76,411.9200000000001,408.98,464.26000000000005,481.56000000000006,440.9599999999999,439.0,460.23999999999995,516.04,499.34,526.0600000000001,405.36,469.4,564.0600000000001,433.4799999999999,416.9,477.98,496.03999999999996,535.28,433.46000000000004,543.9799999999999,481.03999999999996,476.37999999999994,480.86,575.96,399.9,484.03999999999996,436.53999999999996,592.84,497.32,525.16,496.64,651.5600000000001,516.4,469.0,432.62,387.03999999999996,499.84,463.03999999999996,577.5200000000001,590.4200000000001,476.93999999999994,513.96,680.36,554.8799999999999,415.26000000000005,537.78,520.48,497.26000000000005,568.4,431.7,476.56000000000006,582.3,439.21999999999997,480.03999999999996,573.0200000000001,548.1800000000001,594.68,464.88,484.08000000000004,395.62,611.7,454.7799999999999,470.52,632.46,461.64,449.91999999999996,512.26,463.12,474.02,484.7,475.64,482.06000000000006,504.16,533.96,537.12,549.5600000000001,591.6400000000001,509.28000000000003,569.3399999999999,474.03999999999996,453.36,448.4,656.62,439.52,490.87999999999994,427.34,461.41999999999996,536.4799999999999,458.28000000000003,451.8,532.3,562.1,523.96,404.34,459.32,484.1,571.3199999999999,474.62,467.18,473.67999999999995,544.28,498.84,476.14,419.23999999999995,519.8199999999999,530.9399999999999,603.64,531.8399999999999,546.0799999999999,537.66,419.4,499.4799999999999,479.28000000000003,432.88,410.8,464.7200000000001,448.4799999999999,492.7,404.72,525.58,611.74,465.18,430.0799999999999,408.38,609.0600000000001,411.66,498.86,515.8,422.02,458.82,492.9799999999999,411.26000000000005,438.9,508.2,572.3599999999999,652.82,464.23999999999995,413.46000000000004,476.0,579.12,475.86,576.1400000000001,644.44,529.98,450.93999999999994,484.84,530.88,511.37999999999994,564.12,531.44,445.24000000000007,484.0200000000001,457.36,514.24,564.54,548.3399999999999,548.42,563.7,412.14,586.14,598.08,472.02,478.93999999999994,521.5799999999999,662.4,586.76,451.03999999999996,434.73999999999995,430.93999999999994,412.4200000000001,389.58000000000004,400.88,510.7,502.76000000000005,377.02,446.08000000000004,456.93999999999994,376.04,456.7799999999999,528.48,518.76,505.12,667.34,574.92,432.17999999999995,448.9,586.82,388.96000000000004,472.32000000000005,450.96000000000004,620.0,484.2,527.86,505.91999999999996,385.52,473.66,561.6800000000001,481.28000000000003,436.76000000000005,473.41999999999996,500.2200000000001,504.71999999999997,437.43999999999994,414.91999999999996,622.54,497.93999999999994,487.76000000000005,490.7799999999999,573.78,420.23999999999995,460.62,506.53999999999996,574.0600000000001,425.4799999999999,510.43999999999994,623.5,551.98,438.26000000000005,433.03999999999996,528.24,599.52,485.34,459.53999999999996,503.76000000000005,410.16,557.22,501.78000000000003,449.16,449.86,595.4200000000001,588.7,372.00000000000006,444.66,499.96000000000004,454.8,479.48,619.96,598.3,499.26000000000005,460.88,674.14,579.46,413.91999999999996,447.96000000000004,445.71999999999997,535.24,423.1,457.56000000000006,468.86,387.21999999999997,437.82000000000005,530.38,505.8,438.1,403.14,494.71999999999997,453.43999999999994,407.58000000000004,467.96000000000004,461.26000000000005,504.08000000000004,478.43999999999994,435.18,505.58000000000004,468.37999999999994,422.32,400.64,383.52,399.65999999999997,519.12,474.71999999999997,453.52,493.34,497.46000000000004,594.8199999999999,483.06000000000006,405.74,399.52000000000004,620.38,441.12,488.06000000000006,445.9799999999999,447.03999999999996,515.4399999999999,403.1,521.2,480.28000000000003,534.6,444.64,514.6,441.23999999999995,534.78,495.32,494.2,443.6,509.8,410.64,513.8399999999999,468.6,476.82,426.8,439.0200000000001,436.85999999999996,473.8,474.08000000000004,516.6600000000001,580.02,431.16,549.04,551.2,474.64,513.7,546.88,436.56000000000006,555.3399999999999,500.93999999999994,441.91999999999996,448.87999999999994,514.76,471.93999999999994,439.4,548.86,638.76,625.6400000000001,527.6600000000001,485.91999999999996,489.16,539.58,437.14,473.9799999999999,519.74,422.6,550.4799999999999,544.58,431.76000000000005,433.85999999999996,502.36,465.34,329.7,453.53999999999996,539.66,434.6,530.86,456.5799999999999,451.14,465.16,498.67999999999995,471.1,380.48,522.72,431.64,508.71999999999997,444.16,465.53999999999996,443.9,495.2,449.38,454.18,620.5,487.68,437.1,396.15999999999997,455.9,496.9,523.5400000000001,387.86,444.03999999999996,488.84,451.12,566.4200000000001,475.38,435.9,447.03999999999996,519.3,418.32,407.24,468.91999999999996,385.62,467.26000000000005,528.98,487.4,617.14,398.3,454.48,474.4200000000001,407.5,413.86,402.75999999999993,543.24,472.08000000000004,479.7,505.9,551.82,466.32000000000005,512.64,502.36,459.62000000000006,474.43999999999994,414.02,686.6,426.2799999999999,496.21999999999997,452.62000000000006,483.06000000000006,459.58000000000004,477.06000000000006,527.28,438.2200000000001,631.3,462.23999999999995,466.03999999999996,610.46,440.68,458.88,481.96000000000004,602.0,534.86,610.7,543.96,530.82,531.18,487.86,485.66,499.3,519.22,457.8,485.26000000000005,499.03999999999996,453.28000000000003,474.06000000000006,545.0799999999999,435.71999999999997,557.5600000000001,513.26,489.21999999999997,527.6600000000001,560.68,468.43999999999994,604.8399999999999,534.72,469.64,429.4,425.43999999999994,451.06000000000006,486.6,581.56,498.88,525.82,481.34,455.56000000000006,468.98,487.2200000000001,452.64,486.58000000000004,512.12,412.34,464.96000000000004,524.14,384.46000000000004,553.76,615.72,470.12000000000006,434.66,401.53999999999996,479.68,585.8399999999999,438.8,472.7,516.8199999999999,543.64,468.41999999999996,428.53999999999996,439.3,487.43999999999994,449.1,406.9599999999999,425.53999999999996,514.8,534.3399999999999,405.46000000000004,418.93999999999994,410.14,596.12,499.56000000000006,400.0,569.38,439.41999999999996,361.56,526.5600000000001,476.66,424.62000000000006,600.64,465.88,552.0,457.16,476.23999999999995,457.46000000000004,534.6600000000001,396.26000000000005,543.52,463.64,441.64,437.93999999999994,489.82,417.9,446.32000000000005,617.96,574.64,498.08000000000004,491.43999999999994,601.8399999999999,442.4,457.73999999999995,482.2,456.26000000000005,449.34,574.5200000000001,450.5,460.8,508.56000000000006,443.6,447.78000000000003,423.37999999999994,553.12,530.54,640.1600000000001,543.0200000000001,446.6,600.4,498.88,450.43999999999994,625.5200000000001,444.9799999999999,535.76,531.0600000000001,471.73999999999995,525.3799999999999,486.73999999999995,555.4,433.16,599.14,472.84,539.62,427.16,550.96,396.3,507.36,494.14,512.4,475.28000000000003,455.86,549.88,607.54,411.34,443.5,430.78000000000003,482.9200000000001,602.1,430.14,377.9,556.82,398.90000000000003,374.88,516.9799999999999,410.9200000000001,424.7,539.8399999999999,531.4,538.0,595.8399999999999,376.84,469.23999999999995,427.12,471.58000000000004,534.5,523.88,434.2,460.82000000000005,479.73999999999995,505.1,512.34,436.52,438.3,519.0,489.53999999999996,521.8399999999999,435.56000000000006,452.7,457.5,396.98,586.76,614.9599999999999,458.6,512.96,481.73999999999995,491.84,401.30000000000007,529.36,467.64,432.12000000000006,388.94,492.32000000000005,403.12,497.3,428.73999999999995,441.6,340.71999999999997,494.85999999999996,501.3,477.88,520.38,533.1400000000001,522.62,659.28,500.23999999999995,347.9,472.9,427.73999999999995,515.4,550.4399999999999,425.5,457.71999999999997,405.28000000000003,361.53999999999996,556.74,457.1,420.6,454.3,431.23999999999995,523.1,447.12000000000006,495.1,480.38,449.62,508.06000000000006,487.1,613.7,405.91999999999996,550.8199999999999,576.6600000000001,618.76,566.26,511.16,508.98,529.18,452.14,428.2,552.3199999999999,451.2799999999999,429.82000000000005,478.26000000000005,442.32,453.0200000000001,554.74,507.36,524.78,486.24000000000007,433.98,484.8,611.72,503.26000000000005,415.02,474.4799999999999,441.7799999999999,426.66,438.58000000000004,483.14000000000004,501.96000000000004,506.73999999999995,454.4,495.9,420.62,472.1,395.38,501.8,615.9399999999999,392.86,422.7200000000001,557.6,497.93999999999994,623.1200000000001,450.43999999999994,500.7799999999999,510.21999999999997,494.17999999999995,435.23999999999995,460.73999999999995,467.6,465.6,473.34,547.62,412.21999999999997,455.64,563.3399999999999,537.88,498.88,431.34,466.4,440.5,430.4,537.1,565.3199999999999,534.24,409.64,559.7,379.4,511.64,458.7799999999999,622.98,425.26000000000005,575.26,488.3,429.32,411.9799999999999,453.86,442.87999999999994,414.66,464.8,552.22,555.52,388.74,507.3,480.64,561.1400000000001,594.86,431.76000000000005,554.0600000000001,438.06000000000006,466.53999999999996,465.26000000000005,480.41999999999996,397.4,465.06000000000006,456.02,529.78,472.66,439.28000000000003,523.74,436.0,443.37999999999994,455.96000000000004,459.64,491.4,407.3,457.17999999999995,419.03999999999996,617.36,523.5,589.8199999999999,391.82,532.48,405.06,449.12,575.62,400.2,481.52,609.86,496.23999999999995,549.8,389.4,488.82,558.1,549.74,472.56000000000006,494.21999999999997,448.9,392.02,468.17999999999995,548.46,402.68,596.7,533.5,449.68,453.12,357.78000000000003,438.1,485.16,566.48,512.1800000000001,414.7,483.21999999999997,420.82,487.5799999999999,467.62000000000006,445.23999999999995,487.41999999999996,596.04,480.2200000000001,457.5,426.12,427.82,638.96,494.18,507.0,468.03999999999996,597.8,601.3,559.24,501.9,478.7,505.62,569.52,395.88,413.18,427.02,469.68,506.14000000000004,547.4200000000001,418.5,471.76000000000005,417.32000000000005,451.86,390.43999999999994,429.4,545.1800000000001,600.66,596.48,434.32,443.06000000000006,509.34,425.3,494.73999999999995,424.2,449.34,518.2,476.82,588.0200000000001,468.06000000000006,536.4799999999999,573.3199999999999,417.16,460.0799999999999,571.42,509.0,438.48,448.4,428.18,512.26,449.21999999999997,556.9200000000001,521.8,486.08000000000004,534.36,509.34,477.08000000000004,397.91999999999996,554.36,538.64,539.1600000000001,471.58000000000004,548.26,431.66,614.58,490.0,500.02,441.28000000000003,474.37999999999994,483.58000000000004,355.0,566.46,632.6800000000001,431.58000000000004,618.04,513.26,453.4,466.06000000000006,471.32000000000005,451.67999999999995,406.4,461.93999999999994,459.98,449.16,570.0,402.12,448.56000000000006,602.24,519.3,414.68,423.82,555.22,562.42,433.16,446.23999999999995,497.58000000000004,647.44,455.64,533.0600000000001,460.08000000000004,528.5600000000001,434.76000000000005,436.18,491.23999999999995,562.64,482.06000000000006,434.36,509.84,446.06000000000006,512.1200000000001,411.36,432.82,402.75999999999993,483.14,429.48,506.82,418.82000000000005,481.32,519.7,504.34,481.84,436.84,410.41999999999996,494.3,453.67999999999995,484.23999999999995,507.2,531.4,504.58000000000004,427.1,627.28,488.36,383.48,430.36,580.4,451.23999999999995,462.73999999999995,593.46,456.68,512.6800000000001,459.84,405.68,447.21999999999997,573.3199999999999,516.9200000000001,436.32,456.8,647.3199999999999,628.78,623.3199999999999,603.78,446.06000000000006,460.4,457.6,462.28000000000003,436.96000000000004,473.17999999999995,437.76000000000005,508.52,407.23999999999995,660.14,494.9200000000001,465.26000000000005,443.64,529.6800000000001,435.66,571.76,572.58,497.0799999999999,556.3199999999999,450.06000000000006,410.76000000000005,554.8,492.08000000000004,604.7,473.64,452.2,393.43999999999994,408.32,430.76000000000005,478.64,521.76,422.17999999999995,407.03999999999996,499.98,454.84,383.32,515.74,429.7799999999999,446.43999999999994,442.9,472.23999999999995,563.14,461.34,443.34000000000003,477.12,454.17999999999995,427.23999999999995,478.6,473.02,477.9599999999999,495.9,458.62,455.58000000000004,476.62,490.1,591.1800000000001,556.58,394.9,477.62,592.74,456.14,400.1,455.8,456.9,579.78,513.62,478.32,515.9,440.1,489.03999999999996,464.78000000000003,425.62,532.26,425.93999999999994,404.54,537.9,471.64,468.21999999999997,539.0600000000001,534.08,460.9,536.08,556.1600000000001,476.23999999999995,528.64,498.86,470.78000000000003,518.88,403.58,472.67999999999995,561.72,477.23999999999995,525.24,438.7200000000001,413.0,394.42,447.1,479.0799999999999,457.0,490.36,435.43999999999994,383.44,530.8399999999999,501.3,367.21999999999997,450.4799999999999,473.52,458.76000000000005,511.98,561.58,533.0600000000001,475.36,493.06000000000006,427.43999999999994,571.0,525.52,398.84,447.2,475.6,534.0,381.64,439.52,631.72,432.96000000000004,404.36,440.06000000000006,497.26000000000005,531.54,464.84,507.5,450.56000000000006,487.73999999999995,504.28000000000003,434.06000000000006,455.64,523.88,490.12,474.67999999999995,752.6199999999999,481.1,404.18,434.03999999999996,466.5799999999999,447.98,439.84,589.6,490.82,473.76000000000005,581.52,446.5,454.9,436.64,474.48,452.3,457.73999999999995,490.2,443.2,524.02,523.74,524.0600000000001,454.7,486.6,408.91999999999996,534.48,426.5400000000001,436.53999999999996,415.4200000000001,501.3,505.58000000000004,493.68,416.56000000000006,477.71999999999997,462.56000000000006,504.98,482.14,473.03999999999996,440.98,510.9,448.1,381.93999999999994,491.3,533.6200000000001,428.0,498.86,435.03999999999996,424.88,407.38,493.38,401.92,440.94000000000005,397.68,418.71999999999997,482.14,444.9,445.2,498.94000000000005,443.7,494.93999999999994,527.46,474.06000000000006,424.87999999999994,433.8,413.71999999999997,488.73999999999995,389.28000000000003,417.7,398.92,455.4,491.96000000000004,484.93999999999994,427.1,455.3,461.4799999999999,430.21999999999997,562.08,480.98,514.7,430.06000000000006,434.5,418.84,428.12000000000006,435.14,440.9,441.08000000000004,444.96000000000004,440.56000000000006,422.58000000000004,469.8,491.6,383.71999999999997,401.0,494.78000000000003,457.56000000000006,473.38,549.6800000000001,430.91999999999996,419.85999999999996,448.4,501.7,512.68,455.14,453.3,416.9200000000001,484.86,434.98,420.91999999999996,488.66,567.02,410.68,535.38,392.84000000000003,453.14,527.0,497.8,424.8,517.4,535.1600000000001,417.68,447.03999999999996,399.30000000000007,423.86,449.8,448.76000000000005,494.78000000000003,526.6600000000001,537.78,470.5,500.26000000000005,368.76,559.36,480.0400000000001,569.62,417.58000000000004,455.48,534.48,497.14,491.62,526.2,470.36,563.0799999999999,427.5400000000001,542.98,424.82,454.41999999999996,419.82000000000005,434.53999999999996,479.76000000000005,460.86,476.36,515.5799999999999,479.3,467.6,449.28000000000003,495.16,417.06000000000006,496.43999999999994,481.56000000000006,453.38,440.82,437.38,566.9399999999999,447.64,434.38,515.92,418.03999999999996,445.88,614.8399999999999,464.03999999999996,451.43999999999994,566.0600000000001,398.34000000000003,460.46000000000004,411.7,422.84,447.1,456.96000000000004,470.38,433.53999999999996,521.3,454.98,480.82,496.34,422.43999999999994,504.18,438.08000000000004,508.43999999999994,476.58000000000004,455.06000000000006,515.2,463.14,520.8,549.6600000000001,623.86,509.21999999999997,509.48,370.7,417.08000000000004,432.62000000000006,430.46000000000004,551.26,517.1400000000001,625.6400000000001,585.58,413.2,526.54,501.62000000000006,489.64,487.94000000000005,433.17999999999995,482.66,483.84,452.12000000000006,408.96,468.3,473.38,434.68,430.28000000000003,484.82,396.66,594.78,419.52,504.46000000000004,489.21999999999997,539.58,464.0799999999999,507.68,516.32,526.28,472.4599999999999,556.04,408.43999999999994,411.43999999999994,473.56000000000006,441.87999999999994,557.88,408.02,476.96000000000004,442.41999999999996,522.12,495.18,458.21999999999997,421.86,494.02,457.38,447.78000000000003,421.64,442.46000000000004,468.58000000000004,498.48,466.28000000000003,467.32,561.74,448.9,400.23999999999995,503.66,500.78000000000003,403.12,438.46000000000004,593.0400000000001,458.76000000000005,408.56000000000006,528.06,500.53999999999996,458.21999999999997,423.68,421.41999999999996,560.96,495.98,483.7799999999999,469.26000000000005,556.64,491.68,480.64,437.16,495.36,436.7,456.2,447.84,501.2,511.21999999999997,457.67999999999995,406.12,397.53999999999996,500.34,406.54,449.71999999999997,533.24,532.04,440.78000000000003,497.52,496.37999999999994,433.87999999999994,588.3599999999999,503.0,421.5,419.2200000000001,505.16,453.03999999999996,419.36,519.46,442.43999999999994,484.8,422.23999999999995,410.7200000000001,504.66,441.23999999999995,443.46000000000004,520.6800000000001,430.78000000000003,470.3,419.37999999999994,476.86,435.58000000000004,460.1,446.88,470.8,438.16,503.41999999999996,475.28000000000003,580.72,412.06000000000006,420.21999999999997,459.48,561.88,589.6600000000001,577.16,368.82,401.23999999999995,423.64,342.7,471.02,445.32,389.46000000000004,512.36,487.28000000000003,377.9,428.9200000000001,437.52,490.53999999999996,438.56000000000006,397.56,532.06,404.42,490.14,500.41999999999996,457.2200000000001,483.7200000000001,438.98,526.8199999999999,566.64,442.86,522.0200000000001,495.14,458.71999999999997,410.2799999999999,442.66,482.56000000000006,513.5400000000001,569.6200000000001,473.84,492.37999999999994,482.44000000000005,491.48,540.04,445.7,502.7799999999999,417.86,553.7,484.03999999999996,495.84,435.46000000000004,573.02,562.4,422.62000000000006,483.43999999999994,510.5,473.35999999999996,432.36,442.0,381.41999999999996,482.14,450.5200000000001,459.75999999999993,409.3,365.4,410.32000000000005,465.34000000000003,376.64,513.4,446.36,522.28,503.02,425.38,444.4799999999999,488.7799999999999,503.5,421.43999999999994,460.91999999999996,631.8799999999999,432.91999999999996,480.48,578.0799999999999,452.86,429.48,443.32,495.06000000000006,393.62,505.62,484.53999999999996,529.8,473.32,552.34,497.4799999999999,637.22,470.14,408.4599999999999,461.6,485.71999999999997,450.46000000000004,517.58,528.1600000000001,492.12000000000006,391.14,463.06000000000006,405.78000000000003,405.58000000000004,459.14,438.9,415.23999999999995,484.32000000000005,456.26000000000005,457.41999999999996,476.23999999999995,447.4,442.06000000000006,434.8,544.8,473.02,451.82,544.8599999999999,576.48,433.91999999999996,406.34000000000003,419.7,402.28000000000003,491.1,403.02,391.82,561.78,446.26000000000005,499.0,431.16,467.88,414.24000000000007,495.3,444.8,526.78,422.8,443.18,426.06000000000006,561.58,432.38,465.5,472.9799999999999,589.7,532.9399999999999,520.86,453.4,495.88,488.03999999999996,560.98,440.58000000000004,462.71999999999997,438.43999999999994,532.28,450.4,463.96000000000004,427.53999999999996,404.54,467.4799999999999,502.36,452.66,386.08000000000004,481.0799999999999,405.82,461.73999999999995,400.78,480.4799999999999,392.04,465.4,474.36,441.2,423.9,538.4399999999999,407.62,433.38,446.84,448.76000000000005,468.05999999999995,389.55999999999995,510.64,436.48,486.71999999999997,409.41999999999996,395.82,391.18,412.41999999999996,506.08000000000004,450.28000000000003,469.73999999999995,424.68,458.93999999999994,528.5400000000001,469.86,451.14,460.05999999999995,463.4,459.06000000000006,386.32,425.53999999999996,395.12,459.8,370.84,441.0,501.26000000000005],\"y0\":\" \",\"yaxis\":\"y\",\"type\":\"box\"},{\"alignmentgroup\":\"True\",\"hovertemplate\":\"TP_ESCOLA=privada<br>NOTA_FINAL=%{y}<extra></extra>\",\"legendgroup\":\"privada\",\"marker\":{\"color\":\"#00FE35\"},\"name\":\"privada\",\"notched\":true,\"offsetgroup\":\"privada\",\"orientation\":\"v\",\"showlegend\":true,\"x0\":\" \",\"xaxis\":\"x\",\"y\":[677.1800000000001,682.2,695.4399999999999,730.74,629.1,666.52,716.0799999999999,606.08,562.12,739.24,692.08,703.42,568.04,610.9,567.26,653.7,672.0,610.9799999999999,572.9,630.0,535.08,607.2,607.3799999999999,555.4,620.48,668.6800000000001,526.92,775.64,599.82,681.98,743.0199999999999,666.72,689.8399999999999,538.1800000000001,650.44,502.26000000000005,576.3399999999999,587.5400000000001,548.96,447.48,617.88,671.32,586.52,586.1600000000001,648.58,576.38,580.12,611.86,742.14,577.78,545.98,572.5600000000001,544.22,544.98,596.92,572.46,617.28,494.5200000000001,628.9,586.8599999999999,655.26,699.4,691.34,569.78,613.34,477.62000000000006,557.54,515.0400000000001,478.9,485.32,665.8199999999999,659.32,527.86,429.32,646.6200000000001,532.0200000000001,579.1600000000001,541.1800000000001,502.94000000000005,669.26,544.14,628.64,619.2,558.6600000000001,615.88,439.3,582.54,430.86,477.8,696.3199999999999,569.82,500.2799999999999,552.9,665.9799999999999,545.62,536.46,573.04,730.8199999999999,601.54,688.2,759.1600000000001,737.38,531.8199999999999,544.02,634.8599999999999,582.4799999999999,663.78,536.72,750.4399999999999,663.78,487.08000000000004,519.24,599.2,655.9799999999999,461.28000000000003,708.14,581.46,698.5200000000001,663.3199999999999,628.32,588.76,589.68,512.96,616.74,762.78,741.48,651.1800000000001,630.48,582.52,599.48,634.48,551.24,507.53999999999996,564.8199999999999,633.5600000000001,486.76000000000005,746.22,592.1,425.91999999999996,592.6600000000001,511.02,605.26,510.5200000000001,620.1,470.28000000000003,669.6,431.48,542.5,529.0200000000001,525.78,486.3,528.64,636.3,587.3199999999999,605.36,705.2,480.0,738.1600000000001,567.0,581.36,557.88,465.14,590.38,586.9200000000001,684.92,706.3399999999999,597.54,546.1600000000001,511.73999999999995,528.24,701.0600000000001,481.34,540.5200000000001,548.28,673.46,677.48,581.1600000000001,634.7,505.88,473.48,710.48,543.04,612.7,701.02,682.26,618.5400000000001,706.1,713.64,594.8199999999999,602.78,512.14,531.7,665.62,526.72,513.8199999999999,530.24,557.58,430.6,689.72,617.9,614.1600000000001,642.96,638.1600000000001,573.1,540.24,483.58000000000004,553.28,643.8199999999999,620.5400000000001,636.5600000000001,637.82,684.56,576.0,765.3199999999999,711.6,551.46,644.76,576.74,458.46000000000004,550.0600000000001,606.24,730.3,733.28,689.1800000000001,423.3,451.23999999999995,469.26000000000005,470.91999999999996,728.8,665.9,536.9399999999999,617.04,511.03999999999996,477.03999999999996,572.5,613.86,519.96,643.08,608.1600000000001,684.8399999999999,459.9799999999999,620.9399999999999,542.78,702.54,494.0799999999999,444.03999999999996,498.93999999999994,561.52,405.94,541.28,645.38,648.5600000000001,653.14,530.88,568.0,663.5600000000001,623.62,447.88,527.02,568.7,646.46,483.96000000000004,546.08,547.3599999999999,590.7,658.68,547.0600000000001,623.42,549.1,573.86,593.2,459.68,542.74,573.98,471.8,564.48,702.8399999999999,520.36,544.1800000000001,530.3,509.96000000000004,609.22,558.08,666.4799999999999,548.8799999999999,586.64,678.54,657.6600000000001,459.64,442.68,500.52,470.91999999999996,477.28000000000003,498.2,609.12,493.68,526.7,641.76,564.6800000000001,520.72,591.9,452.16,400.3,521.04,543.8199999999999,602.46,565.6,561.0600000000001,588.28,584.1,509.1,482.34,461.23999999999995,574.52,543.42,603.58,600.76,531.22,599.8,556.2,557.4,618.82,563.5600000000001,586.74,566.5600000000001,452.2200000000001,645.46,508.93999999999994,520.96,581.42,504.23999999999995,490.98,488.6,546.4399999999999,635.5600000000001,570.46,488.64,657.0400000000001,569.6400000000001,549.08,597.72,512.6,405.21999999999997,652.46,527.2,547.86,643.1800000000001,575.8,655.3199999999999,537.92,525.5,630.98,551.14,612.58,571.3,577.0,546.72,705.3,714.48,497.2,548.0799999999999,431.3,721.58,615.74,470.2799999999999,465.17999999999995,543.86,476.36,494.26000000000005,469.73999999999995,563.76,559.9399999999999,666.4599999999999,713.2,437.2,521.72,552.2,512.8199999999999,513.62,443.96000000000004,599.76,493.58000000000004,559.8799999999999,528.24,479.26000000000005,546.9399999999999,670.8399999999999,637.14,639.28,585.46,648.9399999999999,485.5,755.1600000000001,691.74,583.66,543.9799999999999,683.42,565.6200000000001,597.76,733.8,443.56000000000006,596.4,552.6200000000001,480.53999999999996,619.24,595.52,515.22,521.7,620.4200000000001,587.5,480.71999999999997,532.52,657.4599999999999,486.02,494.52,708.48,596.84,642.6800000000001,644.42,562.6800000000001,549.88,502.91999999999996,496.66,541.22,436.17999999999995,517.3199999999999,468.03999999999996,618.8399999999999,584.02,416.82,658.38,546.1,535.02,550.1600000000001,490.16,470.08000000000004,597.48,646.88,531.06,648.4200000000001,701.98,486.1,640.88,450.67999999999995,497.58000000000004,536.14,465.1,456.16,400.30000000000007,448.05999999999995,640.5199999999999,577.04,437.34,500.64,510.64,585.6,579.64,620.92,660.1800000000001,418.37999999999994,431.14,493.32,410.38,645.86,549.6600000000001,565.48,621.54,680.1400000000001,509.93999999999994,610.36,501.9799999999999,597.0600000000001,397.74,516.8399999999999,645.28,571.02,546.2,508.52],\"y0\":\" \",\"yaxis\":\"y\",\"type\":\"box\"}],                        {\"template\":{\"data\":{\"bar\":[{\"error_x\":{\"color\":\"#2a3f5f\"},\"error_y\":{\"color\":\"#2a3f5f\"},\"marker\":{\"line\":{\"color\":\"#E5ECF6\",\"width\":0.5},\"pattern\":{\"fillmode\":\"overlay\",\"size\":10,\"solidity\":0.2}},\"type\":\"bar\"}],\"barpolar\":[{\"marker\":{\"line\":{\"color\":\"#E5ECF6\",\"width\":0.5},\"pattern\":{\"fillmode\":\"overlay\",\"size\":10,\"solidity\":0.2}},\"type\":\"barpolar\"}],\"carpet\":[{\"aaxis\":{\"endlinecolor\":\"#2a3f5f\",\"gridcolor\":\"white\",\"linecolor\":\"white\",\"minorgridcolor\":\"white\",\"startlinecolor\":\"#2a3f5f\"},\"baxis\":{\"endlinecolor\":\"#2a3f5f\",\"gridcolor\":\"white\",\"linecolor\":\"white\",\"minorgridcolor\":\"white\",\"startlinecolor\":\"#2a3f5f\"},\"type\":\"carpet\"}],\"choropleth\":[{\"colorbar\":{\"outlinewidth\":0,\"ticks\":\"\"},\"type\":\"choropleth\"}],\"contour\":[{\"colorbar\":{\"outlinewidth\":0,\"ticks\":\"\"},\"colorscale\":[[0.0,\"#0d0887\"],[0.1111111111111111,\"#46039f\"],[0.2222222222222222,\"#7201a8\"],[0.3333333333333333,\"#9c179e\"],[0.4444444444444444,\"#bd3786\"],[0.5555555555555556,\"#d8576b\"],[0.6666666666666666,\"#ed7953\"],[0.7777777777777778,\"#fb9f3a\"],[0.8888888888888888,\"#fdca26\"],[1.0,\"#f0f921\"]],\"type\":\"contour\"}],\"contourcarpet\":[{\"colorbar\":{\"outlinewidth\":0,\"ticks\":\"\"},\"type\":\"contourcarpet\"}],\"heatmap\":[{\"colorbar\":{\"outlinewidth\":0,\"ticks\":\"\"},\"colorscale\":[[0.0,\"#0d0887\"],[0.1111111111111111,\"#46039f\"],[0.2222222222222222,\"#7201a8\"],[0.3333333333333333,\"#9c179e\"],[0.4444444444444444,\"#bd3786\"],[0.5555555555555556,\"#d8576b\"],[0.6666666666666666,\"#ed7953\"],[0.7777777777777778,\"#fb9f3a\"],[0.8888888888888888,\"#fdca26\"],[1.0,\"#f0f921\"]],\"type\":\"heatmap\"}],\"heatmapgl\":[{\"colorbar\":{\"outlinewidth\":0,\"ticks\":\"\"},\"colorscale\":[[0.0,\"#0d0887\"],[0.1111111111111111,\"#46039f\"],[0.2222222222222222,\"#7201a8\"],[0.3333333333333333,\"#9c179e\"],[0.4444444444444444,\"#bd3786\"],[0.5555555555555556,\"#d8576b\"],[0.6666666666666666,\"#ed7953\"],[0.7777777777777778,\"#fb9f3a\"],[0.8888888888888888,\"#fdca26\"],[1.0,\"#f0f921\"]],\"type\":\"heatmapgl\"}],\"histogram\":[{\"marker\":{\"pattern\":{\"fillmode\":\"overlay\",\"size\":10,\"solidity\":0.2}},\"type\":\"histogram\"}],\"histogram2d\":[{\"colorbar\":{\"outlinewidth\":0,\"ticks\":\"\"},\"colorscale\":[[0.0,\"#0d0887\"],[0.1111111111111111,\"#46039f\"],[0.2222222222222222,\"#7201a8\"],[0.3333333333333333,\"#9c179e\"],[0.4444444444444444,\"#bd3786\"],[0.5555555555555556,\"#d8576b\"],[0.6666666666666666,\"#ed7953\"],[0.7777777777777778,\"#fb9f3a\"],[0.8888888888888888,\"#fdca26\"],[1.0,\"#f0f921\"]],\"type\":\"histogram2d\"}],\"histogram2dcontour\":[{\"colorbar\":{\"outlinewidth\":0,\"ticks\":\"\"},\"colorscale\":[[0.0,\"#0d0887\"],[0.1111111111111111,\"#46039f\"],[0.2222222222222222,\"#7201a8\"],[0.3333333333333333,\"#9c179e\"],[0.4444444444444444,\"#bd3786\"],[0.5555555555555556,\"#d8576b\"],[0.6666666666666666,\"#ed7953\"],[0.7777777777777778,\"#fb9f3a\"],[0.8888888888888888,\"#fdca26\"],[1.0,\"#f0f921\"]],\"type\":\"histogram2dcontour\"}],\"mesh3d\":[{\"colorbar\":{\"outlinewidth\":0,\"ticks\":\"\"},\"type\":\"mesh3d\"}],\"parcoords\":[{\"line\":{\"colorbar\":{\"outlinewidth\":0,\"ticks\":\"\"}},\"type\":\"parcoords\"}],\"pie\":[{\"automargin\":true,\"type\":\"pie\"}],\"scatter\":[{\"marker\":{\"colorbar\":{\"outlinewidth\":0,\"ticks\":\"\"}},\"type\":\"scatter\"}],\"scatter3d\":[{\"line\":{\"colorbar\":{\"outlinewidth\":0,\"ticks\":\"\"}},\"marker\":{\"colorbar\":{\"outlinewidth\":0,\"ticks\":\"\"}},\"type\":\"scatter3d\"}],\"scattercarpet\":[{\"marker\":{\"colorbar\":{\"outlinewidth\":0,\"ticks\":\"\"}},\"type\":\"scattercarpet\"}],\"scattergeo\":[{\"marker\":{\"colorbar\":{\"outlinewidth\":0,\"ticks\":\"\"}},\"type\":\"scattergeo\"}],\"scattergl\":[{\"marker\":{\"colorbar\":{\"outlinewidth\":0,\"ticks\":\"\"}},\"type\":\"scattergl\"}],\"scattermapbox\":[{\"marker\":{\"colorbar\":{\"outlinewidth\":0,\"ticks\":\"\"}},\"type\":\"scattermapbox\"}],\"scatterpolar\":[{\"marker\":{\"colorbar\":{\"outlinewidth\":0,\"ticks\":\"\"}},\"type\":\"scatterpolar\"}],\"scatterpolargl\":[{\"marker\":{\"colorbar\":{\"outlinewidth\":0,\"ticks\":\"\"}},\"type\":\"scatterpolargl\"}],\"scatterternary\":[{\"marker\":{\"colorbar\":{\"outlinewidth\":0,\"ticks\":\"\"}},\"type\":\"scatterternary\"}],\"surface\":[{\"colorbar\":{\"outlinewidth\":0,\"ticks\":\"\"},\"colorscale\":[[0.0,\"#0d0887\"],[0.1111111111111111,\"#46039f\"],[0.2222222222222222,\"#7201a8\"],[0.3333333333333333,\"#9c179e\"],[0.4444444444444444,\"#bd3786\"],[0.5555555555555556,\"#d8576b\"],[0.6666666666666666,\"#ed7953\"],[0.7777777777777778,\"#fb9f3a\"],[0.8888888888888888,\"#fdca26\"],[1.0,\"#f0f921\"]],\"type\":\"surface\"}],\"table\":[{\"cells\":{\"fill\":{\"color\":\"#EBF0F8\"},\"line\":{\"color\":\"white\"}},\"header\":{\"fill\":{\"color\":\"#C8D4E3\"},\"line\":{\"color\":\"white\"}},\"type\":\"table\"}]},\"layout\":{\"annotationdefaults\":{\"arrowcolor\":\"#2a3f5f\",\"arrowhead\":0,\"arrowwidth\":1},\"autotypenumbers\":\"strict\",\"coloraxis\":{\"colorbar\":{\"outlinewidth\":0,\"ticks\":\"\"}},\"colorscale\":{\"diverging\":[[0,\"#8e0152\"],[0.1,\"#c51b7d\"],[0.2,\"#de77ae\"],[0.3,\"#f1b6da\"],[0.4,\"#fde0ef\"],[0.5,\"#f7f7f7\"],[0.6,\"#e6f5d0\"],[0.7,\"#b8e186\"],[0.8,\"#7fbc41\"],[0.9,\"#4d9221\"],[1,\"#276419\"]],\"sequential\":[[0.0,\"#0d0887\"],[0.1111111111111111,\"#46039f\"],[0.2222222222222222,\"#7201a8\"],[0.3333333333333333,\"#9c179e\"],[0.4444444444444444,\"#bd3786\"],[0.5555555555555556,\"#d8576b\"],[0.6666666666666666,\"#ed7953\"],[0.7777777777777778,\"#fb9f3a\"],[0.8888888888888888,\"#fdca26\"],[1.0,\"#f0f921\"]],\"sequentialminus\":[[0.0,\"#0d0887\"],[0.1111111111111111,\"#46039f\"],[0.2222222222222222,\"#7201a8\"],[0.3333333333333333,\"#9c179e\"],[0.4444444444444444,\"#bd3786\"],[0.5555555555555556,\"#d8576b\"],[0.6666666666666666,\"#ed7953\"],[0.7777777777777778,\"#fb9f3a\"],[0.8888888888888888,\"#fdca26\"],[1.0,\"#f0f921\"]]},\"colorway\":[\"#636efa\",\"#EF553B\",\"#00cc96\",\"#ab63fa\",\"#FFA15A\",\"#19d3f3\",\"#FF6692\",\"#B6E880\",\"#FF97FF\",\"#FECB52\"],\"font\":{\"color\":\"#2a3f5f\"},\"geo\":{\"bgcolor\":\"white\",\"lakecolor\":\"white\",\"landcolor\":\"#E5ECF6\",\"showlakes\":true,\"showland\":true,\"subunitcolor\":\"white\"},\"hoverlabel\":{\"align\":\"left\"},\"hovermode\":\"closest\",\"mapbox\":{\"style\":\"light\"},\"paper_bgcolor\":\"white\",\"plot_bgcolor\":\"#E5ECF6\",\"polar\":{\"angularaxis\":{\"gridcolor\":\"white\",\"linecolor\":\"white\",\"ticks\":\"\"},\"bgcolor\":\"#E5ECF6\",\"radialaxis\":{\"gridcolor\":\"white\",\"linecolor\":\"white\",\"ticks\":\"\"}},\"scene\":{\"xaxis\":{\"backgroundcolor\":\"#E5ECF6\",\"gridcolor\":\"white\",\"gridwidth\":2,\"linecolor\":\"white\",\"showbackground\":true,\"ticks\":\"\",\"zerolinecolor\":\"white\"},\"yaxis\":{\"backgroundcolor\":\"#E5ECF6\",\"gridcolor\":\"white\",\"gridwidth\":2,\"linecolor\":\"white\",\"showbackground\":true,\"ticks\":\"\",\"zerolinecolor\":\"white\"},\"zaxis\":{\"backgroundcolor\":\"#E5ECF6\",\"gridcolor\":\"white\",\"gridwidth\":2,\"linecolor\":\"white\",\"showbackground\":true,\"ticks\":\"\",\"zerolinecolor\":\"white\"}},\"shapedefaults\":{\"line\":{\"color\":\"#2a3f5f\"}},\"ternary\":{\"aaxis\":{\"gridcolor\":\"white\",\"linecolor\":\"white\",\"ticks\":\"\"},\"baxis\":{\"gridcolor\":\"white\",\"linecolor\":\"white\",\"ticks\":\"\"},\"bgcolor\":\"#E5ECF6\",\"caxis\":{\"gridcolor\":\"white\",\"linecolor\":\"white\",\"ticks\":\"\"}},\"title\":{\"x\":0.05},\"xaxis\":{\"automargin\":true,\"gridcolor\":\"white\",\"linecolor\":\"white\",\"ticks\":\"\",\"title\":{\"standoff\":15},\"zerolinecolor\":\"white\",\"zerolinewidth\":2},\"yaxis\":{\"automargin\":true,\"gridcolor\":\"white\",\"linecolor\":\"white\",\"ticks\":\"\",\"title\":{\"standoff\":15},\"zerolinecolor\":\"white\",\"zerolinewidth\":2}}},\"xaxis\":{\"anchor\":\"y\",\"domain\":[0.0,1.0]},\"yaxis\":{\"anchor\":\"x\",\"domain\":[0.0,1.0],\"title\":{\"text\":\"Nota Final\"}},\"legend\":{\"title\":{\"text\":\"Escola\"},\"tracegroupgap\":0,\"borderwidth\":1,\"bordercolor\":\"lightgrey\",\"bgcolor\":\"rgb(251, 251, 251)\"},\"margin\":{\"t\":60},\"boxmode\":\"group\",\"width\":500,\"font\":{\"size\":12},\"title\":{\"font\":{\"size\":22},\"text\":\"Compara\\u00e7\\u00e3o de Notas\",\"x\":0.5},\"plot_bgcolor\":\"rgb(250, 250, 250)\"},                        {\"responsive\": true}                    ).then(function(){\n",
              "                            \n",
              "var gd = document.getElementById('d657e43d-2210-41a9-a8aa-1f922e319d53');\n",
              "var x = new MutationObserver(function (mutations, observer) {{\n",
              "        var display = window.getComputedStyle(gd).display;\n",
              "        if (!display || display === 'none') {{\n",
              "            console.log([gd, 'removed!']);\n",
              "            Plotly.purge(gd);\n",
              "            observer.disconnect();\n",
              "        }}\n",
              "}});\n",
              "\n",
              "// Listen for the removal of the full notebook cells\n",
              "var notebookContainer = gd.closest('#notebook-container');\n",
              "if (notebookContainer) {{\n",
              "    x.observe(notebookContainer, {childList: true});\n",
              "}}\n",
              "\n",
              "// Listen for the clearing of the current output cell\n",
              "var outputEl = gd.closest('.output');\n",
              "if (outputEl) {{\n",
              "    x.observe(outputEl, {childList: true});\n",
              "}}\n",
              "\n",
              "                        })                };                            </script>        </div>\n",
              "</body>\n",
              "</html>"
            ]
          },
          "metadata": {}
        }
      ]
    },
    {
      "cell_type": "markdown",
      "source": [
        "Há diversas ocorrências de dados discrepantes para as escolas públicas, enquanto que, para escolas privadas, o mesmo não acontece. Com isso, subentende-se que, as notas das escolas privadas encontram consistência maior entre si. Além disso, é possível notar uma melhor distribuição das notas das escolas privadas."
      ],
      "metadata": {
        "id": "rq_z0j2l6qDH"
      }
    },
    {
      "cell_type": "markdown",
      "source": [
        "## Comparação Entre os Questionários dos Alunos de Escolas Públicas e Privadas\n",
        "Para esse módulo, será criado um dataframe, apenas com as variáveis a serem visualizadas."
      ],
      "metadata": {
        "id": "PgplSk7n4xoK"
      }
    },
    {
      "cell_type": "code",
      "source": [
        "import plotly.graph_objects as go\n",
        "from plotly.subplots import make_subplots"
      ],
      "metadata": {
        "id": "G-6Lorg4481Z",
        "execution": {
          "iopub.status.busy": "2022-10-10T12:22:06.046409Z",
          "iopub.execute_input": "2022-10-10T12:22:06.046791Z",
          "iopub.status.idle": "2022-10-10T12:22:06.052425Z",
          "shell.execute_reply.started": "2022-10-10T12:22:06.046756Z",
          "shell.execute_reply": "2022-10-10T12:22:06.051235Z"
        },
        "trusted": true
      },
      "execution_count": 49,
      "outputs": []
    },
    {
      "cell_type": "code",
      "source": [
        "df_plot = df_estudo.copy()[[\"TP_ESCOLA\", \"Q001\", \"Q002\", \"Q003\", \"Q004\", \"Q005\",\n",
        "                            \"Q006\", \"Q007\", \"Q008\", \"Q009\", \"Q010\", \"Q011\",\n",
        "                            \"Q012\", \"Q013\", \"Q014\", \"Q015\", \"Q016\", \"Q017\",\n",
        "                            \"Q018\", \"Q019\", \"Q020\", \"Q021\", \"Q022\", \"Q023\",\n",
        "                            \"Q024\", \"Q025\"]]\n",
        "df_plot.head()"
      ],
      "metadata": {
        "id": "JifQFJ7FumgM",
        "execution": {
          "iopub.status.busy": "2022-10-10T12:22:06.053531Z",
          "iopub.execute_input": "2022-10-10T12:22:06.054509Z",
          "iopub.status.idle": "2022-10-10T12:22:06.100738Z",
          "shell.execute_reply.started": "2022-10-10T12:22:06.054475Z",
          "shell.execute_reply": "2022-10-10T12:22:06.099478Z"
        },
        "trusted": true,
        "colab": {
          "base_uri": "https://localhost:8080/",
          "height": 250
        },
        "outputId": "50af4522-1542-4b15-d9e3-a33cb0760f6f"
      },
      "execution_count": 50,
      "outputs": [
        {
          "output_type": "execute_result",
          "data": {
            "text/plain": [
              "   TP_ESCOLA Q001 Q002 Q003 Q004  Q005 Q006 Q007 Q008 Q009 Q010 Q011 Q012  \\\n",
              "0    publica    E    E    C    B   4.0    C    A    B    D    A    A    B   \n",
              "6    publica    E    E    C    B   6.0    B    A    C    C    A    A    B   \n",
              "9    publica    A    E    B    B   3.0    B    A    B    C    A    A    B   \n",
              "11   publica    H    D    F    B   3.0    C    A    B    B    A    A    B   \n",
              "13   publica    E    E    B    B   6.0    C    A    B    C    B    A    B   \n",
              "\n",
              "   Q013 Q014 Q015 Q016 Q017 Q018 Q019 Q020 Q021 Q022 Q023 Q024 Q025  \n",
              "0     A    B    A    A    A    A    B    A    A    D    A    B    B  \n",
              "6     B    B    A    A    A    A    B    A    A    C    A    A    B  \n",
              "9     A    A    A    A    A    A    B    A    A    B    A    A    B  \n",
              "11    A    B    A    A    A    A    B    B    A    D    A    A    B  \n",
              "13    B    B    A    A    A    A    B    A    A    C    A    A    B  "
            ],
            "text/html": [
              "\n",
              "  <div id=\"df-37a4ea13-bdbb-4a87-b353-39d08df6db29\">\n",
              "    <div class=\"colab-df-container\">\n",
              "      <div>\n",
              "<style scoped>\n",
              "    .dataframe tbody tr th:only-of-type {\n",
              "        vertical-align: middle;\n",
              "    }\n",
              "\n",
              "    .dataframe tbody tr th {\n",
              "        vertical-align: top;\n",
              "    }\n",
              "\n",
              "    .dataframe thead th {\n",
              "        text-align: right;\n",
              "    }\n",
              "</style>\n",
              "<table border=\"1\" class=\"dataframe\">\n",
              "  <thead>\n",
              "    <tr style=\"text-align: right;\">\n",
              "      <th></th>\n",
              "      <th>TP_ESCOLA</th>\n",
              "      <th>Q001</th>\n",
              "      <th>Q002</th>\n",
              "      <th>Q003</th>\n",
              "      <th>Q004</th>\n",
              "      <th>Q005</th>\n",
              "      <th>Q006</th>\n",
              "      <th>Q007</th>\n",
              "      <th>Q008</th>\n",
              "      <th>Q009</th>\n",
              "      <th>Q010</th>\n",
              "      <th>Q011</th>\n",
              "      <th>Q012</th>\n",
              "      <th>Q013</th>\n",
              "      <th>Q014</th>\n",
              "      <th>Q015</th>\n",
              "      <th>Q016</th>\n",
              "      <th>Q017</th>\n",
              "      <th>Q018</th>\n",
              "      <th>Q019</th>\n",
              "      <th>Q020</th>\n",
              "      <th>Q021</th>\n",
              "      <th>Q022</th>\n",
              "      <th>Q023</th>\n",
              "      <th>Q024</th>\n",
              "      <th>Q025</th>\n",
              "    </tr>\n",
              "  </thead>\n",
              "  <tbody>\n",
              "    <tr>\n",
              "      <th>0</th>\n",
              "      <td>publica</td>\n",
              "      <td>E</td>\n",
              "      <td>E</td>\n",
              "      <td>C</td>\n",
              "      <td>B</td>\n",
              "      <td>4.0</td>\n",
              "      <td>C</td>\n",
              "      <td>A</td>\n",
              "      <td>B</td>\n",
              "      <td>D</td>\n",
              "      <td>A</td>\n",
              "      <td>A</td>\n",
              "      <td>B</td>\n",
              "      <td>A</td>\n",
              "      <td>B</td>\n",
              "      <td>A</td>\n",
              "      <td>A</td>\n",
              "      <td>A</td>\n",
              "      <td>A</td>\n",
              "      <td>B</td>\n",
              "      <td>A</td>\n",
              "      <td>A</td>\n",
              "      <td>D</td>\n",
              "      <td>A</td>\n",
              "      <td>B</td>\n",
              "      <td>B</td>\n",
              "    </tr>\n",
              "    <tr>\n",
              "      <th>6</th>\n",
              "      <td>publica</td>\n",
              "      <td>E</td>\n",
              "      <td>E</td>\n",
              "      <td>C</td>\n",
              "      <td>B</td>\n",
              "      <td>6.0</td>\n",
              "      <td>B</td>\n",
              "      <td>A</td>\n",
              "      <td>C</td>\n",
              "      <td>C</td>\n",
              "      <td>A</td>\n",
              "      <td>A</td>\n",
              "      <td>B</td>\n",
              "      <td>B</td>\n",
              "      <td>B</td>\n",
              "      <td>A</td>\n",
              "      <td>A</td>\n",
              "      <td>A</td>\n",
              "      <td>A</td>\n",
              "      <td>B</td>\n",
              "      <td>A</td>\n",
              "      <td>A</td>\n",
              "      <td>C</td>\n",
              "      <td>A</td>\n",
              "      <td>A</td>\n",
              "      <td>B</td>\n",
              "    </tr>\n",
              "    <tr>\n",
              "      <th>9</th>\n",
              "      <td>publica</td>\n",
              "      <td>A</td>\n",
              "      <td>E</td>\n",
              "      <td>B</td>\n",
              "      <td>B</td>\n",
              "      <td>3.0</td>\n",
              "      <td>B</td>\n",
              "      <td>A</td>\n",
              "      <td>B</td>\n",
              "      <td>C</td>\n",
              "      <td>A</td>\n",
              "      <td>A</td>\n",
              "      <td>B</td>\n",
              "      <td>A</td>\n",
              "      <td>A</td>\n",
              "      <td>A</td>\n",
              "      <td>A</td>\n",
              "      <td>A</td>\n",
              "      <td>A</td>\n",
              "      <td>B</td>\n",
              "      <td>A</td>\n",
              "      <td>A</td>\n",
              "      <td>B</td>\n",
              "      <td>A</td>\n",
              "      <td>A</td>\n",
              "      <td>B</td>\n",
              "    </tr>\n",
              "    <tr>\n",
              "      <th>11</th>\n",
              "      <td>publica</td>\n",
              "      <td>H</td>\n",
              "      <td>D</td>\n",
              "      <td>F</td>\n",
              "      <td>B</td>\n",
              "      <td>3.0</td>\n",
              "      <td>C</td>\n",
              "      <td>A</td>\n",
              "      <td>B</td>\n",
              "      <td>B</td>\n",
              "      <td>A</td>\n",
              "      <td>A</td>\n",
              "      <td>B</td>\n",
              "      <td>A</td>\n",
              "      <td>B</td>\n",
              "      <td>A</td>\n",
              "      <td>A</td>\n",
              "      <td>A</td>\n",
              "      <td>A</td>\n",
              "      <td>B</td>\n",
              "      <td>B</td>\n",
              "      <td>A</td>\n",
              "      <td>D</td>\n",
              "      <td>A</td>\n",
              "      <td>A</td>\n",
              "      <td>B</td>\n",
              "    </tr>\n",
              "    <tr>\n",
              "      <th>13</th>\n",
              "      <td>publica</td>\n",
              "      <td>E</td>\n",
              "      <td>E</td>\n",
              "      <td>B</td>\n",
              "      <td>B</td>\n",
              "      <td>6.0</td>\n",
              "      <td>C</td>\n",
              "      <td>A</td>\n",
              "      <td>B</td>\n",
              "      <td>C</td>\n",
              "      <td>B</td>\n",
              "      <td>A</td>\n",
              "      <td>B</td>\n",
              "      <td>B</td>\n",
              "      <td>B</td>\n",
              "      <td>A</td>\n",
              "      <td>A</td>\n",
              "      <td>A</td>\n",
              "      <td>A</td>\n",
              "      <td>B</td>\n",
              "      <td>A</td>\n",
              "      <td>A</td>\n",
              "      <td>C</td>\n",
              "      <td>A</td>\n",
              "      <td>A</td>\n",
              "      <td>B</td>\n",
              "    </tr>\n",
              "  </tbody>\n",
              "</table>\n",
              "</div>\n",
              "      <button class=\"colab-df-convert\" onclick=\"convertToInteractive('df-37a4ea13-bdbb-4a87-b353-39d08df6db29')\"\n",
              "              title=\"Convert this dataframe to an interactive table.\"\n",
              "              style=\"display:none;\">\n",
              "        \n",
              "  <svg xmlns=\"http://www.w3.org/2000/svg\" height=\"24px\"viewBox=\"0 0 24 24\"\n",
              "       width=\"24px\">\n",
              "    <path d=\"M0 0h24v24H0V0z\" fill=\"none\"/>\n",
              "    <path d=\"M18.56 5.44l.94 2.06.94-2.06 2.06-.94-2.06-.94-.94-2.06-.94 2.06-2.06.94zm-11 1L8.5 8.5l.94-2.06 2.06-.94-2.06-.94L8.5 2.5l-.94 2.06-2.06.94zm10 10l.94 2.06.94-2.06 2.06-.94-2.06-.94-.94-2.06-.94 2.06-2.06.94z\"/><path d=\"M17.41 7.96l-1.37-1.37c-.4-.4-.92-.59-1.43-.59-.52 0-1.04.2-1.43.59L10.3 9.45l-7.72 7.72c-.78.78-.78 2.05 0 2.83L4 21.41c.39.39.9.59 1.41.59.51 0 1.02-.2 1.41-.59l7.78-7.78 2.81-2.81c.8-.78.8-2.07 0-2.86zM5.41 20L4 18.59l7.72-7.72 1.47 1.35L5.41 20z\"/>\n",
              "  </svg>\n",
              "      </button>\n",
              "      \n",
              "  <style>\n",
              "    .colab-df-container {\n",
              "      display:flex;\n",
              "      flex-wrap:wrap;\n",
              "      gap: 12px;\n",
              "    }\n",
              "\n",
              "    .colab-df-convert {\n",
              "      background-color: #E8F0FE;\n",
              "      border: none;\n",
              "      border-radius: 50%;\n",
              "      cursor: pointer;\n",
              "      display: none;\n",
              "      fill: #1967D2;\n",
              "      height: 32px;\n",
              "      padding: 0 0 0 0;\n",
              "      width: 32px;\n",
              "    }\n",
              "\n",
              "    .colab-df-convert:hover {\n",
              "      background-color: #E2EBFA;\n",
              "      box-shadow: 0px 1px 2px rgba(60, 64, 67, 0.3), 0px 1px 3px 1px rgba(60, 64, 67, 0.15);\n",
              "      fill: #174EA6;\n",
              "    }\n",
              "\n",
              "    [theme=dark] .colab-df-convert {\n",
              "      background-color: #3B4455;\n",
              "      fill: #D2E3FC;\n",
              "    }\n",
              "\n",
              "    [theme=dark] .colab-df-convert:hover {\n",
              "      background-color: #434B5C;\n",
              "      box-shadow: 0px 1px 3px 1px rgba(0, 0, 0, 0.15);\n",
              "      filter: drop-shadow(0px 1px 2px rgba(0, 0, 0, 0.3));\n",
              "      fill: #FFFFFF;\n",
              "    }\n",
              "  </style>\n",
              "\n",
              "      <script>\n",
              "        const buttonEl =\n",
              "          document.querySelector('#df-37a4ea13-bdbb-4a87-b353-39d08df6db29 button.colab-df-convert');\n",
              "        buttonEl.style.display =\n",
              "          google.colab.kernel.accessAllowed ? 'block' : 'none';\n",
              "\n",
              "        async function convertToInteractive(key) {\n",
              "          const element = document.querySelector('#df-37a4ea13-bdbb-4a87-b353-39d08df6db29');\n",
              "          const dataTable =\n",
              "            await google.colab.kernel.invokeFunction('convertToInteractive',\n",
              "                                                     [key], {});\n",
              "          if (!dataTable) return;\n",
              "\n",
              "          const docLinkHtml = 'Like what you see? Visit the ' +\n",
              "            '<a target=\"_blank\" href=https://colab.research.google.com/notebooks/data_table.ipynb>data table notebook</a>'\n",
              "            + ' to learn more about interactive tables.';\n",
              "          element.innerHTML = '';\n",
              "          dataTable['output_type'] = 'display_data';\n",
              "          await google.colab.output.renderOutput(dataTable, element);\n",
              "          const docLink = document.createElement('div');\n",
              "          docLink.innerHTML = docLinkHtml;\n",
              "          element.appendChild(docLink);\n",
              "        }\n",
              "      </script>\n",
              "    </div>\n",
              "  </div>\n",
              "  "
            ]
          },
          "metadata": {},
          "execution_count": 50
        }
      ]
    },
    {
      "cell_type": "markdown",
      "source": [
        "### Substituição dos valores nos registros\n",
        "Será feito uma substituição dos valores das linhas (registros), para que se facilite a compreensão dos mesmos."
      ],
      "metadata": {
        "id": "yP3LhI21cG8X"
      }
    },
    {
      "cell_type": "code",
      "source": [
        "df_plot.Q001 = df_plot.Q001.replace(\n",
        "    {\"A\": \"Nunca estudou\",\n",
        "     \"B\": \"Não completou a 4ª série/5º ano do Ensino Fundamental\",\n",
        "     \"C\": \"Completou a 4ª série/5º ano, mas não completou a 8ª série/9º ano do Ensino Fundamental\",\n",
        "     \"D\": \"Completou a 8ª série/9º ano do Ensino Fundamental, mas não completou o Ensino Médio\",\n",
        "     \"E\": \"Completou o Ensino Médio, mas não completou a Faculdade\",\n",
        "     \"F\": \"Completou a Faculdade, mas não completou a Pós-graduação\",\n",
        "     \"G\": \"Completou a Pós-graduação\",\n",
        "     \"H\": \"Não sei\"})"
      ],
      "metadata": {
        "id": "lRhSNJALbjNd",
        "execution": {
          "iopub.status.busy": "2022-10-10T12:22:06.102615Z",
          "iopub.execute_input": "2022-10-10T12:22:06.103914Z",
          "iopub.status.idle": "2022-10-10T12:22:06.113534Z",
          "shell.execute_reply.started": "2022-10-10T12:22:06.103864Z",
          "shell.execute_reply": "2022-10-10T12:22:06.112410Z"
        },
        "trusted": true
      },
      "execution_count": 51,
      "outputs": []
    },
    {
      "cell_type": "code",
      "source": [
        "df_plot.Q002 = df_plot.Q002.replace(\n",
        "   {\"A\": \"Nunca estudou\",\n",
        "     \"B\": \"Não completou a 4ª série/5º ano do Ensino Fundamental\",\n",
        "     \"C\": \"Completou a 4ª série/5º ano, mas não completou a 8ª série/9º ano do Ensino Fundamental\",\n",
        "     \"D\": \"Completou a 8ª série/9º ano do Ensino Fundamental, mas não completou o Ensino Médio\",\n",
        "     \"E\": \"Completou o Ensino Médio, mas não completou a Faculdade\",\n",
        "     \"F\": \"Completou a Faculdade, mas não completou a Pós-graduação\",\n",
        "     \"G\": \"Completou a Pós-graduação\",\n",
        "     \"H\": \"Não sei\"})"
      ],
      "metadata": {
        "id": "buBrWXdCg6ip",
        "execution": {
          "iopub.status.busy": "2022-10-10T12:22:06.114888Z",
          "iopub.execute_input": "2022-10-10T12:22:06.115900Z",
          "iopub.status.idle": "2022-10-10T12:22:06.133853Z",
          "shell.execute_reply.started": "2022-10-10T12:22:06.115862Z",
          "shell.execute_reply": "2022-10-10T12:22:06.132586Z"
        },
        "trusted": true
      },
      "execution_count": 52,
      "outputs": []
    },
    {
      "cell_type": "code",
      "source": [
        "df_plot.Q006 = df_plot.Q006.replace(\n",
        "   {\"A\":\t\"Nenhuma Renda\",\n",
        "   \"B\": \"Até R$ 1.100,00\",\n",
        "    \"C\":\t\"De R$ 1.100,01 até R$ 1.650,00\",\n",
        "    \"D\":\t\"De R$ 1.650,01 até R$ 2.200,00\",\n",
        "    \"E\":\t\"De R$ 2.200,01 até R$ 2.750,00\",\n",
        "    \"F\":\t\"De R$ 2.750,01 até R$ 3.300,00\",\n",
        "    \"G\":\t\"De R$ 3.300,01 até R$ 4.400,00\",\n",
        "    \"H\":\t\"De R$ 4.400,01 até R$ 5.500,00\",\n",
        "    \"I\":\t\"De R$ 5.500,01 até R$ 6.600,00\",\n",
        "    \"J\":\t\"De R$ 6.600,01 até R$ 7.700,00\",\n",
        "    \"K\":\t\"De R$ 7.700,01 até R$ 8.800,00\",\n",
        "    \"L\":\t\"De R$ 8.800,01 até R$ 9.900,00\",\n",
        "    \"M\":\t\"De R$ 9.900,01 até R$ 11.000,00\",\n",
        "    \"N\":\t\"De R$ 11.000,01 até R$ 13.200,00\",\n",
        "    \"O\":\t\"De R$ 13.200,01 até R$ 16.500,00\",\n",
        "    \"P\":\t\"De R$ 16.500,01 até R$ 22.000,00\",\n",
        "    \"Q\":\t\"Acima de R$ 22.000,00\"})"
      ],
      "metadata": {
        "id": "BOX_jt-uiJb0",
        "execution": {
          "iopub.status.busy": "2022-10-10T12:22:06.135697Z",
          "iopub.execute_input": "2022-10-10T12:22:06.136147Z",
          "iopub.status.idle": "2022-10-10T12:22:06.148849Z",
          "shell.execute_reply.started": "2022-10-10T12:22:06.136103Z",
          "shell.execute_reply": "2022-10-10T12:22:06.147874Z"
        },
        "trusted": true
      },
      "execution_count": 53,
      "outputs": []
    },
    {
      "cell_type": "code",
      "source": [
        "df_plot.Q008 = df_plot.Q008.replace(\n",
        "   {\"A\":\t\"Não\",\n",
        "   \"B\":\t\"Sim, um\",\n",
        "   \"C\":\t\"Sim, dois\",\n",
        "   \"D\":\t\"Sim, três\",\n",
        "   \"E\":\t\"Sim, quatro ou mais\"})"
      ],
      "metadata": {
        "id": "WOxvMUcbjoZ7",
        "execution": {
          "iopub.status.busy": "2022-10-10T12:22:06.149932Z",
          "iopub.execute_input": "2022-10-10T12:22:06.150286Z",
          "iopub.status.idle": "2022-10-10T12:22:06.163193Z",
          "shell.execute_reply.started": "2022-10-10T12:22:06.150254Z",
          "shell.execute_reply": "2022-10-10T12:22:06.161963Z"
        },
        "trusted": true
      },
      "execution_count": 54,
      "outputs": []
    },
    {
      "cell_type": "code",
      "source": [
        "df_plot.Q009 = df_plot.Q009.replace(\n",
        "   {\"A\":\t\"Não\",\n",
        "   \"B\":\t\"Sim, um\",\n",
        "   \"C\":\t\"Sim, dois\",\n",
        "   \"D\":\t\"Sim, três\",\n",
        "   \"E\":\t\"Sim, quatro ou mais\"})"
      ],
      "metadata": {
        "id": "0frSHCsXkPhl",
        "execution": {
          "iopub.status.busy": "2022-10-10T12:22:06.164650Z",
          "iopub.execute_input": "2022-10-10T12:22:06.165003Z",
          "iopub.status.idle": "2022-10-10T12:22:06.176132Z",
          "shell.execute_reply.started": "2022-10-10T12:22:06.164967Z",
          "shell.execute_reply": "2022-10-10T12:22:06.175229Z"
        },
        "trusted": true
      },
      "execution_count": 55,
      "outputs": []
    },
    {
      "cell_type": "code",
      "source": [
        "df_plot.Q012 = df_plot.Q012.replace(\n",
        "   {\"A\":\t\"Não\",\n",
        "   \"B\":\t\"Sim, uma\",\n",
        "   \"C\":\t\"Sim, duas\",\n",
        "   \"D\":\t\"Sim, três\",\n",
        "   \"E\":\t\"Sim, quatro ou mais\"})"
      ],
      "metadata": {
        "id": "7K2hX-eEkZNZ",
        "execution": {
          "iopub.status.busy": "2022-10-10T12:22:06.177461Z",
          "iopub.execute_input": "2022-10-10T12:22:06.177755Z",
          "iopub.status.idle": "2022-10-10T12:22:06.191576Z",
          "shell.execute_reply.started": "2022-10-10T12:22:06.177726Z",
          "shell.execute_reply": "2022-10-10T12:22:06.190610Z"
        },
        "trusted": true
      },
      "execution_count": 56,
      "outputs": []
    },
    {
      "cell_type": "code",
      "source": [
        "df_plot.Q014 = df_plot.Q014.replace(\n",
        "   {\"A\":\t\"Não\",\n",
        "   \"B\":\t\"Sim, uma\",\n",
        "   \"C\":\t\"Sim, duas\",\n",
        "   \"D\":\t\"Sim, três\",\n",
        "   \"E\":\t\"Sim, quatro ou mais\"})"
      ],
      "metadata": {
        "id": "TKvUL8DLkqE7",
        "execution": {
          "iopub.status.busy": "2022-10-10T12:22:06.192729Z",
          "iopub.execute_input": "2022-10-10T12:22:06.193645Z",
          "iopub.status.idle": "2022-10-10T12:22:06.202433Z",
          "shell.execute_reply.started": "2022-10-10T12:22:06.193609Z",
          "shell.execute_reply": "2022-10-10T12:22:06.201235Z"
        },
        "trusted": true
      },
      "execution_count": 57,
      "outputs": []
    },
    {
      "cell_type": "code",
      "source": [
        "df_plot.Q019 = df_plot.Q019.replace(\n",
        "   {\"A\":\t\"Não\",\n",
        "   \"B\":\t\"Sim, uma\",\n",
        "   \"C\":\t\"Sim, duas\",\n",
        "   \"D\":\t\"Sim, três\",\n",
        "   \"E\":\t\"Sim, quatro ou mais\"})"
      ],
      "metadata": {
        "id": "0-2aFTiclW__",
        "execution": {
          "iopub.status.busy": "2022-10-10T12:22:06.203788Z",
          "iopub.execute_input": "2022-10-10T12:22:06.204650Z",
          "iopub.status.idle": "2022-10-10T12:22:06.216423Z",
          "shell.execute_reply.started": "2022-10-10T12:22:06.204615Z",
          "shell.execute_reply": "2022-10-10T12:22:06.215524Z"
        },
        "trusted": true
      },
      "execution_count": 58,
      "outputs": []
    },
    {
      "cell_type": "code",
      "source": [
        "df_plot.Q022 = df_plot.Q022.replace(\n",
        "   {\"A\":\t\"Não\",\n",
        "   \"B\":\t\"Sim, um\",\n",
        "   \"C\":\t\"Sim, dois\",\n",
        "   \"D\":\t\"Sim, três\",\n",
        "   \"E\":\t\"Sim, quatro ou mais\"})"
      ],
      "metadata": {
        "id": "19PcclTblpxQ",
        "execution": {
          "iopub.status.busy": "2022-10-10T12:22:06.217858Z",
          "iopub.execute_input": "2022-10-10T12:22:06.218432Z",
          "iopub.status.idle": "2022-10-10T12:22:06.230203Z",
          "shell.execute_reply.started": "2022-10-10T12:22:06.218399Z",
          "shell.execute_reply": "2022-10-10T12:22:06.228930Z"
        },
        "trusted": true
      },
      "execution_count": 59,
      "outputs": []
    },
    {
      "cell_type": "code",
      "source": [
        "df_plot.Q024 = df_plot.Q024.replace(\n",
        "   {\"A\":\t\"Não\",\n",
        "   \"B\":\t\"Sim, um\",\n",
        "   \"C\":\t\"Sim, dois\",\n",
        "   \"D\":\t\"Sim, três\",\n",
        "   \"E\":\t\"Sim, quatro ou mais\"})"
      ],
      "metadata": {
        "id": "C-uB5Ypul2pN",
        "execution": {
          "iopub.status.busy": "2022-10-10T12:22:06.231734Z",
          "iopub.execute_input": "2022-10-10T12:22:06.232406Z",
          "iopub.status.idle": "2022-10-10T12:22:06.239593Z",
          "shell.execute_reply.started": "2022-10-10T12:22:06.232357Z",
          "shell.execute_reply": "2022-10-10T12:22:06.238615Z"
        },
        "trusted": true
      },
      "execution_count": 60,
      "outputs": []
    },
    {
      "cell_type": "code",
      "source": [
        "df_plot.Q025 = df_plot.Q025.replace(\n",
        "   {\"A\":\t\"Não\",\n",
        "   \"B\":\t\"Sim\"})"
      ],
      "metadata": {
        "id": "bvF42wsEmHrc",
        "execution": {
          "iopub.status.busy": "2022-10-10T12:22:06.240968Z",
          "iopub.execute_input": "2022-10-10T12:22:06.241635Z",
          "iopub.status.idle": "2022-10-10T12:22:06.249862Z",
          "shell.execute_reply.started": "2022-10-10T12:22:06.241601Z",
          "shell.execute_reply": "2022-10-10T12:22:06.249037Z"
        },
        "trusted": true
      },
      "execution_count": 61,
      "outputs": []
    },
    {
      "cell_type": "code",
      "source": [
        "df_plot.head()"
      ],
      "metadata": {
        "id": "IhXRRUUncu8N",
        "execution": {
          "iopub.status.busy": "2022-10-10T12:22:06.251222Z",
          "iopub.execute_input": "2022-10-10T12:22:06.251879Z",
          "iopub.status.idle": "2022-10-10T12:22:06.281472Z",
          "shell.execute_reply.started": "2022-10-10T12:22:06.251846Z",
          "shell.execute_reply": "2022-10-10T12:22:06.280680Z"
        },
        "trusted": true,
        "colab": {
          "base_uri": "https://localhost:8080/",
          "height": 687
        },
        "outputId": "d951b818-c5a2-4660-a5d2-b83d471c831d"
      },
      "execution_count": 62,
      "outputs": [
        {
          "output_type": "execute_result",
          "data": {
            "text/plain": [
              "   TP_ESCOLA                                               Q001  \\\n",
              "0    publica  Completou o Ensino Médio, mas não completou a ...   \n",
              "6    publica  Completou o Ensino Médio, mas não completou a ...   \n",
              "9    publica                                      Nunca estudou   \n",
              "11   publica                                            Não sei   \n",
              "13   publica  Completou o Ensino Médio, mas não completou a ...   \n",
              "\n",
              "                                                 Q002 Q003 Q004  Q005  \\\n",
              "0   Completou o Ensino Médio, mas não completou a ...    C    B   4.0   \n",
              "6   Completou o Ensino Médio, mas não completou a ...    C    B   6.0   \n",
              "9   Completou o Ensino Médio, mas não completou a ...    B    B   3.0   \n",
              "11  Completou a 8ª série/9º ano do Ensino Fundamen...    F    B   3.0   \n",
              "13  Completou o Ensino Médio, mas não completou a ...    B    B   6.0   \n",
              "\n",
              "                              Q006 Q007       Q008       Q009 Q010 Q011  \\\n",
              "0   De R$ 1.100,01 até R$ 1.650,00    A    Sim, um  Sim, três    A    A   \n",
              "6                  Até R$ 1.100,00    A  Sim, dois  Sim, dois    A    A   \n",
              "9                  Até R$ 1.100,00    A    Sim, um  Sim, dois    A    A   \n",
              "11  De R$ 1.100,01 até R$ 1.650,00    A    Sim, um    Sim, um    A    A   \n",
              "13  De R$ 1.100,01 até R$ 1.650,00    A    Sim, um  Sim, dois    B    A   \n",
              "\n",
              "        Q012 Q013      Q014 Q015 Q016 Q017 Q018      Q019 Q020 Q021  \\\n",
              "0   Sim, uma    A  Sim, uma    A    A    A    A  Sim, uma    A    A   \n",
              "6   Sim, uma    B  Sim, uma    A    A    A    A  Sim, uma    A    A   \n",
              "9   Sim, uma    A       Não    A    A    A    A  Sim, uma    A    A   \n",
              "11  Sim, uma    A  Sim, uma    A    A    A    A  Sim, uma    B    A   \n",
              "13  Sim, uma    B  Sim, uma    A    A    A    A  Sim, uma    A    A   \n",
              "\n",
              "         Q022 Q023     Q024 Q025  \n",
              "0   Sim, três    A  Sim, um  Sim  \n",
              "6   Sim, dois    A      Não  Sim  \n",
              "9     Sim, um    A      Não  Sim  \n",
              "11  Sim, três    A      Não  Sim  \n",
              "13  Sim, dois    A      Não  Sim  "
            ],
            "text/html": [
              "\n",
              "  <div id=\"df-39eb47a4-2b11-41be-900f-d5282e344ccf\">\n",
              "    <div class=\"colab-df-container\">\n",
              "      <div>\n",
              "<style scoped>\n",
              "    .dataframe tbody tr th:only-of-type {\n",
              "        vertical-align: middle;\n",
              "    }\n",
              "\n",
              "    .dataframe tbody tr th {\n",
              "        vertical-align: top;\n",
              "    }\n",
              "\n",
              "    .dataframe thead th {\n",
              "        text-align: right;\n",
              "    }\n",
              "</style>\n",
              "<table border=\"1\" class=\"dataframe\">\n",
              "  <thead>\n",
              "    <tr style=\"text-align: right;\">\n",
              "      <th></th>\n",
              "      <th>TP_ESCOLA</th>\n",
              "      <th>Q001</th>\n",
              "      <th>Q002</th>\n",
              "      <th>Q003</th>\n",
              "      <th>Q004</th>\n",
              "      <th>Q005</th>\n",
              "      <th>Q006</th>\n",
              "      <th>Q007</th>\n",
              "      <th>Q008</th>\n",
              "      <th>Q009</th>\n",
              "      <th>Q010</th>\n",
              "      <th>Q011</th>\n",
              "      <th>Q012</th>\n",
              "      <th>Q013</th>\n",
              "      <th>Q014</th>\n",
              "      <th>Q015</th>\n",
              "      <th>Q016</th>\n",
              "      <th>Q017</th>\n",
              "      <th>Q018</th>\n",
              "      <th>Q019</th>\n",
              "      <th>Q020</th>\n",
              "      <th>Q021</th>\n",
              "      <th>Q022</th>\n",
              "      <th>Q023</th>\n",
              "      <th>Q024</th>\n",
              "      <th>Q025</th>\n",
              "    </tr>\n",
              "  </thead>\n",
              "  <tbody>\n",
              "    <tr>\n",
              "      <th>0</th>\n",
              "      <td>publica</td>\n",
              "      <td>Completou o Ensino Médio, mas não completou a ...</td>\n",
              "      <td>Completou o Ensino Médio, mas não completou a ...</td>\n",
              "      <td>C</td>\n",
              "      <td>B</td>\n",
              "      <td>4.0</td>\n",
              "      <td>De R$ 1.100,01 até R$ 1.650,00</td>\n",
              "      <td>A</td>\n",
              "      <td>Sim, um</td>\n",
              "      <td>Sim, três</td>\n",
              "      <td>A</td>\n",
              "      <td>A</td>\n",
              "      <td>Sim, uma</td>\n",
              "      <td>A</td>\n",
              "      <td>Sim, uma</td>\n",
              "      <td>A</td>\n",
              "      <td>A</td>\n",
              "      <td>A</td>\n",
              "      <td>A</td>\n",
              "      <td>Sim, uma</td>\n",
              "      <td>A</td>\n",
              "      <td>A</td>\n",
              "      <td>Sim, três</td>\n",
              "      <td>A</td>\n",
              "      <td>Sim, um</td>\n",
              "      <td>Sim</td>\n",
              "    </tr>\n",
              "    <tr>\n",
              "      <th>6</th>\n",
              "      <td>publica</td>\n",
              "      <td>Completou o Ensino Médio, mas não completou a ...</td>\n",
              "      <td>Completou o Ensino Médio, mas não completou a ...</td>\n",
              "      <td>C</td>\n",
              "      <td>B</td>\n",
              "      <td>6.0</td>\n",
              "      <td>Até R$ 1.100,00</td>\n",
              "      <td>A</td>\n",
              "      <td>Sim, dois</td>\n",
              "      <td>Sim, dois</td>\n",
              "      <td>A</td>\n",
              "      <td>A</td>\n",
              "      <td>Sim, uma</td>\n",
              "      <td>B</td>\n",
              "      <td>Sim, uma</td>\n",
              "      <td>A</td>\n",
              "      <td>A</td>\n",
              "      <td>A</td>\n",
              "      <td>A</td>\n",
              "      <td>Sim, uma</td>\n",
              "      <td>A</td>\n",
              "      <td>A</td>\n",
              "      <td>Sim, dois</td>\n",
              "      <td>A</td>\n",
              "      <td>Não</td>\n",
              "      <td>Sim</td>\n",
              "    </tr>\n",
              "    <tr>\n",
              "      <th>9</th>\n",
              "      <td>publica</td>\n",
              "      <td>Nunca estudou</td>\n",
              "      <td>Completou o Ensino Médio, mas não completou a ...</td>\n",
              "      <td>B</td>\n",
              "      <td>B</td>\n",
              "      <td>3.0</td>\n",
              "      <td>Até R$ 1.100,00</td>\n",
              "      <td>A</td>\n",
              "      <td>Sim, um</td>\n",
              "      <td>Sim, dois</td>\n",
              "      <td>A</td>\n",
              "      <td>A</td>\n",
              "      <td>Sim, uma</td>\n",
              "      <td>A</td>\n",
              "      <td>Não</td>\n",
              "      <td>A</td>\n",
              "      <td>A</td>\n",
              "      <td>A</td>\n",
              "      <td>A</td>\n",
              "      <td>Sim, uma</td>\n",
              "      <td>A</td>\n",
              "      <td>A</td>\n",
              "      <td>Sim, um</td>\n",
              "      <td>A</td>\n",
              "      <td>Não</td>\n",
              "      <td>Sim</td>\n",
              "    </tr>\n",
              "    <tr>\n",
              "      <th>11</th>\n",
              "      <td>publica</td>\n",
              "      <td>Não sei</td>\n",
              "      <td>Completou a 8ª série/9º ano do Ensino Fundamen...</td>\n",
              "      <td>F</td>\n",
              "      <td>B</td>\n",
              "      <td>3.0</td>\n",
              "      <td>De R$ 1.100,01 até R$ 1.650,00</td>\n",
              "      <td>A</td>\n",
              "      <td>Sim, um</td>\n",
              "      <td>Sim, um</td>\n",
              "      <td>A</td>\n",
              "      <td>A</td>\n",
              "      <td>Sim, uma</td>\n",
              "      <td>A</td>\n",
              "      <td>Sim, uma</td>\n",
              "      <td>A</td>\n",
              "      <td>A</td>\n",
              "      <td>A</td>\n",
              "      <td>A</td>\n",
              "      <td>Sim, uma</td>\n",
              "      <td>B</td>\n",
              "      <td>A</td>\n",
              "      <td>Sim, três</td>\n",
              "      <td>A</td>\n",
              "      <td>Não</td>\n",
              "      <td>Sim</td>\n",
              "    </tr>\n",
              "    <tr>\n",
              "      <th>13</th>\n",
              "      <td>publica</td>\n",
              "      <td>Completou o Ensino Médio, mas não completou a ...</td>\n",
              "      <td>Completou o Ensino Médio, mas não completou a ...</td>\n",
              "      <td>B</td>\n",
              "      <td>B</td>\n",
              "      <td>6.0</td>\n",
              "      <td>De R$ 1.100,01 até R$ 1.650,00</td>\n",
              "      <td>A</td>\n",
              "      <td>Sim, um</td>\n",
              "      <td>Sim, dois</td>\n",
              "      <td>B</td>\n",
              "      <td>A</td>\n",
              "      <td>Sim, uma</td>\n",
              "      <td>B</td>\n",
              "      <td>Sim, uma</td>\n",
              "      <td>A</td>\n",
              "      <td>A</td>\n",
              "      <td>A</td>\n",
              "      <td>A</td>\n",
              "      <td>Sim, uma</td>\n",
              "      <td>A</td>\n",
              "      <td>A</td>\n",
              "      <td>Sim, dois</td>\n",
              "      <td>A</td>\n",
              "      <td>Não</td>\n",
              "      <td>Sim</td>\n",
              "    </tr>\n",
              "  </tbody>\n",
              "</table>\n",
              "</div>\n",
              "      <button class=\"colab-df-convert\" onclick=\"convertToInteractive('df-39eb47a4-2b11-41be-900f-d5282e344ccf')\"\n",
              "              title=\"Convert this dataframe to an interactive table.\"\n",
              "              style=\"display:none;\">\n",
              "        \n",
              "  <svg xmlns=\"http://www.w3.org/2000/svg\" height=\"24px\"viewBox=\"0 0 24 24\"\n",
              "       width=\"24px\">\n",
              "    <path d=\"M0 0h24v24H0V0z\" fill=\"none\"/>\n",
              "    <path d=\"M18.56 5.44l.94 2.06.94-2.06 2.06-.94-2.06-.94-.94-2.06-.94 2.06-2.06.94zm-11 1L8.5 8.5l.94-2.06 2.06-.94-2.06-.94L8.5 2.5l-.94 2.06-2.06.94zm10 10l.94 2.06.94-2.06 2.06-.94-2.06-.94-.94-2.06-.94 2.06-2.06.94z\"/><path d=\"M17.41 7.96l-1.37-1.37c-.4-.4-.92-.59-1.43-.59-.52 0-1.04.2-1.43.59L10.3 9.45l-7.72 7.72c-.78.78-.78 2.05 0 2.83L4 21.41c.39.39.9.59 1.41.59.51 0 1.02-.2 1.41-.59l7.78-7.78 2.81-2.81c.8-.78.8-2.07 0-2.86zM5.41 20L4 18.59l7.72-7.72 1.47 1.35L5.41 20z\"/>\n",
              "  </svg>\n",
              "      </button>\n",
              "      \n",
              "  <style>\n",
              "    .colab-df-container {\n",
              "      display:flex;\n",
              "      flex-wrap:wrap;\n",
              "      gap: 12px;\n",
              "    }\n",
              "\n",
              "    .colab-df-convert {\n",
              "      background-color: #E8F0FE;\n",
              "      border: none;\n",
              "      border-radius: 50%;\n",
              "      cursor: pointer;\n",
              "      display: none;\n",
              "      fill: #1967D2;\n",
              "      height: 32px;\n",
              "      padding: 0 0 0 0;\n",
              "      width: 32px;\n",
              "    }\n",
              "\n",
              "    .colab-df-convert:hover {\n",
              "      background-color: #E2EBFA;\n",
              "      box-shadow: 0px 1px 2px rgba(60, 64, 67, 0.3), 0px 1px 3px 1px rgba(60, 64, 67, 0.15);\n",
              "      fill: #174EA6;\n",
              "    }\n",
              "\n",
              "    [theme=dark] .colab-df-convert {\n",
              "      background-color: #3B4455;\n",
              "      fill: #D2E3FC;\n",
              "    }\n",
              "\n",
              "    [theme=dark] .colab-df-convert:hover {\n",
              "      background-color: #434B5C;\n",
              "      box-shadow: 0px 1px 3px 1px rgba(0, 0, 0, 0.15);\n",
              "      filter: drop-shadow(0px 1px 2px rgba(0, 0, 0, 0.3));\n",
              "      fill: #FFFFFF;\n",
              "    }\n",
              "  </style>\n",
              "\n",
              "      <script>\n",
              "        const buttonEl =\n",
              "          document.querySelector('#df-39eb47a4-2b11-41be-900f-d5282e344ccf button.colab-df-convert');\n",
              "        buttonEl.style.display =\n",
              "          google.colab.kernel.accessAllowed ? 'block' : 'none';\n",
              "\n",
              "        async function convertToInteractive(key) {\n",
              "          const element = document.querySelector('#df-39eb47a4-2b11-41be-900f-d5282e344ccf');\n",
              "          const dataTable =\n",
              "            await google.colab.kernel.invokeFunction('convertToInteractive',\n",
              "                                                     [key], {});\n",
              "          if (!dataTable) return;\n",
              "\n",
              "          const docLinkHtml = 'Like what you see? Visit the ' +\n",
              "            '<a target=\"_blank\" href=https://colab.research.google.com/notebooks/data_table.ipynb>data table notebook</a>'\n",
              "            + ' to learn more about interactive tables.';\n",
              "          element.innerHTML = '';\n",
              "          dataTable['output_type'] = 'display_data';\n",
              "          await google.colab.output.renderOutput(dataTable, element);\n",
              "          const docLink = document.createElement('div');\n",
              "          docLink.innerHTML = docLinkHtml;\n",
              "          element.appendChild(docLink);\n",
              "        }\n",
              "      </script>\n",
              "    </div>\n",
              "  </div>\n",
              "  "
            ]
          },
          "metadata": {},
          "execution_count": 62
        }
      ]
    },
    {
      "cell_type": "code",
      "source": [
        "quest = {\"Q001\": \"Até que série seu pai, ou o homem responsável por você, estudou?\",\n",
        " \"Q002\": \"Até que série sua mãe, ou a mulher responsável por você, estudou?\",\n",
        " \"Q005\": \"Incluindo você, quantas pessoas moram atualmente em sua residência?\",\n",
        " \"Q006\": \"Qual é a renda mensal de sua família? (Some a sua renda com a dos seus familiares)\",\n",
        " \"Q008\": \"Na sua residência tem banheiro?\",\n",
        " \"Q009\": \"Na sua residência tem quartos para dormir?\",\n",
        " \"Q012\": \"Na sua residência tem geladeira?\",\n",
        " \"Q014\": \"Na sua residência tem máquina de lavar roupa? (o tanquinho NÃO deve ser considerado)\",\n",
        " \"Q019\": \"Na sua residência tem televisão em cores?\",\n",
        " \"Q022\": \"Na sua residência tem telefone celular?\",\n",
        " \"Q024\": \"Na sua residência tem computador?\",\n",
        " \"Q025\": \"Na sua residência tem acesso à Internet?\"}"
      ],
      "metadata": {
        "id": "M6WxIirtnwz8",
        "execution": {
          "iopub.status.busy": "2022-10-10T12:22:06.282648Z",
          "iopub.execute_input": "2022-10-10T12:22:06.283121Z",
          "iopub.status.idle": "2022-10-10T12:22:06.288569Z",
          "shell.execute_reply.started": "2022-10-10T12:22:06.283090Z",
          "shell.execute_reply": "2022-10-10T12:22:06.287601Z"
        },
        "trusted": true
      },
      "execution_count": 63,
      "outputs": []
    },
    {
      "cell_type": "markdown",
      "source": [
        "### Visualização gráfica\n",
        "Agora, serão expostas comparações entre as respostas dos questionários entre vestibulandos de escolas públicas e privadas."
      ],
      "metadata": {
        "id": "6hcqtpQzcG8m"
      }
    },
    {
      "cell_type": "code",
      "source": [
        "titles = [\"Escolas Públicas\", \"Escolas Privadas\"]\n",
        "specs = [[{'type':'domain'}, {'type':'domain'}]]"
      ],
      "metadata": {
        "id": "vVXDrdc4De44"
      },
      "execution_count": 64,
      "outputs": []
    },
    {
      "cell_type": "code",
      "source": [
        "q001_pub = df_plot.query(\"TP_ESCOLA == 'publica'\")[\"Q001\"].value_counts()\n",
        "label_pub = q001_pub.index\n",
        "value_pub = q001_pub.values\n",
        "\n",
        "q001_priv = df_plot.query(\"TP_ESCOLA == 'privada'\")[\"Q001\"].value_counts()\n",
        "label_priv = q001_priv.index\n",
        "value_priv = q001_priv.values\n",
        "\n",
        "graph_q001 = make_subplots(rows=1, cols=2, specs=specs, subplot_titles=titles)\n",
        "\n",
        "graph_q001.add_trace(go.Pie(labels=label_pub, values=value_pub,\n",
        "                            marker_colors=tema), 1, 1)\n",
        "\n",
        "graph_q001.add_trace(go.Pie(labels=label_priv, values=value_priv), 1, 2)\n",
        "\n",
        "graph_q001.update_layout(font_size=12, title=dict(text=quest[\"Q001\"], x=0.5,\n",
        "                                                  font_size=22),\n",
        "                         uniformtext_minsize=14, uniformtext_mode=\"hide\")"
      ],
      "metadata": {
        "id": "N3qCDslcATQ5",
        "execution": {
          "iopub.status.busy": "2022-10-10T12:22:06.289632Z",
          "iopub.execute_input": "2022-10-10T12:22:06.290894Z",
          "iopub.status.idle": "2022-10-10T12:22:06.343353Z",
          "shell.execute_reply.started": "2022-10-10T12:22:06.290848Z",
          "shell.execute_reply": "2022-10-10T12:22:06.342473Z"
        },
        "trusted": true,
        "colab": {
          "base_uri": "https://localhost:8080/",
          "height": 542
        },
        "outputId": "86becbe1-e07a-448b-8d19-fd7823d4a556"
      },
      "execution_count": 65,
      "outputs": [
        {
          "output_type": "display_data",
          "data": {
            "text/html": [
              "<html>\n",
              "<head><meta charset=\"utf-8\" /></head>\n",
              "<body>\n",
              "    <div>            <script src=\"https://cdnjs.cloudflare.com/ajax/libs/mathjax/2.7.5/MathJax.js?config=TeX-AMS-MML_SVG\"></script><script type=\"text/javascript\">if (window.MathJax) {MathJax.Hub.Config({SVG: {font: \"STIX-Web\"}});}</script>                <script type=\"text/javascript\">window.PlotlyConfig = {MathJaxConfig: 'local'};</script>\n",
              "        <script src=\"https://cdn.plot.ly/plotly-2.8.3.min.js\"></script>                <div id=\"14499152-2c20-41fa-9998-1927d90b6ee8\" class=\"plotly-graph-div\" style=\"height:525px; width:100%;\"></div>            <script type=\"text/javascript\">                                    window.PLOTLYENV=window.PLOTLYENV || {};                                    if (document.getElementById(\"14499152-2c20-41fa-9998-1927d90b6ee8\")) {                    Plotly.newPlot(                        \"14499152-2c20-41fa-9998-1927d90b6ee8\",                        [{\"labels\":[\"Completou o Ensino M\\u00e9dio, mas n\\u00e3o completou a Faculdade\",\"N\\u00e3o completou a 4\\u00aa s\\u00e9rie/5\\u00ba ano do Ensino Fundamental\",\"Completou a 8\\u00aa s\\u00e9rie/9\\u00ba ano do Ensino Fundamental, mas n\\u00e3o completou o Ensino M\\u00e9dio\",\"N\\u00e3o sei\",\"Completou a 4\\u00aa s\\u00e9rie/5\\u00ba ano, mas n\\u00e3o completou a 8\\u00aa s\\u00e9rie/9\\u00ba ano do Ensino Fundamental\",\"Completou a Faculdade, mas n\\u00e3o completou a P\\u00f3s-gradua\\u00e7\\u00e3o\",\"Completou a P\\u00f3s-gradua\\u00e7\\u00e3o\",\"Nunca estudou\"],\"marker\":{\"colors\":[\"#FD3216\",\"#00FE35\",\"#6A76FC\",\"#FED4C4\",\"#FE00CE\",\"#0DF9FF\",\"#F6F926\",\"#FF9616\",\"#479B55\",\"#EEA6FB\",\"#DC587D\",\"#D626FF\",\"#6E899C\",\"#00B5F7\",\"#B68E00\",\"#C9FBE5\",\"#FF0092\",\"#22FFA7\",\"#E3EE9E\",\"#86CE00\",\"#BC7196\",\"#7E7DCD\",\"#FC6955\",\"#E48F72\"]},\"values\":[1032,395,337,331,276,268,192,130],\"type\":\"pie\",\"domain\":{\"x\":[0.0,0.45],\"y\":[0.0,1.0]}},{\"labels\":[\"Completou o Ensino M\\u00e9dio, mas n\\u00e3o completou a Faculdade\",\"Completou a P\\u00f3s-gradua\\u00e7\\u00e3o\",\"Completou a Faculdade, mas n\\u00e3o completou a P\\u00f3s-gradua\\u00e7\\u00e3o\",\"N\\u00e3o sei\",\"Completou a 8\\u00aa s\\u00e9rie/9\\u00ba ano do Ensino Fundamental, mas n\\u00e3o completou o Ensino M\\u00e9dio\",\"Completou a 4\\u00aa s\\u00e9rie/5\\u00ba ano, mas n\\u00e3o completou a 8\\u00aa s\\u00e9rie/9\\u00ba ano do Ensino Fundamental\",\"N\\u00e3o completou a 4\\u00aa s\\u00e9rie/5\\u00ba ano do Ensino Fundamental\",\"Nunca estudou\"],\"values\":[140,137,130,31,17,14,7,2],\"type\":\"pie\",\"domain\":{\"x\":[0.55,1.0],\"y\":[0.0,1.0]}}],                        {\"template\":{\"data\":{\"bar\":[{\"error_x\":{\"color\":\"#2a3f5f\"},\"error_y\":{\"color\":\"#2a3f5f\"},\"marker\":{\"line\":{\"color\":\"#E5ECF6\",\"width\":0.5},\"pattern\":{\"fillmode\":\"overlay\",\"size\":10,\"solidity\":0.2}},\"type\":\"bar\"}],\"barpolar\":[{\"marker\":{\"line\":{\"color\":\"#E5ECF6\",\"width\":0.5},\"pattern\":{\"fillmode\":\"overlay\",\"size\":10,\"solidity\":0.2}},\"type\":\"barpolar\"}],\"carpet\":[{\"aaxis\":{\"endlinecolor\":\"#2a3f5f\",\"gridcolor\":\"white\",\"linecolor\":\"white\",\"minorgridcolor\":\"white\",\"startlinecolor\":\"#2a3f5f\"},\"baxis\":{\"endlinecolor\":\"#2a3f5f\",\"gridcolor\":\"white\",\"linecolor\":\"white\",\"minorgridcolor\":\"white\",\"startlinecolor\":\"#2a3f5f\"},\"type\":\"carpet\"}],\"choropleth\":[{\"colorbar\":{\"outlinewidth\":0,\"ticks\":\"\"},\"type\":\"choropleth\"}],\"contour\":[{\"colorbar\":{\"outlinewidth\":0,\"ticks\":\"\"},\"colorscale\":[[0.0,\"#0d0887\"],[0.1111111111111111,\"#46039f\"],[0.2222222222222222,\"#7201a8\"],[0.3333333333333333,\"#9c179e\"],[0.4444444444444444,\"#bd3786\"],[0.5555555555555556,\"#d8576b\"],[0.6666666666666666,\"#ed7953\"],[0.7777777777777778,\"#fb9f3a\"],[0.8888888888888888,\"#fdca26\"],[1.0,\"#f0f921\"]],\"type\":\"contour\"}],\"contourcarpet\":[{\"colorbar\":{\"outlinewidth\":0,\"ticks\":\"\"},\"type\":\"contourcarpet\"}],\"heatmap\":[{\"colorbar\":{\"outlinewidth\":0,\"ticks\":\"\"},\"colorscale\":[[0.0,\"#0d0887\"],[0.1111111111111111,\"#46039f\"],[0.2222222222222222,\"#7201a8\"],[0.3333333333333333,\"#9c179e\"],[0.4444444444444444,\"#bd3786\"],[0.5555555555555556,\"#d8576b\"],[0.6666666666666666,\"#ed7953\"],[0.7777777777777778,\"#fb9f3a\"],[0.8888888888888888,\"#fdca26\"],[1.0,\"#f0f921\"]],\"type\":\"heatmap\"}],\"heatmapgl\":[{\"colorbar\":{\"outlinewidth\":0,\"ticks\":\"\"},\"colorscale\":[[0.0,\"#0d0887\"],[0.1111111111111111,\"#46039f\"],[0.2222222222222222,\"#7201a8\"],[0.3333333333333333,\"#9c179e\"],[0.4444444444444444,\"#bd3786\"],[0.5555555555555556,\"#d8576b\"],[0.6666666666666666,\"#ed7953\"],[0.7777777777777778,\"#fb9f3a\"],[0.8888888888888888,\"#fdca26\"],[1.0,\"#f0f921\"]],\"type\":\"heatmapgl\"}],\"histogram\":[{\"marker\":{\"pattern\":{\"fillmode\":\"overlay\",\"size\":10,\"solidity\":0.2}},\"type\":\"histogram\"}],\"histogram2d\":[{\"colorbar\":{\"outlinewidth\":0,\"ticks\":\"\"},\"colorscale\":[[0.0,\"#0d0887\"],[0.1111111111111111,\"#46039f\"],[0.2222222222222222,\"#7201a8\"],[0.3333333333333333,\"#9c179e\"],[0.4444444444444444,\"#bd3786\"],[0.5555555555555556,\"#d8576b\"],[0.6666666666666666,\"#ed7953\"],[0.7777777777777778,\"#fb9f3a\"],[0.8888888888888888,\"#fdca26\"],[1.0,\"#f0f921\"]],\"type\":\"histogram2d\"}],\"histogram2dcontour\":[{\"colorbar\":{\"outlinewidth\":0,\"ticks\":\"\"},\"colorscale\":[[0.0,\"#0d0887\"],[0.1111111111111111,\"#46039f\"],[0.2222222222222222,\"#7201a8\"],[0.3333333333333333,\"#9c179e\"],[0.4444444444444444,\"#bd3786\"],[0.5555555555555556,\"#d8576b\"],[0.6666666666666666,\"#ed7953\"],[0.7777777777777778,\"#fb9f3a\"],[0.8888888888888888,\"#fdca26\"],[1.0,\"#f0f921\"]],\"type\":\"histogram2dcontour\"}],\"mesh3d\":[{\"colorbar\":{\"outlinewidth\":0,\"ticks\":\"\"},\"type\":\"mesh3d\"}],\"parcoords\":[{\"line\":{\"colorbar\":{\"outlinewidth\":0,\"ticks\":\"\"}},\"type\":\"parcoords\"}],\"pie\":[{\"automargin\":true,\"type\":\"pie\"}],\"scatter\":[{\"marker\":{\"colorbar\":{\"outlinewidth\":0,\"ticks\":\"\"}},\"type\":\"scatter\"}],\"scatter3d\":[{\"line\":{\"colorbar\":{\"outlinewidth\":0,\"ticks\":\"\"}},\"marker\":{\"colorbar\":{\"outlinewidth\":0,\"ticks\":\"\"}},\"type\":\"scatter3d\"}],\"scattercarpet\":[{\"marker\":{\"colorbar\":{\"outlinewidth\":0,\"ticks\":\"\"}},\"type\":\"scattercarpet\"}],\"scattergeo\":[{\"marker\":{\"colorbar\":{\"outlinewidth\":0,\"ticks\":\"\"}},\"type\":\"scattergeo\"}],\"scattergl\":[{\"marker\":{\"colorbar\":{\"outlinewidth\":0,\"ticks\":\"\"}},\"type\":\"scattergl\"}],\"scattermapbox\":[{\"marker\":{\"colorbar\":{\"outlinewidth\":0,\"ticks\":\"\"}},\"type\":\"scattermapbox\"}],\"scatterpolar\":[{\"marker\":{\"colorbar\":{\"outlinewidth\":0,\"ticks\":\"\"}},\"type\":\"scatterpolar\"}],\"scatterpolargl\":[{\"marker\":{\"colorbar\":{\"outlinewidth\":0,\"ticks\":\"\"}},\"type\":\"scatterpolargl\"}],\"scatterternary\":[{\"marker\":{\"colorbar\":{\"outlinewidth\":0,\"ticks\":\"\"}},\"type\":\"scatterternary\"}],\"surface\":[{\"colorbar\":{\"outlinewidth\":0,\"ticks\":\"\"},\"colorscale\":[[0.0,\"#0d0887\"],[0.1111111111111111,\"#46039f\"],[0.2222222222222222,\"#7201a8\"],[0.3333333333333333,\"#9c179e\"],[0.4444444444444444,\"#bd3786\"],[0.5555555555555556,\"#d8576b\"],[0.6666666666666666,\"#ed7953\"],[0.7777777777777778,\"#fb9f3a\"],[0.8888888888888888,\"#fdca26\"],[1.0,\"#f0f921\"]],\"type\":\"surface\"}],\"table\":[{\"cells\":{\"fill\":{\"color\":\"#EBF0F8\"},\"line\":{\"color\":\"white\"}},\"header\":{\"fill\":{\"color\":\"#C8D4E3\"},\"line\":{\"color\":\"white\"}},\"type\":\"table\"}]},\"layout\":{\"annotationdefaults\":{\"arrowcolor\":\"#2a3f5f\",\"arrowhead\":0,\"arrowwidth\":1},\"autotypenumbers\":\"strict\",\"coloraxis\":{\"colorbar\":{\"outlinewidth\":0,\"ticks\":\"\"}},\"colorscale\":{\"diverging\":[[0,\"#8e0152\"],[0.1,\"#c51b7d\"],[0.2,\"#de77ae\"],[0.3,\"#f1b6da\"],[0.4,\"#fde0ef\"],[0.5,\"#f7f7f7\"],[0.6,\"#e6f5d0\"],[0.7,\"#b8e186\"],[0.8,\"#7fbc41\"],[0.9,\"#4d9221\"],[1,\"#276419\"]],\"sequential\":[[0.0,\"#0d0887\"],[0.1111111111111111,\"#46039f\"],[0.2222222222222222,\"#7201a8\"],[0.3333333333333333,\"#9c179e\"],[0.4444444444444444,\"#bd3786\"],[0.5555555555555556,\"#d8576b\"],[0.6666666666666666,\"#ed7953\"],[0.7777777777777778,\"#fb9f3a\"],[0.8888888888888888,\"#fdca26\"],[1.0,\"#f0f921\"]],\"sequentialminus\":[[0.0,\"#0d0887\"],[0.1111111111111111,\"#46039f\"],[0.2222222222222222,\"#7201a8\"],[0.3333333333333333,\"#9c179e\"],[0.4444444444444444,\"#bd3786\"],[0.5555555555555556,\"#d8576b\"],[0.6666666666666666,\"#ed7953\"],[0.7777777777777778,\"#fb9f3a\"],[0.8888888888888888,\"#fdca26\"],[1.0,\"#f0f921\"]]},\"colorway\":[\"#636efa\",\"#EF553B\",\"#00cc96\",\"#ab63fa\",\"#FFA15A\",\"#19d3f3\",\"#FF6692\",\"#B6E880\",\"#FF97FF\",\"#FECB52\"],\"font\":{\"color\":\"#2a3f5f\"},\"geo\":{\"bgcolor\":\"white\",\"lakecolor\":\"white\",\"landcolor\":\"#E5ECF6\",\"showlakes\":true,\"showland\":true,\"subunitcolor\":\"white\"},\"hoverlabel\":{\"align\":\"left\"},\"hovermode\":\"closest\",\"mapbox\":{\"style\":\"light\"},\"paper_bgcolor\":\"white\",\"plot_bgcolor\":\"#E5ECF6\",\"polar\":{\"angularaxis\":{\"gridcolor\":\"white\",\"linecolor\":\"white\",\"ticks\":\"\"},\"bgcolor\":\"#E5ECF6\",\"radialaxis\":{\"gridcolor\":\"white\",\"linecolor\":\"white\",\"ticks\":\"\"}},\"scene\":{\"xaxis\":{\"backgroundcolor\":\"#E5ECF6\",\"gridcolor\":\"white\",\"gridwidth\":2,\"linecolor\":\"white\",\"showbackground\":true,\"ticks\":\"\",\"zerolinecolor\":\"white\"},\"yaxis\":{\"backgroundcolor\":\"#E5ECF6\",\"gridcolor\":\"white\",\"gridwidth\":2,\"linecolor\":\"white\",\"showbackground\":true,\"ticks\":\"\",\"zerolinecolor\":\"white\"},\"zaxis\":{\"backgroundcolor\":\"#E5ECF6\",\"gridcolor\":\"white\",\"gridwidth\":2,\"linecolor\":\"white\",\"showbackground\":true,\"ticks\":\"\",\"zerolinecolor\":\"white\"}},\"shapedefaults\":{\"line\":{\"color\":\"#2a3f5f\"}},\"ternary\":{\"aaxis\":{\"gridcolor\":\"white\",\"linecolor\":\"white\",\"ticks\":\"\"},\"baxis\":{\"gridcolor\":\"white\",\"linecolor\":\"white\",\"ticks\":\"\"},\"bgcolor\":\"#E5ECF6\",\"caxis\":{\"gridcolor\":\"white\",\"linecolor\":\"white\",\"ticks\":\"\"}},\"title\":{\"x\":0.05},\"xaxis\":{\"automargin\":true,\"gridcolor\":\"white\",\"linecolor\":\"white\",\"ticks\":\"\",\"title\":{\"standoff\":15},\"zerolinecolor\":\"white\",\"zerolinewidth\":2},\"yaxis\":{\"automargin\":true,\"gridcolor\":\"white\",\"linecolor\":\"white\",\"ticks\":\"\",\"title\":{\"standoff\":15},\"zerolinecolor\":\"white\",\"zerolinewidth\":2}}},\"annotations\":[{\"font\":{\"size\":16},\"showarrow\":false,\"text\":\"Escolas P\\u00fablicas\",\"x\":0.225,\"xanchor\":\"center\",\"xref\":\"paper\",\"y\":1.0,\"yanchor\":\"bottom\",\"yref\":\"paper\"},{\"font\":{\"size\":16},\"showarrow\":false,\"text\":\"Escolas Privadas\",\"x\":0.775,\"xanchor\":\"center\",\"xref\":\"paper\",\"y\":1.0,\"yanchor\":\"bottom\",\"yref\":\"paper\"}],\"font\":{\"size\":12},\"title\":{\"font\":{\"size\":22},\"text\":\"At\\u00e9 que s\\u00e9rie seu pai, ou o homem respons\\u00e1vel por voc\\u00ea, estudou?\",\"x\":0.5},\"uniformtext\":{\"minsize\":14,\"mode\":\"hide\"}},                        {\"responsive\": true}                    ).then(function(){\n",
              "                            \n",
              "var gd = document.getElementById('14499152-2c20-41fa-9998-1927d90b6ee8');\n",
              "var x = new MutationObserver(function (mutations, observer) {{\n",
              "        var display = window.getComputedStyle(gd).display;\n",
              "        if (!display || display === 'none') {{\n",
              "            console.log([gd, 'removed!']);\n",
              "            Plotly.purge(gd);\n",
              "            observer.disconnect();\n",
              "        }}\n",
              "}});\n",
              "\n",
              "// Listen for the removal of the full notebook cells\n",
              "var notebookContainer = gd.closest('#notebook-container');\n",
              "if (notebookContainer) {{\n",
              "    x.observe(notebookContainer, {childList: true});\n",
              "}}\n",
              "\n",
              "// Listen for the clearing of the current output cell\n",
              "var outputEl = gd.closest('.output');\n",
              "if (outputEl) {{\n",
              "    x.observe(outputEl, {childList: true});\n",
              "}}\n",
              "\n",
              "                        })                };                            </script>        </div>\n",
              "</body>\n",
              "</html>"
            ]
          },
          "metadata": {}
        }
      ]
    },
    {
      "cell_type": "markdown",
      "source": [
        "Para ambos os tipos de escolas, o que predomina são pais que completaram o ensino médio, mas não a faculdade. Os dados começam a ficar discrepantes quando se compara os que completaram a faculdade e a pós graduação, por exemplo."
      ],
      "metadata": {
        "id": "sNBzHexicG8r"
      }
    },
    {
      "cell_type": "code",
      "source": [
        "q002_pub = df_plot.query(\"TP_ESCOLA == 'publica'\")[\"Q002\"].value_counts()\n",
        "label_pub = q002_pub.index\n",
        "value_pub = q002_pub.values\n",
        "\n",
        "q002_priv = df_plot.query(\"TP_ESCOLA == 'privada'\")[\"Q002\"].value_counts()\n",
        "label_priv = q002_priv.index\n",
        "value_priv = q002_priv.values\n",
        "\n",
        "graph_q002 = make_subplots(rows=1, cols=2, specs=specs, subplot_titles=titles)\n",
        "\n",
        "graph_q002.add_trace(go.Pie(labels=label_pub, values=value_pub,\n",
        "                            marker_colors=tema), 1, 1)\n",
        "\n",
        "graph_q002.add_trace(go.Pie(labels=label_priv, values=value_priv), 1, 2)\n",
        "\n",
        "graph_q002.update_layout(font_size=12, title=dict(text=quest[\"Q002\"], x=0.5,\n",
        "                                                  font_size=22),\n",
        "                         uniformtext_minsize=14, uniformtext_mode=\"hide\")"
      ],
      "metadata": {
        "id": "u1g79IZ3gOcP",
        "execution": {
          "iopub.status.busy": "2022-10-10T12:22:06.344535Z",
          "iopub.execute_input": "2022-10-10T12:22:06.344867Z",
          "iopub.status.idle": "2022-10-10T12:22:06.385255Z",
          "shell.execute_reply.started": "2022-10-10T12:22:06.344836Z",
          "shell.execute_reply": "2022-10-10T12:22:06.384020Z"
        },
        "trusted": true,
        "colab": {
          "base_uri": "https://localhost:8080/",
          "height": 542
        },
        "outputId": "d05cf57d-49f9-4bad-f740-a06dea9bc5c3"
      },
      "execution_count": 66,
      "outputs": [
        {
          "output_type": "display_data",
          "data": {
            "text/html": [
              "<html>\n",
              "<head><meta charset=\"utf-8\" /></head>\n",
              "<body>\n",
              "    <div>            <script src=\"https://cdnjs.cloudflare.com/ajax/libs/mathjax/2.7.5/MathJax.js?config=TeX-AMS-MML_SVG\"></script><script type=\"text/javascript\">if (window.MathJax) {MathJax.Hub.Config({SVG: {font: \"STIX-Web\"}});}</script>                <script type=\"text/javascript\">window.PlotlyConfig = {MathJaxConfig: 'local'};</script>\n",
              "        <script src=\"https://cdn.plot.ly/plotly-2.8.3.min.js\"></script>                <div id=\"6fe89e23-5bee-498c-b4e5-52c9a9410ca9\" class=\"plotly-graph-div\" style=\"height:525px; width:100%;\"></div>            <script type=\"text/javascript\">                                    window.PLOTLYENV=window.PLOTLYENV || {};                                    if (document.getElementById(\"6fe89e23-5bee-498c-b4e5-52c9a9410ca9\")) {                    Plotly.newPlot(                        \"6fe89e23-5bee-498c-b4e5-52c9a9410ca9\",                        [{\"labels\":[\"Completou o Ensino M\\u00e9dio, mas n\\u00e3o completou a Faculdade\",\"Completou a Faculdade, mas n\\u00e3o completou a P\\u00f3s-gradua\\u00e7\\u00e3o\",\"Completou a P\\u00f3s-gradua\\u00e7\\u00e3o\",\"Completou a 8\\u00aa s\\u00e9rie/9\\u00ba ano do Ensino Fundamental, mas n\\u00e3o completou o Ensino M\\u00e9dio\",\"N\\u00e3o completou a 4\\u00aa s\\u00e9rie/5\\u00ba ano do Ensino Fundamental\",\"Completou a 4\\u00aa s\\u00e9rie/5\\u00ba ano, mas n\\u00e3o completou a 8\\u00aa s\\u00e9rie/9\\u00ba ano do Ensino Fundamental\",\"N\\u00e3o sei\",\"Nunca estudou\"],\"marker\":{\"colors\":[\"#FD3216\",\"#00FE35\",\"#6A76FC\",\"#FED4C4\",\"#FE00CE\",\"#0DF9FF\",\"#F6F926\",\"#FF9616\",\"#479B55\",\"#EEA6FB\",\"#DC587D\",\"#D626FF\",\"#6E899C\",\"#00B5F7\",\"#B68E00\",\"#C9FBE5\",\"#FF0092\",\"#22FFA7\",\"#E3EE9E\",\"#86CE00\",\"#BC7196\",\"#7E7DCD\",\"#FC6955\",\"#E48F72\"]},\"values\":[1214,454,344,315,241,215,116,62],\"type\":\"pie\",\"domain\":{\"x\":[0.0,0.45],\"y\":[0.0,1.0]}},{\"labels\":[\"Completou a P\\u00f3s-gradua\\u00e7\\u00e3o\",\"Completou a Faculdade, mas n\\u00e3o completou a P\\u00f3s-gradua\\u00e7\\u00e3o\",\"Completou o Ensino M\\u00e9dio, mas n\\u00e3o completou a Faculdade\",\"N\\u00e3o sei\",\"Completou a 8\\u00aa s\\u00e9rie/9\\u00ba ano do Ensino Fundamental, mas n\\u00e3o completou o Ensino M\\u00e9dio\",\"Completou a 4\\u00aa s\\u00e9rie/5\\u00ba ano, mas n\\u00e3o completou a 8\\u00aa s\\u00e9rie/9\\u00ba ano do Ensino Fundamental\",\"N\\u00e3o completou a 4\\u00aa s\\u00e9rie/5\\u00ba ano do Ensino Fundamental\",\"Nunca estudou\"],\"values\":[191,148,116,7,7,4,3,2],\"type\":\"pie\",\"domain\":{\"x\":[0.55,1.0],\"y\":[0.0,1.0]}}],                        {\"template\":{\"data\":{\"bar\":[{\"error_x\":{\"color\":\"#2a3f5f\"},\"error_y\":{\"color\":\"#2a3f5f\"},\"marker\":{\"line\":{\"color\":\"#E5ECF6\",\"width\":0.5},\"pattern\":{\"fillmode\":\"overlay\",\"size\":10,\"solidity\":0.2}},\"type\":\"bar\"}],\"barpolar\":[{\"marker\":{\"line\":{\"color\":\"#E5ECF6\",\"width\":0.5},\"pattern\":{\"fillmode\":\"overlay\",\"size\":10,\"solidity\":0.2}},\"type\":\"barpolar\"}],\"carpet\":[{\"aaxis\":{\"endlinecolor\":\"#2a3f5f\",\"gridcolor\":\"white\",\"linecolor\":\"white\",\"minorgridcolor\":\"white\",\"startlinecolor\":\"#2a3f5f\"},\"baxis\":{\"endlinecolor\":\"#2a3f5f\",\"gridcolor\":\"white\",\"linecolor\":\"white\",\"minorgridcolor\":\"white\",\"startlinecolor\":\"#2a3f5f\"},\"type\":\"carpet\"}],\"choropleth\":[{\"colorbar\":{\"outlinewidth\":0,\"ticks\":\"\"},\"type\":\"choropleth\"}],\"contour\":[{\"colorbar\":{\"outlinewidth\":0,\"ticks\":\"\"},\"colorscale\":[[0.0,\"#0d0887\"],[0.1111111111111111,\"#46039f\"],[0.2222222222222222,\"#7201a8\"],[0.3333333333333333,\"#9c179e\"],[0.4444444444444444,\"#bd3786\"],[0.5555555555555556,\"#d8576b\"],[0.6666666666666666,\"#ed7953\"],[0.7777777777777778,\"#fb9f3a\"],[0.8888888888888888,\"#fdca26\"],[1.0,\"#f0f921\"]],\"type\":\"contour\"}],\"contourcarpet\":[{\"colorbar\":{\"outlinewidth\":0,\"ticks\":\"\"},\"type\":\"contourcarpet\"}],\"heatmap\":[{\"colorbar\":{\"outlinewidth\":0,\"ticks\":\"\"},\"colorscale\":[[0.0,\"#0d0887\"],[0.1111111111111111,\"#46039f\"],[0.2222222222222222,\"#7201a8\"],[0.3333333333333333,\"#9c179e\"],[0.4444444444444444,\"#bd3786\"],[0.5555555555555556,\"#d8576b\"],[0.6666666666666666,\"#ed7953\"],[0.7777777777777778,\"#fb9f3a\"],[0.8888888888888888,\"#fdca26\"],[1.0,\"#f0f921\"]],\"type\":\"heatmap\"}],\"heatmapgl\":[{\"colorbar\":{\"outlinewidth\":0,\"ticks\":\"\"},\"colorscale\":[[0.0,\"#0d0887\"],[0.1111111111111111,\"#46039f\"],[0.2222222222222222,\"#7201a8\"],[0.3333333333333333,\"#9c179e\"],[0.4444444444444444,\"#bd3786\"],[0.5555555555555556,\"#d8576b\"],[0.6666666666666666,\"#ed7953\"],[0.7777777777777778,\"#fb9f3a\"],[0.8888888888888888,\"#fdca26\"],[1.0,\"#f0f921\"]],\"type\":\"heatmapgl\"}],\"histogram\":[{\"marker\":{\"pattern\":{\"fillmode\":\"overlay\",\"size\":10,\"solidity\":0.2}},\"type\":\"histogram\"}],\"histogram2d\":[{\"colorbar\":{\"outlinewidth\":0,\"ticks\":\"\"},\"colorscale\":[[0.0,\"#0d0887\"],[0.1111111111111111,\"#46039f\"],[0.2222222222222222,\"#7201a8\"],[0.3333333333333333,\"#9c179e\"],[0.4444444444444444,\"#bd3786\"],[0.5555555555555556,\"#d8576b\"],[0.6666666666666666,\"#ed7953\"],[0.7777777777777778,\"#fb9f3a\"],[0.8888888888888888,\"#fdca26\"],[1.0,\"#f0f921\"]],\"type\":\"histogram2d\"}],\"histogram2dcontour\":[{\"colorbar\":{\"outlinewidth\":0,\"ticks\":\"\"},\"colorscale\":[[0.0,\"#0d0887\"],[0.1111111111111111,\"#46039f\"],[0.2222222222222222,\"#7201a8\"],[0.3333333333333333,\"#9c179e\"],[0.4444444444444444,\"#bd3786\"],[0.5555555555555556,\"#d8576b\"],[0.6666666666666666,\"#ed7953\"],[0.7777777777777778,\"#fb9f3a\"],[0.8888888888888888,\"#fdca26\"],[1.0,\"#f0f921\"]],\"type\":\"histogram2dcontour\"}],\"mesh3d\":[{\"colorbar\":{\"outlinewidth\":0,\"ticks\":\"\"},\"type\":\"mesh3d\"}],\"parcoords\":[{\"line\":{\"colorbar\":{\"outlinewidth\":0,\"ticks\":\"\"}},\"type\":\"parcoords\"}],\"pie\":[{\"automargin\":true,\"type\":\"pie\"}],\"scatter\":[{\"marker\":{\"colorbar\":{\"outlinewidth\":0,\"ticks\":\"\"}},\"type\":\"scatter\"}],\"scatter3d\":[{\"line\":{\"colorbar\":{\"outlinewidth\":0,\"ticks\":\"\"}},\"marker\":{\"colorbar\":{\"outlinewidth\":0,\"ticks\":\"\"}},\"type\":\"scatter3d\"}],\"scattercarpet\":[{\"marker\":{\"colorbar\":{\"outlinewidth\":0,\"ticks\":\"\"}},\"type\":\"scattercarpet\"}],\"scattergeo\":[{\"marker\":{\"colorbar\":{\"outlinewidth\":0,\"ticks\":\"\"}},\"type\":\"scattergeo\"}],\"scattergl\":[{\"marker\":{\"colorbar\":{\"outlinewidth\":0,\"ticks\":\"\"}},\"type\":\"scattergl\"}],\"scattermapbox\":[{\"marker\":{\"colorbar\":{\"outlinewidth\":0,\"ticks\":\"\"}},\"type\":\"scattermapbox\"}],\"scatterpolar\":[{\"marker\":{\"colorbar\":{\"outlinewidth\":0,\"ticks\":\"\"}},\"type\":\"scatterpolar\"}],\"scatterpolargl\":[{\"marker\":{\"colorbar\":{\"outlinewidth\":0,\"ticks\":\"\"}},\"type\":\"scatterpolargl\"}],\"scatterternary\":[{\"marker\":{\"colorbar\":{\"outlinewidth\":0,\"ticks\":\"\"}},\"type\":\"scatterternary\"}],\"surface\":[{\"colorbar\":{\"outlinewidth\":0,\"ticks\":\"\"},\"colorscale\":[[0.0,\"#0d0887\"],[0.1111111111111111,\"#46039f\"],[0.2222222222222222,\"#7201a8\"],[0.3333333333333333,\"#9c179e\"],[0.4444444444444444,\"#bd3786\"],[0.5555555555555556,\"#d8576b\"],[0.6666666666666666,\"#ed7953\"],[0.7777777777777778,\"#fb9f3a\"],[0.8888888888888888,\"#fdca26\"],[1.0,\"#f0f921\"]],\"type\":\"surface\"}],\"table\":[{\"cells\":{\"fill\":{\"color\":\"#EBF0F8\"},\"line\":{\"color\":\"white\"}},\"header\":{\"fill\":{\"color\":\"#C8D4E3\"},\"line\":{\"color\":\"white\"}},\"type\":\"table\"}]},\"layout\":{\"annotationdefaults\":{\"arrowcolor\":\"#2a3f5f\",\"arrowhead\":0,\"arrowwidth\":1},\"autotypenumbers\":\"strict\",\"coloraxis\":{\"colorbar\":{\"outlinewidth\":0,\"ticks\":\"\"}},\"colorscale\":{\"diverging\":[[0,\"#8e0152\"],[0.1,\"#c51b7d\"],[0.2,\"#de77ae\"],[0.3,\"#f1b6da\"],[0.4,\"#fde0ef\"],[0.5,\"#f7f7f7\"],[0.6,\"#e6f5d0\"],[0.7,\"#b8e186\"],[0.8,\"#7fbc41\"],[0.9,\"#4d9221\"],[1,\"#276419\"]],\"sequential\":[[0.0,\"#0d0887\"],[0.1111111111111111,\"#46039f\"],[0.2222222222222222,\"#7201a8\"],[0.3333333333333333,\"#9c179e\"],[0.4444444444444444,\"#bd3786\"],[0.5555555555555556,\"#d8576b\"],[0.6666666666666666,\"#ed7953\"],[0.7777777777777778,\"#fb9f3a\"],[0.8888888888888888,\"#fdca26\"],[1.0,\"#f0f921\"]],\"sequentialminus\":[[0.0,\"#0d0887\"],[0.1111111111111111,\"#46039f\"],[0.2222222222222222,\"#7201a8\"],[0.3333333333333333,\"#9c179e\"],[0.4444444444444444,\"#bd3786\"],[0.5555555555555556,\"#d8576b\"],[0.6666666666666666,\"#ed7953\"],[0.7777777777777778,\"#fb9f3a\"],[0.8888888888888888,\"#fdca26\"],[1.0,\"#f0f921\"]]},\"colorway\":[\"#636efa\",\"#EF553B\",\"#00cc96\",\"#ab63fa\",\"#FFA15A\",\"#19d3f3\",\"#FF6692\",\"#B6E880\",\"#FF97FF\",\"#FECB52\"],\"font\":{\"color\":\"#2a3f5f\"},\"geo\":{\"bgcolor\":\"white\",\"lakecolor\":\"white\",\"landcolor\":\"#E5ECF6\",\"showlakes\":true,\"showland\":true,\"subunitcolor\":\"white\"},\"hoverlabel\":{\"align\":\"left\"},\"hovermode\":\"closest\",\"mapbox\":{\"style\":\"light\"},\"paper_bgcolor\":\"white\",\"plot_bgcolor\":\"#E5ECF6\",\"polar\":{\"angularaxis\":{\"gridcolor\":\"white\",\"linecolor\":\"white\",\"ticks\":\"\"},\"bgcolor\":\"#E5ECF6\",\"radialaxis\":{\"gridcolor\":\"white\",\"linecolor\":\"white\",\"ticks\":\"\"}},\"scene\":{\"xaxis\":{\"backgroundcolor\":\"#E5ECF6\",\"gridcolor\":\"white\",\"gridwidth\":2,\"linecolor\":\"white\",\"showbackground\":true,\"ticks\":\"\",\"zerolinecolor\":\"white\"},\"yaxis\":{\"backgroundcolor\":\"#E5ECF6\",\"gridcolor\":\"white\",\"gridwidth\":2,\"linecolor\":\"white\",\"showbackground\":true,\"ticks\":\"\",\"zerolinecolor\":\"white\"},\"zaxis\":{\"backgroundcolor\":\"#E5ECF6\",\"gridcolor\":\"white\",\"gridwidth\":2,\"linecolor\":\"white\",\"showbackground\":true,\"ticks\":\"\",\"zerolinecolor\":\"white\"}},\"shapedefaults\":{\"line\":{\"color\":\"#2a3f5f\"}},\"ternary\":{\"aaxis\":{\"gridcolor\":\"white\",\"linecolor\":\"white\",\"ticks\":\"\"},\"baxis\":{\"gridcolor\":\"white\",\"linecolor\":\"white\",\"ticks\":\"\"},\"bgcolor\":\"#E5ECF6\",\"caxis\":{\"gridcolor\":\"white\",\"linecolor\":\"white\",\"ticks\":\"\"}},\"title\":{\"x\":0.05},\"xaxis\":{\"automargin\":true,\"gridcolor\":\"white\",\"linecolor\":\"white\",\"ticks\":\"\",\"title\":{\"standoff\":15},\"zerolinecolor\":\"white\",\"zerolinewidth\":2},\"yaxis\":{\"automargin\":true,\"gridcolor\":\"white\",\"linecolor\":\"white\",\"ticks\":\"\",\"title\":{\"standoff\":15},\"zerolinecolor\":\"white\",\"zerolinewidth\":2}}},\"annotations\":[{\"font\":{\"size\":16},\"showarrow\":false,\"text\":\"Escolas P\\u00fablicas\",\"x\":0.225,\"xanchor\":\"center\",\"xref\":\"paper\",\"y\":1.0,\"yanchor\":\"bottom\",\"yref\":\"paper\"},{\"font\":{\"size\":16},\"showarrow\":false,\"text\":\"Escolas Privadas\",\"x\":0.775,\"xanchor\":\"center\",\"xref\":\"paper\",\"y\":1.0,\"yanchor\":\"bottom\",\"yref\":\"paper\"}],\"font\":{\"size\":12},\"title\":{\"font\":{\"size\":22},\"text\":\"At\\u00e9 que s\\u00e9rie sua m\\u00e3e, ou a mulher respons\\u00e1vel por voc\\u00ea, estudou?\",\"x\":0.5},\"uniformtext\":{\"minsize\":14,\"mode\":\"hide\"}},                        {\"responsive\": true}                    ).then(function(){\n",
              "                            \n",
              "var gd = document.getElementById('6fe89e23-5bee-498c-b4e5-52c9a9410ca9');\n",
              "var x = new MutationObserver(function (mutations, observer) {{\n",
              "        var display = window.getComputedStyle(gd).display;\n",
              "        if (!display || display === 'none') {{\n",
              "            console.log([gd, 'removed!']);\n",
              "            Plotly.purge(gd);\n",
              "            observer.disconnect();\n",
              "        }}\n",
              "}});\n",
              "\n",
              "// Listen for the removal of the full notebook cells\n",
              "var notebookContainer = gd.closest('#notebook-container');\n",
              "if (notebookContainer) {{\n",
              "    x.observe(notebookContainer, {childList: true});\n",
              "}}\n",
              "\n",
              "// Listen for the clearing of the current output cell\n",
              "var outputEl = gd.closest('.output');\n",
              "if (outputEl) {{\n",
              "    x.observe(outputEl, {childList: true});\n",
              "}}\n",
              "\n",
              "                        })                };                            </script>        </div>\n",
              "</body>\n",
              "</html>"
            ]
          },
          "metadata": {}
        }
      ]
    },
    {
      "cell_type": "markdown",
      "source": [
        "Já para as mães, a maior concentração está na faixa dos 40%, porém, com valores contrastantes. As de escolas públicas, completaram apenas o ensino médio, enquanto que as de escolas privadas, completaram a pós graduação. Mesmo as mães de alunos de escolas privadas que não completaram a pós-graduação, completaram ao menos a faculdade, ocupando 31% dos dados."
      ],
      "metadata": {
        "id": "LhaeqoevcG8t"
      }
    },
    {
      "cell_type": "code",
      "source": [
        "q005_pub = df_plot.query(\"TP_ESCOLA == 'publica'\")[\"Q005\"].value_counts()\n",
        "label_pub = q005_pub.index\n",
        "value_pub = q005_pub.values\n",
        "\n",
        "q005_priv = df_plot.query(\"TP_ESCOLA == 'privada'\")[\"Q005\"].value_counts()\n",
        "label_priv = q005_priv.index\n",
        "value_priv = q005_priv.values\n",
        "\n",
        "graph_q005 = make_subplots(rows=1, cols=2, specs=specs, subplot_titles=titles)\n",
        "\n",
        "graph_q005.add_trace(go.Pie(labels=label_pub, values=value_pub,\n",
        "                            marker_colors=tema), 1, 1)\n",
        "\n",
        "graph_q005.add_trace(go.Pie(labels=label_priv, values=value_priv), 1, 2)\n",
        "\n",
        "graph_q005.update_layout(font_size=12, title=dict(text=quest[\"Q005\"], x=0.5,\n",
        "                                                  font_size=22),\n",
        "                         uniformtext_minsize=14, uniformtext_mode=\"hide\")"
      ],
      "metadata": {
        "id": "I9MWDhgfg52M",
        "execution": {
          "iopub.status.busy": "2022-10-10T12:22:06.386513Z",
          "iopub.execute_input": "2022-10-10T12:22:06.386806Z",
          "iopub.status.idle": "2022-10-10T12:22:06.425904Z",
          "shell.execute_reply.started": "2022-10-10T12:22:06.386779Z",
          "shell.execute_reply": "2022-10-10T12:22:06.424806Z"
        },
        "trusted": true,
        "colab": {
          "base_uri": "https://localhost:8080/",
          "height": 542
        },
        "outputId": "675958be-143c-4951-d64d-7e75b50b90d2"
      },
      "execution_count": 67,
      "outputs": [
        {
          "output_type": "display_data",
          "data": {
            "text/html": [
              "<html>\n",
              "<head><meta charset=\"utf-8\" /></head>\n",
              "<body>\n",
              "    <div>            <script src=\"https://cdnjs.cloudflare.com/ajax/libs/mathjax/2.7.5/MathJax.js?config=TeX-AMS-MML_SVG\"></script><script type=\"text/javascript\">if (window.MathJax) {MathJax.Hub.Config({SVG: {font: \"STIX-Web\"}});}</script>                <script type=\"text/javascript\">window.PlotlyConfig = {MathJaxConfig: 'local'};</script>\n",
              "        <script src=\"https://cdn.plot.ly/plotly-2.8.3.min.js\"></script>                <div id=\"bfb36db9-e5f4-4854-9190-1d9ea23a0ca2\" class=\"plotly-graph-div\" style=\"height:525px; width:100%;\"></div>            <script type=\"text/javascript\">                                    window.PLOTLYENV=window.PLOTLYENV || {};                                    if (document.getElementById(\"bfb36db9-e5f4-4854-9190-1d9ea23a0ca2\")) {                    Plotly.newPlot(                        \"bfb36db9-e5f4-4854-9190-1d9ea23a0ca2\",                        [{\"labels\":[4.0,5.0,3.0,6.0,7.0,2.0,8.0,9.0,10.0,11.0,12.0,1.0,14.0,13.0,16.0,15.0,17.0],\"marker\":{\"colors\":[\"#FD3216\",\"#00FE35\",\"#6A76FC\",\"#FED4C4\",\"#FE00CE\",\"#0DF9FF\",\"#F6F926\",\"#FF9616\",\"#479B55\",\"#EEA6FB\",\"#DC587D\",\"#D626FF\",\"#6E899C\",\"#00B5F7\",\"#B68E00\",\"#C9FBE5\",\"#FF0092\",\"#22FFA7\",\"#E3EE9E\",\"#86CE00\",\"#BC7196\",\"#7E7DCD\",\"#FC6955\",\"#E48F72\"]},\"values\":[831,664,513,374,198,161,85,47,36,20,10,9,5,4,2,1,1],\"type\":\"pie\",\"domain\":{\"x\":[0.0,0.45],\"y\":[0.0,1.0]}},{\"labels\":[4.0,3.0,5.0,6.0,2.0,7.0,8.0,9.0,10.0,12.0],\"values\":[180,117,93,33,32,12,5,3,2,1],\"type\":\"pie\",\"domain\":{\"x\":[0.55,1.0],\"y\":[0.0,1.0]}}],                        {\"template\":{\"data\":{\"bar\":[{\"error_x\":{\"color\":\"#2a3f5f\"},\"error_y\":{\"color\":\"#2a3f5f\"},\"marker\":{\"line\":{\"color\":\"#E5ECF6\",\"width\":0.5},\"pattern\":{\"fillmode\":\"overlay\",\"size\":10,\"solidity\":0.2}},\"type\":\"bar\"}],\"barpolar\":[{\"marker\":{\"line\":{\"color\":\"#E5ECF6\",\"width\":0.5},\"pattern\":{\"fillmode\":\"overlay\",\"size\":10,\"solidity\":0.2}},\"type\":\"barpolar\"}],\"carpet\":[{\"aaxis\":{\"endlinecolor\":\"#2a3f5f\",\"gridcolor\":\"white\",\"linecolor\":\"white\",\"minorgridcolor\":\"white\",\"startlinecolor\":\"#2a3f5f\"},\"baxis\":{\"endlinecolor\":\"#2a3f5f\",\"gridcolor\":\"white\",\"linecolor\":\"white\",\"minorgridcolor\":\"white\",\"startlinecolor\":\"#2a3f5f\"},\"type\":\"carpet\"}],\"choropleth\":[{\"colorbar\":{\"outlinewidth\":0,\"ticks\":\"\"},\"type\":\"choropleth\"}],\"contour\":[{\"colorbar\":{\"outlinewidth\":0,\"ticks\":\"\"},\"colorscale\":[[0.0,\"#0d0887\"],[0.1111111111111111,\"#46039f\"],[0.2222222222222222,\"#7201a8\"],[0.3333333333333333,\"#9c179e\"],[0.4444444444444444,\"#bd3786\"],[0.5555555555555556,\"#d8576b\"],[0.6666666666666666,\"#ed7953\"],[0.7777777777777778,\"#fb9f3a\"],[0.8888888888888888,\"#fdca26\"],[1.0,\"#f0f921\"]],\"type\":\"contour\"}],\"contourcarpet\":[{\"colorbar\":{\"outlinewidth\":0,\"ticks\":\"\"},\"type\":\"contourcarpet\"}],\"heatmap\":[{\"colorbar\":{\"outlinewidth\":0,\"ticks\":\"\"},\"colorscale\":[[0.0,\"#0d0887\"],[0.1111111111111111,\"#46039f\"],[0.2222222222222222,\"#7201a8\"],[0.3333333333333333,\"#9c179e\"],[0.4444444444444444,\"#bd3786\"],[0.5555555555555556,\"#d8576b\"],[0.6666666666666666,\"#ed7953\"],[0.7777777777777778,\"#fb9f3a\"],[0.8888888888888888,\"#fdca26\"],[1.0,\"#f0f921\"]],\"type\":\"heatmap\"}],\"heatmapgl\":[{\"colorbar\":{\"outlinewidth\":0,\"ticks\":\"\"},\"colorscale\":[[0.0,\"#0d0887\"],[0.1111111111111111,\"#46039f\"],[0.2222222222222222,\"#7201a8\"],[0.3333333333333333,\"#9c179e\"],[0.4444444444444444,\"#bd3786\"],[0.5555555555555556,\"#d8576b\"],[0.6666666666666666,\"#ed7953\"],[0.7777777777777778,\"#fb9f3a\"],[0.8888888888888888,\"#fdca26\"],[1.0,\"#f0f921\"]],\"type\":\"heatmapgl\"}],\"histogram\":[{\"marker\":{\"pattern\":{\"fillmode\":\"overlay\",\"size\":10,\"solidity\":0.2}},\"type\":\"histogram\"}],\"histogram2d\":[{\"colorbar\":{\"outlinewidth\":0,\"ticks\":\"\"},\"colorscale\":[[0.0,\"#0d0887\"],[0.1111111111111111,\"#46039f\"],[0.2222222222222222,\"#7201a8\"],[0.3333333333333333,\"#9c179e\"],[0.4444444444444444,\"#bd3786\"],[0.5555555555555556,\"#d8576b\"],[0.6666666666666666,\"#ed7953\"],[0.7777777777777778,\"#fb9f3a\"],[0.8888888888888888,\"#fdca26\"],[1.0,\"#f0f921\"]],\"type\":\"histogram2d\"}],\"histogram2dcontour\":[{\"colorbar\":{\"outlinewidth\":0,\"ticks\":\"\"},\"colorscale\":[[0.0,\"#0d0887\"],[0.1111111111111111,\"#46039f\"],[0.2222222222222222,\"#7201a8\"],[0.3333333333333333,\"#9c179e\"],[0.4444444444444444,\"#bd3786\"],[0.5555555555555556,\"#d8576b\"],[0.6666666666666666,\"#ed7953\"],[0.7777777777777778,\"#fb9f3a\"],[0.8888888888888888,\"#fdca26\"],[1.0,\"#f0f921\"]],\"type\":\"histogram2dcontour\"}],\"mesh3d\":[{\"colorbar\":{\"outlinewidth\":0,\"ticks\":\"\"},\"type\":\"mesh3d\"}],\"parcoords\":[{\"line\":{\"colorbar\":{\"outlinewidth\":0,\"ticks\":\"\"}},\"type\":\"parcoords\"}],\"pie\":[{\"automargin\":true,\"type\":\"pie\"}],\"scatter\":[{\"marker\":{\"colorbar\":{\"outlinewidth\":0,\"ticks\":\"\"}},\"type\":\"scatter\"}],\"scatter3d\":[{\"line\":{\"colorbar\":{\"outlinewidth\":0,\"ticks\":\"\"}},\"marker\":{\"colorbar\":{\"outlinewidth\":0,\"ticks\":\"\"}},\"type\":\"scatter3d\"}],\"scattercarpet\":[{\"marker\":{\"colorbar\":{\"outlinewidth\":0,\"ticks\":\"\"}},\"type\":\"scattercarpet\"}],\"scattergeo\":[{\"marker\":{\"colorbar\":{\"outlinewidth\":0,\"ticks\":\"\"}},\"type\":\"scattergeo\"}],\"scattergl\":[{\"marker\":{\"colorbar\":{\"outlinewidth\":0,\"ticks\":\"\"}},\"type\":\"scattergl\"}],\"scattermapbox\":[{\"marker\":{\"colorbar\":{\"outlinewidth\":0,\"ticks\":\"\"}},\"type\":\"scattermapbox\"}],\"scatterpolar\":[{\"marker\":{\"colorbar\":{\"outlinewidth\":0,\"ticks\":\"\"}},\"type\":\"scatterpolar\"}],\"scatterpolargl\":[{\"marker\":{\"colorbar\":{\"outlinewidth\":0,\"ticks\":\"\"}},\"type\":\"scatterpolargl\"}],\"scatterternary\":[{\"marker\":{\"colorbar\":{\"outlinewidth\":0,\"ticks\":\"\"}},\"type\":\"scatterternary\"}],\"surface\":[{\"colorbar\":{\"outlinewidth\":0,\"ticks\":\"\"},\"colorscale\":[[0.0,\"#0d0887\"],[0.1111111111111111,\"#46039f\"],[0.2222222222222222,\"#7201a8\"],[0.3333333333333333,\"#9c179e\"],[0.4444444444444444,\"#bd3786\"],[0.5555555555555556,\"#d8576b\"],[0.6666666666666666,\"#ed7953\"],[0.7777777777777778,\"#fb9f3a\"],[0.8888888888888888,\"#fdca26\"],[1.0,\"#f0f921\"]],\"type\":\"surface\"}],\"table\":[{\"cells\":{\"fill\":{\"color\":\"#EBF0F8\"},\"line\":{\"color\":\"white\"}},\"header\":{\"fill\":{\"color\":\"#C8D4E3\"},\"line\":{\"color\":\"white\"}},\"type\":\"table\"}]},\"layout\":{\"annotationdefaults\":{\"arrowcolor\":\"#2a3f5f\",\"arrowhead\":0,\"arrowwidth\":1},\"autotypenumbers\":\"strict\",\"coloraxis\":{\"colorbar\":{\"outlinewidth\":0,\"ticks\":\"\"}},\"colorscale\":{\"diverging\":[[0,\"#8e0152\"],[0.1,\"#c51b7d\"],[0.2,\"#de77ae\"],[0.3,\"#f1b6da\"],[0.4,\"#fde0ef\"],[0.5,\"#f7f7f7\"],[0.6,\"#e6f5d0\"],[0.7,\"#b8e186\"],[0.8,\"#7fbc41\"],[0.9,\"#4d9221\"],[1,\"#276419\"]],\"sequential\":[[0.0,\"#0d0887\"],[0.1111111111111111,\"#46039f\"],[0.2222222222222222,\"#7201a8\"],[0.3333333333333333,\"#9c179e\"],[0.4444444444444444,\"#bd3786\"],[0.5555555555555556,\"#d8576b\"],[0.6666666666666666,\"#ed7953\"],[0.7777777777777778,\"#fb9f3a\"],[0.8888888888888888,\"#fdca26\"],[1.0,\"#f0f921\"]],\"sequentialminus\":[[0.0,\"#0d0887\"],[0.1111111111111111,\"#46039f\"],[0.2222222222222222,\"#7201a8\"],[0.3333333333333333,\"#9c179e\"],[0.4444444444444444,\"#bd3786\"],[0.5555555555555556,\"#d8576b\"],[0.6666666666666666,\"#ed7953\"],[0.7777777777777778,\"#fb9f3a\"],[0.8888888888888888,\"#fdca26\"],[1.0,\"#f0f921\"]]},\"colorway\":[\"#636efa\",\"#EF553B\",\"#00cc96\",\"#ab63fa\",\"#FFA15A\",\"#19d3f3\",\"#FF6692\",\"#B6E880\",\"#FF97FF\",\"#FECB52\"],\"font\":{\"color\":\"#2a3f5f\"},\"geo\":{\"bgcolor\":\"white\",\"lakecolor\":\"white\",\"landcolor\":\"#E5ECF6\",\"showlakes\":true,\"showland\":true,\"subunitcolor\":\"white\"},\"hoverlabel\":{\"align\":\"left\"},\"hovermode\":\"closest\",\"mapbox\":{\"style\":\"light\"},\"paper_bgcolor\":\"white\",\"plot_bgcolor\":\"#E5ECF6\",\"polar\":{\"angularaxis\":{\"gridcolor\":\"white\",\"linecolor\":\"white\",\"ticks\":\"\"},\"bgcolor\":\"#E5ECF6\",\"radialaxis\":{\"gridcolor\":\"white\",\"linecolor\":\"white\",\"ticks\":\"\"}},\"scene\":{\"xaxis\":{\"backgroundcolor\":\"#E5ECF6\",\"gridcolor\":\"white\",\"gridwidth\":2,\"linecolor\":\"white\",\"showbackground\":true,\"ticks\":\"\",\"zerolinecolor\":\"white\"},\"yaxis\":{\"backgroundcolor\":\"#E5ECF6\",\"gridcolor\":\"white\",\"gridwidth\":2,\"linecolor\":\"white\",\"showbackground\":true,\"ticks\":\"\",\"zerolinecolor\":\"white\"},\"zaxis\":{\"backgroundcolor\":\"#E5ECF6\",\"gridcolor\":\"white\",\"gridwidth\":2,\"linecolor\":\"white\",\"showbackground\":true,\"ticks\":\"\",\"zerolinecolor\":\"white\"}},\"shapedefaults\":{\"line\":{\"color\":\"#2a3f5f\"}},\"ternary\":{\"aaxis\":{\"gridcolor\":\"white\",\"linecolor\":\"white\",\"ticks\":\"\"},\"baxis\":{\"gridcolor\":\"white\",\"linecolor\":\"white\",\"ticks\":\"\"},\"bgcolor\":\"#E5ECF6\",\"caxis\":{\"gridcolor\":\"white\",\"linecolor\":\"white\",\"ticks\":\"\"}},\"title\":{\"x\":0.05},\"xaxis\":{\"automargin\":true,\"gridcolor\":\"white\",\"linecolor\":\"white\",\"ticks\":\"\",\"title\":{\"standoff\":15},\"zerolinecolor\":\"white\",\"zerolinewidth\":2},\"yaxis\":{\"automargin\":true,\"gridcolor\":\"white\",\"linecolor\":\"white\",\"ticks\":\"\",\"title\":{\"standoff\":15},\"zerolinecolor\":\"white\",\"zerolinewidth\":2}}},\"annotations\":[{\"font\":{\"size\":16},\"showarrow\":false,\"text\":\"Escolas P\\u00fablicas\",\"x\":0.225,\"xanchor\":\"center\",\"xref\":\"paper\",\"y\":1.0,\"yanchor\":\"bottom\",\"yref\":\"paper\"},{\"font\":{\"size\":16},\"showarrow\":false,\"text\":\"Escolas Privadas\",\"x\":0.775,\"xanchor\":\"center\",\"xref\":\"paper\",\"y\":1.0,\"yanchor\":\"bottom\",\"yref\":\"paper\"}],\"font\":{\"size\":12},\"title\":{\"font\":{\"size\":22},\"text\":\"Incluindo voc\\u00ea, quantas pessoas moram atualmente em sua resid\\u00eancia?\",\"x\":0.5},\"uniformtext\":{\"minsize\":14,\"mode\":\"hide\"}},                        {\"responsive\": true}                    ).then(function(){\n",
              "                            \n",
              "var gd = document.getElementById('bfb36db9-e5f4-4854-9190-1d9ea23a0ca2');\n",
              "var x = new MutationObserver(function (mutations, observer) {{\n",
              "        var display = window.getComputedStyle(gd).display;\n",
              "        if (!display || display === 'none') {{\n",
              "            console.log([gd, 'removed!']);\n",
              "            Plotly.purge(gd);\n",
              "            observer.disconnect();\n",
              "        }}\n",
              "}});\n",
              "\n",
              "// Listen for the removal of the full notebook cells\n",
              "var notebookContainer = gd.closest('#notebook-container');\n",
              "if (notebookContainer) {{\n",
              "    x.observe(notebookContainer, {childList: true});\n",
              "}}\n",
              "\n",
              "// Listen for the clearing of the current output cell\n",
              "var outputEl = gd.closest('.output');\n",
              "if (outputEl) {{\n",
              "    x.observe(outputEl, {childList: true});\n",
              "}}\n",
              "\n",
              "                        })                };                            </script>        </div>\n",
              "</body>\n",
              "</html>"
            ]
          },
          "metadata": {}
        }
      ]
    },
    {
      "cell_type": "markdown",
      "source": [
        "Para ambos, a maioria reside em residências com total de habitantes entre 3 e 6 pessoas."
      ],
      "metadata": {
        "id": "qqMeJL5KcG8u"
      }
    },
    {
      "cell_type": "code",
      "source": [
        "q006_pub = df_plot.query(\"TP_ESCOLA == 'publica'\")[\"Q006\"].value_counts()\n",
        "label_pub = q006_pub.index\n",
        "value_pub = q006_pub.values\n",
        "\n",
        "q006_priv = df_plot.query(\"TP_ESCOLA == 'privada'\")[\"Q006\"].value_counts()\n",
        "label_priv = q006_priv.index\n",
        "value_priv = q006_priv.values\n",
        "\n",
        "graph_q006 = make_subplots(rows=1, cols=2, specs=specs, subplot_titles=titles)\n",
        "\n",
        "graph_q006.add_trace(go.Pie(labels=label_pub, values=value_pub,\n",
        "                            marker_colors=tema), 1, 1)\n",
        "\n",
        "graph_q006.add_trace(go.Pie(labels=label_priv, values=value_priv), 1, 2)\n",
        "\n",
        "graph_q006.update_layout(font_size=12, title=dict(text=quest[\"Q006\"], x=0.5,\n",
        "                                                  font_size=22),\n",
        "                         uniformtext_minsize=14, uniformtext_mode=\"hide\")"
      ],
      "metadata": {
        "id": "__pSCMQ8khrM",
        "execution": {
          "iopub.status.busy": "2022-10-10T12:22:06.427587Z",
          "iopub.execute_input": "2022-10-10T12:22:06.428026Z",
          "iopub.status.idle": "2022-10-10T12:22:06.466339Z",
          "shell.execute_reply.started": "2022-10-10T12:22:06.427993Z",
          "shell.execute_reply": "2022-10-10T12:22:06.465425Z"
        },
        "trusted": true,
        "colab": {
          "base_uri": "https://localhost:8080/",
          "height": 542
        },
        "outputId": "2e7046b6-82b7-4cd6-9321-86b5b1747116"
      },
      "execution_count": 68,
      "outputs": [
        {
          "output_type": "display_data",
          "data": {
            "text/html": [
              "<html>\n",
              "<head><meta charset=\"utf-8\" /></head>\n",
              "<body>\n",
              "    <div>            <script src=\"https://cdnjs.cloudflare.com/ajax/libs/mathjax/2.7.5/MathJax.js?config=TeX-AMS-MML_SVG\"></script><script type=\"text/javascript\">if (window.MathJax) {MathJax.Hub.Config({SVG: {font: \"STIX-Web\"}});}</script>                <script type=\"text/javascript\">window.PlotlyConfig = {MathJaxConfig: 'local'};</script>\n",
              "        <script src=\"https://cdn.plot.ly/plotly-2.8.3.min.js\"></script>                <div id=\"f0beba4f-f6c1-47ba-9040-e0e5f331b6d2\" class=\"plotly-graph-div\" style=\"height:525px; width:100%;\"></div>            <script type=\"text/javascript\">                                    window.PLOTLYENV=window.PLOTLYENV || {};                                    if (document.getElementById(\"f0beba4f-f6c1-47ba-9040-e0e5f331b6d2\")) {                    Plotly.newPlot(                        \"f0beba4f-f6c1-47ba-9040-e0e5f331b6d2\",                        [{\"labels\":[\"At\\u00e9 R$ 1.100,00\",\"De R$ 1.100,01 at\\u00e9 R$ 1.650,00\",\"De R$ 1.650,01 at\\u00e9 R$ 2.200,00\",\"Nenhuma Renda\",\"De R$ 2.200,01 at\\u00e9 R$ 2.750,00\",\"De R$ 2.750,01 at\\u00e9 R$ 3.300,00\",\"De R$ 4.400,01 at\\u00e9 R$ 5.500,00\",\"De R$ 3.300,01 at\\u00e9 R$ 4.400,00\",\"De R$ 5.500,01 at\\u00e9 R$ 6.600,00\",\"De R$ 6.600,01 at\\u00e9 R$ 7.700,00\",\"De R$ 7.700,01 at\\u00e9 R$ 8.800,00\",\"De R$ 9.900,01 at\\u00e9 R$ 11.000,00\",\"De R$ 8.800,01 at\\u00e9 R$ 9.900,00\",\"De R$ 13.200,01 at\\u00e9 R$ 16.500,00\",\"De R$ 11.000,01 at\\u00e9 R$ 13.200,00\",\"Acima de R$ 22.000,00\",\"De R$ 16.500,01 at\\u00e9 R$ 22.000,00\"],\"marker\":{\"colors\":[\"#FD3216\",\"#00FE35\",\"#6A76FC\",\"#FED4C4\",\"#FE00CE\",\"#0DF9FF\",\"#F6F926\",\"#FF9616\",\"#479B55\",\"#EEA6FB\",\"#DC587D\",\"#D626FF\",\"#6E899C\",\"#00B5F7\",\"#B68E00\",\"#C9FBE5\",\"#FF0092\",\"#22FFA7\",\"#E3EE9E\",\"#86CE00\",\"#BC7196\",\"#7E7DCD\",\"#FC6955\",\"#E48F72\"]},\"values\":[1222,541,309,218,151,149,97,96,66,30,24,16,14,10,10,5,3],\"type\":\"pie\",\"domain\":{\"x\":[0.0,0.45],\"y\":[0.0,1.0]}},{\"labels\":[\"De R$ 9.900,01 at\\u00e9 R$ 11.000,00\",\"De R$ 4.400,01 at\\u00e9 R$ 5.500,00\",\"De R$ 5.500,01 at\\u00e9 R$ 6.600,00\",\"De R$ 2.750,01 at\\u00e9 R$ 3.300,00\",\"De R$ 16.500,01 at\\u00e9 R$ 22.000,00\",\"De R$ 3.300,01 at\\u00e9 R$ 4.400,00\",\"De R$ 8.800,01 at\\u00e9 R$ 9.900,00\",\"De R$ 1.650,01 at\\u00e9 R$ 2.200,00\",\"De R$ 6.600,01 at\\u00e9 R$ 7.700,00\",\"De R$ 11.000,01 at\\u00e9 R$ 13.200,00\",\"De R$ 1.100,01 at\\u00e9 R$ 1.650,00\",\"De R$ 13.200,01 at\\u00e9 R$ 16.500,00\",\"De R$ 7.700,01 at\\u00e9 R$ 8.800,00\",\"At\\u00e9 R$ 1.100,00\",\"Acima de R$ 22.000,00\",\"De R$ 2.200,01 at\\u00e9 R$ 2.750,00\",\"Nenhuma Renda\"],\"values\":[47,45,45,38,32,30,28,27,27,25,24,24,23,23,20,16,4],\"type\":\"pie\",\"domain\":{\"x\":[0.55,1.0],\"y\":[0.0,1.0]}}],                        {\"template\":{\"data\":{\"bar\":[{\"error_x\":{\"color\":\"#2a3f5f\"},\"error_y\":{\"color\":\"#2a3f5f\"},\"marker\":{\"line\":{\"color\":\"#E5ECF6\",\"width\":0.5},\"pattern\":{\"fillmode\":\"overlay\",\"size\":10,\"solidity\":0.2}},\"type\":\"bar\"}],\"barpolar\":[{\"marker\":{\"line\":{\"color\":\"#E5ECF6\",\"width\":0.5},\"pattern\":{\"fillmode\":\"overlay\",\"size\":10,\"solidity\":0.2}},\"type\":\"barpolar\"}],\"carpet\":[{\"aaxis\":{\"endlinecolor\":\"#2a3f5f\",\"gridcolor\":\"white\",\"linecolor\":\"white\",\"minorgridcolor\":\"white\",\"startlinecolor\":\"#2a3f5f\"},\"baxis\":{\"endlinecolor\":\"#2a3f5f\",\"gridcolor\":\"white\",\"linecolor\":\"white\",\"minorgridcolor\":\"white\",\"startlinecolor\":\"#2a3f5f\"},\"type\":\"carpet\"}],\"choropleth\":[{\"colorbar\":{\"outlinewidth\":0,\"ticks\":\"\"},\"type\":\"choropleth\"}],\"contour\":[{\"colorbar\":{\"outlinewidth\":0,\"ticks\":\"\"},\"colorscale\":[[0.0,\"#0d0887\"],[0.1111111111111111,\"#46039f\"],[0.2222222222222222,\"#7201a8\"],[0.3333333333333333,\"#9c179e\"],[0.4444444444444444,\"#bd3786\"],[0.5555555555555556,\"#d8576b\"],[0.6666666666666666,\"#ed7953\"],[0.7777777777777778,\"#fb9f3a\"],[0.8888888888888888,\"#fdca26\"],[1.0,\"#f0f921\"]],\"type\":\"contour\"}],\"contourcarpet\":[{\"colorbar\":{\"outlinewidth\":0,\"ticks\":\"\"},\"type\":\"contourcarpet\"}],\"heatmap\":[{\"colorbar\":{\"outlinewidth\":0,\"ticks\":\"\"},\"colorscale\":[[0.0,\"#0d0887\"],[0.1111111111111111,\"#46039f\"],[0.2222222222222222,\"#7201a8\"],[0.3333333333333333,\"#9c179e\"],[0.4444444444444444,\"#bd3786\"],[0.5555555555555556,\"#d8576b\"],[0.6666666666666666,\"#ed7953\"],[0.7777777777777778,\"#fb9f3a\"],[0.8888888888888888,\"#fdca26\"],[1.0,\"#f0f921\"]],\"type\":\"heatmap\"}],\"heatmapgl\":[{\"colorbar\":{\"outlinewidth\":0,\"ticks\":\"\"},\"colorscale\":[[0.0,\"#0d0887\"],[0.1111111111111111,\"#46039f\"],[0.2222222222222222,\"#7201a8\"],[0.3333333333333333,\"#9c179e\"],[0.4444444444444444,\"#bd3786\"],[0.5555555555555556,\"#d8576b\"],[0.6666666666666666,\"#ed7953\"],[0.7777777777777778,\"#fb9f3a\"],[0.8888888888888888,\"#fdca26\"],[1.0,\"#f0f921\"]],\"type\":\"heatmapgl\"}],\"histogram\":[{\"marker\":{\"pattern\":{\"fillmode\":\"overlay\",\"size\":10,\"solidity\":0.2}},\"type\":\"histogram\"}],\"histogram2d\":[{\"colorbar\":{\"outlinewidth\":0,\"ticks\":\"\"},\"colorscale\":[[0.0,\"#0d0887\"],[0.1111111111111111,\"#46039f\"],[0.2222222222222222,\"#7201a8\"],[0.3333333333333333,\"#9c179e\"],[0.4444444444444444,\"#bd3786\"],[0.5555555555555556,\"#d8576b\"],[0.6666666666666666,\"#ed7953\"],[0.7777777777777778,\"#fb9f3a\"],[0.8888888888888888,\"#fdca26\"],[1.0,\"#f0f921\"]],\"type\":\"histogram2d\"}],\"histogram2dcontour\":[{\"colorbar\":{\"outlinewidth\":0,\"ticks\":\"\"},\"colorscale\":[[0.0,\"#0d0887\"],[0.1111111111111111,\"#46039f\"],[0.2222222222222222,\"#7201a8\"],[0.3333333333333333,\"#9c179e\"],[0.4444444444444444,\"#bd3786\"],[0.5555555555555556,\"#d8576b\"],[0.6666666666666666,\"#ed7953\"],[0.7777777777777778,\"#fb9f3a\"],[0.8888888888888888,\"#fdca26\"],[1.0,\"#f0f921\"]],\"type\":\"histogram2dcontour\"}],\"mesh3d\":[{\"colorbar\":{\"outlinewidth\":0,\"ticks\":\"\"},\"type\":\"mesh3d\"}],\"parcoords\":[{\"line\":{\"colorbar\":{\"outlinewidth\":0,\"ticks\":\"\"}},\"type\":\"parcoords\"}],\"pie\":[{\"automargin\":true,\"type\":\"pie\"}],\"scatter\":[{\"marker\":{\"colorbar\":{\"outlinewidth\":0,\"ticks\":\"\"}},\"type\":\"scatter\"}],\"scatter3d\":[{\"line\":{\"colorbar\":{\"outlinewidth\":0,\"ticks\":\"\"}},\"marker\":{\"colorbar\":{\"outlinewidth\":0,\"ticks\":\"\"}},\"type\":\"scatter3d\"}],\"scattercarpet\":[{\"marker\":{\"colorbar\":{\"outlinewidth\":0,\"ticks\":\"\"}},\"type\":\"scattercarpet\"}],\"scattergeo\":[{\"marker\":{\"colorbar\":{\"outlinewidth\":0,\"ticks\":\"\"}},\"type\":\"scattergeo\"}],\"scattergl\":[{\"marker\":{\"colorbar\":{\"outlinewidth\":0,\"ticks\":\"\"}},\"type\":\"scattergl\"}],\"scattermapbox\":[{\"marker\":{\"colorbar\":{\"outlinewidth\":0,\"ticks\":\"\"}},\"type\":\"scattermapbox\"}],\"scatterpolar\":[{\"marker\":{\"colorbar\":{\"outlinewidth\":0,\"ticks\":\"\"}},\"type\":\"scatterpolar\"}],\"scatterpolargl\":[{\"marker\":{\"colorbar\":{\"outlinewidth\":0,\"ticks\":\"\"}},\"type\":\"scatterpolargl\"}],\"scatterternary\":[{\"marker\":{\"colorbar\":{\"outlinewidth\":0,\"ticks\":\"\"}},\"type\":\"scatterternary\"}],\"surface\":[{\"colorbar\":{\"outlinewidth\":0,\"ticks\":\"\"},\"colorscale\":[[0.0,\"#0d0887\"],[0.1111111111111111,\"#46039f\"],[0.2222222222222222,\"#7201a8\"],[0.3333333333333333,\"#9c179e\"],[0.4444444444444444,\"#bd3786\"],[0.5555555555555556,\"#d8576b\"],[0.6666666666666666,\"#ed7953\"],[0.7777777777777778,\"#fb9f3a\"],[0.8888888888888888,\"#fdca26\"],[1.0,\"#f0f921\"]],\"type\":\"surface\"}],\"table\":[{\"cells\":{\"fill\":{\"color\":\"#EBF0F8\"},\"line\":{\"color\":\"white\"}},\"header\":{\"fill\":{\"color\":\"#C8D4E3\"},\"line\":{\"color\":\"white\"}},\"type\":\"table\"}]},\"layout\":{\"annotationdefaults\":{\"arrowcolor\":\"#2a3f5f\",\"arrowhead\":0,\"arrowwidth\":1},\"autotypenumbers\":\"strict\",\"coloraxis\":{\"colorbar\":{\"outlinewidth\":0,\"ticks\":\"\"}},\"colorscale\":{\"diverging\":[[0,\"#8e0152\"],[0.1,\"#c51b7d\"],[0.2,\"#de77ae\"],[0.3,\"#f1b6da\"],[0.4,\"#fde0ef\"],[0.5,\"#f7f7f7\"],[0.6,\"#e6f5d0\"],[0.7,\"#b8e186\"],[0.8,\"#7fbc41\"],[0.9,\"#4d9221\"],[1,\"#276419\"]],\"sequential\":[[0.0,\"#0d0887\"],[0.1111111111111111,\"#46039f\"],[0.2222222222222222,\"#7201a8\"],[0.3333333333333333,\"#9c179e\"],[0.4444444444444444,\"#bd3786\"],[0.5555555555555556,\"#d8576b\"],[0.6666666666666666,\"#ed7953\"],[0.7777777777777778,\"#fb9f3a\"],[0.8888888888888888,\"#fdca26\"],[1.0,\"#f0f921\"]],\"sequentialminus\":[[0.0,\"#0d0887\"],[0.1111111111111111,\"#46039f\"],[0.2222222222222222,\"#7201a8\"],[0.3333333333333333,\"#9c179e\"],[0.4444444444444444,\"#bd3786\"],[0.5555555555555556,\"#d8576b\"],[0.6666666666666666,\"#ed7953\"],[0.7777777777777778,\"#fb9f3a\"],[0.8888888888888888,\"#fdca26\"],[1.0,\"#f0f921\"]]},\"colorway\":[\"#636efa\",\"#EF553B\",\"#00cc96\",\"#ab63fa\",\"#FFA15A\",\"#19d3f3\",\"#FF6692\",\"#B6E880\",\"#FF97FF\",\"#FECB52\"],\"font\":{\"color\":\"#2a3f5f\"},\"geo\":{\"bgcolor\":\"white\",\"lakecolor\":\"white\",\"landcolor\":\"#E5ECF6\",\"showlakes\":true,\"showland\":true,\"subunitcolor\":\"white\"},\"hoverlabel\":{\"align\":\"left\"},\"hovermode\":\"closest\",\"mapbox\":{\"style\":\"light\"},\"paper_bgcolor\":\"white\",\"plot_bgcolor\":\"#E5ECF6\",\"polar\":{\"angularaxis\":{\"gridcolor\":\"white\",\"linecolor\":\"white\",\"ticks\":\"\"},\"bgcolor\":\"#E5ECF6\",\"radialaxis\":{\"gridcolor\":\"white\",\"linecolor\":\"white\",\"ticks\":\"\"}},\"scene\":{\"xaxis\":{\"backgroundcolor\":\"#E5ECF6\",\"gridcolor\":\"white\",\"gridwidth\":2,\"linecolor\":\"white\",\"showbackground\":true,\"ticks\":\"\",\"zerolinecolor\":\"white\"},\"yaxis\":{\"backgroundcolor\":\"#E5ECF6\",\"gridcolor\":\"white\",\"gridwidth\":2,\"linecolor\":\"white\",\"showbackground\":true,\"ticks\":\"\",\"zerolinecolor\":\"white\"},\"zaxis\":{\"backgroundcolor\":\"#E5ECF6\",\"gridcolor\":\"white\",\"gridwidth\":2,\"linecolor\":\"white\",\"showbackground\":true,\"ticks\":\"\",\"zerolinecolor\":\"white\"}},\"shapedefaults\":{\"line\":{\"color\":\"#2a3f5f\"}},\"ternary\":{\"aaxis\":{\"gridcolor\":\"white\",\"linecolor\":\"white\",\"ticks\":\"\"},\"baxis\":{\"gridcolor\":\"white\",\"linecolor\":\"white\",\"ticks\":\"\"},\"bgcolor\":\"#E5ECF6\",\"caxis\":{\"gridcolor\":\"white\",\"linecolor\":\"white\",\"ticks\":\"\"}},\"title\":{\"x\":0.05},\"xaxis\":{\"automargin\":true,\"gridcolor\":\"white\",\"linecolor\":\"white\",\"ticks\":\"\",\"title\":{\"standoff\":15},\"zerolinecolor\":\"white\",\"zerolinewidth\":2},\"yaxis\":{\"automargin\":true,\"gridcolor\":\"white\",\"linecolor\":\"white\",\"ticks\":\"\",\"title\":{\"standoff\":15},\"zerolinecolor\":\"white\",\"zerolinewidth\":2}}},\"annotations\":[{\"font\":{\"size\":16},\"showarrow\":false,\"text\":\"Escolas P\\u00fablicas\",\"x\":0.225,\"xanchor\":\"center\",\"xref\":\"paper\",\"y\":1.0,\"yanchor\":\"bottom\",\"yref\":\"paper\"},{\"font\":{\"size\":16},\"showarrow\":false,\"text\":\"Escolas Privadas\",\"x\":0.775,\"xanchor\":\"center\",\"xref\":\"paper\",\"y\":1.0,\"yanchor\":\"bottom\",\"yref\":\"paper\"}],\"font\":{\"size\":12},\"title\":{\"font\":{\"size\":22},\"text\":\"Qual \\u00e9 a renda mensal de sua fam\\u00edlia? (Some a sua renda com a dos seus familiares)\",\"x\":0.5},\"uniformtext\":{\"minsize\":14,\"mode\":\"hide\"}},                        {\"responsive\": true}                    ).then(function(){\n",
              "                            \n",
              "var gd = document.getElementById('f0beba4f-f6c1-47ba-9040-e0e5f331b6d2');\n",
              "var x = new MutationObserver(function (mutations, observer) {{\n",
              "        var display = window.getComputedStyle(gd).display;\n",
              "        if (!display || display === 'none') {{\n",
              "            console.log([gd, 'removed!']);\n",
              "            Plotly.purge(gd);\n",
              "            observer.disconnect();\n",
              "        }}\n",
              "}});\n",
              "\n",
              "// Listen for the removal of the full notebook cells\n",
              "var notebookContainer = gd.closest('#notebook-container');\n",
              "if (notebookContainer) {{\n",
              "    x.observe(notebookContainer, {childList: true});\n",
              "}}\n",
              "\n",
              "// Listen for the clearing of the current output cell\n",
              "var outputEl = gd.closest('.output');\n",
              "if (outputEl) {{\n",
              "    x.observe(outputEl, {childList: true});\n",
              "}}\n",
              "\n",
              "                        })                };                            </script>        </div>\n",
              "</body>\n",
              "</html>"
            ]
          },
          "metadata": {}
        }
      ]
    },
    {
      "cell_type": "markdown",
      "source": [
        "A renda mensal familiar dos vestibulandos de escolas privadas está distribuída entre valores de R\\$1100,00 até R\\$13200,00. O mesmo não acontece em relação aos vestibulandos de escolas públicas, onde a maior concentração mensal gira em torno de R\\$1100,00, porém, encontramos ainda 7,36% dos vestibulandos de escolas públicas com nenhuma renda familiar."
      ],
      "metadata": {
        "id": "EOKD9ox2cG8v"
      }
    },
    {
      "cell_type": "code",
      "source": [
        "q008_pub = df_plot.query(\"TP_ESCOLA == 'publica'\")[\"Q008\"].value_counts()\n",
        "label_pub = q008_pub.index\n",
        "value_pub = q008_pub.values\n",
        "\n",
        "q008_priv = df_plot.query(\"TP_ESCOLA == 'privada'\")[\"Q008\"].value_counts()\n",
        "label_priv = q008_priv.index\n",
        "value_priv = q008_priv.values\n",
        "\n",
        "graph_q008 = make_subplots(rows=1, cols=2, specs=specs, subplot_titles=titles)\n",
        "\n",
        "graph_q008.add_trace(go.Pie(labels=label_pub, values=value_pub,\n",
        "                            marker_colors=tema), 1, 1)\n",
        "\n",
        "graph_q008.add_trace(go.Pie(labels=label_priv, values=value_priv), 1, 2)\n",
        "\n",
        "graph_q008.update_layout(font_size=12, title=dict(text=quest[\"Q008\"], x=0.5,\n",
        "                                                  font_size=22),\n",
        "                         uniformtext_minsize=14, uniformtext_mode=\"hide\")"
      ],
      "metadata": {
        "id": "jooqjsREhUZ6",
        "execution": {
          "iopub.status.busy": "2022-10-10T12:22:06.469311Z",
          "iopub.execute_input": "2022-10-10T12:22:06.470347Z",
          "iopub.status.idle": "2022-10-10T12:22:06.507831Z",
          "shell.execute_reply.started": "2022-10-10T12:22:06.470309Z",
          "shell.execute_reply": "2022-10-10T12:22:06.507034Z"
        },
        "trusted": true,
        "colab": {
          "base_uri": "https://localhost:8080/",
          "height": 542
        },
        "outputId": "74f87005-513e-4552-d45c-fcaf85dced21"
      },
      "execution_count": 69,
      "outputs": [
        {
          "output_type": "display_data",
          "data": {
            "text/html": [
              "<html>\n",
              "<head><meta charset=\"utf-8\" /></head>\n",
              "<body>\n",
              "    <div>            <script src=\"https://cdnjs.cloudflare.com/ajax/libs/mathjax/2.7.5/MathJax.js?config=TeX-AMS-MML_SVG\"></script><script type=\"text/javascript\">if (window.MathJax) {MathJax.Hub.Config({SVG: {font: \"STIX-Web\"}});}</script>                <script type=\"text/javascript\">window.PlotlyConfig = {MathJaxConfig: 'local'};</script>\n",
              "        <script src=\"https://cdn.plot.ly/plotly-2.8.3.min.js\"></script>                <div id=\"6c10386b-c83a-4f21-99b6-9915733d65d0\" class=\"plotly-graph-div\" style=\"height:525px; width:100%;\"></div>            <script type=\"text/javascript\">                                    window.PLOTLYENV=window.PLOTLYENV || {};                                    if (document.getElementById(\"6c10386b-c83a-4f21-99b6-9915733d65d0\")) {                    Plotly.newPlot(                        \"6c10386b-c83a-4f21-99b6-9915733d65d0\",                        [{\"labels\":[\"Sim, um\",\"Sim, dois\",\"Sim, tr\\u00eas\",\"Sim, quatro ou mais\",\"N\\u00e3o\"],\"marker\":{\"colors\":[\"#FD3216\",\"#00FE35\",\"#6A76FC\",\"#FED4C4\",\"#FE00CE\",\"#0DF9FF\",\"#F6F926\",\"#FF9616\",\"#479B55\",\"#EEA6FB\",\"#DC587D\",\"#D626FF\",\"#6E899C\",\"#00B5F7\",\"#B68E00\",\"#C9FBE5\",\"#FF0092\",\"#22FFA7\",\"#E3EE9E\",\"#86CE00\",\"#BC7196\",\"#7E7DCD\",\"#FC6955\",\"#E48F72\"]},\"values\":[2181,627,111,24,18],\"type\":\"pie\",\"domain\":{\"x\":[0.0,0.45],\"y\":[0.0,1.0]}},{\"labels\":[\"Sim, dois\",\"Sim, tr\\u00eas\",\"Sim, um\",\"Sim, quatro ou mais\"],\"values\":[186,101,101,90],\"type\":\"pie\",\"domain\":{\"x\":[0.55,1.0],\"y\":[0.0,1.0]}}],                        {\"template\":{\"data\":{\"bar\":[{\"error_x\":{\"color\":\"#2a3f5f\"},\"error_y\":{\"color\":\"#2a3f5f\"},\"marker\":{\"line\":{\"color\":\"#E5ECF6\",\"width\":0.5},\"pattern\":{\"fillmode\":\"overlay\",\"size\":10,\"solidity\":0.2}},\"type\":\"bar\"}],\"barpolar\":[{\"marker\":{\"line\":{\"color\":\"#E5ECF6\",\"width\":0.5},\"pattern\":{\"fillmode\":\"overlay\",\"size\":10,\"solidity\":0.2}},\"type\":\"barpolar\"}],\"carpet\":[{\"aaxis\":{\"endlinecolor\":\"#2a3f5f\",\"gridcolor\":\"white\",\"linecolor\":\"white\",\"minorgridcolor\":\"white\",\"startlinecolor\":\"#2a3f5f\"},\"baxis\":{\"endlinecolor\":\"#2a3f5f\",\"gridcolor\":\"white\",\"linecolor\":\"white\",\"minorgridcolor\":\"white\",\"startlinecolor\":\"#2a3f5f\"},\"type\":\"carpet\"}],\"choropleth\":[{\"colorbar\":{\"outlinewidth\":0,\"ticks\":\"\"},\"type\":\"choropleth\"}],\"contour\":[{\"colorbar\":{\"outlinewidth\":0,\"ticks\":\"\"},\"colorscale\":[[0.0,\"#0d0887\"],[0.1111111111111111,\"#46039f\"],[0.2222222222222222,\"#7201a8\"],[0.3333333333333333,\"#9c179e\"],[0.4444444444444444,\"#bd3786\"],[0.5555555555555556,\"#d8576b\"],[0.6666666666666666,\"#ed7953\"],[0.7777777777777778,\"#fb9f3a\"],[0.8888888888888888,\"#fdca26\"],[1.0,\"#f0f921\"]],\"type\":\"contour\"}],\"contourcarpet\":[{\"colorbar\":{\"outlinewidth\":0,\"ticks\":\"\"},\"type\":\"contourcarpet\"}],\"heatmap\":[{\"colorbar\":{\"outlinewidth\":0,\"ticks\":\"\"},\"colorscale\":[[0.0,\"#0d0887\"],[0.1111111111111111,\"#46039f\"],[0.2222222222222222,\"#7201a8\"],[0.3333333333333333,\"#9c179e\"],[0.4444444444444444,\"#bd3786\"],[0.5555555555555556,\"#d8576b\"],[0.6666666666666666,\"#ed7953\"],[0.7777777777777778,\"#fb9f3a\"],[0.8888888888888888,\"#fdca26\"],[1.0,\"#f0f921\"]],\"type\":\"heatmap\"}],\"heatmapgl\":[{\"colorbar\":{\"outlinewidth\":0,\"ticks\":\"\"},\"colorscale\":[[0.0,\"#0d0887\"],[0.1111111111111111,\"#46039f\"],[0.2222222222222222,\"#7201a8\"],[0.3333333333333333,\"#9c179e\"],[0.4444444444444444,\"#bd3786\"],[0.5555555555555556,\"#d8576b\"],[0.6666666666666666,\"#ed7953\"],[0.7777777777777778,\"#fb9f3a\"],[0.8888888888888888,\"#fdca26\"],[1.0,\"#f0f921\"]],\"type\":\"heatmapgl\"}],\"histogram\":[{\"marker\":{\"pattern\":{\"fillmode\":\"overlay\",\"size\":10,\"solidity\":0.2}},\"type\":\"histogram\"}],\"histogram2d\":[{\"colorbar\":{\"outlinewidth\":0,\"ticks\":\"\"},\"colorscale\":[[0.0,\"#0d0887\"],[0.1111111111111111,\"#46039f\"],[0.2222222222222222,\"#7201a8\"],[0.3333333333333333,\"#9c179e\"],[0.4444444444444444,\"#bd3786\"],[0.5555555555555556,\"#d8576b\"],[0.6666666666666666,\"#ed7953\"],[0.7777777777777778,\"#fb9f3a\"],[0.8888888888888888,\"#fdca26\"],[1.0,\"#f0f921\"]],\"type\":\"histogram2d\"}],\"histogram2dcontour\":[{\"colorbar\":{\"outlinewidth\":0,\"ticks\":\"\"},\"colorscale\":[[0.0,\"#0d0887\"],[0.1111111111111111,\"#46039f\"],[0.2222222222222222,\"#7201a8\"],[0.3333333333333333,\"#9c179e\"],[0.4444444444444444,\"#bd3786\"],[0.5555555555555556,\"#d8576b\"],[0.6666666666666666,\"#ed7953\"],[0.7777777777777778,\"#fb9f3a\"],[0.8888888888888888,\"#fdca26\"],[1.0,\"#f0f921\"]],\"type\":\"histogram2dcontour\"}],\"mesh3d\":[{\"colorbar\":{\"outlinewidth\":0,\"ticks\":\"\"},\"type\":\"mesh3d\"}],\"parcoords\":[{\"line\":{\"colorbar\":{\"outlinewidth\":0,\"ticks\":\"\"}},\"type\":\"parcoords\"}],\"pie\":[{\"automargin\":true,\"type\":\"pie\"}],\"scatter\":[{\"marker\":{\"colorbar\":{\"outlinewidth\":0,\"ticks\":\"\"}},\"type\":\"scatter\"}],\"scatter3d\":[{\"line\":{\"colorbar\":{\"outlinewidth\":0,\"ticks\":\"\"}},\"marker\":{\"colorbar\":{\"outlinewidth\":0,\"ticks\":\"\"}},\"type\":\"scatter3d\"}],\"scattercarpet\":[{\"marker\":{\"colorbar\":{\"outlinewidth\":0,\"ticks\":\"\"}},\"type\":\"scattercarpet\"}],\"scattergeo\":[{\"marker\":{\"colorbar\":{\"outlinewidth\":0,\"ticks\":\"\"}},\"type\":\"scattergeo\"}],\"scattergl\":[{\"marker\":{\"colorbar\":{\"outlinewidth\":0,\"ticks\":\"\"}},\"type\":\"scattergl\"}],\"scattermapbox\":[{\"marker\":{\"colorbar\":{\"outlinewidth\":0,\"ticks\":\"\"}},\"type\":\"scattermapbox\"}],\"scatterpolar\":[{\"marker\":{\"colorbar\":{\"outlinewidth\":0,\"ticks\":\"\"}},\"type\":\"scatterpolar\"}],\"scatterpolargl\":[{\"marker\":{\"colorbar\":{\"outlinewidth\":0,\"ticks\":\"\"}},\"type\":\"scatterpolargl\"}],\"scatterternary\":[{\"marker\":{\"colorbar\":{\"outlinewidth\":0,\"ticks\":\"\"}},\"type\":\"scatterternary\"}],\"surface\":[{\"colorbar\":{\"outlinewidth\":0,\"ticks\":\"\"},\"colorscale\":[[0.0,\"#0d0887\"],[0.1111111111111111,\"#46039f\"],[0.2222222222222222,\"#7201a8\"],[0.3333333333333333,\"#9c179e\"],[0.4444444444444444,\"#bd3786\"],[0.5555555555555556,\"#d8576b\"],[0.6666666666666666,\"#ed7953\"],[0.7777777777777778,\"#fb9f3a\"],[0.8888888888888888,\"#fdca26\"],[1.0,\"#f0f921\"]],\"type\":\"surface\"}],\"table\":[{\"cells\":{\"fill\":{\"color\":\"#EBF0F8\"},\"line\":{\"color\":\"white\"}},\"header\":{\"fill\":{\"color\":\"#C8D4E3\"},\"line\":{\"color\":\"white\"}},\"type\":\"table\"}]},\"layout\":{\"annotationdefaults\":{\"arrowcolor\":\"#2a3f5f\",\"arrowhead\":0,\"arrowwidth\":1},\"autotypenumbers\":\"strict\",\"coloraxis\":{\"colorbar\":{\"outlinewidth\":0,\"ticks\":\"\"}},\"colorscale\":{\"diverging\":[[0,\"#8e0152\"],[0.1,\"#c51b7d\"],[0.2,\"#de77ae\"],[0.3,\"#f1b6da\"],[0.4,\"#fde0ef\"],[0.5,\"#f7f7f7\"],[0.6,\"#e6f5d0\"],[0.7,\"#b8e186\"],[0.8,\"#7fbc41\"],[0.9,\"#4d9221\"],[1,\"#276419\"]],\"sequential\":[[0.0,\"#0d0887\"],[0.1111111111111111,\"#46039f\"],[0.2222222222222222,\"#7201a8\"],[0.3333333333333333,\"#9c179e\"],[0.4444444444444444,\"#bd3786\"],[0.5555555555555556,\"#d8576b\"],[0.6666666666666666,\"#ed7953\"],[0.7777777777777778,\"#fb9f3a\"],[0.8888888888888888,\"#fdca26\"],[1.0,\"#f0f921\"]],\"sequentialminus\":[[0.0,\"#0d0887\"],[0.1111111111111111,\"#46039f\"],[0.2222222222222222,\"#7201a8\"],[0.3333333333333333,\"#9c179e\"],[0.4444444444444444,\"#bd3786\"],[0.5555555555555556,\"#d8576b\"],[0.6666666666666666,\"#ed7953\"],[0.7777777777777778,\"#fb9f3a\"],[0.8888888888888888,\"#fdca26\"],[1.0,\"#f0f921\"]]},\"colorway\":[\"#636efa\",\"#EF553B\",\"#00cc96\",\"#ab63fa\",\"#FFA15A\",\"#19d3f3\",\"#FF6692\",\"#B6E880\",\"#FF97FF\",\"#FECB52\"],\"font\":{\"color\":\"#2a3f5f\"},\"geo\":{\"bgcolor\":\"white\",\"lakecolor\":\"white\",\"landcolor\":\"#E5ECF6\",\"showlakes\":true,\"showland\":true,\"subunitcolor\":\"white\"},\"hoverlabel\":{\"align\":\"left\"},\"hovermode\":\"closest\",\"mapbox\":{\"style\":\"light\"},\"paper_bgcolor\":\"white\",\"plot_bgcolor\":\"#E5ECF6\",\"polar\":{\"angularaxis\":{\"gridcolor\":\"white\",\"linecolor\":\"white\",\"ticks\":\"\"},\"bgcolor\":\"#E5ECF6\",\"radialaxis\":{\"gridcolor\":\"white\",\"linecolor\":\"white\",\"ticks\":\"\"}},\"scene\":{\"xaxis\":{\"backgroundcolor\":\"#E5ECF6\",\"gridcolor\":\"white\",\"gridwidth\":2,\"linecolor\":\"white\",\"showbackground\":true,\"ticks\":\"\",\"zerolinecolor\":\"white\"},\"yaxis\":{\"backgroundcolor\":\"#E5ECF6\",\"gridcolor\":\"white\",\"gridwidth\":2,\"linecolor\":\"white\",\"showbackground\":true,\"ticks\":\"\",\"zerolinecolor\":\"white\"},\"zaxis\":{\"backgroundcolor\":\"#E5ECF6\",\"gridcolor\":\"white\",\"gridwidth\":2,\"linecolor\":\"white\",\"showbackground\":true,\"ticks\":\"\",\"zerolinecolor\":\"white\"}},\"shapedefaults\":{\"line\":{\"color\":\"#2a3f5f\"}},\"ternary\":{\"aaxis\":{\"gridcolor\":\"white\",\"linecolor\":\"white\",\"ticks\":\"\"},\"baxis\":{\"gridcolor\":\"white\",\"linecolor\":\"white\",\"ticks\":\"\"},\"bgcolor\":\"#E5ECF6\",\"caxis\":{\"gridcolor\":\"white\",\"linecolor\":\"white\",\"ticks\":\"\"}},\"title\":{\"x\":0.05},\"xaxis\":{\"automargin\":true,\"gridcolor\":\"white\",\"linecolor\":\"white\",\"ticks\":\"\",\"title\":{\"standoff\":15},\"zerolinecolor\":\"white\",\"zerolinewidth\":2},\"yaxis\":{\"automargin\":true,\"gridcolor\":\"white\",\"linecolor\":\"white\",\"ticks\":\"\",\"title\":{\"standoff\":15},\"zerolinecolor\":\"white\",\"zerolinewidth\":2}}},\"annotations\":[{\"font\":{\"size\":16},\"showarrow\":false,\"text\":\"Escolas P\\u00fablicas\",\"x\":0.225,\"xanchor\":\"center\",\"xref\":\"paper\",\"y\":1.0,\"yanchor\":\"bottom\",\"yref\":\"paper\"},{\"font\":{\"size\":16},\"showarrow\":false,\"text\":\"Escolas Privadas\",\"x\":0.775,\"xanchor\":\"center\",\"xref\":\"paper\",\"y\":1.0,\"yanchor\":\"bottom\",\"yref\":\"paper\"}],\"font\":{\"size\":12},\"title\":{\"font\":{\"size\":22},\"text\":\"Na sua resid\\u00eancia tem banheiro?\",\"x\":0.5},\"uniformtext\":{\"minsize\":14,\"mode\":\"hide\"}},                        {\"responsive\": true}                    ).then(function(){\n",
              "                            \n",
              "var gd = document.getElementById('6c10386b-c83a-4f21-99b6-9915733d65d0');\n",
              "var x = new MutationObserver(function (mutations, observer) {{\n",
              "        var display = window.getComputedStyle(gd).display;\n",
              "        if (!display || display === 'none') {{\n",
              "            console.log([gd, 'removed!']);\n",
              "            Plotly.purge(gd);\n",
              "            observer.disconnect();\n",
              "        }}\n",
              "}});\n",
              "\n",
              "// Listen for the removal of the full notebook cells\n",
              "var notebookContainer = gd.closest('#notebook-container');\n",
              "if (notebookContainer) {{\n",
              "    x.observe(notebookContainer, {childList: true});\n",
              "}}\n",
              "\n",
              "// Listen for the clearing of the current output cell\n",
              "var outputEl = gd.closest('.output');\n",
              "if (outputEl) {{\n",
              "    x.observe(outputEl, {childList: true});\n",
              "}}\n",
              "\n",
              "                        })                };                            </script>        </div>\n",
              "</body>\n",
              "</html>"
            ]
          },
          "metadata": {}
        }
      ]
    },
    {
      "cell_type": "markdown",
      "source": [
        "Ainda que poucos, vemos ainda vestibulandos de escolas públicas que residem em locais com nenhum banheiro."
      ],
      "metadata": {
        "id": "TrRmSwb3cG8w"
      }
    },
    {
      "cell_type": "code",
      "source": [
        "q009_pub = df_plot.query(\"TP_ESCOLA == 'publica'\")[\"Q009\"].value_counts()\n",
        "label_pub = q009_pub.index\n",
        "value_pub = q009_pub.values\n",
        "\n",
        "q009_priv = df_plot.query(\"TP_ESCOLA == 'privada'\")[\"Q009\"].value_counts()\n",
        "label_priv = q009_priv.index\n",
        "value_priv = q009_priv.values\n",
        "\n",
        "graph_q009 = make_subplots(rows=1, cols=2, specs=specs, subplot_titles=titles)\n",
        "\n",
        "graph_q009.add_trace(go.Pie(labels=label_pub, values=value_pub,\n",
        "                            marker_colors=tema), 1, 1)\n",
        "\n",
        "graph_q009.add_trace(go.Pie(labels=label_priv, values=value_priv), 1, 2)\n",
        "\n",
        "graph_q009.update_layout(font_size=12, title=dict(text=quest[\"Q009\"], x=0.5,\n",
        "                                                  font_size=22),\n",
        "                         uniformtext_minsize=14, uniformtext_mode=\"hide\")"
      ],
      "metadata": {
        "id": "ABnM_jlfiISs",
        "execution": {
          "iopub.status.busy": "2022-10-10T12:22:06.508730Z",
          "iopub.execute_input": "2022-10-10T12:22:06.509028Z",
          "iopub.status.idle": "2022-10-10T12:22:06.550253Z",
          "shell.execute_reply.started": "2022-10-10T12:22:06.509000Z",
          "shell.execute_reply": "2022-10-10T12:22:06.549341Z"
        },
        "trusted": true,
        "colab": {
          "base_uri": "https://localhost:8080/",
          "height": 542
        },
        "outputId": "1bbf8120-0a58-4214-89d7-642ffaf070ab"
      },
      "execution_count": 70,
      "outputs": [
        {
          "output_type": "display_data",
          "data": {
            "text/html": [
              "<html>\n",
              "<head><meta charset=\"utf-8\" /></head>\n",
              "<body>\n",
              "    <div>            <script src=\"https://cdnjs.cloudflare.com/ajax/libs/mathjax/2.7.5/MathJax.js?config=TeX-AMS-MML_SVG\"></script><script type=\"text/javascript\">if (window.MathJax) {MathJax.Hub.Config({SVG: {font: \"STIX-Web\"}});}</script>                <script type=\"text/javascript\">window.PlotlyConfig = {MathJaxConfig: 'local'};</script>\n",
              "        <script src=\"https://cdn.plot.ly/plotly-2.8.3.min.js\"></script>                <div id=\"ba62a5d0-626e-4b84-8b04-00d6d5001ad0\" class=\"plotly-graph-div\" style=\"height:525px; width:100%;\"></div>            <script type=\"text/javascript\">                                    window.PLOTLYENV=window.PLOTLYENV || {};                                    if (document.getElementById(\"ba62a5d0-626e-4b84-8b04-00d6d5001ad0\")) {                    Plotly.newPlot(                        \"ba62a5d0-626e-4b84-8b04-00d6d5001ad0\",                        [{\"labels\":[\"Sim, dois\",\"Sim, tr\\u00eas\",\"Sim, um\",\"Sim, quatro ou mais\",\"N\\u00e3o\"],\"marker\":{\"colors\":[\"#FD3216\",\"#00FE35\",\"#6A76FC\",\"#FED4C4\",\"#FE00CE\",\"#0DF9FF\",\"#F6F926\",\"#FF9616\",\"#479B55\",\"#EEA6FB\",\"#DC587D\",\"#D626FF\",\"#6E899C\",\"#00B5F7\",\"#B68E00\",\"#C9FBE5\",\"#FF0092\",\"#22FFA7\",\"#E3EE9E\",\"#86CE00\",\"#BC7196\",\"#7E7DCD\",\"#FC6955\",\"#E48F72\"]},\"values\":[1493,856,387,184,41],\"type\":\"pie\",\"domain\":{\"x\":[0.0,0.45],\"y\":[0.0,1.0]}},{\"labels\":[\"Sim, tr\\u00eas\",\"Sim, dois\",\"Sim, quatro ou mais\",\"Sim, um\"],\"values\":[251,131,82,14],\"type\":\"pie\",\"domain\":{\"x\":[0.55,1.0],\"y\":[0.0,1.0]}}],                        {\"template\":{\"data\":{\"bar\":[{\"error_x\":{\"color\":\"#2a3f5f\"},\"error_y\":{\"color\":\"#2a3f5f\"},\"marker\":{\"line\":{\"color\":\"#E5ECF6\",\"width\":0.5},\"pattern\":{\"fillmode\":\"overlay\",\"size\":10,\"solidity\":0.2}},\"type\":\"bar\"}],\"barpolar\":[{\"marker\":{\"line\":{\"color\":\"#E5ECF6\",\"width\":0.5},\"pattern\":{\"fillmode\":\"overlay\",\"size\":10,\"solidity\":0.2}},\"type\":\"barpolar\"}],\"carpet\":[{\"aaxis\":{\"endlinecolor\":\"#2a3f5f\",\"gridcolor\":\"white\",\"linecolor\":\"white\",\"minorgridcolor\":\"white\",\"startlinecolor\":\"#2a3f5f\"},\"baxis\":{\"endlinecolor\":\"#2a3f5f\",\"gridcolor\":\"white\",\"linecolor\":\"white\",\"minorgridcolor\":\"white\",\"startlinecolor\":\"#2a3f5f\"},\"type\":\"carpet\"}],\"choropleth\":[{\"colorbar\":{\"outlinewidth\":0,\"ticks\":\"\"},\"type\":\"choropleth\"}],\"contour\":[{\"colorbar\":{\"outlinewidth\":0,\"ticks\":\"\"},\"colorscale\":[[0.0,\"#0d0887\"],[0.1111111111111111,\"#46039f\"],[0.2222222222222222,\"#7201a8\"],[0.3333333333333333,\"#9c179e\"],[0.4444444444444444,\"#bd3786\"],[0.5555555555555556,\"#d8576b\"],[0.6666666666666666,\"#ed7953\"],[0.7777777777777778,\"#fb9f3a\"],[0.8888888888888888,\"#fdca26\"],[1.0,\"#f0f921\"]],\"type\":\"contour\"}],\"contourcarpet\":[{\"colorbar\":{\"outlinewidth\":0,\"ticks\":\"\"},\"type\":\"contourcarpet\"}],\"heatmap\":[{\"colorbar\":{\"outlinewidth\":0,\"ticks\":\"\"},\"colorscale\":[[0.0,\"#0d0887\"],[0.1111111111111111,\"#46039f\"],[0.2222222222222222,\"#7201a8\"],[0.3333333333333333,\"#9c179e\"],[0.4444444444444444,\"#bd3786\"],[0.5555555555555556,\"#d8576b\"],[0.6666666666666666,\"#ed7953\"],[0.7777777777777778,\"#fb9f3a\"],[0.8888888888888888,\"#fdca26\"],[1.0,\"#f0f921\"]],\"type\":\"heatmap\"}],\"heatmapgl\":[{\"colorbar\":{\"outlinewidth\":0,\"ticks\":\"\"},\"colorscale\":[[0.0,\"#0d0887\"],[0.1111111111111111,\"#46039f\"],[0.2222222222222222,\"#7201a8\"],[0.3333333333333333,\"#9c179e\"],[0.4444444444444444,\"#bd3786\"],[0.5555555555555556,\"#d8576b\"],[0.6666666666666666,\"#ed7953\"],[0.7777777777777778,\"#fb9f3a\"],[0.8888888888888888,\"#fdca26\"],[1.0,\"#f0f921\"]],\"type\":\"heatmapgl\"}],\"histogram\":[{\"marker\":{\"pattern\":{\"fillmode\":\"overlay\",\"size\":10,\"solidity\":0.2}},\"type\":\"histogram\"}],\"histogram2d\":[{\"colorbar\":{\"outlinewidth\":0,\"ticks\":\"\"},\"colorscale\":[[0.0,\"#0d0887\"],[0.1111111111111111,\"#46039f\"],[0.2222222222222222,\"#7201a8\"],[0.3333333333333333,\"#9c179e\"],[0.4444444444444444,\"#bd3786\"],[0.5555555555555556,\"#d8576b\"],[0.6666666666666666,\"#ed7953\"],[0.7777777777777778,\"#fb9f3a\"],[0.8888888888888888,\"#fdca26\"],[1.0,\"#f0f921\"]],\"type\":\"histogram2d\"}],\"histogram2dcontour\":[{\"colorbar\":{\"outlinewidth\":0,\"ticks\":\"\"},\"colorscale\":[[0.0,\"#0d0887\"],[0.1111111111111111,\"#46039f\"],[0.2222222222222222,\"#7201a8\"],[0.3333333333333333,\"#9c179e\"],[0.4444444444444444,\"#bd3786\"],[0.5555555555555556,\"#d8576b\"],[0.6666666666666666,\"#ed7953\"],[0.7777777777777778,\"#fb9f3a\"],[0.8888888888888888,\"#fdca26\"],[1.0,\"#f0f921\"]],\"type\":\"histogram2dcontour\"}],\"mesh3d\":[{\"colorbar\":{\"outlinewidth\":0,\"ticks\":\"\"},\"type\":\"mesh3d\"}],\"parcoords\":[{\"line\":{\"colorbar\":{\"outlinewidth\":0,\"ticks\":\"\"}},\"type\":\"parcoords\"}],\"pie\":[{\"automargin\":true,\"type\":\"pie\"}],\"scatter\":[{\"marker\":{\"colorbar\":{\"outlinewidth\":0,\"ticks\":\"\"}},\"type\":\"scatter\"}],\"scatter3d\":[{\"line\":{\"colorbar\":{\"outlinewidth\":0,\"ticks\":\"\"}},\"marker\":{\"colorbar\":{\"outlinewidth\":0,\"ticks\":\"\"}},\"type\":\"scatter3d\"}],\"scattercarpet\":[{\"marker\":{\"colorbar\":{\"outlinewidth\":0,\"ticks\":\"\"}},\"type\":\"scattercarpet\"}],\"scattergeo\":[{\"marker\":{\"colorbar\":{\"outlinewidth\":0,\"ticks\":\"\"}},\"type\":\"scattergeo\"}],\"scattergl\":[{\"marker\":{\"colorbar\":{\"outlinewidth\":0,\"ticks\":\"\"}},\"type\":\"scattergl\"}],\"scattermapbox\":[{\"marker\":{\"colorbar\":{\"outlinewidth\":0,\"ticks\":\"\"}},\"type\":\"scattermapbox\"}],\"scatterpolar\":[{\"marker\":{\"colorbar\":{\"outlinewidth\":0,\"ticks\":\"\"}},\"type\":\"scatterpolar\"}],\"scatterpolargl\":[{\"marker\":{\"colorbar\":{\"outlinewidth\":0,\"ticks\":\"\"}},\"type\":\"scatterpolargl\"}],\"scatterternary\":[{\"marker\":{\"colorbar\":{\"outlinewidth\":0,\"ticks\":\"\"}},\"type\":\"scatterternary\"}],\"surface\":[{\"colorbar\":{\"outlinewidth\":0,\"ticks\":\"\"},\"colorscale\":[[0.0,\"#0d0887\"],[0.1111111111111111,\"#46039f\"],[0.2222222222222222,\"#7201a8\"],[0.3333333333333333,\"#9c179e\"],[0.4444444444444444,\"#bd3786\"],[0.5555555555555556,\"#d8576b\"],[0.6666666666666666,\"#ed7953\"],[0.7777777777777778,\"#fb9f3a\"],[0.8888888888888888,\"#fdca26\"],[1.0,\"#f0f921\"]],\"type\":\"surface\"}],\"table\":[{\"cells\":{\"fill\":{\"color\":\"#EBF0F8\"},\"line\":{\"color\":\"white\"}},\"header\":{\"fill\":{\"color\":\"#C8D4E3\"},\"line\":{\"color\":\"white\"}},\"type\":\"table\"}]},\"layout\":{\"annotationdefaults\":{\"arrowcolor\":\"#2a3f5f\",\"arrowhead\":0,\"arrowwidth\":1},\"autotypenumbers\":\"strict\",\"coloraxis\":{\"colorbar\":{\"outlinewidth\":0,\"ticks\":\"\"}},\"colorscale\":{\"diverging\":[[0,\"#8e0152\"],[0.1,\"#c51b7d\"],[0.2,\"#de77ae\"],[0.3,\"#f1b6da\"],[0.4,\"#fde0ef\"],[0.5,\"#f7f7f7\"],[0.6,\"#e6f5d0\"],[0.7,\"#b8e186\"],[0.8,\"#7fbc41\"],[0.9,\"#4d9221\"],[1,\"#276419\"]],\"sequential\":[[0.0,\"#0d0887\"],[0.1111111111111111,\"#46039f\"],[0.2222222222222222,\"#7201a8\"],[0.3333333333333333,\"#9c179e\"],[0.4444444444444444,\"#bd3786\"],[0.5555555555555556,\"#d8576b\"],[0.6666666666666666,\"#ed7953\"],[0.7777777777777778,\"#fb9f3a\"],[0.8888888888888888,\"#fdca26\"],[1.0,\"#f0f921\"]],\"sequentialminus\":[[0.0,\"#0d0887\"],[0.1111111111111111,\"#46039f\"],[0.2222222222222222,\"#7201a8\"],[0.3333333333333333,\"#9c179e\"],[0.4444444444444444,\"#bd3786\"],[0.5555555555555556,\"#d8576b\"],[0.6666666666666666,\"#ed7953\"],[0.7777777777777778,\"#fb9f3a\"],[0.8888888888888888,\"#fdca26\"],[1.0,\"#f0f921\"]]},\"colorway\":[\"#636efa\",\"#EF553B\",\"#00cc96\",\"#ab63fa\",\"#FFA15A\",\"#19d3f3\",\"#FF6692\",\"#B6E880\",\"#FF97FF\",\"#FECB52\"],\"font\":{\"color\":\"#2a3f5f\"},\"geo\":{\"bgcolor\":\"white\",\"lakecolor\":\"white\",\"landcolor\":\"#E5ECF6\",\"showlakes\":true,\"showland\":true,\"subunitcolor\":\"white\"},\"hoverlabel\":{\"align\":\"left\"},\"hovermode\":\"closest\",\"mapbox\":{\"style\":\"light\"},\"paper_bgcolor\":\"white\",\"plot_bgcolor\":\"#E5ECF6\",\"polar\":{\"angularaxis\":{\"gridcolor\":\"white\",\"linecolor\":\"white\",\"ticks\":\"\"},\"bgcolor\":\"#E5ECF6\",\"radialaxis\":{\"gridcolor\":\"white\",\"linecolor\":\"white\",\"ticks\":\"\"}},\"scene\":{\"xaxis\":{\"backgroundcolor\":\"#E5ECF6\",\"gridcolor\":\"white\",\"gridwidth\":2,\"linecolor\":\"white\",\"showbackground\":true,\"ticks\":\"\",\"zerolinecolor\":\"white\"},\"yaxis\":{\"backgroundcolor\":\"#E5ECF6\",\"gridcolor\":\"white\",\"gridwidth\":2,\"linecolor\":\"white\",\"showbackground\":true,\"ticks\":\"\",\"zerolinecolor\":\"white\"},\"zaxis\":{\"backgroundcolor\":\"#E5ECF6\",\"gridcolor\":\"white\",\"gridwidth\":2,\"linecolor\":\"white\",\"showbackground\":true,\"ticks\":\"\",\"zerolinecolor\":\"white\"}},\"shapedefaults\":{\"line\":{\"color\":\"#2a3f5f\"}},\"ternary\":{\"aaxis\":{\"gridcolor\":\"white\",\"linecolor\":\"white\",\"ticks\":\"\"},\"baxis\":{\"gridcolor\":\"white\",\"linecolor\":\"white\",\"ticks\":\"\"},\"bgcolor\":\"#E5ECF6\",\"caxis\":{\"gridcolor\":\"white\",\"linecolor\":\"white\",\"ticks\":\"\"}},\"title\":{\"x\":0.05},\"xaxis\":{\"automargin\":true,\"gridcolor\":\"white\",\"linecolor\":\"white\",\"ticks\":\"\",\"title\":{\"standoff\":15},\"zerolinecolor\":\"white\",\"zerolinewidth\":2},\"yaxis\":{\"automargin\":true,\"gridcolor\":\"white\",\"linecolor\":\"white\",\"ticks\":\"\",\"title\":{\"standoff\":15},\"zerolinecolor\":\"white\",\"zerolinewidth\":2}}},\"annotations\":[{\"font\":{\"size\":16},\"showarrow\":false,\"text\":\"Escolas P\\u00fablicas\",\"x\":0.225,\"xanchor\":\"center\",\"xref\":\"paper\",\"y\":1.0,\"yanchor\":\"bottom\",\"yref\":\"paper\"},{\"font\":{\"size\":16},\"showarrow\":false,\"text\":\"Escolas Privadas\",\"x\":0.775,\"xanchor\":\"center\",\"xref\":\"paper\",\"y\":1.0,\"yanchor\":\"bottom\",\"yref\":\"paper\"}],\"font\":{\"size\":12},\"title\":{\"font\":{\"size\":22},\"text\":\"Na sua resid\\u00eancia tem quartos para dormir?\",\"x\":0.5},\"uniformtext\":{\"minsize\":14,\"mode\":\"hide\"}},                        {\"responsive\": true}                    ).then(function(){\n",
              "                            \n",
              "var gd = document.getElementById('ba62a5d0-626e-4b84-8b04-00d6d5001ad0');\n",
              "var x = new MutationObserver(function (mutations, observer) {{\n",
              "        var display = window.getComputedStyle(gd).display;\n",
              "        if (!display || display === 'none') {{\n",
              "            console.log([gd, 'removed!']);\n",
              "            Plotly.purge(gd);\n",
              "            observer.disconnect();\n",
              "        }}\n",
              "}});\n",
              "\n",
              "// Listen for the removal of the full notebook cells\n",
              "var notebookContainer = gd.closest('#notebook-container');\n",
              "if (notebookContainer) {{\n",
              "    x.observe(notebookContainer, {childList: true});\n",
              "}}\n",
              "\n",
              "// Listen for the clearing of the current output cell\n",
              "var outputEl = gd.closest('.output');\n",
              "if (outputEl) {{\n",
              "    x.observe(outputEl, {childList: true});\n",
              "}}\n",
              "\n",
              "                        })                };                            </script>        </div>\n",
              "</body>\n",
              "</html>"
            ]
          },
          "metadata": {}
        }
      ]
    },
    {
      "cell_type": "markdown",
      "source": [
        "É possível encontrar ainda residências de vestibulandos de escolas públicas com nenhum quarto."
      ],
      "metadata": {
        "id": "wwfvQk4JcG8x"
      }
    },
    {
      "cell_type": "code",
      "source": [
        "q012_pub = df_plot.query(\"TP_ESCOLA == 'publica'\")[\"Q012\"].value_counts()\n",
        "label_pub = q012_pub.index\n",
        "value_pub = q012_pub.values\n",
        "\n",
        "q012_priv = df_plot.query(\"TP_ESCOLA == 'privada'\")[\"Q012\"].value_counts()\n",
        "label_priv = q012_priv.index\n",
        "value_priv = q012_priv.values\n",
        "\n",
        "graph_q012 = make_subplots(rows=1, cols=2, specs=specs, subplot_titles=titles)\n",
        "\n",
        "graph_q012.add_trace(go.Pie(labels=label_pub, values=value_pub,\n",
        "                            marker_colors=tema), 1, 1)\n",
        "\n",
        "graph_q012.add_trace(go.Pie(labels=label_priv, values=value_priv), 1, 2)\n",
        "\n",
        "graph_q012.update_layout(font_size=12, title=dict(text=quest[\"Q012\"], x=0.5,\n",
        "                                                  font_size=22),\n",
        "                         uniformtext_minsize=14, uniformtext_mode=\"hide\")"
      ],
      "metadata": {
        "id": "kPoJdb1hiaS4",
        "execution": {
          "iopub.status.busy": "2022-10-10T12:22:06.551505Z",
          "iopub.execute_input": "2022-10-10T12:22:06.551888Z",
          "iopub.status.idle": "2022-10-10T12:22:06.590428Z",
          "shell.execute_reply.started": "2022-10-10T12:22:06.551858Z",
          "shell.execute_reply": "2022-10-10T12:22:06.589244Z"
        },
        "trusted": true,
        "colab": {
          "base_uri": "https://localhost:8080/",
          "height": 542
        },
        "outputId": "13d1ac00-27fa-4369-8d2f-8c4134570a0f"
      },
      "execution_count": 71,
      "outputs": [
        {
          "output_type": "display_data",
          "data": {
            "text/html": [
              "<html>\n",
              "<head><meta charset=\"utf-8\" /></head>\n",
              "<body>\n",
              "    <div>            <script src=\"https://cdnjs.cloudflare.com/ajax/libs/mathjax/2.7.5/MathJax.js?config=TeX-AMS-MML_SVG\"></script><script type=\"text/javascript\">if (window.MathJax) {MathJax.Hub.Config({SVG: {font: \"STIX-Web\"}});}</script>                <script type=\"text/javascript\">window.PlotlyConfig = {MathJaxConfig: 'local'};</script>\n",
              "        <script src=\"https://cdn.plot.ly/plotly-2.8.3.min.js\"></script>                <div id=\"11ab4f08-7588-4d69-a143-24c5c412a58d\" class=\"plotly-graph-div\" style=\"height:525px; width:100%;\"></div>            <script type=\"text/javascript\">                                    window.PLOTLYENV=window.PLOTLYENV || {};                                    if (document.getElementById(\"11ab4f08-7588-4d69-a143-24c5c412a58d\")) {                    Plotly.newPlot(                        \"11ab4f08-7588-4d69-a143-24c5c412a58d\",                        [{\"labels\":[\"Sim, uma\",\"N\\u00e3o\",\"Sim, duas\",\"Sim, tr\\u00eas\",\"Sim, quatro ou mais\"],\"marker\":{\"colors\":[\"#FD3216\",\"#00FE35\",\"#6A76FC\",\"#FED4C4\",\"#FE00CE\",\"#0DF9FF\",\"#F6F926\",\"#FF9616\",\"#479B55\",\"#EEA6FB\",\"#DC587D\",\"#D626FF\",\"#6E899C\",\"#00B5F7\",\"#B68E00\",\"#C9FBE5\",\"#FF0092\",\"#22FFA7\",\"#E3EE9E\",\"#86CE00\",\"#BC7196\",\"#7E7DCD\",\"#FC6955\",\"#E48F72\"]},\"values\":[2730,130,90,8,3],\"type\":\"pie\",\"domain\":{\"x\":[0.0,0.45],\"y\":[0.0,1.0]}},{\"labels\":[\"Sim, uma\",\"Sim, duas\",\"Sim, tr\\u00eas\",\"N\\u00e3o\",\"Sim, quatro ou mais\"],\"values\":[407,63,4,3,1],\"type\":\"pie\",\"domain\":{\"x\":[0.55,1.0],\"y\":[0.0,1.0]}}],                        {\"template\":{\"data\":{\"bar\":[{\"error_x\":{\"color\":\"#2a3f5f\"},\"error_y\":{\"color\":\"#2a3f5f\"},\"marker\":{\"line\":{\"color\":\"#E5ECF6\",\"width\":0.5},\"pattern\":{\"fillmode\":\"overlay\",\"size\":10,\"solidity\":0.2}},\"type\":\"bar\"}],\"barpolar\":[{\"marker\":{\"line\":{\"color\":\"#E5ECF6\",\"width\":0.5},\"pattern\":{\"fillmode\":\"overlay\",\"size\":10,\"solidity\":0.2}},\"type\":\"barpolar\"}],\"carpet\":[{\"aaxis\":{\"endlinecolor\":\"#2a3f5f\",\"gridcolor\":\"white\",\"linecolor\":\"white\",\"minorgridcolor\":\"white\",\"startlinecolor\":\"#2a3f5f\"},\"baxis\":{\"endlinecolor\":\"#2a3f5f\",\"gridcolor\":\"white\",\"linecolor\":\"white\",\"minorgridcolor\":\"white\",\"startlinecolor\":\"#2a3f5f\"},\"type\":\"carpet\"}],\"choropleth\":[{\"colorbar\":{\"outlinewidth\":0,\"ticks\":\"\"},\"type\":\"choropleth\"}],\"contour\":[{\"colorbar\":{\"outlinewidth\":0,\"ticks\":\"\"},\"colorscale\":[[0.0,\"#0d0887\"],[0.1111111111111111,\"#46039f\"],[0.2222222222222222,\"#7201a8\"],[0.3333333333333333,\"#9c179e\"],[0.4444444444444444,\"#bd3786\"],[0.5555555555555556,\"#d8576b\"],[0.6666666666666666,\"#ed7953\"],[0.7777777777777778,\"#fb9f3a\"],[0.8888888888888888,\"#fdca26\"],[1.0,\"#f0f921\"]],\"type\":\"contour\"}],\"contourcarpet\":[{\"colorbar\":{\"outlinewidth\":0,\"ticks\":\"\"},\"type\":\"contourcarpet\"}],\"heatmap\":[{\"colorbar\":{\"outlinewidth\":0,\"ticks\":\"\"},\"colorscale\":[[0.0,\"#0d0887\"],[0.1111111111111111,\"#46039f\"],[0.2222222222222222,\"#7201a8\"],[0.3333333333333333,\"#9c179e\"],[0.4444444444444444,\"#bd3786\"],[0.5555555555555556,\"#d8576b\"],[0.6666666666666666,\"#ed7953\"],[0.7777777777777778,\"#fb9f3a\"],[0.8888888888888888,\"#fdca26\"],[1.0,\"#f0f921\"]],\"type\":\"heatmap\"}],\"heatmapgl\":[{\"colorbar\":{\"outlinewidth\":0,\"ticks\":\"\"},\"colorscale\":[[0.0,\"#0d0887\"],[0.1111111111111111,\"#46039f\"],[0.2222222222222222,\"#7201a8\"],[0.3333333333333333,\"#9c179e\"],[0.4444444444444444,\"#bd3786\"],[0.5555555555555556,\"#d8576b\"],[0.6666666666666666,\"#ed7953\"],[0.7777777777777778,\"#fb9f3a\"],[0.8888888888888888,\"#fdca26\"],[1.0,\"#f0f921\"]],\"type\":\"heatmapgl\"}],\"histogram\":[{\"marker\":{\"pattern\":{\"fillmode\":\"overlay\",\"size\":10,\"solidity\":0.2}},\"type\":\"histogram\"}],\"histogram2d\":[{\"colorbar\":{\"outlinewidth\":0,\"ticks\":\"\"},\"colorscale\":[[0.0,\"#0d0887\"],[0.1111111111111111,\"#46039f\"],[0.2222222222222222,\"#7201a8\"],[0.3333333333333333,\"#9c179e\"],[0.4444444444444444,\"#bd3786\"],[0.5555555555555556,\"#d8576b\"],[0.6666666666666666,\"#ed7953\"],[0.7777777777777778,\"#fb9f3a\"],[0.8888888888888888,\"#fdca26\"],[1.0,\"#f0f921\"]],\"type\":\"histogram2d\"}],\"histogram2dcontour\":[{\"colorbar\":{\"outlinewidth\":0,\"ticks\":\"\"},\"colorscale\":[[0.0,\"#0d0887\"],[0.1111111111111111,\"#46039f\"],[0.2222222222222222,\"#7201a8\"],[0.3333333333333333,\"#9c179e\"],[0.4444444444444444,\"#bd3786\"],[0.5555555555555556,\"#d8576b\"],[0.6666666666666666,\"#ed7953\"],[0.7777777777777778,\"#fb9f3a\"],[0.8888888888888888,\"#fdca26\"],[1.0,\"#f0f921\"]],\"type\":\"histogram2dcontour\"}],\"mesh3d\":[{\"colorbar\":{\"outlinewidth\":0,\"ticks\":\"\"},\"type\":\"mesh3d\"}],\"parcoords\":[{\"line\":{\"colorbar\":{\"outlinewidth\":0,\"ticks\":\"\"}},\"type\":\"parcoords\"}],\"pie\":[{\"automargin\":true,\"type\":\"pie\"}],\"scatter\":[{\"marker\":{\"colorbar\":{\"outlinewidth\":0,\"ticks\":\"\"}},\"type\":\"scatter\"}],\"scatter3d\":[{\"line\":{\"colorbar\":{\"outlinewidth\":0,\"ticks\":\"\"}},\"marker\":{\"colorbar\":{\"outlinewidth\":0,\"ticks\":\"\"}},\"type\":\"scatter3d\"}],\"scattercarpet\":[{\"marker\":{\"colorbar\":{\"outlinewidth\":0,\"ticks\":\"\"}},\"type\":\"scattercarpet\"}],\"scattergeo\":[{\"marker\":{\"colorbar\":{\"outlinewidth\":0,\"ticks\":\"\"}},\"type\":\"scattergeo\"}],\"scattergl\":[{\"marker\":{\"colorbar\":{\"outlinewidth\":0,\"ticks\":\"\"}},\"type\":\"scattergl\"}],\"scattermapbox\":[{\"marker\":{\"colorbar\":{\"outlinewidth\":0,\"ticks\":\"\"}},\"type\":\"scattermapbox\"}],\"scatterpolar\":[{\"marker\":{\"colorbar\":{\"outlinewidth\":0,\"ticks\":\"\"}},\"type\":\"scatterpolar\"}],\"scatterpolargl\":[{\"marker\":{\"colorbar\":{\"outlinewidth\":0,\"ticks\":\"\"}},\"type\":\"scatterpolargl\"}],\"scatterternary\":[{\"marker\":{\"colorbar\":{\"outlinewidth\":0,\"ticks\":\"\"}},\"type\":\"scatterternary\"}],\"surface\":[{\"colorbar\":{\"outlinewidth\":0,\"ticks\":\"\"},\"colorscale\":[[0.0,\"#0d0887\"],[0.1111111111111111,\"#46039f\"],[0.2222222222222222,\"#7201a8\"],[0.3333333333333333,\"#9c179e\"],[0.4444444444444444,\"#bd3786\"],[0.5555555555555556,\"#d8576b\"],[0.6666666666666666,\"#ed7953\"],[0.7777777777777778,\"#fb9f3a\"],[0.8888888888888888,\"#fdca26\"],[1.0,\"#f0f921\"]],\"type\":\"surface\"}],\"table\":[{\"cells\":{\"fill\":{\"color\":\"#EBF0F8\"},\"line\":{\"color\":\"white\"}},\"header\":{\"fill\":{\"color\":\"#C8D4E3\"},\"line\":{\"color\":\"white\"}},\"type\":\"table\"}]},\"layout\":{\"annotationdefaults\":{\"arrowcolor\":\"#2a3f5f\",\"arrowhead\":0,\"arrowwidth\":1},\"autotypenumbers\":\"strict\",\"coloraxis\":{\"colorbar\":{\"outlinewidth\":0,\"ticks\":\"\"}},\"colorscale\":{\"diverging\":[[0,\"#8e0152\"],[0.1,\"#c51b7d\"],[0.2,\"#de77ae\"],[0.3,\"#f1b6da\"],[0.4,\"#fde0ef\"],[0.5,\"#f7f7f7\"],[0.6,\"#e6f5d0\"],[0.7,\"#b8e186\"],[0.8,\"#7fbc41\"],[0.9,\"#4d9221\"],[1,\"#276419\"]],\"sequential\":[[0.0,\"#0d0887\"],[0.1111111111111111,\"#46039f\"],[0.2222222222222222,\"#7201a8\"],[0.3333333333333333,\"#9c179e\"],[0.4444444444444444,\"#bd3786\"],[0.5555555555555556,\"#d8576b\"],[0.6666666666666666,\"#ed7953\"],[0.7777777777777778,\"#fb9f3a\"],[0.8888888888888888,\"#fdca26\"],[1.0,\"#f0f921\"]],\"sequentialminus\":[[0.0,\"#0d0887\"],[0.1111111111111111,\"#46039f\"],[0.2222222222222222,\"#7201a8\"],[0.3333333333333333,\"#9c179e\"],[0.4444444444444444,\"#bd3786\"],[0.5555555555555556,\"#d8576b\"],[0.6666666666666666,\"#ed7953\"],[0.7777777777777778,\"#fb9f3a\"],[0.8888888888888888,\"#fdca26\"],[1.0,\"#f0f921\"]]},\"colorway\":[\"#636efa\",\"#EF553B\",\"#00cc96\",\"#ab63fa\",\"#FFA15A\",\"#19d3f3\",\"#FF6692\",\"#B6E880\",\"#FF97FF\",\"#FECB52\"],\"font\":{\"color\":\"#2a3f5f\"},\"geo\":{\"bgcolor\":\"white\",\"lakecolor\":\"white\",\"landcolor\":\"#E5ECF6\",\"showlakes\":true,\"showland\":true,\"subunitcolor\":\"white\"},\"hoverlabel\":{\"align\":\"left\"},\"hovermode\":\"closest\",\"mapbox\":{\"style\":\"light\"},\"paper_bgcolor\":\"white\",\"plot_bgcolor\":\"#E5ECF6\",\"polar\":{\"angularaxis\":{\"gridcolor\":\"white\",\"linecolor\":\"white\",\"ticks\":\"\"},\"bgcolor\":\"#E5ECF6\",\"radialaxis\":{\"gridcolor\":\"white\",\"linecolor\":\"white\",\"ticks\":\"\"}},\"scene\":{\"xaxis\":{\"backgroundcolor\":\"#E5ECF6\",\"gridcolor\":\"white\",\"gridwidth\":2,\"linecolor\":\"white\",\"showbackground\":true,\"ticks\":\"\",\"zerolinecolor\":\"white\"},\"yaxis\":{\"backgroundcolor\":\"#E5ECF6\",\"gridcolor\":\"white\",\"gridwidth\":2,\"linecolor\":\"white\",\"showbackground\":true,\"ticks\":\"\",\"zerolinecolor\":\"white\"},\"zaxis\":{\"backgroundcolor\":\"#E5ECF6\",\"gridcolor\":\"white\",\"gridwidth\":2,\"linecolor\":\"white\",\"showbackground\":true,\"ticks\":\"\",\"zerolinecolor\":\"white\"}},\"shapedefaults\":{\"line\":{\"color\":\"#2a3f5f\"}},\"ternary\":{\"aaxis\":{\"gridcolor\":\"white\",\"linecolor\":\"white\",\"ticks\":\"\"},\"baxis\":{\"gridcolor\":\"white\",\"linecolor\":\"white\",\"ticks\":\"\"},\"bgcolor\":\"#E5ECF6\",\"caxis\":{\"gridcolor\":\"white\",\"linecolor\":\"white\",\"ticks\":\"\"}},\"title\":{\"x\":0.05},\"xaxis\":{\"automargin\":true,\"gridcolor\":\"white\",\"linecolor\":\"white\",\"ticks\":\"\",\"title\":{\"standoff\":15},\"zerolinecolor\":\"white\",\"zerolinewidth\":2},\"yaxis\":{\"automargin\":true,\"gridcolor\":\"white\",\"linecolor\":\"white\",\"ticks\":\"\",\"title\":{\"standoff\":15},\"zerolinecolor\":\"white\",\"zerolinewidth\":2}}},\"annotations\":[{\"font\":{\"size\":16},\"showarrow\":false,\"text\":\"Escolas P\\u00fablicas\",\"x\":0.225,\"xanchor\":\"center\",\"xref\":\"paper\",\"y\":1.0,\"yanchor\":\"bottom\",\"yref\":\"paper\"},{\"font\":{\"size\":16},\"showarrow\":false,\"text\":\"Escolas Privadas\",\"x\":0.775,\"xanchor\":\"center\",\"xref\":\"paper\",\"y\":1.0,\"yanchor\":\"bottom\",\"yref\":\"paper\"}],\"font\":{\"size\":12},\"title\":{\"font\":{\"size\":22},\"text\":\"Na sua resid\\u00eancia tem geladeira?\",\"x\":0.5},\"uniformtext\":{\"minsize\":14,\"mode\":\"hide\"}},                        {\"responsive\": true}                    ).then(function(){\n",
              "                            \n",
              "var gd = document.getElementById('11ab4f08-7588-4d69-a143-24c5c412a58d');\n",
              "var x = new MutationObserver(function (mutations, observer) {{\n",
              "        var display = window.getComputedStyle(gd).display;\n",
              "        if (!display || display === 'none') {{\n",
              "            console.log([gd, 'removed!']);\n",
              "            Plotly.purge(gd);\n",
              "            observer.disconnect();\n",
              "        }}\n",
              "}});\n",
              "\n",
              "// Listen for the removal of the full notebook cells\n",
              "var notebookContainer = gd.closest('#notebook-container');\n",
              "if (notebookContainer) {{\n",
              "    x.observe(notebookContainer, {childList: true});\n",
              "}}\n",
              "\n",
              "// Listen for the clearing of the current output cell\n",
              "var outputEl = gd.closest('.output');\n",
              "if (outputEl) {{\n",
              "    x.observe(outputEl, {childList: true});\n",
              "}}\n",
              "\n",
              "                        })                };                            </script>        </div>\n",
              "</body>\n",
              "</html>"
            ]
          },
          "metadata": {}
        }
      ]
    },
    {
      "cell_type": "markdown",
      "source": [
        "Para ambos, a predominância percentual de vestibulandos possui ao menos uma geladeira em sua residência. Ainda assim, um número relativamente grande (4,39%) dos vestibulandos de escolas públicas não possuem nenhuma."
      ],
      "metadata": {
        "id": "7k9Lsbd-cG8y"
      }
    },
    {
      "cell_type": "code",
      "source": [
        "q014_pub = df_plot.query(\"TP_ESCOLA == 'publica'\")[\"Q014\"].value_counts()\n",
        "label_pub = q014_pub.index\n",
        "value_pub = q014_pub.values\n",
        "\n",
        "q014_priv = df_plot.query(\"TP_ESCOLA == 'privada'\")[\"Q014\"].value_counts()\n",
        "label_priv = q014_priv.index\n",
        "value_priv = q014_priv.values\n",
        "\n",
        "graph_q014 = make_subplots(rows=1, cols=2, specs=specs, subplot_titles=titles)\n",
        "\n",
        "graph_q014.add_trace(go.Pie(labels=label_pub, values=value_pub,\n",
        "                            marker_colors=tema), 1, 1)\n",
        "\n",
        "graph_q014.add_trace(go.Pie(labels=label_priv, values=value_priv), 1, 2)\n",
        "\n",
        "graph_q014.update_layout(font_size=12, title=dict(text=quest[\"Q014\"], x=0.5,\n",
        "                                                  font_size=22),\n",
        "                         uniformtext_minsize=14, uniformtext_mode=\"hide\")"
      ],
      "metadata": {
        "id": "LaAD3vwfinRy",
        "execution": {
          "iopub.status.busy": "2022-10-10T12:22:06.591860Z",
          "iopub.execute_input": "2022-10-10T12:22:06.592678Z",
          "iopub.status.idle": "2022-10-10T12:22:06.631915Z",
          "shell.execute_reply.started": "2022-10-10T12:22:06.592642Z",
          "shell.execute_reply": "2022-10-10T12:22:06.630969Z"
        },
        "trusted": true,
        "colab": {
          "base_uri": "https://localhost:8080/",
          "height": 542
        },
        "outputId": "8dbb7456-0d1c-43eb-855d-8f19fd5a8fcc"
      },
      "execution_count": 72,
      "outputs": [
        {
          "output_type": "display_data",
          "data": {
            "text/html": [
              "<html>\n",
              "<head><meta charset=\"utf-8\" /></head>\n",
              "<body>\n",
              "    <div>            <script src=\"https://cdnjs.cloudflare.com/ajax/libs/mathjax/2.7.5/MathJax.js?config=TeX-AMS-MML_SVG\"></script><script type=\"text/javascript\">if (window.MathJax) {MathJax.Hub.Config({SVG: {font: \"STIX-Web\"}});}</script>                <script type=\"text/javascript\">window.PlotlyConfig = {MathJaxConfig: 'local'};</script>\n",
              "        <script src=\"https://cdn.plot.ly/plotly-2.8.3.min.js\"></script>                <div id=\"5b5da10e-3c55-4701-b26d-b97256ab8c4c\" class=\"plotly-graph-div\" style=\"height:525px; width:100%;\"></div>            <script type=\"text/javascript\">                                    window.PLOTLYENV=window.PLOTLYENV || {};                                    if (document.getElementById(\"5b5da10e-3c55-4701-b26d-b97256ab8c4c\")) {                    Plotly.newPlot(                        \"5b5da10e-3c55-4701-b26d-b97256ab8c4c\",                        [{\"labels\":[\"Sim, uma\",\"N\\u00e3o\",\"Sim, duas\",\"Sim, tr\\u00eas\"],\"marker\":{\"colors\":[\"#FD3216\",\"#00FE35\",\"#6A76FC\",\"#FED4C4\",\"#FE00CE\",\"#0DF9FF\",\"#F6F926\",\"#FF9616\",\"#479B55\",\"#EEA6FB\",\"#DC587D\",\"#D626FF\",\"#6E899C\",\"#00B5F7\",\"#B68E00\",\"#C9FBE5\",\"#FF0092\",\"#22FFA7\",\"#E3EE9E\",\"#86CE00\",\"#BC7196\",\"#7E7DCD\",\"#FC6955\",\"#E48F72\"]},\"values\":[2155,745,60,1],\"type\":\"pie\",\"domain\":{\"x\":[0.0,0.45],\"y\":[0.0,1.0]}},{\"labels\":[\"Sim, uma\",\"N\\u00e3o\",\"Sim, duas\"],\"values\":[426,30,22],\"type\":\"pie\",\"domain\":{\"x\":[0.55,1.0],\"y\":[0.0,1.0]}}],                        {\"template\":{\"data\":{\"bar\":[{\"error_x\":{\"color\":\"#2a3f5f\"},\"error_y\":{\"color\":\"#2a3f5f\"},\"marker\":{\"line\":{\"color\":\"#E5ECF6\",\"width\":0.5},\"pattern\":{\"fillmode\":\"overlay\",\"size\":10,\"solidity\":0.2}},\"type\":\"bar\"}],\"barpolar\":[{\"marker\":{\"line\":{\"color\":\"#E5ECF6\",\"width\":0.5},\"pattern\":{\"fillmode\":\"overlay\",\"size\":10,\"solidity\":0.2}},\"type\":\"barpolar\"}],\"carpet\":[{\"aaxis\":{\"endlinecolor\":\"#2a3f5f\",\"gridcolor\":\"white\",\"linecolor\":\"white\",\"minorgridcolor\":\"white\",\"startlinecolor\":\"#2a3f5f\"},\"baxis\":{\"endlinecolor\":\"#2a3f5f\",\"gridcolor\":\"white\",\"linecolor\":\"white\",\"minorgridcolor\":\"white\",\"startlinecolor\":\"#2a3f5f\"},\"type\":\"carpet\"}],\"choropleth\":[{\"colorbar\":{\"outlinewidth\":0,\"ticks\":\"\"},\"type\":\"choropleth\"}],\"contour\":[{\"colorbar\":{\"outlinewidth\":0,\"ticks\":\"\"},\"colorscale\":[[0.0,\"#0d0887\"],[0.1111111111111111,\"#46039f\"],[0.2222222222222222,\"#7201a8\"],[0.3333333333333333,\"#9c179e\"],[0.4444444444444444,\"#bd3786\"],[0.5555555555555556,\"#d8576b\"],[0.6666666666666666,\"#ed7953\"],[0.7777777777777778,\"#fb9f3a\"],[0.8888888888888888,\"#fdca26\"],[1.0,\"#f0f921\"]],\"type\":\"contour\"}],\"contourcarpet\":[{\"colorbar\":{\"outlinewidth\":0,\"ticks\":\"\"},\"type\":\"contourcarpet\"}],\"heatmap\":[{\"colorbar\":{\"outlinewidth\":0,\"ticks\":\"\"},\"colorscale\":[[0.0,\"#0d0887\"],[0.1111111111111111,\"#46039f\"],[0.2222222222222222,\"#7201a8\"],[0.3333333333333333,\"#9c179e\"],[0.4444444444444444,\"#bd3786\"],[0.5555555555555556,\"#d8576b\"],[0.6666666666666666,\"#ed7953\"],[0.7777777777777778,\"#fb9f3a\"],[0.8888888888888888,\"#fdca26\"],[1.0,\"#f0f921\"]],\"type\":\"heatmap\"}],\"heatmapgl\":[{\"colorbar\":{\"outlinewidth\":0,\"ticks\":\"\"},\"colorscale\":[[0.0,\"#0d0887\"],[0.1111111111111111,\"#46039f\"],[0.2222222222222222,\"#7201a8\"],[0.3333333333333333,\"#9c179e\"],[0.4444444444444444,\"#bd3786\"],[0.5555555555555556,\"#d8576b\"],[0.6666666666666666,\"#ed7953\"],[0.7777777777777778,\"#fb9f3a\"],[0.8888888888888888,\"#fdca26\"],[1.0,\"#f0f921\"]],\"type\":\"heatmapgl\"}],\"histogram\":[{\"marker\":{\"pattern\":{\"fillmode\":\"overlay\",\"size\":10,\"solidity\":0.2}},\"type\":\"histogram\"}],\"histogram2d\":[{\"colorbar\":{\"outlinewidth\":0,\"ticks\":\"\"},\"colorscale\":[[0.0,\"#0d0887\"],[0.1111111111111111,\"#46039f\"],[0.2222222222222222,\"#7201a8\"],[0.3333333333333333,\"#9c179e\"],[0.4444444444444444,\"#bd3786\"],[0.5555555555555556,\"#d8576b\"],[0.6666666666666666,\"#ed7953\"],[0.7777777777777778,\"#fb9f3a\"],[0.8888888888888888,\"#fdca26\"],[1.0,\"#f0f921\"]],\"type\":\"histogram2d\"}],\"histogram2dcontour\":[{\"colorbar\":{\"outlinewidth\":0,\"ticks\":\"\"},\"colorscale\":[[0.0,\"#0d0887\"],[0.1111111111111111,\"#46039f\"],[0.2222222222222222,\"#7201a8\"],[0.3333333333333333,\"#9c179e\"],[0.4444444444444444,\"#bd3786\"],[0.5555555555555556,\"#d8576b\"],[0.6666666666666666,\"#ed7953\"],[0.7777777777777778,\"#fb9f3a\"],[0.8888888888888888,\"#fdca26\"],[1.0,\"#f0f921\"]],\"type\":\"histogram2dcontour\"}],\"mesh3d\":[{\"colorbar\":{\"outlinewidth\":0,\"ticks\":\"\"},\"type\":\"mesh3d\"}],\"parcoords\":[{\"line\":{\"colorbar\":{\"outlinewidth\":0,\"ticks\":\"\"}},\"type\":\"parcoords\"}],\"pie\":[{\"automargin\":true,\"type\":\"pie\"}],\"scatter\":[{\"marker\":{\"colorbar\":{\"outlinewidth\":0,\"ticks\":\"\"}},\"type\":\"scatter\"}],\"scatter3d\":[{\"line\":{\"colorbar\":{\"outlinewidth\":0,\"ticks\":\"\"}},\"marker\":{\"colorbar\":{\"outlinewidth\":0,\"ticks\":\"\"}},\"type\":\"scatter3d\"}],\"scattercarpet\":[{\"marker\":{\"colorbar\":{\"outlinewidth\":0,\"ticks\":\"\"}},\"type\":\"scattercarpet\"}],\"scattergeo\":[{\"marker\":{\"colorbar\":{\"outlinewidth\":0,\"ticks\":\"\"}},\"type\":\"scattergeo\"}],\"scattergl\":[{\"marker\":{\"colorbar\":{\"outlinewidth\":0,\"ticks\":\"\"}},\"type\":\"scattergl\"}],\"scattermapbox\":[{\"marker\":{\"colorbar\":{\"outlinewidth\":0,\"ticks\":\"\"}},\"type\":\"scattermapbox\"}],\"scatterpolar\":[{\"marker\":{\"colorbar\":{\"outlinewidth\":0,\"ticks\":\"\"}},\"type\":\"scatterpolar\"}],\"scatterpolargl\":[{\"marker\":{\"colorbar\":{\"outlinewidth\":0,\"ticks\":\"\"}},\"type\":\"scatterpolargl\"}],\"scatterternary\":[{\"marker\":{\"colorbar\":{\"outlinewidth\":0,\"ticks\":\"\"}},\"type\":\"scatterternary\"}],\"surface\":[{\"colorbar\":{\"outlinewidth\":0,\"ticks\":\"\"},\"colorscale\":[[0.0,\"#0d0887\"],[0.1111111111111111,\"#46039f\"],[0.2222222222222222,\"#7201a8\"],[0.3333333333333333,\"#9c179e\"],[0.4444444444444444,\"#bd3786\"],[0.5555555555555556,\"#d8576b\"],[0.6666666666666666,\"#ed7953\"],[0.7777777777777778,\"#fb9f3a\"],[0.8888888888888888,\"#fdca26\"],[1.0,\"#f0f921\"]],\"type\":\"surface\"}],\"table\":[{\"cells\":{\"fill\":{\"color\":\"#EBF0F8\"},\"line\":{\"color\":\"white\"}},\"header\":{\"fill\":{\"color\":\"#C8D4E3\"},\"line\":{\"color\":\"white\"}},\"type\":\"table\"}]},\"layout\":{\"annotationdefaults\":{\"arrowcolor\":\"#2a3f5f\",\"arrowhead\":0,\"arrowwidth\":1},\"autotypenumbers\":\"strict\",\"coloraxis\":{\"colorbar\":{\"outlinewidth\":0,\"ticks\":\"\"}},\"colorscale\":{\"diverging\":[[0,\"#8e0152\"],[0.1,\"#c51b7d\"],[0.2,\"#de77ae\"],[0.3,\"#f1b6da\"],[0.4,\"#fde0ef\"],[0.5,\"#f7f7f7\"],[0.6,\"#e6f5d0\"],[0.7,\"#b8e186\"],[0.8,\"#7fbc41\"],[0.9,\"#4d9221\"],[1,\"#276419\"]],\"sequential\":[[0.0,\"#0d0887\"],[0.1111111111111111,\"#46039f\"],[0.2222222222222222,\"#7201a8\"],[0.3333333333333333,\"#9c179e\"],[0.4444444444444444,\"#bd3786\"],[0.5555555555555556,\"#d8576b\"],[0.6666666666666666,\"#ed7953\"],[0.7777777777777778,\"#fb9f3a\"],[0.8888888888888888,\"#fdca26\"],[1.0,\"#f0f921\"]],\"sequentialminus\":[[0.0,\"#0d0887\"],[0.1111111111111111,\"#46039f\"],[0.2222222222222222,\"#7201a8\"],[0.3333333333333333,\"#9c179e\"],[0.4444444444444444,\"#bd3786\"],[0.5555555555555556,\"#d8576b\"],[0.6666666666666666,\"#ed7953\"],[0.7777777777777778,\"#fb9f3a\"],[0.8888888888888888,\"#fdca26\"],[1.0,\"#f0f921\"]]},\"colorway\":[\"#636efa\",\"#EF553B\",\"#00cc96\",\"#ab63fa\",\"#FFA15A\",\"#19d3f3\",\"#FF6692\",\"#B6E880\",\"#FF97FF\",\"#FECB52\"],\"font\":{\"color\":\"#2a3f5f\"},\"geo\":{\"bgcolor\":\"white\",\"lakecolor\":\"white\",\"landcolor\":\"#E5ECF6\",\"showlakes\":true,\"showland\":true,\"subunitcolor\":\"white\"},\"hoverlabel\":{\"align\":\"left\"},\"hovermode\":\"closest\",\"mapbox\":{\"style\":\"light\"},\"paper_bgcolor\":\"white\",\"plot_bgcolor\":\"#E5ECF6\",\"polar\":{\"angularaxis\":{\"gridcolor\":\"white\",\"linecolor\":\"white\",\"ticks\":\"\"},\"bgcolor\":\"#E5ECF6\",\"radialaxis\":{\"gridcolor\":\"white\",\"linecolor\":\"white\",\"ticks\":\"\"}},\"scene\":{\"xaxis\":{\"backgroundcolor\":\"#E5ECF6\",\"gridcolor\":\"white\",\"gridwidth\":2,\"linecolor\":\"white\",\"showbackground\":true,\"ticks\":\"\",\"zerolinecolor\":\"white\"},\"yaxis\":{\"backgroundcolor\":\"#E5ECF6\",\"gridcolor\":\"white\",\"gridwidth\":2,\"linecolor\":\"white\",\"showbackground\":true,\"ticks\":\"\",\"zerolinecolor\":\"white\"},\"zaxis\":{\"backgroundcolor\":\"#E5ECF6\",\"gridcolor\":\"white\",\"gridwidth\":2,\"linecolor\":\"white\",\"showbackground\":true,\"ticks\":\"\",\"zerolinecolor\":\"white\"}},\"shapedefaults\":{\"line\":{\"color\":\"#2a3f5f\"}},\"ternary\":{\"aaxis\":{\"gridcolor\":\"white\",\"linecolor\":\"white\",\"ticks\":\"\"},\"baxis\":{\"gridcolor\":\"white\",\"linecolor\":\"white\",\"ticks\":\"\"},\"bgcolor\":\"#E5ECF6\",\"caxis\":{\"gridcolor\":\"white\",\"linecolor\":\"white\",\"ticks\":\"\"}},\"title\":{\"x\":0.05},\"xaxis\":{\"automargin\":true,\"gridcolor\":\"white\",\"linecolor\":\"white\",\"ticks\":\"\",\"title\":{\"standoff\":15},\"zerolinecolor\":\"white\",\"zerolinewidth\":2},\"yaxis\":{\"automargin\":true,\"gridcolor\":\"white\",\"linecolor\":\"white\",\"ticks\":\"\",\"title\":{\"standoff\":15},\"zerolinecolor\":\"white\",\"zerolinewidth\":2}}},\"annotations\":[{\"font\":{\"size\":16},\"showarrow\":false,\"text\":\"Escolas P\\u00fablicas\",\"x\":0.225,\"xanchor\":\"center\",\"xref\":\"paper\",\"y\":1.0,\"yanchor\":\"bottom\",\"yref\":\"paper\"},{\"font\":{\"size\":16},\"showarrow\":false,\"text\":\"Escolas Privadas\",\"x\":0.775,\"xanchor\":\"center\",\"xref\":\"paper\",\"y\":1.0,\"yanchor\":\"bottom\",\"yref\":\"paper\"}],\"font\":{\"size\":12},\"title\":{\"font\":{\"size\":22},\"text\":\"Na sua resid\\u00eancia tem m\\u00e1quina de lavar roupa? (o tanquinho N\\u00c3O deve ser considerado)\",\"x\":0.5},\"uniformtext\":{\"minsize\":14,\"mode\":\"hide\"}},                        {\"responsive\": true}                    ).then(function(){\n",
              "                            \n",
              "var gd = document.getElementById('5b5da10e-3c55-4701-b26d-b97256ab8c4c');\n",
              "var x = new MutationObserver(function (mutations, observer) {{\n",
              "        var display = window.getComputedStyle(gd).display;\n",
              "        if (!display || display === 'none') {{\n",
              "            console.log([gd, 'removed!']);\n",
              "            Plotly.purge(gd);\n",
              "            observer.disconnect();\n",
              "        }}\n",
              "}});\n",
              "\n",
              "// Listen for the removal of the full notebook cells\n",
              "var notebookContainer = gd.closest('#notebook-container');\n",
              "if (notebookContainer) {{\n",
              "    x.observe(notebookContainer, {childList: true});\n",
              "}}\n",
              "\n",
              "// Listen for the clearing of the current output cell\n",
              "var outputEl = gd.closest('.output');\n",
              "if (outputEl) {{\n",
              "    x.observe(outputEl, {childList: true});\n",
              "}}\n",
              "\n",
              "                        })                };                            </script>        </div>\n",
              "</body>\n",
              "</html>"
            ]
          },
          "metadata": {}
        }
      ]
    },
    {
      "cell_type": "code",
      "source": [
        "q019_pub = df_plot.query(\"TP_ESCOLA == 'publica'\")[\"Q019\"].value_counts()\n",
        "label_pub = q019_pub.index\n",
        "value_pub = q019_pub.values\n",
        "\n",
        "q019_priv = df_plot.query(\"TP_ESCOLA == 'privada'\")[\"Q019\"].value_counts()\n",
        "label_priv = q019_priv.index\n",
        "value_priv = q019_priv.values\n",
        "\n",
        "graph_q019 = make_subplots(rows=1, cols=2, specs=specs, subplot_titles=titles)\n",
        "\n",
        "graph_q019.add_trace(go.Pie(labels=label_pub, values=value_pub,\n",
        "                            marker_colors=tema), 1, 1)\n",
        "\n",
        "graph_q019.add_trace(go.Pie(labels=label_priv, values=value_priv), 1, 2)\n",
        "\n",
        "graph_q019.update_layout(font_size=12, title=dict(text=quest[\"Q019\"], x=0.5,\n",
        "                                                  font_size=22),\n",
        "                         uniformtext_minsize=14, uniformtext_mode=\"hide\")"
      ],
      "metadata": {
        "id": "JJW4d4iDiwRC",
        "execution": {
          "iopub.status.busy": "2022-10-10T12:22:06.633316Z",
          "iopub.execute_input": "2022-10-10T12:22:06.633728Z",
          "iopub.status.idle": "2022-10-10T12:22:06.674870Z",
          "shell.execute_reply.started": "2022-10-10T12:22:06.633695Z",
          "shell.execute_reply": "2022-10-10T12:22:06.673842Z"
        },
        "trusted": true,
        "colab": {
          "base_uri": "https://localhost:8080/",
          "height": 542
        },
        "outputId": "77af6372-47dd-41f2-a570-61df99aa60fa"
      },
      "execution_count": 73,
      "outputs": [
        {
          "output_type": "display_data",
          "data": {
            "text/html": [
              "<html>\n",
              "<head><meta charset=\"utf-8\" /></head>\n",
              "<body>\n",
              "    <div>            <script src=\"https://cdnjs.cloudflare.com/ajax/libs/mathjax/2.7.5/MathJax.js?config=TeX-AMS-MML_SVG\"></script><script type=\"text/javascript\">if (window.MathJax) {MathJax.Hub.Config({SVG: {font: \"STIX-Web\"}});}</script>                <script type=\"text/javascript\">window.PlotlyConfig = {MathJaxConfig: 'local'};</script>\n",
              "        <script src=\"https://cdn.plot.ly/plotly-2.8.3.min.js\"></script>                <div id=\"4cfd2922-715d-4568-ac66-98ad2cdc075a\" class=\"plotly-graph-div\" style=\"height:525px; width:100%;\"></div>            <script type=\"text/javascript\">                                    window.PLOTLYENV=window.PLOTLYENV || {};                                    if (document.getElementById(\"4cfd2922-715d-4568-ac66-98ad2cdc075a\")) {                    Plotly.newPlot(                        \"4cfd2922-715d-4568-ac66-98ad2cdc075a\",                        [{\"labels\":[\"Sim, uma\",\"Sim, duas\",\"N\\u00e3o\",\"Sim, tr\\u00eas\",\"Sim, quatro ou mais\"],\"marker\":{\"colors\":[\"#FD3216\",\"#00FE35\",\"#6A76FC\",\"#FED4C4\",\"#FE00CE\",\"#0DF9FF\",\"#F6F926\",\"#FF9616\",\"#479B55\",\"#EEA6FB\",\"#DC587D\",\"#D626FF\",\"#6E899C\",\"#00B5F7\",\"#B68E00\",\"#C9FBE5\",\"#FF0092\",\"#22FFA7\",\"#E3EE9E\",\"#86CE00\",\"#BC7196\",\"#7E7DCD\",\"#FC6955\",\"#E48F72\"]},\"values\":[2020,559,181,149,52],\"type\":\"pie\",\"domain\":{\"x\":[0.0,0.45],\"y\":[0.0,1.0]}},{\"labels\":[\"Sim, duas\",\"Sim, uma\",\"Sim, tr\\u00eas\",\"Sim, quatro ou mais\",\"N\\u00e3o\"],\"values\":[146,125,118,85,4],\"type\":\"pie\",\"domain\":{\"x\":[0.55,1.0],\"y\":[0.0,1.0]}}],                        {\"template\":{\"data\":{\"bar\":[{\"error_x\":{\"color\":\"#2a3f5f\"},\"error_y\":{\"color\":\"#2a3f5f\"},\"marker\":{\"line\":{\"color\":\"#E5ECF6\",\"width\":0.5},\"pattern\":{\"fillmode\":\"overlay\",\"size\":10,\"solidity\":0.2}},\"type\":\"bar\"}],\"barpolar\":[{\"marker\":{\"line\":{\"color\":\"#E5ECF6\",\"width\":0.5},\"pattern\":{\"fillmode\":\"overlay\",\"size\":10,\"solidity\":0.2}},\"type\":\"barpolar\"}],\"carpet\":[{\"aaxis\":{\"endlinecolor\":\"#2a3f5f\",\"gridcolor\":\"white\",\"linecolor\":\"white\",\"minorgridcolor\":\"white\",\"startlinecolor\":\"#2a3f5f\"},\"baxis\":{\"endlinecolor\":\"#2a3f5f\",\"gridcolor\":\"white\",\"linecolor\":\"white\",\"minorgridcolor\":\"white\",\"startlinecolor\":\"#2a3f5f\"},\"type\":\"carpet\"}],\"choropleth\":[{\"colorbar\":{\"outlinewidth\":0,\"ticks\":\"\"},\"type\":\"choropleth\"}],\"contour\":[{\"colorbar\":{\"outlinewidth\":0,\"ticks\":\"\"},\"colorscale\":[[0.0,\"#0d0887\"],[0.1111111111111111,\"#46039f\"],[0.2222222222222222,\"#7201a8\"],[0.3333333333333333,\"#9c179e\"],[0.4444444444444444,\"#bd3786\"],[0.5555555555555556,\"#d8576b\"],[0.6666666666666666,\"#ed7953\"],[0.7777777777777778,\"#fb9f3a\"],[0.8888888888888888,\"#fdca26\"],[1.0,\"#f0f921\"]],\"type\":\"contour\"}],\"contourcarpet\":[{\"colorbar\":{\"outlinewidth\":0,\"ticks\":\"\"},\"type\":\"contourcarpet\"}],\"heatmap\":[{\"colorbar\":{\"outlinewidth\":0,\"ticks\":\"\"},\"colorscale\":[[0.0,\"#0d0887\"],[0.1111111111111111,\"#46039f\"],[0.2222222222222222,\"#7201a8\"],[0.3333333333333333,\"#9c179e\"],[0.4444444444444444,\"#bd3786\"],[0.5555555555555556,\"#d8576b\"],[0.6666666666666666,\"#ed7953\"],[0.7777777777777778,\"#fb9f3a\"],[0.8888888888888888,\"#fdca26\"],[1.0,\"#f0f921\"]],\"type\":\"heatmap\"}],\"heatmapgl\":[{\"colorbar\":{\"outlinewidth\":0,\"ticks\":\"\"},\"colorscale\":[[0.0,\"#0d0887\"],[0.1111111111111111,\"#46039f\"],[0.2222222222222222,\"#7201a8\"],[0.3333333333333333,\"#9c179e\"],[0.4444444444444444,\"#bd3786\"],[0.5555555555555556,\"#d8576b\"],[0.6666666666666666,\"#ed7953\"],[0.7777777777777778,\"#fb9f3a\"],[0.8888888888888888,\"#fdca26\"],[1.0,\"#f0f921\"]],\"type\":\"heatmapgl\"}],\"histogram\":[{\"marker\":{\"pattern\":{\"fillmode\":\"overlay\",\"size\":10,\"solidity\":0.2}},\"type\":\"histogram\"}],\"histogram2d\":[{\"colorbar\":{\"outlinewidth\":0,\"ticks\":\"\"},\"colorscale\":[[0.0,\"#0d0887\"],[0.1111111111111111,\"#46039f\"],[0.2222222222222222,\"#7201a8\"],[0.3333333333333333,\"#9c179e\"],[0.4444444444444444,\"#bd3786\"],[0.5555555555555556,\"#d8576b\"],[0.6666666666666666,\"#ed7953\"],[0.7777777777777778,\"#fb9f3a\"],[0.8888888888888888,\"#fdca26\"],[1.0,\"#f0f921\"]],\"type\":\"histogram2d\"}],\"histogram2dcontour\":[{\"colorbar\":{\"outlinewidth\":0,\"ticks\":\"\"},\"colorscale\":[[0.0,\"#0d0887\"],[0.1111111111111111,\"#46039f\"],[0.2222222222222222,\"#7201a8\"],[0.3333333333333333,\"#9c179e\"],[0.4444444444444444,\"#bd3786\"],[0.5555555555555556,\"#d8576b\"],[0.6666666666666666,\"#ed7953\"],[0.7777777777777778,\"#fb9f3a\"],[0.8888888888888888,\"#fdca26\"],[1.0,\"#f0f921\"]],\"type\":\"histogram2dcontour\"}],\"mesh3d\":[{\"colorbar\":{\"outlinewidth\":0,\"ticks\":\"\"},\"type\":\"mesh3d\"}],\"parcoords\":[{\"line\":{\"colorbar\":{\"outlinewidth\":0,\"ticks\":\"\"}},\"type\":\"parcoords\"}],\"pie\":[{\"automargin\":true,\"type\":\"pie\"}],\"scatter\":[{\"marker\":{\"colorbar\":{\"outlinewidth\":0,\"ticks\":\"\"}},\"type\":\"scatter\"}],\"scatter3d\":[{\"line\":{\"colorbar\":{\"outlinewidth\":0,\"ticks\":\"\"}},\"marker\":{\"colorbar\":{\"outlinewidth\":0,\"ticks\":\"\"}},\"type\":\"scatter3d\"}],\"scattercarpet\":[{\"marker\":{\"colorbar\":{\"outlinewidth\":0,\"ticks\":\"\"}},\"type\":\"scattercarpet\"}],\"scattergeo\":[{\"marker\":{\"colorbar\":{\"outlinewidth\":0,\"ticks\":\"\"}},\"type\":\"scattergeo\"}],\"scattergl\":[{\"marker\":{\"colorbar\":{\"outlinewidth\":0,\"ticks\":\"\"}},\"type\":\"scattergl\"}],\"scattermapbox\":[{\"marker\":{\"colorbar\":{\"outlinewidth\":0,\"ticks\":\"\"}},\"type\":\"scattermapbox\"}],\"scatterpolar\":[{\"marker\":{\"colorbar\":{\"outlinewidth\":0,\"ticks\":\"\"}},\"type\":\"scatterpolar\"}],\"scatterpolargl\":[{\"marker\":{\"colorbar\":{\"outlinewidth\":0,\"ticks\":\"\"}},\"type\":\"scatterpolargl\"}],\"scatterternary\":[{\"marker\":{\"colorbar\":{\"outlinewidth\":0,\"ticks\":\"\"}},\"type\":\"scatterternary\"}],\"surface\":[{\"colorbar\":{\"outlinewidth\":0,\"ticks\":\"\"},\"colorscale\":[[0.0,\"#0d0887\"],[0.1111111111111111,\"#46039f\"],[0.2222222222222222,\"#7201a8\"],[0.3333333333333333,\"#9c179e\"],[0.4444444444444444,\"#bd3786\"],[0.5555555555555556,\"#d8576b\"],[0.6666666666666666,\"#ed7953\"],[0.7777777777777778,\"#fb9f3a\"],[0.8888888888888888,\"#fdca26\"],[1.0,\"#f0f921\"]],\"type\":\"surface\"}],\"table\":[{\"cells\":{\"fill\":{\"color\":\"#EBF0F8\"},\"line\":{\"color\":\"white\"}},\"header\":{\"fill\":{\"color\":\"#C8D4E3\"},\"line\":{\"color\":\"white\"}},\"type\":\"table\"}]},\"layout\":{\"annotationdefaults\":{\"arrowcolor\":\"#2a3f5f\",\"arrowhead\":0,\"arrowwidth\":1},\"autotypenumbers\":\"strict\",\"coloraxis\":{\"colorbar\":{\"outlinewidth\":0,\"ticks\":\"\"}},\"colorscale\":{\"diverging\":[[0,\"#8e0152\"],[0.1,\"#c51b7d\"],[0.2,\"#de77ae\"],[0.3,\"#f1b6da\"],[0.4,\"#fde0ef\"],[0.5,\"#f7f7f7\"],[0.6,\"#e6f5d0\"],[0.7,\"#b8e186\"],[0.8,\"#7fbc41\"],[0.9,\"#4d9221\"],[1,\"#276419\"]],\"sequential\":[[0.0,\"#0d0887\"],[0.1111111111111111,\"#46039f\"],[0.2222222222222222,\"#7201a8\"],[0.3333333333333333,\"#9c179e\"],[0.4444444444444444,\"#bd3786\"],[0.5555555555555556,\"#d8576b\"],[0.6666666666666666,\"#ed7953\"],[0.7777777777777778,\"#fb9f3a\"],[0.8888888888888888,\"#fdca26\"],[1.0,\"#f0f921\"]],\"sequentialminus\":[[0.0,\"#0d0887\"],[0.1111111111111111,\"#46039f\"],[0.2222222222222222,\"#7201a8\"],[0.3333333333333333,\"#9c179e\"],[0.4444444444444444,\"#bd3786\"],[0.5555555555555556,\"#d8576b\"],[0.6666666666666666,\"#ed7953\"],[0.7777777777777778,\"#fb9f3a\"],[0.8888888888888888,\"#fdca26\"],[1.0,\"#f0f921\"]]},\"colorway\":[\"#636efa\",\"#EF553B\",\"#00cc96\",\"#ab63fa\",\"#FFA15A\",\"#19d3f3\",\"#FF6692\",\"#B6E880\",\"#FF97FF\",\"#FECB52\"],\"font\":{\"color\":\"#2a3f5f\"},\"geo\":{\"bgcolor\":\"white\",\"lakecolor\":\"white\",\"landcolor\":\"#E5ECF6\",\"showlakes\":true,\"showland\":true,\"subunitcolor\":\"white\"},\"hoverlabel\":{\"align\":\"left\"},\"hovermode\":\"closest\",\"mapbox\":{\"style\":\"light\"},\"paper_bgcolor\":\"white\",\"plot_bgcolor\":\"#E5ECF6\",\"polar\":{\"angularaxis\":{\"gridcolor\":\"white\",\"linecolor\":\"white\",\"ticks\":\"\"},\"bgcolor\":\"#E5ECF6\",\"radialaxis\":{\"gridcolor\":\"white\",\"linecolor\":\"white\",\"ticks\":\"\"}},\"scene\":{\"xaxis\":{\"backgroundcolor\":\"#E5ECF6\",\"gridcolor\":\"white\",\"gridwidth\":2,\"linecolor\":\"white\",\"showbackground\":true,\"ticks\":\"\",\"zerolinecolor\":\"white\"},\"yaxis\":{\"backgroundcolor\":\"#E5ECF6\",\"gridcolor\":\"white\",\"gridwidth\":2,\"linecolor\":\"white\",\"showbackground\":true,\"ticks\":\"\",\"zerolinecolor\":\"white\"},\"zaxis\":{\"backgroundcolor\":\"#E5ECF6\",\"gridcolor\":\"white\",\"gridwidth\":2,\"linecolor\":\"white\",\"showbackground\":true,\"ticks\":\"\",\"zerolinecolor\":\"white\"}},\"shapedefaults\":{\"line\":{\"color\":\"#2a3f5f\"}},\"ternary\":{\"aaxis\":{\"gridcolor\":\"white\",\"linecolor\":\"white\",\"ticks\":\"\"},\"baxis\":{\"gridcolor\":\"white\",\"linecolor\":\"white\",\"ticks\":\"\"},\"bgcolor\":\"#E5ECF6\",\"caxis\":{\"gridcolor\":\"white\",\"linecolor\":\"white\",\"ticks\":\"\"}},\"title\":{\"x\":0.05},\"xaxis\":{\"automargin\":true,\"gridcolor\":\"white\",\"linecolor\":\"white\",\"ticks\":\"\",\"title\":{\"standoff\":15},\"zerolinecolor\":\"white\",\"zerolinewidth\":2},\"yaxis\":{\"automargin\":true,\"gridcolor\":\"white\",\"linecolor\":\"white\",\"ticks\":\"\",\"title\":{\"standoff\":15},\"zerolinecolor\":\"white\",\"zerolinewidth\":2}}},\"annotations\":[{\"font\":{\"size\":16},\"showarrow\":false,\"text\":\"Escolas P\\u00fablicas\",\"x\":0.225,\"xanchor\":\"center\",\"xref\":\"paper\",\"y\":1.0,\"yanchor\":\"bottom\",\"yref\":\"paper\"},{\"font\":{\"size\":16},\"showarrow\":false,\"text\":\"Escolas Privadas\",\"x\":0.775,\"xanchor\":\"center\",\"xref\":\"paper\",\"y\":1.0,\"yanchor\":\"bottom\",\"yref\":\"paper\"}],\"font\":{\"size\":12},\"title\":{\"font\":{\"size\":22},\"text\":\"Na sua resid\\u00eancia tem televis\\u00e3o em cores?\",\"x\":0.5},\"uniformtext\":{\"minsize\":14,\"mode\":\"hide\"}},                        {\"responsive\": true}                    ).then(function(){\n",
              "                            \n",
              "var gd = document.getElementById('4cfd2922-715d-4568-ac66-98ad2cdc075a');\n",
              "var x = new MutationObserver(function (mutations, observer) {{\n",
              "        var display = window.getComputedStyle(gd).display;\n",
              "        if (!display || display === 'none') {{\n",
              "            console.log([gd, 'removed!']);\n",
              "            Plotly.purge(gd);\n",
              "            observer.disconnect();\n",
              "        }}\n",
              "}});\n",
              "\n",
              "// Listen for the removal of the full notebook cells\n",
              "var notebookContainer = gd.closest('#notebook-container');\n",
              "if (notebookContainer) {{\n",
              "    x.observe(notebookContainer, {childList: true});\n",
              "}}\n",
              "\n",
              "// Listen for the clearing of the current output cell\n",
              "var outputEl = gd.closest('.output');\n",
              "if (outputEl) {{\n",
              "    x.observe(outputEl, {childList: true});\n",
              "}}\n",
              "\n",
              "                        })                };                            </script>        </div>\n",
              "</body>\n",
              "</html>"
            ]
          },
          "metadata": {}
        }
      ]
    },
    {
      "cell_type": "code",
      "source": [
        "q022_pub = df_plot.query(\"TP_ESCOLA == 'publica'\")[\"Q022\"].value_counts()\n",
        "label_pub = q022_pub.index\n",
        "value_pub = q022_pub.values\n",
        "\n",
        "q022_priv = df_plot.query(\"TP_ESCOLA == 'privada'\")[\"Q022\"].value_counts()\n",
        "label_priv = q022_priv.index\n",
        "value_priv = q022_priv.values\n",
        "\n",
        "graph_q022 = make_subplots(rows=1, cols=2, specs=specs, subplot_titles=titles)\n",
        "\n",
        "graph_q022.add_trace(go.Pie(labels=label_pub, values=value_pub,\n",
        "                            marker_colors=tema), 1, 1)\n",
        "\n",
        "graph_q022.add_trace(go.Pie(labels=label_priv, values=value_priv), 1, 2)\n",
        "\n",
        "graph_q022.update_layout(font_size=12, title=dict(text=quest[\"Q022\"], x=0.5,\n",
        "                                                  font_size=22),\n",
        "                         uniformtext_minsize=14, uniformtext_mode=\"hide\")"
      ],
      "metadata": {
        "id": "6KPy75TXizFY",
        "execution": {
          "iopub.status.busy": "2022-10-10T12:22:06.676287Z",
          "iopub.execute_input": "2022-10-10T12:22:06.676660Z",
          "iopub.status.idle": "2022-10-10T12:22:06.717859Z",
          "shell.execute_reply.started": "2022-10-10T12:22:06.676627Z",
          "shell.execute_reply": "2022-10-10T12:22:06.716631Z"
        },
        "trusted": true,
        "colab": {
          "base_uri": "https://localhost:8080/",
          "height": 542
        },
        "outputId": "913f932b-5cbe-48a9-bd7b-4cebacec513b"
      },
      "execution_count": 74,
      "outputs": [
        {
          "output_type": "display_data",
          "data": {
            "text/html": [
              "<html>\n",
              "<head><meta charset=\"utf-8\" /></head>\n",
              "<body>\n",
              "    <div>            <script src=\"https://cdnjs.cloudflare.com/ajax/libs/mathjax/2.7.5/MathJax.js?config=TeX-AMS-MML_SVG\"></script><script type=\"text/javascript\">if (window.MathJax) {MathJax.Hub.Config({SVG: {font: \"STIX-Web\"}});}</script>                <script type=\"text/javascript\">window.PlotlyConfig = {MathJaxConfig: 'local'};</script>\n",
              "        <script src=\"https://cdn.plot.ly/plotly-2.8.3.min.js\"></script>                <div id=\"4b819ef7-8915-4ab6-9326-508341aa9c0c\" class=\"plotly-graph-div\" style=\"height:525px; width:100%;\"></div>            <script type=\"text/javascript\">                                    window.PLOTLYENV=window.PLOTLYENV || {};                                    if (document.getElementById(\"4b819ef7-8915-4ab6-9326-508341aa9c0c\")) {                    Plotly.newPlot(                        \"4b819ef7-8915-4ab6-9326-508341aa9c0c\",                        [{\"labels\":[\"Sim, dois\",\"Sim, tr\\u00eas\",\"Sim, quatro ou mais\",\"Sim, um\",\"N\\u00e3o\"],\"marker\":{\"colors\":[\"#FD3216\",\"#00FE35\",\"#6A76FC\",\"#FED4C4\",\"#FE00CE\",\"#0DF9FF\",\"#F6F926\",\"#FF9616\",\"#479B55\",\"#EEA6FB\",\"#DC587D\",\"#D626FF\",\"#6E899C\",\"#00B5F7\",\"#B68E00\",\"#C9FBE5\",\"#FF0092\",\"#22FFA7\",\"#E3EE9E\",\"#86CE00\",\"#BC7196\",\"#7E7DCD\",\"#FC6955\",\"#E48F72\"]},\"values\":[881,832,614,554,80],\"type\":\"pie\",\"domain\":{\"x\":[0.0,0.45],\"y\":[0.0,1.0]}},{\"labels\":[\"Sim, quatro ou mais\",\"Sim, tr\\u00eas\",\"Sim, dois\",\"Sim, um\",\"N\\u00e3o\"],\"values\":[223,157,73,19,6],\"type\":\"pie\",\"domain\":{\"x\":[0.55,1.0],\"y\":[0.0,1.0]}}],                        {\"template\":{\"data\":{\"bar\":[{\"error_x\":{\"color\":\"#2a3f5f\"},\"error_y\":{\"color\":\"#2a3f5f\"},\"marker\":{\"line\":{\"color\":\"#E5ECF6\",\"width\":0.5},\"pattern\":{\"fillmode\":\"overlay\",\"size\":10,\"solidity\":0.2}},\"type\":\"bar\"}],\"barpolar\":[{\"marker\":{\"line\":{\"color\":\"#E5ECF6\",\"width\":0.5},\"pattern\":{\"fillmode\":\"overlay\",\"size\":10,\"solidity\":0.2}},\"type\":\"barpolar\"}],\"carpet\":[{\"aaxis\":{\"endlinecolor\":\"#2a3f5f\",\"gridcolor\":\"white\",\"linecolor\":\"white\",\"minorgridcolor\":\"white\",\"startlinecolor\":\"#2a3f5f\"},\"baxis\":{\"endlinecolor\":\"#2a3f5f\",\"gridcolor\":\"white\",\"linecolor\":\"white\",\"minorgridcolor\":\"white\",\"startlinecolor\":\"#2a3f5f\"},\"type\":\"carpet\"}],\"choropleth\":[{\"colorbar\":{\"outlinewidth\":0,\"ticks\":\"\"},\"type\":\"choropleth\"}],\"contour\":[{\"colorbar\":{\"outlinewidth\":0,\"ticks\":\"\"},\"colorscale\":[[0.0,\"#0d0887\"],[0.1111111111111111,\"#46039f\"],[0.2222222222222222,\"#7201a8\"],[0.3333333333333333,\"#9c179e\"],[0.4444444444444444,\"#bd3786\"],[0.5555555555555556,\"#d8576b\"],[0.6666666666666666,\"#ed7953\"],[0.7777777777777778,\"#fb9f3a\"],[0.8888888888888888,\"#fdca26\"],[1.0,\"#f0f921\"]],\"type\":\"contour\"}],\"contourcarpet\":[{\"colorbar\":{\"outlinewidth\":0,\"ticks\":\"\"},\"type\":\"contourcarpet\"}],\"heatmap\":[{\"colorbar\":{\"outlinewidth\":0,\"ticks\":\"\"},\"colorscale\":[[0.0,\"#0d0887\"],[0.1111111111111111,\"#46039f\"],[0.2222222222222222,\"#7201a8\"],[0.3333333333333333,\"#9c179e\"],[0.4444444444444444,\"#bd3786\"],[0.5555555555555556,\"#d8576b\"],[0.6666666666666666,\"#ed7953\"],[0.7777777777777778,\"#fb9f3a\"],[0.8888888888888888,\"#fdca26\"],[1.0,\"#f0f921\"]],\"type\":\"heatmap\"}],\"heatmapgl\":[{\"colorbar\":{\"outlinewidth\":0,\"ticks\":\"\"},\"colorscale\":[[0.0,\"#0d0887\"],[0.1111111111111111,\"#46039f\"],[0.2222222222222222,\"#7201a8\"],[0.3333333333333333,\"#9c179e\"],[0.4444444444444444,\"#bd3786\"],[0.5555555555555556,\"#d8576b\"],[0.6666666666666666,\"#ed7953\"],[0.7777777777777778,\"#fb9f3a\"],[0.8888888888888888,\"#fdca26\"],[1.0,\"#f0f921\"]],\"type\":\"heatmapgl\"}],\"histogram\":[{\"marker\":{\"pattern\":{\"fillmode\":\"overlay\",\"size\":10,\"solidity\":0.2}},\"type\":\"histogram\"}],\"histogram2d\":[{\"colorbar\":{\"outlinewidth\":0,\"ticks\":\"\"},\"colorscale\":[[0.0,\"#0d0887\"],[0.1111111111111111,\"#46039f\"],[0.2222222222222222,\"#7201a8\"],[0.3333333333333333,\"#9c179e\"],[0.4444444444444444,\"#bd3786\"],[0.5555555555555556,\"#d8576b\"],[0.6666666666666666,\"#ed7953\"],[0.7777777777777778,\"#fb9f3a\"],[0.8888888888888888,\"#fdca26\"],[1.0,\"#f0f921\"]],\"type\":\"histogram2d\"}],\"histogram2dcontour\":[{\"colorbar\":{\"outlinewidth\":0,\"ticks\":\"\"},\"colorscale\":[[0.0,\"#0d0887\"],[0.1111111111111111,\"#46039f\"],[0.2222222222222222,\"#7201a8\"],[0.3333333333333333,\"#9c179e\"],[0.4444444444444444,\"#bd3786\"],[0.5555555555555556,\"#d8576b\"],[0.6666666666666666,\"#ed7953\"],[0.7777777777777778,\"#fb9f3a\"],[0.8888888888888888,\"#fdca26\"],[1.0,\"#f0f921\"]],\"type\":\"histogram2dcontour\"}],\"mesh3d\":[{\"colorbar\":{\"outlinewidth\":0,\"ticks\":\"\"},\"type\":\"mesh3d\"}],\"parcoords\":[{\"line\":{\"colorbar\":{\"outlinewidth\":0,\"ticks\":\"\"}},\"type\":\"parcoords\"}],\"pie\":[{\"automargin\":true,\"type\":\"pie\"}],\"scatter\":[{\"marker\":{\"colorbar\":{\"outlinewidth\":0,\"ticks\":\"\"}},\"type\":\"scatter\"}],\"scatter3d\":[{\"line\":{\"colorbar\":{\"outlinewidth\":0,\"ticks\":\"\"}},\"marker\":{\"colorbar\":{\"outlinewidth\":0,\"ticks\":\"\"}},\"type\":\"scatter3d\"}],\"scattercarpet\":[{\"marker\":{\"colorbar\":{\"outlinewidth\":0,\"ticks\":\"\"}},\"type\":\"scattercarpet\"}],\"scattergeo\":[{\"marker\":{\"colorbar\":{\"outlinewidth\":0,\"ticks\":\"\"}},\"type\":\"scattergeo\"}],\"scattergl\":[{\"marker\":{\"colorbar\":{\"outlinewidth\":0,\"ticks\":\"\"}},\"type\":\"scattergl\"}],\"scattermapbox\":[{\"marker\":{\"colorbar\":{\"outlinewidth\":0,\"ticks\":\"\"}},\"type\":\"scattermapbox\"}],\"scatterpolar\":[{\"marker\":{\"colorbar\":{\"outlinewidth\":0,\"ticks\":\"\"}},\"type\":\"scatterpolar\"}],\"scatterpolargl\":[{\"marker\":{\"colorbar\":{\"outlinewidth\":0,\"ticks\":\"\"}},\"type\":\"scatterpolargl\"}],\"scatterternary\":[{\"marker\":{\"colorbar\":{\"outlinewidth\":0,\"ticks\":\"\"}},\"type\":\"scatterternary\"}],\"surface\":[{\"colorbar\":{\"outlinewidth\":0,\"ticks\":\"\"},\"colorscale\":[[0.0,\"#0d0887\"],[0.1111111111111111,\"#46039f\"],[0.2222222222222222,\"#7201a8\"],[0.3333333333333333,\"#9c179e\"],[0.4444444444444444,\"#bd3786\"],[0.5555555555555556,\"#d8576b\"],[0.6666666666666666,\"#ed7953\"],[0.7777777777777778,\"#fb9f3a\"],[0.8888888888888888,\"#fdca26\"],[1.0,\"#f0f921\"]],\"type\":\"surface\"}],\"table\":[{\"cells\":{\"fill\":{\"color\":\"#EBF0F8\"},\"line\":{\"color\":\"white\"}},\"header\":{\"fill\":{\"color\":\"#C8D4E3\"},\"line\":{\"color\":\"white\"}},\"type\":\"table\"}]},\"layout\":{\"annotationdefaults\":{\"arrowcolor\":\"#2a3f5f\",\"arrowhead\":0,\"arrowwidth\":1},\"autotypenumbers\":\"strict\",\"coloraxis\":{\"colorbar\":{\"outlinewidth\":0,\"ticks\":\"\"}},\"colorscale\":{\"diverging\":[[0,\"#8e0152\"],[0.1,\"#c51b7d\"],[0.2,\"#de77ae\"],[0.3,\"#f1b6da\"],[0.4,\"#fde0ef\"],[0.5,\"#f7f7f7\"],[0.6,\"#e6f5d0\"],[0.7,\"#b8e186\"],[0.8,\"#7fbc41\"],[0.9,\"#4d9221\"],[1,\"#276419\"]],\"sequential\":[[0.0,\"#0d0887\"],[0.1111111111111111,\"#46039f\"],[0.2222222222222222,\"#7201a8\"],[0.3333333333333333,\"#9c179e\"],[0.4444444444444444,\"#bd3786\"],[0.5555555555555556,\"#d8576b\"],[0.6666666666666666,\"#ed7953\"],[0.7777777777777778,\"#fb9f3a\"],[0.8888888888888888,\"#fdca26\"],[1.0,\"#f0f921\"]],\"sequentialminus\":[[0.0,\"#0d0887\"],[0.1111111111111111,\"#46039f\"],[0.2222222222222222,\"#7201a8\"],[0.3333333333333333,\"#9c179e\"],[0.4444444444444444,\"#bd3786\"],[0.5555555555555556,\"#d8576b\"],[0.6666666666666666,\"#ed7953\"],[0.7777777777777778,\"#fb9f3a\"],[0.8888888888888888,\"#fdca26\"],[1.0,\"#f0f921\"]]},\"colorway\":[\"#636efa\",\"#EF553B\",\"#00cc96\",\"#ab63fa\",\"#FFA15A\",\"#19d3f3\",\"#FF6692\",\"#B6E880\",\"#FF97FF\",\"#FECB52\"],\"font\":{\"color\":\"#2a3f5f\"},\"geo\":{\"bgcolor\":\"white\",\"lakecolor\":\"white\",\"landcolor\":\"#E5ECF6\",\"showlakes\":true,\"showland\":true,\"subunitcolor\":\"white\"},\"hoverlabel\":{\"align\":\"left\"},\"hovermode\":\"closest\",\"mapbox\":{\"style\":\"light\"},\"paper_bgcolor\":\"white\",\"plot_bgcolor\":\"#E5ECF6\",\"polar\":{\"angularaxis\":{\"gridcolor\":\"white\",\"linecolor\":\"white\",\"ticks\":\"\"},\"bgcolor\":\"#E5ECF6\",\"radialaxis\":{\"gridcolor\":\"white\",\"linecolor\":\"white\",\"ticks\":\"\"}},\"scene\":{\"xaxis\":{\"backgroundcolor\":\"#E5ECF6\",\"gridcolor\":\"white\",\"gridwidth\":2,\"linecolor\":\"white\",\"showbackground\":true,\"ticks\":\"\",\"zerolinecolor\":\"white\"},\"yaxis\":{\"backgroundcolor\":\"#E5ECF6\",\"gridcolor\":\"white\",\"gridwidth\":2,\"linecolor\":\"white\",\"showbackground\":true,\"ticks\":\"\",\"zerolinecolor\":\"white\"},\"zaxis\":{\"backgroundcolor\":\"#E5ECF6\",\"gridcolor\":\"white\",\"gridwidth\":2,\"linecolor\":\"white\",\"showbackground\":true,\"ticks\":\"\",\"zerolinecolor\":\"white\"}},\"shapedefaults\":{\"line\":{\"color\":\"#2a3f5f\"}},\"ternary\":{\"aaxis\":{\"gridcolor\":\"white\",\"linecolor\":\"white\",\"ticks\":\"\"},\"baxis\":{\"gridcolor\":\"white\",\"linecolor\":\"white\",\"ticks\":\"\"},\"bgcolor\":\"#E5ECF6\",\"caxis\":{\"gridcolor\":\"white\",\"linecolor\":\"white\",\"ticks\":\"\"}},\"title\":{\"x\":0.05},\"xaxis\":{\"automargin\":true,\"gridcolor\":\"white\",\"linecolor\":\"white\",\"ticks\":\"\",\"title\":{\"standoff\":15},\"zerolinecolor\":\"white\",\"zerolinewidth\":2},\"yaxis\":{\"automargin\":true,\"gridcolor\":\"white\",\"linecolor\":\"white\",\"ticks\":\"\",\"title\":{\"standoff\":15},\"zerolinecolor\":\"white\",\"zerolinewidth\":2}}},\"annotations\":[{\"font\":{\"size\":16},\"showarrow\":false,\"text\":\"Escolas P\\u00fablicas\",\"x\":0.225,\"xanchor\":\"center\",\"xref\":\"paper\",\"y\":1.0,\"yanchor\":\"bottom\",\"yref\":\"paper\"},{\"font\":{\"size\":16},\"showarrow\":false,\"text\":\"Escolas Privadas\",\"x\":0.775,\"xanchor\":\"center\",\"xref\":\"paper\",\"y\":1.0,\"yanchor\":\"bottom\",\"yref\":\"paper\"}],\"font\":{\"size\":12},\"title\":{\"font\":{\"size\":22},\"text\":\"Na sua resid\\u00eancia tem telefone celular?\",\"x\":0.5},\"uniformtext\":{\"minsize\":14,\"mode\":\"hide\"}},                        {\"responsive\": true}                    ).then(function(){\n",
              "                            \n",
              "var gd = document.getElementById('4b819ef7-8915-4ab6-9326-508341aa9c0c');\n",
              "var x = new MutationObserver(function (mutations, observer) {{\n",
              "        var display = window.getComputedStyle(gd).display;\n",
              "        if (!display || display === 'none') {{\n",
              "            console.log([gd, 'removed!']);\n",
              "            Plotly.purge(gd);\n",
              "            observer.disconnect();\n",
              "        }}\n",
              "}});\n",
              "\n",
              "// Listen for the removal of the full notebook cells\n",
              "var notebookContainer = gd.closest('#notebook-container');\n",
              "if (notebookContainer) {{\n",
              "    x.observe(notebookContainer, {childList: true});\n",
              "}}\n",
              "\n",
              "// Listen for the clearing of the current output cell\n",
              "var outputEl = gd.closest('.output');\n",
              "if (outputEl) {{\n",
              "    x.observe(outputEl, {childList: true});\n",
              "}}\n",
              "\n",
              "                        })                };                            </script>        </div>\n",
              "</body>\n",
              "</html>"
            ]
          },
          "metadata": {}
        }
      ]
    },
    {
      "cell_type": "markdown",
      "source": [
        "Se observarmos os dados de pessoas por residência de escolas privadas, percebe-se que em 37,7% moram 4 pessoas, olhando para o número de aparelhos celulares por residência, temos um percentual de 46,7% das residências com 4 aparelhos. Contudo, na maioria das residências de vestibulandos de escolas públicas também residem 4 pessoas, porém, não se conta com mesma proporção de celulares por residente."
      ],
      "metadata": {
        "id": "D0GR2RddcG80"
      }
    },
    {
      "cell_type": "code",
      "source": [
        "q024_pub = df_plot.query(\"TP_ESCOLA == 'publica'\")[\"Q024\"].value_counts()\n",
        "label_pub = q024_pub.index\n",
        "value_pub = q024_pub.values\n",
        "\n",
        "q024_priv = df_plot.query(\"TP_ESCOLA == 'privada'\")[\"Q024\"].value_counts()\n",
        "label_priv = q024_priv.index\n",
        "value_priv = q024_priv.values\n",
        "\n",
        "graph_q024 = make_subplots(rows=1, cols=2, specs=specs, subplot_titles=titles)\n",
        "\n",
        "graph_q024.add_trace(go.Pie(labels=label_pub, values=value_pub,\n",
        "                            marker_colors=tema), 1, 1)\n",
        "\n",
        "graph_q024.add_trace(go.Pie(labels=label_priv, values=value_priv), 1, 2)\n",
        "\n",
        "graph_q024.update_layout(font_size=12, title=dict(text=quest[\"Q024\"], x=0.5,\n",
        "                                                  font_size=22),\n",
        "                         uniformtext_minsize=14, uniformtext_mode=\"hide\")"
      ],
      "metadata": {
        "id": "tPth5hGKj-OJ",
        "execution": {
          "iopub.status.busy": "2022-10-10T12:22:06.719138Z",
          "iopub.execute_input": "2022-10-10T12:22:06.719552Z",
          "iopub.status.idle": "2022-10-10T12:22:06.759063Z",
          "shell.execute_reply.started": "2022-10-10T12:22:06.719520Z",
          "shell.execute_reply": "2022-10-10T12:22:06.757958Z"
        },
        "trusted": true,
        "colab": {
          "base_uri": "https://localhost:8080/",
          "height": 542
        },
        "outputId": "5b5f4253-ccad-4b35-a836-a4917e2b9777"
      },
      "execution_count": 75,
      "outputs": [
        {
          "output_type": "display_data",
          "data": {
            "text/html": [
              "<html>\n",
              "<head><meta charset=\"utf-8\" /></head>\n",
              "<body>\n",
              "    <div>            <script src=\"https://cdnjs.cloudflare.com/ajax/libs/mathjax/2.7.5/MathJax.js?config=TeX-AMS-MML_SVG\"></script><script type=\"text/javascript\">if (window.MathJax) {MathJax.Hub.Config({SVG: {font: \"STIX-Web\"}});}</script>                <script type=\"text/javascript\">window.PlotlyConfig = {MathJaxConfig: 'local'};</script>\n",
              "        <script src=\"https://cdn.plot.ly/plotly-2.8.3.min.js\"></script>                <div id=\"66077577-ae98-4ffd-9cdc-82c58a7c9c3d\" class=\"plotly-graph-div\" style=\"height:525px; width:100%;\"></div>            <script type=\"text/javascript\">                                    window.PLOTLYENV=window.PLOTLYENV || {};                                    if (document.getElementById(\"66077577-ae98-4ffd-9cdc-82c58a7c9c3d\")) {                    Plotly.newPlot(                        \"66077577-ae98-4ffd-9cdc-82c58a7c9c3d\",                        [{\"labels\":[\"N\\u00e3o\",\"Sim, um\",\"Sim, dois\",\"Sim, tr\\u00eas\",\"Sim, quatro ou mais\"],\"marker\":{\"colors\":[\"#FD3216\",\"#00FE35\",\"#6A76FC\",\"#FED4C4\",\"#FE00CE\",\"#0DF9FF\",\"#F6F926\",\"#FF9616\",\"#479B55\",\"#EEA6FB\",\"#DC587D\",\"#D626FF\",\"#6E899C\",\"#00B5F7\",\"#B68E00\",\"#C9FBE5\",\"#FF0092\",\"#22FFA7\",\"#E3EE9E\",\"#86CE00\",\"#BC7196\",\"#7E7DCD\",\"#FC6955\",\"#E48F72\"]},\"values\":[1915,856,146,28,16],\"type\":\"pie\",\"domain\":{\"x\":[0.0,0.45],\"y\":[0.0,1.0]}},{\"labels\":[\"Sim, um\",\"Sim, dois\",\"N\\u00e3o\",\"Sim, tr\\u00eas\",\"Sim, quatro ou mais\"],\"values\":[185,127,69,64,33],\"type\":\"pie\",\"domain\":{\"x\":[0.55,1.0],\"y\":[0.0,1.0]}}],                        {\"template\":{\"data\":{\"bar\":[{\"error_x\":{\"color\":\"#2a3f5f\"},\"error_y\":{\"color\":\"#2a3f5f\"},\"marker\":{\"line\":{\"color\":\"#E5ECF6\",\"width\":0.5},\"pattern\":{\"fillmode\":\"overlay\",\"size\":10,\"solidity\":0.2}},\"type\":\"bar\"}],\"barpolar\":[{\"marker\":{\"line\":{\"color\":\"#E5ECF6\",\"width\":0.5},\"pattern\":{\"fillmode\":\"overlay\",\"size\":10,\"solidity\":0.2}},\"type\":\"barpolar\"}],\"carpet\":[{\"aaxis\":{\"endlinecolor\":\"#2a3f5f\",\"gridcolor\":\"white\",\"linecolor\":\"white\",\"minorgridcolor\":\"white\",\"startlinecolor\":\"#2a3f5f\"},\"baxis\":{\"endlinecolor\":\"#2a3f5f\",\"gridcolor\":\"white\",\"linecolor\":\"white\",\"minorgridcolor\":\"white\",\"startlinecolor\":\"#2a3f5f\"},\"type\":\"carpet\"}],\"choropleth\":[{\"colorbar\":{\"outlinewidth\":0,\"ticks\":\"\"},\"type\":\"choropleth\"}],\"contour\":[{\"colorbar\":{\"outlinewidth\":0,\"ticks\":\"\"},\"colorscale\":[[0.0,\"#0d0887\"],[0.1111111111111111,\"#46039f\"],[0.2222222222222222,\"#7201a8\"],[0.3333333333333333,\"#9c179e\"],[0.4444444444444444,\"#bd3786\"],[0.5555555555555556,\"#d8576b\"],[0.6666666666666666,\"#ed7953\"],[0.7777777777777778,\"#fb9f3a\"],[0.8888888888888888,\"#fdca26\"],[1.0,\"#f0f921\"]],\"type\":\"contour\"}],\"contourcarpet\":[{\"colorbar\":{\"outlinewidth\":0,\"ticks\":\"\"},\"type\":\"contourcarpet\"}],\"heatmap\":[{\"colorbar\":{\"outlinewidth\":0,\"ticks\":\"\"},\"colorscale\":[[0.0,\"#0d0887\"],[0.1111111111111111,\"#46039f\"],[0.2222222222222222,\"#7201a8\"],[0.3333333333333333,\"#9c179e\"],[0.4444444444444444,\"#bd3786\"],[0.5555555555555556,\"#d8576b\"],[0.6666666666666666,\"#ed7953\"],[0.7777777777777778,\"#fb9f3a\"],[0.8888888888888888,\"#fdca26\"],[1.0,\"#f0f921\"]],\"type\":\"heatmap\"}],\"heatmapgl\":[{\"colorbar\":{\"outlinewidth\":0,\"ticks\":\"\"},\"colorscale\":[[0.0,\"#0d0887\"],[0.1111111111111111,\"#46039f\"],[0.2222222222222222,\"#7201a8\"],[0.3333333333333333,\"#9c179e\"],[0.4444444444444444,\"#bd3786\"],[0.5555555555555556,\"#d8576b\"],[0.6666666666666666,\"#ed7953\"],[0.7777777777777778,\"#fb9f3a\"],[0.8888888888888888,\"#fdca26\"],[1.0,\"#f0f921\"]],\"type\":\"heatmapgl\"}],\"histogram\":[{\"marker\":{\"pattern\":{\"fillmode\":\"overlay\",\"size\":10,\"solidity\":0.2}},\"type\":\"histogram\"}],\"histogram2d\":[{\"colorbar\":{\"outlinewidth\":0,\"ticks\":\"\"},\"colorscale\":[[0.0,\"#0d0887\"],[0.1111111111111111,\"#46039f\"],[0.2222222222222222,\"#7201a8\"],[0.3333333333333333,\"#9c179e\"],[0.4444444444444444,\"#bd3786\"],[0.5555555555555556,\"#d8576b\"],[0.6666666666666666,\"#ed7953\"],[0.7777777777777778,\"#fb9f3a\"],[0.8888888888888888,\"#fdca26\"],[1.0,\"#f0f921\"]],\"type\":\"histogram2d\"}],\"histogram2dcontour\":[{\"colorbar\":{\"outlinewidth\":0,\"ticks\":\"\"},\"colorscale\":[[0.0,\"#0d0887\"],[0.1111111111111111,\"#46039f\"],[0.2222222222222222,\"#7201a8\"],[0.3333333333333333,\"#9c179e\"],[0.4444444444444444,\"#bd3786\"],[0.5555555555555556,\"#d8576b\"],[0.6666666666666666,\"#ed7953\"],[0.7777777777777778,\"#fb9f3a\"],[0.8888888888888888,\"#fdca26\"],[1.0,\"#f0f921\"]],\"type\":\"histogram2dcontour\"}],\"mesh3d\":[{\"colorbar\":{\"outlinewidth\":0,\"ticks\":\"\"},\"type\":\"mesh3d\"}],\"parcoords\":[{\"line\":{\"colorbar\":{\"outlinewidth\":0,\"ticks\":\"\"}},\"type\":\"parcoords\"}],\"pie\":[{\"automargin\":true,\"type\":\"pie\"}],\"scatter\":[{\"marker\":{\"colorbar\":{\"outlinewidth\":0,\"ticks\":\"\"}},\"type\":\"scatter\"}],\"scatter3d\":[{\"line\":{\"colorbar\":{\"outlinewidth\":0,\"ticks\":\"\"}},\"marker\":{\"colorbar\":{\"outlinewidth\":0,\"ticks\":\"\"}},\"type\":\"scatter3d\"}],\"scattercarpet\":[{\"marker\":{\"colorbar\":{\"outlinewidth\":0,\"ticks\":\"\"}},\"type\":\"scattercarpet\"}],\"scattergeo\":[{\"marker\":{\"colorbar\":{\"outlinewidth\":0,\"ticks\":\"\"}},\"type\":\"scattergeo\"}],\"scattergl\":[{\"marker\":{\"colorbar\":{\"outlinewidth\":0,\"ticks\":\"\"}},\"type\":\"scattergl\"}],\"scattermapbox\":[{\"marker\":{\"colorbar\":{\"outlinewidth\":0,\"ticks\":\"\"}},\"type\":\"scattermapbox\"}],\"scatterpolar\":[{\"marker\":{\"colorbar\":{\"outlinewidth\":0,\"ticks\":\"\"}},\"type\":\"scatterpolar\"}],\"scatterpolargl\":[{\"marker\":{\"colorbar\":{\"outlinewidth\":0,\"ticks\":\"\"}},\"type\":\"scatterpolargl\"}],\"scatterternary\":[{\"marker\":{\"colorbar\":{\"outlinewidth\":0,\"ticks\":\"\"}},\"type\":\"scatterternary\"}],\"surface\":[{\"colorbar\":{\"outlinewidth\":0,\"ticks\":\"\"},\"colorscale\":[[0.0,\"#0d0887\"],[0.1111111111111111,\"#46039f\"],[0.2222222222222222,\"#7201a8\"],[0.3333333333333333,\"#9c179e\"],[0.4444444444444444,\"#bd3786\"],[0.5555555555555556,\"#d8576b\"],[0.6666666666666666,\"#ed7953\"],[0.7777777777777778,\"#fb9f3a\"],[0.8888888888888888,\"#fdca26\"],[1.0,\"#f0f921\"]],\"type\":\"surface\"}],\"table\":[{\"cells\":{\"fill\":{\"color\":\"#EBF0F8\"},\"line\":{\"color\":\"white\"}},\"header\":{\"fill\":{\"color\":\"#C8D4E3\"},\"line\":{\"color\":\"white\"}},\"type\":\"table\"}]},\"layout\":{\"annotationdefaults\":{\"arrowcolor\":\"#2a3f5f\",\"arrowhead\":0,\"arrowwidth\":1},\"autotypenumbers\":\"strict\",\"coloraxis\":{\"colorbar\":{\"outlinewidth\":0,\"ticks\":\"\"}},\"colorscale\":{\"diverging\":[[0,\"#8e0152\"],[0.1,\"#c51b7d\"],[0.2,\"#de77ae\"],[0.3,\"#f1b6da\"],[0.4,\"#fde0ef\"],[0.5,\"#f7f7f7\"],[0.6,\"#e6f5d0\"],[0.7,\"#b8e186\"],[0.8,\"#7fbc41\"],[0.9,\"#4d9221\"],[1,\"#276419\"]],\"sequential\":[[0.0,\"#0d0887\"],[0.1111111111111111,\"#46039f\"],[0.2222222222222222,\"#7201a8\"],[0.3333333333333333,\"#9c179e\"],[0.4444444444444444,\"#bd3786\"],[0.5555555555555556,\"#d8576b\"],[0.6666666666666666,\"#ed7953\"],[0.7777777777777778,\"#fb9f3a\"],[0.8888888888888888,\"#fdca26\"],[1.0,\"#f0f921\"]],\"sequentialminus\":[[0.0,\"#0d0887\"],[0.1111111111111111,\"#46039f\"],[0.2222222222222222,\"#7201a8\"],[0.3333333333333333,\"#9c179e\"],[0.4444444444444444,\"#bd3786\"],[0.5555555555555556,\"#d8576b\"],[0.6666666666666666,\"#ed7953\"],[0.7777777777777778,\"#fb9f3a\"],[0.8888888888888888,\"#fdca26\"],[1.0,\"#f0f921\"]]},\"colorway\":[\"#636efa\",\"#EF553B\",\"#00cc96\",\"#ab63fa\",\"#FFA15A\",\"#19d3f3\",\"#FF6692\",\"#B6E880\",\"#FF97FF\",\"#FECB52\"],\"font\":{\"color\":\"#2a3f5f\"},\"geo\":{\"bgcolor\":\"white\",\"lakecolor\":\"white\",\"landcolor\":\"#E5ECF6\",\"showlakes\":true,\"showland\":true,\"subunitcolor\":\"white\"},\"hoverlabel\":{\"align\":\"left\"},\"hovermode\":\"closest\",\"mapbox\":{\"style\":\"light\"},\"paper_bgcolor\":\"white\",\"plot_bgcolor\":\"#E5ECF6\",\"polar\":{\"angularaxis\":{\"gridcolor\":\"white\",\"linecolor\":\"white\",\"ticks\":\"\"},\"bgcolor\":\"#E5ECF6\",\"radialaxis\":{\"gridcolor\":\"white\",\"linecolor\":\"white\",\"ticks\":\"\"}},\"scene\":{\"xaxis\":{\"backgroundcolor\":\"#E5ECF6\",\"gridcolor\":\"white\",\"gridwidth\":2,\"linecolor\":\"white\",\"showbackground\":true,\"ticks\":\"\",\"zerolinecolor\":\"white\"},\"yaxis\":{\"backgroundcolor\":\"#E5ECF6\",\"gridcolor\":\"white\",\"gridwidth\":2,\"linecolor\":\"white\",\"showbackground\":true,\"ticks\":\"\",\"zerolinecolor\":\"white\"},\"zaxis\":{\"backgroundcolor\":\"#E5ECF6\",\"gridcolor\":\"white\",\"gridwidth\":2,\"linecolor\":\"white\",\"showbackground\":true,\"ticks\":\"\",\"zerolinecolor\":\"white\"}},\"shapedefaults\":{\"line\":{\"color\":\"#2a3f5f\"}},\"ternary\":{\"aaxis\":{\"gridcolor\":\"white\",\"linecolor\":\"white\",\"ticks\":\"\"},\"baxis\":{\"gridcolor\":\"white\",\"linecolor\":\"white\",\"ticks\":\"\"},\"bgcolor\":\"#E5ECF6\",\"caxis\":{\"gridcolor\":\"white\",\"linecolor\":\"white\",\"ticks\":\"\"}},\"title\":{\"x\":0.05},\"xaxis\":{\"automargin\":true,\"gridcolor\":\"white\",\"linecolor\":\"white\",\"ticks\":\"\",\"title\":{\"standoff\":15},\"zerolinecolor\":\"white\",\"zerolinewidth\":2},\"yaxis\":{\"automargin\":true,\"gridcolor\":\"white\",\"linecolor\":\"white\",\"ticks\":\"\",\"title\":{\"standoff\":15},\"zerolinecolor\":\"white\",\"zerolinewidth\":2}}},\"annotations\":[{\"font\":{\"size\":16},\"showarrow\":false,\"text\":\"Escolas P\\u00fablicas\",\"x\":0.225,\"xanchor\":\"center\",\"xref\":\"paper\",\"y\":1.0,\"yanchor\":\"bottom\",\"yref\":\"paper\"},{\"font\":{\"size\":16},\"showarrow\":false,\"text\":\"Escolas Privadas\",\"x\":0.775,\"xanchor\":\"center\",\"xref\":\"paper\",\"y\":1.0,\"yanchor\":\"bottom\",\"yref\":\"paper\"}],\"font\":{\"size\":12},\"title\":{\"font\":{\"size\":22},\"text\":\"Na sua resid\\u00eancia tem computador?\",\"x\":0.5},\"uniformtext\":{\"minsize\":14,\"mode\":\"hide\"}},                        {\"responsive\": true}                    ).then(function(){\n",
              "                            \n",
              "var gd = document.getElementById('66077577-ae98-4ffd-9cdc-82c58a7c9c3d');\n",
              "var x = new MutationObserver(function (mutations, observer) {{\n",
              "        var display = window.getComputedStyle(gd).display;\n",
              "        if (!display || display === 'none') {{\n",
              "            console.log([gd, 'removed!']);\n",
              "            Plotly.purge(gd);\n",
              "            observer.disconnect();\n",
              "        }}\n",
              "}});\n",
              "\n",
              "// Listen for the removal of the full notebook cells\n",
              "var notebookContainer = gd.closest('#notebook-container');\n",
              "if (notebookContainer) {{\n",
              "    x.observe(notebookContainer, {childList: true});\n",
              "}}\n",
              "\n",
              "// Listen for the clearing of the current output cell\n",
              "var outputEl = gd.closest('.output');\n",
              "if (outputEl) {{\n",
              "    x.observe(outputEl, {childList: true});\n",
              "}}\n",
              "\n",
              "                        })                };                            </script>        </div>\n",
              "</body>\n",
              "</html>"
            ]
          },
          "metadata": {}
        }
      ]
    },
    {
      "cell_type": "markdown",
      "source": [
        "Um item essencial para um vestibulando não está presente para 64,7% das residências de vestibulandos de escolas públicas. Enquanto que, para os de escolas privadas, 85,6% das residências possuem ao menos um aparelho."
      ],
      "metadata": {
        "id": "TQhBOrcVcG81"
      }
    },
    {
      "cell_type": "code",
      "source": [
        "q025_pub = df_plot.query(\"TP_ESCOLA == 'publica'\")[\"Q025\"].value_counts()\n",
        "label_pub = q025_pub.index\n",
        "value_pub = q025_pub.values\n",
        "\n",
        "q025_priv = df_plot.query(\"TP_ESCOLA == 'privada'\")[\"Q025\"].value_counts()\n",
        "label_priv = q025_priv.index\n",
        "value_priv = q025_priv.values\n",
        "\n",
        "graph_q025 = make_subplots(rows=1, cols=2, specs=specs, subplot_titles=titles)\n",
        "\n",
        "graph_q025.add_trace(go.Pie(labels=label_pub, values=value_pub,\n",
        "                            marker_colors=tema), 1, 1)\n",
        "\n",
        "graph_q025.add_trace(go.Pie(labels=label_priv, values=value_priv), 1, 2)\n",
        "\n",
        "graph_q025.update_layout(font_size=12, title=dict(text=quest[\"Q025\"], x=0.5,\n",
        "                                                  font_size=22),\n",
        "                         uniformtext_minsize=14, uniformtext_mode=\"hide\")"
      ],
      "metadata": {
        "id": "n8hKr3e6kBF6",
        "execution": {
          "iopub.status.busy": "2022-10-10T12:22:06.760366Z",
          "iopub.execute_input": "2022-10-10T12:22:06.760680Z",
          "iopub.status.idle": "2022-10-10T12:22:06.800983Z",
          "shell.execute_reply.started": "2022-10-10T12:22:06.760650Z",
          "shell.execute_reply": "2022-10-10T12:22:06.799909Z"
        },
        "trusted": true,
        "colab": {
          "base_uri": "https://localhost:8080/",
          "height": 542
        },
        "outputId": "b7119847-7710-49d4-913b-2901c8fbc1d0"
      },
      "execution_count": 76,
      "outputs": [
        {
          "output_type": "display_data",
          "data": {
            "text/html": [
              "<html>\n",
              "<head><meta charset=\"utf-8\" /></head>\n",
              "<body>\n",
              "    <div>            <script src=\"https://cdnjs.cloudflare.com/ajax/libs/mathjax/2.7.5/MathJax.js?config=TeX-AMS-MML_SVG\"></script><script type=\"text/javascript\">if (window.MathJax) {MathJax.Hub.Config({SVG: {font: \"STIX-Web\"}});}</script>                <script type=\"text/javascript\">window.PlotlyConfig = {MathJaxConfig: 'local'};</script>\n",
              "        <script src=\"https://cdn.plot.ly/plotly-2.8.3.min.js\"></script>                <div id=\"f9e7e5db-4db0-427a-81b0-50581385997e\" class=\"plotly-graph-div\" style=\"height:525px; width:100%;\"></div>            <script type=\"text/javascript\">                                    window.PLOTLYENV=window.PLOTLYENV || {};                                    if (document.getElementById(\"f9e7e5db-4db0-427a-81b0-50581385997e\")) {                    Plotly.newPlot(                        \"f9e7e5db-4db0-427a-81b0-50581385997e\",                        [{\"labels\":[\"Sim\",\"N\\u00e3o\"],\"marker\":{\"colors\":[\"#FD3216\",\"#00FE35\",\"#6A76FC\",\"#FED4C4\",\"#FE00CE\",\"#0DF9FF\",\"#F6F926\",\"#FF9616\",\"#479B55\",\"#EEA6FB\",\"#DC587D\",\"#D626FF\",\"#6E899C\",\"#00B5F7\",\"#B68E00\",\"#C9FBE5\",\"#FF0092\",\"#22FFA7\",\"#E3EE9E\",\"#86CE00\",\"#BC7196\",\"#7E7DCD\",\"#FC6955\",\"#E48F72\"]},\"values\":[2408,553],\"type\":\"pie\",\"domain\":{\"x\":[0.0,0.45],\"y\":[0.0,1.0]}},{\"labels\":[\"Sim\",\"N\\u00e3o\"],\"values\":[469,9],\"type\":\"pie\",\"domain\":{\"x\":[0.55,1.0],\"y\":[0.0,1.0]}}],                        {\"template\":{\"data\":{\"bar\":[{\"error_x\":{\"color\":\"#2a3f5f\"},\"error_y\":{\"color\":\"#2a3f5f\"},\"marker\":{\"line\":{\"color\":\"#E5ECF6\",\"width\":0.5},\"pattern\":{\"fillmode\":\"overlay\",\"size\":10,\"solidity\":0.2}},\"type\":\"bar\"}],\"barpolar\":[{\"marker\":{\"line\":{\"color\":\"#E5ECF6\",\"width\":0.5},\"pattern\":{\"fillmode\":\"overlay\",\"size\":10,\"solidity\":0.2}},\"type\":\"barpolar\"}],\"carpet\":[{\"aaxis\":{\"endlinecolor\":\"#2a3f5f\",\"gridcolor\":\"white\",\"linecolor\":\"white\",\"minorgridcolor\":\"white\",\"startlinecolor\":\"#2a3f5f\"},\"baxis\":{\"endlinecolor\":\"#2a3f5f\",\"gridcolor\":\"white\",\"linecolor\":\"white\",\"minorgridcolor\":\"white\",\"startlinecolor\":\"#2a3f5f\"},\"type\":\"carpet\"}],\"choropleth\":[{\"colorbar\":{\"outlinewidth\":0,\"ticks\":\"\"},\"type\":\"choropleth\"}],\"contour\":[{\"colorbar\":{\"outlinewidth\":0,\"ticks\":\"\"},\"colorscale\":[[0.0,\"#0d0887\"],[0.1111111111111111,\"#46039f\"],[0.2222222222222222,\"#7201a8\"],[0.3333333333333333,\"#9c179e\"],[0.4444444444444444,\"#bd3786\"],[0.5555555555555556,\"#d8576b\"],[0.6666666666666666,\"#ed7953\"],[0.7777777777777778,\"#fb9f3a\"],[0.8888888888888888,\"#fdca26\"],[1.0,\"#f0f921\"]],\"type\":\"contour\"}],\"contourcarpet\":[{\"colorbar\":{\"outlinewidth\":0,\"ticks\":\"\"},\"type\":\"contourcarpet\"}],\"heatmap\":[{\"colorbar\":{\"outlinewidth\":0,\"ticks\":\"\"},\"colorscale\":[[0.0,\"#0d0887\"],[0.1111111111111111,\"#46039f\"],[0.2222222222222222,\"#7201a8\"],[0.3333333333333333,\"#9c179e\"],[0.4444444444444444,\"#bd3786\"],[0.5555555555555556,\"#d8576b\"],[0.6666666666666666,\"#ed7953\"],[0.7777777777777778,\"#fb9f3a\"],[0.8888888888888888,\"#fdca26\"],[1.0,\"#f0f921\"]],\"type\":\"heatmap\"}],\"heatmapgl\":[{\"colorbar\":{\"outlinewidth\":0,\"ticks\":\"\"},\"colorscale\":[[0.0,\"#0d0887\"],[0.1111111111111111,\"#46039f\"],[0.2222222222222222,\"#7201a8\"],[0.3333333333333333,\"#9c179e\"],[0.4444444444444444,\"#bd3786\"],[0.5555555555555556,\"#d8576b\"],[0.6666666666666666,\"#ed7953\"],[0.7777777777777778,\"#fb9f3a\"],[0.8888888888888888,\"#fdca26\"],[1.0,\"#f0f921\"]],\"type\":\"heatmapgl\"}],\"histogram\":[{\"marker\":{\"pattern\":{\"fillmode\":\"overlay\",\"size\":10,\"solidity\":0.2}},\"type\":\"histogram\"}],\"histogram2d\":[{\"colorbar\":{\"outlinewidth\":0,\"ticks\":\"\"},\"colorscale\":[[0.0,\"#0d0887\"],[0.1111111111111111,\"#46039f\"],[0.2222222222222222,\"#7201a8\"],[0.3333333333333333,\"#9c179e\"],[0.4444444444444444,\"#bd3786\"],[0.5555555555555556,\"#d8576b\"],[0.6666666666666666,\"#ed7953\"],[0.7777777777777778,\"#fb9f3a\"],[0.8888888888888888,\"#fdca26\"],[1.0,\"#f0f921\"]],\"type\":\"histogram2d\"}],\"histogram2dcontour\":[{\"colorbar\":{\"outlinewidth\":0,\"ticks\":\"\"},\"colorscale\":[[0.0,\"#0d0887\"],[0.1111111111111111,\"#46039f\"],[0.2222222222222222,\"#7201a8\"],[0.3333333333333333,\"#9c179e\"],[0.4444444444444444,\"#bd3786\"],[0.5555555555555556,\"#d8576b\"],[0.6666666666666666,\"#ed7953\"],[0.7777777777777778,\"#fb9f3a\"],[0.8888888888888888,\"#fdca26\"],[1.0,\"#f0f921\"]],\"type\":\"histogram2dcontour\"}],\"mesh3d\":[{\"colorbar\":{\"outlinewidth\":0,\"ticks\":\"\"},\"type\":\"mesh3d\"}],\"parcoords\":[{\"line\":{\"colorbar\":{\"outlinewidth\":0,\"ticks\":\"\"}},\"type\":\"parcoords\"}],\"pie\":[{\"automargin\":true,\"type\":\"pie\"}],\"scatter\":[{\"marker\":{\"colorbar\":{\"outlinewidth\":0,\"ticks\":\"\"}},\"type\":\"scatter\"}],\"scatter3d\":[{\"line\":{\"colorbar\":{\"outlinewidth\":0,\"ticks\":\"\"}},\"marker\":{\"colorbar\":{\"outlinewidth\":0,\"ticks\":\"\"}},\"type\":\"scatter3d\"}],\"scattercarpet\":[{\"marker\":{\"colorbar\":{\"outlinewidth\":0,\"ticks\":\"\"}},\"type\":\"scattercarpet\"}],\"scattergeo\":[{\"marker\":{\"colorbar\":{\"outlinewidth\":0,\"ticks\":\"\"}},\"type\":\"scattergeo\"}],\"scattergl\":[{\"marker\":{\"colorbar\":{\"outlinewidth\":0,\"ticks\":\"\"}},\"type\":\"scattergl\"}],\"scattermapbox\":[{\"marker\":{\"colorbar\":{\"outlinewidth\":0,\"ticks\":\"\"}},\"type\":\"scattermapbox\"}],\"scatterpolar\":[{\"marker\":{\"colorbar\":{\"outlinewidth\":0,\"ticks\":\"\"}},\"type\":\"scatterpolar\"}],\"scatterpolargl\":[{\"marker\":{\"colorbar\":{\"outlinewidth\":0,\"ticks\":\"\"}},\"type\":\"scatterpolargl\"}],\"scatterternary\":[{\"marker\":{\"colorbar\":{\"outlinewidth\":0,\"ticks\":\"\"}},\"type\":\"scatterternary\"}],\"surface\":[{\"colorbar\":{\"outlinewidth\":0,\"ticks\":\"\"},\"colorscale\":[[0.0,\"#0d0887\"],[0.1111111111111111,\"#46039f\"],[0.2222222222222222,\"#7201a8\"],[0.3333333333333333,\"#9c179e\"],[0.4444444444444444,\"#bd3786\"],[0.5555555555555556,\"#d8576b\"],[0.6666666666666666,\"#ed7953\"],[0.7777777777777778,\"#fb9f3a\"],[0.8888888888888888,\"#fdca26\"],[1.0,\"#f0f921\"]],\"type\":\"surface\"}],\"table\":[{\"cells\":{\"fill\":{\"color\":\"#EBF0F8\"},\"line\":{\"color\":\"white\"}},\"header\":{\"fill\":{\"color\":\"#C8D4E3\"},\"line\":{\"color\":\"white\"}},\"type\":\"table\"}]},\"layout\":{\"annotationdefaults\":{\"arrowcolor\":\"#2a3f5f\",\"arrowhead\":0,\"arrowwidth\":1},\"autotypenumbers\":\"strict\",\"coloraxis\":{\"colorbar\":{\"outlinewidth\":0,\"ticks\":\"\"}},\"colorscale\":{\"diverging\":[[0,\"#8e0152\"],[0.1,\"#c51b7d\"],[0.2,\"#de77ae\"],[0.3,\"#f1b6da\"],[0.4,\"#fde0ef\"],[0.5,\"#f7f7f7\"],[0.6,\"#e6f5d0\"],[0.7,\"#b8e186\"],[0.8,\"#7fbc41\"],[0.9,\"#4d9221\"],[1,\"#276419\"]],\"sequential\":[[0.0,\"#0d0887\"],[0.1111111111111111,\"#46039f\"],[0.2222222222222222,\"#7201a8\"],[0.3333333333333333,\"#9c179e\"],[0.4444444444444444,\"#bd3786\"],[0.5555555555555556,\"#d8576b\"],[0.6666666666666666,\"#ed7953\"],[0.7777777777777778,\"#fb9f3a\"],[0.8888888888888888,\"#fdca26\"],[1.0,\"#f0f921\"]],\"sequentialminus\":[[0.0,\"#0d0887\"],[0.1111111111111111,\"#46039f\"],[0.2222222222222222,\"#7201a8\"],[0.3333333333333333,\"#9c179e\"],[0.4444444444444444,\"#bd3786\"],[0.5555555555555556,\"#d8576b\"],[0.6666666666666666,\"#ed7953\"],[0.7777777777777778,\"#fb9f3a\"],[0.8888888888888888,\"#fdca26\"],[1.0,\"#f0f921\"]]},\"colorway\":[\"#636efa\",\"#EF553B\",\"#00cc96\",\"#ab63fa\",\"#FFA15A\",\"#19d3f3\",\"#FF6692\",\"#B6E880\",\"#FF97FF\",\"#FECB52\"],\"font\":{\"color\":\"#2a3f5f\"},\"geo\":{\"bgcolor\":\"white\",\"lakecolor\":\"white\",\"landcolor\":\"#E5ECF6\",\"showlakes\":true,\"showland\":true,\"subunitcolor\":\"white\"},\"hoverlabel\":{\"align\":\"left\"},\"hovermode\":\"closest\",\"mapbox\":{\"style\":\"light\"},\"paper_bgcolor\":\"white\",\"plot_bgcolor\":\"#E5ECF6\",\"polar\":{\"angularaxis\":{\"gridcolor\":\"white\",\"linecolor\":\"white\",\"ticks\":\"\"},\"bgcolor\":\"#E5ECF6\",\"radialaxis\":{\"gridcolor\":\"white\",\"linecolor\":\"white\",\"ticks\":\"\"}},\"scene\":{\"xaxis\":{\"backgroundcolor\":\"#E5ECF6\",\"gridcolor\":\"white\",\"gridwidth\":2,\"linecolor\":\"white\",\"showbackground\":true,\"ticks\":\"\",\"zerolinecolor\":\"white\"},\"yaxis\":{\"backgroundcolor\":\"#E5ECF6\",\"gridcolor\":\"white\",\"gridwidth\":2,\"linecolor\":\"white\",\"showbackground\":true,\"ticks\":\"\",\"zerolinecolor\":\"white\"},\"zaxis\":{\"backgroundcolor\":\"#E5ECF6\",\"gridcolor\":\"white\",\"gridwidth\":2,\"linecolor\":\"white\",\"showbackground\":true,\"ticks\":\"\",\"zerolinecolor\":\"white\"}},\"shapedefaults\":{\"line\":{\"color\":\"#2a3f5f\"}},\"ternary\":{\"aaxis\":{\"gridcolor\":\"white\",\"linecolor\":\"white\",\"ticks\":\"\"},\"baxis\":{\"gridcolor\":\"white\",\"linecolor\":\"white\",\"ticks\":\"\"},\"bgcolor\":\"#E5ECF6\",\"caxis\":{\"gridcolor\":\"white\",\"linecolor\":\"white\",\"ticks\":\"\"}},\"title\":{\"x\":0.05},\"xaxis\":{\"automargin\":true,\"gridcolor\":\"white\",\"linecolor\":\"white\",\"ticks\":\"\",\"title\":{\"standoff\":15},\"zerolinecolor\":\"white\",\"zerolinewidth\":2},\"yaxis\":{\"automargin\":true,\"gridcolor\":\"white\",\"linecolor\":\"white\",\"ticks\":\"\",\"title\":{\"standoff\":15},\"zerolinecolor\":\"white\",\"zerolinewidth\":2}}},\"annotations\":[{\"font\":{\"size\":16},\"showarrow\":false,\"text\":\"Escolas P\\u00fablicas\",\"x\":0.225,\"xanchor\":\"center\",\"xref\":\"paper\",\"y\":1.0,\"yanchor\":\"bottom\",\"yref\":\"paper\"},{\"font\":{\"size\":16},\"showarrow\":false,\"text\":\"Escolas Privadas\",\"x\":0.775,\"xanchor\":\"center\",\"xref\":\"paper\",\"y\":1.0,\"yanchor\":\"bottom\",\"yref\":\"paper\"}],\"font\":{\"size\":12},\"title\":{\"font\":{\"size\":22},\"text\":\"Na sua resid\\u00eancia tem acesso \\u00e0 Internet?\",\"x\":0.5},\"uniformtext\":{\"minsize\":14,\"mode\":\"hide\"}},                        {\"responsive\": true}                    ).then(function(){\n",
              "                            \n",
              "var gd = document.getElementById('f9e7e5db-4db0-427a-81b0-50581385997e');\n",
              "var x = new MutationObserver(function (mutations, observer) {{\n",
              "        var display = window.getComputedStyle(gd).display;\n",
              "        if (!display || display === 'none') {{\n",
              "            console.log([gd, 'removed!']);\n",
              "            Plotly.purge(gd);\n",
              "            observer.disconnect();\n",
              "        }}\n",
              "}});\n",
              "\n",
              "// Listen for the removal of the full notebook cells\n",
              "var notebookContainer = gd.closest('#notebook-container');\n",
              "if (notebookContainer) {{\n",
              "    x.observe(notebookContainer, {childList: true});\n",
              "}}\n",
              "\n",
              "// Listen for the clearing of the current output cell\n",
              "var outputEl = gd.closest('.output');\n",
              "if (outputEl) {{\n",
              "    x.observe(outputEl, {childList: true});\n",
              "}}\n",
              "\n",
              "                        })                };                            </script>        </div>\n",
              "</body>\n",
              "</html>"
            ]
          },
          "metadata": {}
        }
      ]
    }
  ]
}